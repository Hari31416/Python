{
 "cells": [
  {
   "cell_type": "code",
   "execution_count": 6,
   "metadata": {},
   "outputs": [],
   "source": [
    "#Variables we shall use throughout the game\n",
    "import random\n",
    "suits = ('Hearts', 'Diamonds', 'Spades', 'Clubs')\n",
    "ranks = ('Two', 'Three', 'Four', 'Five', 'Six', 'Seven', 'Eight', 'Nine', 'Ten', 'Jack', 'Queen', 'King', 'Ace')\n",
    "values = {'Two':2, 'Three':3, 'Four':4, 'Five':5, 'Six':6, 'Seven':7, 'Eight':8, 'Nine':9, 'Ten':10, 'Jack':10,\n",
    "         'Queen':10, 'King':10, 'Ace':11}"
   ]
  },
  {
   "cell_type": "code",
   "execution_count": 7,
   "metadata": {},
   "outputs": [],
   "source": [
    "class Card():\n",
    "    \n",
    "    def __init__(self, suit, rank):\n",
    "        \"\"\"Creating a card\"\"\"\n",
    "        self.suit = suit\n",
    "        self.rank = rank\n",
    "        self.value = values[rank]\n",
    "        \n",
    "    def __str__(self):\n",
    "        return f\"{self.rank} of {self.suit}\""
   ]
  },
  {
   "cell_type": "code",
   "execution_count": 3,
   "metadata": {},
   "outputs": [],
   "source": [
    "card1 = Card('Heart', 'Three')"
   ]
  },
  {
   "cell_type": "code",
   "execution_count": 4,
   "metadata": {},
   "outputs": [
    {
     "data": {
      "text/plain": [
       "3"
      ]
     },
     "execution_count": 4,
     "metadata": {},
     "output_type": "execute_result"
    }
   ],
   "source": [
    "card1.value"
   ]
  },
  {
   "cell_type": "code",
   "execution_count": 200,
   "metadata": {},
   "outputs": [],
   "source": [
    "class Deck():\n",
    "    \n",
    "    def __init__(self):\n",
    "        \"\"\"Craeting the deck\"\"\"\n",
    "        self.cards = []\n",
    "        \n",
    "        for suit in suits:\n",
    "            for rank in ranks:\n",
    "                self.cards.append(Card(suit, rank))\n",
    "        print('Deck created!')\n",
    "                \n",
    "    def shuffle(self):\n",
    "        \"\"\"Shuffles the deck\"\"\"\n",
    "        random.shuffle(self.cards)\n",
    "        print(\"Deck shuffled!\")\n",
    "    \n",
    "    def draw_cards(self):\n",
    "        \"\"\"Drawing a card\"\"\"\n",
    "        print(\"Drawing one card and giving it to the \")\n",
    "        return self.cards.pop(0)\n",
    "    "
   ]
  },
  {
   "cell_type": "code",
   "execution_count": 286,
   "metadata": {},
   "outputs": [],
   "source": [
    "class Hand():\n",
    "    def __init__(self):\n",
    "        self.all_cards = []\n",
    "        self.values_cards = []\n",
    "        \n",
    "    def add_to_hand(self):\n",
    "        self.all_cards.append(deck.draw_cards())\n",
    "        self.values_cards.append(self.all_cards[-1].value)\n",
    "    \n",
    "    def adjust_for_ace(self):\n",
    "        return sum(self.values_cards)-10\n",
    "    \n",
    "    def value_hand(self):\n",
    "        return sum(self.values_cards)\n",
    "        "
   ]
  },
  {
   "cell_type": "code",
   "execution_count": 287,
   "metadata": {
    "scrolled": true
   },
   "outputs": [
    {
     "name": "stdout",
     "output_type": "stream",
     "text": [
      "Deck created!\n",
      "Deck shuffled!\n",
      "Drawing one card and giving it to the \n",
      "Drawing one card and giving it to the \n",
      "Drawing one card and giving it to the \n",
      "Drawing one card and giving it to the \n",
      "Four of Clubs\n",
      "Jack of Diamonds\n",
      "Four of Hearts\n",
      "Queen of Diamonds\n",
      "Drawing one card and giving it to the \n",
      "Drawing one card and giving it to the \n",
      "Drawing one card and giving it to the \n",
      "Drawing one card and giving it to the \n",
      "Six of Diamonds\n",
      "Ace of Hearts\n",
      "Four of Diamonds\n",
      "Five of Diamonds\n"
     ]
    }
   ],
   "source": [
    "deck = Deck()\n",
    "deck.shuffle()\n",
    "\n",
    "my_hand = Hand()\n",
    "\n",
    "my_hand.add_to_hand()\n",
    "my_hand.add_to_hand()\n",
    "my_hand.add_to_hand()\n",
    "my_hand.add_to_hand()\n",
    "for card in my_hand.all_cards:\n",
    "    print(card)\n",
    "    \n",
    "his_hand = Hand()\n",
    "his_hand.add_to_hand()\n",
    "his_hand.add_to_hand()\n",
    "his_hand.add_to_hand()\n",
    "his_hand.add_to_hand()\n",
    "for card in his_hand.all_cards:\n",
    "    print(card)"
   ]
  },
  {
   "cell_type": "code",
   "execution_count": 189,
   "metadata": {},
   "outputs": [
    {
     "data": {
      "text/plain": [
       "4"
      ]
     },
     "execution_count": 189,
     "metadata": {},
     "output_type": "execute_result"
    }
   ],
   "source": [
    "\n",
    "len(my_hand.all_cards)"
   ]
  },
  {
   "cell_type": "code",
   "execution_count": 288,
   "metadata": {},
   "outputs": [
    {
     "data": {
      "text/plain": [
       "16"
      ]
     },
     "execution_count": 288,
     "metadata": {},
     "output_type": "execute_result"
    }
   ],
   "source": [
    "his_hand.adjust_for_ace()"
   ]
  },
  {
   "cell_type": "code",
   "execution_count": 280,
   "metadata": {},
   "outputs": [
    {
     "data": {
      "text/plain": [
       "1"
      ]
     },
     "execution_count": 280,
     "metadata": {},
     "output_type": "execute_result"
    }
   ],
   "source": [
    "my_hand.all_cards[1].value"
   ]
  },
  {
   "cell_type": "code",
   "execution_count": 281,
   "metadata": {},
   "outputs": [
    {
     "data": {
      "text/plain": [
       "[8, 11, 3, 4]"
      ]
     },
     "execution_count": 281,
     "metadata": {},
     "output_type": "execute_result"
    }
   ],
   "source": [
    "my_hand.values_cards"
   ]
  },
  {
   "cell_type": "code",
   "execution_count": 289,
   "metadata": {},
   "outputs": [
    {
     "data": {
      "text/plain": [
       "26"
      ]
     },
     "execution_count": 289,
     "metadata": {},
     "output_type": "execute_result"
    }
   ],
   "source": [
    "his_hand.value_hand()"
   ]
  },
  {
   "cell_type": "code",
   "execution_count": 267,
   "metadata": {},
   "outputs": [
    {
     "data": {
      "text/plain": [
       "32"
      ]
     },
     "execution_count": 267,
     "metadata": {},
     "output_type": "execute_result"
    }
   ],
   "source": [
    "my_hand.value_hand()"
   ]
  },
  {
   "cell_type": "code",
   "execution_count": 193,
   "metadata": {
    "scrolled": false
   },
   "outputs": [
    {
     "name": "stdout",
     "output_type": "stream",
     "text": [
      "Drawing one card!\n"
     ]
    },
    {
     "data": {
      "text/plain": [
       "[3, 4, 10, 8, 5, 10]"
      ]
     },
     "execution_count": 193,
     "metadata": {},
     "output_type": "execute_result"
    }
   ],
   "source": [
    "my_hand.add_to_hand()\n",
    "my_hand.values_cards"
   ]
  },
  {
   "cell_type": "code",
   "execution_count": 195,
   "metadata": {},
   "outputs": [
    {
     "data": {
      "text/plain": [
       "30"
      ]
     },
     "execution_count": 195,
     "metadata": {},
     "output_type": "execute_result"
    }
   ],
   "source": [
    "my_hand.value_hand()\n",
    "my_hand.adjust_for_ace()"
   ]
  },
  {
   "cell_type": "code",
   "execution_count": 206,
   "metadata": {
    "scrolled": true
   },
   "outputs": [
    {
     "name": "stdout",
     "output_type": "stream",
     "text": [
      "Drawing one card and giving it to the \n",
      "Player\n"
     ]
    }
   ],
   "source": [
    "my_hand.add_to_hand()\n",
    "print(\"Player\")"
   ]
  },
  {
   "cell_type": "code",
   "execution_count": 152,
   "metadata": {},
   "outputs": [
    {
     "data": {
      "text/plain": [
       "86"
      ]
     },
     "execution_count": 152,
     "metadata": {},
     "output_type": "execute_result"
    }
   ],
   "source": [
    "my_hand.add_values()\n",
    "my_hand.value_hand()"
   ]
  },
  {
   "cell_type": "code",
   "execution_count": 239,
   "metadata": {},
   "outputs": [],
   "source": [
    "class Account():\n",
    "    \"\"\"\n",
    "    Class for the account of the player.\n",
    "    \"\"\"\n",
    "    \n",
    "    def __init__(self, balance, name = \"Player\"):\n",
    "        self.name = name\n",
    "        self.balance = balance\n",
    "        \n",
    "    def credit(self, amount):\n",
    "        self.balance += amount\n",
    "        print(f\"New balance is {self.balance}.\")\n",
    "        \n",
    "    def debit(self, amount):\n",
    "        if amount>self.balance:\n",
    "            print(\"Not enough chips!\")\n",
    "            print(f\"Your current chip balance is {self.balance}.\")\n",
    "            return True\n",
    "        else:\n",
    "            self.balance -= amount\n",
    "            print(f\"Your remaining balance is: {self.balance}.\")\n",
    "            return False\n",
    "        \n",
    "    def __str__(self):\n",
    "        return f\"{self.name.title()} has total chip {self.balance}.\""
   ]
  },
  {
   "cell_type": "code",
   "execution_count": 108,
   "metadata": {},
   "outputs": [],
   "source": [
    "player_account = Account(1000, 'hari')"
   ]
  },
  {
   "cell_type": "code",
   "execution_count": 110,
   "metadata": {},
   "outputs": [
    {
     "name": "stdout",
     "output_type": "stream",
     "text": [
      "Not enough chips!\n",
      "Your current chip balance is 980.\n"
     ]
    },
    {
     "data": {
      "text/plain": [
       "True"
      ]
     },
     "execution_count": 110,
     "metadata": {},
     "output_type": "execute_result"
    }
   ],
   "source": [
    "player_account.debit(1000)\n"
   ]
  },
  {
   "cell_type": "code",
   "execution_count": 319,
   "metadata": {},
   "outputs": [],
   "source": [
    "class Actions():\n",
    "    \"\"\"\n",
    "    Class for the possible action a player can take during the game\n",
    "    \"\"\"\n",
    "    def __init__(self):\n",
    "        pass\n",
    "        \n",
    "    def ask_bet(self):\n",
    "        while True:\n",
    "            bet = input('How many chips do you want to bet? ')\n",
    "            if not bet.isdigit():\n",
    "                print(\"Please provide valid responce\")\n",
    "            else:\n",
    "                bet = int(bet)\n",
    "                break\n",
    "        return int(bet)\n",
    "    \n",
    "    def ask_balance(self):\n",
    "        while True:\n",
    "            balance = input(\"What is your current chip? \")\n",
    "            if not balance.isdigit():\n",
    "                print(\"Please provide valid responce\")\n",
    "            else:\n",
    "                balnce = int(balance)\n",
    "                break\n",
    "        return int(balance)\n",
    "    \n",
    "    def start_play(self):\n",
    "        while True:\n",
    "            value = input(\"Do you want to play Blackjack? Type 'y' for Yes and 'n' for No \")\n",
    "            if value.lower() not in ['y', 'n']:\n",
    "                print(\"Please provide valid responce\")\n",
    "            else:\n",
    "                break\n",
    "        return value.lower() == 'y'\n",
    "    \n",
    "    def stand_or_hit(self):\n",
    "        while True:\n",
    "            decision = input(\"Do you want to 'stand' or 'hit'? Type 's' or 'h': \")\n",
    "            if decision.lower() not in ['s', 'h']:\n",
    "                print(\"Please type 's' or 'h' for stand or hit.\")\n",
    "            else:\n",
    "                break\n",
    "        return decision.lower()\n",
    "    \n",
    "    def adjust_ace(self):\n",
    "        while True:\n",
    "            decision = input(\"Do you want to the value of Ace as 1 or 11? \")\n",
    "            if decision.lower() not in ['1', '11']:\n",
    "                print(\"Please type '1' or '11'.\")\n",
    "            else:\n",
    "                break\n",
    "        return decision == '1'\n"
   ]
  },
  {
   "cell_type": "code",
   "execution_count": 253,
   "metadata": {},
   "outputs": [],
   "source": [
    "action = Actions()"
   ]
  },
  {
   "cell_type": "code",
   "execution_count": 254,
   "metadata": {},
   "outputs": [
    {
     "name": "stdout",
     "output_type": "stream",
     "text": [
      "Do you want to the value of Ace as 1 or 11? 12\n",
      "Please type '1' or '11'.\n",
      "Do you want to the value of Ace as 1 or 11? 1\n"
     ]
    },
    {
     "data": {
      "text/plain": [
       "True"
      ]
     },
     "execution_count": 254,
     "metadata": {},
     "output_type": "execute_result"
    }
   ],
   "source": [
    "action.adjust_ace()"
   ]
  },
  {
   "cell_type": "code",
   "execution_count": null,
   "metadata": {},
   "outputs": [],
   "source": []
  },
  {
   "cell_type": "code",
   "execution_count": null,
   "metadata": {},
   "outputs": [],
   "source": []
  },
  {
   "cell_type": "code",
   "execution_count": 342,
   "metadata": {},
   "outputs": [
    {
     "name": "stdout",
     "output_type": "stream",
     "text": [
      "Do you want to play Blackjack? Type 'y' for Yes and 'n' for No y\n",
      "What is your current chip? 11\n",
      "How many chips do you want to bet? 1\n",
      "Your remaining balance is: 10.\n",
      "Deck created!\n",
      "Deck shuffled!\n",
      "Drawing one card and giving it to the \n",
      "Player\n",
      "Drawing one card and giving it to the \n",
      "Player\n",
      "Drawing one card and giving it to the \n",
      "Dealer\n",
      "Drawing one card and giving it to the \n",
      "Dealer\n",
      "\n",
      "Your cards are:\n",
      "Two of Spades\n",
      "Two of Clubs\n",
      "\n",
      "Dealer's first card is:\n",
      "Four of Spades\n",
      "You have 0 Ace cards.\n",
      "Do you want to 'stand' or 'hit'? Type 's' or 'h': s\n",
      "You chose to stand.\n",
      "\n",
      "Dealer's second card is\n",
      "Seven of Clubs\n",
      "Your hand value is 4.\n",
      "Dealer's hand value is 11.\n",
      "Dealer has 0 Ace card.\n",
      "Drawing one card and giving it to the \n",
      "Dealer\n",
      "The new card is Ten of Spades.\n",
      "\n",
      "Dealer's new hand value is 11.\n",
      "Dealer has 0 Ace card.\n",
      "\n",
      "Dealer's new hand value is 21.\n",
      "You Won!\n",
      "An amount of 2 chips has been credited to your account.\n",
      "New balance is 12.\n"
     ]
    }
   ],
   "source": [
    "#Start the game\n",
    "game = Actions()\n",
    "game_on = game.start_play()\n",
    "while game_on:\n",
    "    #Ask for balance to creat a player account\n",
    "    balance = game.ask_balance()\n",
    "    player_account = Account(balance)\n",
    "    \n",
    "    #Ask for bet and debit it from the player account\n",
    "    #Keep asking if bet is greater than balance\n",
    "    flage = True\n",
    "    while flage:\n",
    "        bet = game.ask_bet()\n",
    "        flage = player_account.debit(bet)\n",
    "        \n",
    "    #Creating the deck\n",
    "    deck = Deck()\n",
    "    #Shuffling the deck\n",
    "    deck.shuffle()\n",
    "    \n",
    "    #Creating hands\n",
    "    player_hand = Hand()\n",
    "    dealer_hand = Hand()\n",
    "    \n",
    "    #Passing cards to the Player\n",
    "    player_hand.add_to_hand()\n",
    "    print(\"Player\")\n",
    "    player_hand.add_to_hand()\n",
    "    print(\"Player\")\n",
    "    \n",
    "    #Passing cards to the Dealer\n",
    "    dealer_hand.add_to_hand()\n",
    "    print(\"Dealer\")\n",
    "    dealer_hand.add_to_hand()\n",
    "    print(\"Dealer\")\n",
    "    \n",
    "    while True:\n",
    "        #Show player's cards\n",
    "        print(\"\\nYour cards are:\")\n",
    "        for card in player_hand.all_cards:\n",
    "            print(card)\n",
    "        #Show first of dealer's cards\n",
    "        print(\"\\nDealer's first card is:\")\n",
    "        print(dealer_hand.all_cards[0])\n",
    "        \n",
    "        #count number of Aces for player\n",
    "        count_ace_pl = 0\n",
    "        for card in player_hand.all_cards:\n",
    "            if card.rank == 'Ace':\n",
    "                count_ace_pl += 1\n",
    "        print(f\"You have {count_ace_pl} Ace cards.\")\n",
    "        \n",
    "        #Ask for Ace adjustment\n",
    "        if count_ace_pl != 0:\n",
    "            adjust = game.adjust_ace()\n",
    "        else:\n",
    "            adjust = False\n",
    "        \n",
    "        #Chose which hand value to show depending on Ace adjustment\n",
    "        if adjust:\n",
    "            player_show_hand = player_hand.adjust_for_ace()\n",
    "        else:\n",
    "            player_show_hand = player_hand.value_hand()\n",
    "        \n",
    "        #Ask to stand or hit\n",
    "        decision = game.stand_or_hit()\n",
    "        \n",
    "        #If player decides to stand\n",
    "        if decision == 's':\n",
    "            print(\"You chose to stand.\")\n",
    "            print(f\"\\nDealer's second card is\")\n",
    "            \n",
    "            # Show dealer's second card\n",
    "            print(dealer_hand.all_cards[1])\n",
    "            \n",
    "            #Show hand values\n",
    "            print(f\"Your hand value is {player_show_hand}.\")\n",
    "            print(f\"Dealer's hand value is {dealer_hand.value_hand()}.\")\n",
    "            \n",
    "            \n",
    "            # Checck if the Player hass already lost\n",
    "            if player_show_hand >= 21:\n",
    "                print(\"You Lost!\")\n",
    "                player_account.debit(bet)\n",
    "                break\n",
    "                \n",
    "            #If Dealer's hand value is less than 17 keep drawing cards\n",
    "            flage = True\n",
    "            while flage:\n",
    "                count_ace_dl = 0\n",
    "                for card in dealer_hand.all_cards:\n",
    "                    if card.rank == 'Ace':\n",
    "                        count_ace_dl += 1\n",
    "                print(f\"Dealer has {count_ace_dl} Ace card.\")\n",
    "                if dealer_show_hand>=21 and count_ace_dl != 0:\n",
    "                    dealer_show_hand -= 10\n",
    "                    count_ace_dl -= count_ace_dl\n",
    "                else:\n",
    "                    dealer_show_hand = dealer_hand.value_hand()  \n",
    "                print(f\"\\nDealer's new hand value is {dealer_show_hand}.\")\n",
    "                if dealer_show_hand<17:\n",
    "                    dealer_hand.add_to_hand()\n",
    "                    print(\"Dealer\")\n",
    "                    print(f\"The new card is {dealer_hand.all_cards[-1]}.\")\n",
    "                else:\n",
    "                    flage = False\n",
    "            \n",
    "            \n",
    "            \n",
    "            #Check who wins\n",
    "            if dealer_show_hand>=21:\n",
    "                #Dealers busts if no Ace cards\n",
    "                print(\"You Won!\")\n",
    "                print(f\"An amount of {bet*2} chips has been credited to your account.\")\n",
    "                #Adding two times the bet money into player's account\n",
    "                player_account.credit(bet*2)\n",
    "            \n",
    "            elif player_show_hand<dealer_show_hand:\n",
    "                #Player loses or busts\n",
    "                print(\"You Lost!\")\n",
    "                print(f\"Your current chip balance is {player_account.balance}\")\n",
    "                break\n",
    "            elif player_show_hand>dealer_show_hand:\n",
    "                print(\"You Won!\")\n",
    "                print(f\"An amount of {bet*2} chips credited to your account.\")\n",
    "                #Adding two times the bet money into player's account\n",
    "                player_account.credit(bet*2)\n",
    "            elif player_show_hand ==dealer_show_hand:\n",
    "                print(\"Its a draw!\")\n",
    "                print(f\"An amount of {bet} chips has been credited to your account.\")\n",
    "                #Adding two times the bet money into player's account\n",
    "                player_account.credit(bet)\n",
    "                break\n",
    "        break       \n",
    "        #If player decides to hit\n",
    "        if decision == 'h': \n",
    "            break\n",
    "    break"
   ]
  },
  {
   "cell_type": "markdown",
   "metadata": {},
   "source": [
    "# "
   ]
  }
 ],
 "metadata": {
  "kernelspec": {
   "display_name": "Python 3",
   "language": "python",
   "name": "python3"
  },
  "language_info": {
   "codemirror_mode": {
    "name": "ipython",
    "version": 3
   },
   "file_extension": ".py",
   "mimetype": "text/x-python",
   "name": "python",
   "nbconvert_exporter": "python",
   "pygments_lexer": "ipython3",
   "version": "3.8.5"
  }
 },
 "nbformat": 4,
 "nbformat_minor": 4
}
