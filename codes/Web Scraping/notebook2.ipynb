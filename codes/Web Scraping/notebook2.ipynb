{
 "cells": [
  {
   "cell_type": "code",
   "execution_count": 1,
   "metadata": {},
   "outputs": [],
   "source": [
    "import requests\n",
    "import bs4\n",
    "\n",
    "code = requests.get(\"https://en.wikipedia.org/wiki/Starsight\")\n",
    "soup = bs4.BeautifulSoup(code.text, \"lxml\")"
   ]
  },
  {
   "cell_type": "code",
   "execution_count": 2,
   "metadata": {},
   "outputs": [],
   "source": [
    "images = soup.select(\".image\")"
   ]
  },
  {
   "cell_type": "code",
   "execution_count": 3,
   "metadata": {},
   "outputs": [],
   "source": [
    "image = images[0]"
   ]
  },
  {
   "cell_type": "code",
   "execution_count": 4,
   "metadata": {},
   "outputs": [
    {
     "name": "stdout",
     "output_type": "stream",
     "text": [
      "<a class=\"image\" href=\"/wiki/File:Starsight.jpg\"><img alt=\"Starsight.jpg\" data-file-height=\"390\" data-file-width=\"259\" decoding=\"async\" height=\"331\" src=\"//upload.wikimedia.org/wikipedia/en/thumb/e/ed/Starsight.jpg/220px-Starsight.jpg\" srcset=\"//upload.wikimedia.org/wikipedia/en/e/ed/Starsight.jpg 1.5x\" width=\"220\"/></a>\n"
     ]
    }
   ],
   "source": [
    "print(image)"
   ]
  },
  {
   "cell_type": "code",
   "execution_count": 5,
   "metadata": {},
   "outputs": [],
   "source": [
    "img = requests.get(\"https://coppermind.net/w/images/thumb/Cytonic_US_cover.jpg/200px-Cytonic_US_cover.jpg\")"
   ]
  },
  {
   "cell_type": "code",
   "execution_count": 18,
   "metadata": {},
   "outputs": [
    {
     "data": {
      "text/plain": [
       "'c:\\\\Users\\\\harik\\\\Desktop\\\\Python\\\\codes\\\\Web Scraping'"
      ]
     },
     "execution_count": 18,
     "metadata": {},
     "output_type": "execute_result"
    }
   ],
   "source": [
    "pwd"
   ]
  },
  {
   "cell_type": "code",
   "execution_count": 14,
   "metadata": {},
   "outputs": [
    {
     "data": {
      "text/plain": [
       "<Response [200]>"
      ]
     },
     "execution_count": 14,
     "metadata": {},
     "output_type": "execute_result"
    }
   ],
   "source": [
    "img"
   ]
  },
  {
   "cell_type": "code",
   "execution_count": 27,
   "metadata": {},
   "outputs": [
    {
     "name": "stdout",
     "output_type": "stream",
     "text": [
      "c:\\Users\\harik\\Desktop\n"
     ]
    }
   ],
   "source": [
    "cd c:\\\\Users\\\\harik\\\\Desktop"
   ]
  },
  {
   "cell_type": "code",
   "execution_count": 28,
   "metadata": {},
   "outputs": [],
   "source": [
    "with open('img2.jpg', 'wb') as f:\n",
    "    f.write(img.content)\n"
   ]
  },
  {
   "cell_type": "code",
   "execution_count": 21,
   "metadata": {},
   "outputs": [],
   "source": [
    "code = requests.get(\"https://coppermind.net/wiki/Cytonic_(book)\")\n",
    "soup = bs4.BeautifulSoup(code.text, \"lxml\")\n",
    "images = soup.select(\".image\")\n",
    "image = images[0]"
   ]
  },
  {
   "cell_type": "code",
   "execution_count": 25,
   "metadata": {},
   "outputs": [
    {
     "data": {
      "text/plain": [
       "<a class=\"image\" href=\"/wiki/File:Cytonic_US_cover.jpg\"><img alt=\"Cytonic US cover.jpg\" data-file-height=\"1800\" data-file-width=\"1200\" decoding=\"async\" height=\"300\" src=\"/w/images/thumb/Cytonic_US_cover.jpg/200px-Cytonic_US_cover.jpg\" srcset=\"/w/images/thumb/Cytonic_US_cover.jpg/300px-Cytonic_US_cover.jpg 1.5x, /w/images/thumb/Cytonic_US_cover.jpg/400px-Cytonic_US_cover.jpg 2x\" width=\"200\"/></a>"
      ]
     },
     "execution_count": 25,
     "metadata": {},
     "output_type": "execute_result"
    }
   ],
   "source": [
    "image"
   ]
  },
  {
   "cell_type": "code",
   "execution_count": null,
   "metadata": {},
   "outputs": [],
   "source": [
    "https://coppermind.net/w/images/thumb/Cytonic_US_cover.jpg/200px-Cytonic_US_cover.jpg"
   ]
  }
 ],
 "metadata": {
  "kernelspec": {
   "display_name": "Python 3",
   "language": "python",
   "name": "python3"
  },
  "language_info": {
   "codemirror_mode": {
    "name": "ipython",
    "version": 3
   },
   "file_extension": ".py",
   "mimetype": "text/x-python",
   "name": "python",
   "nbconvert_exporter": "python",
   "pygments_lexer": "ipython3",
   "version": "3.8.5"
  }
 },
 "nbformat": 4,
 "nbformat_minor": 2
}
