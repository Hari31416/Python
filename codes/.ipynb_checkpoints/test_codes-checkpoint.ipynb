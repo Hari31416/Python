{
 "cells": [
  {
   "cell_type": "code",
   "execution_count": 41,
   "metadata": {},
   "outputs": [],
   "source": [
    "import time\n",
    "\n",
    "def isprime(num):\n",
    "    \"\"\"\n",
    "    Returns true if num is prime\n",
    "    \"\"\"\n",
    "    if num == 0 or num == 1 or not num % 2:\n",
    "        if num == 2:\n",
    "            return True\n",
    "        return False\n",
    "    for i in range(3, num, 2):\n",
    "        if num % i == 0:\n",
    "            return False\n",
    "    return True"
   ]
  },
  {
   "cell_type": "code",
   "execution_count": 42,
   "metadata": {},
   "outputs": [
    {
     "name": "stdout",
     "output_type": "stream",
     "text": [
      "True\n",
      "210.2501392364502\n"
     ]
    }
   ],
   "source": [
    "t0 = time.time()\n",
    "print(isprime(4256233))\n",
    "t1 = time.time()\n",
    "print((t1-t0)*1000)"
   ]
  },
  {
   "cell_type": "code",
   "execution_count": 14,
   "metadata": {},
   "outputs": [],
   "source": [
    "from math import sqrt\n",
    "def isprime(num):\n",
    "    \"\"\"\n",
    "    Returns true if num is prime\n",
    "    \"\"\"\n",
    "    if num == 0 or num == 1 or num % 2 == 0:\n",
    "        if num == 2:\n",
    "            return True\n",
    "        return False\n",
    "    for i in range(3, int(sqrt(num)) + 1, 2):\n",
    "        if num % i == 0:\n",
    "            return False\n",
    "    return True\n",
    "\n",
    "def return_m_prime(m):\n",
    "    \"\"\"\n",
    "    Returns mth prime\n",
    "    \"\"\"\n",
    "    primes = [2]\n",
    "    i = 1\n",
    "    while len(primes) < m:\n",
    "        i = i + 2\n",
    "        if isprime(i):\n",
    "            primes.append(i)\n",
    "    return primes[m - 1]"
   ]
  },
  {
   "cell_type": "code",
   "execution_count": 15,
   "metadata": {},
   "outputs": [
    {
     "data": {
      "text/plain": [
       "4256233"
      ]
     },
     "execution_count": 15,
     "metadata": {},
     "output_type": "execute_result"
    }
   ],
   "source": [
    "return_m_prime(300000)"
   ]
  },
  {
   "cell_type": "code",
   "execution_count": 69,
   "metadata": {},
   "outputs": [],
   "source": [
    "import time\n",
    "from math import sqrt\n",
    "def isprime(num):\n",
    "    \"\"\"\n",
    "    Returns true if num is prime\n",
    "    \"\"\"\n",
    "    if num == 0 or num == 1 or num % 2 == 0:\n",
    "        if num == 2:\n",
    "            return True\n",
    "        return False\n",
    "    for i in range(3, int(sqrt(num)) + 1, 2):\n",
    "        if num % i == 0:\n",
    "            return False\n",
    "    return True"
   ]
  },
  {
   "cell_type": "code",
   "execution_count": null,
   "metadata": {},
   "outputs": [],
   "source": []
  },
  {
   "cell_type": "code",
   "execution_count": null,
   "metadata": {},
   "outputs": [],
   "source": []
  }
 ],
 "metadata": {
  "kernelspec": {
   "display_name": "Python 3",
   "language": "python",
   "name": "python3"
  },
  "language_info": {
   "codemirror_mode": {
    "name": "ipython",
    "version": 3
   },
   "file_extension": ".py",
   "mimetype": "text/x-python",
   "name": "python",
   "nbconvert_exporter": "python",
   "pygments_lexer": "ipython3",
   "version": "3.8.5"
  }
 },
 "nbformat": 4,
 "nbformat_minor": 4
}
