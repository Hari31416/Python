{
 "cells": [
  {
   "cell_type": "code",
   "execution_count": 9,
   "metadata": {},
   "outputs": [
    {
     "data": {
      "text/plain": [
       "'JkHsGwKwD'"
      ]
     },
     "execution_count": 9,
     "metadata": {},
     "output_type": "execute_result"
    }
   ],
   "source": [
    "def myfunc(st):\n",
    "    st_new = ''\n",
    "    st_list = []\n",
    "    for n in range(0, len(st)-1):\n",
    "        if n%2 == 0:\n",
    "          st_list.append(st[n].upper())\n",
    "        else:\n",
    "            st_list.append(st[n].lower())\n",
    "    for letter in st_list:\n",
    "        st_new = st_new + letter\n",
    "    return st_new\n",
    "st = myfunc('jkhsgwkwdg')\n",
    "st"
   ]
  },
  {
   "cell_type": "code",
   "execution_count": 5,
   "metadata": {},
   "outputs": [
    {
     "data": {
      "text/plain": [
       "'ha'"
      ]
     },
     "execution_count": 5,
     "metadata": {},
     "output_type": "execute_result"
    }
   ],
   "source": [
    "st1 = ['h', 'a']\n",
    "st = ''\n",
    "for n in st1:\n",
    "    st = st + n\n",
    "st\n",
    "join()"
   ]
  }
 ],
 "metadata": {
  "kernelspec": {
   "display_name": "Python 3",
   "language": "python",
   "name": "python3"
  },
  "language_info": {
   "codemirror_mode": {
    "name": "ipython",
    "version": 3
   },
   "file_extension": ".py",
   "mimetype": "text/x-python",
   "name": "python",
   "nbconvert_exporter": "python",
   "pygments_lexer": "ipython3",
   "version": "3.8.5"
  }
 },
 "nbformat": 4,
 "nbformat_minor": 4
}
