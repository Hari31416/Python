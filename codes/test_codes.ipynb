{
 "cells": [
  {
   "cell_type": "code",
   "execution_count": 5,
   "metadata": {},
   "outputs": [],
   "source": [
    "\n",
    "def isprime(num):\n",
    "    \"\"\"\n",
    "    Returns true if num is prime\n",
    "    \"\"\"\n",
    "    if num == 0 or num == 1 or not num % 2:\n",
    "        if num == 2:\n",
    "            return True\n",
    "        return False\n",
    "    for i in range(3, num + 1, 2):\n",
    "        if num % i == 0:\n",
    "            return False\n",
    "    return True"
   ]
  },
  {
   "cell_type": "code",
   "execution_count": 14,
   "metadata": {},
   "outputs": [
    {
     "output_type": "execute_result",
     "data": {
      "text/plain": [
       "True"
      ]
     },
     "metadata": {},
     "execution_count": 14
    }
   ],
   "source": [
    "isprime(104729)"
   ]
  },
  {
   "cell_type": "code",
   "execution_count": 11,
   "metadata": {},
   "outputs": [],
   "source": [
    "from math import sqrt\n",
    "def isprime(num):\n",
    "    \"\"\"\n",
    "    Returns true if num is prime\n",
    "    \"\"\"\n",
    "    if num == 0 or num == 1 or not num % 2:\n",
    "        if num == 2:\n",
    "            return True\n",
    "        return False\n",
    "    for i in range(3, int(sqrt(num)) + 1, 2):\n",
    "        if num % i == 0:\n",
    "            return False\n",
    "    return True\n",
    "\n",
    "def return_m_prime(m):\n",
    "    \"\"\"\n",
    "    Returns mth prime\n",
    "    \"\"\"\n",
    "    primes = [2]\n",
    "    i = 1\n",
    "    while len(primes) < m:\n",
    "        i = i + 2\n",
    "        if isprime(i):\n",
    "            primes.append(i)\n",
    "    return primes[m - 1]"
   ]
  },
  {
   "cell_type": "code",
   "execution_count": 13,
   "metadata": {},
   "outputs": [
    {
     "output_type": "execute_result",
     "data": {
      "text/plain": [
       "104729"
      ]
     },
     "metadata": {},
     "execution_count": 13
    }
   ],
   "source": [
    "return_m_prime(10000)"
   ]
  },
  {
   "cell_type": "code",
   "execution_count": null,
   "metadata": {},
   "outputs": [],
   "source": []
  }
 ],
 "metadata": {
  "kernelspec": {
   "name": "python385jvsc74a57bd0ce44b17c45080b8f56a19c9450d52461d624c968fcd959bb1916985c5ffa2b94",
   "display_name": "Python 3.8.5 64-bit ('base': conda)"
  },
  "language_info": {
   "codemirror_mode": {
    "name": "ipython",
    "version": 3
   },
   "file_extension": ".py",
   "mimetype": "text/x-python",
   "name": "python",
   "nbconvert_exporter": "python",
   "pygments_lexer": "ipython3",
   "version": "3.8.5"
  }
 },
 "nbformat": 4,
 "nbformat_minor": 4
}