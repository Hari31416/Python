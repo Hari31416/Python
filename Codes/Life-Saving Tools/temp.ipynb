{
 "cells": [
  {
   "cell_type": "code",
   "execution_count": 1,
   "metadata": {},
   "outputs": [],
   "source": [
    "from Files import FileOrganizer"
   ]
  },
  {
   "cell_type": "code",
   "execution_count": 2,
   "metadata": {},
   "outputs": [],
   "source": [
    "fo = FileOrganizer(\"/users/harik/Downloads\")"
   ]
  },
  {
   "cell_type": "code",
   "execution_count": 3,
   "metadata": {},
   "outputs": [
    {
     "data": {
      "text/plain": [
       "['txt']"
      ]
     },
     "execution_count": 3,
     "metadata": {},
     "output_type": "execute_result"
    }
   ],
   "source": [
    "fo.get_file_formats()"
   ]
  },
  {
   "cell_type": "code",
   "execution_count": 4,
   "metadata": {},
   "outputs": [
    {
     "data": {
      "text/plain": [
       "['amazon-appstore-release-9-2530-1-2-207511-0-2000969810.apk',\n",
       " 'Books in 2021.twbx',\n",
       " 'desktop.ini',\n",
       " 'ms-dotnettools.csharp-1.23.12.vsix',\n",
       " 'myplaces.kml',\n",
       " 'psiphon3.exe.orig',\n",
       " 'p_set_4.fls']"
      ]
     },
     "execution_count": 4,
     "metadata": {},
     "output_type": "execute_result"
    }
   ],
   "source": [
    "fo.files_in_directory()"
   ]
  },
  {
   "cell_type": "code",
   "execution_count": 5,
   "metadata": {},
   "outputs": [
    {
     "data": {
      "text/plain": [
       "['Applications',\n",
       " 'Archives',\n",
       " 'bootstrap-5.1.3-dist',\n",
       " 'Documents',\n",
       " 'Ebooks',\n",
       " 'Images',\n",
       " 'PDFs',\n",
       " 'Python',\n",
       " 'Text and Data',\n",
       " 'Torrents',\n",
       " 'Videos']"
      ]
     },
     "execution_count": 5,
     "metadata": {},
     "output_type": "execute_result"
    }
   ],
   "source": [
    "fo.folders_in_directory()"
   ]
  },
  {
   "cell_type": "code",
   "execution_count": 1,
   "metadata": {},
   "outputs": [],
   "source": [
    "from Notification import Notification"
   ]
  },
  {
   "cell_type": "code",
   "execution_count": 2,
   "metadata": {},
   "outputs": [],
   "source": [
    "n = Notification()"
   ]
  },
  {
   "cell_type": "code",
   "execution_count": 3,
   "metadata": {},
   "outputs": [],
   "source": [
    "n.play_n_stop(tool='pygame')"
   ]
  },
  {
   "cell_type": "code",
   "execution_count": 4,
   "metadata": {},
   "outputs": [
    {
     "name": "stdout",
     "output_type": "stream",
     "text": [
      "SM2a46e55a3a894dd8830b50d3285a7832\n"
     ]
    }
   ],
   "source": [
    "n.send_text(\"Hello World\")"
   ]
  },
  {
   "cell_type": "code",
   "execution_count": 7,
   "metadata": {},
   "outputs": [
    {
     "name": "stdout",
     "output_type": "stream",
     "text": [
      "SM865e8ad2f31f48f38fdbdd725f6fa5ee\n"
     ]
    }
   ],
   "source": [
    "from twilio.rest import Client \n",
    "from decouple import config\n",
    " \n",
    "account_sid = config(\"TWILIO_ACCOUNT_SID\")\n",
    "auth_token = config(\"TWILIO_AUTH_TOKEN\")\n",
    "client = Client(account_sid, auth_token)\n",
    " \n",
    "message = client.messages.create( \n",
    "                              from_='whatsapp:+14155238886',  \n",
    "                              body='Hello! This is an automated message.',      \n",
    "                              to='whatsapp:+919838422934' \n",
    "                          ) \n",
    " \n",
    "print(message.sid)"
   ]
  },
  {
   "cell_type": "code",
   "execution_count": 4,
   "metadata": {},
   "outputs": [
    {
     "name": "stdout",
     "output_type": "stream",
     "text": [
      "SMfea8665c7d88403196a8b4b019c8869f\n"
     ]
    }
   ],
   "source": [
    "try:\n",
    "    1/0\n",
    "except Exception as e:\n",
    "    text = str(e)\n",
    "    n.send_whatsapp_text(\"Error: \\n\" + text)\n",
    "    "
   ]
  },
  {
   "cell_type": "code",
   "execution_count": null,
   "metadata": {},
   "outputs": [],
   "source": []
  }
 ],
 "metadata": {
  "interpreter": {
   "hash": "ce44b17c45080b8f56a19c9450d52461d624c968fcd959bb1916985c5ffa2b94"
  },
  "kernelspec": {
   "display_name": "Python 3.8.5 64-bit ('base': conda)",
   "language": "python",
   "name": "python3"
  },
  "language_info": {
   "codemirror_mode": {
    "name": "ipython",
    "version": 3
   },
   "file_extension": ".py",
   "mimetype": "text/x-python",
   "name": "python",
   "nbconvert_exporter": "python",
   "pygments_lexer": "ipython3",
   "version": "3.8.5"
  },
  "orig_nbformat": 4
 },
 "nbformat": 4,
 "nbformat_minor": 2
}
