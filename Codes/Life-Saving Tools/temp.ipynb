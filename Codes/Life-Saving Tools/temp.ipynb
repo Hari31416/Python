{
 "cells": [
  {
   "cell_type": "code",
   "execution_count": 1,
   "metadata": {},
   "outputs": [],
   "source": [
    "from Files import FileOrganizer"
   ]
  },
  {
   "cell_type": "code",
   "execution_count": 22,
   "metadata": {},
   "outputs": [],
   "source": [
    "fo = FileOrganizer(\"/users/harik/Downloads\")"
   ]
  },
  {
   "cell_type": "code",
   "execution_count": 3,
   "metadata": {},
   "outputs": [
    {
     "data": {
      "text/plain": [
       "['txt']"
      ]
     },
     "execution_count": 3,
     "metadata": {},
     "output_type": "execute_result"
    }
   ],
   "source": [
    "fo.get_file_formats()"
   ]
  },
  {
   "cell_type": "code",
   "execution_count": 4,
   "metadata": {},
   "outputs": [
    {
     "data": {
      "text/plain": [
       "['amazon-appstore-release-9-2530-1-2-207511-0-2000969810.apk',\n",
       " 'Books in 2021.twbx',\n",
       " 'desktop.ini',\n",
       " 'ms-dotnettools.csharp-1.23.12.vsix',\n",
       " 'myplaces.kml',\n",
       " 'psiphon3.exe.orig',\n",
       " 'p_set_4.fls']"
      ]
     },
     "execution_count": 4,
     "metadata": {},
     "output_type": "execute_result"
    }
   ],
   "source": [
    "fo.files_in_directory()"
   ]
  },
  {
   "cell_type": "code",
   "execution_count": 5,
   "metadata": {},
   "outputs": [
    {
     "data": {
      "text/plain": [
       "['Applications',\n",
       " 'Archives',\n",
       " 'bootstrap-5.1.3-dist',\n",
       " 'Documents',\n",
       " 'Ebooks',\n",
       " 'Images',\n",
       " 'PDFs',\n",
       " 'Python',\n",
       " 'Text and Data',\n",
       " 'Torrents',\n",
       " 'Videos']"
      ]
     },
     "execution_count": 5,
     "metadata": {},
     "output_type": "execute_result"
    }
   ],
   "source": [
    "fo.folders_in_directory()"
   ]
  },
  {
   "cell_type": "code",
   "execution_count": 1,
   "metadata": {},
   "outputs": [],
   "source": [
    "from Notification import Notification"
   ]
  },
  {
   "cell_type": "code",
   "execution_count": 2,
   "metadata": {},
   "outputs": [],
   "source": [
    "n = Notification()"
   ]
  },
  {
   "cell_type": "code",
   "execution_count": 13,
   "metadata": {},
   "outputs": [],
   "source": [
    "n.play_n_stop(tool='pygame')"
   ]
  },
  {
   "cell_type": "code",
   "execution_count": 4,
   "metadata": {},
   "outputs": [
    {
     "name": "stdout",
     "output_type": "stream",
     "text": [
      "SM2a46e55a3a894dd8830b50d3285a7832\n"
     ]
    }
   ],
   "source": [
    "n.send_text(\"Hello World\")"
   ]
  },
  {
   "cell_type": "code",
   "execution_count": 4,
   "metadata": {},
   "outputs": [
    {
     "data": {
      "text/plain": [
       "50"
      ]
     },
     "execution_count": 4,
     "metadata": {},
     "output_type": "execute_result"
    }
   ],
   "source": [
    "641123-641073"
   ]
  },
  {
   "cell_type": "code",
   "execution_count": 8,
   "metadata": {},
   "outputs": [
    {
     "name": "stdout",
     "output_type": "stream",
     "text": [
      "MMd30e39dd9ffa451aa6f52084e3676d3d\n"
     ]
    }
   ],
   "source": [
    "media = \"https://www.youtube.com/watch?v=Rt_UqUm38BI\"\n",
    "n.send_whatsapp_text(\"Doctor Strange\", media)"
   ]
  },
  {
   "cell_type": "code",
   "execution_count": 6,
   "metadata": {},
   "outputs": [
    {
     "name": "stdout",
     "output_type": "stream",
     "text": [
      "MM6a1a68aa6b3945bb8bd4d362d74e9fdc\n"
     ]
    }
   ],
   "source": [
    "n.send_text(\"Hello World\", media)"
   ]
  },
  {
   "cell_type": "code",
   "execution_count": 7,
   "metadata": {},
   "outputs": [
    {
     "data": {
      "text/plain": [
       "399"
      ]
     },
     "execution_count": 7,
     "metadata": {},
     "output_type": "execute_result"
    }
   ],
   "source": [
    "1023-624"
   ]
  },
  {
   "cell_type": "code",
   "execution_count": 24,
   "metadata": {},
   "outputs": [
    {
     "name": "stdout",
     "output_type": "stream",
     "text": [
      "AnyDesk.exe\n",
      "basic-miktex-21.6-x64.exe\n",
      "Cloudflare_WARP_Release-x64.msi\n",
      "geckodriver.exe\n",
      "install-tl-windows.exe\n",
      "KindleForPC-installer-1.31.60170.exe\n",
      "matlab_R2021a_win64.exe\n",
      "MediaCreationTool21H1.exe\n",
      "mongodb-windows-x86_64-5.0.4-signed.msi\n",
      "mongosh-1.1.6-x64.msi\n",
      "mysql-installer-web-community-8.0.27.1.msi\n",
      "OfficeSetup.exe\n",
      "pdfsam-4.2.6.msi\n",
      "Postman-win64-9.3.1-Setup.exe\n",
      "psiphon3.exe\n",
      "strawberry-perl-5.32.1.1-64bit.msi\n",
      "TableauPublicDesktop-64bit-2021-4-2.exe\n",
      "TeamsSetupx64_s_8D96F7A609E2F16-7-0_.exe\n",
      "Teams_windows_x64.exe\n",
      "Texmaker_5.0.4_Win_x64.msi\n",
      "torbrowser-install-win64-10.5.5_en-US.exe\n",
      "tsetup-x64.2.9.0.exe\n",
      "TurboVPN_setup.exe\n",
      "vs_community__1306170947.1599466576 (1).exe\n",
      "vs_community__1306170947.1599466576.exe\n",
      "Windows10Upgrade9252.exe\n",
      "WindowsPCHealthCheckSetup.msi\n"
     ]
    }
   ],
   "source": [
    "print('\\n'.join(fo.files_in_directory()))"
   ]
  },
  {
   "cell_type": "code",
   "execution_count": 25,
   "metadata": {},
   "outputs": [
    {
     "name": "stdout",
     "output_type": "stream",
     "text": [
      "SM1f64dcd8f2054007859abe4c28adf775\n"
     ]
    }
   ],
   "source": [
    "# fo.change_directory(\"Applications\")\n",
    "n.send_whatsapp_text('\\n'.join(fo.files_in_directory()))"
   ]
  },
  {
   "cell_type": "code",
   "execution_count": 9,
   "metadata": {},
   "outputs": [],
   "source": [
    "from decouple import config\n",
    "from twilio.rest import Client\n",
    "def send_whatsapp_text(message):\n",
    "    account_sid = config(\"TWILIO_ACCOUNT_SID\")\n",
    "    auth_token = config(\"TWILIO_AUTH_TOKEN\")\n",
    "    client = Client(account_sid, auth_token)\n",
    "\n",
    "    message = client.messages.create(\n",
    "        from_=\"whatsapp:+14155238886\",\n",
    "        body=message,\n",
    "        media_url = \"https://images.unsplash.com/photo-1641081526673-bbadf060f59e?ixlib=rb-1.2.1&ixid=MnwxMjA3fDB8MHxwaG90by1wYWdlfHx8fGVufDB8fHx8&auto=format&fit=crop&w=435&q=80\",\n",
    "        to=\"whatsapp:+919838422934\",\n",
    "    )\n",
    "    return message.sid"
   ]
  },
  {
   "cell_type": "markdown",
   "metadata": {},
   "source": []
  },
  {
   "cell_type": "code",
   "execution_count": 38,
   "metadata": {},
   "outputs": [
    {
     "data": {
      "text/plain": [
       "-50"
      ]
     },
     "execution_count": 38,
     "metadata": {},
     "output_type": "execute_result"
    }
   ],
   "source": [
    "641123-641173"
   ]
  },
  {
   "cell_type": "code",
   "execution_count": null,
   "metadata": {},
   "outputs": [],
   "source": []
  }
 ],
 "metadata": {
  "interpreter": {
   "hash": "ce44b17c45080b8f56a19c9450d52461d624c968fcd959bb1916985c5ffa2b94"
  },
  "kernelspec": {
   "display_name": "Python 3.8.5 64-bit ('base': conda)",
   "language": "python",
   "name": "python3"
  },
  "language_info": {
   "codemirror_mode": {
    "name": "ipython",
    "version": 3
   },
   "file_extension": ".py",
   "mimetype": "text/x-python",
   "name": "python",
   "nbconvert_exporter": "python",
   "pygments_lexer": "ipython3",
   "version": "3.8.5"
  },
  "orig_nbformat": 4
 },
 "nbformat": 4,
 "nbformat_minor": 2
}
