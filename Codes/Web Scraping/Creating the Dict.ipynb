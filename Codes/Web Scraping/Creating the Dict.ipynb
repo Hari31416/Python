{
 "cells": [
  {
   "cell_type": "code",
   "execution_count": 277,
   "metadata": {},
   "outputs": [],
   "source": [
    "import pandas as pd\n",
    "import matplotlib.pyplot as plt\n",
    "import seaborn as sns\n",
    "import numpy as np\n",
    "import requests\n",
    "import bs4        "
   ]
  },
  {
   "cell_type": "code",
   "execution_count": 278,
   "metadata": {},
   "outputs": [],
   "source": [
    "link = 'https://raw.githubusercontent.com/Hari31416/JavaScript/main/Codes/Vocabulary.html'\n",
    "code = requests.get(link)\n",
    "soup = bs4.BeautifulSoup(code.text, \"lxml\")"
   ]
  },
  {
   "cell_type": "code",
   "execution_count": 279,
   "metadata": {},
   "outputs": [],
   "source": [
    "word = []\n",
    "meaning = []\n",
    "priority = []\n",
    "priority2 = []\n",
    "for m in range(0, 564, 1):\n",
    "    if m%2==0:\n",
    "        word.append(soup.select('.noteText')[m].text.strip())\n",
    "        priority.append(soup.select('.noteHeading')[m].text.strip().split(' ')[1])\n",
    "    else:\n",
    "        priority2.append(soup.select('.noteHeading')[m].text.strip().split(' ')[1])\n",
    "        meaning.append(soup.select('.noteText')[m].text.strip())"
   ]
  },
  {
   "cell_type": "code",
   "execution_count": 337,
   "metadata": {},
   "outputs": [],
   "source": [
    "df2 = pd.DataFrame(data = [word, meaning, priority]).transpose()"
   ]
  },
  {
   "cell_type": "code",
   "execution_count": 338,
   "metadata": {},
   "outputs": [],
   "source": [
    "df2.columns = ['Word', 'Meaning', 'Priorty']"
   ]
  },
  {
   "cell_type": "code",
   "execution_count": 339,
   "metadata": {},
   "outputs": [],
   "source": [
    "df3 = df2[df2['Priorty'] == '-']"
   ]
  },
  {
   "cell_type": "code",
   "execution_count": 340,
   "metadata": {},
   "outputs": [],
   "source": [
    "# df3"
   ]
  },
  {
   "cell_type": "code",
   "execution_count": 341,
   "metadata": {},
   "outputs": [],
   "source": [
    "def change(value):\n",
    "    if value == '-':\n",
    "        return np.nan\n",
    "    else:\n",
    "        return value"
   ]
  },
  {
   "cell_type": "code",
   "execution_count": 342,
   "metadata": {},
   "outputs": [],
   "source": [
    "df2['Priorty'] =df2['Priorty'].apply(change)"
   ]
  },
  {
   "cell_type": "code",
   "execution_count": 343,
   "metadata": {},
   "outputs": [],
   "source": [
    "df2 = df2.dropna()"
   ]
  },
  {
   "cell_type": "code",
   "execution_count": 344,
   "metadata": {},
   "outputs": [
    {
     "data": {
      "text/plain": [
       "Index(['Word', 'Meaning', 'Priorty'], dtype='object')"
      ]
     },
     "execution_count": 344,
     "metadata": {},
     "output_type": "execute_result"
    }
   ],
   "source": [
    "df2.columns"
   ]
  },
  {
   "cell_type": "code",
   "execution_count": 345,
   "metadata": {},
   "outputs": [
    {
     "data": {
      "text/plain": [
       "array(['(blue)', '(green)', '(yellow)'], dtype=object)"
      ]
     },
     "execution_count": 345,
     "metadata": {},
     "output_type": "execute_result"
    }
   ],
   "source": [
    "df2['Priorty'].unique()"
   ]
  },
  {
   "cell_type": "code",
   "execution_count": 346,
   "metadata": {},
   "outputs": [],
   "source": [
    "final = []\n",
    "for prior in priority2:\n",
    "    if prior== '-':\n",
    "        pass\n",
    "    else:\n",
    "        final.append(prior)"
   ]
  },
  {
   "cell_type": "code",
   "execution_count": 347,
   "metadata": {},
   "outputs": [
    {
     "data": {
      "text/plain": [
       "52"
      ]
     },
     "execution_count": 347,
     "metadata": {},
     "output_type": "execute_result"
    }
   ],
   "source": [
    "len(final)"
   ]
  },
  {
   "cell_type": "code",
   "execution_count": 348,
   "metadata": {},
   "outputs": [
    {
     "data": {
      "text/plain": [
       "52"
      ]
     },
     "execution_count": 348,
     "metadata": {},
     "output_type": "execute_result"
    }
   ],
   "source": [
    "len(df3)"
   ]
  },
  {
   "cell_type": "code",
   "execution_count": 349,
   "metadata": {},
   "outputs": [],
   "source": [
    "df3['Priorty'] = final"
   ]
  },
  {
   "cell_type": "code",
   "execution_count": 350,
   "metadata": {},
   "outputs": [],
   "source": [
    "df3.columns = ['Meaning', 'Word', 'Priorty']"
   ]
  },
  {
   "cell_type": "code",
   "execution_count": 351,
   "metadata": {},
   "outputs": [],
   "source": [
    "df = pd.concat([df2, df3])"
   ]
  },
  {
   "cell_type": "code",
   "execution_count": 352,
   "metadata": {},
   "outputs": [
    {
     "data": {
      "text/html": [
       "<div>\n",
       "<style scoped>\n",
       "    .dataframe tbody tr th:only-of-type {\n",
       "        vertical-align: middle;\n",
       "    }\n",
       "\n",
       "    .dataframe tbody tr th {\n",
       "        vertical-align: top;\n",
       "    }\n",
       "\n",
       "    .dataframe thead th {\n",
       "        text-align: right;\n",
       "    }\n",
       "</style>\n",
       "<table border=\"1\" class=\"dataframe\">\n",
       "  <thead>\n",
       "    <tr style=\"text-align: right;\">\n",
       "      <th></th>\n",
       "      <th>Word</th>\n",
       "      <th>Meaning</th>\n",
       "      <th>Priorty</th>\n",
       "    </tr>\n",
       "  </thead>\n",
       "  <tbody>\n",
       "    <tr>\n",
       "      <th>0</th>\n",
       "      <td>dour</td>\n",
       "      <td>relentlessly severe, stern, or gloomy in manne...</td>\n",
       "      <td>(blue)</td>\n",
       "    </tr>\n",
       "    <tr>\n",
       "      <th>1</th>\n",
       "      <td>droll</td>\n",
       "      <td>curious or unusual in a way that provokes dry ...</td>\n",
       "      <td>(green)</td>\n",
       "    </tr>\n",
       "    <tr>\n",
       "      <th>2</th>\n",
       "      <td>diddle</td>\n",
       "      <td>cheat or swindle (someone) so as to deprive th...</td>\n",
       "      <td>(yellow)</td>\n",
       "    </tr>\n",
       "    <tr>\n",
       "      <th>3</th>\n",
       "      <td>mallet</td>\n",
       "      <td>a hammer with a large, usually wooden head</td>\n",
       "      <td>(blue)</td>\n",
       "    </tr>\n",
       "    <tr>\n",
       "      <th>4</th>\n",
       "      <td>chisel.</td>\n",
       "      <td>a long-bladed hand tool with a bevelled cuttin...</td>\n",
       "      <td>(blue)</td>\n",
       "    </tr>\n",
       "    <tr>\n",
       "      <th>5</th>\n",
       "      <td>lithe</td>\n",
       "      <td>(especially of a person's body) thin, supple, ...</td>\n",
       "      <td>(green)</td>\n",
       "    </tr>\n",
       "    <tr>\n",
       "      <th>6</th>\n",
       "      <td>smother</td>\n",
       "      <td>kill (someone) by covering their nose and mout...</td>\n",
       "      <td>(green)</td>\n",
       "    </tr>\n",
       "    <tr>\n",
       "      <th>7</th>\n",
       "      <td>fumble</td>\n",
       "      <td>do or handle something clumsily\\n\\n           ...</td>\n",
       "      <td>(green)</td>\n",
       "    </tr>\n",
       "    <tr>\n",
       "      <th>8</th>\n",
       "      <td>revulsion.</td>\n",
       "      <td>a sense of disgust and loathing</td>\n",
       "      <td>(green)</td>\n",
       "    </tr>\n",
       "    <tr>\n",
       "      <th>9</th>\n",
       "      <td>grotesque</td>\n",
       "      <td>comically or repulsively ugly or distorted</td>\n",
       "      <td>(blue)</td>\n",
       "    </tr>\n",
       "  </tbody>\n",
       "</table>\n",
       "</div>"
      ],
      "text/plain": [
       "         Word                                            Meaning   Priorty\n",
       "0        dour  relentlessly severe, stern, or gloomy in manne...    (blue)\n",
       "1       droll  curious or unusual in a way that provokes dry ...   (green)\n",
       "2      diddle  cheat or swindle (someone) so as to deprive th...  (yellow)\n",
       "3      mallet         a hammer with a large, usually wooden head    (blue)\n",
       "4     chisel.  a long-bladed hand tool with a bevelled cuttin...    (blue)\n",
       "5       lithe  (especially of a person's body) thin, supple, ...   (green)\n",
       "6     smother  kill (someone) by covering their nose and mout...   (green)\n",
       "7      fumble  do or handle something clumsily\\n\\n           ...   (green)\n",
       "8  revulsion.                    a sense of disgust and loathing   (green)\n",
       "9   grotesque         comically or repulsively ugly or distorted    (blue)"
      ]
     },
     "execution_count": 352,
     "metadata": {},
     "output_type": "execute_result"
    }
   ],
   "source": [
    "df.head(10)"
   ]
  },
  {
   "cell_type": "code",
   "execution_count": 353,
   "metadata": {
    "scrolled": true
   },
   "outputs": [
    {
     "data": {
      "text/plain": [
       "Word                                             camaraderie\n",
       "Meaning    mutual trust and friendship among people who s...\n",
       "Priorty                                               (blue)\n",
       "Name: 234, dtype: object"
      ]
     },
     "execution_count": 353,
     "metadata": {},
     "output_type": "execute_result"
    }
   ],
   "source": [
    "df.iloc[-10]"
   ]
  },
  {
   "cell_type": "code",
   "execution_count": 354,
   "metadata": {},
   "outputs": [],
   "source": [
    "def change_priority(value):\n",
    "    if value == '(green)':\n",
    "        return 'first'\n",
    "    elif value == '(yellow)':\n",
    "        return 'second'\n",
    "    else:\n",
    "        return 'third'"
   ]
  },
  {
   "cell_type": "code",
   "execution_count": 355,
   "metadata": {},
   "outputs": [],
   "source": [
    "def clean(word):\n",
    "    pattern = r'\\w*'\n",
    "    the_list =  re.findall(pattern, word)\n",
    "    for char in the_list:\n",
    "        if char!='':\n",
    "            return char.title()"
   ]
  },
  {
   "cell_type": "code",
   "execution_count": 356,
   "metadata": {},
   "outputs": [
    {
     "data": {
      "text/plain": [
       "'Hello'"
      ]
     },
     "execution_count": 356,
     "metadata": {},
     "output_type": "execute_result"
    }
   ],
   "source": [
    "clean('  !hello -_..,_? ')"
   ]
  },
  {
   "cell_type": "code",
   "execution_count": 357,
   "metadata": {},
   "outputs": [],
   "source": [
    "df['Word']=df['Word'].apply(clean)"
   ]
  },
  {
   "cell_type": "code",
   "execution_count": 358,
   "metadata": {},
   "outputs": [],
   "source": [
    "df['Priorty'] = df['Priorty'].apply(change_priority)"
   ]
  },
  {
   "cell_type": "code",
   "execution_count": 359,
   "metadata": {},
   "outputs": [
    {
     "data": {
      "text/plain": [
       "0       third\n",
       "1       first\n",
       "2      second\n",
       "3       third\n",
       "4       third\n",
       "        ...  \n",
       "239     first\n",
       "240     third\n",
       "241     third\n",
       "242     third\n",
       "243     third\n",
       "Name: Priorty, Length: 282, dtype: object"
      ]
     },
     "execution_count": 359,
     "metadata": {},
     "output_type": "execute_result"
    }
   ],
   "source": [
    "df['Priorty']"
   ]
  },
  {
   "cell_type": "code",
   "execution_count": 360,
   "metadata": {},
   "outputs": [],
   "source": [
    "df['Meaning'] =  df['Meaning'].apply(lambda x:x.title())"
   ]
  },
  {
   "cell_type": "code",
   "execution_count": 361,
   "metadata": {},
   "outputs": [
    {
     "data": {
      "text/html": [
       "<div>\n",
       "<style scoped>\n",
       "    .dataframe tbody tr th:only-of-type {\n",
       "        vertical-align: middle;\n",
       "    }\n",
       "\n",
       "    .dataframe tbody tr th {\n",
       "        vertical-align: top;\n",
       "    }\n",
       "\n",
       "    .dataframe thead th {\n",
       "        text-align: right;\n",
       "    }\n",
       "</style>\n",
       "<table border=\"1\" class=\"dataframe\">\n",
       "  <thead>\n",
       "    <tr style=\"text-align: right;\">\n",
       "      <th></th>\n",
       "      <th>Word</th>\n",
       "      <th>Meaning</th>\n",
       "      <th>Priorty</th>\n",
       "    </tr>\n",
       "  </thead>\n",
       "  <tbody>\n",
       "    <tr>\n",
       "      <th>253</th>\n",
       "      <td>Penchant</td>\n",
       "      <td>A Strong Or Habitual Liking For Something Or T...</td>\n",
       "      <td>first</td>\n",
       "    </tr>\n",
       "    <tr>\n",
       "      <th>275</th>\n",
       "      <td>Capricious</td>\n",
       "      <td>Given To Sudden And Unaccountable Changes Of M...</td>\n",
       "      <td>third</td>\n",
       "    </tr>\n",
       "    <tr>\n",
       "      <th>71</th>\n",
       "      <td>Implacable</td>\n",
       "      <td>Unable To Be Stopped; Relentless</td>\n",
       "      <td>third</td>\n",
       "    </tr>\n",
       "  </tbody>\n",
       "</table>\n",
       "</div>"
      ],
      "text/plain": [
       "           Word                                            Meaning Priorty\n",
       "253    Penchant  A Strong Or Habitual Liking For Something Or T...   first\n",
       "275  Capricious  Given To Sudden And Unaccountable Changes Of M...   third\n",
       "71   Implacable                   Unable To Be Stopped; Relentless   third"
      ]
     },
     "execution_count": 361,
     "metadata": {},
     "output_type": "execute_result"
    }
   ],
   "source": [
    "df[df.duplicated()]"
   ]
  },
  {
   "cell_type": "code",
   "execution_count": 362,
   "metadata": {},
   "outputs": [],
   "source": [
    "df = df.drop_duplicates()"
   ]
  },
  {
   "cell_type": "code",
   "execution_count": 363,
   "metadata": {},
   "outputs": [
    {
     "data": {
      "text/html": [
       "<div>\n",
       "<style scoped>\n",
       "    .dataframe tbody tr th:only-of-type {\n",
       "        vertical-align: middle;\n",
       "    }\n",
       "\n",
       "    .dataframe tbody tr th {\n",
       "        vertical-align: top;\n",
       "    }\n",
       "\n",
       "    .dataframe thead th {\n",
       "        text-align: right;\n",
       "    }\n",
       "</style>\n",
       "<table border=\"1\" class=\"dataframe\">\n",
       "  <thead>\n",
       "    <tr style=\"text-align: right;\">\n",
       "      <th></th>\n",
       "      <th>Word</th>\n",
       "      <th>Meaning</th>\n",
       "      <th>Priorty</th>\n",
       "    </tr>\n",
       "  </thead>\n",
       "  <tbody>\n",
       "    <tr>\n",
       "      <th>262</th>\n",
       "      <td>Emaciated</td>\n",
       "      <td>Abnormally Thin Or Weak, Especially Because Of...</td>\n",
       "      <td>third</td>\n",
       "    </tr>\n",
       "    <tr>\n",
       "      <th>263</th>\n",
       "      <td>Frivolity</td>\n",
       "      <td>Lack Of Seriousness; Light-Heartedness</td>\n",
       "      <td>first</td>\n",
       "    </tr>\n",
       "    <tr>\n",
       "      <th>62</th>\n",
       "      <td>Droll</td>\n",
       "      <td>Curious Or Unusual In A Way That Provokes Dry ...</td>\n",
       "      <td>third</td>\n",
       "    </tr>\n",
       "    <tr>\n",
       "      <th>68</th>\n",
       "      <td>Robust</td>\n",
       "      <td>Strong And Healthy; Vigorous\\n            Stur...</td>\n",
       "      <td>first</td>\n",
       "    </tr>\n",
       "    <tr>\n",
       "      <th>76</th>\n",
       "      <td>Dour</td>\n",
       "      <td>Relentlessly Severe, Stern, Or Gloomy In Manne...</td>\n",
       "      <td>third</td>\n",
       "    </tr>\n",
       "    <tr>\n",
       "      <th>210</th>\n",
       "      <td>Frivolous</td>\n",
       "      <td>Not Having Any Serious Purpose Or Value</td>\n",
       "      <td>third</td>\n",
       "    </tr>\n",
       "  </tbody>\n",
       "</table>\n",
       "</div>"
      ],
      "text/plain": [
       "          Word                                            Meaning Priorty\n",
       "262  Emaciated  Abnormally Thin Or Weak, Especially Because Of...   third\n",
       "263  Frivolity             Lack Of Seriousness; Light-Heartedness   first\n",
       "62       Droll  Curious Or Unusual In A Way That Provokes Dry ...   third\n",
       "68      Robust  Strong And Healthy; Vigorous\\n            Stur...   first\n",
       "76        Dour  Relentlessly Severe, Stern, Or Gloomy In Manne...   third\n",
       "210  Frivolous            Not Having Any Serious Purpose Or Value   third"
      ]
     },
     "execution_count": 363,
     "metadata": {},
     "output_type": "execute_result"
    }
   ],
   "source": [
    "df[df['Word'].duplicated()]"
   ]
  },
  {
   "cell_type": "code",
   "execution_count": 364,
   "metadata": {},
   "outputs": [
    {
     "data": {
      "text/html": [
       "<div>\n",
       "<style scoped>\n",
       "    .dataframe tbody tr th:only-of-type {\n",
       "        vertical-align: middle;\n",
       "    }\n",
       "\n",
       "    .dataframe tbody tr th {\n",
       "        vertical-align: top;\n",
       "    }\n",
       "\n",
       "    .dataframe thead th {\n",
       "        text-align: right;\n",
       "    }\n",
       "</style>\n",
       "<table border=\"1\" class=\"dataframe\">\n",
       "  <thead>\n",
       "    <tr style=\"text-align: right;\">\n",
       "      <th></th>\n",
       "      <th>Word</th>\n",
       "      <th>Meaning</th>\n",
       "      <th>Priorty</th>\n",
       "    </tr>\n",
       "  </thead>\n",
       "  <tbody>\n",
       "    <tr>\n",
       "      <th>0</th>\n",
       "      <td>Dour</td>\n",
       "      <td>Relentlessly Severe, Stern, Or Gloomy In Manne...</td>\n",
       "      <td>third</td>\n",
       "    </tr>\n",
       "    <tr>\n",
       "      <th>1</th>\n",
       "      <td>Droll</td>\n",
       "      <td>Curious Or Unusual In A Way That Provokes Dry ...</td>\n",
       "      <td>first</td>\n",
       "    </tr>\n",
       "    <tr>\n",
       "      <th>2</th>\n",
       "      <td>Diddle</td>\n",
       "      <td>Cheat Or Swindle (Someone) So As To Deprive Th...</td>\n",
       "      <td>second</td>\n",
       "    </tr>\n",
       "    <tr>\n",
       "      <th>3</th>\n",
       "      <td>Mallet</td>\n",
       "      <td>A Hammer With A Large, Usually Wooden Head</td>\n",
       "      <td>third</td>\n",
       "    </tr>\n",
       "    <tr>\n",
       "      <th>4</th>\n",
       "      <td>Chisel</td>\n",
       "      <td>A Long-Bladed Hand Tool With A Bevelled Cuttin...</td>\n",
       "      <td>third</td>\n",
       "    </tr>\n",
       "    <tr>\n",
       "      <th>...</th>\n",
       "      <td>...</td>\n",
       "      <td>...</td>\n",
       "      <td>...</td>\n",
       "    </tr>\n",
       "    <tr>\n",
       "      <th>239</th>\n",
       "      <td>Aptly</td>\n",
       "      <td>Appropriate Or Suitable In The Circumstances\\n...</td>\n",
       "      <td>first</td>\n",
       "    </tr>\n",
       "    <tr>\n",
       "      <th>240</th>\n",
       "      <td>Hymns</td>\n",
       "      <td>A Religious Song Or Poem Of Praise To God Or A...</td>\n",
       "      <td>third</td>\n",
       "    </tr>\n",
       "    <tr>\n",
       "      <th>241</th>\n",
       "      <td>Cerebral</td>\n",
       "      <td>Intellectual Rather Than Emotional Or Physical</td>\n",
       "      <td>third</td>\n",
       "    </tr>\n",
       "    <tr>\n",
       "      <th>242</th>\n",
       "      <td>Puddle</td>\n",
       "      <td>Small Pool Of Liquid, Especially Of Rainwater ...</td>\n",
       "      <td>third</td>\n",
       "    </tr>\n",
       "    <tr>\n",
       "      <th>243</th>\n",
       "      <td>Elicits</td>\n",
       "      <td>Evoke Or Draw Out (A Reaction, Answer, Or Fact...</td>\n",
       "      <td>third</td>\n",
       "    </tr>\n",
       "  </tbody>\n",
       "</table>\n",
       "<p>279 rows × 3 columns</p>\n",
       "</div>"
      ],
      "text/plain": [
       "         Word                                            Meaning Priorty\n",
       "0        Dour  Relentlessly Severe, Stern, Or Gloomy In Manne...   third\n",
       "1       Droll  Curious Or Unusual In A Way That Provokes Dry ...   first\n",
       "2      Diddle  Cheat Or Swindle (Someone) So As To Deprive Th...  second\n",
       "3      Mallet         A Hammer With A Large, Usually Wooden Head   third\n",
       "4      Chisel  A Long-Bladed Hand Tool With A Bevelled Cuttin...   third\n",
       "..        ...                                                ...     ...\n",
       "239     Aptly  Appropriate Or Suitable In The Circumstances\\n...   first\n",
       "240     Hymns  A Religious Song Or Poem Of Praise To God Or A...   third\n",
       "241  Cerebral     Intellectual Rather Than Emotional Or Physical   third\n",
       "242    Puddle  Small Pool Of Liquid, Especially Of Rainwater ...   third\n",
       "243   Elicits  Evoke Or Draw Out (A Reaction, Answer, Or Fact...   third\n",
       "\n",
       "[279 rows x 3 columns]"
      ]
     },
     "execution_count": 364,
     "metadata": {},
     "output_type": "execute_result"
    }
   ],
   "source": [
    "df"
   ]
  },
  {
   "cell_type": "code",
   "execution_count": 365,
   "metadata": {},
   "outputs": [],
   "source": [
    "df['Word'] = df['Word'].drop_duplicates()"
   ]
  },
  {
   "cell_type": "code",
   "execution_count": 366,
   "metadata": {},
   "outputs": [
    {
     "data": {
      "text/html": [
       "<div>\n",
       "<style scoped>\n",
       "    .dataframe tbody tr th:only-of-type {\n",
       "        vertical-align: middle;\n",
       "    }\n",
       "\n",
       "    .dataframe tbody tr th {\n",
       "        vertical-align: top;\n",
       "    }\n",
       "\n",
       "    .dataframe thead th {\n",
       "        text-align: right;\n",
       "    }\n",
       "</style>\n",
       "<table border=\"1\" class=\"dataframe\">\n",
       "  <thead>\n",
       "    <tr style=\"text-align: right;\">\n",
       "      <th></th>\n",
       "      <th>index</th>\n",
       "      <th>Word</th>\n",
       "      <th>Meaning</th>\n",
       "      <th>Priorty</th>\n",
       "    </tr>\n",
       "  </thead>\n",
       "  <tbody>\n",
       "    <tr>\n",
       "      <th>0</th>\n",
       "      <td>0</td>\n",
       "      <td>Dour</td>\n",
       "      <td>Relentlessly Severe, Stern, Or Gloomy In Manne...</td>\n",
       "      <td>third</td>\n",
       "    </tr>\n",
       "    <tr>\n",
       "      <th>1</th>\n",
       "      <td>1</td>\n",
       "      <td>Droll</td>\n",
       "      <td>Curious Or Unusual In A Way That Provokes Dry ...</td>\n",
       "      <td>first</td>\n",
       "    </tr>\n",
       "    <tr>\n",
       "      <th>2</th>\n",
       "      <td>2</td>\n",
       "      <td>Diddle</td>\n",
       "      <td>Cheat Or Swindle (Someone) So As To Deprive Th...</td>\n",
       "      <td>second</td>\n",
       "    </tr>\n",
       "    <tr>\n",
       "      <th>3</th>\n",
       "      <td>3</td>\n",
       "      <td>Mallet</td>\n",
       "      <td>A Hammer With A Large, Usually Wooden Head</td>\n",
       "      <td>third</td>\n",
       "    </tr>\n",
       "    <tr>\n",
       "      <th>4</th>\n",
       "      <td>4</td>\n",
       "      <td>Chisel</td>\n",
       "      <td>A Long-Bladed Hand Tool With A Bevelled Cuttin...</td>\n",
       "      <td>third</td>\n",
       "    </tr>\n",
       "    <tr>\n",
       "      <th>...</th>\n",
       "      <td>...</td>\n",
       "      <td>...</td>\n",
       "      <td>...</td>\n",
       "      <td>...</td>\n",
       "    </tr>\n",
       "    <tr>\n",
       "      <th>274</th>\n",
       "      <td>239</td>\n",
       "      <td>Aptly</td>\n",
       "      <td>Appropriate Or Suitable In The Circumstances\\n...</td>\n",
       "      <td>first</td>\n",
       "    </tr>\n",
       "    <tr>\n",
       "      <th>275</th>\n",
       "      <td>240</td>\n",
       "      <td>Hymns</td>\n",
       "      <td>A Religious Song Or Poem Of Praise To God Or A...</td>\n",
       "      <td>third</td>\n",
       "    </tr>\n",
       "    <tr>\n",
       "      <th>276</th>\n",
       "      <td>241</td>\n",
       "      <td>Cerebral</td>\n",
       "      <td>Intellectual Rather Than Emotional Or Physical</td>\n",
       "      <td>third</td>\n",
       "    </tr>\n",
       "    <tr>\n",
       "      <th>277</th>\n",
       "      <td>242</td>\n",
       "      <td>Puddle</td>\n",
       "      <td>Small Pool Of Liquid, Especially Of Rainwater ...</td>\n",
       "      <td>third</td>\n",
       "    </tr>\n",
       "    <tr>\n",
       "      <th>278</th>\n",
       "      <td>243</td>\n",
       "      <td>Elicits</td>\n",
       "      <td>Evoke Or Draw Out (A Reaction, Answer, Or Fact...</td>\n",
       "      <td>third</td>\n",
       "    </tr>\n",
       "  </tbody>\n",
       "</table>\n",
       "<p>279 rows × 4 columns</p>\n",
       "</div>"
      ],
      "text/plain": [
       "     index      Word                                            Meaning  \\\n",
       "0        0      Dour  Relentlessly Severe, Stern, Or Gloomy In Manne...   \n",
       "1        1     Droll  Curious Or Unusual In A Way That Provokes Dry ...   \n",
       "2        2    Diddle  Cheat Or Swindle (Someone) So As To Deprive Th...   \n",
       "3        3    Mallet         A Hammer With A Large, Usually Wooden Head   \n",
       "4        4    Chisel  A Long-Bladed Hand Tool With A Bevelled Cuttin...   \n",
       "..     ...       ...                                                ...   \n",
       "274    239     Aptly  Appropriate Or Suitable In The Circumstances\\n...   \n",
       "275    240     Hymns  A Religious Song Or Poem Of Praise To God Or A...   \n",
       "276    241  Cerebral     Intellectual Rather Than Emotional Or Physical   \n",
       "277    242    Puddle  Small Pool Of Liquid, Especially Of Rainwater ...   \n",
       "278    243   Elicits  Evoke Or Draw Out (A Reaction, Answer, Or Fact...   \n",
       "\n",
       "    Priorty  \n",
       "0     third  \n",
       "1     first  \n",
       "2    second  \n",
       "3     third  \n",
       "4     third  \n",
       "..      ...  \n",
       "274   first  \n",
       "275   third  \n",
       "276   third  \n",
       "277   third  \n",
       "278   third  \n",
       "\n",
       "[279 rows x 4 columns]"
      ]
     },
     "execution_count": 366,
     "metadata": {},
     "output_type": "execute_result"
    }
   ],
   "source": [
    "df.reset_index()"
   ]
  },
  {
   "cell_type": "code",
   "execution_count": 367,
   "metadata": {},
   "outputs": [],
   "source": [
    "df = df.dropna()"
   ]
  },
  {
   "cell_type": "code",
   "execution_count": 368,
   "metadata": {},
   "outputs": [],
   "source": [
    "df = df.sort_values('Word').reset_index().drop('index', axis = 1)"
   ]
  },
  {
   "cell_type": "code",
   "execution_count": 421,
   "metadata": {},
   "outputs": [],
   "source": [
    "for i in range(len(df)):\n",
    "    with open('text.txt', 'a+') as f:\n",
    "        #text.txt should be empty\n",
    "        try:\n",
    "            previous_word = df['Word'][i-1][0]\n",
    "        except:\n",
    "            pass\n",
    "        \n",
    "        current_word = df['Word'][i][0]\n",
    "        a = f\"<button class='word {df['Priorty'][i]}'>{df['Word'][i]}</button>\"\n",
    "        b = f\"<p class='meaning hidden'>{df['Meaning'][i]}</p>\"\n",
    "        c = \"<button class='close hidden'>harikesh</button>\"\n",
    "        d = f\"<h2 class='letter', id='{current_word}'\\\">{current_word}</h2>\"\n",
    "        \n",
    "        if previous_word==current_word:\n",
    "            \n",
    "            f.writelines( a+'\\n'+b+'\\n'+c+'\\n')\n",
    "        else:\n",
    "            f.writelines(d+'\\n'+ a+'\\n'+b+'\\n'+c+'\\n')"
   ]
  },
  {
   "cell_type": "code",
   "execution_count": null,
   "metadata": {},
   "outputs": [],
   "source": []
  }
 ],
 "metadata": {
  "kernelspec": {
   "display_name": "Python 3",
   "language": "python",
   "name": "python3"
  },
  "language_info": {
   "codemirror_mode": {
    "name": "ipython",
    "version": 3
   },
   "file_extension": ".py",
   "mimetype": "text/x-python",
   "name": "python",
   "nbconvert_exporter": "python",
   "pygments_lexer": "ipython3",
   "version": "3.8.5"
  }
 },
 "nbformat": 4,
 "nbformat_minor": 4
}
