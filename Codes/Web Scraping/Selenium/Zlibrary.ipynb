{
 "cells": [
  {
   "cell_type": "code",
   "execution_count": 23,
   "metadata": {},
   "outputs": [],
   "source": [
    "import webdriver_manager\n",
    "from selenium.webdriver.common.by import By\n",
    "from selenium.webdriver.common.keys import Keys\n",
    "from selenium import webdriver\n",
    "from webdriver_manager.chrome import ChromeDriverManager\n",
    "from webdriver_manager.firefox import GeckoDriverManager\n",
    "from IPython.display import clear_output\n",
    "import pandas as pd"
   ]
  },
  {
   "cell_type": "markdown",
   "metadata": {},
   "source": [
    "### Starting Drivers"
   ]
  },
  {
   "cell_type": "code",
   "execution_count": 139,
   "metadata": {},
   "outputs": [
    {
     "name": "stderr",
     "output_type": "stream",
     "text": [
      "\n",
      "\n",
      "====== WebDriver manager ======\n",
      "Current google-chrome version is 95.0.4638\n",
      "Get LATEST chromedriver version for 95.0.4638 google-chrome\n",
      "Driver [C:\\Users\\harik\\.wdm\\drivers\\chromedriver\\win32\\95.0.4638.69\\chromedriver.exe] found in cache\n",
      "<ipython-input-139-ff91a2323aef>:2: DeprecationWarning: executable_path has been deprecated, please pass in a Service object\n",
      "  driver = webdriver.Chrome(ChromeDriverManager().install())\n"
     ]
    }
   ],
   "source": [
    "#Open ChromeDriver\n",
    "driver = webdriver.Chrome(ChromeDriverManager().install())\n",
    "# driver.get(\"https://www.google.com/\")"
   ]
  },
  {
   "cell_type": "code",
   "execution_count": 77,
   "metadata": {},
   "outputs": [
    {
     "name": "stderr",
     "output_type": "stream",
     "text": [
      "\n",
      "\n",
      "====== WebDriver manager ======\n",
      "Current firefox version is 94.0\n",
      "Get LATEST geckodriver version for 94.0 firefox\n",
      "Getting latest mozilla release info for v0.30.0\n",
      "Trying to download new driver from https://github.com/mozilla/geckodriver/releases/download/v0.30.0/geckodriver-v0.30.0-win64.zip\n",
      "Driver has been saved in cache [C:\\Users\\harik\\.wdm\\drivers\\geckodriver\\win64\\v0.30.0]\n",
      "<ipython-input-77-03aa60d10d31>:2: DeprecationWarning: executable_path has been deprecated, please pass in a Service object\n",
      "  driver = webdriver.Firefox(executable_path=GeckoDriverManager().install())\n"
     ]
    }
   ],
   "source": [
    "#Open Firefox Driver\n",
    "driver = webdriver.Firefox(executable_path=GeckoDriverManager().install())\n",
    "# driver.get(\"https://www.google.com/\")"
   ]
  },
  {
   "cell_type": "markdown",
   "metadata": {},
   "source": [
    "### Sign Up for 1lib.in\n",
    "1. Go to https://singlelogin.org/registration.php <br>\n",
    "2. Get mail, password and nickname input and fill it<br>\n",
    "3. Click on the \"Sign Up\" button <br>\n",
    "4. Save the email and password\n"
   ]
  },
  {
   "cell_type": "code",
   "execution_count": 135,
   "metadata": {},
   "outputs": [],
   "source": [
    "### emails\n",
    "login_details = pd.read_csv('login_details.csv')\n",
    "emails = list(login_details['email'])\n",
    "passwords = list(login_details['password'])"
   ]
  },
  {
   "cell_type": "code",
   "execution_count": 133,
   "metadata": {},
   "outputs": [],
   "source": [
    "def register(email):\n",
    "    \"\"\"\n",
    "    Registers a new user on https://singlelogin.org/registration.php\n",
    "    returns the email address of the user\n",
    "    \"\"\"\n",
    "    #Step 1\n",
    "    driver.get(\"https://singlelogin.org/registration.php\")\n",
    "\n",
    "    #Step 2\n",
    "    #Email\n",
    "    email_entry = driver.find_element(By.NAME, 'email')\n",
    "    email_entry.clear()\n",
    "    email_entry.send_keys(email)\n",
    "\n",
    "    #Password\n",
    "    password = email[:8]\n",
    "    password_entry = driver.find_element(By.NAME, 'password')\n",
    "    password_entry.clear()\n",
    "    password_entry.send_keys(password)\n",
    "\n",
    "    #Step 3\n",
    "    #Submit Button\n",
    "    submit_button = driver.find_element(By.TAG_NAME, 'form button')\n",
    "    submit_button.click()\n",
    "\n",
    "    try:\n",
    "        emails.append(email)\n",
    "        passwords.append(password)\n",
    "        df = pd.DataFrame(data=[emails, passwords]).T\n",
    "        df.columns = ['email', 'password']\n",
    "        df.to_csv('login_details.csv', index=False)\n",
    "    except:\n",
    "        print(\"You should add this email to database\")\n",
    "        return email\n",
    "    return email"
   ]
  },
  {
   "cell_type": "code",
   "execution_count": 136,
   "metadata": {},
   "outputs": [
    {
     "data": {
      "text/plain": [
       "'vakofit832@elastit.com'"
      ]
     },
     "execution_count": 136,
     "metadata": {},
     "output_type": "execute_result"
    }
   ],
   "source": [
    "register('vakofit832@elastit.com')"
   ]
  },
  {
   "cell_type": "markdown",
   "metadata": {},
   "source": [
    "### Login to 1lib.in\n",
    "1. Go to https://singlelogin.org/login.php <br>\n",
    "2. Get mail and password input and fill it <br>\n",
    "3. Click on the \"Login\" button <br>"
   ]
  },
  {
   "cell_type": "code",
   "execution_count": null,
   "metadata": {},
   "outputs": [],
   "source": [
    "def login(email):\n",
    "    \"\"\"\n",
    "    Logs in to https://singlelogin.org/\n",
    "    \"\"\"\n",
    "    #Step 1\n",
    "    driver.get(\"https://singlelogin.org/?from=1lib.in\")\n",
    "\n",
    "    #Step 2\n",
    "    #Email\n",
    "    email_entry = driver.find_element(By.NAME, 'email')\n",
    "    email_entry.clear()\n",
    "    email_entry.send_keys(email)\n",
    "\n",
    "    #Password\n",
    "    password = email[:8]\n",
    "    password_entry = driver.find_element(By.NAME, 'password')\n",
    "    password_entry.clear()\n",
    "    password_entry.send_keys(password)\n",
    "\n",
    "    #Step 3\n",
    "    #Submit Button\n",
    "    submit_button = driver.find_element(By.TAG_NAME, 'form button')\n",
    "    submit_button.click()"
   ]
  },
  {
   "cell_type": "code",
   "execution_count": null,
   "metadata": {},
   "outputs": [],
   "source": []
  },
  {
   "cell_type": "markdown",
   "metadata": {},
   "source": [
    "### Steps to Download Book from 1lib.in\n",
    "1. Go to Homepage <br>\n",
    "2. Search for the book <br>\n",
    "3. Select one book (usually first hit) <br>\n",
    "4. Download the book <br>\n"
   ]
  },
  {
   "cell_type": "code",
   "execution_count": 47,
   "metadata": {},
   "outputs": [],
   "source": [
    "# book_name = \"The Book Thief\"\n",
    "def book_download(book_name):\n",
    "    \"\"\"\n",
    "    Downloads the book if 5 book quota is not reached using https://1lib.in/\n",
    "    returns the download link of the book\n",
    "    \"\"\"\n",
    "    #Get to homepage\n",
    "    clear_output(wait=True)\n",
    "    print(f\"Trying to download {book_name}\")\n",
    "    print(\"Going to Zlibrary\")\n",
    "    driver.get('https://1lib.in/')\n",
    "    print(\"Done!\")\n",
    "\n",
    "    print(\"Searching for the book\")\n",
    "    #Search for book\n",
    "    driver.find_element(By.ID, 'searchFieldx').clear()\n",
    "    driver.find_element(By.ID, \"searchFieldx\").send_keys(book_name.strip().title())\n",
    "    driver.find_element(By.ID, \"searchFieldx\").send_keys(Keys.ENTER)\n",
    "    print(\"Done!\")\n",
    "\n",
    "    #Click on the First hit if it exist\n",
    "    try:\n",
    "        book_link = driver.find_element(By.CLASS_NAME, 'exactMatch').find_element(By.TAG_NAME, 'a').get_attribute('href')\n",
    "        driver.get(book_link)\n",
    "        print(\"Found the book!\")\n",
    "    except:\n",
    "        print(\"No exact match\")\n",
    "        return None\n",
    "    #Click on download button\n",
    "    download_link = driver.find_element(By.CLASS_NAME, 'btn-group').find_element(By.TAG_NAME, 'a').get_attribute('href')\n",
    "    \n",
    "    driver.get(download_link)\n",
    "    if 'WARNING: There are more than 5' in driver.find_element(By.CLASS_NAME, 'container').text[:50]:\n",
    "        print(\"5 books are already downloaded so the book can not be downloaded.\")\n",
    "        print(\"Please wait for 24 hours.\")\n",
    "        print(\"The download link is returned.\")\n",
    "        return download_link\n",
    "    else:\n",
    "        print(\"Book should be downloading!\")\n",
    "        return download_link"
   ]
  },
  {
   "cell_type": "code",
   "execution_count": 48,
   "metadata": {},
   "outputs": [
    {
     "name": "stdout",
     "output_type": "stream",
     "text": [
      "Trying to download Pride and Prejudice\n",
      "Going to Zlibrary\n",
      "Done!\n",
      "Searching for the book\n",
      "Done!\n",
      "Found the book!\n",
      "Book should be downloading!\n"
     ]
    },
    {
     "data": {
      "text/plain": [
       "'https://1lib.in/dl/1642163/5cfdd3'"
      ]
     },
     "execution_count": 48,
     "metadata": {},
     "output_type": "execute_result"
    }
   ],
   "source": [
    "book_download(\"Pride and Prejudice\")"
   ]
  },
  {
   "cell_type": "code",
   "execution_count": 137,
   "metadata": {},
   "outputs": [],
   "source": [
    "driver.close()"
   ]
  },
  {
   "cell_type": "markdown",
   "metadata": {},
   "source": [
    "### Temp-Mail\n",
    "Since libgen gives just 5 books per day, we need to use a temporary email address to download more books.\n",
    "\n",
    "#### Steps 1\n",
    "1. Go to https://temp-mail.org/en/ <br>\n",
    "2. Get the Temporary Email Address <br>\n",
    "\n",
    "#### Steps 2\n",
    "Verify the email address by clicking on the link in the email. <br>"
   ]
  },
  {
   "cell_type": "code",
   "execution_count": 115,
   "metadata": {},
   "outputs": [],
   "source": [
    "def get_temp_email():\n",
    "    #Step 1\n",
    "    driver.get(\"https://temp-mail.org/en/\")\n",
    "\n",
    "    #Copying to clipboard\n",
    "    driver.find_element(By.CLASS_NAME, \"copyIconGreenBtn\").click()\n",
    "\n",
    "    #Getting email using pandas\n",
    "    email = pd.read_clipboard().columns[0]\n",
    "    return email"
   ]
  },
  {
   "cell_type": "code",
   "execution_count": null,
   "metadata": {},
   "outputs": [],
   "source": []
  },
  {
   "cell_type": "code",
   "execution_count": null,
   "metadata": {},
   "outputs": [],
   "source": []
  }
 ],
 "metadata": {
  "interpreter": {
   "hash": "ce44b17c45080b8f56a19c9450d52461d624c968fcd959bb1916985c5ffa2b94"
  },
  "kernelspec": {
   "display_name": "Python 3.8.5 64-bit ('base': conda)",
   "language": "python",
   "name": "python3"
  },
  "language_info": {
   "codemirror_mode": {
    "name": "ipython",
    "version": 3
   },
   "file_extension": ".py",
   "mimetype": "text/x-python",
   "name": "python",
   "nbconvert_exporter": "python",
   "pygments_lexer": "ipython3",
   "version": "3.8.5"
  },
  "orig_nbformat": 4
 },
 "nbformat": 4,
 "nbformat_minor": 2
}
