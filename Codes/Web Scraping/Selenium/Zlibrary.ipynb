{
 "cells": [
  {
   "cell_type": "code",
   "execution_count": 1,
   "metadata": {},
   "outputs": [],
   "source": [
    "import webdriver_manager\n",
    "from selenium.webdriver.common.by import By\n",
    "from selenium.webdriver.common.keys import Keys\n",
    "from selenium import webdriver\n",
    "from webdriver_manager.chrome import ChromeDriverManager\n",
    "from webdriver_manager.firefox import GeckoDriverManager\n",
    "from IPython.display import clear_output\n",
    "import pandas as pd\n",
    "import time"
   ]
  },
  {
   "cell_type": "markdown",
   "metadata": {},
   "source": [
    "### Starting Drivers"
   ]
  },
  {
   "cell_type": "code",
   "execution_count": 2,
   "metadata": {},
   "outputs": [
    {
     "name": "stderr",
     "output_type": "stream",
     "text": [
      "\n",
      "\n",
      "====== WebDriver manager ======\n",
      "Current google-chrome version is 96.0.4664\n",
      "Get LATEST chromedriver version for 96.0.4664 google-chrome\n",
      "Trying to download new driver from https://chromedriver.storage.googleapis.com/96.0.4664.45/chromedriver_win32.zip\n",
      "Driver has been saved in cache [C:\\Users\\harik\\.wdm\\drivers\\chromedriver\\win32\\96.0.4664.45]\n",
      "<ipython-input-2-ff91a2323aef>:2: DeprecationWarning: executable_path has been deprecated, please pass in a Service object\n",
      "  driver = webdriver.Chrome(ChromeDriverManager().install())\n"
     ]
    }
   ],
   "source": [
    "#Open ChromeDriver\n",
    "driver = webdriver.Chrome(ChromeDriverManager().install())\n",
    "# driver.get(\"https://www.google.com/\")"
   ]
  },
  {
   "cell_type": "code",
   "execution_count": 77,
   "metadata": {},
   "outputs": [
    {
     "name": "stderr",
     "output_type": "stream",
     "text": [
      "\n",
      "\n",
      "====== WebDriver manager ======\n",
      "Current firefox version is 94.0\n",
      "Get LATEST geckodriver version for 94.0 firefox\n",
      "Getting latest mozilla release info for v0.30.0\n",
      "Trying to download new driver from https://github.com/mozilla/geckodriver/releases/download/v0.30.0/geckodriver-v0.30.0-win64.zip\n",
      "Driver has been saved in cache [C:\\Users\\harik\\.wdm\\drivers\\geckodriver\\win64\\v0.30.0]\n",
      "<ipython-input-77-03aa60d10d31>:2: DeprecationWarning: executable_path has been deprecated, please pass in a Service object\n",
      "  driver = webdriver.Firefox(executable_path=GeckoDriverManager().install())\n"
     ]
    }
   ],
   "source": [
    "#Open Firefox Driver\n",
    "driver = webdriver.Firefox(executable_path=GeckoDriverManager().install())\n",
    "# driver.get(\"https://www.google.com/\")"
   ]
  },
  {
   "cell_type": "markdown",
   "metadata": {},
   "source": [
    "### Sign Up for 1lib.in\n",
    "1. Go to https://singlelogin.org/registration.php <br>\n",
    "2. Get mail, password and nickname input and fill it<br>\n",
    "3. Click on the \"Sign Up\" button <br>\n",
    "4. Save the email and password\n"
   ]
  },
  {
   "cell_type": "code",
   "execution_count": 3,
   "metadata": {},
   "outputs": [],
   "source": [
    "### emails\n",
    "login_details = pd.read_csv('login_details.csv')\n",
    "emails = list(login_details['email'])\n",
    "passwords = list(login_details['password'])"
   ]
  },
  {
   "cell_type": "code",
   "execution_count": 3,
   "metadata": {},
   "outputs": [],
   "source": [
    "def register(email):\n",
    "    \"\"\"\n",
    "    Registers a new user on https://singlelogin.org/registration.php\n",
    "    returns the email address of the user\n",
    "    \"\"\"\n",
    "    ### emails to add in database\n",
    "    login_details = pd.read_csv('login_details.csv')\n",
    "    emails = list(login_details['email'])\n",
    "    passwords = list(login_details['password'])\n",
    "    \n",
    "    #Step 1\n",
    "    print(\"Going to registartion page\")\n",
    "    driver.get(\"https://singlelogin.org/registration.php\")\n",
    "    print(\"Done!\")\n",
    "\n",
    "    #Step 2\n",
    "    print(\"Filling in the form\")\n",
    "    #Email\n",
    "    email_entry = driver.find_element(By.NAME, 'email')\n",
    "    email_entry.clear()\n",
    "    email_entry.send_keys(email)\n",
    "\n",
    "    #Password\n",
    "    password = email[:8]\n",
    "    password_entry = driver.find_element(By.NAME, 'password')\n",
    "    password_entry.clear()\n",
    "    password_entry.send_keys(password)\n",
    "    print(\"Done!\")\n",
    "    #Step 3\n",
    "    print(\"Submitting the form\")\n",
    "    #Submit Button\n",
    "    submit_button = driver.find_element(By.TAG_NAME, 'form button')\n",
    "    submit_button.click()\n",
    "    print(\"Done!\")\n",
    "    print(\"Adding these to the csv file\")\n",
    "    try:\n",
    "        emails.append(email)\n",
    "        passwords.append(password)\n",
    "        df = pd.DataFrame(data=[emails, passwords]).T\n",
    "        df.columns = ['email', 'password']\n",
    "        df.to_csv('login_details.csv', index=False)\n",
    "    except:\n",
    "        print(\"You should add this email to database\")\n",
    "        return email\n",
    "    return email"
   ]
  },
  {
   "cell_type": "code",
   "execution_count": 4,
   "metadata": {},
   "outputs": [
    {
     "name": "stdout",
     "output_type": "stream",
     "text": [
      "Going to registartion page\n",
      "Done!\n",
      "Filling in the form\n",
      "Done!\n",
      "Submitting the form\n",
      "Done!\n",
      "Adding these to the csv file\n"
     ]
    },
    {
     "data": {
      "text/plain": [
       "'hebigih258@jasmne.com'"
      ]
     },
     "execution_count": 4,
     "metadata": {},
     "output_type": "execute_result"
    }
   ],
   "source": [
    "register('hebigih258@jasmne.com')"
   ]
  },
  {
   "cell_type": "code",
   "execution_count": 7,
   "metadata": {},
   "outputs": [
    {
     "name": "stderr",
     "output_type": "stream",
     "text": [
      "\n",
      "\n",
      "====== WebDriver manager ======\n",
      "Current google-chrome version is 96.0.4664\n",
      "Get LATEST chromedriver version for 96.0.4664 google-chrome\n",
      "Driver [C:\\Users\\harik\\.wdm\\drivers\\chromedriver\\win32\\96.0.4664.45\\chromedriver.exe] found in cache\n",
      "<ipython-input-4-4bfa3f504be3>:13: DeprecationWarning: executable_path has been deprecated, please pass in a Service object\n",
      "  driver = webdriver.Chrome(ChromeDriverManager().install())\n"
     ]
    },
    {
     "name": "stdout",
     "output_type": "stream",
     "text": [
      "Going to registartion page\n",
      "Done!\n",
      "Filling in the form\n",
      "Done!\n",
      "Submitting the form\n",
      "Done!\n",
      "Adding these to the csv file\n"
     ]
    },
    {
     "data": {
      "text/plain": [
       "'woyol33658@ineedsa.com'"
      ]
     },
     "execution_count": 7,
     "metadata": {},
     "output_type": "execute_result"
    }
   ],
   "source": [
    "register('woyol33658@ineedsa.com')"
   ]
  },
  {
   "cell_type": "markdown",
   "metadata": {},
   "source": [
    "### Login to 1lib.in\n",
    "1. Go to https://singlelogin.org/login.php <br>\n",
    "2. Get mail and password input and fill it <br>\n",
    "3. Click on the \"Login\" button <br>"
   ]
  },
  {
   "cell_type": "code",
   "execution_count": 6,
   "metadata": {},
   "outputs": [],
   "source": [
    "def login(email):\n",
    "    \"\"\"\n",
    "    Logs in to https://singlelogin.org/\n",
    "    \"\"\"\n",
    "    \n",
    "    #Step 1\n",
    "    print(\"Going to login page\")\n",
    "    driver.get(\"https://singlelogin.org/?from=1lib.in\")\n",
    "    print(\"Done!\")\n",
    "\n",
    "    print(\"Filling in the form\")\n",
    "    #Step 2\n",
    "    #Email\n",
    "    email_entry = driver.find_element(By.NAME, 'email')\n",
    "    email_entry.clear()\n",
    "    email_entry.send_keys(email)\n",
    "\n",
    "    #Password\n",
    "    password = email[:8]\n",
    "    password_entry = driver.find_element(By.NAME, 'password')\n",
    "    password_entry.clear()\n",
    "    password_entry.send_keys(password)\n",
    "    print(\"Done!\")\n",
    "\n",
    "    print(\"Submitting the form\")\n",
    "    #Step 3\n",
    "    #Submit Button\n",
    "    submit_button = driver.find_element(By.TAG_NAME, 'form button')\n",
    "    submit_button.click()\n",
    "    print(\"Done!\")\n",
    "    return True"
   ]
  },
  {
   "cell_type": "code",
   "execution_count": 238,
   "metadata": {},
   "outputs": [],
   "source": [
    "df = pd.read_csv('login_details.csv')"
   ]
  },
  {
   "cell_type": "code",
   "execution_count": 11,
   "metadata": {},
   "outputs": [
    {
     "name": "stdout",
     "output_type": "stream",
     "text": [
      "Going to login page\n",
      "Done!\n",
      "Filling in the form\n",
      "Done!\n",
      "Submitting the form\n",
      "Done!\n"
     ]
    },
    {
     "data": {
      "text/plain": [
       "True"
      ]
     },
     "execution_count": 11,
     "metadata": {},
     "output_type": "execute_result"
    }
   ],
   "source": [
    "\n",
    "login(emails[-1])"
   ]
  },
  {
   "cell_type": "markdown",
   "metadata": {},
   "source": [
    "## Steps to Download Book from 1lib.in\n",
    "1. Go to Homepage <br>\n",
    "2. Search for the book (Use book name + first or second name of author for better result) <br>\n",
    "3. Select one book (for now, consider the first hit, need to work on it!) <br>\n",
    "4. Download the book <br>\n"
   ]
  },
  {
   "cell_type": "markdown",
   "metadata": {},
   "source": [
    "### Going to home page"
   ]
  },
  {
   "cell_type": "code",
   "execution_count": 15,
   "metadata": {},
   "outputs": [
    {
     "name": "stderr",
     "output_type": "stream",
     "text": [
      "\n",
      "\n",
      "====== WebDriver manager ======\n",
      "Current google-chrome version is 96.0.4664\n",
      "Get LATEST chromedriver version for 96.0.4664 google-chrome\n",
      "Driver [C:\\Users\\harik\\.wdm\\drivers\\chromedriver\\win32\\96.0.4664.45\\chromedriver.exe] found in cache\n",
      "<ipython-input-15-319a48c93e67>:3: DeprecationWarning: executable_path has been deprecated, please pass in a Service object\n",
      "  driver = webdriver.Chrome(ChromeDriverManager().install())\n"
     ]
    }
   ],
   "source": [
    "#Step 0\n",
    "#Open ChromeDriver\n",
    "driver = webdriver.Chrome(ChromeDriverManager().install())"
   ]
  },
  {
   "cell_type": "code",
   "execution_count": 7,
   "metadata": {},
   "outputs": [],
   "source": [
    "def go_to_homepage():\n",
    "    \"\"\"\n",
    "    Goes to https://1lib.in/\n",
    "    \"\"\"\n",
    "    #Step 1\n",
    "    print(\"Going to homepage\")\n",
    "    driver.get(\"https://1lib.in/\")\n",
    "    print(\"Done!\")"
   ]
  },
  {
   "cell_type": "markdown",
   "metadata": {},
   "source": [
    "### Modifying the Search Function"
   ]
  },
  {
   "cell_type": "code",
   "execution_count": 8,
   "metadata": {},
   "outputs": [],
   "source": [
    "def search_book(book_name, author_name = \"\"):\n",
    "    \"\"\"\n",
    "    Searches for a book on https://1lib.in/\n",
    "    For best result provide both the book_name and author_name\n",
    "    Last of First name of author will do, if it is not single letterd\n",
    "    \"\"\"\n",
    "    #Search for book\n",
    "    #the search query\n",
    "    #in case no author is specified\n",
    "    if author_name == \"\":\n",
    "        search_query = book_name\n",
    "    #Author is specified and the name have a sigle word\n",
    "    elif len(author_name.split(' ')) == 1:\n",
    "        search_query = book_name + \" \" + author_name\n",
    "    #Author is specified and the name have multiple words\n",
    "    elif len(author_name.split(' ')) > 1:\n",
    "        #Using the last name if it is not a single letter\n",
    "        last_name = author_name.split(' ')[-1]\n",
    "        if len(last_name) > 1:\n",
    "            search_query = book_name + \" \" + last_name\n",
    "        else:\n",
    "            #Otherwise using the first name\n",
    "            search_query = book_name + \" \" + author_name.split(' ')[0]\n",
    "\n",
    "    driver.find_element(By.ID, 'searchFieldx').clear()\n",
    "    print(f\"Searching for '{search_query}'\")\n",
    "    driver.find_element(By.ID, \"searchFieldx\").send_keys(search_query.strip().title())\n",
    "    driver.find_element(By.ID, \"searchFieldx\").send_keys(Keys.ENTER)\n",
    "    print(\"Done!\")\n",
    "    return search_query"
   ]
  },
  {
   "cell_type": "code",
   "execution_count": 111,
   "metadata": {},
   "outputs": [
    {
     "name": "stdout",
     "output_type": "stream",
     "text": [
      "Searching for 'The Time Machine'\n",
      "Done!\n"
     ]
    }
   ],
   "source": [
    "# go_to_homepage()\n",
    "book_name = 'The Time Machine'\n",
    "query = search_book(book_name=book_name)"
   ]
  },
  {
   "cell_type": "markdown",
   "metadata": {},
   "source": [
    "### Selecting which book to download\n",
    "1. Make sure that the name matches.\n",
    "2. Make sure that similar book with different author or even different genre is not selected. How to do this?\n",
    "<ul>\n",
    "<li>Exact match <br> For this claculate max_offset depending on the length of the book_name</li>\n",
    "</ul>\n",
    "\n",
    "3. Ask for the file format. Else download in epub, mobi or pdf format.\n",
    "4. Also match the language. 😂"
   ]
  },
  {
   "cell_type": "code",
   "execution_count": 9,
   "metadata": {},
   "outputs": [],
   "source": [
    "def match_the_book(book_name, author_name, filter = 0, format='epub', should_break=True, start_from = 0):\n",
    "    \n",
    "    exact_matches = driver.find_elements(By.CLASS_NAME, 'exactMatch')\n",
    "\n",
    "    for i, element in enumerate(exact_matches[start_from:]):\n",
    "        #Text of book shown on the page\n",
    "        name_on_page_text = element.find_elements(By.TAG_NAME, 'a')[1].text\n",
    "        name_on_page = len(book_name) + 5 > len(name_on_page_text)\n",
    "\n",
    "        #IS the language of the book is english\n",
    "        is_english = \"english\" in element.text.lower()[-45:]\n",
    "\n",
    "        #Is the name is contained in the starting of the element text\n",
    "        is_name = book_name.lower() in element.text[:len(book_name)+5].lower()\n",
    "\n",
    "        #IS author name is contained\n",
    "        if author_name:\n",
    "            is_author = author_name.split(' ')[-1].lower() in element.text.lower()\n",
    "        else:\n",
    "            is_author = True\n",
    "\n",
    "        #IS epub\n",
    "        is_epub = 'epub' in element.text.lower()\n",
    "\n",
    "        #IS pdf\n",
    "        is_pdf = 'pdf' in element.text.lower()\n",
    "\n",
    "        #IS mobi\n",
    "        is_mobi = 'mobi' in element.text.lower()\n",
    "\n",
    "        #format\n",
    "        if format in \"epub, pdf, mobi\":\n",
    "            is_format = format in element.text.lower()\n",
    "        else:\n",
    "            is_format = is_epub or is_pdf or is_mobi\n",
    "\n",
    "        #Different filter based on filter value\n",
    "        if filter == 0:\n",
    "            boolian = is_format\n",
    "        elif filter == 1:\n",
    "            boolian = is_name and is_format\n",
    "        elif filter == 2:\n",
    "            boolian = is_name and is_english and is_format\n",
    "        elif filter == 3:\n",
    "            boolian = is_name and is_english and is_author and is_format\n",
    "        elif filter == 4:\n",
    "            boolian = is_name and is_english and name_on_page and is_author and is_format\n",
    "\n",
    "        if boolian:\n",
    "            print(f\"Found the book. The matched number is:  {start_from + i+1}\")\n",
    "            url = element.find_element(By.TAG_NAME, 'a').get_attribute('href')\n",
    "            driver.get(url)\n",
    "            if should_break:\n",
    "                break\n",
    "            else:\n",
    "                continue\n",
    "        else:\n",
    "            pass\n",
    "            # print(f\"Not found {book_name} at {i+1}\")\n",
    "    return start_from + i + 1"
   ]
  },
  {
   "cell_type": "code",
   "execution_count": 233,
   "metadata": {},
   "outputs": [
    {
     "name": "stdout",
     "output_type": "stream",
     "text": [
      "Found the book. The matched number is:  24\n"
     ]
    },
    {
     "data": {
      "text/plain": [
       "24"
      ]
     },
     "execution_count": 233,
     "metadata": {},
     "output_type": "execute_result"
    }
   ],
   "source": [
    "match_the_book(book_name=\"The Time Machine\", author_name=\"H G Wells\", filter=4, start_from=4)"
   ]
  },
  {
   "cell_type": "code",
   "execution_count": 234,
   "metadata": {},
   "outputs": [],
   "source": [
    "driver.quit()"
   ]
  },
  {
   "cell_type": "code",
   "execution_count": 196,
   "metadata": {},
   "outputs": [
    {
     "name": "stdout",
     "output_type": "stream",
     "text": [
      "Found the book. The matched number is: 4\n",
      "Found the book. The matched number is: 24\n",
      "Found the book. The matched number is: 37\n",
      "Found the book. The matched number is: 49\n"
     ]
    }
   ],
   "source": [
    "filter = 4\n",
    "format = ''\n",
    "author_name = \"H G Wells\"\n",
    "for i, element in enumerate(exact_matches):\n",
    "    #Text of book shown on the page\n",
    "    name_on_page_text = element.find_elements(By.TAG_NAME, 'a')[1].text\n",
    "    name_on_page = len(book_name) + 5 > len(name_on_page_text)\n",
    "\n",
    "    #IS the language of the book is english\n",
    "    is_english = \"english\" in element.text.lower()[-45:]\n",
    "\n",
    "    #Is the name is contained in the starting of the element text\n",
    "    is_name = book_name.lower() in element.text[:len(book_name)+5].lower()\n",
    "\n",
    "    #IS author name is contained\n",
    "    if author_name:\n",
    "        is_author = author_name.split(' ')[-1].lower() in element.text.lower()\n",
    "    else:\n",
    "        is_author = True\n",
    "\n",
    "    #IS epub\n",
    "    is_epub = 'epub' in element.text.lower()\n",
    "\n",
    "    #IS pdf\n",
    "    is_pdf = 'pdf' in element.text.lower()\n",
    "\n",
    "    #IS mobi\n",
    "    is_mobi = 'mobi' in element.text.lower()\n",
    "\n",
    "    #format\n",
    "    if format in \"epub, pdf, mobi\":\n",
    "        is_format = format in element.text.lower()\n",
    "    else:\n",
    "        is_format = is_epub or is_pdf or is_mobi\n",
    "\n",
    "    #Different filter based on filter value\n",
    "    if filter == 0:\n",
    "        boolian = is_format\n",
    "    elif filter == 1:\n",
    "        boolian = is_name and is_format\n",
    "    elif filter == 2:\n",
    "        boolian = is_name and is_english and is_format\n",
    "    elif filter == 3:\n",
    "        boolian = is_name and is_english and is_author and is_format\n",
    "    elif filter == 4:\n",
    "        boolian = is_name and is_english and name_on_page and is_author and is_format\n",
    "\n",
    "    if boolian:\n",
    "        print(f\"Found the book. The matched number is: {i+1}\")\n",
    "        url = element.find_element(By.TAG_NAME, 'a').get_attribute('href')\n",
    "        # driver.get(url)\n",
    "        # break\n",
    "    else:\n",
    "        pass\n",
    "        # print(f\"Not found {book_name} at {i+1}\")\n",
    "# book_name in exact_matches[2].text[:len(book_name)+5]"
   ]
  },
  {
   "cell_type": "markdown",
   "metadata": {},
   "source": [
    "### Dealing with 'Link deleted by legal owner' problem"
   ]
  },
  {
   "cell_type": "code",
   "execution_count": null,
   "metadata": {},
   "outputs": [],
   "source": []
  },
  {
   "cell_type": "markdown",
   "metadata": {},
   "source": [
    "### The Main Function"
   ]
  },
  {
   "cell_type": "code",
   "execution_count": 279,
   "metadata": {},
   "outputs": [
    {
     "data": {
      "text/plain": [
       "['penol29169@gyn5.com', 'vakofit832@elastit.com', 'jonohi1519@kyrescu.com']"
      ]
     },
     "execution_count": 279,
     "metadata": {},
     "output_type": "execute_result"
    }
   ],
   "source": [
    "emails = list(pd.read_csv('login_details.csv')['email'])\n",
    "emails"
   ]
  },
  {
   "cell_type": "code",
   "execution_count": 10,
   "metadata": {},
   "outputs": [],
   "source": [
    "# book_name = \"The Book Thief\"\n",
    "def book_download(book_name, author_name = '', filter=1, should_break = True, start_from=0, format='epub'):\n",
    "    \"\"\"\n",
    "    Downloads the book if 5 book quota is not reached using https://1lib.in/\n",
    "    returns the download link of the book\n",
    "    \"\"\"\n",
    "    #Get to homepage\n",
    "    clear_output(wait=True)\n",
    "    print(f\"Trying to download {book_name}\")\n",
    "    if driver:\n",
    "        if driver.current_url=='https://1lib.in/':\n",
    "            print(\"Already on Homepage!\")\n",
    "        else:\n",
    "            print(\"Going to Zlibrary\")\n",
    "            driver.get('https://1lib.in/')\n",
    "            print(\"Done!\")\n",
    "\n",
    "    print(\"Searching for the book\")\n",
    "    #Search for book\n",
    "    search_book(book_name, author_name)\n",
    "    print(\"Done!\")\n",
    "\n",
    "    print(\"Matching the book to download\")\n",
    "    try:\n",
    "        start_from_new = match_the_book(book_name, author_name, filter, format, should_break, start_from)\n",
    "        print(\"Found the book!\")\n",
    "    except:\n",
    "        print(\"No exact match\")\n",
    "        return None\n",
    "\n",
    "    #Click on download button\n",
    "    if \"Downloads unavailable\" in driver.find_element(By.CLASS_NAME, 'book-details-button').text:\n",
    "        print(\"Oops! It seems the owner has blocked the download link.\\nTrying another.\")\n",
    "        driver.back()\n",
    "        start_from_new = match_the_book(book_name, author_name, filter, format, should_break, start_from=start_from_new)\n",
    "        download_link = driver.find_element(By.CLASS_NAME, 'btn-group').find_element(By.TAG_NAME, 'a').get_attribute('href')\n",
    "        driver.get(download_link)\n",
    "        # return download_link\n",
    "    else:\n",
    "        download_link = driver.find_element(By.CLASS_NAME, 'btn-group').find_element(By.TAG_NAME, 'a').get_attribute('href')\n",
    "        driver.get(download_link)\n",
    "        # return download_link\n",
    "\n",
    "    if 'WARNING: There are more than 5' in driver.find_element(By.CLASS_NAME, 'container').text[:50]:\n",
    "        print(\"5 books are already downloaded so the book can not be downloaded.\")\n",
    "        print(\"Please wait for 24 hours. Or Login.\")\n",
    "        print(\"The download link is returned.\")\n",
    "        return download_link\n",
    "    \n",
    "    elif \"Hey, we appreciate your enthusiasm\" in driver.find_element(By.CLASS_NAME, 'container').text[:50]:\n",
    "        print(\"10 books are already downloaded so the book can not be downloaded.\")\n",
    "        print(\"Please wait for 24 hours. Or login with different email address.\")\n",
    "        print(\"The download link is returned.\")\n",
    "        return download_link\n",
    "    else:\n",
    "        print(\"Book should be downloading!\")\n",
    "        return download_link"
   ]
  },
  {
   "cell_type": "code",
   "execution_count": 11,
   "metadata": {},
   "outputs": [],
   "source": [
    "# book_name = \"The Book Thief\"\n",
    "def book_download_logged_in(book_name, author_name = '', filter=1, should_break = True, start_from=0, format='epub', email_index = 0):\n",
    "    \"\"\"\n",
    "    Downloads the book if 5 book quota is not reached using https://1lib.in/\n",
    "    returns the download link of the book\n",
    "    \"\"\"\n",
    "    clear_output(wait=True)\n",
    "    #Get to homepage\n",
    "    print(f\"Trying to download {book_name}\")\n",
    "    if driver:\n",
    "        if driver.current_url=='https://1lib.in/':\n",
    "            print(\"Already on Homepage!\")\n",
    "        else:\n",
    "            print(\"Going to Zlibrary\")\n",
    "            driver.get('https://1lib.in/')\n",
    "            print(\"Done!\")\n",
    "            \n",
    "    #Login to Zlibrary\n",
    "    emails = list(pd.read_csv('login_details.csv')['email'])\n",
    "    try:\n",
    "        driver.find_element(By.ID, 'profileMenu').text == ''\n",
    "        print(\"Already logged in!\")\n",
    "        logged_in = True\n",
    "    except:\n",
    "        print(\"Logging in!\")\n",
    "        logged_in = login(emails[email_index])\n",
    "        print(f\"Logged in using '{emails[email_index]}'\")\n",
    "        driver.get('https://1lib.in/')\n",
    "        \n",
    "\n",
    "    print(\"Searching for the book\")\n",
    "    #Search for book\n",
    "    search_book(book_name, author_name)\n",
    "    # print(\"Done!\")\n",
    "\n",
    "    print(\"Matching the book to download\")\n",
    "    try:\n",
    "        start_from_new = match_the_book(book_name, author_name, filter, format, should_break, start_from)\n",
    "        print(\"Found the book!\")\n",
    "    except:\n",
    "        print(\"No exact match\")\n",
    "        return None\n",
    "\n",
    "    #Click on download button\n",
    "    if \"Downloads unavailable\" in driver.find_element(By.CLASS_NAME, 'book-details-button').text:\n",
    "        print(\"Oops! It seems the owner has blocked the download link.\\nTrying another.\")\n",
    "        driver.back()\n",
    "        start_from_new = match_the_book(book_name, author_name, filter, format, should_break, start_from=start_from_new)\n",
    "        download_link = driver.find_element(By.CLASS_NAME, 'btn-group').find_element(By.TAG_NAME, 'a').get_attribute('href')\n",
    "        driver.get(download_link)\n",
    "        print(\"Download should have started!\")\n",
    "        # return download_link\n",
    "    else:\n",
    "        download_link = driver.find_element(By.CLASS_NAME, 'btn-group').find_element(By.TAG_NAME, 'a').get_attribute('href')\n",
    "        driver.get(download_link)\n",
    "        # return download_link\n",
    "\n",
    "        if \"Hey, we appreciate your enthusiasm\" in driver.find_element(By.CLASS_NAME, 'container').text[:50]:\n",
    "            try:\n",
    "                print(\"Changing the login ID.\")\n",
    "                email_index= email_index+1\n",
    "                print(f\"Trying with '{emails[email_index]}'\")\n",
    "                login(email=emails[email_index])\n",
    "                time.sleep(1)\n",
    "                # driver.back()\n",
    "                # download_link = driver.find_element(By.CLASS_NAME, 'btn-group').find_element(By.TAG_NAME, 'a').get_attribute('href')\n",
    "                # driver.get(download_link)\n",
    "                return download_link\n",
    "            except IndexError:\n",
    "                print(\"Make more accounts!\")\n",
    "                print(\"Here is the download link.\")\n",
    "                return download_link\n",
    "        print(\"Download should have started!\")"
   ]
  },
  {
   "cell_type": "code",
   "execution_count": 12,
   "metadata": {},
   "outputs": [],
   "source": [
    "# book_name = \"The Book Thief\"\n",
    "def book_download_logged_in(book_name, author_name = '', filter=1, should_break = True, start_from=0, format='epub', email_index = 0, login_again = False):\n",
    "    \"\"\"\n",
    "    Downloads the book if 5 book quota is not reached using https://1lib.in/\n",
    "    returns the download link of the book\n",
    "    \"\"\"\n",
    "    clear_output(wait=True)\n",
    "    #Get to homepage\n",
    "    print(f\"Trying to download {book_name}\")\n",
    "    if driver:\n",
    "        if driver.current_url=='https://1lib.in/':\n",
    "            print(\"Already on Homepage!\")\n",
    "        else:\n",
    "            print(\"Going to Zlibrary\")\n",
    "            driver.get('https://1lib.in/')\n",
    "            print(\"Done!\")\n",
    "      \n",
    "    #Login to Zlibrary\n",
    "    emails = list(pd.read_csv('login_details.csv')['email'])\n",
    "    try:\n",
    "        driver.find_element(By.ID, 'profileMenu').text == ''\n",
    "        print(\"Already logged in!\")\n",
    "        logged_in = True\n",
    "    except:\n",
    "        print(\"Logging in!\")\n",
    "        logged_in = login(emails[email_index])\n",
    "        time.wait(1)\n",
    "        print(f\"Logged in using '{emails[email_index]}'\")\n",
    "        driver.get('https://1lib.in/')\n",
    "    if login_again:\n",
    "        print(\"Logging in again!\")\n",
    "        logged_in = login(emails[email_index])\n",
    "        time.sleep(1)\n",
    "        print(f\"Logged in using '{emails[email_index]}'\")\n",
    "        driver.get('https://1lib.in/')\n",
    "\n",
    "    print(\"Searching for the book\")\n",
    "    #Search for book\n",
    "    search_book(book_name, author_name)\n",
    "    # print(\"Done!\")\n",
    "\n",
    "    print(\"Matching the book to download\")\n",
    "    try:\n",
    "        start_from_new = match_the_book(book_name, author_name, filter, format, should_break, start_from)\n",
    "        print(\"Found the book!\")\n",
    "    except:\n",
    "        print(\"No exact match\")\n",
    "        login_again = False\n",
    "        return login_again, email_index, None\n",
    "\n",
    "    #Click on download button\n",
    "    if \"Downloads unavailable\" in driver.find_element(By.CLASS_NAME, 'book-details-button').text:\n",
    "        print(\"Oops! It seems the owner has blocked the download link.\\nTrying another.\")\n",
    "        driver.back()\n",
    "        start_from_new = match_the_book(book_name, author_name, filter, format, should_break, start_from=start_from_new)\n",
    "        download_link = driver.find_element(By.CLASS_NAME, 'btn-group').find_element(By.TAG_NAME, 'a').get_attribute('href')\n",
    "        driver.get(download_link)\n",
    "        if \"Hey, we appreciate your enthusiasm\" in driver.find_element(By.CLASS_NAME, 'container').text[:50]:\n",
    "            login_again = True\n",
    "            email_index = email_index+1\n",
    "        else:\n",
    "            login_again = False\n",
    "            print(\"Download should have started!\")\n",
    "        # return download_link\n",
    "    else:\n",
    "        download_link = driver.find_element(By.CLASS_NAME, 'btn-group').find_element(By.TAG_NAME, 'a').get_attribute('href')\n",
    "        driver.get(download_link)\n",
    "\n",
    "        if \"Hey, we appreciate your enthusiasm\" in driver.find_element(By.CLASS_NAME, 'container').text[:50]:\n",
    "            login_again = True\n",
    "            # email_index = email_index+1\n",
    "        else:\n",
    "            login_again = False\n",
    "            print(\"Download should have started!\")\n",
    "    return login_again, email_index, download_link"
   ]
  },
  {
   "cell_type": "code",
   "execution_count": 36,
   "metadata": {},
   "outputs": [
    {
     "name": "stdout",
     "output_type": "stream",
     "text": [
      "Trying to download Emma\n",
      "Going to Zlibrary\n",
      "Done!\n",
      "Already logged in!\n",
      "Searching for the book\n",
      "Searching for 'Emma'\n",
      "Done!\n",
      "Matching the book to download\n",
      "Found the book. The matched number is:  5\n",
      "Found the book!\n"
     ]
    }
   ],
   "source": [
    "login_again, email_index, download_link =  book_download_logged_in(book_name='Emma',author_name=\"\", format='epub')"
   ]
  },
  {
   "cell_type": "code",
   "execution_count": 13,
   "metadata": {},
   "outputs": [],
   "source": [
    "books = ['AI and Machine Learning for Coders', 'Deep Learning with Python']"
   ]
  },
  {
   "cell_type": "code",
   "execution_count": 15,
   "metadata": {},
   "outputs": [
    {
     "name": "stdout",
     "output_type": "stream",
     "text": [
      "Trying to download Deep Learning with Python\n",
      "Going to Zlibrary\n",
      "Done!\n",
      "Already logged in!\n",
      "Searching for the book\n",
      "Searching for 'Deep Learning with Python'\n",
      "Done!\n",
      "Matching the book to download\n",
      "Found the book. The matched number is:  3\n",
      "Found the book!\n",
      "Download should have started!\n"
     ]
    }
   ],
   "source": [
    "for book in books:\n",
    "    book_download_logged_in(book_name=book, format='pdf', filter=2)"
   ]
  },
  {
   "cell_type": "code",
   "execution_count": 47,
   "metadata": {},
   "outputs": [],
   "source": [
    "books = list(df['Book Name'].apply(lambda x: x.split('(')[0].strip()))"
   ]
  },
  {
   "cell_type": "code",
   "execution_count": 17,
   "metadata": {},
   "outputs": [
    {
     "name": "stdout",
     "output_type": "stream",
     "text": [
      "Trying to download An Introduction to Statistical Learning\n",
      "Going to Zlibrary\n",
      "Done!\n",
      "Already logged in!\n",
      "Searching for the book\n",
      "Searching for 'An Introduction to Statistical Learning'\n",
      "Done!\n",
      "Matching the book to download\n",
      "Found the book. The matched number is:  1\n",
      "Found the book!\n",
      "Download should have started!\n"
     ]
    },
    {
     "data": {
      "text/plain": [
       "(False, 0, 'https://1lib.in/dl/2951557/8ddeaa')"
      ]
     },
     "execution_count": 17,
     "metadata": {},
     "output_type": "execute_result"
    }
   ],
   "source": [
    "book_download_logged_in(\"An Introduction to Statistical Learning\", format='pdf', filter=2)"
   ]
  },
  {
   "cell_type": "code",
   "execution_count": 18,
   "metadata": {},
   "outputs": [],
   "source": [
    "driver.close()"
   ]
  },
  {
   "cell_type": "code",
   "execution_count": 64,
   "metadata": {},
   "outputs": [
    {
     "data": {
      "text/plain": [
       "-6"
      ]
     },
     "execution_count": 64,
     "metadata": {},
     "output_type": "execute_result"
    }
   ],
   "source": [
    "email_index"
   ]
  },
  {
   "cell_type": "code",
   "execution_count": 68,
   "metadata": {},
   "outputs": [],
   "source": [
    "driver.close()"
   ]
  },
  {
   "cell_type": "markdown",
   "metadata": {},
   "source": [
    "### Temp-Mail\n",
    "Since libgen gives just 5 books per day, we need to use a temporary email address to download more books.\n",
    "\n",
    "#### Steps 1\n",
    "1. Go to https://temp-mail.org/en/ <br>\n",
    "2. Get the Temporary Email Address <br>\n",
    "\n",
    "#### Steps 2\n",
    "Verify the email address by clicking on the link in the email. <br>"
   ]
  },
  {
   "cell_type": "code",
   "execution_count": 115,
   "metadata": {},
   "outputs": [],
   "source": [
    "def get_temp_email():\n",
    "    #Step 1\n",
    "    driver.get(\"https://temp-mail.org/en/\")\n",
    "\n",
    "    #Copying to clipboard\n",
    "    driver.find_element(By.CLASS_NAME, \"copyIconGreenBtn\").click()\n",
    "\n",
    "    #Getting email using pandas\n",
    "    email = pd.read_clipboard().columns[0]\n",
    "    return email"
   ]
  },
  {
   "cell_type": "code",
   "execution_count": null,
   "metadata": {},
   "outputs": [],
   "source": []
  },
  {
   "cell_type": "code",
   "execution_count": null,
   "metadata": {},
   "outputs": [],
   "source": []
  }
 ],
 "metadata": {
  "interpreter": {
   "hash": "ce44b17c45080b8f56a19c9450d52461d624c968fcd959bb1916985c5ffa2b94"
  },
  "kernelspec": {
   "display_name": "Python 3.8.5 64-bit ('base': conda)",
   "language": "python",
   "name": "python3"
  },
  "language_info": {
   "codemirror_mode": {
    "name": "ipython",
    "version": 3
   },
   "file_extension": ".py",
   "mimetype": "text/x-python",
   "name": "python",
   "nbconvert_exporter": "python",
   "pygments_lexer": "ipython3",
   "version": "3.8.5"
  },
  "orig_nbformat": 4
 },
 "nbformat": 4,
 "nbformat_minor": 2
}
