{
 "cells": [
  {
   "cell_type": "code",
   "execution_count": 1,
   "metadata": {},
   "outputs": [],
   "source": [
    "import webdriver_manager\n",
    "from selenium.webdriver.common.by import By\n",
    "from selenium.webdriver.common.keys import Keys"
   ]
  },
  {
   "cell_type": "code",
   "execution_count": 2,
   "metadata": {},
   "outputs": [
    {
     "name": "stderr",
     "output_type": "stream",
     "text": [
      "\n",
      "\n",
      "====== WebDriver manager ======\n",
      "Current firefox version is 94.0\n",
      "Get LATEST geckodriver version for 94.0 firefox\n",
      "Driver [C:\\Users\\harik\\.wdm\\drivers\\geckodriver\\win64\\v0.30.0\\geckodriver.exe] found in cache\n",
      "<ipython-input-2-1f03985b1b8e>:4: DeprecationWarning: executable_path has been deprecated, please pass in a Service object\n",
      "  driver = webdriver.Firefox(executable_path=GeckoDriverManager().install())\n"
     ]
    }
   ],
   "source": [
    "from selenium import webdriver\n",
    "from webdriver_manager.firefox import GeckoDriverManager\n",
    "\n",
    "driver = webdriver.Firefox(executable_path=GeckoDriverManager().install())\n"
   ]
  },
  {
   "cell_type": "code",
   "execution_count": 4,
   "metadata": {},
   "outputs": [],
   "source": [
    "driver.get('https://1lib.in/')"
   ]
  },
  {
   "cell_type": "code",
   "execution_count": 5,
   "metadata": {},
   "outputs": [],
   "source": [
    "driver.find_element(By.ID, \"searchFieldx\").send_keys(\"The Book Thief\")\n"
   ]
  },
  {
   "cell_type": "code",
   "execution_count": 6,
   "metadata": {},
   "outputs": [],
   "source": [
    "driver.find_element(By.ID, \"searchFieldx\").send_keys(Keys.ENTER)"
   ]
  },
  {
   "cell_type": "code",
   "execution_count": 13,
   "metadata": {},
   "outputs": [],
   "source": [
    "driver.find_element(By.CLASS_NAME, 'exactMatch').find_element(By.TAG_NAME, 'a').click()"
   ]
  },
  {
   "cell_type": "code",
   "execution_count": 14,
   "metadata": {},
   "outputs": [],
   "source": [
    "driver.find_element(By.CLASS_NAME, 'addDownloadedBook').click()"
   ]
  },
  {
   "cell_type": "code",
   "execution_count": 15,
   "metadata": {},
   "outputs": [],
   "source": [
    "driver.quit()"
   ]
  },
  {
   "cell_type": "code",
   "execution_count": 87,
   "metadata": {},
   "outputs": [
    {
     "data": {
      "text/plain": [
       "True"
      ]
     },
     "execution_count": 87,
     "metadata": {},
     "output_type": "execute_result"
    }
   ],
   "source": [
    "from selenium import webdriver\n",
    "from selenium.webdriver.common.by import By\n",
    "from selenium.webdriver.common.keys import Keys\n",
    "# driver = webdriver.Firefox()\n",
    "link = 'http://gadyakosh.org/gk/%E0%A4%AA%E0%A5%8D%E0%A4%B0%E0%A5%87%E0%A4%AE%E0%A4%9A%E0%A4%82%E0%A4%A6'\n",
    "\n",
    "# Navigate to url\n",
    "driver.get(link)\n",
    "\n",
    "# Enter \"webdriver\" text and perform \"ENTER\" keyboard action\n",
    "driver.find_elements(By.CLASS_NAME, \"gkparichay-box\")\n",
    "driver.save_screenshot(\"screenshot.png\")"
   ]
  },
  {
   "cell_type": "code",
   "execution_count": 4,
   "metadata": {},
   "outputs": [],
   "source": [
    "driver.quit()"
   ]
  },
  {
   "cell_type": "code",
   "execution_count": 94,
   "metadata": {},
   "outputs": [
    {
     "data": {
      "text/plain": [
       "True"
      ]
     },
     "execution_count": 94,
     "metadata": {},
     "output_type": "execute_result"
    }
   ],
   "source": [
    "driver.find_element(By.CLASS_NAME, \"gkparichay-box\").screenshot(\"screenshot.png\")\n"
   ]
  },
  {
   "cell_type": "code",
   "execution_count": 79,
   "metadata": {},
   "outputs": [
    {
     "data": {
      "text/plain": [
       "True"
      ]
     },
     "execution_count": 79,
     "metadata": {},
     "output_type": "execute_result"
    }
   ],
   "source": [
    "driver.find_elements(By.TAG_NAME, \"p\")[1].screenshot(\"gadyakosh.png\")"
   ]
  },
  {
   "cell_type": "code",
   "execution_count": 3,
   "metadata": {},
   "outputs": [
    {
     "data": {
      "text/plain": [
       "True"
      ]
     },
     "execution_count": 3,
     "metadata": {},
     "output_type": "execute_result"
    }
   ],
   "source": [
    "driver.get('https://www.mohfw.gov.in/')\n",
    "driver.find_element(By.CLASS_NAME, \"imgmenu\").click()\n",
    "driver.find_element(By.CLASS_NAME, \"data-table\").screenshot(\"mohfw.png\")"
   ]
  },
  {
   "cell_type": "code",
   "execution_count": 15,
   "metadata": {},
   "outputs": [
    {
     "name": "stderr",
     "output_type": "stream",
     "text": [
      "<ipython-input-15-0f31960ea234>:2: DeprecationWarning: executable_path has been deprecated, please pass in a Service object\n",
      "  driver = webdriver.Firefox(executable_path=r'C:\\Users\\harik\\AppData\\Local\\geckodriver-v0.30.0-win64\\geckodriver.exe')\n",
      "<ipython-input-15-0f31960ea234>:7: DeprecationWarning: find_element_by_* commands are deprecated. Please use find_element() instead\n",
      "  search_box = driver.find_element_by_name('q')\n"
     ]
    }
   ],
   "source": [
    "from selenium import webdriver\n",
    "driver = webdriver.Firefox(executable_path=r'C:\\Users\\harik\\AppData\\Local\\geckodriver-v0.30.0-win64\\geckodriver.exe')\n",
    "driver.get('http://www.google.com/')\n",
    "\n",
    "# time.sleep(5) # Let the user actually see something!\n",
    "\n",
    "search_box = driver.find_element_by_name('q')\n",
    "\n",
    "search_box.send_keys('WoT on Prime')\n",
    "\n",
    "search_box.submit()\n",
    "\n",
    "# time.sleep(5) # Let the user actually see something!\n",
    "\n",
    "# driver.quit()"
   ]
  },
  {
   "cell_type": "code",
   "execution_count": null,
   "metadata": {},
   "outputs": [],
   "source": []
  },
  {
   "cell_type": "code",
   "execution_count": 17,
   "metadata": {},
   "outputs": [
    {
     "name": "stderr",
     "output_type": "stream",
     "text": [
      "<ipython-input-17-b530de3bd9b1>:5: DeprecationWarning: find_element_by_* commands are deprecated. Please use find_element() instead\n",
      "  search_box = driver.find_element_by_name('q')\n"
     ]
    }
   ],
   "source": [
    "driver.get('http://www.google.com/')\n",
    "\n",
    "# time.sleep(5) # Let the user actually see something!\n",
    "\n",
    "search_box = driver.find_element_by_name('q')\n",
    "\n",
    "search_box.send_keys('Wheel of time books')\n",
    "\n",
    "search_box.submit()"
   ]
  },
  {
   "cell_type": "code",
   "execution_count": 1,
   "metadata": {},
   "outputs": [
    {
     "data": {
      "text/plain": [
       "'c:\\\\Users\\\\harik\\\\Desktop\\\\Python\\\\Codes\\\\Web Scraping\\\\Selenium'"
      ]
     },
     "execution_count": 1,
     "metadata": {},
     "output_type": "execute_result"
    }
   ],
   "source": [
    "pwd"
   ]
  },
  {
   "cell_type": "code",
   "execution_count": 1,
   "metadata": {},
   "outputs": [],
   "source": [
    "import numpy as np\n",
    "import matplotlib.pyplot as plt"
   ]
  },
  {
   "cell_type": "code",
   "execution_count": 2,
   "metadata": {},
   "outputs": [],
   "source": [
    "def f1(x, g, k):\n",
    "    return g*np.exp(-np.complex(0, 1)*k*x)"
   ]
  },
  {
   "cell_type": "code",
   "execution_count": 8,
   "metadata": {},
   "outputs": [],
   "source": [
    "def f2(x, g, k, w):\n",
    "    return 0.5*g*np.exp(-np.complex(0, 1)*(k*x-w*x/2))\n",
    "\n",
    "def f2(x, g, k, w):\n",
    "    return 0.5*g*np.exp(-np.complex(0, 1)*(k*x+w*x/2))"
   ]
  },
  {
   "cell_type": "code",
   "execution_count": 101,
   "metadata": {},
   "outputs": [
    {
     "data": {
      "text/plain": [
       "<matplotlib.collections.PathCollection at 0x23d721e8c40>"
      ]
     },
     "execution_count": 101,
     "metadata": {},
     "output_type": "execute_result"
    },
    {
     "data": {
      "application/vnd.jupyter.widget-view+json": {
       "model_id": "6cad19659a1140b1b5e7ce86ff69f40f",
       "version_major": 2,
       "version_minor": 0
      },
      "text/html": [
       "\n",
       "            <div style=\"display: inline-block;\">\n",
       "                <div class=\"jupyter-widgets widget-label\" style=\"text-align: center;\">\n",
       "                    Figure\n",
       "                </div>\n",
       "                <img src='data:image/png;base64,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' width=640.0/>\n",
       "            </div>\n",
       "        "
      ],
      "text/plain": [
       "Canvas(toolbar=Toolbar(toolitems=[('Home', 'Reset original view', 'home', 'home'), ('Back', 'Back to previous …"
      ]
     },
     "metadata": {},
     "output_type": "display_data"
    }
   ],
   "source": [
    "%matplotlib widget\n",
    "x = np.linspace(-5, 5, 20000)\n",
    "g = 1\n",
    "k=10\n",
    "w = 0.7\n",
    "y = (f1(x, g, k)+f2(x, g, k, w)+f2(x, g, k, w)).imag\n",
    "z = np.sin(x)\n",
    "plot1 = plt.plot(x, y)\n",
    "plot2 = plt.plot(x, z, 'r')\n",
    "diff = np.abs(plot1[0].get_ydata()-plot2[0].get_ydata())\n",
    "datax = plot1[0].get_xdata()[diff<0.006]\n",
    "datay = plot1[0].get_ydata()[diff<0.006]\n",
    "plt.scatter(x = datax, y=datay, c='black', s=20)"
   ]
  },
  {
   "cell_type": "code",
   "execution_count": 80,
   "metadata": {},
   "outputs": [],
   "source": [
    "diff = np.abs(plot1[0].get_ydata()-plot2[0].get_ydata())"
   ]
  },
  {
   "cell_type": "code",
   "execution_count": null,
   "metadata": {},
   "outputs": [],
   "source": []
  },
  {
   "cell_type": "code",
   "execution_count": 71,
   "metadata": {},
   "outputs": [
    {
     "data": {
      "text/plain": [
       "(2.9247812539977116, 1.999266917129668, 0.9999999903031747)"
      ]
     },
     "execution_count": 71,
     "metadata": {},
     "output_type": "execute_result"
    }
   ],
   "source": [
    "diff.max(), plot1[0].get_ydata().max(), plot2[0].get_ydata().max()"
   ]
  },
  {
   "cell_type": "code",
   "execution_count": 88,
   "metadata": {},
   "outputs": [
    {
     "data": {
      "text/plain": [
       "(0.00014392220086645313, -1.999269810972517, -0.9999999994811087)"
      ]
     },
     "execution_count": 88,
     "metadata": {},
     "output_type": "execute_result"
    }
   ],
   "source": [
    "diff.min(), plot1[0].get_ydata().min(), plot2[0].get_ydata().min()"
   ]
  },
  {
   "cell_type": "code",
   "execution_count": 89,
   "metadata": {},
   "outputs": [
    {
     "data": {
      "text/plain": [
       "(38,\n",
       " array([-4.55447772, -4.5539777 , -4.3939697 , -4.39346967, -3.96494825,\n",
       "        -3.74093705, -3.38241912, -3.3819191 , -3.08440422, -2.79788989,\n",
       "        -2.43437172, -2.20536027, -1.79983999, -1.59732987, -1.18630932,\n",
       "        -0.96879844, -0.58977949, -0.32476624, -0.32426621,  0.32426621,\n",
       "         0.32476624,  0.58977949,  0.96879844,  1.18630932,  1.59732987,\n",
       "         1.79983999,  2.20536027,  2.43437172,  2.79788989,  3.08440422,\n",
       "         3.3819191 ,  3.38241912,  3.74093705,  3.96494825,  4.39346967,\n",
       "         4.3939697 ,  4.5539777 ,  4.55447772]))"
      ]
     },
     "execution_count": 89,
     "metadata": {},
     "output_type": "execute_result"
    }
   ],
   "source": [
    "data = plot1[0].get_xdata()[diff<0.005]"
   ]
  },
  {
   "cell_type": "code",
   "execution_count": null,
   "metadata": {},
   "outputs": [],
   "source": []
  },
  {
   "cell_type": "code",
   "execution_count": null,
   "metadata": {},
   "outputs": [],
   "source": []
  },
  {
   "cell_type": "code",
   "execution_count": 1,
   "metadata": {},
   "outputs": [],
   "source": [
    "import webdriver_manager\n",
    "from selenium.webdriver.common.by import By\n",
    "from selenium.webdriver.common.keys import Keys\n",
    "from selenium import webdriver\n",
    "from webdriver_manager.chrome import ChromeDriverManager\n",
    "from webdriver_manager.firefox import GeckoDriverManager\n",
    "from IPython.display import clear_output\n",
    "import pandas as pd"
   ]
  },
  {
   "cell_type": "code",
   "execution_count": 2,
   "metadata": {},
   "outputs": [
    {
     "name": "stderr",
     "output_type": "stream",
     "text": [
      "\n",
      "\n",
      "====== WebDriver manager ======\n",
      "Current firefox version is 94.0\n",
      "Get LATEST geckodriver version for 94.0 firefox\n",
      "Driver [C:\\Users\\harik\\.wdm\\drivers\\geckodriver\\win64\\v0.30.0\\geckodriver.exe] found in cache\n",
      "<ipython-input-2-03aa60d10d31>:2: DeprecationWarning: executable_path has been deprecated, please pass in a Service object\n",
      "  driver = webdriver.Firefox(executable_path=GeckoDriverManager().install())\n"
     ]
    }
   ],
   "source": [
    "#Open Firefox Driver\n",
    "driver = webdriver.Firefox(executable_path=GeckoDriverManager().install())\n",
    "# driver.get(\"https://www.google.com/\")"
   ]
  },
  {
   "cell_type": "code",
   "execution_count": 4,
   "metadata": {},
   "outputs": [],
   "source": [
    "def get_temp_email():\n",
    "    #Step 1\n",
    "    driver.get(\"https://temp-mail.org/en/\")\n",
    "\n",
    "    #Copying to clipboard\n",
    "    driver.find_element(By.CLASS_NAME, \"copyIconGreenBtn\").click()\n",
    "\n",
    "    #Getting email using pandas\n",
    "    email = pd.read_clipboard().columns[0]\n",
    "    return email"
   ]
  },
  {
   "cell_type": "code",
   "execution_count": 8,
   "metadata": {},
   "outputs": [
    {
     "ename": "ElementNotInteractableException",
     "evalue": "Message: Element <button class=\"btn-rds icon-btn bg-theme d-none visable-xs-sm click-to-copy copyIconGreenBtn\" type=\"button\"> could not be scrolled into view\nStacktrace:\nWebDriverError@chrome://remote/content/shared/webdriver/Errors.jsm:181:5\nElementNotInteractableError@chrome://remote/content/shared/webdriver/Errors.jsm:291:5\nwebdriverClickElement@chrome://remote/content/marionette/interaction.js:156:11\ninteraction.clickElement@chrome://remote/content/marionette/interaction.js:125:11\nclickElement@chrome://remote/content/marionette/actors/MarionetteCommandsChild.jsm:200:24\nreceiveMessage@chrome://remote/content/marionette/actors/MarionetteCommandsChild.jsm:91:31\n",
     "output_type": "error",
     "traceback": [
      "\u001b[1;31m---------------------------------------------------------------------------\u001b[0m",
      "\u001b[1;31mElementNotInteractableException\u001b[0m           Traceback (most recent call last)",
      "\u001b[1;32m<ipython-input-8-583e1cc7705d>\u001b[0m in \u001b[0;36m<module>\u001b[1;34m\u001b[0m\n\u001b[0;32m      1\u001b[0m \u001b[1;31m#Copying to clipboard\u001b[0m\u001b[1;33m\u001b[0m\u001b[1;33m\u001b[0m\u001b[1;33m\u001b[0m\u001b[0m\n\u001b[1;32m----> 2\u001b[1;33m \u001b[0mdriver\u001b[0m\u001b[1;33m.\u001b[0m\u001b[0mfind_element\u001b[0m\u001b[1;33m(\u001b[0m\u001b[0mBy\u001b[0m\u001b[1;33m.\u001b[0m\u001b[0mCLASS_NAME\u001b[0m\u001b[1;33m,\u001b[0m \u001b[1;34m\"click-to-copy\"\u001b[0m\u001b[1;33m)\u001b[0m\u001b[1;33m.\u001b[0m\u001b[0mclick\u001b[0m\u001b[1;33m(\u001b[0m\u001b[1;33m)\u001b[0m\u001b[1;33m\u001b[0m\u001b[1;33m\u001b[0m\u001b[0m\n\u001b[0m\u001b[0;32m      3\u001b[0m \u001b[1;33m\u001b[0m\u001b[0m\n\u001b[0;32m      4\u001b[0m \u001b[1;31m#Getting email using pandas\u001b[0m\u001b[1;33m\u001b[0m\u001b[1;33m\u001b[0m\u001b[1;33m\u001b[0m\u001b[0m\n\u001b[0;32m      5\u001b[0m \u001b[1;31m# email = pd.read_clipboard().columns[0]\u001b[0m\u001b[1;33m\u001b[0m\u001b[1;33m\u001b[0m\u001b[1;33m\u001b[0m\u001b[0m\n",
      "\u001b[1;32m~\\anaconda3\\lib\\site-packages\\selenium\\webdriver\\remote\\webelement.py\u001b[0m in \u001b[0;36mclick\u001b[1;34m(self)\u001b[0m\n\u001b[0;32m     78\u001b[0m     \u001b[1;32mdef\u001b[0m \u001b[0mclick\u001b[0m\u001b[1;33m(\u001b[0m\u001b[0mself\u001b[0m\u001b[1;33m)\u001b[0m \u001b[1;33m->\u001b[0m \u001b[1;32mNone\u001b[0m\u001b[1;33m:\u001b[0m\u001b[1;33m\u001b[0m\u001b[1;33m\u001b[0m\u001b[0m\n\u001b[0;32m     79\u001b[0m         \u001b[1;34m\"\"\"Clicks the element.\"\"\"\u001b[0m\u001b[1;33m\u001b[0m\u001b[1;33m\u001b[0m\u001b[0m\n\u001b[1;32m---> 80\u001b[1;33m         \u001b[0mself\u001b[0m\u001b[1;33m.\u001b[0m\u001b[0m_execute\u001b[0m\u001b[1;33m(\u001b[0m\u001b[0mCommand\u001b[0m\u001b[1;33m.\u001b[0m\u001b[0mCLICK_ELEMENT\u001b[0m\u001b[1;33m)\u001b[0m\u001b[1;33m\u001b[0m\u001b[1;33m\u001b[0m\u001b[0m\n\u001b[0m\u001b[0;32m     81\u001b[0m \u001b[1;33m\u001b[0m\u001b[0m\n\u001b[0;32m     82\u001b[0m     \u001b[1;32mdef\u001b[0m \u001b[0msubmit\u001b[0m\u001b[1;33m(\u001b[0m\u001b[0mself\u001b[0m\u001b[1;33m)\u001b[0m\u001b[1;33m:\u001b[0m\u001b[1;33m\u001b[0m\u001b[1;33m\u001b[0m\u001b[0m\n",
      "\u001b[1;32m~\\anaconda3\\lib\\site-packages\\selenium\\webdriver\\remote\\webelement.py\u001b[0m in \u001b[0;36m_execute\u001b[1;34m(self, command, params)\u001b[0m\n\u001b[0;32m    691\u001b[0m             \u001b[0mparams\u001b[0m \u001b[1;33m=\u001b[0m \u001b[1;33m{\u001b[0m\u001b[1;33m}\u001b[0m\u001b[1;33m\u001b[0m\u001b[1;33m\u001b[0m\u001b[0m\n\u001b[0;32m    692\u001b[0m         \u001b[0mparams\u001b[0m\u001b[1;33m[\u001b[0m\u001b[1;34m'id'\u001b[0m\u001b[1;33m]\u001b[0m \u001b[1;33m=\u001b[0m \u001b[0mself\u001b[0m\u001b[1;33m.\u001b[0m\u001b[0m_id\u001b[0m\u001b[1;33m\u001b[0m\u001b[1;33m\u001b[0m\u001b[0m\n\u001b[1;32m--> 693\u001b[1;33m         \u001b[1;32mreturn\u001b[0m \u001b[0mself\u001b[0m\u001b[1;33m.\u001b[0m\u001b[0m_parent\u001b[0m\u001b[1;33m.\u001b[0m\u001b[0mexecute\u001b[0m\u001b[1;33m(\u001b[0m\u001b[0mcommand\u001b[0m\u001b[1;33m,\u001b[0m \u001b[0mparams\u001b[0m\u001b[1;33m)\u001b[0m\u001b[1;33m\u001b[0m\u001b[1;33m\u001b[0m\u001b[0m\n\u001b[0m\u001b[0;32m    694\u001b[0m \u001b[1;33m\u001b[0m\u001b[0m\n\u001b[0;32m    695\u001b[0m     \u001b[1;32mdef\u001b[0m \u001b[0mfind_element\u001b[0m\u001b[1;33m(\u001b[0m\u001b[0mself\u001b[0m\u001b[1;33m,\u001b[0m \u001b[0mby\u001b[0m\u001b[1;33m=\u001b[0m\u001b[0mBy\u001b[0m\u001b[1;33m.\u001b[0m\u001b[0mID\u001b[0m\u001b[1;33m,\u001b[0m \u001b[0mvalue\u001b[0m\u001b[1;33m=\u001b[0m\u001b[1;32mNone\u001b[0m\u001b[1;33m)\u001b[0m\u001b[1;33m:\u001b[0m\u001b[1;33m\u001b[0m\u001b[1;33m\u001b[0m\u001b[0m\n",
      "\u001b[1;32m~\\anaconda3\\lib\\site-packages\\selenium\\webdriver\\remote\\webdriver.py\u001b[0m in \u001b[0;36mexecute\u001b[1;34m(self, driver_command, params)\u001b[0m\n\u001b[0;32m    416\u001b[0m         \u001b[0mresponse\u001b[0m \u001b[1;33m=\u001b[0m \u001b[0mself\u001b[0m\u001b[1;33m.\u001b[0m\u001b[0mcommand_executor\u001b[0m\u001b[1;33m.\u001b[0m\u001b[0mexecute\u001b[0m\u001b[1;33m(\u001b[0m\u001b[0mdriver_command\u001b[0m\u001b[1;33m,\u001b[0m \u001b[0mparams\u001b[0m\u001b[1;33m)\u001b[0m\u001b[1;33m\u001b[0m\u001b[1;33m\u001b[0m\u001b[0m\n\u001b[0;32m    417\u001b[0m         \u001b[1;32mif\u001b[0m \u001b[0mresponse\u001b[0m\u001b[1;33m:\u001b[0m\u001b[1;33m\u001b[0m\u001b[1;33m\u001b[0m\u001b[0m\n\u001b[1;32m--> 418\u001b[1;33m             \u001b[0mself\u001b[0m\u001b[1;33m.\u001b[0m\u001b[0merror_handler\u001b[0m\u001b[1;33m.\u001b[0m\u001b[0mcheck_response\u001b[0m\u001b[1;33m(\u001b[0m\u001b[0mresponse\u001b[0m\u001b[1;33m)\u001b[0m\u001b[1;33m\u001b[0m\u001b[1;33m\u001b[0m\u001b[0m\n\u001b[0m\u001b[0;32m    419\u001b[0m             response['value'] = self._unwrap_value(\n\u001b[0;32m    420\u001b[0m                 response.get('value', None))\n",
      "\u001b[1;32m~\\anaconda3\\lib\\site-packages\\selenium\\webdriver\\remote\\errorhandler.py\u001b[0m in \u001b[0;36mcheck_response\u001b[1;34m(self, response)\u001b[0m\n\u001b[0;32m    241\u001b[0m                 \u001b[0malert_text\u001b[0m \u001b[1;33m=\u001b[0m \u001b[0mvalue\u001b[0m\u001b[1;33m[\u001b[0m\u001b[1;34m'alert'\u001b[0m\u001b[1;33m]\u001b[0m\u001b[1;33m.\u001b[0m\u001b[0mget\u001b[0m\u001b[1;33m(\u001b[0m\u001b[1;34m'text'\u001b[0m\u001b[1;33m)\u001b[0m\u001b[1;33m\u001b[0m\u001b[1;33m\u001b[0m\u001b[0m\n\u001b[0;32m    242\u001b[0m             \u001b[1;32mraise\u001b[0m \u001b[0mexception_class\u001b[0m\u001b[1;33m(\u001b[0m\u001b[0mmessage\u001b[0m\u001b[1;33m,\u001b[0m \u001b[0mscreen\u001b[0m\u001b[1;33m,\u001b[0m \u001b[0mstacktrace\u001b[0m\u001b[1;33m,\u001b[0m \u001b[0malert_text\u001b[0m\u001b[1;33m)\u001b[0m  \u001b[1;31m# type: ignore[call-arg]  # mypy is not smart enough here\u001b[0m\u001b[1;33m\u001b[0m\u001b[1;33m\u001b[0m\u001b[0m\n\u001b[1;32m--> 243\u001b[1;33m         \u001b[1;32mraise\u001b[0m \u001b[0mexception_class\u001b[0m\u001b[1;33m(\u001b[0m\u001b[0mmessage\u001b[0m\u001b[1;33m,\u001b[0m \u001b[0mscreen\u001b[0m\u001b[1;33m,\u001b[0m \u001b[0mstacktrace\u001b[0m\u001b[1;33m)\u001b[0m\u001b[1;33m\u001b[0m\u001b[1;33m\u001b[0m\u001b[0m\n\u001b[0m\u001b[0;32m    244\u001b[0m \u001b[1;33m\u001b[0m\u001b[0m\n\u001b[0;32m    245\u001b[0m     \u001b[1;32mdef\u001b[0m \u001b[0m_value_or_default\u001b[0m\u001b[1;33m(\u001b[0m\u001b[0mself\u001b[0m\u001b[1;33m,\u001b[0m \u001b[0mobj\u001b[0m\u001b[1;33m:\u001b[0m \u001b[0mMapping\u001b[0m\u001b[1;33m[\u001b[0m\u001b[0m_KT\u001b[0m\u001b[1;33m,\u001b[0m \u001b[0m_VT\u001b[0m\u001b[1;33m]\u001b[0m\u001b[1;33m,\u001b[0m \u001b[0mkey\u001b[0m\u001b[1;33m:\u001b[0m \u001b[0m_KT\u001b[0m\u001b[1;33m,\u001b[0m \u001b[0mdefault\u001b[0m\u001b[1;33m:\u001b[0m \u001b[0m_VT\u001b[0m\u001b[1;33m)\u001b[0m \u001b[1;33m->\u001b[0m \u001b[0m_VT\u001b[0m\u001b[1;33m:\u001b[0m\u001b[1;33m\u001b[0m\u001b[1;33m\u001b[0m\u001b[0m\n",
      "\u001b[1;31mElementNotInteractableException\u001b[0m: Message: Element <button class=\"btn-rds icon-btn bg-theme d-none visable-xs-sm click-to-copy copyIconGreenBtn\" type=\"button\"> could not be scrolled into view\nStacktrace:\nWebDriverError@chrome://remote/content/shared/webdriver/Errors.jsm:181:5\nElementNotInteractableError@chrome://remote/content/shared/webdriver/Errors.jsm:291:5\nwebdriverClickElement@chrome://remote/content/marionette/interaction.js:156:11\ninteraction.clickElement@chrome://remote/content/marionette/interaction.js:125:11\nclickElement@chrome://remote/content/marionette/actors/MarionetteCommandsChild.jsm:200:24\nreceiveMessage@chrome://remote/content/marionette/actors/MarionetteCommandsChild.jsm:91:31\n"
     ]
    }
   ],
   "source": [
    "#Copying to clipboard\n",
    "driver.find_element(By.CLASS_NAME, \"click-to-copy\").click()\n",
    "\n",
    "#Getting email using pandas\n",
    "# email = pd.read_clipboard().columns[0]"
   ]
  },
  {
   "cell_type": "code",
   "execution_count": 9,
   "metadata": {},
   "outputs": [],
   "source": [
    "driver.quit()"
   ]
  },
  {
   "cell_type": "code",
   "execution_count": null,
   "metadata": {},
   "outputs": [],
   "source": []
  }
 ],
 "metadata": {
  "interpreter": {
   "hash": "ce44b17c45080b8f56a19c9450d52461d624c968fcd959bb1916985c5ffa2b94"
  },
  "kernelspec": {
   "display_name": "Python 3.8.5 64-bit ('base': conda)",
   "language": "python",
   "name": "python3"
  },
  "language_info": {
   "codemirror_mode": {
    "name": "ipython",
    "version": 3
   },
   "file_extension": ".py",
   "mimetype": "text/x-python",
   "name": "python",
   "nbconvert_exporter": "python",
   "pygments_lexer": "ipython3",
   "version": "3.8.5"
  },
  "orig_nbformat": 4
 },
 "nbformat": 4,
 "nbformat_minor": 2
}
