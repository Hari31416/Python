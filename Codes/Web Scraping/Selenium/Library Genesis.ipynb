{
 "cells": [
  {
   "cell_type": "code",
   "execution_count": 1,
   "metadata": {},
   "outputs": [],
   "source": [
    "import webdriver_manager\n",
    "from selenium.webdriver.common.by import By\n",
    "from selenium.webdriver.common.keys import Keys\n",
    "from selenium import webdriver\n",
    "from webdriver_manager.chrome import ChromeDriverManager\n",
    "from webdriver_manager.firefox import GeckoDriverManager\n",
    "from IPython.display import clear_output"
   ]
  },
  {
   "cell_type": "markdown",
   "metadata": {},
   "source": [
    "### Starting Drivers"
   ]
  },
  {
   "cell_type": "code",
   "execution_count": 2,
   "metadata": {},
   "outputs": [
    {
     "name": "stderr",
     "output_type": "stream",
     "text": [
      "\n",
      "\n",
      "====== WebDriver manager ======\n",
      "Current google-chrome version is 95.0.4638\n",
      "Get LATEST chromedriver version for 95.0.4638 google-chrome\n",
      "Trying to download new driver from https://chromedriver.storage.googleapis.com/95.0.4638.69/chromedriver_win32.zip\n",
      "Driver has been saved in cache [C:\\Users\\harik\\.wdm\\drivers\\chromedriver\\win32\\95.0.4638.69]\n",
      "<ipython-input-2-ff91a2323aef>:2: DeprecationWarning: executable_path has been deprecated, please pass in a Service object\n",
      "  driver = webdriver.Chrome(ChromeDriverManager().install())\n"
     ]
    }
   ],
   "source": [
    "#Open ChromeDriver\n",
    "driver = webdriver.Chrome(ChromeDriverManager().install())\n",
    "# driver.get(\"https://www.google.com/\")"
   ]
  },
  {
   "cell_type": "code",
   "execution_count": 11,
   "metadata": {},
   "outputs": [
    {
     "name": "stderr",
     "output_type": "stream",
     "text": [
      "\n",
      "\n",
      "====== WebDriver manager ======\n",
      "Current firefox version is 94.0\n",
      "Get LATEST geckodriver version for 94.0 firefox\n",
      "Getting latest mozilla release info for v0.30.0\n",
      "Trying to download new driver from https://github.com/mozilla/geckodriver/releases/download/v0.30.0/geckodriver-v0.30.0-win64.zip\n",
      "Driver has been saved in cache [C:\\Users\\harik\\.wdm\\drivers\\geckodriver\\win64\\v0.30.0]\n",
      "<ipython-input-11-d41d3f2cb1d8>:3: DeprecationWarning: executable_path has been deprecated, please pass in a Service object\n",
      "  driver = webdriver.Firefox(executable_path=GeckoDriverManager().install())\n"
     ]
    }
   ],
   "source": [
    "#Open Firefox Driver\n",
    "driver = webdriver.Firefox(executable_path=GeckoDriverManager().install())"
   ]
  },
  {
   "cell_type": "markdown",
   "metadata": {},
   "source": [
    "## Proxysite for some websites"
   ]
  },
  {
   "cell_type": "code",
   "execution_count": 3,
   "metadata": {},
   "outputs": [],
   "source": [
    "#Opening a link Using Proxysite\n",
    "def open_link_by_proxysite(url):\n",
    "    driver.get(\"https://www.proxysite.com/\")\n",
    "    driver.find_element(By.CLASS_NAME, 'url-form').find_element(By.CLASS_NAME, 'row').find_element(By.NAME, 'd').send_keys(url)\n",
    "    driver.find_element(By.CLASS_NAME, 'url-form').find_element(By.CLASS_NAME, 'row').find_element(By.TAG_NAME, 'button').click()\n"
   ]
  },
  {
   "cell_type": "code",
   "execution_count": 23,
   "metadata": {},
   "outputs": [],
   "source": [
    "#Changing proxy after the page is loaded\n",
    "def change_proxy(i):\n",
    "    #Changing Server\n",
    "    servers = driver.find_element(By.ID, 'server-options').find_elements(By.TAG_NAME, 'option')\n",
    "    servers[i].click()\n",
    "    driver.find_element(By.CLASS_NAME, 'url-btn').click()"
   ]
  },
  {
   "cell_type": "code",
   "execution_count": 6,
   "metadata": {},
   "outputs": [],
   "source": [
    "books = ['A Tale of Two Cities',\n",
    "        'Great Expectations',\n",
    "        'Oliver Twist',\n",
    "        'David Copperfield',\n",
    "        'Hard Times',\n",
    "        'A Christmas Charol']"
   ]
  },
  {
   "cell_type": "code",
   "execution_count": 26,
   "metadata": {},
   "outputs": [],
   "source": [
    "driver.quit()"
   ]
  },
  {
   "cell_type": "code",
   "execution_count": 7,
   "metadata": {},
   "outputs": [],
   "source": [
    "books = [\"Sense and Sensibility\",\n",
    "    \"pride and Prejudice\",\n",
    "    \"Mansfield Park\",\n",
    "    'Emma',\n",
    "    'Persuasion',\n",
    "    'Northanger Abbey'\n",
    "    ]\n",
    "# for book in books:\n",
    "#     book_download(book)"
   ]
  },
  {
   "cell_type": "code",
   "execution_count": null,
   "metadata": {},
   "outputs": [],
   "source": []
  },
  {
   "cell_type": "markdown",
   "metadata": {},
   "source": [
    "### Using Library Genesis\n",
    "#### http://libgen.li/"
   ]
  },
  {
   "cell_type": "markdown",
   "metadata": {},
   "source": [
    "### Steps\n",
    "<ol>\n",
    "<li>Go to the website</li>\n",
    "<li>Disselecting unwanted Checkboxes</li>\n",
    "<li>Search for the Book</li>\n",
    "<li>Get the link pointing to gen.lib.rus.ec</li>\n",
    "<li>Click the cloudfair link to download</li>\n",
    "<li>Return to homepage</li>\n",
    "</ol>"
   ]
  },
  {
   "cell_type": "code",
   "execution_count": 278,
   "metadata": {},
   "outputs": [],
   "source": [
    "#Step 1: Open the link\n",
    "\n",
    "driver.get(\"http://libgen.li/\")\n",
    "\n",
    "\n",
    "#Step 2: Disselecting unwanted Checkboxes\n",
    "def disselect():\n",
    "    ones = driver.find_element(By.ID, 'topic').find_elements(By.NAME, 'columns[]')\n",
    "    twos = driver.find_element(By.ID, 'object').find_elements(By.NAME, 'objects[]')\n",
    "    thirds = driver.find_element(By.ID, 'column').find_elements(By.NAME, 'topics[]')\n",
    "\n",
    "    #Disselecting unwanted columns in Ones\n",
    "    for i in range(len(ones)):\n",
    "        if i==0:\n",
    "            pass\n",
    "        else:\n",
    "            ones[i].click()\n",
    "            \n",
    "    #Disselecting unwanted columns in Twos\n",
    "    for i in range(len(twos)):\n",
    "        if i==0:\n",
    "            pass\n",
    "        else:\n",
    "            twos[i].click()\n",
    "\n",
    "    #Disselecting unwanted columns in Thirds\n",
    "    for i in range(len(thirds)):\n",
    "        if i==0:\n",
    "            pass\n",
    "        else:\n",
    "            thirds[i].click()\n",
    "\n",
    "disselect()"
   ]
  },
  {
   "cell_type": "code",
   "execution_count": 282,
   "metadata": {},
   "outputs": [
    {
     "name": "stdout",
     "output_type": "stream",
     "text": [
      "2\n"
     ]
    },
    {
     "ename": "TypeError",
     "evalue": "can only concatenate str (not \"NoneType\") to str",
     "output_type": "error",
     "traceback": [
      "\u001b[1;31m---------------------------------------------------------------------------\u001b[0m",
      "\u001b[1;31mTypeError\u001b[0m                                 Traceback (most recent call last)",
      "\u001b[1;32m<ipython-input-282-5ad11a339582>\u001b[0m in \u001b[0;36m<module>\u001b[1;34m\u001b[0m\n\u001b[0;32m      4\u001b[0m     \u001b[0mprint\u001b[0m\u001b[1;33m(\u001b[0m\u001b[1;36m2\u001b[0m\u001b[1;33m)\u001b[0m\u001b[1;33m\u001b[0m\u001b[1;33m\u001b[0m\u001b[0m\n\u001b[0;32m      5\u001b[0m \u001b[1;33m\u001b[0m\u001b[0m\n\u001b[1;32m----> 6\u001b[1;33m \u001b[0mprint\u001b[0m\u001b[1;33m(\u001b[0m\u001b[1;34m\"Hello\"\u001b[0m\u001b[1;33m+\u001b[0m \u001b[1;32mNone\u001b[0m\u001b[1;33m)\u001b[0m\u001b[1;33m\u001b[0m\u001b[1;33m\u001b[0m\u001b[0m\n\u001b[0m",
      "\u001b[1;31mTypeError\u001b[0m: can only concatenate str (not \"NoneType\") to str"
     ]
    }
   ],
   "source": [
    "if None:\n",
    "    print(1)\n",
    "else:\n",
    "    print(2)\n",
    "\n",
    "print(\"Hello\"+ None)"
   ]
  },
  {
   "cell_type": "code",
   "execution_count": 283,
   "metadata": {},
   "outputs": [],
   "source": [
    "#Step 3: Searching for the book\n",
    "def search_book(name, author_first_name = ''):\n",
    "    #Searching for the book\n",
    "    driver.find_element(By.NAME, 'req').clear()\n",
    "    string = name + \" \" + author_first_name\n",
    "    driver.find_element(By.NAME, 'req').send_keys(string.strip().title())\n",
    "    driver.find_element(By.NAME, 'req').send_keys(Keys.ENTER)"
   ]
  },
  {
   "cell_type": "code",
   "execution_count": 286,
   "metadata": {},
   "outputs": [],
   "source": [
    "search_book(\"emma\")"
   ]
  },
  {
   "cell_type": "code",
   "execution_count": 322,
   "metadata": {},
   "outputs": [],
   "source": [
    "#Step 4: Get the link pointing to gen.lib.rus.ec\n",
    "def get_links(book_name):\n",
    "    try:\n",
    "        the_table = driver.find_element(By.ID, 'tablelibgen')\n",
    "        matches = the_table.find_elements(By.TAG_NAME, 'tbody tr')\n",
    "        flag = True\n",
    "    except:\n",
    "        flag = False\n",
    "        print(\"No matches found!\")\n",
    "\n",
    "    if flag:\n",
    "        #Sampling only the exact matches\n",
    "        if len(book_name)<15:\n",
    "            match_text_lenght = 20\n",
    "        else:\n",
    "            match_text_lenght = len(book_name) + 5\n",
    "        for i, match in enumerate(matches):\n",
    "            if book_name.lower() in match.text[:match_text_lenght].lower():\n",
    "                if 'epub' in match.text or 'pdf' in match.text:\n",
    "                    print(f\"The number is {i+1}\")\n",
    "                    flag = True\n",
    "                    links = match.find_elements(By.TAG_NAME, 'td')[-1].find_elements(By.TAG_NAME, 'a')\n",
    "                    for link in links:\n",
    "                        if link.get_attribute('data-original-title')[:3]=='gen':\n",
    "                            link.click()\n",
    "                            break\n",
    "                        else:\n",
    "                            pass\n",
    "                    break   \n",
    "                else:\n",
    "                    flag = False\n",
    "                \n",
    "                    # links = matches[0].find_elements(By.TAG_NAME, 'td')[-1].find_elements(By.TAG_NAME, 'a')\n",
    "                    # for link in links:\n",
    "                    #     if link.get_attribute('data-original-title')[:3]=='gen':\n",
    "                    #         link.click()\n",
    "                    #         break\n",
    "                    #     else:\n",
    "                    #         pass\n",
    "                \n",
    "                # break\n",
    "    else:\n",
    "        print('No Match Found')\n",
    "    return flag\n"
   ]
  },
  {
   "cell_type": "code",
   "execution_count": 324,
   "metadata": {},
   "outputs": [
    {
     "name": "stdout",
     "output_type": "stream",
     "text": [
      "The number is 2\n"
     ]
    },
    {
     "data": {
      "text/plain": [
       "True"
      ]
     },
     "execution_count": 324,
     "metadata": {},
     "output_type": "execute_result"
    }
   ],
   "source": [
    "search_book(\"emma\", 'jane')\n",
    "get_links(\"emma\")"
   ]
  },
  {
   "cell_type": "code",
   "execution_count": 304,
   "metadata": {},
   "outputs": [],
   "source": [
    "the_table = driver.find_element(By.ID, 'tablelibgen')\n",
    "matches = the_table.find_elements(By.TAG_NAME, 'tbody tr')"
   ]
  },
  {
   "cell_type": "code",
   "execution_count": 315,
   "metadata": {},
   "outputs": [
    {
     "data": {
      "text/plain": [
       "'Box Grandes Obras de Jane Austen (Orgulho e preconceito; Razão e sentimento; Emma) 2ª\\n9788520938119; 8520938116 b l 2362773 Jane Austen Nova Fronteira 2017 2441 Portuguese 1 MB epub 1 2 3 4 5'"
      ]
     },
     "execution_count": 315,
     "metadata": {},
     "output_type": "execute_result"
    }
   ],
   "source": [
    "matches[0].text"
   ]
  },
  {
   "cell_type": "code",
   "execution_count": 313,
   "metadata": {},
   "outputs": [
    {
     "name": "stdout",
     "output_type": "stream",
     "text": [
      "9788520938119; 8520938116 b l 2362773 Jane Austen Nova Fronteira 2017 2441 Portuguese 1 MB epub 1 2 3 4 5\n",
      "1604138165; 9781604138160 b l 649626 Harold Bloom Blooms Literary Criticism 2010 151 English 1 MB pdf 1 2 3 4 5\n",
      "Emma by Jane Austen\n"
     ]
    }
   ],
   "source": [
    "for match in matches:\n",
    "    # if 'emma' in match.text.split('\\n')[1]:\n",
    "    print(match.text.split('\\n')[1])"
   ]
  },
  {
   "cell_type": "code",
   "execution_count": 70,
   "metadata": {},
   "outputs": [],
   "source": [
    "#Step 5: Download the book\n",
    "def download_book():\n",
    "    download_links = driver.find_element(By.ID, 'download').find_elements(By.TAG_NAME, 'ul li a')\n",
    "    for download_link in download_links:\n",
    "        if 'cloud' in download_link.text.lower() or 'ipfs' in download_link.text.lower():\n",
    "            download_link_url = download_link.get_attribute('href')\n",
    "            download_link.click()\n",
    "            return download_link_url\n",
    "            break\n",
    "        else:\n",
    "            pass\n"
   ]
  },
  {
   "cell_type": "code",
   "execution_count": 246,
   "metadata": {},
   "outputs": [],
   "source": [
    "\n",
    "def download_from_libgen(book_name):\n",
    "    \"\"\"\n",
    "    Lownload a book from libgen.io and return the download link\n",
    "    \"\"\"\n",
    "    flag_final = True\n",
    "    clear_output(wait=True)\n",
    "    print(f\"Trying to download: {book_name}\")\n",
    "    #Step 1: Open the link\n",
    "    print(\"Proceeding to homepage.\")\n",
    "    driver.get(\"http://libgen.li/\")\n",
    "    print(\"Done!\")\n",
    "\n",
    "    print(\"Disselecting unwanted Checkboxes.\")    \n",
    "    #Step 2: Disselecting unwanted Checkboxes\n",
    "    disselect()\n",
    "    print(\"Done!\")\n",
    "\n",
    "    print(\"Searching for the book.\")\n",
    "    #Step 3: Searching for the book\n",
    "    search_book(book_name)\n",
    "    print(\"Done!\")\n",
    "\n",
    "    #Step 3-1: Check whether disselect has worked, if not, run disselect again\n",
    "    print('Check whether disselect has worked')\n",
    "    ones = driver.find_element(By.ID, 'topic').find_elements(By.NAME, 'columns[]')\n",
    "    if bool(ones[2].get_attribute('checked')):\n",
    "        print(\"Disselect has not worked. Doing it again\")\n",
    "        disselect()\n",
    "        driver.find_element(By.NAME, 'req').send_keys(Keys.ENTER)\n",
    "    else:\n",
    "        print(\"Disselect has worked.\")\n",
    "\n",
    "    print(\"Getting the link pointing to gen.lib.rus.ec.\")\n",
    "    #Step 4: Get the link pointing to gen.lib.rus.ec\n",
    "    flag_final = get_links(book_name)\n",
    "    if flag_final:\n",
    "        print(\"Done!\")\n",
    "\n",
    "        print(\"Downloading the book.\")\n",
    "        #Step 5: Download the book\n",
    "        download_link_url = download_book()\n",
    "        return download_link_url\n",
    "        print(\"Download should have been started!\")\n",
    "    else:\n",
    "        pass\n",
    "    "
   ]
  },
  {
   "cell_type": "code",
   "execution_count": 247,
   "metadata": {},
   "outputs": [
    {
     "name": "stdout",
     "output_type": "stream",
     "text": [
      "Trying to download: Northanger Abbey\n",
      "Proceeding to homepage.\n",
      "Done!\n",
      "Disselecting unwanted Checkboxes.\n",
      "Done!\n",
      "Searching for the book.\n",
      "Done!\n",
      "Check whether disselect has worked\n",
      "Disselect has not worked. Doing it again\n",
      "Getting the link pointing to gen.lib.rus.ec.\n",
      "No Match Found\n",
      "The number is 6\n",
      "Done!\n",
      "Downloading the book.\n"
     ]
    }
   ],
   "source": [
    "books = [\"Sense and Sensibility\",\n",
    "    \"pride and Prejudice\",\n",
    "    \"Mansfield Park\",\n",
    "    'Emma',\n",
    "    'Persuasion',\n",
    "    'Northanger Abbey'\n",
    "    ]\n",
    "\n",
    "download_links_list = []\n",
    "for book in books:\n",
    "    urls = download_from_libgen(book)\n",
    "    download_links_list.append(urls)"
   ]
  },
  {
   "cell_type": "code",
   "execution_count": 273,
   "metadata": {},
   "outputs": [
    {
     "data": {
      "text/plain": [
       "6"
      ]
     },
     "execution_count": 273,
     "metadata": {},
     "output_type": "execute_result"
    }
   ],
   "source": [
    "len(download_links_list)"
   ]
  },
  {
   "cell_type": "code",
   "execution_count": 275,
   "metadata": {},
   "outputs": [
    {
     "name": "stdout",
     "output_type": "stream",
     "text": [
      "Trying to download: Mistborn\n",
      "Proceeding to homepage.\n",
      "Done!\n",
      "Disselecting unwanted Checkboxes.\n",
      "Done!\n",
      "Searching for the book.\n",
      "Done!\n",
      "Check whether disselect has worked\n",
      "Disselect has not worked. Doing it again\n",
      "Getting the link pointing to gen.lib.rus.ec.\n",
      "Done!\n",
      "Downloading the book.\n"
     ]
    },
    {
     "data": {
      "text/plain": [
       "'https://cloudflare-ipfs.com/ipfs/bafykbzaceaacg7vcgeudb2gvjlgfhfel3f4kp37qhtkzdqeo45r2lt6plirxa?filename=%28Mistborn%20Trilogy%20Book%201%29%20Brandon%20Sanderson%20-%20Mistborn%20Trilogy%201%20The%20Final%20Empire-Doherty%2C%20Tom%20Associates%2C%20LLC%20%282010%29.epub'"
      ]
     },
     "execution_count": 275,
     "metadata": {},
     "output_type": "execute_result"
    }
   ],
   "source": [
    "download_from_libgen(\"Mistborn\")"
   ]
  },
  {
   "cell_type": "code",
   "execution_count": null,
   "metadata": {},
   "outputs": [],
   "source": [
    "driver.quit()"
   ]
  },
  {
   "cell_type": "code",
   "execution_count": null,
   "metadata": {},
   "outputs": [],
   "source": []
  }
 ],
 "metadata": {
  "interpreter": {
   "hash": "ce44b17c45080b8f56a19c9450d52461d624c968fcd959bb1916985c5ffa2b94"
  },
  "kernelspec": {
   "display_name": "Python 3.8.5 64-bit ('base': conda)",
   "language": "python",
   "name": "python3"
  },
  "language_info": {
   "codemirror_mode": {
    "name": "ipython",
    "version": 3
   },
   "file_extension": ".py",
   "mimetype": "text/x-python",
   "name": "python",
   "nbconvert_exporter": "python",
   "pygments_lexer": "ipython3",
   "version": "3.8.5"
  },
  "orig_nbformat": 4
 },
 "nbformat": 4,
 "nbformat_minor": 2
}
