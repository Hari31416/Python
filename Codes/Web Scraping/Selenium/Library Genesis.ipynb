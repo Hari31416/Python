{
 "cells": [
  {
   "cell_type": "code",
   "execution_count": 1,
   "metadata": {},
   "outputs": [],
   "source": [
    "import webdriver_manager\n",
    "from selenium.webdriver.common.by import By\n",
    "from selenium.webdriver.common.keys import Keys\n",
    "from selenium import webdriver\n",
    "from webdriver_manager.chrome import ChromeDriverManager\n",
    "from webdriver_manager.firefox import GeckoDriverManager\n",
    "from IPython.display import clear_output\n",
    "import time\n",
    "import pandas as pd"
   ]
  },
  {
   "cell_type": "markdown",
   "metadata": {},
   "source": [
    "### Starting Drivers"
   ]
  },
  {
   "cell_type": "code",
   "execution_count": 2,
   "metadata": {},
   "outputs": [
    {
     "name": "stderr",
     "output_type": "stream",
     "text": [
      "\n",
      "\n",
      "====== WebDriver manager ======\n",
      "Current google-chrome version is 96.0.4664\n",
      "Get LATEST chromedriver version for 96.0.4664 google-chrome\n",
      "Driver [C:\\Users\\harik\\.wdm\\drivers\\chromedriver\\win32\\96.0.4664.45\\chromedriver.exe] found in cache\n",
      "<ipython-input-2-ff91a2323aef>:2: DeprecationWarning: executable_path has been deprecated, please pass in a Service object\n",
      "  driver = webdriver.Chrome(ChromeDriverManager().install())\n"
     ]
    }
   ],
   "source": [
    "#Open ChromeDriver\n",
    "driver = webdriver.Chrome(ChromeDriverManager().install())\n",
    "# driver.get(\"https://www.google.com/\")"
   ]
  },
  {
   "cell_type": "code",
   "execution_count": 11,
   "metadata": {},
   "outputs": [
    {
     "name": "stderr",
     "output_type": "stream",
     "text": [
      "\n",
      "\n",
      "====== WebDriver manager ======\n",
      "Current firefox version is 94.0\n",
      "Get LATEST geckodriver version for 94.0 firefox\n",
      "Getting latest mozilla release info for v0.30.0\n",
      "Trying to download new driver from https://github.com/mozilla/geckodriver/releases/download/v0.30.0/geckodriver-v0.30.0-win64.zip\n",
      "Driver has been saved in cache [C:\\Users\\harik\\.wdm\\drivers\\geckodriver\\win64\\v0.30.0]\n",
      "<ipython-input-11-d41d3f2cb1d8>:3: DeprecationWarning: executable_path has been deprecated, please pass in a Service object\n",
      "  driver = webdriver.Firefox(executable_path=GeckoDriverManager().install())\n"
     ]
    }
   ],
   "source": [
    "#Open Firefox Driver\n",
    "driver = webdriver.Firefox(executable_path=GeckoDriverManager().install())"
   ]
  },
  {
   "cell_type": "markdown",
   "metadata": {},
   "source": [
    "## Proxysite for some websites"
   ]
  },
  {
   "cell_type": "code",
   "execution_count": 3,
   "metadata": {},
   "outputs": [],
   "source": [
    "#Opening a link Using Proxysite\n",
    "def open_link_by_proxysite(url):\n",
    "    driver.get(\"https://www.proxysite.com/\")\n",
    "    driver.find_element(By.CLASS_NAME, 'url-form').find_element(By.CLASS_NAME, 'row').find_element(By.NAME, 'd').send_keys(url)\n",
    "    driver.find_element(By.CLASS_NAME, 'url-form').find_element(By.CLASS_NAME, 'row').find_element(By.TAG_NAME, 'button').click()\n"
   ]
  },
  {
   "cell_type": "code",
   "execution_count": 23,
   "metadata": {},
   "outputs": [],
   "source": [
    "#Changing proxy after the page is loaded\n",
    "def change_proxy(i):\n",
    "    #Changing Server\n",
    "    servers = driver.find_element(By.ID, 'server-options').find_elements(By.TAG_NAME, 'option')\n",
    "    servers[i].click()\n",
    "    driver.find_element(By.CLASS_NAME, 'url-btn').click()"
   ]
  },
  {
   "cell_type": "code",
   "execution_count": 6,
   "metadata": {},
   "outputs": [],
   "source": [
    "books = ['A Tale of Two Cities',\n",
    "        'Great Expectations',\n",
    "        'Oliver Twist',\n",
    "        'David Copperfield',\n",
    "        'Hard Times',\n",
    "        'A Christmas Charol']"
   ]
  },
  {
   "cell_type": "code",
   "execution_count": 26,
   "metadata": {},
   "outputs": [],
   "source": [
    "driver.quit()"
   ]
  },
  {
   "cell_type": "code",
   "execution_count": 7,
   "metadata": {},
   "outputs": [],
   "source": [
    "books = [\"Sense and Sensibility\",\n",
    "    \"pride and Prejudice\",\n",
    "    \"Mansfield Park\",\n",
    "    'Emma',\n",
    "    'Persuasion',\n",
    "    'Northanger Abbey'\n",
    "    ]\n",
    "# for book in books:\n",
    "#     book_download(book)"
   ]
  },
  {
   "cell_type": "code",
   "execution_count": null,
   "metadata": {},
   "outputs": [],
   "source": []
  },
  {
   "cell_type": "markdown",
   "metadata": {},
   "source": [
    "### Using Library Genesis\n",
    "#### http://libgen.li/"
   ]
  },
  {
   "cell_type": "markdown",
   "metadata": {},
   "source": [
    "### Steps\n",
    "<ol>\n",
    "<li>Go to the website</li>\n",
    "<li>Disselecting unwanted Checkboxes</li>\n",
    "<li>Search for the Book</li>\n",
    "<li>Get the link pointing to gen.lib.rus.ec</li>\n",
    "<li>Click the cloudfair link to download</li>\n",
    "<li>Return to homepage</li>\n",
    "</ol>"
   ]
  },
  {
   "cell_type": "code",
   "execution_count": 3,
   "metadata": {},
   "outputs": [],
   "source": [
    "#Step 1: Open the link\n",
    "\n",
    "driver.get(\"http://libgen.li/\")\n",
    "\n",
    "\n",
    "#Step 2: Disselecting unwanted Checkboxes\n",
    "def disselect():\n",
    "    ones = driver.find_element(By.ID, 'topic').find_elements(By.NAME, 'columns[]')\n",
    "    twos = driver.find_element(By.ID, 'object').find_elements(By.NAME, 'objects[]')\n",
    "    thirds = driver.find_element(By.ID, 'column').find_elements(By.NAME, 'topics[]')\n",
    "\n",
    "    #Disselecting unwanted columns in Ones\n",
    "    for i in range(len(ones)):\n",
    "        if i==0:\n",
    "            pass\n",
    "        else:\n",
    "            ones[i].click()\n",
    "            \n",
    "    #Disselecting unwanted columns in Twos\n",
    "    for i in range(len(twos)):\n",
    "        if i==0:\n",
    "            pass\n",
    "        else:\n",
    "            twos[i].click()\n",
    "\n",
    "    #Disselecting unwanted columns in Thirds\n",
    "    for i in range(len(thirds)):\n",
    "        if i==0:\n",
    "            pass\n",
    "        else:\n",
    "            thirds[i].click()\n",
    "\n",
    "# disselect()"
   ]
  },
  {
   "cell_type": "code",
   "execution_count": 282,
   "metadata": {},
   "outputs": [
    {
     "name": "stdout",
     "output_type": "stream",
     "text": [
      "2\n"
     ]
    },
    {
     "ename": "TypeError",
     "evalue": "can only concatenate str (not \"NoneType\") to str",
     "output_type": "error",
     "traceback": [
      "\u001b[1;31m---------------------------------------------------------------------------\u001b[0m",
      "\u001b[1;31mTypeError\u001b[0m                                 Traceback (most recent call last)",
      "\u001b[1;32m<ipython-input-282-5ad11a339582>\u001b[0m in \u001b[0;36m<module>\u001b[1;34m\u001b[0m\n\u001b[0;32m      4\u001b[0m     \u001b[0mprint\u001b[0m\u001b[1;33m(\u001b[0m\u001b[1;36m2\u001b[0m\u001b[1;33m)\u001b[0m\u001b[1;33m\u001b[0m\u001b[1;33m\u001b[0m\u001b[0m\n\u001b[0;32m      5\u001b[0m \u001b[1;33m\u001b[0m\u001b[0m\n\u001b[1;32m----> 6\u001b[1;33m \u001b[0mprint\u001b[0m\u001b[1;33m(\u001b[0m\u001b[1;34m\"Hello\"\u001b[0m\u001b[1;33m+\u001b[0m \u001b[1;32mNone\u001b[0m\u001b[1;33m)\u001b[0m\u001b[1;33m\u001b[0m\u001b[1;33m\u001b[0m\u001b[0m\n\u001b[0m",
      "\u001b[1;31mTypeError\u001b[0m: can only concatenate str (not \"NoneType\") to str"
     ]
    }
   ],
   "source": [
    "if None:\n",
    "    print(1)\n",
    "else:\n",
    "    print(2)\n",
    "\n",
    "print(\"Hello\"+ None)"
   ]
  },
  {
   "cell_type": "code",
   "execution_count": 7,
   "metadata": {},
   "outputs": [],
   "source": [
    "#Step 3: Searching for the book\n",
    "def search_book(name, author_first_name = ''):\n",
    "    #Searching for the book\n",
    "    driver.find_element(By.NAME, 'req').clear()\n",
    "    string = name + \" \" + author_first_name\n",
    "    driver.find_element(By.NAME, 'req').send_keys(string.strip().title())\n",
    "    driver.find_element(By.NAME, 'req').send_keys(Keys.ENTER)"
   ]
  },
  {
   "cell_type": "code",
   "execution_count": 286,
   "metadata": {},
   "outputs": [],
   "source": [
    "search_book(\"emma\")"
   ]
  },
  {
   "cell_type": "code",
   "execution_count": 8,
   "metadata": {},
   "outputs": [],
   "source": [
    "#Step 4: Get the link pointing to gen.lib.rus.ec\n",
    "def get_links(book_name):\n",
    "    try:\n",
    "        the_table = driver.find_element(By.ID, 'tablelibgen')\n",
    "        matches = the_table.find_elements(By.TAG_NAME, 'tbody tr')\n",
    "        flag = True\n",
    "    except:\n",
    "        flag = False\n",
    "        print(\"No matches found!\")\n",
    "\n",
    "    if flag:\n",
    "        #Sampling only the exact matches\n",
    "        if len(book_name)<15:\n",
    "            match_text_lenght = 20\n",
    "        else:\n",
    "            match_text_lenght = len(book_name) + 5\n",
    "        for i, match in enumerate(matches):\n",
    "            if book_name.lower() in match.text[:match_text_lenght].lower():\n",
    "                if 'epub' in match.text or 'pdf' in match.text:\n",
    "                    print(f\"The number is {i+1}\")\n",
    "                    flag = True\n",
    "                    links = match.find_elements(By.TAG_NAME, 'td')[-1].find_elements(By.TAG_NAME, 'a')\n",
    "                    for link in links:\n",
    "                        if link.get_attribute('data-original-title')[:3]=='gen':\n",
    "                            link.click()\n",
    "                            break\n",
    "                        else:\n",
    "                            pass\n",
    "                    break   \n",
    "                else:\n",
    "                    flag = False\n",
    "                \n",
    "                    # links = matches[0].find_elements(By.TAG_NAME, 'td')[-1].find_elements(By.TAG_NAME, 'a')\n",
    "                    # for link in links:\n",
    "                    #     if link.get_attribute('data-original-title')[:3]=='gen':\n",
    "                    #         link.click()\n",
    "                    #         break\n",
    "                    #     else:\n",
    "                    #         pass\n",
    "                \n",
    "                # break\n",
    "    else:\n",
    "        print('No Match Found')\n",
    "    return flag\n"
   ]
  },
  {
   "cell_type": "code",
   "execution_count": 7,
   "metadata": {},
   "outputs": [
    {
     "name": "stdout",
     "output_type": "stream",
     "text": [
      "The number is 2\n"
     ]
    },
    {
     "data": {
      "text/plain": [
       "True"
      ]
     },
     "execution_count": 7,
     "metadata": {},
     "output_type": "execute_result"
    }
   ],
   "source": [
    "search_book(\"emma\", 'jane')\n",
    "get_links(\"emma\")"
   ]
  },
  {
   "cell_type": "code",
   "execution_count": 304,
   "metadata": {},
   "outputs": [],
   "source": [
    "the_table = driver.find_element(By.ID, 'tablelibgen')\n",
    "matches = the_table.find_elements(By.TAG_NAME, 'tbody tr')"
   ]
  },
  {
   "cell_type": "code",
   "execution_count": 315,
   "metadata": {},
   "outputs": [
    {
     "data": {
      "text/plain": [
       "'Box Grandes Obras de Jane Austen (Orgulho e preconceito; Razão e sentimento; Emma) 2ª\\n9788520938119; 8520938116 b l 2362773 Jane Austen Nova Fronteira 2017 2441 Portuguese 1 MB epub 1 2 3 4 5'"
      ]
     },
     "execution_count": 315,
     "metadata": {},
     "output_type": "execute_result"
    }
   ],
   "source": [
    "matches[0].text"
   ]
  },
  {
   "cell_type": "code",
   "execution_count": 313,
   "metadata": {},
   "outputs": [
    {
     "name": "stdout",
     "output_type": "stream",
     "text": [
      "9788520938119; 8520938116 b l 2362773 Jane Austen Nova Fronteira 2017 2441 Portuguese 1 MB epub 1 2 3 4 5\n",
      "1604138165; 9781604138160 b l 649626 Harold Bloom Blooms Literary Criticism 2010 151 English 1 MB pdf 1 2 3 4 5\n",
      "Emma by Jane Austen\n"
     ]
    }
   ],
   "source": [
    "for match in matches:\n",
    "    # if 'emma' in match.text.split('\\n')[1]:\n",
    "    print(match.text.split('\\n')[1])"
   ]
  },
  {
   "cell_type": "code",
   "execution_count": 9,
   "metadata": {},
   "outputs": [],
   "source": [
    "#Step 5: Download the book\n",
    "def download_book():\n",
    "    download_links = driver.find_element(By.ID, 'download').find_elements(By.TAG_NAME, 'ul li a')\n",
    "    for download_link in download_links:\n",
    "        if 'cloud' in download_link.text.lower() or 'ipfs' in download_link.text.lower():\n",
    "            download_link_url = download_link.get_attribute('href')\n",
    "            download_link.click()\n",
    "            return download_link_url\n",
    "            break\n",
    "        else:\n",
    "            pass\n"
   ]
  },
  {
   "cell_type": "code",
   "execution_count": 10,
   "metadata": {},
   "outputs": [],
   "source": [
    "\n",
    "def download_from_libgen(book_name):\n",
    "    \"\"\"\n",
    "    Lownload a book from libgen.io and return the download link\n",
    "    \"\"\"\n",
    "    flag_final = True\n",
    "    clear_output(wait=True)\n",
    "    print(f\"Trying to download: {book_name}\")\n",
    "    #Step 1: Open the link\n",
    "    print(\"Proceeding to homepage.\")\n",
    "    driver.get(\"http://libgen.li/\")\n",
    "    print(\"Done!\")\n",
    "\n",
    "    print(\"Disselecting unwanted Checkboxes.\")    \n",
    "    #Step 2: Disselecting unwanted Checkboxes\n",
    "    disselect()\n",
    "    print(\"Done!\")\n",
    "\n",
    "    print(\"Searching for the book.\")\n",
    "    #Step 3: Searching for the book\n",
    "    search_book(book_name)\n",
    "    print(\"Done!\")\n",
    "\n",
    "    #Step 3-1: Check whether disselect has worked, if not, run disselect again\n",
    "    print('Check whether disselect has worked')\n",
    "    ones = driver.find_element(By.ID, 'topic').find_elements(By.NAME, 'columns[]')\n",
    "    if bool(ones[2].get_attribute('checked')):\n",
    "        print(\"Disselect has not worked. Doing it again\")\n",
    "        disselect()\n",
    "        driver.find_element(By.NAME, 'req').send_keys(Keys.ENTER)\n",
    "    else:\n",
    "        print(\"Disselect has worked.\")\n",
    "\n",
    "    print(\"Getting the link pointing to gen.lib.rus.ec.\")\n",
    "    #Step 4: Get the link pointing to gen.lib.rus.ec\n",
    "    flag_final = get_links(book_name)\n",
    "    if flag_final:\n",
    "        print(\"Done!\")\n",
    "\n",
    "        print(\"Downloading the book.\")\n",
    "        #Step 5: Download the book\n",
    "        download_link_url = download_book()\n",
    "        return download_link_url\n",
    "        print(\"Download should have been started!\")\n",
    "    else:\n",
    "        pass\n",
    "    "
   ]
  },
  {
   "cell_type": "code",
   "execution_count": 10,
   "metadata": {},
   "outputs": [],
   "source": [
    "df = pd.read_csv('books_read.csv')\n",
    "df = df[(df[\"Author\"] == \"Rowling, J.K.\") | (df[\"Author\"] == 'Sanderson, Brandon') | (df[\"Author\"] == 'Jordan, Robert')]\n",
    "books = list(df['Book Name'].apply(lambda x: x.split(\"(\")[0].strip()))"
   ]
  },
  {
   "cell_type": "code",
   "execution_count": 14,
   "metadata": {},
   "outputs": [
    {
     "name": "stdout",
     "output_type": "stream",
     "text": [
      "Trying to download: Knife of Dreams\n",
      "Proceeding to homepage.\n",
      "Done!\n",
      "Disselecting unwanted Checkboxes.\n",
      "Done!\n",
      "Searching for the book.\n",
      "Done!\n",
      "Check whether disselect has worked\n",
      "Disselect has not worked. Doing it again\n",
      "Getting the link pointing to gen.lib.rus.ec.\n",
      "Done!\n",
      "Downloading the book.\n"
     ]
    },
    {
     "ename": "NoSuchElementException",
     "evalue": "Message: no such element: Unable to locate element: {\"method\":\"css selector\",\"selector\":\"[id=\"download\"]\"}\n  (Session info: chrome=96.0.4664.45)\nStacktrace:\nBacktrace:\n\tOrdinal0 [0x00356903+2517251]\n\tOrdinal0 [0x002EF8E1+2095329]\n\tOrdinal0 [0x001F2848+1058888]\n\tOrdinal0 [0x0021D448+1233992]\n\tOrdinal0 [0x0021D63B+1234491]\n\tOrdinal0 [0x00247812+1406994]\n\tOrdinal0 [0x0023650A+1336586]\n\tOrdinal0 [0x00245BBF+1399743]\n\tOrdinal0 [0x0023639B+1336219]\n\tOrdinal0 [0x002127A7+1189799]\n\tOrdinal0 [0x00213609+1193481]\n\tGetHandleVerifier [0x004E5904+1577972]\n\tGetHandleVerifier [0x00590B97+2279047]\n\tGetHandleVerifier [0x003E6D09+534521]\n\tGetHandleVerifier [0x003E5DB9+530601]\n\tOrdinal0 [0x002F4FF9+2117625]\n\tOrdinal0 [0x002F98A8+2136232]\n\tOrdinal0 [0x002F99E2+2136546]\n\tOrdinal0 [0x00303541+2176321]\n\tBaseThreadInitThunk [0x77106739+25]\n\tRtlGetFullPathName_UEx [0x77DB8AFF+1215]\n\tRtlGetFullPathName_UEx [0x77DB8ACD+1165]\n\t(No symbol) [0x00000000]\n",
     "output_type": "error",
     "traceback": [
      "\u001b[1;31m---------------------------------------------------------------------------\u001b[0m",
      "\u001b[1;31mNoSuchElementException\u001b[0m                    Traceback (most recent call last)",
      "\u001b[1;32m<ipython-input-14-c84381b2510a>\u001b[0m in \u001b[0;36m<module>\u001b[1;34m\u001b[0m\n\u001b[0;32m      1\u001b[0m \u001b[0mdownload_links_list\u001b[0m \u001b[1;33m=\u001b[0m \u001b[1;33m[\u001b[0m\u001b[1;33m]\u001b[0m\u001b[1;33m\u001b[0m\u001b[1;33m\u001b[0m\u001b[0m\n\u001b[0;32m      2\u001b[0m \u001b[1;32mfor\u001b[0m \u001b[0mbook\u001b[0m \u001b[1;32min\u001b[0m \u001b[0mbooks\u001b[0m\u001b[1;33m[\u001b[0m\u001b[1;36m10\u001b[0m\u001b[1;33m:\u001b[0m\u001b[1;33m]\u001b[0m\u001b[1;33m:\u001b[0m\u001b[1;33m\u001b[0m\u001b[1;33m\u001b[0m\u001b[0m\n\u001b[1;32m----> 3\u001b[1;33m     \u001b[0murls\u001b[0m \u001b[1;33m=\u001b[0m \u001b[0mdownload_from_libgen\u001b[0m\u001b[1;33m(\u001b[0m\u001b[0mbook\u001b[0m\u001b[1;33m)\u001b[0m\u001b[1;33m\u001b[0m\u001b[1;33m\u001b[0m\u001b[0m\n\u001b[0m\u001b[0;32m      4\u001b[0m     \u001b[0mdownload_links_list\u001b[0m\u001b[1;33m.\u001b[0m\u001b[0mappend\u001b[0m\u001b[1;33m(\u001b[0m\u001b[0murls\u001b[0m\u001b[1;33m)\u001b[0m\u001b[1;33m\u001b[0m\u001b[1;33m\u001b[0m\u001b[0m\n",
      "\u001b[1;32m<ipython-input-9-bb78128e86d3>\u001b[0m in \u001b[0;36mdownload_from_libgen\u001b[1;34m(book_name)\u001b[0m\n\u001b[0;32m     39\u001b[0m         \u001b[0mprint\u001b[0m\u001b[1;33m(\u001b[0m\u001b[1;34m\"Downloading the book.\"\u001b[0m\u001b[1;33m)\u001b[0m\u001b[1;33m\u001b[0m\u001b[1;33m\u001b[0m\u001b[0m\n\u001b[0;32m     40\u001b[0m         \u001b[1;31m#Step 5: Download the book\u001b[0m\u001b[1;33m\u001b[0m\u001b[1;33m\u001b[0m\u001b[1;33m\u001b[0m\u001b[0m\n\u001b[1;32m---> 41\u001b[1;33m         \u001b[0mdownload_link_url\u001b[0m \u001b[1;33m=\u001b[0m \u001b[0mdownload_book\u001b[0m\u001b[1;33m(\u001b[0m\u001b[1;33m)\u001b[0m\u001b[1;33m\u001b[0m\u001b[1;33m\u001b[0m\u001b[0m\n\u001b[0m\u001b[0;32m     42\u001b[0m         \u001b[1;32mreturn\u001b[0m \u001b[0mdownload_link_url\u001b[0m\u001b[1;33m\u001b[0m\u001b[1;33m\u001b[0m\u001b[0m\n\u001b[0;32m     43\u001b[0m         \u001b[0mprint\u001b[0m\u001b[1;33m(\u001b[0m\u001b[1;34m\"Download should have been started!\"\u001b[0m\u001b[1;33m)\u001b[0m\u001b[1;33m\u001b[0m\u001b[1;33m\u001b[0m\u001b[0m\n",
      "\u001b[1;32m<ipython-input-8-3ce0a4874331>\u001b[0m in \u001b[0;36mdownload_book\u001b[1;34m()\u001b[0m\n\u001b[0;32m      1\u001b[0m \u001b[1;31m#Step 5: Download the book\u001b[0m\u001b[1;33m\u001b[0m\u001b[1;33m\u001b[0m\u001b[1;33m\u001b[0m\u001b[0m\n\u001b[0;32m      2\u001b[0m \u001b[1;32mdef\u001b[0m \u001b[0mdownload_book\u001b[0m\u001b[1;33m(\u001b[0m\u001b[1;33m)\u001b[0m\u001b[1;33m:\u001b[0m\u001b[1;33m\u001b[0m\u001b[1;33m\u001b[0m\u001b[0m\n\u001b[1;32m----> 3\u001b[1;33m     \u001b[0mdownload_links\u001b[0m \u001b[1;33m=\u001b[0m \u001b[0mdriver\u001b[0m\u001b[1;33m.\u001b[0m\u001b[0mfind_element\u001b[0m\u001b[1;33m(\u001b[0m\u001b[0mBy\u001b[0m\u001b[1;33m.\u001b[0m\u001b[0mID\u001b[0m\u001b[1;33m,\u001b[0m \u001b[1;34m'download'\u001b[0m\u001b[1;33m)\u001b[0m\u001b[1;33m.\u001b[0m\u001b[0mfind_elements\u001b[0m\u001b[1;33m(\u001b[0m\u001b[0mBy\u001b[0m\u001b[1;33m.\u001b[0m\u001b[0mTAG_NAME\u001b[0m\u001b[1;33m,\u001b[0m \u001b[1;34m'ul li a'\u001b[0m\u001b[1;33m)\u001b[0m\u001b[1;33m\u001b[0m\u001b[1;33m\u001b[0m\u001b[0m\n\u001b[0m\u001b[0;32m      4\u001b[0m     \u001b[1;32mfor\u001b[0m \u001b[0mdownload_link\u001b[0m \u001b[1;32min\u001b[0m \u001b[0mdownload_links\u001b[0m\u001b[1;33m:\u001b[0m\u001b[1;33m\u001b[0m\u001b[1;33m\u001b[0m\u001b[0m\n\u001b[0;32m      5\u001b[0m         \u001b[1;32mif\u001b[0m \u001b[1;34m'cloud'\u001b[0m \u001b[1;32min\u001b[0m \u001b[0mdownload_link\u001b[0m\u001b[1;33m.\u001b[0m\u001b[0mtext\u001b[0m\u001b[1;33m.\u001b[0m\u001b[0mlower\u001b[0m\u001b[1;33m(\u001b[0m\u001b[1;33m)\u001b[0m \u001b[1;32mor\u001b[0m \u001b[1;34m'ipfs'\u001b[0m \u001b[1;32min\u001b[0m \u001b[0mdownload_link\u001b[0m\u001b[1;33m.\u001b[0m\u001b[0mtext\u001b[0m\u001b[1;33m.\u001b[0m\u001b[0mlower\u001b[0m\u001b[1;33m(\u001b[0m\u001b[1;33m)\u001b[0m\u001b[1;33m:\u001b[0m\u001b[1;33m\u001b[0m\u001b[1;33m\u001b[0m\u001b[0m\n",
      "\u001b[1;32m~\\anaconda3\\lib\\site-packages\\selenium\\webdriver\\remote\\webdriver.py\u001b[0m in \u001b[0;36mfind_element\u001b[1;34m(self, by, value)\u001b[0m\n\u001b[0;32m   1236\u001b[0m             \u001b[0mvalue\u001b[0m \u001b[1;33m=\u001b[0m \u001b[1;34m'[name=\"%s\"]'\u001b[0m \u001b[1;33m%\u001b[0m \u001b[0mvalue\u001b[0m\u001b[1;33m\u001b[0m\u001b[1;33m\u001b[0m\u001b[0m\n\u001b[0;32m   1237\u001b[0m \u001b[1;33m\u001b[0m\u001b[0m\n\u001b[1;32m-> 1238\u001b[1;33m         return self.execute(Command.FIND_ELEMENT, {\n\u001b[0m\u001b[0;32m   1239\u001b[0m             \u001b[1;34m'using'\u001b[0m\u001b[1;33m:\u001b[0m \u001b[0mby\u001b[0m\u001b[1;33m,\u001b[0m\u001b[1;33m\u001b[0m\u001b[1;33m\u001b[0m\u001b[0m\n\u001b[0;32m   1240\u001b[0m             'value': value})['value']\n",
      "\u001b[1;32m~\\anaconda3\\lib\\site-packages\\selenium\\webdriver\\remote\\webdriver.py\u001b[0m in \u001b[0;36mexecute\u001b[1;34m(self, driver_command, params)\u001b[0m\n\u001b[0;32m    416\u001b[0m         \u001b[0mresponse\u001b[0m \u001b[1;33m=\u001b[0m \u001b[0mself\u001b[0m\u001b[1;33m.\u001b[0m\u001b[0mcommand_executor\u001b[0m\u001b[1;33m.\u001b[0m\u001b[0mexecute\u001b[0m\u001b[1;33m(\u001b[0m\u001b[0mdriver_command\u001b[0m\u001b[1;33m,\u001b[0m \u001b[0mparams\u001b[0m\u001b[1;33m)\u001b[0m\u001b[1;33m\u001b[0m\u001b[1;33m\u001b[0m\u001b[0m\n\u001b[0;32m    417\u001b[0m         \u001b[1;32mif\u001b[0m \u001b[0mresponse\u001b[0m\u001b[1;33m:\u001b[0m\u001b[1;33m\u001b[0m\u001b[1;33m\u001b[0m\u001b[0m\n\u001b[1;32m--> 418\u001b[1;33m             \u001b[0mself\u001b[0m\u001b[1;33m.\u001b[0m\u001b[0merror_handler\u001b[0m\u001b[1;33m.\u001b[0m\u001b[0mcheck_response\u001b[0m\u001b[1;33m(\u001b[0m\u001b[0mresponse\u001b[0m\u001b[1;33m)\u001b[0m\u001b[1;33m\u001b[0m\u001b[1;33m\u001b[0m\u001b[0m\n\u001b[0m\u001b[0;32m    419\u001b[0m             response['value'] = self._unwrap_value(\n\u001b[0;32m    420\u001b[0m                 response.get('value', None))\n",
      "\u001b[1;32m~\\anaconda3\\lib\\site-packages\\selenium\\webdriver\\remote\\errorhandler.py\u001b[0m in \u001b[0;36mcheck_response\u001b[1;34m(self, response)\u001b[0m\n\u001b[0;32m    241\u001b[0m                 \u001b[0malert_text\u001b[0m \u001b[1;33m=\u001b[0m \u001b[0mvalue\u001b[0m\u001b[1;33m[\u001b[0m\u001b[1;34m'alert'\u001b[0m\u001b[1;33m]\u001b[0m\u001b[1;33m.\u001b[0m\u001b[0mget\u001b[0m\u001b[1;33m(\u001b[0m\u001b[1;34m'text'\u001b[0m\u001b[1;33m)\u001b[0m\u001b[1;33m\u001b[0m\u001b[1;33m\u001b[0m\u001b[0m\n\u001b[0;32m    242\u001b[0m             \u001b[1;32mraise\u001b[0m \u001b[0mexception_class\u001b[0m\u001b[1;33m(\u001b[0m\u001b[0mmessage\u001b[0m\u001b[1;33m,\u001b[0m \u001b[0mscreen\u001b[0m\u001b[1;33m,\u001b[0m \u001b[0mstacktrace\u001b[0m\u001b[1;33m,\u001b[0m \u001b[0malert_text\u001b[0m\u001b[1;33m)\u001b[0m  \u001b[1;31m# type: ignore[call-arg]  # mypy is not smart enough here\u001b[0m\u001b[1;33m\u001b[0m\u001b[1;33m\u001b[0m\u001b[0m\n\u001b[1;32m--> 243\u001b[1;33m         \u001b[1;32mraise\u001b[0m \u001b[0mexception_class\u001b[0m\u001b[1;33m(\u001b[0m\u001b[0mmessage\u001b[0m\u001b[1;33m,\u001b[0m \u001b[0mscreen\u001b[0m\u001b[1;33m,\u001b[0m \u001b[0mstacktrace\u001b[0m\u001b[1;33m)\u001b[0m\u001b[1;33m\u001b[0m\u001b[1;33m\u001b[0m\u001b[0m\n\u001b[0m\u001b[0;32m    244\u001b[0m \u001b[1;33m\u001b[0m\u001b[0m\n\u001b[0;32m    245\u001b[0m     \u001b[1;32mdef\u001b[0m \u001b[0m_value_or_default\u001b[0m\u001b[1;33m(\u001b[0m\u001b[0mself\u001b[0m\u001b[1;33m,\u001b[0m \u001b[0mobj\u001b[0m\u001b[1;33m:\u001b[0m \u001b[0mMapping\u001b[0m\u001b[1;33m[\u001b[0m\u001b[0m_KT\u001b[0m\u001b[1;33m,\u001b[0m \u001b[0m_VT\u001b[0m\u001b[1;33m]\u001b[0m\u001b[1;33m,\u001b[0m \u001b[0mkey\u001b[0m\u001b[1;33m:\u001b[0m \u001b[0m_KT\u001b[0m\u001b[1;33m,\u001b[0m \u001b[0mdefault\u001b[0m\u001b[1;33m:\u001b[0m \u001b[0m_VT\u001b[0m\u001b[1;33m)\u001b[0m \u001b[1;33m->\u001b[0m \u001b[0m_VT\u001b[0m\u001b[1;33m:\u001b[0m\u001b[1;33m\u001b[0m\u001b[1;33m\u001b[0m\u001b[0m\n",
      "\u001b[1;31mNoSuchElementException\u001b[0m: Message: no such element: Unable to locate element: {\"method\":\"css selector\",\"selector\":\"[id=\"download\"]\"}\n  (Session info: chrome=96.0.4664.45)\nStacktrace:\nBacktrace:\n\tOrdinal0 [0x00356903+2517251]\n\tOrdinal0 [0x002EF8E1+2095329]\n\tOrdinal0 [0x001F2848+1058888]\n\tOrdinal0 [0x0021D448+1233992]\n\tOrdinal0 [0x0021D63B+1234491]\n\tOrdinal0 [0x00247812+1406994]\n\tOrdinal0 [0x0023650A+1336586]\n\tOrdinal0 [0x00245BBF+1399743]\n\tOrdinal0 [0x0023639B+1336219]\n\tOrdinal0 [0x002127A7+1189799]\n\tOrdinal0 [0x00213609+1193481]\n\tGetHandleVerifier [0x004E5904+1577972]\n\tGetHandleVerifier [0x00590B97+2279047]\n\tGetHandleVerifier [0x003E6D09+534521]\n\tGetHandleVerifier [0x003E5DB9+530601]\n\tOrdinal0 [0x002F4FF9+2117625]\n\tOrdinal0 [0x002F98A8+2136232]\n\tOrdinal0 [0x002F99E2+2136546]\n\tOrdinal0 [0x00303541+2176321]\n\tBaseThreadInitThunk [0x77106739+25]\n\tRtlGetFullPathName_UEx [0x77DB8AFF+1215]\n\tRtlGetFullPathName_UEx [0x77DB8ACD+1165]\n\t(No symbol) [0x00000000]\n"
     ]
    }
   ],
   "source": [
    "download_links_list = []\n",
    "for book in books[10:]:\n",
    "    urls = download_from_libgen(book)\n",
    "    download_links_list.append(urls)"
   ]
  },
  {
   "cell_type": "code",
   "execution_count": 273,
   "metadata": {},
   "outputs": [
    {
     "data": {
      "text/plain": [
       "6"
      ]
     },
     "execution_count": 273,
     "metadata": {},
     "output_type": "execute_result"
    }
   ],
   "source": [
    "len(download_links_list)"
   ]
  },
  {
   "cell_type": "code",
   "execution_count": 11,
   "metadata": {},
   "outputs": [
    {
     "name": "stdout",
     "output_type": "stream",
     "text": [
      "Trying to download: Mistborn\n",
      "Proceeding to homepage.\n",
      "Done!\n",
      "Disselecting unwanted Checkboxes.\n",
      "Done!\n",
      "Searching for the book.\n",
      "Done!\n",
      "Check whether disselect has worked\n",
      "Disselect has worked.\n",
      "Getting the link pointing to gen.lib.rus.ec.\n",
      "The number is 1\n",
      "Done!\n",
      "Downloading the book.\n"
     ]
    },
    {
     "data": {
      "text/plain": [
       "'https://cloudflare-ipfs.com/ipfs/bafykbzaceaacg7vcgeudb2gvjlgfhfel3f4kp37qhtkzdqeo45r2lt6plirxa?filename=%28Mistborn%20Trilogy%20Book%201%29%20Brandon%20Sanderson%20-%20Mistborn%20Trilogy%201%20The%20Final%20Empire-Doherty%2C%20Tom%20Associates%2C%20LLC%20%282010%29.epub'"
      ]
     },
     "execution_count": 11,
     "metadata": {},
     "output_type": "execute_result"
    }
   ],
   "source": [
    "download_from_libgen(\"Mistborn\")"
   ]
  },
  {
   "cell_type": "code",
   "execution_count": null,
   "metadata": {},
   "outputs": [],
   "source": []
  }
 ],
 "metadata": {
  "interpreter": {
   "hash": "ce44b17c45080b8f56a19c9450d52461d624c968fcd959bb1916985c5ffa2b94"
  },
  "kernelspec": {
   "display_name": "Python 3.8.5 64-bit ('base': conda)",
   "language": "python",
   "name": "python3"
  },
  "language_info": {
   "codemirror_mode": {
    "name": "ipython",
    "version": 3
   },
   "file_extension": ".py",
   "mimetype": "text/x-python",
   "name": "python",
   "nbconvert_exporter": "python",
   "pygments_lexer": "ipython3",
   "version": "3.8.5"
  },
  "orig_nbformat": 4
 },
 "nbformat": 4,
 "nbformat_minor": 2
}
