{
 "cells": [
  {
   "cell_type": "code",
   "execution_count": 20,
   "metadata": {},
   "outputs": [],
   "source": [
    "import pandas as pd\n",
    "import numpy as np\n",
    "import requests\n",
    "import bs4\n",
    "import re"
   ]
  },
  {
   "cell_type": "code",
   "execution_count": 2,
   "metadata": {},
   "outputs": [],
   "source": [
    "word = 'confused'\n",
    "link = f\"https://www.thesaurus.com/browse/{word}\"\n",
    "code = requests.get(link)\n",
    "soup = bs4.BeautifulSoup(code.text, \"lxml\")"
   ]
  },
  {
   "cell_type": "code",
   "execution_count": 14,
   "metadata": {},
   "outputs": [],
   "source": [
    "container = soup.select(\".e1ccqdb60\")"
   ]
  },
  {
   "cell_type": "code",
   "execution_count": 17,
   "metadata": {},
   "outputs": [],
   "source": [
    "texts = container[0]"
   ]
  },
  {
   "cell_type": "code",
   "execution_count": 23,
   "metadata": {},
   "outputs": [
    {
     "data": {
      "text/plain": [
       "'baffled befuddled bewildered dazed disorganized distracted muddled perplexed perturbed puzzled abashed addled discombobulated disconcerted flummoxed flustered gone misled nonplussed stumped thrown unscrewed unzipped at a loss at sea at sixes and sevens come apart fouled up glassy-eyed mixed up not with it out to lunch punch-drunk punchy screwy shook up shot to pieces slaphappy spaced out taken aback thrown off balance unglued '"
      ]
     },
     "execution_count": 23,
     "metadata": {},
     "output_type": "execute_result"
    }
   ],
   "source": [
    "texts.text"
   ]
  },
  {
   "cell_type": "code",
   "execution_count": 26,
   "metadata": {},
   "outputs": [
    {
     "data": {
      "text/plain": [
       "[]"
      ]
     },
     "execution_count": 26,
     "metadata": {},
     "output_type": "execute_result"
    }
   ],
   "source": [
    "pattern = r\">(\\w)+<\"\n",
    "re.findall(pattern, str(texts))"
   ]
  },
  {
   "cell_type": "code",
   "execution_count": 24,
   "metadata": {},
   "outputs": [
    {
     "data": {
      "text/plain": [
       "<ul class=\"css-1o2g3k4 e1ccqdb60\"><li><style data-emotion=\"css 1kg1yv8\">.css-1kg1yv8{cursor:pointer;display:inline-block;text-align:center;-webkit-text-decoration:none;text-decoration:none;border-radius:100px;font-size:16px;font-weight:inherit;line-height:1;text-align:left;-webkit-transition:all 0.25s ease-in-out;transition:all 0.25s ease-in-out;position:relative;background-color:#F44725;color:#FFFFFF;padding:8px 16px;}.css-1kg1yv8:before{border:4px solid #0046BE;border-radius:100px;bottom:-8px;content:' ';left:-8px;opacity:0;position:absolute;right:-8px;top:-8px;-webkit-transition:all 0.25s ease-in-out;transition:all 0.25s ease-in-out;}.css-1kg1yv8:focus{outline:none;}.css-1kg1yv8:focus:not(:hover):not(:active):not([disabled]):before{opacity:1;}.css-1kg1yv8:hover:not([disabled]){-webkit-transform:scale(1.05);-moz-transform:scale(1.05);-ms-transform:scale(1.05);transform:scale(1.05);}.css-1kg1yv8:active:not([disabled]){background-color:#F44725;-webkit-transform:scale(1);-moz-transform:scale(1);-ms-transform:scale(1);transform:scale(1);}.css-1kg1yv8[disabled]{background-color:#E1E1E1;color:#767676;cursor:not-allowed;}.css-1kg1yv8[loading]{color:#E1E1E1;}</style><a class=\"css-1kg1yv8 eh475bn0\" data-linkid=\"nn1ov4\" font-weight=\"inherit\" href=\"/browse/baffled\">baffled<!-- --> </a></li><li><a class=\"css-1kg1yv8 eh475bn0\" data-linkid=\"nn1ov4\" font-weight=\"inherit\" href=\"/browse/befuddled\">befuddled<!-- --> </a></li><li><a class=\"css-1kg1yv8 eh475bn0\" data-linkid=\"nn1ov4\" font-weight=\"inherit\" href=\"/browse/bewildered\">bewildered<!-- --> </a></li><li><a class=\"css-1kg1yv8 eh475bn0\" data-linkid=\"nn1ov4\" font-weight=\"inherit\" href=\"/browse/dazed\">dazed<!-- --> </a></li><li><a class=\"css-1kg1yv8 eh475bn0\" data-linkid=\"nn1ov4\" font-weight=\"inherit\" href=\"/browse/disorganized\">disorganized<!-- --> </a></li><li><a class=\"css-1kg1yv8 eh475bn0\" data-linkid=\"nn1ov4\" font-weight=\"inherit\" href=\"/browse/distracted\">distracted<!-- --> </a></li><li><a class=\"css-1kg1yv8 eh475bn0\" data-linkid=\"nn1ov4\" font-weight=\"inherit\" href=\"/browse/muddled\">muddled<!-- --> </a></li><li><a class=\"css-1kg1yv8 eh475bn0\" data-linkid=\"nn1ov4\" font-weight=\"inherit\" href=\"/browse/perplexed\">perplexed<!-- --> </a></li><li><a class=\"css-1kg1yv8 eh475bn0\" data-linkid=\"nn1ov4\" font-weight=\"inherit\" href=\"/browse/perturbed\">perturbed<!-- --> </a></li><li><a class=\"css-1kg1yv8 eh475bn0\" data-linkid=\"nn1ov4\" font-weight=\"inherit\" href=\"/browse/puzzled\">puzzled<!-- --> </a></li><li><style data-emotion=\"css 1gyuw4i\">.css-1gyuw4i{cursor:pointer;display:inline-block;text-align:center;-webkit-text-decoration:none;text-decoration:none;border-radius:100px;font-size:16px;font-weight:inherit;line-height:1;text-align:left;-webkit-transition:all 0.25s ease-in-out;transition:all 0.25s ease-in-out;position:relative;background-color:#FF9100;color:#1A1A1A;padding:8px 16px;}.css-1gyuw4i:before{border:4px solid #0046BE;border-radius:100px;bottom:-8px;content:' ';left:-8px;opacity:0;position:absolute;right:-8px;top:-8px;-webkit-transition:all 0.25s ease-in-out;transition:all 0.25s ease-in-out;}.css-1gyuw4i:focus{outline:none;}.css-1gyuw4i:focus:not(:hover):not(:active):not([disabled]):before{opacity:1;}.css-1gyuw4i:hover:not([disabled]){-webkit-transform:scale(1.05);-moz-transform:scale(1.05);-ms-transform:scale(1.05);transform:scale(1.05);}.css-1gyuw4i:active:not([disabled]){background-color:#FF9100;-webkit-transform:scale(1);-moz-transform:scale(1);-ms-transform:scale(1);transform:scale(1);}.css-1gyuw4i[disabled]{background-color:#E1E1E1;color:#767676;cursor:not-allowed;}.css-1gyuw4i[loading]{color:#E1E1E1;}</style><a class=\"css-1gyuw4i eh475bn0\" data-linkid=\"nn1ov4\" font-weight=\"inherit\" href=\"/browse/abashed\">abashed<!-- --> </a></li><li><a class=\"css-1gyuw4i eh475bn0\" data-linkid=\"nn1ov4\" font-weight=\"inherit\" href=\"/browse/addled\">addled<!-- --> </a></li><li><a class=\"css-1gyuw4i eh475bn0\" data-linkid=\"nn1ov4\" font-weight=\"inherit\" href=\"/browse/discombobulated\">discombobulated<!-- --> </a></li><li><a class=\"css-1gyuw4i eh475bn0\" data-linkid=\"nn1ov4\" font-weight=\"inherit\" href=\"/browse/disconcerted\">disconcerted<!-- --> </a></li><li><a class=\"css-1gyuw4i eh475bn0\" data-linkid=\"nn1ov4\" font-weight=\"inherit\" href=\"/browse/flummoxed\">flummoxed<!-- --> </a></li><li><a class=\"css-1gyuw4i eh475bn0\" data-linkid=\"nn1ov4\" font-weight=\"inherit\" href=\"/browse/flustered\">flustered<!-- --> </a></li><li><a class=\"css-1gyuw4i eh475bn0\" data-linkid=\"nn1ov4\" font-weight=\"inherit\" href=\"/browse/gone\">gone<!-- --> </a></li><li><a class=\"css-1gyuw4i eh475bn0\" data-linkid=\"nn1ov4\" font-weight=\"inherit\" href=\"/browse/misled\">misled<!-- --> </a></li><li><a class=\"css-1gyuw4i eh475bn0\" data-linkid=\"nn1ov4\" font-weight=\"inherit\" href=\"/browse/nonplussed\">nonplussed<!-- --> </a></li><li><a class=\"css-1gyuw4i eh475bn0\" data-linkid=\"nn1ov4\" font-weight=\"inherit\" href=\"/browse/stumped\">stumped<!-- --> </a></li><li><a class=\"css-1gyuw4i eh475bn0\" data-linkid=\"nn1ov4\" font-weight=\"inherit\" href=\"/browse/thrown\">thrown<!-- --> </a></li><li><a class=\"css-1gyuw4i eh475bn0\" data-linkid=\"nn1ov4\" font-weight=\"inherit\" href=\"/browse/unscrewed\">unscrewed<!-- --> </a></li><li><a class=\"css-1gyuw4i eh475bn0\" data-linkid=\"nn1ov4\" font-weight=\"inherit\" href=\"/browse/unzip\">unzipped<!-- --> </a></li><li><style data-emotion=\"css 1n6g4vv\">.css-1n6g4vv{cursor:pointer;display:inline-block;text-align:center;-webkit-text-decoration:none;text-decoration:none;border-radius:100px;font-size:16px;font-weight:inherit;line-height:1;text-align:left;-webkit-transition:all 0.25s ease-in-out;transition:all 0.25s ease-in-out;position:relative;background-color:#FFB600;color:#1A1A1A;padding:8px 16px;}.css-1n6g4vv:before{border:4px solid #0046BE;border-radius:100px;bottom:-8px;content:' ';left:-8px;opacity:0;position:absolute;right:-8px;top:-8px;-webkit-transition:all 0.25s ease-in-out;transition:all 0.25s ease-in-out;}.css-1n6g4vv:focus{outline:none;}.css-1n6g4vv:focus:not(:hover):not(:active):not([disabled]):before{opacity:1;}.css-1n6g4vv:hover:not([disabled]){-webkit-transform:scale(1.05);-moz-transform:scale(1.05);-ms-transform:scale(1.05);transform:scale(1.05);}.css-1n6g4vv:active:not([disabled]){background-color:#FFB600;-webkit-transform:scale(1);-moz-transform:scale(1);-ms-transform:scale(1);transform:scale(1);}.css-1n6g4vv[disabled]{background-color:#E1E1E1;color:#767676;cursor:not-allowed;}.css-1n6g4vv[loading]{color:#E1E1E1;}</style><a class=\"css-1n6g4vv eh475bn0\" data-linkid=\"nn1ov4\" font-weight=\"inherit\" href=\"/browse/at%20a%20loss\">at a loss<!-- --> </a></li><li><a class=\"css-1n6g4vv eh475bn0\" data-linkid=\"nn1ov4\" font-weight=\"inherit\" href=\"/browse/at%20sea\">at sea<!-- --> </a></li><li><a class=\"css-1n6g4vv eh475bn0\" data-linkid=\"nn1ov4\" font-weight=\"inherit\" href=\"/browse/at%20sixes%20and%20sevens\">at sixes and sevens<!-- --> </a></li><li><a class=\"css-1n6g4vv eh475bn0\" data-linkid=\"nn1ov4\" font-weight=\"inherit\" href=\"/browse/come%20apart\">come apart<!-- --> </a></li><li><style data-emotion=\"css tu1cet\">.css-tu1cet{background:none;border:none;cursor:pointer;padding:0;border-radius:100px;font-size:16px;font-weight:inherit;line-height:1;text-align:left;-webkit-transition:all 0.25s ease-in-out;transition:all 0.25s ease-in-out;position:relative;background-color:#FFB600;color:#1A1A1A;padding:8px 16px;}.css-tu1cet:before{border:4px solid #0046BE;border-radius:100px;bottom:-8px;content:' ';left:-8px;opacity:0;position:absolute;right:-8px;top:-8px;-webkit-transition:all 0.25s ease-in-out;transition:all 0.25s ease-in-out;}.css-tu1cet:focus{outline:none;}.css-tu1cet:focus:not(:hover):not(:active):not([disabled]):before{opacity:1;}.css-tu1cet:hover:not([disabled]){-webkit-transform:scale(1.05);-moz-transform:scale(1.05);-ms-transform:scale(1.05);transform:scale(1.05);}.css-tu1cet:active:not([disabled]){background-color:#FFB600;-webkit-transform:scale(1);-moz-transform:scale(1);-ms-transform:scale(1);transform:scale(1);}.css-tu1cet[disabled]{background-color:#E1E1E1;color:#767676;cursor:not-allowed;}.css-tu1cet[loading]{color:#E1E1E1;}</style><button class=\"css-tu1cet eh475bn1\" data-linkid=\"nn1ov4\" font-weight=\"inherit\" type=\"submit\">fouled up<!-- --> </button></li><li><a class=\"css-1n6g4vv eh475bn0\" data-linkid=\"nn1ov4\" font-weight=\"inherit\" href=\"/browse/glassy-eyed\">glassy-eyed<!-- --> </a></li><li><button class=\"css-tu1cet eh475bn1\" data-linkid=\"nn1ov4\" font-weight=\"inherit\" type=\"submit\">mixed up<!-- --> </button></li><li><a class=\"css-1n6g4vv eh475bn0\" data-linkid=\"nn1ov4\" font-weight=\"inherit\" href=\"/browse/not%20with%20it\">not with it<!-- --> </a></li><li><a class=\"css-1n6g4vv eh475bn0\" data-linkid=\"nn1ov4\" font-weight=\"inherit\" href=\"/browse/out%20to%20lunch\">out to lunch<!-- --> </a></li><li><a class=\"css-1n6g4vv eh475bn0\" data-linkid=\"nn1ov4\" font-weight=\"inherit\" href=\"/browse/punch-drunk\">punch-drunk<!-- --> </a></li><li><a class=\"css-1n6g4vv eh475bn0\" data-linkid=\"nn1ov4\" font-weight=\"inherit\" href=\"/browse/punchy\">punchy<!-- --> </a></li><li><a class=\"css-1n6g4vv eh475bn0\" data-linkid=\"nn1ov4\" font-weight=\"inherit\" href=\"/browse/screwy\">screwy<!-- --> </a></li><li><a class=\"css-1n6g4vv eh475bn0\" data-linkid=\"nn1ov4\" font-weight=\"inherit\" href=\"/browse/shook%20up\">shook up<!-- --> </a></li><li><a class=\"css-1n6g4vv eh475bn0\" data-linkid=\"nn1ov4\" font-weight=\"inherit\" href=\"/browse/shot%20to%20pieces\">shot to pieces<!-- --> </a></li><li><a class=\"css-1n6g4vv eh475bn0\" data-linkid=\"nn1ov4\" font-weight=\"inherit\" href=\"/browse/slaphappy\">slaphappy<!-- --> </a></li><li><a class=\"css-1n6g4vv eh475bn0\" data-linkid=\"nn1ov4\" font-weight=\"inherit\" href=\"/browse/spaced%20out\">spaced out<!-- --> </a></li><li><a class=\"css-1n6g4vv eh475bn0\" data-linkid=\"nn1ov4\" font-weight=\"inherit\" href=\"/browse/taken%20aback\">taken aback<!-- --> </a></li><li><a class=\"css-1n6g4vv eh475bn0\" data-linkid=\"nn1ov4\" font-weight=\"inherit\" href=\"/browse/thrown%20off%20balance\">thrown off balance<!-- --> </a></li><li><a class=\"css-1n6g4vv eh475bn0\" data-linkid=\"nn1ov4\" font-weight=\"inherit\" href=\"/browse/unglued\">unglued<!-- --> </a></li></ul>"
      ]
     },
     "execution_count": 24,
     "metadata": {},
     "output_type": "execute_result"
    }
   ],
   "source": [
    "texts"
   ]
  },
  {
   "cell_type": "code",
   "execution_count": null,
   "metadata": {},
   "outputs": [],
   "source": []
  }
 ],
 "metadata": {
  "interpreter": {
   "hash": "ce44b17c45080b8f56a19c9450d52461d624c968fcd959bb1916985c5ffa2b94"
  },
  "kernelspec": {
   "display_name": "Python 3.8.5 64-bit ('base': conda)",
   "name": "python3"
  },
  "language_info": {
   "codemirror_mode": {
    "name": "ipython",
    "version": 3
   },
   "file_extension": ".py",
   "mimetype": "text/x-python",
   "name": "python",
   "nbconvert_exporter": "python",
   "pygments_lexer": "ipython3",
   "version": "3.8.5"
  }
 },
 "nbformat": 4,
 "nbformat_minor": 4
}
