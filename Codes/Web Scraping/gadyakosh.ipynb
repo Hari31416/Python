{
 "cells": [
  {
   "cell_type": "code",
   "execution_count": 1,
   "metadata": {},
   "outputs": [],
   "source": [
    "import requests\n",
    "import bs4\n",
    "import pandas as pd\n",
    "import re"
   ]
  },
  {
   "cell_type": "code",
   "execution_count": 6,
   "metadata": {},
   "outputs": [],
   "source": [
    "link = 'http://gadyakosh.org/gk/%E0%A4%AE%E0%A4%BE%E0%A4%A8%E0%A4%B8%E0%A4%B0%E0%A5%8B%E0%A4%B5%E0%A4%B0_%E0%A4%AD%E0%A4%BE%E0%A4%97-1_/_%E0%A4%AA%E0%A5%8D%E0%A4%B0%E0%A5%87%E0%A4%AE%E0%A4%9A%E0%A4%82%E0%A4%A6'\n",
    "code = requests.get(link)\n",
    "soup = bs4.BeautifulSoup(code.text, \"lxml\")"
   ]
  },
  {
   "cell_type": "code",
   "execution_count": 7,
   "metadata": {},
   "outputs": [
    {
     "name": "stdout",
     "output_type": "stream",
     "text": [
      "/\n",
      "http://gadyakosh.org/gk/otherapps/redirect.php?u=https://techwelkin.com/tools/english-to-hindi-typing-online-tool-unicode-converter/\n",
      "http://gadyakosh.org/gk/otherapps/redirect.php?u=https://techwelkin.com/tools/hindi-proof-reader-editor/\n",
      "http://gadyakosh.org/gk/otherapps/redirect.php?u=https://techwelkin.com/tools/online-english-to-gujarati-typing-conversion/\n",
      "http://gadyakosh.org/gk/otherapps/redirect.php?u=https://techwelkin.com/tools/online-english-to-bengali-typing-conversion/\n",
      "http://gadyakosh.org/gk/otherapps/redirect.php?u=https://techwelkin.com/tools/online-english-to-urdu-typing-conversion/\n",
      "http://gadyakosh.org/gk/otherapps/redirect.php?u=https://techwelkin.com/tools/online-marathi-typing-english-font-keyboard-converter/\n",
      "http://gadyakosh.org/gk/otherapps/redirect.php?u=https://techwelkin.com/tools/online-english-to-telugu-typing-conversion/\n",
      "http://gadyakosh.org/gk/otherapps/redirect.php?u=https://techwelkin.com/tools/english-to-malayalam-typing-online-tool-unicode-converter/\n",
      "http://gadyakosh.org/gk/otherapps/redirect.php?u=https://techwelkin.com/tools/online-english-to-kannada-typing-conversion/\n",
      "http://gadyakosh.org/gk/otherapps/redirect.php?u=https://techwelkin.com/tools/online-english-to-punjabi-typing-conversion/\n",
      "http://gadyakosh.org/gk/otherapps/redirect.php?u=https://techwelkin.com/tools/english-to-oriya-typing-online-tool-unicode-converter/\n",
      "http://gadyakosh.org/gk/otherapps/redirect.php?u=https://techwelkin.com/tools/online-english-to-tamil-typing-conversion/\n",
      "http://gadyakosh.org/gk/otherapps/redirect.php?u=https://techwelkin.com/tools/english-to-sanskrit-typing-online-tool-unicode-converter/\n",
      "http://gadyakosh.org/gk/otherapps/redirect.php?u=https://techwelkin.com/tools/krutidev-unicode-krutidev-font-converter/\n",
      "http://gadyakosh.org/gk/otherapps/redirect.php?u=https://techwelkin.com/tools/chanakya-unicode-chanakya-font-converter/\n",
      "http://gadyakosh.org/gk/otherapps/redirect.php?u=https://techwelkin.com/tools/shivaji-to-unicode-font-converter/\n",
      "http://gadyakosh.org/gk/otherapps/redirect.php?u=https://techwelkin.com/tools/shusha-unicode-shusha-font-converter/\n",
      "http://gadyakosh.org/gk/otherapps/redirect.php?u=https://techwelkin.com/tools/devlys-unicode-devlys-font-converter/\n",
      "http://gadyakosh.org/gk/otherapps/redirect.php?u=https://techwelkin.com/tools/kundli-unicode-kundli-font-converter/\n",
      "http://kavitakosh.org/kk/ई-पुस्तकें\n",
      "http://kavitakosh.org/kk/साझा_मंच\n",
      "/gk/शहरी_बस्तियों_से\n",
      "/gk/रचनाकारों की सूची\n",
      "/gk/राजस्थानी भाषा\n",
      "/gk/अंगिका\n",
      "/gk/खोज_पृष्ठ\n",
      "/gk/रचनाएँ_भेजें\n",
      "/gk/गद्य कोश में श्रेणियाँ\n",
      "/gk/कालजयी साहित्य\n",
      "/gk/भारतीय भाषाओं से अनूदित\n",
      "/gk/विदेशी भाषाओं से अनूदित\n",
      "/gk/श्रेणी:कहानी\n",
      "/gk/श्रेणी:लेख\n",
      "/gk/श्रेणी:उपन्यास\n",
      "/gk/श्रेणी:लघुकथा\n",
      "/gk/श्रेणी:प्रेरक कहानी\n",
      "/gk/श्रेणी:बाल कथाएँ\n",
      "/gk/श्रेणी:नाटक\n",
      "/gk/श्रेणी:जीवन-वृत्त\n",
      "/gk/श्रेणी:भाषा-विचार\n",
      "/gk/श्रेणी:आलोचना\n",
      "/gk/श्रेणी:संस्मरण\n",
      "/gk/श्रेणी:व्यक्ति चित्र\n",
      "/gk/श्रेणी:आत्मकथा\n",
      "/gk/श्रेणी:व्यंग्य\n",
      "/gk/श्रेणी:निबन्ध\n",
      "/gk/श्रेणी:बाल उपन्यास\n",
      "/gk/श्रेणी:चिट्ठी-पतरी\n",
      "/gk/कॉपीराइट\n",
      "/gk/श्रेणी:उत्तर प्रदेश\n",
      "/gk/श्रेणी:उत्तराखंड\n",
      "/gk/श्रेणी:छत्तीसगढ़\n",
      "/gk/श्रेणी:झारखंड\n",
      "/gk/श्रेणी:दिल्ली\n",
      "/gk/श्रेणी:पंजाब\n",
      "/gk/श्रेणी:बिहार\n",
      "/gk/श्रेणी:मध्य प्रदेश\n",
      "/gk/श्रेणी:राजस्थान\n",
      "/gk/श्रेणी:हरियाणा\n",
      "/gk/श्रेणी:हिमाचल प्रदेश\n",
      "/gk/विशेष:लॉगिन\n",
      "/gk/%E0%A4%AE%E0%A4%BE%E0%A4%A8%E0%A4%B8%E0%A4%B0%E0%A5%8B%E0%A4%B5%E0%A4%B0_%E0%A4%AD%E0%A4%BE%E0%A4%97-1_/_%E0%A4%AA%E0%A5%8D%E0%A4%B0%E0%A5%87%E0%A4%AE%E0%A4%9A%E0%A4%82%E0%A4%A6\n",
      "/gk/index.php?title=%E0%A4%B5%E0%A4%BE%E0%A4%B0%E0%A5%8D%E0%A4%A4%E0%A4%BE:%E0%A4%AE%E0%A4%BE%E0%A4%A8%E0%A4%B8%E0%A4%B0%E0%A5%8B%E0%A4%B5%E0%A4%B0_%E0%A4%AD%E0%A4%BE%E0%A4%97-1_/_%E0%A4%AA%E0%A5%8D%E0%A4%B0%E0%A5%87%E0%A4%AE%E0%A4%9A%E0%A4%82%E0%A4%A6&action=edit&redlink=1\n",
      "/gk/index.php?title=%E0%A4%AE%E0%A4%BE%E0%A4%A8%E0%A4%B8%E0%A4%B0%E0%A5%8B%E0%A4%B5%E0%A4%B0_%E0%A4%AD%E0%A4%BE%E0%A4%97-1_/_%E0%A4%AA%E0%A5%8D%E0%A4%B0%E0%A5%87%E0%A4%AE%E0%A4%9A%E0%A4%82%E0%A4%A6&action=edit\n",
      "/gk/index.php?title=%E0%A4%AE%E0%A4%BE%E0%A4%A8%E0%A4%B8%E0%A4%B0%E0%A5%8B%E0%A4%B5%E0%A4%B0_%E0%A4%AD%E0%A4%BE%E0%A4%97-1_/_%E0%A4%AA%E0%A5%8D%E0%A4%B0%E0%A5%87%E0%A4%AE%E0%A4%9A%E0%A4%82%E0%A4%A6&action=history\n",
      "/gk/index.php?title=%E0%A4%B5%E0%A4%BF%E0%A4%B6%E0%A5%87%E0%A4%B7:%E0%A4%B2%E0%A5%89%E0%A4%97%E0%A4%BF%E0%A4%A8&returnto=%E0%A4%AE%E0%A4%BE%E0%A4%A8%E0%A4%B8%E0%A4%B0%E0%A5%8B%E0%A4%B5%E0%A4%B0+%E0%A4%AD%E0%A4%BE%E0%A4%97-1+%2F+%E0%A4%AA%E0%A5%8D%E0%A4%B0%E0%A5%87%E0%A4%AE%E0%A4%9A%E0%A4%82%E0%A4%A6\n",
      "None\n",
      "#column-one\n",
      "#searchInput\n",
      "/gk/%E0%A4%AA%E0%A5%8D%E0%A4%B0%E0%A5%87%E0%A4%AE%E0%A4%9A%E0%A4%82%E0%A4%A6\n",
      "/gk/%E0%A4%85%E0%A4%B2%E0%A4%97%E0%A5%8D%E0%A4%AF%E0%A5%8B%E0%A4%9D%E0%A4%BE_/_%E0%A4%AA%E0%A5%8D%E0%A4%B0%E0%A5%87%E0%A4%AE%E0%A4%9A%E0%A4%82%E0%A4%A6\n",
      "/gk/%E0%A4%88%E0%A4%A6%E0%A4%97%E0%A4%BE%E0%A4%B9_/_%E0%A4%AA%E0%A5%8D%E0%A4%B0%E0%A5%87%E0%A4%AE%E0%A4%9A%E0%A4%82%E0%A4%A6\n",
      "/gk/%E0%A4%AE%E0%A4%BE%E0%A4%81_/_%E0%A4%AA%E0%A5%8D%E0%A4%B0%E0%A5%87%E0%A4%AE%E0%A4%9A%E0%A4%82%E0%A4%A6\n",
      "/gk/%E0%A4%AC%E0%A5%87%E0%A4%9F%E0%A5%8B%E0%A4%82%E0%A4%B5%E0%A4%BE%E0%A4%B2%E0%A5%80_%E0%A4%B5%E0%A4%BF%E0%A4%A7%E0%A4%B5%E0%A4%BE_/_%E0%A4%AA%E0%A5%8D%E0%A4%B0%E0%A5%87%E0%A4%AE%E0%A4%9A%E0%A4%82%E0%A4%A6\n",
      "/gk/%E0%A4%AC%E0%A4%A1%E0%A4%BC%E0%A5%87_%E0%A4%AD%E0%A4%BE%E0%A4%88_%E0%A4%B8%E0%A4%BE%E0%A4%B9%E0%A4%AC_/_%E0%A4%AA%E0%A5%8D%E0%A4%B0%E0%A5%87%E0%A4%AE%E0%A4%9A%E0%A4%82%E0%A4%A6\n",
      "/gk/%E0%A4%B6%E0%A4%BE%E0%A4%82%E0%A4%A4%E0%A4%BF_/_%E0%A4%AA%E0%A5%8D%E0%A4%B0%E0%A5%87%E0%A4%AE%E0%A4%9A%E0%A4%82%E0%A4%A6\n",
      "/gk/%E0%A4%A8%E0%A4%B6%E0%A4%BE_/_%E0%A4%AA%E0%A5%8D%E0%A4%B0%E0%A5%87%E0%A4%AE%E0%A4%9A%E0%A4%82%E0%A4%A6\n",
      "/gk/%E0%A4%B8%E0%A5%8D%E0%A4%B5%E0%A4%BE%E0%A4%AE%E0%A4%BF%E0%A4%A8%E0%A5%80_/_%E0%A4%AA%E0%A5%8D%E0%A4%B0%E0%A5%87%E0%A4%AE%E0%A4%9A%E0%A4%82%E0%A4%A6\n",
      "/gk/%E0%A4%A0%E0%A4%BE%E0%A4%95%E0%A5%81%E0%A4%B0_%E0%A4%95%E0%A4%BE_%E0%A4%95%E0%A5%81%E0%A4%86%E0%A4%81_/_%E0%A4%AA%E0%A5%8D%E0%A4%B0%E0%A5%87%E0%A4%AE%E0%A4%9A%E0%A4%82%E0%A4%A6\n",
      "/gk/%E0%A4%98%E0%A4%B0_%E0%A4%9C%E0%A4%AE%E0%A4%BE%E0%A4%88_/_%E0%A4%AA%E0%A5%8D%E0%A4%B0%E0%A5%87%E0%A4%AE%E0%A4%9A%E0%A4%82%E0%A4%A6\n",
      "/gk/%E0%A4%AA%E0%A5%82%E0%A4%B8_%E0%A4%95%E0%A5%80_%E0%A4%B0%E0%A4%BE%E0%A4%A4_/_%E0%A4%AA%E0%A5%8D%E0%A4%B0%E0%A5%87%E0%A4%AE%E0%A4%9A%E0%A4%82%E0%A4%A6\n",
      "/gk/%E0%A4%9D%E0%A4%BE%E0%A4%81%E0%A4%95%E0%A5%80_/_%E0%A4%AA%E0%A5%8D%E0%A4%B0%E0%A5%87%E0%A4%AE%E0%A4%9A%E0%A4%82%E0%A4%A6\n",
      "/gk/%E0%A4%97%E0%A5%81%E0%A4%B2%E0%A5%8D%E0%A4%B2%E0%A5%80-%E0%A4%A1%E0%A4%82%E0%A4%A1%E0%A4%BE_/_%E0%A4%AA%E0%A5%8D%E0%A4%B0%E0%A5%87%E0%A4%AE%E0%A4%9A%E0%A4%82%E0%A4%A6\n",
      "/gk/%E0%A4%9C%E0%A5%8D%E0%A4%AF%E0%A5%8B%E0%A4%A4%E0%A4%BF_/_%E0%A4%AA%E0%A5%8D%E0%A4%B0%E0%A5%87%E0%A4%AE%E0%A4%9A%E0%A4%82%E0%A4%A6\n",
      "/gk/%E0%A4%A6%E0%A4%BF%E0%A4%B2_%E0%A4%95%E0%A5%80_%E0%A4%B0%E0%A4%BE%E0%A4%A8%E0%A5%80_/_%E0%A4%AA%E0%A5%8D%E0%A4%B0%E0%A5%87%E0%A4%AE%E0%A4%9A%E0%A4%82%E0%A4%A6\n",
      "/gk/%E0%A4%A7%E0%A4%BF%E0%A4%95%E0%A5%8D%E0%A4%95%E0%A4%BE%E0%A4%B0_/_%E0%A4%AA%E0%A5%8D%E0%A4%B0%E0%A5%87%E0%A4%AE%E0%A4%9A%E0%A4%82%E0%A4%A6\n",
      "/gk/%E0%A4%95%E0%A4%BE%E0%A4%AF%E0%A4%B0_/_%E0%A4%AA%E0%A5%8D%E0%A4%B0%E0%A5%87%E0%A4%AE%E0%A4%9A%E0%A4%82%E0%A4%A6\n",
      "/gk/%E0%A4%B6%E0%A4%BF%E0%A4%95%E0%A4%BE%E0%A4%B0_/_%E0%A4%AA%E0%A5%8D%E0%A4%B0%E0%A5%87%E0%A4%AE%E0%A4%9A%E0%A4%82%E0%A4%A6\n",
      "/gk/%E0%A4%B8%E0%A5%81%E0%A4%AD%E0%A4%BE%E0%A4%97%E0%A5%80_/_%E0%A4%AA%E0%A5%8D%E0%A4%B0%E0%A5%87%E0%A4%AE%E0%A4%9A%E0%A4%82%E0%A4%A6\n",
      "/gk/%E0%A4%85%E0%A4%A8%E0%A5%81%E0%A4%AD%E0%A4%B5_/_%E0%A4%AA%E0%A5%8D%E0%A4%B0%E0%A5%87%E0%A4%AE%E0%A4%9A%E0%A4%82%E0%A4%A6\n",
      "/gk/%E0%A4%86%E0%A4%96%E0%A4%BF%E0%A4%B0%E0%A5%80_%E0%A4%B9%E0%A5%80%E0%A4%B2%E0%A4%BE_/_%E0%A4%AA%E0%A5%8D%E0%A4%B0%E0%A5%87%E0%A4%AE%E0%A4%9A%E0%A4%82%E0%A4%A6\n",
      "/gk/%E0%A4%A4%E0%A4%BE%E0%A4%B5%E0%A4%BE%E0%A4%A8_/_%E0%A4%AA%E0%A5%8D%E0%A4%B0%E0%A5%87%E0%A4%AE%E0%A4%9A%E0%A4%82%E0%A4%A6\n",
      "/gk/%E0%A4%98%E0%A4%BE%E0%A4%B8%E0%A4%B5%E0%A4%BE%E0%A4%B2%E0%A5%80_/_%E0%A4%AA%E0%A5%8D%E0%A4%B0%E0%A5%87%E0%A4%AE%E0%A4%9A%E0%A4%82%E0%A4%A6\n",
      "/gk/%E0%A4%97%E0%A4%BF%E0%A4%B2%E0%A4%BE_/_%E0%A4%AA%E0%A5%8D%E0%A4%B0%E0%A5%87%E0%A4%AE%E0%A4%9A%E0%A4%82%E0%A4%A6\n",
      "/gk/%E0%A4%B0%E0%A4%B8%E0%A4%BF%E0%A4%95_%E0%A4%B8%E0%A4%82%E0%A4%AA%E0%A4%BE%E0%A4%A6%E0%A4%95_/_%E0%A4%AA%E0%A5%8D%E0%A4%B0%E0%A5%87%E0%A4%AE%E0%A4%9A%E0%A4%82%E0%A4%A6\n",
      "/gk/%E0%A4%AE%E0%A4%A8%E0%A5%8B%E0%A4%B5%E0%A5%83%E0%A4%A4%E0%A5%8D%E0%A4%A4%E0%A4%BF_/_%E0%A4%AA%E0%A5%8D%E0%A4%B0%E0%A5%87%E0%A4%AE%E0%A4%9A%E0%A4%82%E0%A4%A6\n",
      "http://gadyakosh.org/gk/index.php?title=मानसरोवर_भाग-1_/_प्रेमचंद&oldid=17887\n",
      "/gk/%E0%A4%B5%E0%A4%BF%E0%A4%B6%E0%A5%87%E0%A4%B7:%E0%A4%B6%E0%A5%8D%E0%A4%B0%E0%A5%87%E0%A4%A3%E0%A4%BF%E0%A4%AF%E0%A4%BE%E0%A4%81\n",
      "/gk/%E0%A4%B6%E0%A5%8D%E0%A4%B0%E0%A5%87%E0%A4%A3%E0%A5%80:%E0%A4%AA%E0%A5%81%E0%A4%B8%E0%A5%8D%E0%A4%A4%E0%A4%95\n",
      "/gk/%E0%A4%AE%E0%A5%81%E0%A4%96%E0%A4%AA%E0%A5%83%E0%A4%B7%E0%A5%8D%E0%A4%A0\n",
      "/gk/%E0%A4%B5%E0%A4%BF%E0%A4%B6%E0%A5%87%E0%A4%B7:%E0%A4%95%E0%A4%A1%E0%A4%BC%E0%A4%BF%E0%A4%AF%E0%A4%BE%E0%A4%81/%E0%A4%AE%E0%A4%BE%E0%A4%A8%E0%A4%B8%E0%A4%B0%E0%A5%8B%E0%A4%B5%E0%A4%B0_%E0%A4%AD%E0%A4%BE%E0%A4%97-1_/_%E0%A4%AA%E0%A5%8D%E0%A4%B0%E0%A5%87%E0%A4%AE%E0%A4%9A%E0%A4%82%E0%A4%A6\n",
      "/gk/%E0%A4%B5%E0%A4%BF%E0%A4%B6%E0%A5%87%E0%A4%B7:RecentChangesLinked/%E0%A4%AE%E0%A4%BE%E0%A4%A8%E0%A4%B8%E0%A4%B0%E0%A5%8B%E0%A4%B5%E0%A4%B0_%E0%A4%AD%E0%A4%BE%E0%A4%97-1_/_%E0%A4%AA%E0%A5%8D%E0%A4%B0%E0%A5%87%E0%A4%AE%E0%A4%9A%E0%A4%82%E0%A4%A6\n",
      "/gk/%E0%A4%B5%E0%A4%BF%E0%A4%B6%E0%A5%87%E0%A4%B7:%E0%A4%B5%E0%A4%BF%E0%A4%B6%E0%A5%87%E0%A4%B7_%E0%A4%AA%E0%A5%83%E0%A4%B7%E0%A5%8D%E0%A4%A0\n",
      "/gk/index.php?title=%E0%A4%AE%E0%A4%BE%E0%A4%A8%E0%A4%B8%E0%A4%B0%E0%A5%8B%E0%A4%B5%E0%A4%B0_%E0%A4%AD%E0%A4%BE%E0%A4%97-1_/_%E0%A4%AA%E0%A5%8D%E0%A4%B0%E0%A5%87%E0%A4%AE%E0%A4%9A%E0%A4%82%E0%A4%A6&printable=yes\n",
      "/gk/index.php?title=%E0%A4%AE%E0%A4%BE%E0%A4%A8%E0%A4%B8%E0%A4%B0%E0%A5%8B%E0%A4%B5%E0%A4%B0_%E0%A4%AD%E0%A4%BE%E0%A4%97-1_/_%E0%A4%AA%E0%A5%8D%E0%A4%B0%E0%A5%87%E0%A4%AE%E0%A4%9A%E0%A4%82%E0%A4%A6&oldid=17887\n",
      "/gk/index.php?title=%E0%A4%AE%E0%A4%BE%E0%A4%A8%E0%A4%B8%E0%A4%B0%E0%A5%8B%E0%A4%B5%E0%A4%B0_%E0%A4%AD%E0%A4%BE%E0%A4%97-1_/_%E0%A4%AA%E0%A5%8D%E0%A4%B0%E0%A5%87%E0%A4%AE%E0%A4%9A%E0%A4%82%E0%A4%A6&action=info\n",
      "https://twitter.com/share?url=http://gadyakosh.org/gk/%E0%A4%AE%E0%A4%BE%E0%A4%A8%E0%A4%B8%E0%A4%B0%E0%A5%8B%E0%A4%B5%E0%A4%B0_%E0%A4%AD%E0%A4%BE%E0%A4%97-1_/_%E0%A4%AA%E0%A5%8D%E0%A4%B0%E0%A5%87%E0%A4%AE%E0%A4%9A%E0%A4%82%E0%A4%A6&text=मानसरोवर भाग-1 / प्रेमचंद&lang=hi&via=GadyaKosh\n",
      "https://www.facebook.com/sharer/sharer.php?u=http://gadyakosh.org/gk/%E0%A4%AE%E0%A4%BE%E0%A4%A8%E0%A4%B8%E0%A4%B0%E0%A5%8B%E0%A4%B5%E0%A4%B0_%E0%A4%AD%E0%A4%BE%E0%A4%97-1_/_%E0%A4%AA%E0%A5%8D%E0%A4%B0%E0%A5%87%E0%A4%AE%E0%A4%9A%E0%A4%82%E0%A4%A6\n",
      "https://plus.google.com/share?url=http://gadyakosh.org/gk/%E0%A4%AE%E0%A4%BE%E0%A4%A8%E0%A4%B8%E0%A4%B0%E0%A5%8B%E0%A4%B5%E0%A4%B0_%E0%A4%AD%E0%A4%BE%E0%A4%97-1_/_%E0%A4%AA%E0%A5%8D%E0%A4%B0%E0%A5%87%E0%A4%AE%E0%A4%9A%E0%A4%82%E0%A4%A6\n",
      "whatsapp://send?text=http://gadyakosh.org/gk/%E0%A4%AE%E0%A4%BE%E0%A4%A8%E0%A4%B8%E0%A4%B0%E0%A5%8B%E0%A4%B5%E0%A4%B0_%E0%A4%AD%E0%A4%BE%E0%A4%97-1_/_%E0%A4%AA%E0%A5%8D%E0%A4%B0%E0%A5%87%E0%A4%AE%E0%A4%9A%E0%A4%82%E0%A4%A6\n",
      "https://www.facebook.com/gadyakosh\n",
      "https://www.facebook.com/lalitkumarfb\n",
      "https://plus.google.com/u/4/115683132326442301038\n",
      "https://plus.google.com/+LalitKumar/posts\n",
      "//www.mediawiki.org/\n",
      "/gk/Gadya_Kosh:%E0%A4%97%E0%A5%8B%E0%A4%AA%E0%A4%A8%E0%A5%80%E0%A4%AF%E0%A4%A4%E0%A4%BE_%E0%A4%A8%E0%A5%80%E0%A4%A4%E0%A4%BF\n",
      "/gk/Gadya_Kosh:%E0%A4%AA%E0%A4%B0%E0%A4%BF%E0%A4%9A%E0%A4%AF\n",
      "/gk/Gadya_Kosh:%E0%A4%B8%E0%A4%BE%E0%A4%A7%E0%A4%BE%E0%A4%B0%E0%A4%A3_%E0%A4%85%E0%A4%B8%E0%A5%8D%E0%A4%B5%E0%A5%80%E0%A4%95%E0%A4%B0%E0%A4%A3\n"
     ]
    }
   ],
   "source": [
    "for link in soup.find_all('a'):\n",
    "    print(link.get('href'))"
   ]
  },
  {
   "cell_type": "code",
   "execution_count": 4,
   "metadata": {},
   "outputs": [
    {
     "data": {
      "text/plain": [
       "'<li> <a href=\"/gk/%E0%A4%85%E0%A4%B2%E0%A4%97%E0%A5%8D%E0%A4%AF%E0%A5%8B%E0%A4%9D%E0%A4%BE_/_%E0%A4%AA%E0%A5%8D%E0%A4%B0%E0%A5%87%E0%A4%AE%E0%A4%9A%E0%A4%82%E0%A4%A6\" title=\"अलग्योझा / प्रेमचंद\">अलग्योझा / प्रेमचंद</a></li>'"
      ]
     },
     "execution_count": 4,
     "metadata": {},
     "output_type": "execute_result"
    }
   ],
   "source": [
    "text = str(soup.select('.mw-content-ltr ul li')[0])\n",
    "text"
   ]
  },
  {
   "cell_type": "code",
   "execution_count": 5,
   "metadata": {},
   "outputs": [
    {
     "data": {
      "text/plain": [
       "'http://gadyakosh.org/gk/%E0%A4%85%E0%A4%B2%E0%A4%97%E0%A5%8D%E0%A4%AF%E0%A5%8B%E0%A4%9D%E0%A4%BE_/_%E0%A4%AA%E0%A5%8D%E0%A4%B0%E0%A5%87%E0%A4%AE%E0%A4%9A%E0%A4%82%E0%A4%A6'"
      ]
     },
     "execution_count": 5,
     "metadata": {},
     "output_type": "execute_result"
    }
   ],
   "source": [
    "pattern = r\"href=\\\"(.*)title\"\n",
    "new_url = re.findall(pattern, text)[0].strip()\n",
    "new_url = 'http://gadyakosh.org'+new_url[:-1]\n",
    "new_url"
   ]
  },
  {
   "cell_type": "code",
   "execution_count": 10,
   "metadata": {},
   "outputs": [
    {
     "data": {
      "text/plain": [
       "bs4.element.Comment"
      ]
     },
     "execution_count": 10,
     "metadata": {},
     "output_type": "execute_result"
    }
   ],
   "source": [
    "markup = \"<b><!--Hey, buddy. Want to buy a used parser?--></b>\"\n",
    "soup = bs4.BeautifulSoup(markup, 'html.parser')\n",
    "comment = soup.b.string\n",
    "type(comment)"
   ]
  },
  {
   "cell_type": "code",
   "execution_count": 14,
   "metadata": {},
   "outputs": [
    {
     "data": {
      "text/plain": [
       "''"
      ]
     },
     "execution_count": 14,
     "metadata": {},
     "output_type": "execute_result"
    }
   ],
   "source": [
    "soup.select('b')[0].text"
   ]
  },
  {
   "cell_type": "code",
   "execution_count": 33,
   "metadata": {},
   "outputs": [],
   "source": [
    "link = 'https://www.mohfw.gov.in/'\n",
    "code = requests.get(link)\n",
    "soup = bs4.BeautifulSoup(code.text, 'lxml')"
   ]
  },
  {
   "cell_type": "code",
   "execution_count": 38,
   "metadata": {},
   "outputs": [],
   "source": [
    "file = str(soup.select('.statetable')[0])"
   ]
  },
  {
   "cell_type": "code",
   "execution_count": 49,
   "metadata": {},
   "outputs": [],
   "source": [
    "pattern = '<!--<tbody>'\n",
    "file = re.sub(pattern, '<tbody>', file)"
   ]
  },
  {
   "cell_type": "code",
   "execution_count": 50,
   "metadata": {},
   "outputs": [],
   "source": [
    "with open('table.html', 'w', encoding=\"utf-8\") as f:\n",
    "    f.write(file)"
   ]
  },
  {
   "cell_type": "code",
   "execution_count": 52,
   "metadata": {},
   "outputs": [],
   "source": [
    "df = pd.read_html('table.html')"
   ]
  },
  {
   "cell_type": "code",
   "execution_count": 53,
   "metadata": {},
   "outputs": [
    {
     "data": {
      "text/plain": [
       "[   S. No.                        Name of State / UT Active Cases*  \\\n",
       "    S. No.                        Name of State / UT         Total   \n",
       " 0     1.0               Andaman and Nicobar Islands            47   \n",
       " 1     2.0                            Andhra Pradesh         18159   \n",
       " 2     3.0                         Arunachal Pradesh           387   \n",
       " 3     4.0                                     Assam          6818   \n",
       " 4     5.0                                     Bihar          7549   \n",
       " 5     6.0                                Chandigarh           164   \n",
       " 6     7.0                              Chhattisgarh          1260   \n",
       " 7     8.0  Dadra and Nagar Haveli and Daman and Diu           179   \n",
       " 8     9.0                                     Delhi         17407   \n",
       " 9    10.0                                       Goa          1272   \n",
       " 10   11.0                                   Gujarat         11289   \n",
       " 11   12.0                                   Haryana          5495   \n",
       " 12   13.0                          Himachal Pradesh           382   \n",
       " 13   14.0                         Jammu and Kashmir          5488   \n",
       " 14   15.0                                 Jharkhand          2069   \n",
       " 15   16.0                                 Karnataka         30661   \n",
       " 16   17.0                                    Kerala          5376   \n",
       " 17   18.0                                    Ladakh           176   \n",
       " 18   19.0                            Madhya Pradesh          5562   \n",
       " 19   20.0                               Maharashtra        114947   \n",
       " 20   21.0                                   Manipur           635   \n",
       " 21   22.0                                 Meghalaya           309   \n",
       " 22   23.0                                   Mizoram           112   \n",
       " 23   24.0                                  Nagaland           525   \n",
       " 24   25.0                                    Odisha          4436   \n",
       " 25   26.0                                Puducherry           774   \n",
       " 26   27.0                                    Punjab          2587   \n",
       " 27   28.0                                 Rajasthan          6666   \n",
       " 28   29.0                                    Sikkim           155   \n",
       " 29   30.0                                Tamil Nadu         46717   \n",
       " 30   31.0                                 Telangana         13327   \n",
       " 31   32.0                                   Tripura           676   \n",
       " 32   33.0                               Uttarakhand           937   \n",
       " 33   34.0                             Uttar Pradesh         15720   \n",
       " 34   35.0                               West Bengal         13679   \n",
       " 35    NaN          Cases being reassigned to states           531   \n",
       " 36    NaN                                    Total#        342473   \n",
       " \n",
       "                                                 Cured/Discharged/Migrated*  \\\n",
       "    Change since yesterdayChange since yesterday                 Cumulative   \n",
       " 0                                         133.0                        0.0   \n",
       " 1                                       19393.0                      492.0   \n",
       " 2                                         153.0                        3.0   \n",
       " 3                                       12888.0                       48.0   \n",
       " 4                                       14018.0                      197.0   \n",
       " 5                                         476.0                       11.0   \n",
       " 6                                        3451.0                       21.0   \n",
       " 7                                         371.0                        2.0   \n",
       " 8                                       97693.0                     3545.0   \n",
       " 9                                        1817.0                       19.0   \n",
       " 10                                      32103.0                     2089.0   \n",
       " 11                                      18185.0                      322.0   \n",
       " 12                                        984.0                       11.0   \n",
       " 13                                       6446.0                      222.0   \n",
       " 14                                       2513.0                       42.0   \n",
       " 15                                      19729.0                     1032.0   \n",
       " 16                                       4862.0                       37.0   \n",
       " 17                                        970.0                        1.0   \n",
       " 18                                      14127.0                      689.0   \n",
       " 19                                     158140.0                    11194.0   \n",
       " 20                                       1129.0                        0.0   \n",
       " 21                                         66.0                        2.0   \n",
       " 22                                        160.0                        0.0   \n",
       " 23                                        391.0                        0.0   \n",
       " 24                                      10877.0                       79.0   \n",
       " 25                                        947.0                       22.0   \n",
       " 26                                       6277.0                      230.0   \n",
       " 27                                      19970.0                      538.0   \n",
       " 28                                         88.0                        0.0   \n",
       " 29                                     107416.0                     2236.0   \n",
       " 30                                      27295.0                      396.0   \n",
       " 31                                       1604.0                        3.0   \n",
       " 32                                       2995.0                       50.0   \n",
       " 33                                      26675.0                     1046.0   \n",
       " 34                                      21415.0                     1023.0   \n",
       " 35                                          NaN                        NaN   \n",
       " 36                                     635757.0                    25602.0   \n",
       " \n",
       "                             Deaths**                         \n",
       "    Change since yesterday Cumulative Change since yesterday  \n",
       " 0                     NaN        NaN                    NaN  \n",
       " 1                     NaN        NaN                    NaN  \n",
       " 2                     NaN        NaN                    NaN  \n",
       " 3                     NaN        NaN                    NaN  \n",
       " 4                     NaN        NaN                    NaN  \n",
       " 5                     NaN        NaN                    NaN  \n",
       " 6                     NaN        NaN                    NaN  \n",
       " 7                     NaN        NaN                    NaN  \n",
       " 8                     NaN        NaN                    NaN  \n",
       " 9                     NaN        NaN                    NaN  \n",
       " 10                    NaN        NaN                    NaN  \n",
       " 11                    NaN        NaN                    NaN  \n",
       " 12                    NaN        NaN                    NaN  \n",
       " 13                    NaN        NaN                    NaN  \n",
       " 14                    NaN        NaN                    NaN  \n",
       " 15                    NaN        NaN                    NaN  \n",
       " 16                    NaN        NaN                    NaN  \n",
       " 17                    NaN        NaN                    NaN  \n",
       " 18                    NaN        NaN                    NaN  \n",
       " 19                    NaN        NaN                    NaN  \n",
       " 20                    NaN        NaN                    NaN  \n",
       " 21                    NaN        NaN                    NaN  \n",
       " 22                    NaN        NaN                    NaN  \n",
       " 23                    NaN        NaN                    NaN  \n",
       " 24                    NaN        NaN                    NaN  \n",
       " 25                    NaN        NaN                    NaN  \n",
       " 26                    NaN        NaN                    NaN  \n",
       " 27                    NaN        NaN                    NaN  \n",
       " 28                    NaN        NaN                    NaN  \n",
       " 29                    NaN        NaN                    NaN  \n",
       " 30                    NaN        NaN                    NaN  \n",
       " 31                    NaN        NaN                    NaN  \n",
       " 32                    NaN        NaN                    NaN  \n",
       " 33                    NaN        NaN                    NaN  \n",
       " 34                    NaN        NaN                    NaN  \n",
       " 35                    NaN        NaN                    NaN  \n",
       " 36                    NaN        NaN                    NaN  ]"
      ]
     },
     "execution_count": 53,
     "metadata": {},
     "output_type": "execute_result"
    }
   ],
   "source": [
    "df"
   ]
  },
  {
   "cell_type": "code",
   "execution_count": null,
   "metadata": {},
   "outputs": [],
   "source": []
  }
 ],
 "metadata": {
  "interpreter": {
   "hash": "ce44b17c45080b8f56a19c9450d52461d624c968fcd959bb1916985c5ffa2b94"
  },
  "kernelspec": {
   "display_name": "Python 3.8.5 64-bit ('base': conda)",
   "language": "python",
   "name": "python3"
  },
  "language_info": {
   "codemirror_mode": {
    "name": "ipython",
    "version": 3
   },
   "file_extension": ".py",
   "mimetype": "text/x-python",
   "name": "python",
   "nbconvert_exporter": "python",
   "pygments_lexer": "ipython3",
   "version": "3.8.5"
  },
  "orig_nbformat": 4
 },
 "nbformat": 4,
 "nbformat_minor": 2
}
