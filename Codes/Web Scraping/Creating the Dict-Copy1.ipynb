{
 "cells": [
  {
   "cell_type": "code",
   "execution_count": 1,
   "metadata": {},
   "outputs": [],
   "source": [
    "import pandas as pd\n",
    "import matplotlib.pyplot as plt\n",
    "import seaborn as sns\n",
    "import numpy as np\n",
    "import requests\n",
    "import bs4"
   ]
  },
  {
   "cell_type": "code",
   "execution_count": 421,
   "metadata": {},
   "outputs": [],
   "source": [
    "for i in range(len(df)):\n",
    "    with open('text.txt', 'a+') as f:\n",
    "        #text.txt should be empty\n",
    "        try:\n",
    "            previous_word = df['Word'][i-1][0]\n",
    "        except:\n",
    "            pass\n",
    "        \n",
    "        current_word = df['Word'][i][0]\n",
    "        a = f\"<button class='word {df['Priorty'][i]}'>{df['Word'][i]}</button>\"\n",
    "        b = f\"<p class='meaning hidden'>{df['Meaning'][i]}</p>\"\n",
    "        c = \"<button class='close hidden'>harikesh</button>\"\n",
    "        d = f\"<h2 class='letter', id='{current_word}'\\\">{current_word}</h2>\"\n",
    "        \n",
    "        if previous_word==current_word:\n",
    "            \n",
    "            f.writelines( a+'\\n'+b+'\\n'+c+'\\n')\n",
    "        else:\n",
    "            f.writelines(d+'\\n'+ a+'\\n'+b+'\\n'+c+'\\n')"
   ]
  },
  {
   "cell_type": "code",
   "execution_count": null,
   "metadata": {},
   "outputs": [],
   "source": []
  },
  {
   "cell_type": "code",
   "execution_count": 2,
   "metadata": {},
   "outputs": [
    {
     "data": {
      "text/plain": [
       "'C:\\\\Users\\\\harik\\\\Desktop\\\\Python\\\\Codes\\\\Web Scraping'"
      ]
     },
     "execution_count": 2,
     "metadata": {},
     "output_type": "execute_result"
    }
   ],
   "source": [
    "pwd"
   ]
  },
  {
   "cell_type": "code",
   "execution_count": 9,
   "metadata": {},
   "outputs": [],
   "source": [
    "df = pd.read_csv('data/detailed_dic.csv')"
   ]
  },
  {
   "cell_type": "code",
   "execution_count": 16,
   "metadata": {},
   "outputs": [],
   "source": [
    "the_list = df['Choose the Right Synonym Final'][0].split('<br>')"
   ]
  },
  {
   "cell_type": "code",
   "execution_count": 17,
   "metadata": {},
   "outputs": [
    {
     "data": {
      "text/plain": [
       "['mean, ignoble, abject, sordid mean being below the normal standards of human decency and dignity',\n",
       " '',\n",
       " 'mean suggests small-mindedness, ill temper, or cupidity',\n",
       " 'mean and petty satire',\n",
       " '',\n",
       " 'ignoble suggests a loss or lack of some essential high quality of mind or spirit',\n",
       " 'an ignoble scramble after material possessions',\n",
       " '',\n",
       " 'abject may imply degradation, debasement, or servility',\n",
       " 'abject poverty',\n",
       " '',\n",
       " 'sordid is stronger than all of these in stressing physical or spiritual degradation and abjectness',\n",
       " 'a sordid story of murder and revenge']"
      ]
     },
     "execution_count": 17,
     "metadata": {},
     "output_type": "execute_result"
    }
   ],
   "source": [
    "the_list"
   ]
  },
  {
   "cell_type": "code",
   "execution_count": 53,
   "metadata": {},
   "outputs": [],
   "source": [
    "def choose_correct(x):\n",
    "    the_list = x.split('\\n')\n",
    "    for m in range(2, len(the_list)):\n",
    "        if m%3 == 0:\n",
    "            text = the_list[m]\n",
    "            text = \"<i> \"+text + \" </i>\"\n",
    "            the_list[m] = text\n",
    "    return \"<br>\".join(the_list)"
   ]
  },
  {
   "cell_type": "code",
   "execution_count": 54,
   "metadata": {},
   "outputs": [
    {
     "data": {
      "text/plain": [
       "['mean, ignoble, abject, sordid mean being below the normal standards of human decency and dignity',\n",
       " '',\n",
       " 'mean suggests small-mindedness, ill temper, or cupidity',\n",
       " '<i> mean and petty satire </i>',\n",
       " '',\n",
       " 'ignoble suggests a loss or lack of some essential high quality of mind or spirit',\n",
       " '<i> an ignoble scramble after material possessions </i>',\n",
       " '',\n",
       " 'abject may imply degradation, debasement, or servility',\n",
       " '<i> abject poverty </i>',\n",
       " '',\n",
       " 'sordid is stronger than all of these in stressing physical or spiritual degradation and abjectness',\n",
       " '<i> a sordid story of murder and revenge </i>']"
      ]
     },
     "execution_count": 54,
     "metadata": {},
     "output_type": "execute_result"
    }
   ],
   "source": [
    "the_list"
   ]
  },
  {
   "cell_type": "code",
   "execution_count": 56,
   "metadata": {},
   "outputs": [
    {
     "name": "stdout",
     "output_type": "stream",
     "text": [
      "mean, ignoble, abject, sordid mean being below the normal standards of human decency and dignity<br><br>mean suggests small-mindedness, ill temper, or cupidity<br><i> mean and petty satire </i><br><br>ignoble suggests a loss or lack of some essential high quality of mind or spirit<br><i> an ignoble scramble after material possessions </i><br><br>abject may imply degradation, debasement, or servility<br><i> abject poverty </i><br><br>sordid is stronger than all of these in stressing physical or spiritual degradation and abjectness<br><i> a sordid story of murder and revenge </i>\n"
     ]
    }
   ],
   "source": [
    "print(choose_correct(df['Choose the Right Synonym'][0]))"
   ]
  },
  {
   "cell_type": "code",
   "execution_count": 58,
   "metadata": {},
   "outputs": [],
   "source": [
    "df['Choose the Right Synonym Final'] = df['Choose the Right Synonym'].apply(choose_correct)"
   ]
  },
  {
   "cell_type": "code",
   "execution_count": 60,
   "metadata": {},
   "outputs": [
    {
     "data": {
      "text/plain": [
       "'mean, ignoble, abject, sordid mean being below the normal standards of human decency and dignity<br><br>mean suggests small-mindedness, ill temper, or cupidity<br><i> mean and petty satire </i><br><br>ignoble suggests a loss or lack of some essential high quality of mind or spirit<br><i> an ignoble scramble after material possessions </i><br><br>abject may imply degradation, debasement, or servility<br><i> abject poverty </i><br><br>sordid is stronger than all of these in stressing physical or spiritual degradation and abjectness<br><i> a sordid story of murder and revenge </i>'"
      ]
     },
     "execution_count": 60,
     "metadata": {},
     "output_type": "execute_result"
    }
   ],
   "source": [
    "df['Choose the Right Synonym Final'][0]"
   ]
  },
  {
   "cell_type": "code",
   "execution_count": 47,
   "metadata": {},
   "outputs": [
    {
     "name": "stdout",
     "output_type": "stream",
     "text": [
      "mean, ignoble, abject, sordid mean being below the normal standards of human decency and dignity\n",
      "\n",
      "mean suggests small-mindedness, ill temper, or cupidity\n",
      "mean and petty satire\n",
      "\n",
      "ignoble suggests a loss or lack of some essential high quality of mind or spirit\n",
      "an ignoble scramble after material possessions\n",
      "\n",
      "abject may imply degradation, debasement, or servility\n",
      "abject poverty\n",
      "\n",
      "sordid is stronger than all of these in stressing physical or spiritual degradation and abjectness\n",
      "a sordid story of murder and revenge\n"
     ]
    }
   ],
   "source": [
    "print(df['Choose the Right Synonym Final'][0])"
   ]
  },
  {
   "cell_type": "code",
   "execution_count": 21,
   "metadata": {},
   "outputs": [],
   "source": [
    "# df.to_csv('data/detailed_dic.csv')"
   ]
  },
  {
   "cell_type": "raw",
   "metadata": {},
   "source": [
    "<h2 class='letter' , id='A'\">A</h2>\n",
    "        <button class='word first'>Abject</button>\n",
    "        <button class=\"synsBtn\">S&N</button>\n",
    "        <div class='others'>\n",
    "            <div class=\"SandA hidden\">\n",
    "                <button class=\"closeSyns\">&times;</button>\n",
    "                <h4>Near Synonyms:</h4>\n",
    "                <p class='synonyms'>base, humble, menial, servile, slavish</p>\n",
    "                <h4>Near Antonyms:</h4>\n",
    "                <p class='antonyms'>arrogant, haughty, high-handed, imperious, lordly, supercilious, superior, uppity</p>\n",
    "            </div>\n",
    "        </div>\n",
    "        <div class=\"overlaySA hidden\"></div>\n",
    "        <p class='meaning one hidden'>(Of Something Bad) Experienced Or Present To The Maximum Degree</p>\n",
    "        <p class='meaning two hidden'>sunk to or existing in a low state or condition</p>\n",
    "        <p class='meaning three hidden'>cast down in spirit</p>\n",
    "        <p class='meaning four hidden'>expressing or offered in a humble and often ingratiating spirit</p>\n",
    "        <p class='meaning five hidden'>Oops! So Empty!</p>\n",
    "        <button class='close hidden'>❌</button>\n",
    "        <button class= 'next hidden'>⏭</button>\n",
    "        <button class=\"show-modal hidden\">Find Correct</button>\n",
    "        <div class=\"modal hidden\">\n",
    "            <button class=\"close-modal\">&times;</button>\n",
    "            <h1>Choose the Right Synonym</h1>\n",
    "            <p>\n",
    "                mean, ignoble, abject, sordid mean being below the normal standards of human decency and dignity\n",
    "                <br>\n",
    "                <br>\n",
    "                mean suggests small-mindedness, ill temper, or cupidity\n",
    "                <br>\n",
    "                mean and petty satire\n",
    "                <br>\n",
    "                <br>\n",
    "                ignoble suggests a loss or lack of some essential high quality of mind or spirit\n",
    "                <br>\n",
    "                an ignoble scramble after material possessions\n",
    "                <br>\n",
    "                <br>\n",
    "                abject may imply degradation, debasement, or servility\n",
    "                <br>\n",
    "                abject poverty\n",
    "                <br><br>\n",
    "                sordid is stronger than all of these in stressing physical or spiritual degradation and abjectness\n",
    "            <br>\n",
    "                a sordid story of murder and revenge\n",
    "            </p>\n",
    "        </div>\n",
    "        <div class=\"overlay hidden\"></div>"
   ]
  },
  {
   "cell_type": "code",
   "execution_count": 61,
   "metadata": {},
   "outputs": [],
   "source": [
    "for i in range(len(df)):\n",
    "    with open('text4.txt', 'a+') as h:\n",
    "        #text.txt should be empty\n",
    "        if i == 0:\n",
    "            previous_word = 'A'\n",
    "        else:\n",
    "            previous_word = df['Word'][i-1][0]\n",
    "        \n",
    "        current_word = df['Word'][i][0]\n",
    "        text = df['Choose the Right Synonym Final']\n",
    "        syns = df['Synonyms']\n",
    "        ants = df['Antonyms']\n",
    "        a = f\"<button class='word {df['Priorty'][i]}'>{df['Word'][i]}</button>\"\n",
    "        b1 = f\"<p class='meaning one hidden'>{df['First'][i]}</p>\"\n",
    "        b2 = f\"<p class='meaning two hidden'>{df['Second'][i]}</p>\"\n",
    "        b3 = f\"<p class='meaning three hidden'>{df['Third'][i]}</p>\"\n",
    "        b4 = f\"<p class='meaning four hidden'>{df['Fourth'][i]}</p>\"\n",
    "        b5 = f\"<p class='meaning five hidden'>{df['Fifth'][i]}</p>\"\n",
    "        c = \"<button class='close hidden'>harikesh</button>\"\n",
    "        d = f\"<h2 class='letter', id='{current_word}'>{current_word}</h2>\"\n",
    "        e = \"\"\"<button class= 'next hidden'>xyz</button>\n",
    "        <button class=\"show-modal hidden\">Find Correct</button>\n",
    "        <div class=\"modal hidden\">\n",
    "            <button class=\"close-modal\">&times;</button>\n",
    "            <h1>Choose the Right Synonym</h1>\"\"\"\n",
    "        f = f\"<p>\\n{text[i]}\\n</p>\"\n",
    "        g = \"\"\"</div>\n",
    "        <div class=\"overlay hidden\"></div>\"\"\"\n",
    "        \n",
    "        s = f\"\"\"<div class='others'>\n",
    "            <div class=\"SandA hidden\">\n",
    "                <button class=\"closeSyns\">&times;</button>\n",
    "                <h4>Near Synonyms:</h4>\n",
    "                <p class='synonyms'>{syns[i]}</p>\n",
    "                <h4>Near Antonyms:</h4>\n",
    "                <p class='antonyms'>{ants[i]}</p>\n",
    "            </div>\n",
    "        </div>\n",
    "        <div class=\"overlaySA hidden\"></div>\"\"\"\n",
    "\n",
    "        if previous_word==current_word:\n",
    "#             print('h')\n",
    "            h.writelines(a+'\\n'+ s + '\\n'+b1+'\\n'+b2+'\\n'+b3+'\\n'+b4+'\\n'+b5+'\\n'+c+'\\n'+e+'\\n'+f+'\\n'+g+'\\n')\n",
    "        else:\n",
    "#             print('j')\n",
    "            h.writelines(d+'\\n'+ a+'\\n'+s + '\\n'+b1+'\\n'+b2+'\\n'+b3+'\\n'+b4+'\\n'+b5+'\\n'+c+'\\n'+e+'\\n'+f+'\\n'+g+'\\n')"
   ]
  },
  {
   "cell_type": "code",
   "execution_count": 45,
   "metadata": {},
   "outputs": [
    {
     "data": {
      "text/plain": [
       "\"<p class='meaning five hidden'>low in spirit, strength, or hope</p>\""
      ]
     },
     "execution_count": 45,
     "metadata": {},
     "output_type": "execute_result"
    }
   ],
   "source": [
    "b5"
   ]
  },
  {
   "cell_type": "code",
   "execution_count": 34,
   "metadata": {},
   "outputs": [
    {
     "name": "stdout",
     "output_type": "stream",
     "text": [
      "</div>\n",
      "<div class=\"overlay hidden\"></div>\n"
     ]
    }
   ],
   "source": [
    "print(g)"
   ]
  },
  {
   "cell_type": "code",
   "execution_count": 52,
   "metadata": {},
   "outputs": [],
   "source": [
    "with open('text3.txt', 'a+') as f:\n",
    "    f.writelines('hello\\n')\n",
    "    f.writelines('there\\n')"
   ]
  },
  {
   "cell_type": "code",
   "execution_count": 5,
   "metadata": {},
   "outputs": [],
   "source": [
    "s1 = 'hello'\n",
    "s2 = 'there'\n",
    "\n",
    "s = f\"\"\"<div class='others'>\n",
    "            <div class=\"SandA hidden\">\n",
    "                <button class=\"closeSyns\">&times;</button>\n",
    "                <h4>Near Synonyms:</h4>\n",
    "                <p class='synonyms'>{s1}</p>\n",
    "                <h4>Near Antonyms:</h4>\n",
    "                <p class='antonyms'>{s2}y</p>\n",
    "            </div>\n",
    "        </div>\n",
    "        <div class=\"overlaySA hidden\"></div>\"\"\""
   ]
  },
  {
   "cell_type": "code",
   "execution_count": 6,
   "metadata": {},
   "outputs": [
    {
     "name": "stdout",
     "output_type": "stream",
     "text": [
      "<div class='others'>\n",
      "            <div class=\"SandA hidden\">\n",
      "                <button class=\"closeSyns\">&times;</button>\n",
      "                <h4>Near Synonyms:</h4>\n",
      "                <p class='synonyms'>hello</p>\n",
      "                <h4>Near Antonyms:</h4>\n",
      "                <p class='antonyms'>therey</p>\n",
      "            </div>\n",
      "        </div>\n",
      "        <div class=\"overlaySA hidden\"></div>\n"
     ]
    }
   ],
   "source": [
    "print(s)"
   ]
  },
  {
   "cell_type": "code",
   "execution_count": null,
   "metadata": {},
   "outputs": [],
   "source": []
  }
 ],
 "metadata": {
  "kernelspec": {
   "display_name": "Python 3",
   "language": "python",
   "name": "python3"
  },
  "language_info": {
   "codemirror_mode": {
    "name": "ipython",
    "version": 3
   },
   "file_extension": ".py",
   "mimetype": "text/x-python",
   "name": "python",
   "nbconvert_exporter": "python",
   "pygments_lexer": "ipython3",
   "version": "3.8.5"
  }
 },
 "nbformat": 4,
 "nbformat_minor": 4
}
