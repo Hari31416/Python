{
 "cells": [
  {
   "cell_type": "code",
   "execution_count": 3,
   "metadata": {},
   "outputs": [],
   "source": [
    "import pandas as pd\n",
    "import matplotlib.pyplot as plt\n",
    "import seaborn as sns\n",
    "import numpy as np\n",
    "import requests\n",
    "import bs4"
   ]
  },
  {
   "cell_type": "code",
   "execution_count": 28,
   "metadata": {},
   "outputs": [],
   "source": [
    "df = pd.read_csv('data/final_detailed_dict.csv')"
   ]
  },
  {
   "cell_type": "code",
   "execution_count": 29,
   "metadata": {},
   "outputs": [],
   "source": [
    "def choose_correct(x):\n",
    "    the_list = x.split('\\n')\n",
    "    for m in range(2, len(the_list)):\n",
    "        if m%3 == 0:\n",
    "            text = the_list[m]\n",
    "            text = \"<span class = 'example'> \"+text + \" </span>\"\n",
    "            the_list[m] = text\n",
    "    return \"<br>\".join(the_list)"
   ]
  },
  {
   "cell_type": "code",
   "execution_count": 30,
   "metadata": {},
   "outputs": [
    {
     "data": {
      "text/plain": [
       "\"hate, detest, abhor, abominate, loathe mean to feel strong aversion or intense dislike for<br><br>hate implies an emotional aversion often coupled with enmity or malice<br><span class = 'example'> hated the enemy with a passion </span><br><br>detest suggests violent antipathy<br><span class = 'example'> detests cowards </span><br><br>abhor implies a deep often shuddering repugnance<br><span class = 'example'> a crime abhorred by all </span><br><br>abominate suggests strong detestation and often moral condemnation<br><span class = 'example'> abominates all forms of violence </span><br><br>loathe implies utter disgust and intolerance<br><span class = 'example'> loathed the mere sight of them </span>\""
      ]
     },
     "execution_count": 30,
     "metadata": {},
     "output_type": "execute_result"
    }
   ],
   "source": [
    "choose_correct(df[\"Choose the Right Synonym\"][0])"
   ]
  },
  {
   "cell_type": "code",
   "execution_count": 19,
   "metadata": {},
   "outputs": [],
   "source": [
    "# the_list"
   ]
  },
  {
   "cell_type": "code",
   "execution_count": 20,
   "metadata": {},
   "outputs": [],
   "source": [
    "# print(choose_correct(df['Choose the Right Synonym'][0]))"
   ]
  },
  {
   "cell_type": "code",
   "execution_count": 31,
   "metadata": {},
   "outputs": [],
   "source": [
    "df['Choose the Right Synonym Final'] = df['Choose the Right Synonym'].apply(choose_correct)"
   ]
  },
  {
   "cell_type": "code",
   "execution_count": 32,
   "metadata": {},
   "outputs": [
    {
     "data": {
      "text/plain": [
       "\"reprove, rebuke, reprimand, admonish, reproach, chide mean to criticize adversely<br><br>reprove implies an often kindly intent to correct a fault<br><span class = 'example'> gently reproved my table manners </span><br><br>rebuke suggests a sharp or stern reproof<br><span class = 'example'> the papal letter rebuked dissenting clerics </span><br><br>reprimand implies a severe, formal, often public or official rebuke<br><span class = 'example'> reprimanded by the ethics committee </span><br><br>admonish suggests earnest or friendly warning and counsel<br><span class = 'example'> admonished by my parents to control expenses </span><br><br>reproach and chide suggest displeasure or disappointment expressed in mild reproof or scolding<br><span class = 'example'> reproached him for tardiness </span><br><br>chided by their mother for untidiness\""
      ]
     },
     "execution_count": 32,
     "metadata": {},
     "output_type": "execute_result"
    }
   ],
   "source": [
    "df['Choose the Right Synonym Final'][10]"
   ]
  },
  {
   "cell_type": "code",
   "execution_count": null,
   "metadata": {},
   "outputs": [],
   "source": [
    "#### print(df['Choose the Right Synonym Final'][0])"
   ]
  },
  {
   "cell_type": "code",
   "execution_count": 21,
   "metadata": {},
   "outputs": [],
   "source": [
    "# df.to_csv('data/detailed_dic.csv')"
   ]
  },
  {
   "cell_type": "raw",
   "metadata": {},
   "source": [
    "<h2 class='letter' , id='A'\">A</h2>\n",
    "        <button class='word first'>Abject</button>\n",
    "        <button class=\"synsBtn\">S&N</button>\n",
    "        <div class='others'>\n",
    "            <div class=\"SandA hidden\">\n",
    "                <button class=\"closeSyns\">&times;</button>\n",
    "                <h4>Near Synonyms:</h4>\n",
    "                <p class='synonyms'>base, humble, menial, servile, slavish</p>\n",
    "                <h4>Near Antonyms:</h4>\n",
    "                <p class='antonyms'>arrogant, haughty, high-handed, imperious, lordly, supercilious, superior, uppity</p>\n",
    "            </div>\n",
    "        </div>\n",
    "        <div class=\"overlaySA hidden\"></div>\n",
    "        <p class='meaning one hidden'>(Of Something Bad) Experienced Or Present To The Maximum Degree</p>\n",
    "        <p class='meaning two hidden'>sunk to or existing in a low state or condition</p>\n",
    "        <p class='meaning three hidden'>cast down in spirit</p>\n",
    "        <p class='meaning four hidden'>expressing or offered in a humble and often ingratiating spirit</p>\n",
    "        <p class='meaning five hidden'>Oops! So Empty!</p>\n",
    "        <button class='close hidden'>❌</button>\n",
    "        <button class= 'next hidden'>⏭</button>\n",
    "        <button class=\"show-modal hidden\">Find Correct</button>\n",
    "        <div class=\"modal hidden\">\n",
    "            <button class=\"close-modal\">&times;</button>\n",
    "            <h1>Choose the Right Synonym</h1>\n",
    "            <p>\n",
    "                mean, ignoble, abject, sordid mean being below the normal standards of human decency and dignity\n",
    "                <br>\n",
    "                <br>\n",
    "                mean suggests small-mindedness, ill temper, or cupidity\n",
    "                <br>\n",
    "                mean and petty satire\n",
    "                <br>\n",
    "                <br>\n",
    "                ignoble suggests a loss or lack of some essential high quality of mind or spirit\n",
    "                <br>\n",
    "                an ignoble scramble after material possessions\n",
    "                <br>\n",
    "                <br>\n",
    "                abject may imply degradation, debasement, or servility\n",
    "                <br>\n",
    "                abject poverty\n",
    "                <br><br>\n",
    "                sordid is stronger than all of these in stressing physical or spiritual degradation and abjectness\n",
    "            <br>\n",
    "                a sordid story of murder and revenge\n",
    "            </p>\n",
    "        </div>\n",
    "        <div class=\"overlay hidden\"></div>"
   ]
  },
  {
   "cell_type": "code",
   "execution_count": 27,
   "metadata": {},
   "outputs": [
    {
     "data": {
      "text/html": [
       "<div>\n",
       "<style scoped>\n",
       "    .dataframe tbody tr th:only-of-type {\n",
       "        vertical-align: middle;\n",
       "    }\n",
       "\n",
       "    .dataframe tbody tr th {\n",
       "        vertical-align: top;\n",
       "    }\n",
       "\n",
       "    .dataframe thead th {\n",
       "        text-align: right;\n",
       "    }\n",
       "</style>\n",
       "<table border=\"1\" class=\"dataframe\">\n",
       "  <thead>\n",
       "    <tr style=\"text-align: right;\">\n",
       "      <th></th>\n",
       "      <th>Word</th>\n",
       "      <th>First</th>\n",
       "      <th>Second</th>\n",
       "      <th>Third</th>\n",
       "      <th>Fourth</th>\n",
       "      <th>Fifth</th>\n",
       "      <th>Synonyms</th>\n",
       "      <th>Antonyms</th>\n",
       "      <th>Choose the Right Synonym</th>\n",
       "      <th>Choose the Right Synonym Final</th>\n",
       "    </tr>\n",
       "  </thead>\n",
       "  <tbody>\n",
       "    <tr>\n",
       "      <th>0</th>\n",
       "      <td>Abhor</td>\n",
       "      <td>to regard with extreme repugnance</td>\n",
       "      <td>to dislike very much</td>\n",
       "      <td>Oops! So Empty!</td>\n",
       "      <td>Oops! So Empty!</td>\n",
       "      <td>Oops! So Empty!</td>\n",
       "      <td>abominate, despise, detest, execrate, hate, lo...</td>\n",
       "      <td>love</td>\n",
       "      <td>hate, detest, abhor, abominate, loathe mean to...</td>\n",
       "      <td>hate, detest, abhor, abominate, loathe mean to...</td>\n",
       "    </tr>\n",
       "    <tr>\n",
       "      <th>1</th>\n",
       "      <td>Abject</td>\n",
       "      <td>sunk to or existing in a low state or condition</td>\n",
       "      <td>cast down in spirit</td>\n",
       "      <td>expressing or offered in a humble and often in...</td>\n",
       "      <td>very bad or severe</td>\n",
       "      <td>low in spirit, strength, or hope</td>\n",
       "      <td>base, humble, menial, servile, slavish</td>\n",
       "      <td>base, humble, menial, servile, slavish</td>\n",
       "      <td>mean, ignoble, abject, sordid mean being below...</td>\n",
       "      <td>mean, ignoble, abject, sordid mean being below...</td>\n",
       "    </tr>\n",
       "    <tr>\n",
       "      <th>2</th>\n",
       "      <td>Abrasive</td>\n",
       "      <td>causing damage, wear, or removal of surface ma...</td>\n",
       "      <td>causing damage or wear by rubbing</td>\n",
       "      <td>very unpleasant or irritating</td>\n",
       "      <td>causing irritation</td>\n",
       "      <td>Oops! So Empty!</td>\n",
       "      <td>aggravating, annoying, bothersome, carking, ch...</td>\n",
       "      <td>aggravating, annoying, bothersome, carking, ch...</td>\n",
       "      <td>Oops! So Empty!</td>\n",
       "      <td>Oops! So Empty!</td>\n",
       "    </tr>\n",
       "    <tr>\n",
       "      <th>3</th>\n",
       "      <td>Abstinence</td>\n",
       "      <td>the practice of abstaining from something</td>\n",
       "      <td>habitual abstaining from intoxicating beverages</td>\n",
       "      <td>Oops! So Empty!</td>\n",
       "      <td>Oops! So Empty!</td>\n",
       "      <td>Oops! So Empty!</td>\n",
       "      <td>continence, self-abnegation, self-denial, sobr...</td>\n",
       "      <td>self-indulgence</td>\n",
       "      <td>Oops! So Empty!</td>\n",
       "      <td>Oops! So Empty!</td>\n",
       "    </tr>\n",
       "    <tr>\n",
       "      <th>4</th>\n",
       "      <td>Accordionist</td>\n",
       "      <td>a portable keyboard wind instrument in which t...</td>\n",
       "      <td>folding or creased or hinged to fold like an a...</td>\n",
       "      <td>a musical instrument that is shaped like a box...</td>\n",
       "      <td>a portable keyboard musical instrument played ...</td>\n",
       "      <td>Oops! So Empty!</td>\n",
       "      <td>Oops! So Empty!</td>\n",
       "      <td>Oops! So Empty!</td>\n",
       "      <td>Oops! So Empty!</td>\n",
       "      <td>Oops! So Empty!</td>\n",
       "    </tr>\n",
       "    <tr>\n",
       "      <th>...</th>\n",
       "      <td>...</td>\n",
       "      <td>...</td>\n",
       "      <td>...</td>\n",
       "      <td>...</td>\n",
       "      <td>...</td>\n",
       "      <td>...</td>\n",
       "      <td>...</td>\n",
       "      <td>...</td>\n",
       "      <td>...</td>\n",
       "      <td>...</td>\n",
       "    </tr>\n",
       "    <tr>\n",
       "      <th>650</th>\n",
       "      <td>Wrapped</td>\n",
       "      <td>to conceal or obscure as if by enveloping</td>\n",
       "      <td>to enclose as if with a protective covering</td>\n",
       "      <td>to cover especially by winding or folding</td>\n",
       "      <td>to finish filming or recording</td>\n",
       "      <td>surround, envelop</td>\n",
       "      <td>band, begird, belt, engird \\n[archaic], engird...</td>\n",
       "      <td>ungird, unwrap</td>\n",
       "      <td>Oops! So Empty!</td>\n",
       "      <td>Oops! So Empty!</td>\n",
       "    </tr>\n",
       "    <tr>\n",
       "      <th>651</th>\n",
       "      <td>Wreath</td>\n",
       "      <td>something intertwined or arranged in a circula...</td>\n",
       "      <td>something having a circular or coiling form</td>\n",
       "      <td>Oops! So Empty!</td>\n",
       "      <td>Oops! So Empty!</td>\n",
       "      <td>Oops! So Empty!</td>\n",
       "      <td>Oops! So Empty!</td>\n",
       "      <td>Oops! So Empty!</td>\n",
       "      <td>Oops! So Empty!</td>\n",
       "      <td>Oops! So Empty!</td>\n",
       "    </tr>\n",
       "    <tr>\n",
       "      <th>652</th>\n",
       "      <td>Wreck</td>\n",
       "      <td>something cast up on the land by the sea espec...</td>\n",
       "      <td>to reduce to a ruinous state by or as if by vi...</td>\n",
       "      <td>a hulk or the ruins of a wrecked ship</td>\n",
       "      <td>to cast ashore</td>\n",
       "      <td>shipwreck</td>\n",
       "      <td>ashes, debris, detritus, flotsam, remains, res...</td>\n",
       "      <td>shipwreck, strand</td>\n",
       "      <td>Oops! So Empty!</td>\n",
       "      <td>Oops! So Empty!</td>\n",
       "    </tr>\n",
       "    <tr>\n",
       "      <th>653</th>\n",
       "      <td>Wroth</td>\n",
       "      <td>intensely angry</td>\n",
       "      <td>Oops! So Empty!</td>\n",
       "      <td>Oops! So Empty!</td>\n",
       "      <td>Oops! So Empty!</td>\n",
       "      <td>Oops! So Empty!</td>\n",
       "      <td>angered, angry, apoplectic, ballistic, cheesed...</td>\n",
       "      <td>angerless, delighted, pleased</td>\n",
       "      <td>Oops! So Empty!</td>\n",
       "      <td>Oops! So Empty!</td>\n",
       "    </tr>\n",
       "    <tr>\n",
       "      <th>654</th>\n",
       "      <td>Wrought</td>\n",
       "      <td>worked into shape by artistry or effort</td>\n",
       "      <td>beaten into shape by tools</td>\n",
       "      <td>processed for use</td>\n",
       "      <td>elaborately embellished</td>\n",
       "      <td>deeply stirred</td>\n",
       "      <td>Oops! So Empty!</td>\n",
       "      <td>Oops! So Empty!</td>\n",
       "      <td>Oops! So Empty!</td>\n",
       "      <td>Oops! So Empty!</td>\n",
       "    </tr>\n",
       "  </tbody>\n",
       "</table>\n",
       "<p>655 rows × 10 columns</p>\n",
       "</div>"
      ],
      "text/plain": [
       "             Word                                              First  \\\n",
       "0           Abhor                  to regard with extreme repugnance   \n",
       "1          Abject    sunk to or existing in a low state or condition   \n",
       "2        Abrasive  causing damage, wear, or removal of surface ma...   \n",
       "3      Abstinence          the practice of abstaining from something   \n",
       "4    Accordionist  a portable keyboard wind instrument in which t...   \n",
       "..            ...                                                ...   \n",
       "650       Wrapped          to conceal or obscure as if by enveloping   \n",
       "651        Wreath  something intertwined or arranged in a circula...   \n",
       "652         Wreck  something cast up on the land by the sea espec...   \n",
       "653         Wroth                                    intensely angry   \n",
       "654       Wrought            worked into shape by artistry or effort   \n",
       "\n",
       "                                                Second  \\\n",
       "0                                 to dislike very much   \n",
       "1                                  cast down in spirit   \n",
       "2                    causing damage or wear by rubbing   \n",
       "3      habitual abstaining from intoxicating beverages   \n",
       "4    folding or creased or hinged to fold like an a...   \n",
       "..                                                 ...   \n",
       "650        to enclose as if with a protective covering   \n",
       "651        something having a circular or coiling form   \n",
       "652  to reduce to a ruinous state by or as if by vi...   \n",
       "653                                    Oops! So Empty!   \n",
       "654                         beaten into shape by tools   \n",
       "\n",
       "                                                 Third  \\\n",
       "0                                      Oops! So Empty!   \n",
       "1    expressing or offered in a humble and often in...   \n",
       "2                        very unpleasant or irritating   \n",
       "3                                      Oops! So Empty!   \n",
       "4    a musical instrument that is shaped like a box...   \n",
       "..                                                 ...   \n",
       "650          to cover especially by winding or folding   \n",
       "651                                    Oops! So Empty!   \n",
       "652              a hulk or the ruins of a wrecked ship   \n",
       "653                                    Oops! So Empty!   \n",
       "654                                  processed for use   \n",
       "\n",
       "                                                Fourth  \\\n",
       "0                                      Oops! So Empty!   \n",
       "1                                   very bad or severe   \n",
       "2                                   causing irritation   \n",
       "3                                      Oops! So Empty!   \n",
       "4    a portable keyboard musical instrument played ...   \n",
       "..                                                 ...   \n",
       "650                     to finish filming or recording   \n",
       "651                                    Oops! So Empty!   \n",
       "652                                     to cast ashore   \n",
       "653                                    Oops! So Empty!   \n",
       "654                            elaborately embellished   \n",
       "\n",
       "                                Fifth  \\\n",
       "0                     Oops! So Empty!   \n",
       "1    low in spirit, strength, or hope   \n",
       "2                     Oops! So Empty!   \n",
       "3                     Oops! So Empty!   \n",
       "4                     Oops! So Empty!   \n",
       "..                                ...   \n",
       "650                 surround, envelop   \n",
       "651                   Oops! So Empty!   \n",
       "652                         shipwreck   \n",
       "653                   Oops! So Empty!   \n",
       "654                    deeply stirred   \n",
       "\n",
       "                                              Synonyms  \\\n",
       "0    abominate, despise, detest, execrate, hate, lo...   \n",
       "1               base, humble, menial, servile, slavish   \n",
       "2    aggravating, annoying, bothersome, carking, ch...   \n",
       "3    continence, self-abnegation, self-denial, sobr...   \n",
       "4                                      Oops! So Empty!   \n",
       "..                                                 ...   \n",
       "650  band, begird, belt, engird \\n[archaic], engird...   \n",
       "651                                    Oops! So Empty!   \n",
       "652  ashes, debris, detritus, flotsam, remains, res...   \n",
       "653  angered, angry, apoplectic, ballistic, cheesed...   \n",
       "654                                    Oops! So Empty!   \n",
       "\n",
       "                                              Antonyms  \\\n",
       "0                                                 love   \n",
       "1               base, humble, menial, servile, slavish   \n",
       "2    aggravating, annoying, bothersome, carking, ch...   \n",
       "3                                      self-indulgence   \n",
       "4                                      Oops! So Empty!   \n",
       "..                                                 ...   \n",
       "650                                     ungird, unwrap   \n",
       "651                                    Oops! So Empty!   \n",
       "652                                  shipwreck, strand   \n",
       "653                      angerless, delighted, pleased   \n",
       "654                                    Oops! So Empty!   \n",
       "\n",
       "                              Choose the Right Synonym  \\\n",
       "0    hate, detest, abhor, abominate, loathe mean to...   \n",
       "1    mean, ignoble, abject, sordid mean being below...   \n",
       "2                                      Oops! So Empty!   \n",
       "3                                      Oops! So Empty!   \n",
       "4                                      Oops! So Empty!   \n",
       "..                                                 ...   \n",
       "650                                    Oops! So Empty!   \n",
       "651                                    Oops! So Empty!   \n",
       "652                                    Oops! So Empty!   \n",
       "653                                    Oops! So Empty!   \n",
       "654                                    Oops! So Empty!   \n",
       "\n",
       "                        Choose the Right Synonym Final  \n",
       "0    hate, detest, abhor, abominate, loathe mean to...  \n",
       "1    mean, ignoble, abject, sordid mean being below...  \n",
       "2                                      Oops! So Empty!  \n",
       "3                                      Oops! So Empty!  \n",
       "4                                      Oops! So Empty!  \n",
       "..                                                 ...  \n",
       "650                                    Oops! So Empty!  \n",
       "651                                    Oops! So Empty!  \n",
       "652                                    Oops! So Empty!  \n",
       "653                                    Oops! So Empty!  \n",
       "654                                    Oops! So Empty!  \n",
       "\n",
       "[655 rows x 10 columns]"
      ]
     },
     "execution_count": 27,
     "metadata": {},
     "output_type": "execute_result"
    }
   ],
   "source": [
    "df"
   ]
  },
  {
   "cell_type": "code",
   "execution_count": 35,
   "metadata": {},
   "outputs": [],
   "source": [
    "# df.isna().sum()"
   ]
  },
  {
   "cell_type": "code",
   "execution_count": 37,
   "metadata": {},
   "outputs": [],
   "source": [
    "import io\n",
    "for i in range(len(df)):\n",
    "    with io.open('text3.0.txt', 'a+', encoding=\"utf-8\") as h:\n",
    "        #text.txt should be empty\n",
    "        if i == 0:\n",
    "            previous_word = 'A'\n",
    "        else:\n",
    "            previous_word = df['Word'][i-1][0]\n",
    "        \n",
    "        current_word = df['Word'][i][0]\n",
    "        text = df['Choose the Right Synonym Final']\n",
    "        syns = df['Synonyms']\n",
    "        ants = df['Antonyms']\n",
    "        a = f\"<button class='word {df['Priorty'][i]}'>{df['Word'][i]}</button>\"\n",
    "        b1 = f\"<p class='meaning one hidden'>{df['First'][i]}</p>\"\n",
    "        b2 = f\"<p class='meaning two hidden'>{df['Second'][i]}</p>\"\n",
    "        b3 = f\"<p class='meaning three hidden'>{df['Third'][i]}</p>\"\n",
    "        b4 = f\"<p class='meaning four hidden'>{df['Fourth'][i]}</p>\"\n",
    "        b5 = f\"<p class='meaning five hidden'>{df['Fifth'][i]}</p>\"\n",
    "        c = \"<button class='close hidden'>harikesh</button>\"\n",
    "        d = f\"<h2 class='letter', id='{current_word}'>{current_word}</h2>\"\n",
    "        e = \"\"\"<button class= 'next hidden'>xyz</button>\n",
    "        <button class=\"show-modal hidden\">Find Correct</button>\n",
    "        <div class=\"modal hidden\">\n",
    "            <button class=\"close-modal\">&times;</button>\n",
    "            <h1>Choose the Right Synonym</h1>\"\"\"\n",
    "        f = f\"<p>\\n{text[i]}\\n</p>\"\n",
    "        g = \"\"\"</div>\n",
    "        <div class=\"overlay hidden\"></div>\"\"\"\n",
    "        \n",
    "        s = f\"\"\"<div class='others'>\n",
    "            <div class=\"SandA hidden\">\n",
    "                <button class=\"closeSyns\">&times;</button>\n",
    "                <h4>Near Synonyms:</h4>\n",
    "                <p class='synonyms'>{syns[i]}</p>\n",
    "                <h4>Near Antonyms:</h4>\n",
    "                <p class='antonyms'>{ants[i]}</p>\n",
    "            </div>\n",
    "        </div>\n",
    "        <div class=\"overlaySA hidden\"></div>\"\"\"\n",
    "\n",
    "        if previous_word==current_word:\n",
    "#             print('h')\n",
    "            h.writelines(a+'\\n'+ s + '\\n'+b1+'\\n'+b2+'\\n'+b3+'\\n'+b4+'\\n'+b5+'\\n'+c+'\\n'+e+'\\n'+f+'\\n'+g+'\\n')\n",
    "        else:\n",
    "#             print('j')\n",
    "            h.writelines(d+'\\n'+ a+'\\n'+s + '\\n'+b1+'\\n'+b2+'\\n'+b3+'\\n'+b4+'\\n'+b5+'\\n'+c+'\\n'+e+'\\n'+f+'\\n'+g+'\\n')"
   ]
  },
  {
   "cell_type": "code",
   "execution_count": 45,
   "metadata": {},
   "outputs": [
    {
     "data": {
      "text/plain": [
       "\"<p class='meaning five hidden'>low in spirit, strength, or hope</p>\""
      ]
     },
     "execution_count": 45,
     "metadata": {},
     "output_type": "execute_result"
    }
   ],
   "source": [
    "b5"
   ]
  },
  {
   "cell_type": "code",
   "execution_count": 34,
   "metadata": {},
   "outputs": [
    {
     "name": "stdout",
     "output_type": "stream",
     "text": [
      "</div>\n",
      "<div class=\"overlay hidden\"></div>\n"
     ]
    }
   ],
   "source": [
    "print(g)"
   ]
  },
  {
   "cell_type": "code",
   "execution_count": 52,
   "metadata": {},
   "outputs": [],
   "source": [
    "with open('text3.txt', 'a+') as f:\n",
    "    f.writelines('hello\\n')\n",
    "    f.writelines('there\\n')"
   ]
  },
  {
   "cell_type": "code",
   "execution_count": 5,
   "metadata": {},
   "outputs": [],
   "source": [
    "s1 = 'hello'\n",
    "s2 = 'there'\n",
    "\n",
    "s = f\"\"\"<div class='others'>\n",
    "            <div class=\"SandA hidden\">\n",
    "                <button class=\"closeSyns\">&times;</button>\n",
    "                <h4>Near Synonyms:</h4>\n",
    "                <p class='synonyms'>{s1}</p>\n",
    "                <h4>Near Antonyms:</h4>\n",
    "                <p class='antonyms'>{s2}y</p>\n",
    "            </div>\n",
    "        </div>\n",
    "        <div class=\"overlaySA hidden\"></div>\"\"\""
   ]
  },
  {
   "cell_type": "code",
   "execution_count": 6,
   "metadata": {},
   "outputs": [
    {
     "name": "stdout",
     "output_type": "stream",
     "text": [
      "<div class='others'>\n",
      "            <div class=\"SandA hidden\">\n",
      "                <button class=\"closeSyns\">&times;</button>\n",
      "                <h4>Near Synonyms:</h4>\n",
      "                <p class='synonyms'>hello</p>\n",
      "                <h4>Near Antonyms:</h4>\n",
      "                <p class='antonyms'>therey</p>\n",
      "            </div>\n",
      "        </div>\n",
      "        <div class=\"overlaySA hidden\"></div>\n"
     ]
    }
   ],
   "source": [
    "print(s)"
   ]
  },
  {
   "cell_type": "code",
   "execution_count": null,
   "metadata": {},
   "outputs": [],
   "source": []
  }
 ],
 "metadata": {
  "kernelspec": {
   "display_name": "Python 3",
   "language": "python",
   "name": "python3"
  },
  "language_info": {
   "codemirror_mode": {
    "name": "ipython",
    "version": 3
   },
   "file_extension": ".py",
   "mimetype": "text/x-python",
   "name": "python",
   "nbconvert_exporter": "python",
   "pygments_lexer": "ipython3",
   "version": "3.8.5"
  }
 },
 "nbformat": 4,
 "nbformat_minor": 4
}
