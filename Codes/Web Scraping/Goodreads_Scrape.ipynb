{
 "cells": [
  {
   "cell_type": "code",
   "execution_count": 9,
   "metadata": {},
   "outputs": [],
   "source": [
    "def user_books_from_goodreads(user_code = None, shelf_name = None, verbose = 1):\n",
    "    \"\"\"\n",
    "    Scarping book info from Goodreads Users's page\n",
    "    the user_code is 9 digit code found in the link of user's 'My Books' page\n",
    "    If no shelf name is provided, info from 'All' shelf is returned\n",
    "    verbose has usual meaning with value being integer 0 or 1, default is 1.\n",
    "    eg. book_from_goodreads(user_code =110673662, shelf_name = 'currently-reading', verbose = 1)\n",
    "    \"\"\"\n",
    "\n",
    "    #Scarping book info from Goodreads\n",
    "\n",
    "    #Imports\n",
    "    import requests\n",
    "    import bs4\n",
    "    import pandas as pd\n",
    "\n",
    "    #Containers\n",
    "    books = []\n",
    "    authors = []\n",
    "    isbn13s = []\n",
    "    isbns =[]\n",
    "    pagess = []\n",
    "    ratings = []\n",
    "    num_ratings = []\n",
    "    pub_dates = []\n",
    "    date_started = []\n",
    "    date_completed = []\n",
    "\n",
    "    p=1\n",
    "    while True:\n",
    "\n",
    "        if not shelf_name:\n",
    "            link = f'https://www.goodreads.com/review/list/{user_code}?page={p}'\n",
    "        else:\n",
    "            link = f'https://www.goodreads.com/review/list/{user_code}?page={p}&ref=nav_mybooks&shelf={shelf_name}'\n",
    "\n",
    "        code = requests.get(link)\n",
    "        soup = bs4.BeautifulSoup(code.text, \"lxml\")\n",
    "\n",
    "        #Breaking the loop\n",
    "        if soup.select('.bookalike') == []:\n",
    "            break\n",
    "\n",
    "        if verbose == 0:\n",
    "            pass \n",
    "        else:\n",
    "            print('Currently on Page: '+ str(p))\n",
    "\n",
    "        for i in range(len(soup.select('.bookalike'))):\n",
    "\n",
    "            book_name = soup.select('.bookalike .title a')[i]['title']\n",
    "            books.append(book_name)\n",
    "\n",
    "            author = soup.select('.bookalike .author a')[i].text\n",
    "            authors.append(author)\n",
    "\n",
    "            isbn13 = soup.select('.bookalike .isbn13 .value')[i].text.strip()\n",
    "            isbn13s.append(str(isbn13))\n",
    "            isbn = soup.select('.bookalike .isbn .value')[i].text.strip()\n",
    "            isbns.append(str(isbn))\n",
    "\n",
    "            pages = soup.select('.bookalike .num_pages .value')[i].text.split('\\n')[1].strip()\n",
    "            pagess.append(pages)\n",
    "\n",
    "            rating = float(soup.select('.bookalike .avg_rating .value')[i].text.strip())\n",
    "            ratings.append(rating)\n",
    "\n",
    "            num = soup.select('.bookalike .num_ratings .value')[i].text.strip()\n",
    "            num_rating = int(''.join(num.split(',')))\n",
    "            num_ratings.append(num_rating)\n",
    "\n",
    "            pub_date = soup.select('.bookalike .date_pub .value')[i].text.strip()\n",
    "            pub_dates.append(pub_date)\n",
    "            \n",
    "            started = soup.select('.bookalike .date_started')[i].text.split('\\n')[3]\n",
    "            date_started.append(started)\n",
    "\n",
    "            ended = soup.select('.bookalike .date_read')[i].text.split('\\n')[3]\n",
    "            date_completed.append(ended)\n",
    "\n",
    "        #Next page\n",
    "        p=p+1\n",
    "\n",
    "    #Creating the DataFrame\n",
    "    index = 'Book Name, Author, ISBN 13, ISBN, Number of Pages, Average Rating, Total Number of Ratings, Publication Date, Date Started, Date Completed'.split(', ')\n",
    "    book_df = pd.DataFrame(data = [books, authors, isbn13s, isbns, pagess, ratings, num_ratings, pub_dates, date_started, date_completed], index = index).transpose()\n",
    "    return book_df"
   ]
  },
  {
   "cell_type": "code",
   "execution_count": 10,
   "metadata": {},
   "outputs": [
    {
     "name": "stdout",
     "output_type": "stream",
     "text": [
      "Currently on Page: 1\n"
     ]
    }
   ],
   "source": [
    "df = user_books_from_goodreads(user_code = 65145570, shelf_name = 'to-read', verbose = 1)"
   ]
  },
  {
   "cell_type": "code",
   "execution_count": 13,
   "metadata": {},
   "outputs": [],
   "source": [
    "# df"
   ]
  },
  {
   "cell_type": "code",
   "execution_count": 14,
   "metadata": {},
   "outputs": [],
   "source": [
    "# df.to_csv('av_books.csv')"
   ]
  },
  {
   "cell_type": "code",
   "execution_count": 1,
   "metadata": {},
   "outputs": [],
   "source": [
    "def goodreads_author(author_id = None, author_name = None, verbose = 1, clean = True):\n",
    "    \n",
    "    \"\"\"\n",
    "    Works only for Goodread Authors\n",
    "    needs author_id and author_name\n",
    "    author_name should be specifically defined or pass clean as False\n",
    "    \"\"\"\n",
    "\n",
    "    import re\n",
    "    import pandas as pd\n",
    "    import numpy as np\n",
    "\n",
    "    names = []\n",
    "    authors = []\n",
    "    ratings = []\n",
    "    published_years = []\n",
    "    num_ratings = []\n",
    "\n",
    "    flag = True\n",
    "    p=1\n",
    "    \n",
    "    if clean and author_name:\n",
    "        return None\n",
    "    elif clean:\n",
    "        print('You should provide the author name or use \\\"clean\\\" = False')\n",
    "        return None\n",
    "    else:\n",
    "        return None\n",
    "    \n",
    "    while flag:\n",
    "        print(p)\n",
    "        try:\n",
    "            link = f\"https://www.goodreads.com/author/list/{author_id}?page={p}\"\n",
    "\n",
    "            df = pd.read_html(link)[0]\n",
    "            for i in range(len(df[1])):\n",
    "                book_name = df[1].iloc[i].split('by')[0].strip()\n",
    "                other = df[1].iloc[i].split('by')[1]\n",
    "\n",
    "                names.append(book_name)\n",
    "\n",
    "                author = other.split('(')[0].strip()\n",
    "                authors.append(author)\n",
    "                text = other.split('(')[-1]\n",
    "                pattern_rating = r\"\\d\\.\\d\\d\"\n",
    "                pattern_num = r\"\\d{1,}\\,\\d{1,}\"\n",
    "                pattern_year = r\"\\d{4}\"\n",
    "\n",
    "                if re.findall(pattern_rating, text):\n",
    "                    ratings.append(re.findall(pattern_rating, text)[0])\n",
    "                else:\n",
    "                    ratings.append(np.nan)\n",
    "\n",
    "\n",
    "                if re.findall(pattern_year, text):\n",
    "                    published_years.append(re.findall(pattern_year, text)[0])\n",
    "                else:\n",
    "                    published_years.append(np.nan)\n",
    "\n",
    "                if re.findall(pattern_num, text):\n",
    "                    num_ratings.append(re.findall(pattern_num, text)[0])\n",
    "                else:\n",
    "                    num_ratings.append(np.nan)\n",
    "        except :\n",
    "            break\n",
    "        p = p+1\n",
    "\n",
    "    index = 'Book Name, Author, Average Rating, Publication Date, Total Number of Ratings'.split(', ')\n",
    "    book_df = pd.DataFrame(data = [names, authors, ratings, published_years, num_ratings], index = index).transpose()\n",
    "    if clean and author_name:\n",
    "        book_df=book_df.dropna(thresh=3)\n",
    "        book_df[book_df['Author'].apply(lambda x: author_name in x)]\n",
    "        return book_df\n",
    "    else:\n",
    "        return book_df"
   ]
  },
  {
   "cell_type": "code",
   "execution_count": null,
   "metadata": {},
   "outputs": [],
   "source": []
  },
  {
   "cell_type": "code",
   "execution_count": 7,
   "metadata": {},
   "outputs": [],
   "source": [
    "import requests\n",
    "import bs4\n",
    "import pandas as pd\n",
    "import re"
   ]
  },
  {
   "cell_type": "code",
   "execution_count": 222,
   "metadata": {},
   "outputs": [],
   "source": [
    "link = 'https://www.goodreads.com/author/list/1265?page=1'"
   ]
  },
  {
   "cell_type": "code",
   "execution_count": 223,
   "metadata": {},
   "outputs": [],
   "source": [
    "code = requests.get(link)\n",
    "soup = bs4.BeautifulSoup(code.text, \"lxml\")"
   ]
  },
  {
   "cell_type": "code",
   "execution_count": 224,
   "metadata": {},
   "outputs": [
    {
     "data": {
      "text/plain": [
       "[<title>Books by Jane Austen (Author of Pride and Prejudice)</title>]"
      ]
     },
     "execution_count": 224,
     "metadata": {},
     "output_type": "execute_result"
    }
   ],
   "source": [
    "soup.select('title')"
   ]
  },
  {
   "cell_type": "code",
   "execution_count": 269,
   "metadata": {},
   "outputs": [],
   "source": [
    "df = pd.read_html(link)"
   ]
  },
  {
   "cell_type": "code",
   "execution_count": 270,
   "metadata": {},
   "outputs": [],
   "source": [
    "string = df[0][1]"
   ]
  },
  {
   "cell_type": "code",
   "execution_count": 271,
   "metadata": {},
   "outputs": [],
   "source": [
    "title = string[0].split(' by ')[0].strip()"
   ]
  },
  {
   "cell_type": "code",
   "execution_count": 273,
   "metadata": {},
   "outputs": [
    {
     "data": {
      "text/plain": [
       "'Pride and Prejudice'"
      ]
     },
     "execution_count": 273,
     "metadata": {},
     "output_type": "execute_result"
    }
   ],
   "source": [
    "title"
   ]
  },
  {
   "cell_type": "code",
   "execution_count": 272,
   "metadata": {},
   "outputs": [],
   "source": [
    "pattern_author = 'Jane Austen'"
   ]
  },
  {
   "cell_type": "code",
   "execution_count": null,
   "metadata": {},
   "outputs": [],
   "source": []
  },
  {
   "cell_type": "code",
   "execution_count": 253,
   "metadata": {},
   "outputs": [],
   "source": [
    "text = string[0].split(' by ')[1]"
   ]
  },
  {
   "cell_type": "code",
   "execution_count": 254,
   "metadata": {},
   "outputs": [
    {
     "data": {
      "text/plain": [
       "'Jane Austen  4.27 avg rating — 3,266,966 ratings  —  published  1813  —  11651 editions'"
      ]
     },
     "execution_count": 254,
     "metadata": {},
     "output_type": "execute_result"
    }
   ],
   "source": [
    "text"
   ]
  },
  {
   "cell_type": "code",
   "execution_count": 256,
   "metadata": {},
   "outputs": [],
   "source": [
    "author = re.findall(pattern, text)[0]"
   ]
  },
  {
   "cell_type": "code",
   "execution_count": 262,
   "metadata": {},
   "outputs": [],
   "source": [
    "pattern_rating = r\"\\d\\.\\d\\d\"\n",
    "pattern_num1 = r\"\\d\\,\\d{1,}\\,\\d{1,}\"\n",
    "pattern_num2 = r\"\\d{1,}\\,\\d{1,}\"\n",
    "pattern_year = r\"\\d{4}\""
   ]
  },
  {
   "cell_type": "code",
   "execution_count": 265,
   "metadata": {},
   "outputs": [
    {
     "data": {
      "text/plain": [
       "['3,266,966']"
      ]
     },
     "execution_count": 265,
     "metadata": {},
     "output_type": "execute_result"
    }
   ],
   "source": [
    "re.findall(pattern_num1, text)"
   ]
  },
  {
   "cell_type": "code",
   "execution_count": 268,
   "metadata": {},
   "outputs": [
    {
     "data": {
      "text/plain": [
       "'1813'"
      ]
     },
     "execution_count": 268,
     "metadata": {},
     "output_type": "execute_result"
    }
   ],
   "source": [
    "re.findall(pattern_year, text)[0]"
   ]
  },
  {
   "cell_type": "code",
   "execution_count": 15,
   "metadata": {},
   "outputs": [],
   "source": [
    "def author(author_id = None, author_name = None, verbose = 1, clean = True):\n",
    "    \n",
    "    \"\"\"\n",
    "    Works for any Author on Goodreads\n",
    "    needs author_id and author_name\n",
    "    author_name should be specifically defined or pass clean as False\n",
    "    \"\"\"\n",
    "\n",
    "    import re\n",
    "    import pandas as pd\n",
    "    import numpy as np\n",
    "\n",
    "    names = []\n",
    "    authors = []\n",
    "    ratings = []\n",
    "    published_years = []\n",
    "    num_ratings = []\n",
    "\n",
    "    flag = True\n",
    "    p=1\n",
    "    \n",
    "    # if clean and author_name:\n",
    "    #     return None\n",
    "    if clean:\n",
    "        print('You should provide the author name or use \\\"clean\\\" = False')\n",
    "        return None\n",
    "    # else:\n",
    "    #     return None\n",
    "    \n",
    "    while flag:\n",
    "        print(p)\n",
    "        try:\n",
    "            link = f\"https://www.goodreads.com/author/list/{author_id}?page={p}\"\n",
    "\n",
    "            df = pd.read_html(link)\n",
    "            for i in range(len(df[1])):\n",
    "                string = df[0][1]\n",
    "                book_name = string[0].split(' by ')[0].strip()\n",
    "                names.append(book_name)\n",
    "                \n",
    "                text = string[0].split(' by ')[1]\n",
    "\n",
    "                pattern_rating = r\"\\d\\.\\d\\d\"\n",
    "                pattern_num1 = r\"\\d\\,\\d{1,}\\,\\d{1,}\"\n",
    "                pattern_num2 = r\"\\d{1,}\\,\\d{1,}\"\n",
    "                pattern_year = r\"\\d{4}\"\n",
    "                pattern_author = 'Jane Austen'\n",
    "                \n",
    "                author = re.findall(pattern, text)[0]\n",
    "                authors.append(author)\n",
    "\n",
    "                if re.findall(pattern_rating, text):\n",
    "                    ratings.append(re.findall(pattern_rating, text)[0])\n",
    "                else:\n",
    "                    ratings.append(np.nan)\n",
    "\n",
    "\n",
    "                if re.findall(pattern_year, text):\n",
    "                    published_years.append(re.findall(pattern_year, text)[0])\n",
    "                else:\n",
    "                    published_years.append(np.nan)\n",
    "\n",
    "                if re.findall(pattern_num1, text):\n",
    "                    num_ratings.append(re.findall(pattern_num1, text)[0])\n",
    "                elif re.findall(pattern_num2, text):\n",
    "                    num_ratings.append(re.findall(pattern_num2, text)[0])\n",
    "                else:\n",
    "                    num_ratings.append(np.nan)\n",
    "        except:\n",
    "            pass\n",
    "        p = p+1\n",
    "\n",
    "    index = 'Book Name, Author, Average Rating, Publication Date, Total Number of Ratings'.split(', ')\n",
    "    book_df = pd.DataFrame(data = [names, authors, ratings, published_years, num_ratings], index = index).transpose()\n",
    "    if clean and author_name:\n",
    "        book_df=book_df.dropna(thresh=3)\n",
    "        book_df[book_df['Author'].apply(lambda x: author_name in x)]\n",
    "        return book_df\n",
    "    else:\n",
    "        return book_df"
   ]
  },
  {
   "cell_type": "code",
   "execution_count": 17,
   "metadata": {},
   "outputs": [
    {
     "name": "stdout",
     "output_type": "stream",
     "text": [
      "1\n",
      "2\n",
      "3\n",
      "4\n",
      "5\n",
      "6\n",
      "7\n",
      "8\n",
      "9\n",
      "10\n",
      "11\n",
      "12\n",
      "13\n",
      "14\n",
      "15\n",
      "16\n",
      "17\n",
      "18\n",
      "19\n",
      "20\n",
      "21\n",
      "22\n",
      "23\n",
      "24\n",
      "25\n",
      "26\n",
      "27\n",
      "28\n",
      "29\n",
      "30\n",
      "31\n",
      "32\n",
      "33\n",
      "34\n",
      "35\n",
      "36\n",
      "37\n",
      "38\n",
      "39\n",
      "40\n",
      "41\n",
      "42\n",
      "43\n",
      "44\n"
     ]
    }
   ],
   "source": [
    "author(author_id=3441, clean=False, author_name='Terry Goodkind')"
   ]
  },
  {
   "cell_type": "code",
   "execution_count": 9,
   "metadata": {},
   "outputs": [],
   "source": [
    "goodreads_author(author_id=1265, author_name='Terry Goodkind')"
   ]
  },
  {
   "cell_type": "code",
   "execution_count": null,
   "metadata": {},
   "outputs": [],
   "source": []
  }
 ],
 "metadata": {
  "interpreter": {
   "hash": "ce44b17c45080b8f56a19c9450d52461d624c968fcd959bb1916985c5ffa2b94"
  },
  "kernelspec": {
   "display_name": "Python 3.8.5 64-bit ('base': conda)",
   "name": "python3"
  },
  "language_info": {
   "codemirror_mode": {
    "name": "ipython",
    "version": 3
   },
   "file_extension": ".py",
   "mimetype": "text/x-python",
   "name": "python",
   "nbconvert_exporter": "python",
   "pygments_lexer": "ipython3",
   "version": "3.8.5"
  }
 },
 "nbformat": 4,
 "nbformat_minor": 4
}
