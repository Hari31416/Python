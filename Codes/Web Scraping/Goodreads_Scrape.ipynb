{
 "cells": [
  {
   "cell_type": "code",
   "execution_count": 1,
   "metadata": {},
   "outputs": [],
   "source": [
    "def user_books_from_goodreads(user_code = None, shelf_name = None, verbose = 1):\n",
    "    \"\"\"\n",
    "    Scarping book info from Goodreads Users's page\n",
    "    the user_code is 9 digit code found in the link of user's 'My Books' page\n",
    "    If no shelf name is provided, info from 'All' shelf is returned\n",
    "    verbose has usual meaning with value being integer 0 or 1, default is 1.\n",
    "    eg. book_from_goodreads(user_code =110673662, shelf_name = 'currently-reading', verbose = 1)\n",
    "    \"\"\"\n",
    "\n",
    "    #Scarping book info from Goodreads\n",
    "\n",
    "    #Imports\n",
    "    import requests\n",
    "    import bs4\n",
    "    import pandas as pd\n",
    "\n",
    "    #Containers\n",
    "    books = []\n",
    "    authors = []\n",
    "    isbn13s = []\n",
    "    isbns =[]\n",
    "    pagess = []\n",
    "    ratings = []\n",
    "    num_ratings = []\n",
    "    pub_dates = []\n",
    "    date_started = []\n",
    "    date_completed = []\n",
    "\n",
    "    p=1\n",
    "    while True:\n",
    "\n",
    "        if not shelf_name:\n",
    "            link = f'https://www.goodreads.com/review/list/{user_code}?page={p}'\n",
    "        else:\n",
    "            link = f'https://www.goodreads.com/review/list/{user_code}?page={p}&ref=nav_mybooks&shelf={shelf_name}'\n",
    "\n",
    "        code = requests.get(link)\n",
    "        soup = bs4.BeautifulSoup(code.text, \"lxml\")\n",
    "\n",
    "        #Breaking the loop\n",
    "        if soup.select('.bookalike') == []:\n",
    "            break\n",
    "\n",
    "        if verbose == 0:\n",
    "            pass \n",
    "        else:\n",
    "            print(f'Currently on Page: {p}')\n",
    "\n",
    "        for i in range(len(soup.select('.bookalike'))):\n",
    "\n",
    "            book_name = soup.select('.bookalike .title a')[i]['title']\n",
    "            books.append(book_name)\n",
    "\n",
    "            author = soup.select('.bookalike .author a')[i].text\n",
    "            authors.append(author)\n",
    "\n",
    "            isbn13 = soup.select('.bookalike .isbn13 .value')[i].text.strip()\n",
    "            isbn13s.append(str(isbn13))\n",
    "            isbn = soup.select('.bookalike .isbn .value')[i].text.strip()\n",
    "            isbns.append(str(isbn))\n",
    "\n",
    "            pages = soup.select('.bookalike .num_pages .value')[i].text.split('\\n')[1].strip()\n",
    "            pagess.append(pages)\n",
    "\n",
    "            rating = float(soup.select('.bookalike .avg_rating .value')[i].text.strip())\n",
    "            ratings.append(rating)\n",
    "\n",
    "            num = soup.select('.bookalike .num_ratings .value')[i].text.strip()\n",
    "            num_rating = int(''.join(num.split(',')))\n",
    "            num_ratings.append(num_rating)\n",
    "\n",
    "            pub_date = soup.select('.bookalike .date_pub .value')[i].text.strip()\n",
    "            pub_dates.append(pub_date)\n",
    "            \n",
    "            started = soup.select('.bookalike .date_started')[i].text.split('\\n')[3]\n",
    "            date_started.append(started)\n",
    "\n",
    "            ended = soup.select('.bookalike .date_read')[i].text.split('\\n')[3]\n",
    "            date_completed.append(ended)\n",
    "\n",
    "        #Next page\n",
    "        p=p+1\n",
    "\n",
    "    #Creating the DataFrame\n",
    "    index = 'Book Name, Author, ISBN 13, ISBN, Number of Pages, Average Rating, Total Number of Ratings, Publication Date, Date Started, Date Completed'.split(', ')\n",
    "    book_df = pd.DataFrame(data = [books, authors, isbn13s, isbns, pagess, ratings, num_ratings, pub_dates, date_started, date_completed], index = index).transpose()\n",
    "    return book_df"
   ]
  },
  {
   "cell_type": "code",
   "execution_count": 4,
   "metadata": {},
   "outputs": [
    {
     "name": "stdout",
     "output_type": "stream",
     "text": [
      "Currently on Page: 1\n",
      "Currently on Page: 2\n",
      "Currently on Page: 3\n",
      "Currently on Page: 4\n",
      "Currently on Page: 5\n",
      "Currently on Page: 6\n",
      "Currently on Page: 7\n",
      "Currently on Page: 8\n",
      "Currently on Page: 9\n",
      "Currently on Page: 10\n",
      "Currently on Page: 11\n",
      "Currently on Page: 12\n",
      "Currently on Page: 13\n",
      "Currently on Page: 14\n",
      "Currently on Page: 15\n",
      "Currently on Page: 16\n"
     ]
    }
   ],
   "source": [
    "df = user_books_from_goodreads(user_code = 110673662, verbose = 1)"
   ]
  },
  {
   "cell_type": "code",
   "execution_count": 5,
   "metadata": {},
   "outputs": [
    {
     "data": {
      "text/html": [
       "<div>\n",
       "<style scoped>\n",
       "    .dataframe tbody tr th:only-of-type {\n",
       "        vertical-align: middle;\n",
       "    }\n",
       "\n",
       "    .dataframe tbody tr th {\n",
       "        vertical-align: top;\n",
       "    }\n",
       "\n",
       "    .dataframe thead th {\n",
       "        text-align: right;\n",
       "    }\n",
       "</style>\n",
       "<table border=\"1\" class=\"dataframe\">\n",
       "  <thead>\n",
       "    <tr style=\"text-align: right;\">\n",
       "      <th></th>\n",
       "      <th>Book Name</th>\n",
       "      <th>Author</th>\n",
       "      <th>ISBN 13</th>\n",
       "      <th>ISBN</th>\n",
       "      <th>Number of Pages</th>\n",
       "      <th>Average Rating</th>\n",
       "      <th>Total Number of Ratings</th>\n",
       "      <th>Publication Date</th>\n",
       "      <th>Date Started</th>\n",
       "      <th>Date Completed</th>\n",
       "    </tr>\n",
       "  </thead>\n",
       "  <tbody>\n",
       "    <tr>\n",
       "      <th>0</th>\n",
       "      <td>The False Prince (Ascendance, #1)</td>\n",
       "      <td>Nielsen, Jennifer A.</td>\n",
       "      <td>9780545284134</td>\n",
       "      <td>0545284139</td>\n",
       "      <td>342</td>\n",
       "      <td>4.22</td>\n",
       "      <td>87943</td>\n",
       "      <td>Apr 01, 2012</td>\n",
       "      <td>Dec 21, 2022</td>\n",
       "      <td>not set</td>\n",
       "    </tr>\n",
       "    <tr>\n",
       "      <th>1</th>\n",
       "      <td>The Marvellers (Marvellerverse, #1)</td>\n",
       "      <td>Clayton, Dhonielle</td>\n",
       "      <td>9781250174949</td>\n",
       "      <td>1250174945</td>\n",
       "      <td>416</td>\n",
       "      <td>4.14</td>\n",
       "      <td>1658</td>\n",
       "      <td>May 03, 2022</td>\n",
       "      <td>not set</td>\n",
       "      <td>not set</td>\n",
       "    </tr>\n",
       "    <tr>\n",
       "      <th>2</th>\n",
       "      <td>Amari and the Great Game (Supernatural Investi...</td>\n",
       "      <td>Alston, B.B.</td>\n",
       "      <td></td>\n",
       "      <td></td>\n",
       "      <td>400</td>\n",
       "      <td>4.41</td>\n",
       "      <td>3327</td>\n",
       "      <td>Aug 30, 2022</td>\n",
       "      <td>Dec 16, 2022</td>\n",
       "      <td>Dec 19, 2022</td>\n",
       "    </tr>\n",
       "    <tr>\n",
       "      <th>3</th>\n",
       "      <td>Amari and the Night Brothers (Supernatural Inv...</td>\n",
       "      <td>Alston, B.B.</td>\n",
       "      <td></td>\n",
       "      <td></td>\n",
       "      <td>416</td>\n",
       "      <td>4.43</td>\n",
       "      <td>19320</td>\n",
       "      <td>Jan 19, 2021</td>\n",
       "      <td>Dec 16, 2022</td>\n",
       "      <td>Dec 16, 2022</td>\n",
       "    </tr>\n",
       "    <tr>\n",
       "      <th>4</th>\n",
       "      <td>Gallant</td>\n",
       "      <td>Schwab, V.E.</td>\n",
       "      <td>9780062835772</td>\n",
       "      <td>0062835777</td>\n",
       "      <td>334</td>\n",
       "      <td>3.79</td>\n",
       "      <td>61086</td>\n",
       "      <td>Mar 01, 2022</td>\n",
       "      <td>not set</td>\n",
       "      <td>not set</td>\n",
       "    </tr>\n",
       "  </tbody>\n",
       "</table>\n",
       "</div>"
      ],
      "text/plain": [
       "                                           Book Name                Author  \\\n",
       "0                  The False Prince (Ascendance, #1)  Nielsen, Jennifer A.   \n",
       "1                The Marvellers (Marvellerverse, #1)    Clayton, Dhonielle   \n",
       "2  Amari and the Great Game (Supernatural Investi...          Alston, B.B.   \n",
       "3  Amari and the Night Brothers (Supernatural Inv...          Alston, B.B.   \n",
       "4                                            Gallant          Schwab, V.E.   \n",
       "\n",
       "         ISBN 13        ISBN Number of Pages Average Rating  \\\n",
       "0  9780545284134  0545284139             342           4.22   \n",
       "1  9781250174949  1250174945             416           4.14   \n",
       "2                                        400           4.41   \n",
       "3                                        416           4.43   \n",
       "4  9780062835772  0062835777             334           3.79   \n",
       "\n",
       "  Total Number of Ratings Publication Date  Date Started Date Completed  \n",
       "0                   87943     Apr 01, 2012  Dec 21, 2022        not set  \n",
       "1                    1658     May 03, 2022       not set        not set  \n",
       "2                    3327     Aug 30, 2022  Dec 16, 2022   Dec 19, 2022  \n",
       "3                   19320     Jan 19, 2021  Dec 16, 2022   Dec 16, 2022  \n",
       "4                   61086     Mar 01, 2022       not set        not set  "
      ]
     },
     "execution_count": 5,
     "metadata": {},
     "output_type": "execute_result"
    }
   ],
   "source": [
    "df.head()"
   ]
  },
  {
   "cell_type": "code",
   "execution_count": 6,
   "metadata": {},
   "outputs": [
    {
     "data": {
      "text/plain": [
       "458"
      ]
     },
     "execution_count": 6,
     "metadata": {},
     "output_type": "execute_result"
    }
   ],
   "source": [
    "len(df)"
   ]
  },
  {
   "cell_type": "code",
   "execution_count": 9,
   "metadata": {},
   "outputs": [],
   "source": [
    "df.to_csv(r'books_for_home.csv', index = False)"
   ]
  },
  {
   "cell_type": "code",
   "execution_count": 1,
   "metadata": {},
   "outputs": [],
   "source": [
    "def goodreads_author(author_id = None, author_name = None, verbose = 1, clean = True):\n",
    "    \n",
    "    \"\"\"\n",
    "    Works only for Goodread Authors\n",
    "    needs author_id and author_name\n",
    "    author_name should be specifically defined or pass clean as False\n",
    "    \"\"\"\n",
    "\n",
    "    import re\n",
    "    import pandas as pd\n",
    "    import numpy as np\n",
    "\n",
    "    names = []\n",
    "    authors = []\n",
    "    ratings = []\n",
    "    published_years = []\n",
    "    num_ratings = []\n",
    "\n",
    "    flag = True\n",
    "    p=1\n",
    "    \n",
    "    if clean and author_name:\n",
    "        return None\n",
    "    elif clean:\n",
    "        print('You should provide the author name or use \\\"clean\\\" = False')\n",
    "        return None\n",
    "    else:\n",
    "        return None\n",
    "    \n",
    "    while flag:\n",
    "        print(p)\n",
    "        try:\n",
    "            link = f\"https://www.goodreads.com/author/list/{author_id}?page={p}\"\n",
    "\n",
    "            df = pd.read_html(link)[0]\n",
    "            for i in range(len(df[1])):\n",
    "                book_name = df[1].iloc[i].split('by')[0].strip()\n",
    "                other = df[1].iloc[i].split('by')[1]\n",
    "\n",
    "                names.append(book_name)\n",
    "\n",
    "                author = other.split('(')[0].strip()\n",
    "                authors.append(author)\n",
    "                text = other.split('(')[-1]\n",
    "                pattern_rating = r\"\\d\\.\\d\\d\"\n",
    "                pattern_num = r\"\\d{1,}\\,\\d{1,}\"\n",
    "                pattern_year = r\"\\d{4}\"\n",
    "\n",
    "                if re.findall(pattern_rating, text):\n",
    "                    ratings.append(re.findall(pattern_rating, text)[0])\n",
    "                else:\n",
    "                    ratings.append(np.nan)\n",
    "\n",
    "\n",
    "                if re.findall(pattern_year, text):\n",
    "                    published_years.append(re.findall(pattern_year, text)[0])\n",
    "                else:\n",
    "                    published_years.append(np.nan)\n",
    "\n",
    "                if re.findall(pattern_num, text):\n",
    "                    num_ratings.append(re.findall(pattern_num, text)[0])\n",
    "                else:\n",
    "                    num_ratings.append(np.nan)\n",
    "        except :\n",
    "            break\n",
    "        p = p+1\n",
    "\n",
    "    index = 'Book Name, Author, Average Rating, Publication Date, Total Number of Ratings'.split(', ')\n",
    "    book_df = pd.DataFrame(data = [names, authors, ratings, published_years, num_ratings], index = index).transpose()\n",
    "    if clean and author_name:\n",
    "        book_df=book_df.dropna(thresh=3)\n",
    "        book_df[book_df['Author'].apply(lambda x: author_name in x)]\n",
    "        return book_df\n",
    "    else:\n",
    "        return book_df"
   ]
  },
  {
   "cell_type": "code",
   "execution_count": null,
   "metadata": {},
   "outputs": [],
   "source": []
  },
  {
   "cell_type": "code",
   "execution_count": 253,
   "metadata": {},
   "outputs": [],
   "source": [
    "text = string[0].split(' by ')[1]"
   ]
  },
  {
   "cell_type": "code",
   "execution_count": 254,
   "metadata": {},
   "outputs": [
    {
     "data": {
      "text/plain": [
       "'Jane Austen  4.27 avg rating — 3,266,966 ratings  —  published  1813  —  11651 editions'"
      ]
     },
     "execution_count": 254,
     "metadata": {},
     "output_type": "execute_result"
    }
   ],
   "source": [
    "text"
   ]
  },
  {
   "cell_type": "code",
   "execution_count": 256,
   "metadata": {},
   "outputs": [],
   "source": [
    "author = re.findall(pattern, text)[0]"
   ]
  },
  {
   "cell_type": "code",
   "execution_count": 262,
   "metadata": {},
   "outputs": [],
   "source": [
    "pattern_rating = r\"\\d\\.\\d\\d\"\n",
    "pattern_num1 = r\"\\d\\,\\d{1,}\\,\\d{1,}\"\n",
    "pattern_num2 = r\"\\d{1,}\\,\\d{1,}\"\n",
    "pattern_year = r\"\\d{4}\""
   ]
  },
  {
   "cell_type": "code",
   "execution_count": 265,
   "metadata": {},
   "outputs": [
    {
     "data": {
      "text/plain": [
       "['3,266,966']"
      ]
     },
     "execution_count": 265,
     "metadata": {},
     "output_type": "execute_result"
    }
   ],
   "source": [
    "re.findall(pattern_num1, text)"
   ]
  },
  {
   "cell_type": "code",
   "execution_count": 268,
   "metadata": {},
   "outputs": [
    {
     "data": {
      "text/plain": [
       "'1813'"
      ]
     },
     "execution_count": 268,
     "metadata": {},
     "output_type": "execute_result"
    }
   ],
   "source": [
    "re.findall(pattern_year, text)[0]"
   ]
  },
  {
   "cell_type": "code",
   "execution_count": 3,
   "metadata": {},
   "outputs": [],
   "source": [
    "def author(author_id = None, author_name = None, verbose = 1, clean = True):\n",
    "    \n",
    "    \"\"\"\n",
    "    Works for any Author on Goodreads\n",
    "    needs author_id and author_name\n",
    "    author_name should be specifically defined or pass clean as False\n",
    "    \"\"\"\n",
    "\n",
    "    import re\n",
    "    import pandas as pd\n",
    "    import numpy as np\n",
    "\n",
    "    names = []\n",
    "    authors = []\n",
    "    ratings = []\n",
    "    published_years = []\n",
    "    num_ratings = []\n",
    "\n",
    "    flag = True\n",
    "    p=1\n",
    "    \n",
    "    # if clean and author_name:\n",
    "    #     return None\n",
    "    if clean:\n",
    "        print('You should provide the author name or use \\\"clean\\\" = False')\n",
    "        return None\n",
    "    # else:\n",
    "    #     return None\n",
    "    \n",
    "    while flag:\n",
    "        print(f\"Currently on: {p}\")\n",
    "        try:\n",
    "            link = f\"https://www.goodreads.com/author/list/{author_id}?page={p}\"\n",
    "\n",
    "            df = pd.read_html(link)\n",
    "            for i in range(len(df[1])):\n",
    "                string = df[0][1]\n",
    "                book_name = string[0].split(' by ')[0].strip()\n",
    "                names.append(book_name)\n",
    "                \n",
    "                text = string[0].split(' by ')[1]\n",
    "\n",
    "                pattern_rating = r\"\\d\\.\\d\\d\"\n",
    "                pattern_num1 = r\"\\d\\,\\d{1,}\\,\\d{1,}\"\n",
    "                pattern_num2 = r\"\\d{1,}\\,\\d{1,}\"\n",
    "                pattern_year = r\"\\d{4}\"\n",
    "                pattern_author = author_name\n",
    "                \n",
    "                author = re.findall(pattern_author, text)[0]\n",
    "                authors.append(author)\n",
    "\n",
    "                if re.findall(pattern_rating, text):\n",
    "                    ratings.append(re.findall(pattern_rating, text)[0])\n",
    "                else:\n",
    "                    ratings.append(np.nan)\n",
    "\n",
    "\n",
    "                if re.findall(pattern_year, text):\n",
    "                    published_years.append(re.findall(pattern_year, text)[0])\n",
    "                else:\n",
    "                    published_years.append(np.nan)\n",
    "\n",
    "                if re.findall(pattern_num1, text):\n",
    "                    num_ratings.append(re.findall(pattern_num1, text)[0])\n",
    "                elif re.findall(pattern_num2, text):\n",
    "                    num_ratings.append(re.findall(pattern_num2, text)[0])\n",
    "                else:\n",
    "                    num_ratings.append(np.nan)\n",
    "        except:\n",
    "            pass\n",
    "        p = p+1\n",
    "\n",
    "    index = 'Book Name, Author, Average Rating, Publication Date, Total Number of Ratings'.split(', ')\n",
    "    book_df = pd.DataFrame(data = [names, authors, ratings, published_years, num_ratings], index = index).transpose()\n",
    "    if clean and author_name:\n",
    "        book_df=book_df.dropna(thresh=3)\n",
    "        book_df[book_df['Author'].apply(lambda x: author_name in x)]\n",
    "        return book_df\n",
    "    else:\n",
    "        return book_df"
   ]
  },
  {
   "cell_type": "code",
   "execution_count": 4,
   "metadata": {},
   "outputs": [
    {
     "name": "stdout",
     "output_type": "stream",
     "text": [
      "Currently on: 1\n",
      "Currently on: 2\n",
      "Currently on: 3\n",
      "Currently on: 4\n",
      "Currently on: 5\n",
      "Currently on: 6\n",
      "Currently on: 7\n",
      "Currently on: 8\n",
      "Currently on: 9\n",
      "Currently on: 10\n",
      "Currently on: 11\n",
      "Currently on: 12\n",
      "Currently on: 13\n",
      "Currently on: 14\n",
      "Currently on: 15\n",
      "Currently on: 16\n",
      "Currently on: 17\n",
      "Currently on: 18\n",
      "Currently on: 19\n",
      "Currently on: 20\n",
      "Currently on: 21\n",
      "Currently on: 22\n",
      "Currently on: 23\n",
      "Currently on: 24\n",
      "Currently on: 25\n",
      "Currently on: 26\n"
     ]
    }
   ],
   "source": [
    "author(author_id=239579, clean=False, author_name='Charles Dickens')"
   ]
  },
  {
   "cell_type": "code",
   "execution_count": 9,
   "metadata": {},
   "outputs": [],
   "source": [
    "goodreads_author(author_id=1265, author_name='Terry Goodkind')"
   ]
  },
  {
   "cell_type": "code",
   "execution_count": null,
   "metadata": {},
   "outputs": [],
   "source": []
  }
 ],
 "metadata": {
  "kernelspec": {
   "display_name": "data-science",
   "language": "python",
   "name": "python3"
  },
  "language_info": {
   "codemirror_mode": {
    "name": "ipython",
    "version": 3
   },
   "file_extension": ".py",
   "mimetype": "text/x-python",
   "name": "python",
   "nbconvert_exporter": "python",
   "pygments_lexer": "ipython3",
   "version": "3.9.15"
  },
  "vscode": {
   "interpreter": {
    "hash": "2efee1efa502125d01e6b4768ba06d9453d29f3642bfd14ad5d4a769de82e88c"
   }
  }
 },
 "nbformat": 4,
 "nbformat_minor": 4
}
