{
 "cells": [
  {
   "cell_type": "code",
   "execution_count": 10,
   "source": [
    "def user_books_from_goodreads(user_code = None, shelf_name = None, verbose = 1):\r\n",
    "    \"\"\"\r\n",
    "    Scarping book info from Goodreads Users's page\r\n",
    "    the user_code is 9 digit code found in the link of user's 'My Books' page\r\n",
    "    If no shelf name is provided, info from 'All' shelf is returned\r\n",
    "    verbose has usual meaning with value being integer 0 or 1, default is 1.\r\n",
    "    eg. book_from_goodreads(user_code =110673662, shelf_name = 'currently-reading', verbose = 1)\r\n",
    "    \"\"\"\r\n",
    "\r\n",
    "    #Scarping book info from Goodreads\r\n",
    "\r\n",
    "    #Imports\r\n",
    "    import requests\r\n",
    "    import bs4\r\n",
    "    import pandas as pd\r\n",
    "\r\n",
    "    #Containers\r\n",
    "    books = []\r\n",
    "    authors = []\r\n",
    "    isbn13s = []\r\n",
    "    isbns =[]\r\n",
    "    pagess = []\r\n",
    "    ratings = []\r\n",
    "    num_ratings = []\r\n",
    "    pub_dates = []\r\n",
    "    date_started = []\r\n",
    "    date_completed = []\r\n",
    "\r\n",
    "    p=1\r\n",
    "    while True:\r\n",
    "\r\n",
    "        if not shelf_name:\r\n",
    "            link = f'https://www.goodreads.com/review/list/110673662?page={p}'\r\n",
    "        else:\r\n",
    "            link = f'https://www.goodreads.com/review/list/110673662?page={p}&ref=nav_mybooks&shelf={shelf_name}'\r\n",
    "\r\n",
    "        code = requests.get(link)\r\n",
    "        soup = bs4.BeautifulSoup(code.text, \"lxml\")\r\n",
    "\r\n",
    "        #Breaking the loop\r\n",
    "        if soup.select('.bookalike') == []:\r\n",
    "            break\r\n",
    "\r\n",
    "        if verbose == 0:\r\n",
    "            pass \r\n",
    "        else:\r\n",
    "            print(p)\r\n",
    "\r\n",
    "        for i in range(len(soup.select('.bookalike'))):\r\n",
    "\r\n",
    "            book_name = soup.select('.bookalike .title a')[i]['title']\r\n",
    "            books.append(book_name)\r\n",
    "\r\n",
    "            author = soup.select('.bookalike .author a')[i].text\r\n",
    "            authors.append(author)\r\n",
    "\r\n",
    "            isbn13 = soup.select('.bookalike .isbn13 .value')[i].text.strip()\r\n",
    "            isbn13s.append(isbn13)\r\n",
    "            isbn = soup.select('.bookalike .isbn .value')[i].text.strip()\r\n",
    "            isbns.append(isbn)\r\n",
    "\r\n",
    "            pages = soup.select('.bookalike .num_pages .value')[i].text.split('\\n')[1].strip()\r\n",
    "            pagess.append(pages)\r\n",
    "\r\n",
    "            rating = float(soup.select('.bookalike .avg_rating .value')[i].text.strip())\r\n",
    "            ratings.append(rating)\r\n",
    "\r\n",
    "            num = soup.select('.bookalike .num_ratings .value')[i].text.strip()\r\n",
    "            num_rating = int(''.join(num.split(',')))\r\n",
    "            num_ratings.append(num_rating)\r\n",
    "\r\n",
    "            pub_date = soup.select('.bookalike .date_pub .value')[i].text.strip()\r\n",
    "            pub_dates.append(pub_date)\r\n",
    "            \r\n",
    "            started = soup.select('.bookalike .date_started')[i].text.split('\\n')[3]\r\n",
    "            date_started.append(started)\r\n",
    "\r\n",
    "            ended = soup.select('.bookalike .date_read')[i].text.split('\\n')[3]\r\n",
    "            date_completed.append(ended)\r\n",
    "\r\n",
    "        #Next page\r\n",
    "        p=p+1\r\n",
    "\r\n",
    "    #Creating the DataFrame\r\n",
    "    index = 'Book Name, Author, ISBN 13, ISBN, Number of Pages, Average Rating, Total Number of Ratings, Publication Date, Date Started, Date Completed'.split(', ')\r\n",
    "    book_df = pd.DataFrame(data = [books, authors, isbn13s, isbns, pagess, ratings, num_ratings, pub_dates, date_started, date_completed], index = index).transpose()\r\n",
    "    return book_df"
   ],
   "outputs": [],
   "metadata": {}
  },
  {
   "cell_type": "code",
   "execution_count": 11,
   "source": [
    "user_books_from_goodreads(user_code = 110673662, shelf_name = 'currently-reading', verbose = 1)"
   ],
   "outputs": [
    {
     "output_type": "stream",
     "name": "stdout",
     "text": [
      "1\n"
     ]
    },
    {
     "output_type": "execute_result",
     "data": {
      "text/html": [
       "<div>\n",
       "<style scoped>\n",
       "    .dataframe tbody tr th:only-of-type {\n",
       "        vertical-align: middle;\n",
       "    }\n",
       "\n",
       "    .dataframe tbody tr th {\n",
       "        vertical-align: top;\n",
       "    }\n",
       "\n",
       "    .dataframe thead th {\n",
       "        text-align: right;\n",
       "    }\n",
       "</style>\n",
       "<table border=\"1\" class=\"dataframe\">\n",
       "  <thead>\n",
       "    <tr style=\"text-align: right;\">\n",
       "      <th></th>\n",
       "      <th>Book Name</th>\n",
       "      <th>Author</th>\n",
       "      <th>ISBN 13</th>\n",
       "      <th>ISBN</th>\n",
       "      <th>Number of Pages</th>\n",
       "      <th>Average Rating</th>\n",
       "      <th>Total Number of Ratings</th>\n",
       "      <th>Publication Date</th>\n",
       "      <th>Date Started</th>\n",
       "      <th>Date Completed</th>\n",
       "    </tr>\n",
       "  </thead>\n",
       "  <tbody>\n",
       "    <tr>\n",
       "      <th>0</th>\n",
       "      <td>The First Three Minutes: A Modern View of the ...</td>\n",
       "      <td>Weinberg, Steven</td>\n",
       "      <td>9780465024377</td>\n",
       "      <td>0465024378</td>\n",
       "      <td>203</td>\n",
       "      <td>4.09</td>\n",
       "      <td>11498</td>\n",
       "      <td>Jan 01, 1977</td>\n",
       "      <td>Aug 16, 2021</td>\n",
       "      <td>not set</td>\n",
       "    </tr>\n",
       "    <tr>\n",
       "      <th>1</th>\n",
       "      <td>Dune (Dune, #1)</td>\n",
       "      <td>Herbert, Frank</td>\n",
       "      <td>9780593099322</td>\n",
       "      <td>059309932X</td>\n",
       "      <td>688</td>\n",
       "      <td>4.24</td>\n",
       "      <td>913763</td>\n",
       "      <td>Jun 1965</td>\n",
       "      <td>Sep 17, 2021</td>\n",
       "      <td>not set</td>\n",
       "    </tr>\n",
       "    <tr>\n",
       "      <th>2</th>\n",
       "      <td>The Hobbit</td>\n",
       "      <td>Tolkien, J.R.R.</td>\n",
       "      <td></td>\n",
       "      <td></td>\n",
       "      <td>322</td>\n",
       "      <td>4.28</td>\n",
       "      <td>3174171</td>\n",
       "      <td>Sep 21, 1937</td>\n",
       "      <td>Mar 20, 2021</td>\n",
       "      <td>not set</td>\n",
       "    </tr>\n",
       "  </tbody>\n",
       "</table>\n",
       "</div>"
      ],
      "text/plain": [
       "                                           Book Name            Author  \\\n",
       "0  The First Three Minutes: A Modern View of the ...  Weinberg, Steven   \n",
       "1                                    Dune (Dune, #1)    Herbert, Frank   \n",
       "2                                         The Hobbit   Tolkien, J.R.R.   \n",
       "\n",
       "         ISBN 13        ISBN Number of Pages Average Rating  \\\n",
       "0  9780465024377  0465024378             203           4.09   \n",
       "1  9780593099322  059309932X             688           4.24   \n",
       "2                                        322           4.28   \n",
       "\n",
       "  Total Number of Ratings Publication Date  Date Started Date Completed  \n",
       "0                   11498     Jan 01, 1977  Aug 16, 2021        not set  \n",
       "1                  913763         Jun 1965  Sep 17, 2021        not set  \n",
       "2                 3174171     Sep 21, 1937  Mar 20, 2021        not set  "
      ]
     },
     "metadata": {},
     "execution_count": 11
    }
   ],
   "metadata": {}
  },
  {
   "cell_type": "code",
   "execution_count": 1,
   "source": [
    "def goodreads_author(author_id = None, author_name = None, verbose = 1, clean = True):\r\n",
    "    \r\n",
    "    \"\"\"\r\n",
    "    Works only for Goodread Authors\r\n",
    "    needs author_id and author_name\r\n",
    "    author_name should be specifically defined or pass clean as False\r\n",
    "    \"\"\"\r\n",
    "\r\n",
    "    import re\r\n",
    "    import pandas as pd\r\n",
    "    import numpy as np\r\n",
    "\r\n",
    "    names = []\r\n",
    "    authors = []\r\n",
    "    ratings = []\r\n",
    "    published_years = []\r\n",
    "    num_ratings = []\r\n",
    "\r\n",
    "    flag = True\r\n",
    "    p=1\r\n",
    "    \r\n",
    "    if clean and author_name:\r\n",
    "        return None\r\n",
    "    elif clean:\r\n",
    "        print('You should provide the author name or use \\\"clean\\\" = False')\r\n",
    "        return None\r\n",
    "    else:\r\n",
    "        return None\r\n",
    "    \r\n",
    "    while flag:\r\n",
    "        print(p)\r\n",
    "        try:\r\n",
    "            link = f\"https://www.goodreads.com/author/list/{author_id}?page={p}\"\r\n",
    "\r\n",
    "            df = pd.read_html(link)[0]\r\n",
    "            for i in range(len(df[1])):\r\n",
    "                book_name = df[1].iloc[i].split('by')[0].strip()\r\n",
    "                other = df[1].iloc[i].split('by')[1]\r\n",
    "\r\n",
    "                names.append(book_name)\r\n",
    "\r\n",
    "                author = other.split('(')[0].strip()\r\n",
    "                authors.append(author)\r\n",
    "                text = other.split('(')[-1]\r\n",
    "                pattern_rating = r\"\\d\\.\\d\\d\"\r\n",
    "                pattern_num = r\"\\d{1,}\\,\\d{1,}\"\r\n",
    "                pattern_year = r\"\\d{4}\"\r\n",
    "\r\n",
    "                if re.findall(pattern_rating, text):\r\n",
    "                    ratings.append(re.findall(pattern_rating, text)[0])\r\n",
    "                else:\r\n",
    "                    ratings.append(np.nan)\r\n",
    "\r\n",
    "\r\n",
    "                if re.findall(pattern_year, text):\r\n",
    "                    published_years.append(re.findall(pattern_year, text)[0])\r\n",
    "                else:\r\n",
    "                    published_years.append(np.nan)\r\n",
    "\r\n",
    "                if re.findall(pattern_num, text):\r\n",
    "                    num_ratings.append(re.findall(pattern_num, text)[0])\r\n",
    "                else:\r\n",
    "                    num_ratings.append(np.nan)\r\n",
    "        except :\r\n",
    "            break\r\n",
    "        p = p+1\r\n",
    "\r\n",
    "    index = 'Book Name, Author, Average Rating, Publication Date, Total Number of Ratings'.split(', ')\r\n",
    "    book_df = pd.DataFrame(data = [names, authors, ratings, published_years, num_ratings], index = index).transpose()\r\n",
    "    if clean and author_name:\r\n",
    "        book_df=book_df.dropna(thresh=3)\r\n",
    "        book_df[book_df['Author'].apply(lambda x: author_name in x)]\r\n",
    "        return book_df\r\n",
    "    else:\r\n",
    "        return book_df"
   ],
   "outputs": [],
   "metadata": {}
  },
  {
   "cell_type": "code",
   "execution_count": null,
   "source": [],
   "outputs": [],
   "metadata": {}
  },
  {
   "cell_type": "code",
   "execution_count": 7,
   "source": [
    "import requests\r\n",
    "import bs4\r\n",
    "import pandas as pd\r\n",
    "import re"
   ],
   "outputs": [],
   "metadata": {}
  },
  {
   "cell_type": "code",
   "execution_count": 222,
   "source": [
    "link = 'https://www.goodreads.com/author/list/1265?page=1'"
   ],
   "outputs": [],
   "metadata": {}
  },
  {
   "cell_type": "code",
   "execution_count": 223,
   "source": [
    "code = requests.get(link)\r\n",
    "soup = bs4.BeautifulSoup(code.text, \"lxml\")"
   ],
   "outputs": [],
   "metadata": {}
  },
  {
   "cell_type": "code",
   "execution_count": 224,
   "source": [
    "soup.select('title')"
   ],
   "outputs": [
    {
     "output_type": "execute_result",
     "data": {
      "text/plain": [
       "[<title>Books by Jane Austen (Author of Pride and Prejudice)</title>]"
      ]
     },
     "metadata": {},
     "execution_count": 224
    }
   ],
   "metadata": {}
  },
  {
   "cell_type": "code",
   "execution_count": 269,
   "source": [
    "df = pd.read_html(link)"
   ],
   "outputs": [],
   "metadata": {}
  },
  {
   "cell_type": "code",
   "execution_count": 270,
   "source": [
    "string = df[0][1]"
   ],
   "outputs": [],
   "metadata": {}
  },
  {
   "cell_type": "code",
   "execution_count": 271,
   "source": [
    "title = string[0].split(' by ')[0].strip()"
   ],
   "outputs": [],
   "metadata": {}
  },
  {
   "cell_type": "code",
   "execution_count": 273,
   "source": [
    "title"
   ],
   "outputs": [
    {
     "output_type": "execute_result",
     "data": {
      "text/plain": [
       "'Pride and Prejudice'"
      ]
     },
     "metadata": {},
     "execution_count": 273
    }
   ],
   "metadata": {}
  },
  {
   "cell_type": "code",
   "execution_count": 272,
   "source": [
    "pattern_author = 'Jane Austen'"
   ],
   "outputs": [],
   "metadata": {}
  },
  {
   "cell_type": "code",
   "execution_count": null,
   "source": [],
   "outputs": [],
   "metadata": {}
  },
  {
   "cell_type": "code",
   "execution_count": 253,
   "source": [
    "text = string[0].split(' by ')[1]"
   ],
   "outputs": [],
   "metadata": {}
  },
  {
   "cell_type": "code",
   "execution_count": 254,
   "source": [
    "text"
   ],
   "outputs": [
    {
     "output_type": "execute_result",
     "data": {
      "text/plain": [
       "'Jane Austen  4.27 avg rating — 3,266,966 ratings  —  published  1813  —  11651 editions'"
      ]
     },
     "metadata": {},
     "execution_count": 254
    }
   ],
   "metadata": {}
  },
  {
   "cell_type": "code",
   "execution_count": 256,
   "source": [
    "author = re.findall(pattern, text)[0]"
   ],
   "outputs": [],
   "metadata": {}
  },
  {
   "cell_type": "code",
   "execution_count": 262,
   "source": [
    "pattern_rating = r\"\\d\\.\\d\\d\"\r\n",
    "pattern_num1 = r\"\\d\\,\\d{1,}\\,\\d{1,}\"\r\n",
    "pattern_num2 = r\"\\d{1,}\\,\\d{1,}\"\r\n",
    "pattern_year = r\"\\d{4}\""
   ],
   "outputs": [],
   "metadata": {}
  },
  {
   "cell_type": "code",
   "execution_count": 265,
   "source": [
    "re.findall(pattern_num1, text)"
   ],
   "outputs": [
    {
     "output_type": "execute_result",
     "data": {
      "text/plain": [
       "['3,266,966']"
      ]
     },
     "metadata": {},
     "execution_count": 265
    }
   ],
   "metadata": {}
  },
  {
   "cell_type": "code",
   "execution_count": 268,
   "source": [
    "re.findall(pattern_year, text)[0]"
   ],
   "outputs": [
    {
     "output_type": "execute_result",
     "data": {
      "text/plain": [
       "'1813'"
      ]
     },
     "metadata": {},
     "execution_count": 268
    }
   ],
   "metadata": {}
  },
  {
   "cell_type": "code",
   "execution_count": 15,
   "source": [
    "def author(author_id = None, author_name = None, verbose = 1, clean = True):\r\n",
    "    \r\n",
    "    \"\"\"\r\n",
    "    Works for any Author on Goodreads\r\n",
    "    needs author_id and author_name\r\n",
    "    author_name should be specifically defined or pass clean as False\r\n",
    "    \"\"\"\r\n",
    "\r\n",
    "    import re\r\n",
    "    import pandas as pd\r\n",
    "    import numpy as np\r\n",
    "\r\n",
    "    names = []\r\n",
    "    authors = []\r\n",
    "    ratings = []\r\n",
    "    published_years = []\r\n",
    "    num_ratings = []\r\n",
    "\r\n",
    "    flag = True\r\n",
    "    p=1\r\n",
    "    \r\n",
    "    # if clean and author_name:\r\n",
    "    #     return None\r\n",
    "    if clean:\r\n",
    "        print('You should provide the author name or use \\\"clean\\\" = False')\r\n",
    "        return None\r\n",
    "    # else:\r\n",
    "    #     return None\r\n",
    "    \r\n",
    "    while flag:\r\n",
    "        print(p)\r\n",
    "        try:\r\n",
    "            link = f\"https://www.goodreads.com/author/list/{author_id}?page={p}\"\r\n",
    "\r\n",
    "            df = pd.read_html(link)\r\n",
    "            for i in range(len(df[1])):\r\n",
    "                string = df[0][1]\r\n",
    "                book_name = string[0].split(' by ')[0].strip()\r\n",
    "                names.append(book_name)\r\n",
    "                \r\n",
    "                text = string[0].split(' by ')[1]\r\n",
    "\r\n",
    "                pattern_rating = r\"\\d\\.\\d\\d\"\r\n",
    "                pattern_num1 = r\"\\d\\,\\d{1,}\\,\\d{1,}\"\r\n",
    "                pattern_num2 = r\"\\d{1,}\\,\\d{1,}\"\r\n",
    "                pattern_year = r\"\\d{4}\"\r\n",
    "                pattern_author = 'Jane Austen'\r\n",
    "                \r\n",
    "                author = re.findall(pattern, text)[0]\r\n",
    "                authors.append(author)\r\n",
    "\r\n",
    "                if re.findall(pattern_rating, text):\r\n",
    "                    ratings.append(re.findall(pattern_rating, text)[0])\r\n",
    "                else:\r\n",
    "                    ratings.append(np.nan)\r\n",
    "\r\n",
    "\r\n",
    "                if re.findall(pattern_year, text):\r\n",
    "                    published_years.append(re.findall(pattern_year, text)[0])\r\n",
    "                else:\r\n",
    "                    published_years.append(np.nan)\r\n",
    "\r\n",
    "                if re.findall(pattern_num1, text):\r\n",
    "                    num_ratings.append(re.findall(pattern_num1, text)[0])\r\n",
    "                elif re.findall(pattern_num2, text):\r\n",
    "                    num_ratings.append(re.findall(pattern_num2, text)[0])\r\n",
    "                else:\r\n",
    "                    num_ratings.append(np.nan)\r\n",
    "        except:\r\n",
    "            pass\r\n",
    "        p = p+1\r\n",
    "\r\n",
    "    index = 'Book Name, Author, Average Rating, Publication Date, Total Number of Ratings'.split(', ')\r\n",
    "    book_df = pd.DataFrame(data = [names, authors, ratings, published_years, num_ratings], index = index).transpose()\r\n",
    "    if clean and author_name:\r\n",
    "        book_df=book_df.dropna(thresh=3)\r\n",
    "        book_df[book_df['Author'].apply(lambda x: author_name in x)]\r\n",
    "        return book_df\r\n",
    "    else:\r\n",
    "        return book_df"
   ],
   "outputs": [],
   "metadata": {}
  },
  {
   "cell_type": "code",
   "execution_count": 17,
   "source": [
    "author(author_id=3441, clean=False, author_name='Terry Goodkind')"
   ],
   "outputs": [
    {
     "output_type": "stream",
     "name": "stdout",
     "text": [
      "1\n",
      "2\n",
      "3\n",
      "4\n",
      "5\n",
      "6\n",
      "7\n",
      "8\n",
      "9\n",
      "10\n",
      "11\n",
      "12\n",
      "13\n",
      "14\n",
      "15\n",
      "16\n",
      "17\n",
      "18\n",
      "19\n",
      "20\n",
      "21\n",
      "22\n",
      "23\n",
      "24\n",
      "25\n",
      "26\n",
      "27\n",
      "28\n",
      "29\n",
      "30\n",
      "31\n",
      "32\n",
      "33\n",
      "34\n",
      "35\n",
      "36\n",
      "37\n",
      "38\n",
      "39\n",
      "40\n",
      "41\n",
      "42\n",
      "43\n",
      "44\n"
     ]
    }
   ],
   "metadata": {}
  },
  {
   "cell_type": "code",
   "execution_count": 9,
   "source": [
    "goodreads_author(author_id=1265, author_name='Terry Goodkind')"
   ],
   "outputs": [],
   "metadata": {}
  },
  {
   "cell_type": "code",
   "execution_count": null,
   "source": [],
   "outputs": [],
   "metadata": {}
  }
 ],
 "metadata": {
  "kernelspec": {
   "name": "python3",
   "display_name": "Python 3.8.5 64-bit ('base': conda)"
  },
  "language_info": {
   "codemirror_mode": {
    "name": "ipython",
    "version": 3
   },
   "file_extension": ".py",
   "mimetype": "text/x-python",
   "name": "python",
   "nbconvert_exporter": "python",
   "pygments_lexer": "ipython3",
   "version": "3.8.5"
  },
  "interpreter": {
   "hash": "ce44b17c45080b8f56a19c9450d52461d624c968fcd959bb1916985c5ffa2b94"
  }
 },
 "nbformat": 4,
 "nbformat_minor": 4
}