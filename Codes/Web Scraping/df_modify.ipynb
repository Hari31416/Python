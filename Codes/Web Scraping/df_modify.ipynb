{
 "cells": [
  {
   "cell_type": "code",
   "execution_count": 90,
   "metadata": {},
   "outputs": [],
   "source": [
    "import pandas as pd\n",
    "import numpy as np"
   ]
  },
  {
   "cell_type": "code",
   "execution_count": 4,
   "metadata": {},
   "outputs": [],
   "source": [
    "df = pd.read_csv('book_details.csv')"
   ]
  },
  {
   "cell_type": "code",
   "execution_count": 6,
   "metadata": {},
   "outputs": [
    {
     "data": {
      "text/plain": [
       "Book Name                    0\n",
       "Author                       0\n",
       "ISBN 13                    102\n",
       "ISBN                       111\n",
       "Number of Pages              5\n",
       "Average Rating               0\n",
       "Total Number of Ratings      0\n",
       "Publication Date             0\n",
       "Started Date                 0\n",
       "Ended Date                   0\n",
       "dtype: int64"
      ]
     },
     "execution_count": 6,
     "metadata": {},
     "output_type": "execute_result"
    }
   ],
   "source": [
    "df.isnull().sum()"
   ]
  },
  {
   "cell_type": "code",
   "execution_count": 7,
   "metadata": {},
   "outputs": [
    {
     "data": {
      "text/html": [
       "<div>\n",
       "<style scoped>\n",
       "    .dataframe tbody tr th:only-of-type {\n",
       "        vertical-align: middle;\n",
       "    }\n",
       "\n",
       "    .dataframe tbody tr th {\n",
       "        vertical-align: top;\n",
       "    }\n",
       "\n",
       "    .dataframe thead th {\n",
       "        text-align: right;\n",
       "    }\n",
       "</style>\n",
       "<table border=\"1\" class=\"dataframe\">\n",
       "  <thead>\n",
       "    <tr style=\"text-align: right;\">\n",
       "      <th></th>\n",
       "      <th>Book Name</th>\n",
       "      <th>Author</th>\n",
       "      <th>ISBN 13</th>\n",
       "      <th>ISBN</th>\n",
       "      <th>Number of Pages</th>\n",
       "      <th>Average Rating</th>\n",
       "      <th>Total Number of Ratings</th>\n",
       "      <th>Publication Date</th>\n",
       "      <th>Started Date</th>\n",
       "      <th>Ended Date</th>\n",
       "    </tr>\n",
       "  </thead>\n",
       "  <tbody>\n",
       "    <tr>\n",
       "      <th>98</th>\n",
       "      <td>Throne of Glass Collection (Throne of Glass, #...</td>\n",
       "      <td>Maas, Sarah J.</td>\n",
       "      <td>9.783200e+12</td>\n",
       "      <td>3200328290</td>\n",
       "      <td>NaN</td>\n",
       "      <td>4.73</td>\n",
       "      <td>1593</td>\n",
       "      <td>Nov 07, 2014</td>\n",
       "      <td>not set</td>\n",
       "      <td>not set</td>\n",
       "    </tr>\n",
       "    <tr>\n",
       "      <th>174</th>\n",
       "      <td>The Winds of Winter (A Song of Ice and Fire, #6)</td>\n",
       "      <td>Martin, George R.R.</td>\n",
       "      <td>9.780002e+12</td>\n",
       "      <td>0002247410</td>\n",
       "      <td>NaN</td>\n",
       "      <td>4.40</td>\n",
       "      <td>8722</td>\n",
       "      <td>unknown</td>\n",
       "      <td>not set</td>\n",
       "      <td>not set</td>\n",
       "    </tr>\n",
       "    <tr>\n",
       "      <th>175</th>\n",
       "      <td>A Dream of Spring (A Song of Ice and Fire, #7)</td>\n",
       "      <td>Martin, George R.R.</td>\n",
       "      <td>NaN</td>\n",
       "      <td>NaN</td>\n",
       "      <td>NaN</td>\n",
       "      <td>4.38</td>\n",
       "      <td>1859</td>\n",
       "      <td>unknown</td>\n",
       "      <td>not set</td>\n",
       "      <td>not set</td>\n",
       "    </tr>\n",
       "    <tr>\n",
       "      <th>388</th>\n",
       "      <td>Sunreach (Skyward #3.1)</td>\n",
       "      <td>Sanderson, Brandon</td>\n",
       "      <td>NaN</td>\n",
       "      <td>NaN</td>\n",
       "      <td>NaN</td>\n",
       "      <td>0.00</td>\n",
       "      <td>0</td>\n",
       "      <td>unknown</td>\n",
       "      <td>not set</td>\n",
       "      <td>not set</td>\n",
       "    </tr>\n",
       "    <tr>\n",
       "      <th>389</th>\n",
       "      <td>ReDawn (Skyward #3.2)</td>\n",
       "      <td>Sanderson, Brandon</td>\n",
       "      <td>NaN</td>\n",
       "      <td>NaN</td>\n",
       "      <td>NaN</td>\n",
       "      <td>5.00</td>\n",
       "      <td>1</td>\n",
       "      <td>unknown</td>\n",
       "      <td>not set</td>\n",
       "      <td>not set</td>\n",
       "    </tr>\n",
       "  </tbody>\n",
       "</table>\n",
       "</div>"
      ],
      "text/plain": [
       "                                             Book Name               Author  \\\n",
       "98   Throne of Glass Collection (Throne of Glass, #...       Maas, Sarah J.   \n",
       "174   The Winds of Winter (A Song of Ice and Fire, #6)  Martin, George R.R.   \n",
       "175     A Dream of Spring (A Song of Ice and Fire, #7)  Martin, George R.R.   \n",
       "388                            Sunreach (Skyward #3.1)   Sanderson, Brandon   \n",
       "389                              ReDawn (Skyward #3.2)   Sanderson, Brandon   \n",
       "\n",
       "          ISBN 13        ISBN Number of Pages  Average Rating  \\\n",
       "98   9.783200e+12  3200328290             NaN            4.73   \n",
       "174  9.780002e+12  0002247410             NaN            4.40   \n",
       "175           NaN         NaN             NaN            4.38   \n",
       "388           NaN         NaN             NaN            0.00   \n",
       "389           NaN         NaN             NaN            5.00   \n",
       "\n",
       "     Total Number of Ratings Publication Date Started Date Ended Date  \n",
       "98                      1593     Nov 07, 2014      not set    not set  \n",
       "174                     8722          unknown      not set    not set  \n",
       "175                     1859          unknown      not set    not set  \n",
       "388                        0          unknown      not set    not set  \n",
       "389                        1          unknown      not set    not set  "
      ]
     },
     "execution_count": 7,
     "metadata": {},
     "output_type": "execute_result"
    }
   ],
   "source": [
    "df[df['Number of Pages'].isnull()]"
   ]
  },
  {
   "cell_type": "code",
   "execution_count": 48,
   "metadata": {},
   "outputs": [
    {
     "data": {
      "text/plain": [
       "0                                    Pride and Prejudice\n",
       "1      Harry Potter and the Sorcerer's Stone (Harry P...\n",
       "2      The Fellowship of the Ring (The Lord of the Ri...\n",
       "3      Harry Potter and the Chamber of Secrets (Harry...\n",
       "4      Harry Potter and the Prisoner of Azkaban (Harr...\n",
       "                             ...                        \n",
       "396    Mostly Harmless (Hitchhiker's Guide to the Gal...\n",
       "397                 The Stone Sky (The Broken Earth, #3)\n",
       "398              The Fifth Season (The Broken Earth, #1)\n",
       "399              The Obelisk Gate (The Broken Earth, #2)\n",
       "400                    Realm Breaker (Realm Breaker, #1)\n",
       "Name: Book Name, Length: 401, dtype: object"
      ]
     },
     "execution_count": 48,
     "metadata": {},
     "output_type": "execute_result"
    }
   ],
   "source": [
    "df['Book Name']"
   ]
  },
  {
   "cell_type": "code",
   "execution_count": 43,
   "metadata": {},
   "outputs": [],
   "source": [
    "def series(name):\n",
    "    temp = name.split('(')\n",
    "    if len(temp)>1:\n",
    "        return temp[1].split(',')[0].strip()\n",
    "    else:\n",
    "        return 'StandAlone'"
   ]
  },
  {
   "cell_type": "code",
   "execution_count": 51,
   "metadata": {},
   "outputs": [
    {
     "data": {
      "text/plain": [
       "'Realm Breaker'"
      ]
     },
     "execution_count": 51,
     "metadata": {},
     "output_type": "execute_result"
    }
   ],
   "source": [
    "series(df['Book Name'].iloc[400])"
   ]
  },
  {
   "cell_type": "code",
   "execution_count": 53,
   "metadata": {},
   "outputs": [],
   "source": [
    "df['Series'] = df['Book Name'].apply(series)"
   ]
  },
  {
   "cell_type": "code",
   "execution_count": 79,
   "metadata": {},
   "outputs": [],
   "source": [
    "def number(name):\n",
    "    temp = name.split('#')\n",
    "    if len(temp)>1:\n",
    "        return int(list(temp[-1])[0])\n",
    "    else:\n",
    "        return 1"
   ]
  },
  {
   "cell_type": "code",
   "execution_count": 82,
   "metadata": {},
   "outputs": [
    {
     "data": {
      "text/plain": [
       "3"
      ]
     },
     "execution_count": 82,
     "metadata": {},
     "output_type": "execute_result"
    }
   ],
   "source": [
    "number(df['Book Name'].iloc[397])"
   ]
  },
  {
   "cell_type": "code",
   "execution_count": 74,
   "metadata": {},
   "outputs": [
    {
     "data": {
      "text/plain": [
       "'1'"
      ]
     },
     "execution_count": 74,
     "metadata": {},
     "output_type": "execute_result"
    }
   ],
   "source": [
    "list(df['Book Name'].iloc[2].split('#')[-1])[0]"
   ]
  },
  {
   "cell_type": "code",
   "execution_count": 86,
   "metadata": {},
   "outputs": [],
   "source": [
    "df['Installation']=df['Book Name'].apply(number)"
   ]
  },
  {
   "cell_type": "code",
   "execution_count": 87,
   "metadata": {},
   "outputs": [
    {
     "data": {
      "text/html": [
       "<div>\n",
       "<style scoped>\n",
       "    .dataframe tbody tr th:only-of-type {\n",
       "        vertical-align: middle;\n",
       "    }\n",
       "\n",
       "    .dataframe tbody tr th {\n",
       "        vertical-align: top;\n",
       "    }\n",
       "\n",
       "    .dataframe thead th {\n",
       "        text-align: right;\n",
       "    }\n",
       "</style>\n",
       "<table border=\"1\" class=\"dataframe\">\n",
       "  <thead>\n",
       "    <tr style=\"text-align: right;\">\n",
       "      <th></th>\n",
       "      <th>Book Name</th>\n",
       "      <th>Author</th>\n",
       "      <th>ISBN 13</th>\n",
       "      <th>ISBN</th>\n",
       "      <th>Number of Pages</th>\n",
       "      <th>Average Rating</th>\n",
       "      <th>Total Number of Ratings</th>\n",
       "      <th>Publication Date</th>\n",
       "      <th>Started Date</th>\n",
       "      <th>Ended Date</th>\n",
       "      <th>Series</th>\n",
       "      <th>Installation</th>\n",
       "    </tr>\n",
       "  </thead>\n",
       "  <tbody>\n",
       "    <tr>\n",
       "      <th>0</th>\n",
       "      <td>Pride and Prejudice</td>\n",
       "      <td>Austen, Jane</td>\n",
       "      <td>NaN</td>\n",
       "      <td>NaN</td>\n",
       "      <td>279</td>\n",
       "      <td>4.27</td>\n",
       "      <td>3261579</td>\n",
       "      <td>Jan 28, 1813</td>\n",
       "      <td>not set</td>\n",
       "      <td>Jan 2019</td>\n",
       "      <td>StandAlone</td>\n",
       "      <td>1</td>\n",
       "    </tr>\n",
       "    <tr>\n",
       "      <th>1</th>\n",
       "      <td>Harry Potter and the Sorcerer's Stone (Harry P...</td>\n",
       "      <td>Rowling, J.K.</td>\n",
       "      <td>NaN</td>\n",
       "      <td>NaN</td>\n",
       "      <td>309</td>\n",
       "      <td>4.47</td>\n",
       "      <td>7680566</td>\n",
       "      <td>Jun 26, 1997</td>\n",
       "      <td>not set</td>\n",
       "      <td>May 2018</td>\n",
       "      <td>Harry Potter</td>\n",
       "      <td>1</td>\n",
       "    </tr>\n",
       "    <tr>\n",
       "      <th>2</th>\n",
       "      <td>The Fellowship of the Ring (The Lord of the Ri...</td>\n",
       "      <td>Tolkien, J.R.R.</td>\n",
       "      <td>9.780618e+12</td>\n",
       "      <td>0618346252</td>\n",
       "      <td>398</td>\n",
       "      <td>4.37</td>\n",
       "      <td>2472181</td>\n",
       "      <td>Jul 29, 1954</td>\n",
       "      <td>not set</td>\n",
       "      <td>not set</td>\n",
       "      <td>The Lord of the Rings</td>\n",
       "      <td>1</td>\n",
       "    </tr>\n",
       "    <tr>\n",
       "      <th>3</th>\n",
       "      <td>Harry Potter and the Chamber of Secrets (Harry...</td>\n",
       "      <td>Rowling, J.K.</td>\n",
       "      <td>9.780439e+12</td>\n",
       "      <td>0439064864</td>\n",
       "      <td>341</td>\n",
       "      <td>4.43</td>\n",
       "      <td>2971800</td>\n",
       "      <td>Jul 02, 1998</td>\n",
       "      <td>not set</td>\n",
       "      <td>May 2018</td>\n",
       "      <td>Harry Potter</td>\n",
       "      <td>2</td>\n",
       "    </tr>\n",
       "    <tr>\n",
       "      <th>4</th>\n",
       "      <td>Harry Potter and the Prisoner of Azkaban (Harr...</td>\n",
       "      <td>Rowling, J.K.</td>\n",
       "      <td>9.780440e+12</td>\n",
       "      <td>043965548X</td>\n",
       "      <td>435</td>\n",
       "      <td>4.57</td>\n",
       "      <td>3082225</td>\n",
       "      <td>Jul 08, 1999</td>\n",
       "      <td>not set</td>\n",
       "      <td>not set</td>\n",
       "      <td>Harry Potter</td>\n",
       "      <td>3</td>\n",
       "    </tr>\n",
       "    <tr>\n",
       "      <th>...</th>\n",
       "      <td>...</td>\n",
       "      <td>...</td>\n",
       "      <td>...</td>\n",
       "      <td>...</td>\n",
       "      <td>...</td>\n",
       "      <td>...</td>\n",
       "      <td>...</td>\n",
       "      <td>...</td>\n",
       "      <td>...</td>\n",
       "      <td>...</td>\n",
       "      <td>...</td>\n",
       "      <td>...</td>\n",
       "    </tr>\n",
       "    <tr>\n",
       "      <th>396</th>\n",
       "      <td>Mostly Harmless (Hitchhiker's Guide to the Gal...</td>\n",
       "      <td>Adams, Douglas</td>\n",
       "      <td>9.780345e+12</td>\n",
       "      <td>0345379330</td>\n",
       "      <td>288</td>\n",
       "      <td>3.96</td>\n",
       "      <td>117899</td>\n",
       "      <td>Oct 12, 1992</td>\n",
       "      <td>not set</td>\n",
       "      <td>not set</td>\n",
       "      <td>Hitchhiker's Guide to the Galaxy</td>\n",
       "      <td>5</td>\n",
       "    </tr>\n",
       "    <tr>\n",
       "      <th>397</th>\n",
       "      <td>The Stone Sky (The Broken Earth, #3)</td>\n",
       "      <td>Jemisin, N.K.</td>\n",
       "      <td>NaN</td>\n",
       "      <td>NaN</td>\n",
       "      <td>416</td>\n",
       "      <td>4.31</td>\n",
       "      <td>91594</td>\n",
       "      <td>Aug 15, 2017</td>\n",
       "      <td>not set</td>\n",
       "      <td>not set</td>\n",
       "      <td>The Broken Earth</td>\n",
       "      <td>3</td>\n",
       "    </tr>\n",
       "    <tr>\n",
       "      <th>398</th>\n",
       "      <td>The Fifth Season (The Broken Earth, #1)</td>\n",
       "      <td>Jemisin, N.K.</td>\n",
       "      <td>NaN</td>\n",
       "      <td>NaN</td>\n",
       "      <td>468</td>\n",
       "      <td>4.28</td>\n",
       "      <td>181413</td>\n",
       "      <td>Aug 04, 2015</td>\n",
       "      <td>Jun 19, 2021</td>\n",
       "      <td>Jun 26, 2021</td>\n",
       "      <td>The Broken Earth</td>\n",
       "      <td>1</td>\n",
       "    </tr>\n",
       "    <tr>\n",
       "      <th>399</th>\n",
       "      <td>The Obelisk Gate (The Broken Earth, #2)</td>\n",
       "      <td>Jemisin, N.K.</td>\n",
       "      <td>NaN</td>\n",
       "      <td>NaN</td>\n",
       "      <td>410</td>\n",
       "      <td>4.28</td>\n",
       "      <td>110331</td>\n",
       "      <td>Aug 16, 2016</td>\n",
       "      <td>Jun 26, 2021</td>\n",
       "      <td>not set</td>\n",
       "      <td>The Broken Earth</td>\n",
       "      <td>2</td>\n",
       "    </tr>\n",
       "    <tr>\n",
       "      <th>400</th>\n",
       "      <td>Realm Breaker (Realm Breaker, #1)</td>\n",
       "      <td>Aveyard, Victoria</td>\n",
       "      <td>NaN</td>\n",
       "      <td>NaN</td>\n",
       "      <td>576</td>\n",
       "      <td>3.80</td>\n",
       "      <td>4767</td>\n",
       "      <td>May 04, 2021</td>\n",
       "      <td>Jun 10, 2021</td>\n",
       "      <td>Jun 15, 2021</td>\n",
       "      <td>Realm Breaker</td>\n",
       "      <td>1</td>\n",
       "    </tr>\n",
       "  </tbody>\n",
       "</table>\n",
       "<p>401 rows × 12 columns</p>\n",
       "</div>"
      ],
      "text/plain": [
       "                                             Book Name             Author  \\\n",
       "0                                  Pride and Prejudice       Austen, Jane   \n",
       "1    Harry Potter and the Sorcerer's Stone (Harry P...      Rowling, J.K.   \n",
       "2    The Fellowship of the Ring (The Lord of the Ri...    Tolkien, J.R.R.   \n",
       "3    Harry Potter and the Chamber of Secrets (Harry...      Rowling, J.K.   \n",
       "4    Harry Potter and the Prisoner of Azkaban (Harr...      Rowling, J.K.   \n",
       "..                                                 ...                ...   \n",
       "396  Mostly Harmless (Hitchhiker's Guide to the Gal...     Adams, Douglas   \n",
       "397               The Stone Sky (The Broken Earth, #3)      Jemisin, N.K.   \n",
       "398            The Fifth Season (The Broken Earth, #1)      Jemisin, N.K.   \n",
       "399            The Obelisk Gate (The Broken Earth, #2)      Jemisin, N.K.   \n",
       "400                  Realm Breaker (Realm Breaker, #1)  Aveyard, Victoria   \n",
       "\n",
       "          ISBN 13        ISBN Number of Pages  Average Rating  \\\n",
       "0             NaN         NaN             279            4.27   \n",
       "1             NaN         NaN             309            4.47   \n",
       "2    9.780618e+12  0618346252             398            4.37   \n",
       "3    9.780439e+12  0439064864             341            4.43   \n",
       "4    9.780440e+12  043965548X             435            4.57   \n",
       "..            ...         ...             ...             ...   \n",
       "396  9.780345e+12  0345379330             288            3.96   \n",
       "397           NaN         NaN             416            4.31   \n",
       "398           NaN         NaN             468            4.28   \n",
       "399           NaN         NaN             410            4.28   \n",
       "400           NaN         NaN             576            3.80   \n",
       "\n",
       "     Total Number of Ratings Publication Date  Started Date    Ended Date  \\\n",
       "0                    3261579     Jan 28, 1813       not set      Jan 2019   \n",
       "1                    7680566     Jun 26, 1997       not set      May 2018   \n",
       "2                    2472181     Jul 29, 1954       not set       not set   \n",
       "3                    2971800     Jul 02, 1998       not set      May 2018   \n",
       "4                    3082225     Jul 08, 1999       not set       not set   \n",
       "..                       ...              ...           ...           ...   \n",
       "396                   117899     Oct 12, 1992       not set       not set   \n",
       "397                    91594     Aug 15, 2017       not set       not set   \n",
       "398                   181413     Aug 04, 2015  Jun 19, 2021  Jun 26, 2021   \n",
       "399                   110331     Aug 16, 2016  Jun 26, 2021       not set   \n",
       "400                     4767     May 04, 2021  Jun 10, 2021  Jun 15, 2021   \n",
       "\n",
       "                               Series  Installation  \n",
       "0                          StandAlone             1  \n",
       "1                        Harry Potter             1  \n",
       "2               The Lord of the Rings             1  \n",
       "3                        Harry Potter             2  \n",
       "4                        Harry Potter             3  \n",
       "..                                ...           ...  \n",
       "396  Hitchhiker's Guide to the Galaxy             5  \n",
       "397                  The Broken Earth             3  \n",
       "398                  The Broken Earth             1  \n",
       "399                  The Broken Earth             2  \n",
       "400                     Realm Breaker             1  \n",
       "\n",
       "[401 rows x 12 columns]"
      ]
     },
     "execution_count": 87,
     "metadata": {},
     "output_type": "execute_result"
    }
   ],
   "source": [
    "df"
   ]
  },
  {
   "cell_type": "code",
   "execution_count": 118,
   "metadata": {},
   "outputs": [],
   "source": [
    "def integer_con(num):\n",
    "    if str(num) == 'nan':\n",
    "        return np.nan\n",
    "    else:\n",
    "        return int(num)"
   ]
  },
  {
   "cell_type": "code",
   "execution_count": null,
   "metadata": {},
   "outputs": [],
   "source": []
  },
  {
   "cell_type": "code",
   "execution_count": 119,
   "metadata": {},
   "outputs": [
    {
     "data": {
      "text/plain": [
       "0               NaN\n",
       "1               NaN\n",
       "2      9.780618e+12\n",
       "3      9.780439e+12\n",
       "4      9.780440e+12\n",
       "           ...     \n",
       "396    9.780345e+12\n",
       "397             NaN\n",
       "398             NaN\n",
       "399             NaN\n",
       "400             NaN\n",
       "Name: ISBN 13, Length: 401, dtype: float64"
      ]
     },
     "execution_count": 119,
     "metadata": {},
     "output_type": "execute_result"
    }
   ],
   "source": [
    "df['ISBN 13'].apply(integer_con)"
   ]
  },
  {
   "cell_type": "code",
   "execution_count": 110,
   "metadata": {},
   "outputs": [
    {
     "data": {
      "text/plain": [
       "9780345379337"
      ]
     },
     "execution_count": 110,
     "metadata": {},
     "output_type": "execute_result"
    }
   ],
   "source": [
    "integer_con(df['ISBN 13'].iloc[396])"
   ]
  },
  {
   "cell_type": "code",
   "execution_count": 117,
   "metadata": {},
   "outputs": [],
   "source": [
    "# df['ISBN 13'].astype('int32')"
   ]
  },
  {
   "cell_type": "code",
   "execution_count": 121,
   "metadata": {},
   "outputs": [],
   "source": [
    "df.to_csv('book_details.csv', index = False)"
   ]
  },
  {
   "cell_type": "code",
   "execution_count": null,
   "metadata": {},
   "outputs": [],
   "source": []
  }
 ],
 "metadata": {
  "kernelspec": {
   "display_name": "Python 3",
   "language": "python",
   "name": "python3"
  },
  "language_info": {
   "codemirror_mode": {
    "name": "ipython",
    "version": 3
   },
   "file_extension": ".py",
   "mimetype": "text/x-python",
   "name": "python",
   "nbconvert_exporter": "python",
   "pygments_lexer": "ipython3",
   "version": "3.8.5"
  }
 },
 "nbformat": 4,
 "nbformat_minor": 4
}
