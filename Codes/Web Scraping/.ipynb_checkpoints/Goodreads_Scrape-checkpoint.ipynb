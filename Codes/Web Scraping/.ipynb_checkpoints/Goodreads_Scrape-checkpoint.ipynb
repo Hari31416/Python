{
 "cells": [
  {
   "cell_type": "code",
   "execution_count": 49,
   "metadata": {},
   "outputs": [],
   "source": [
    "with open('H\\\\book1.jpg', 'wb') as i:\n",
    "    i.write(img.content)"
   ]
  },
  {
   "cell_type": "code",
   "execution_count": 50,
   "metadata": {},
   "outputs": [],
   "source": [
    "for m in range(5, 121):\n",
    "    link = soup.select('img')[m]['src'].split('_')[0]\n",
    "    img = requests.get(f\"{link}jpg\")\n",
    "    with open(f'book{m}.jpg', 'wb') as i:\n",
    "        i.write(img.content)"
   ]
  },
  {
   "cell_type": "code",
   "execution_count": 98,
   "metadata": {},
   "outputs": [],
   "source": [
    "for m in range(5, 121):\n",
    "    text = soup.select('img')[m]['alt']\n",
    "    with open('books.txt', 'a') as t:\n",
    "        t.write(f'{text}\\n')"
   ]
  },
  {
   "cell_type": "code",
   "execution_count": 115,
   "metadata": {},
   "outputs": [],
   "source": [
    "with open('books.txt', 'r') as f:\n",
    "    t = f.read()"
   ]
  },
  {
   "cell_type": "code",
   "execution_count": 370,
   "metadata": {},
   "outputs": [],
   "source": [
    "# t"
   ]
  },
  {
   "cell_type": "code",
   "execution_count": 117,
   "metadata": {},
   "outputs": [],
   "source": [
    "names = t.split('\\n')"
   ]
  },
  {
   "cell_type": "code",
   "execution_count": 150,
   "metadata": {},
   "outputs": [
    {
     "data": {
      "text/plain": [
       "117"
      ]
     },
     "execution_count": 150,
     "metadata": {},
     "output_type": "execute_result"
    }
   ],
   "source": [
    "len(names)"
   ]
  },
  {
   "cell_type": "code",
   "execution_count": 159,
   "metadata": {},
   "outputs": [
    {
     "data": {
      "text/plain": [
       "'Brandon Sanderson'"
      ]
     },
     "execution_count": 159,
     "metadata": {},
     "output_type": "execute_result"
    }
   ],
   "source": [
    "names[115].split(' by ')[1]"
   ]
  },
  {
   "cell_type": "code",
   "execution_count": 160,
   "metadata": {},
   "outputs": [],
   "source": [
    "books = {}\n",
    "for i in range(116):\n",
    "    book = names[i].split(' by ')[0].strip()\n",
    "    writer = names[i].split(' by ')[1].strip()\n",
    "    books[book] = writer"
   ]
  },
  {
   "cell_type": "code",
   "execution_count": 161,
   "metadata": {},
   "outputs": [],
   "source": [
    "import pandas as pd\n",
    "import numpy as np"
   ]
  },
  {
   "cell_type": "code",
   "execution_count": 162,
   "metadata": {},
   "outputs": [
    {
     "data": {
      "text/plain": [
       "116"
      ]
     },
     "execution_count": 162,
     "metadata": {},
     "output_type": "execute_result"
    }
   ],
   "source": [
    "len(books)"
   ]
  },
  {
   "cell_type": "code",
   "execution_count": 163,
   "metadata": {},
   "outputs": [],
   "source": [
    "book_df = pd.DataFrame(books, index = ['book']).transpose()"
   ]
  },
  {
   "cell_type": "code",
   "execution_count": 164,
   "metadata": {},
   "outputs": [],
   "source": [
    "book_df = book_df.reset_index()"
   ]
  },
  {
   "cell_type": "code",
   "execution_count": 165,
   "metadata": {},
   "outputs": [
    {
     "data": {
      "text/html": [
       "<div>\n",
       "<style scoped>\n",
       "    .dataframe tbody tr th:only-of-type {\n",
       "        vertical-align: middle;\n",
       "    }\n",
       "\n",
       "    .dataframe tbody tr th {\n",
       "        vertical-align: top;\n",
       "    }\n",
       "\n",
       "    .dataframe thead th {\n",
       "        text-align: right;\n",
       "    }\n",
       "</style>\n",
       "<table border=\"1\" class=\"dataframe\">\n",
       "  <thead>\n",
       "    <tr style=\"text-align: right;\">\n",
       "      <th></th>\n",
       "      <th>index</th>\n",
       "      <th>book</th>\n",
       "    </tr>\n",
       "  </thead>\n",
       "  <tbody>\n",
       "    <tr>\n",
       "      <th>0</th>\n",
       "      <td>A Clash of Kings</td>\n",
       "      <td>George R.R. Martin</td>\n",
       "    </tr>\n",
       "    <tr>\n",
       "      <th>1</th>\n",
       "      <td>Mort</td>\n",
       "      <td>Terry Pratchett</td>\n",
       "    </tr>\n",
       "    <tr>\n",
       "      <th>2</th>\n",
       "      <td>The Dark Talent</td>\n",
       "      <td>Brandon Sanderson</td>\n",
       "    </tr>\n",
       "    <tr>\n",
       "      <th>3</th>\n",
       "      <td>How the King of Elfhame Learned to Hate Stories</td>\n",
       "      <td>Holly Black</td>\n",
       "    </tr>\n",
       "    <tr>\n",
       "      <th>4</th>\n",
       "      <td>Alcatraz Versus the Shattered Lens</td>\n",
       "      <td>Brandon Sanderson</td>\n",
       "    </tr>\n",
       "    <tr>\n",
       "      <th>...</th>\n",
       "      <td>...</td>\n",
       "      <td>...</td>\n",
       "    </tr>\n",
       "    <tr>\n",
       "      <th>111</th>\n",
       "      <td>The Ship of the Dead</td>\n",
       "      <td>Rick Riordan</td>\n",
       "    </tr>\n",
       "    <tr>\n",
       "      <th>112</th>\n",
       "      <td>The Hammer of Thor</td>\n",
       "      <td>Rick Riordan</td>\n",
       "    </tr>\n",
       "    <tr>\n",
       "      <th>113</th>\n",
       "      <td>The Sword of Summer</td>\n",
       "      <td>Rick Riordan</td>\n",
       "    </tr>\n",
       "    <tr>\n",
       "      <th>114</th>\n",
       "      <td>Jane Eyre</td>\n",
       "      <td>Charlotte Brontë</td>\n",
       "    </tr>\n",
       "    <tr>\n",
       "      <th>115</th>\n",
       "      <td>The Eleventh Metal</td>\n",
       "      <td>Brandon Sanderson</td>\n",
       "    </tr>\n",
       "  </tbody>\n",
       "</table>\n",
       "<p>116 rows × 2 columns</p>\n",
       "</div>"
      ],
      "text/plain": [
       "                                               index                book\n",
       "0                                   A Clash of Kings  George R.R. Martin\n",
       "1                                               Mort     Terry Pratchett\n",
       "2                                    The Dark Talent   Brandon Sanderson\n",
       "3    How the King of Elfhame Learned to Hate Stories         Holly Black\n",
       "4                 Alcatraz Versus the Shattered Lens   Brandon Sanderson\n",
       "..                                               ...                 ...\n",
       "111                             The Ship of the Dead        Rick Riordan\n",
       "112                               The Hammer of Thor        Rick Riordan\n",
       "113                              The Sword of Summer        Rick Riordan\n",
       "114                                        Jane Eyre    Charlotte Brontë\n",
       "115                               The Eleventh Metal   Brandon Sanderson\n",
       "\n",
       "[116 rows x 2 columns]"
      ]
     },
     "execution_count": 165,
     "metadata": {},
     "output_type": "execute_result"
    }
   ],
   "source": [
    "book_df"
   ]
  },
  {
   "cell_type": "code",
   "execution_count": 166,
   "metadata": {},
   "outputs": [],
   "source": [
    "book_df.columns = ['Book', 'Author']"
   ]
  },
  {
   "cell_type": "code",
   "execution_count": 167,
   "metadata": {},
   "outputs": [
    {
     "data": {
      "text/html": [
       "<div>\n",
       "<style scoped>\n",
       "    .dataframe tbody tr th:only-of-type {\n",
       "        vertical-align: middle;\n",
       "    }\n",
       "\n",
       "    .dataframe tbody tr th {\n",
       "        vertical-align: top;\n",
       "    }\n",
       "\n",
       "    .dataframe thead th {\n",
       "        text-align: right;\n",
       "    }\n",
       "</style>\n",
       "<table border=\"1\" class=\"dataframe\">\n",
       "  <thead>\n",
       "    <tr style=\"text-align: right;\">\n",
       "      <th></th>\n",
       "      <th>Book</th>\n",
       "      <th>Author</th>\n",
       "    </tr>\n",
       "  </thead>\n",
       "  <tbody>\n",
       "    <tr>\n",
       "      <th>0</th>\n",
       "      <td>A Clash of Kings</td>\n",
       "      <td>George R.R. Martin</td>\n",
       "    </tr>\n",
       "    <tr>\n",
       "      <th>1</th>\n",
       "      <td>Mort</td>\n",
       "      <td>Terry Pratchett</td>\n",
       "    </tr>\n",
       "    <tr>\n",
       "      <th>2</th>\n",
       "      <td>The Dark Talent</td>\n",
       "      <td>Brandon Sanderson</td>\n",
       "    </tr>\n",
       "    <tr>\n",
       "      <th>3</th>\n",
       "      <td>How the King of Elfhame Learned to Hate Stories</td>\n",
       "      <td>Holly Black</td>\n",
       "    </tr>\n",
       "    <tr>\n",
       "      <th>4</th>\n",
       "      <td>Alcatraz Versus the Shattered Lens</td>\n",
       "      <td>Brandon Sanderson</td>\n",
       "    </tr>\n",
       "    <tr>\n",
       "      <th>...</th>\n",
       "      <td>...</td>\n",
       "      <td>...</td>\n",
       "    </tr>\n",
       "    <tr>\n",
       "      <th>111</th>\n",
       "      <td>The Ship of the Dead</td>\n",
       "      <td>Rick Riordan</td>\n",
       "    </tr>\n",
       "    <tr>\n",
       "      <th>112</th>\n",
       "      <td>The Hammer of Thor</td>\n",
       "      <td>Rick Riordan</td>\n",
       "    </tr>\n",
       "    <tr>\n",
       "      <th>113</th>\n",
       "      <td>The Sword of Summer</td>\n",
       "      <td>Rick Riordan</td>\n",
       "    </tr>\n",
       "    <tr>\n",
       "      <th>114</th>\n",
       "      <td>Jane Eyre</td>\n",
       "      <td>Charlotte Brontë</td>\n",
       "    </tr>\n",
       "    <tr>\n",
       "      <th>115</th>\n",
       "      <td>The Eleventh Metal</td>\n",
       "      <td>Brandon Sanderson</td>\n",
       "    </tr>\n",
       "  </tbody>\n",
       "</table>\n",
       "<p>116 rows × 2 columns</p>\n",
       "</div>"
      ],
      "text/plain": [
       "                                                Book              Author\n",
       "0                                   A Clash of Kings  George R.R. Martin\n",
       "1                                               Mort     Terry Pratchett\n",
       "2                                    The Dark Talent   Brandon Sanderson\n",
       "3    How the King of Elfhame Learned to Hate Stories         Holly Black\n",
       "4                 Alcatraz Versus the Shattered Lens   Brandon Sanderson\n",
       "..                                               ...                 ...\n",
       "111                             The Ship of the Dead        Rick Riordan\n",
       "112                               The Hammer of Thor        Rick Riordan\n",
       "113                              The Sword of Summer        Rick Riordan\n",
       "114                                        Jane Eyre    Charlotte Brontë\n",
       "115                               The Eleventh Metal   Brandon Sanderson\n",
       "\n",
       "[116 rows x 2 columns]"
      ]
     },
     "execution_count": 167,
     "metadata": {},
     "output_type": "execute_result"
    }
   ],
   "source": [
    "book_df"
   ]
  },
  {
   "cell_type": "code",
   "execution_count": 172,
   "metadata": {},
   "outputs": [
    {
     "data": {
      "text/html": [
       "<div>\n",
       "<style scoped>\n",
       "    .dataframe tbody tr th:only-of-type {\n",
       "        vertical-align: middle;\n",
       "    }\n",
       "\n",
       "    .dataframe tbody tr th {\n",
       "        vertical-align: top;\n",
       "    }\n",
       "\n",
       "    .dataframe thead th {\n",
       "        text-align: right;\n",
       "    }\n",
       "</style>\n",
       "<table border=\"1\" class=\"dataframe\">\n",
       "  <thead>\n",
       "    <tr style=\"text-align: right;\">\n",
       "      <th></th>\n",
       "      <th>Book</th>\n",
       "    </tr>\n",
       "    <tr>\n",
       "      <th>Author</th>\n",
       "      <th></th>\n",
       "    </tr>\n",
       "  </thead>\n",
       "  <tbody>\n",
       "    <tr>\n",
       "      <th>Brandon Sanderson</th>\n",
       "      <td>36</td>\n",
       "    </tr>\n",
       "    <tr>\n",
       "      <th>C.S. Lewis</th>\n",
       "      <td>1</td>\n",
       "    </tr>\n",
       "    <tr>\n",
       "      <th>Cassandra Clare</th>\n",
       "      <td>2</td>\n",
       "    </tr>\n",
       "    <tr>\n",
       "      <th>Charlotte Brontë</th>\n",
       "      <td>1</td>\n",
       "    </tr>\n",
       "    <tr>\n",
       "      <th>George R.R. Martin</th>\n",
       "      <td>1</td>\n",
       "    </tr>\n",
       "    <tr>\n",
       "      <th>Holly Black</th>\n",
       "      <td>10</td>\n",
       "    </tr>\n",
       "    <tr>\n",
       "      <th>James Islington</th>\n",
       "      <td>3</td>\n",
       "    </tr>\n",
       "    <tr>\n",
       "      <th>Jim Butcher</th>\n",
       "      <td>2</td>\n",
       "    </tr>\n",
       "    <tr>\n",
       "      <th>Kiera Cass</th>\n",
       "      <td>4</td>\n",
       "    </tr>\n",
       "    <tr>\n",
       "      <th>Patrick Rothfuss</th>\n",
       "      <td>2</td>\n",
       "    </tr>\n",
       "    <tr>\n",
       "      <th>Pierce Brown</th>\n",
       "      <td>3</td>\n",
       "    </tr>\n",
       "    <tr>\n",
       "      <th>Rick Riordan</th>\n",
       "      <td>12</td>\n",
       "    </tr>\n",
       "    <tr>\n",
       "      <th>Robert Jordan</th>\n",
       "      <td>15</td>\n",
       "    </tr>\n",
       "    <tr>\n",
       "      <th>Robin Hobb</th>\n",
       "      <td>2</td>\n",
       "    </tr>\n",
       "    <tr>\n",
       "      <th>Sarah J. Maas</th>\n",
       "      <td>12</td>\n",
       "    </tr>\n",
       "    <tr>\n",
       "      <th>Shannon Messenger</th>\n",
       "      <td>4</td>\n",
       "    </tr>\n",
       "    <tr>\n",
       "      <th>Suzanne Collins</th>\n",
       "      <td>3</td>\n",
       "    </tr>\n",
       "    <tr>\n",
       "      <th>Terry Pratchett</th>\n",
       "      <td>1</td>\n",
       "    </tr>\n",
       "    <tr>\n",
       "      <th>Victoria Aveyard</th>\n",
       "      <td>2</td>\n",
       "    </tr>\n",
       "  </tbody>\n",
       "</table>\n",
       "</div>"
      ],
      "text/plain": [
       "                    Book\n",
       "Author                  \n",
       "Brandon Sanderson     36\n",
       "C.S. Lewis             1\n",
       "Cassandra Clare        2\n",
       "Charlotte Brontë       1\n",
       "George R.R. Martin     1\n",
       "Holly Black           10\n",
       "James Islington        3\n",
       "Jim Butcher            2\n",
       "Kiera Cass             4\n",
       "Patrick Rothfuss       2\n",
       "Pierce Brown           3\n",
       "Rick Riordan          12\n",
       "Robert Jordan         15\n",
       "Robin Hobb             2\n",
       "Sarah J. Maas         12\n",
       "Shannon Messenger      4\n",
       "Suzanne Collins        3\n",
       "Terry Pratchett        1\n",
       "Victoria Aveyard       2"
      ]
     },
     "execution_count": 172,
     "metadata": {},
     "output_type": "execute_result"
    }
   ],
   "source": [
    "book_df.groupby('Author').count()"
   ]
  },
  {
   "cell_type": "code",
   "execution_count": 173,
   "metadata": {},
   "outputs": [],
   "source": [
    "book_df.to_csv('books.csv', index= False)"
   ]
  },
  {
   "cell_type": "code",
   "execution_count": null,
   "metadata": {},
   "outputs": [],
   "source": []
  },
  {
   "cell_type": "code",
   "execution_count": null,
   "metadata": {},
   "outputs": [],
   "source": []
  },
  {
   "cell_type": "code",
   "execution_count": 24,
   "metadata": {},
   "outputs": [],
   "source": [
    "import requests\n",
    "import bs4\n",
    "final_link = 'https://www.goodreads.com/review/list/110673662-harikesh-kumar?page=15&sort=title'\n",
    "link = 'https://www.goodreads.com/review/list/110673662-harikesh-kumar?page=12&sort=title'\n",
    "code = requests.get(link)\n",
    "soup = bs4.BeautifulSoup(code.text, \"lxml\")"
   ]
  },
  {
   "cell_type": "code",
   "execution_count": 205,
   "metadata": {},
   "outputs": [],
   "source": [
    "# soup"
   ]
  },
  {
   "cell_type": "code",
   "execution_count": 43,
   "metadata": {},
   "outputs": [
    {
     "data": {
      "text/plain": [
       "30"
      ]
     },
     "execution_count": 43,
     "metadata": {},
     "output_type": "execute_result"
    }
   ],
   "source": [
    "len(soup.select('.bookalike'))"
   ]
  },
  {
   "cell_type": "code",
   "execution_count": 25,
   "metadata": {},
   "outputs": [
    {
     "data": {
      "text/plain": [
       "<tr class=\"bookalike review\" id=\"review_3957692427\">\n",
       "<td class=\"field checkbox\"><label>checkbox</label><div class=\"value\">       \n",
       "</div></td> <td class=\"field position\" style=\"display: none\"><label>position</label><div class=\"value\"></div></td> <td class=\"field cover\"><label>cover</label><div class=\"value\"> <div class=\"js-tooltipTrigger tooltipTrigger\" data-resource-id=\"44054122\" data-resource-type=\"Book\">\n",
       "<a href=\"/book/show/44054122-imagine-me\"><img alt=\"Imagine Me (Shatter Me, #6)\" id=\"cover_review_3957692427\" src=\"https://i.gr-assets.com/images/S/compressed.photo.goodreads.com/books/1563815428l/44054122._SY75_.jpg\"/></a>\n",
       "</div>\n",
       "</div></td> <td class=\"field title\"><label>title</label><div class=\"value\"> <a href=\"/book/show/44054122-imagine-me\" title=\"Imagine Me (Shatter Me, #6)\">\n",
       "      Imagine Me\n",
       "        <span class=\"darkGreyText\">(Shatter Me, #6)</span>\n",
       "</a></div></td> <td class=\"field author\"><label>author</label><div class=\"value\"> <a href=\"/author/show/4637539.Tahereh_Mafi\">Mafi, Tahereh</a>\n",
       "</div></td> <td class=\"field isbn\" style=\"display: none\"><label>isbn</label><div class=\"value\">    006267644X\n",
       "</div></td> <td class=\"field isbn13\" style=\"display: none\"><label>isbn13</label><div class=\"value\">    9780062676443\n",
       "</div></td> <td class=\"field asin\" style=\"display: none\"><label>asin</label><div class=\"value\">\n",
       "</div></td> <td class=\"field num_pages\" style=\"display: none\"><label>num pages</label><div class=\"value\"> <nobr>\n",
       "        480\n",
       "        <span class=\"greyText\">pp</span>\n",
       "</nobr>\n",
       "</div></td> <td class=\"field avg_rating\"><label>avg rating</label><div class=\"value\">    3.75\n",
       "</div></td> <td class=\"field num_ratings\" style=\"display: none\"><label>num ratings</label><div class=\"value\">    24,180\n",
       "</div></td> <td class=\"field date_pub\" style=\"display: none\"><label>date pub</label><div class=\"value\">      Mar 31, 2020\n",
       "</div></td> <td class=\"field date_pub_edition\" style=\"display: none\"><label>date pub edition</label><div class=\"value\">      Mar 31, 2020\n",
       "</div></td>\n",
       "<td class=\"field rating\"><label>Harikesh's rating</label><div class=\"value\">\n",
       "<span class=\"staticStars notranslate\"><span class=\"staticStar p0\" size=\"15x15\"></span><span class=\"staticStar p0\" size=\"15x15\"></span><span class=\"staticStar p0\" size=\"15x15\"></span><span class=\"staticStar p0\" size=\"15x15\"></span><span class=\"staticStar p0\" size=\"15x15\"></span></span>\n",
       "</div></td><td class=\"field shelves\"><label>my rating</label><div class=\"value\">\n",
       "<div class=\"stars\" data-rating=\"0\" data-resource-id=\"44054122\" data-submit-url=\"/review/rate/44054122?stars_click=false\" data-user-id=\"0\"><a class=\"star off\" href=\"#\" ref=\"\" title=\"did not like it\">1 of 5 stars</a><a class=\"star off\" href=\"#\" ref=\"\" title=\"it was ok\">2 of 5 stars</a><a class=\"star off\" href=\"#\" ref=\"\" title=\"liked it\">3 of 5 stars</a><a class=\"star off\" href=\"#\" ref=\"\" title=\"really liked it\">4 of 5 stars</a><a class=\"star off\" href=\"#\" ref=\"\" title=\"it was amazing\">5 of 5 stars</a></div>\n",
       "<span id=\"reviewMessage44054122_false\"></span>\n",
       "<span id=\"successMessage44054122_false\"></span>\n",
       "<div>\n",
       "<a class=\"smallText actionLinkLite\" href=\"/user/new\" rel=\"nofollow\">add to shelves</a>\n",
       "</div>\n",
       "</div></td><td class=\"field review\" style=\"display: none\"><label>review</label><div class=\"value\">\n",
       "<span class=\"greyText\">None</span>\n",
       "<div class=\"clear\"></div>\n",
       "</div></td><td class=\"field notes\" style=\"display: none\"><label>notes</label><div class=\"value\">\n",
       "<span class=\"greyText\">Notes are private!</span>\n",
       "</div></td><td class=\"field recommender\" style=\"display: none\"><label>recommender</label><div class=\"value\">\n",
       "<span class=\"greyText\">none</span>\n",
       "</div></td>\n",
       "<td class=\"field comments\" style=\"display: none\"><label>comments</label><div class=\"value\">\n",
       "<a href=\"/review/show/3957692427\">0</a>\n",
       "</div></td>\n",
       "<td class=\"field votes\" style=\"display: none\"><label>votes</label><div class=\"value\">\n",
       "<a href=\"/rating/voters/3957692427?resource_type=Review\">0</a>\n",
       "</div></td>\n",
       "<td class=\"field read_count\" style=\"display: none\"><label># times read</label><div class=\"value\">\n",
       "        0\n",
       "</div></td><td class=\"field date_started\" style=\"display: none\"><label>date started</label><div class=\"value\">\n",
       "<div>\n",
       "<div class=\"editable_date date_started_new\">\n",
       "<span class=\"greyText\">not set</span>\n",
       "</div>\n",
       "</div>\n",
       "</div></td><td class=\"field date_read\"><label>date read</label><div class=\"value\">\n",
       "<div>\n",
       "<div class=\"editable_date date_read_new\">\n",
       "<span class=\"greyText\">not set</span>\n",
       "</div>\n",
       "</div>\n",
       "</div></td><td class=\"field date_added\"><label>date added</label><div class=\"value\">\n",
       "<span title=\"April 21, 2021\">\n",
       "    Apr 21, 2021\n",
       "  </span>\n",
       "</div></td><td class=\"field date_purchased\" style=\"display: none\"><label>date purchased</label><div class=\"value\"></div></td><td class=\"field owned\" style=\"display: none\"><label>owned</label><div class=\"value\"></div></td><td class=\"field purchase_location\" style=\"display: none\"><label>purchase location</label><div class=\"value\"></div></td><td class=\"field condition\" style=\"display: none\"><label>condition</label><div class=\"value\"></div></td><td class=\"field format\" style=\"display: none\"><label>format</label><div class=\"value\">\n",
       "        ebook\n",
       "</div></td><td class=\"field actions\"><label>actions</label><div class=\"value\">\n",
       "<div>\n",
       "<a class=\"nobreak\" href=\"/review/show/3957692427\">view</a>\n",
       "</div>\n",
       "</div></td>\n",
       "</tr>"
      ]
     },
     "execution_count": 25,
     "metadata": {},
     "output_type": "execute_result"
    }
   ],
   "source": [
    "soup.select('.bookalike')[0]"
   ]
  },
  {
   "cell_type": "markdown",
   "metadata": {},
   "source": [
    "### Book Name"
   ]
  },
  {
   "cell_type": "code",
   "execution_count": 3,
   "metadata": {},
   "outputs": [
    {
     "data": {
      "text/plain": [
       "<a href=\"/book/show/6148028-catching-fire\" title=\"Catching Fire (The Hunger Games, #2)\">\n",
       "      Catching Fire\n",
       "        <span class=\"darkGreyText\">(The Hunger Games, #2)</span>\n",
       "</a>"
      ]
     },
     "execution_count": 3,
     "metadata": {},
     "output_type": "execute_result"
    }
   ],
   "source": [
    "soup.select('.bookalike .title a')[10]"
   ]
  },
  {
   "cell_type": "code",
   "execution_count": 42,
   "metadata": {},
   "outputs": [
    {
     "data": {
      "text/plain": [
       "'Pride and Prejudice'"
      ]
     },
     "execution_count": 42,
     "metadata": {},
     "output_type": "execute_result"
    }
   ],
   "source": [
    "soup.select('.bookalike .title a')[0]['title']"
   ]
  },
  {
   "cell_type": "markdown",
   "metadata": {},
   "source": [
    "### Author"
   ]
  },
  {
   "cell_type": "code",
   "execution_count": 41,
   "metadata": {},
   "outputs": [
    {
     "data": {
      "text/plain": [
       "'Austen, Jane'"
      ]
     },
     "execution_count": 41,
     "metadata": {},
     "output_type": "execute_result"
    }
   ],
   "source": [
    "soup.select('.bookalike .author a')[0].text"
   ]
  },
  {
   "cell_type": "code",
   "execution_count": 354,
   "metadata": {},
   "outputs": [
    {
     "data": {
      "text/plain": [
       "<a href=\"/author/show/1265.Jane_Austen\">Austen, Jane</a>"
      ]
     },
     "execution_count": 354,
     "metadata": {},
     "output_type": "execute_result"
    }
   ],
   "source": [
    "soup.select('.bookalike .author a')[0]"
   ]
  },
  {
   "cell_type": "code",
   "execution_count": null,
   "metadata": {},
   "outputs": [],
   "source": []
  },
  {
   "cell_type": "markdown",
   "metadata": {},
   "source": [
    "### Book Image"
   ]
  },
  {
   "cell_type": "code",
   "execution_count": 7,
   "metadata": {},
   "outputs": [],
   "source": [
    "link = soup.select('.bookalike img')[10]['src'].split('_')[0]\n",
    "img = requests.get(f\"{link}jpg\")"
   ]
  },
  {
   "cell_type": "code",
   "execution_count": 260,
   "metadata": {},
   "outputs": [],
   "source": [
    "# with open('book.jpg', 'wb') as i:\n",
    "#     i.write(img.content)"
   ]
  },
  {
   "cell_type": "markdown",
   "metadata": {},
   "source": [
    "### Book ISBN 13"
   ]
  },
  {
   "cell_type": "code",
   "execution_count": 26,
   "metadata": {},
   "outputs": [
    {
     "data": {
      "text/plain": [
       "'9780062676443'"
      ]
     },
     "execution_count": 26,
     "metadata": {},
     "output_type": "execute_result"
    }
   ],
   "source": [
    "soup.select('.bookalike .isbn13 .value')[0].text.strip()"
   ]
  },
  {
   "cell_type": "markdown",
   "metadata": {},
   "source": [
    "### ISBN"
   ]
  },
  {
   "cell_type": "code",
   "execution_count": 27,
   "metadata": {},
   "outputs": [
    {
     "data": {
      "text/plain": [
       "'006267644X'"
      ]
     },
     "execution_count": 27,
     "metadata": {},
     "output_type": "execute_result"
    }
   ],
   "source": [
    "soup.select('.bookalike .isbn .value')[0].text.strip()"
   ]
  },
  {
   "cell_type": "markdown",
   "metadata": {},
   "source": [
    "### Pages"
   ]
  },
  {
   "cell_type": "code",
   "execution_count": 39,
   "metadata": {},
   "outputs": [
    {
     "data": {
      "text/plain": [
       "279"
      ]
     },
     "execution_count": 39,
     "metadata": {},
     "output_type": "execute_result"
    }
   ],
   "source": [
    "int(soup.select('.bookalike .num_pages .value')[0].text.split('\\n')[1].strip())"
   ]
  },
  {
   "cell_type": "markdown",
   "metadata": {},
   "source": [
    "### Rating"
   ]
  },
  {
   "cell_type": "code",
   "execution_count": 37,
   "metadata": {},
   "outputs": [
    {
     "data": {
      "text/plain": [
       "4.27"
      ]
     },
     "execution_count": 37,
     "metadata": {},
     "output_type": "execute_result"
    }
   ],
   "source": [
    "float(soup.select('.bookalike .avg_rating .value')[0].text.strip())"
   ]
  },
  {
   "cell_type": "markdown",
   "metadata": {},
   "source": [
    "### Number of Ratings"
   ]
  },
  {
   "cell_type": "code",
   "execution_count": 38,
   "metadata": {},
   "outputs": [
    {
     "data": {
      "text/plain": [
       "3260679"
      ]
     },
     "execution_count": 38,
     "metadata": {},
     "output_type": "execute_result"
    }
   ],
   "source": [
    "n = soup.select('.bookalike .num_ratings .value')[0].text.strip()\n",
    "int(''.join(n.split(',')))"
   ]
  },
  {
   "cell_type": "code",
   "execution_count": 36,
   "metadata": {},
   "outputs": [
    {
     "data": {
      "text/plain": [
       "3260679"
      ]
     },
     "execution_count": 36,
     "metadata": {},
     "output_type": "execute_result"
    }
   ],
   "source": [
    "num_ratings"
   ]
  },
  {
   "cell_type": "markdown",
   "metadata": {},
   "source": [
    "### Publication Date"
   ]
  },
  {
   "cell_type": "code",
   "execution_count": 34,
   "metadata": {},
   "outputs": [
    {
     "data": {
      "text/plain": [
       "'Jan 28, 1813'"
      ]
     },
     "execution_count": 34,
     "metadata": {},
     "output_type": "execute_result"
    }
   ],
   "source": [
    "soup.select('.bookalike .date_pub .value')[0].text.strip()"
   ]
  },
  {
   "cell_type": "markdown",
   "metadata": {},
   "source": [
    "### Date Started"
   ]
  },
  {
   "cell_type": "code",
   "execution_count": 32,
   "metadata": {},
   "outputs": [
    {
     "data": {
      "text/plain": [
       "'not set'"
      ]
     },
     "execution_count": 32,
     "metadata": {},
     "output_type": "execute_result"
    }
   ],
   "source": [
    "soup.select('.bookalike .date_started')[0].text.split('\\n')[3]"
   ]
  },
  {
   "cell_type": "markdown",
   "metadata": {},
   "source": [
    "### Date Read"
   ]
  },
  {
   "cell_type": "code",
   "execution_count": 33,
   "metadata": {},
   "outputs": [
    {
     "data": {
      "text/plain": [
       "'Jan 2019'"
      ]
     },
     "execution_count": 33,
     "metadata": {},
     "output_type": "execute_result"
    }
   ],
   "source": [
    "soup.select('.bookalike .date_read')[0].text.split('\\n')[3]"
   ]
  },
  {
   "cell_type": "markdown",
   "metadata": {},
   "source": [
    "### Condition for valid pages"
   ]
  },
  {
   "cell_type": "code",
   "execution_count": 13,
   "metadata": {},
   "outputs": [
    {
     "data": {
      "text/plain": [
       "True"
      ]
     },
     "execution_count": 13,
     "metadata": {},
     "output_type": "execute_result"
    }
   ],
   "source": [
    "soup.select('.bookalike') != []"
   ]
  },
  {
   "cell_type": "code",
   "execution_count": null,
   "metadata": {},
   "outputs": [],
   "source": []
  },
  {
   "cell_type": "code",
   "execution_count": 3,
   "metadata": {},
   "outputs": [],
   "source": [
    "import requests\n",
    "import bs4\n",
    "final_link = 'https://www.goodreads.com/review/list/110673662-harikesh-kumar?page=15&sort=title'\n",
    "link = 'https://www.goodreads.com/author/list/38550.Brandon_Sanderson'\n",
    "code = requests.get(link)\n",
    "soup = bs4.BeautifulSoup(code.text, \"lxml\")"
   ]
  },
  {
   "cell_type": "code",
   "execution_count": 39,
   "metadata": {},
   "outputs": [
    {
     "data": {
      "text/plain": [
       "30"
      ]
     },
     "execution_count": 39,
     "metadata": {},
     "output_type": "execute_result"
    }
   ],
   "source": [
    "len(soup.select('.bookalike'))"
   ]
  },
  {
   "cell_type": "code",
   "execution_count": 4,
   "metadata": {},
   "outputs": [
    {
     "name": "stdout",
     "output_type": "stream",
     "text": [
      "1\n",
      "2\n",
      "3\n",
      "4\n",
      "5\n",
      "6\n",
      "7\n",
      "8\n",
      "9\n",
      "10\n",
      "11\n",
      "12\n",
      "13\n",
      "14\n",
      "15\n",
      "16\n",
      "17\n",
      "18\n",
      "19\n",
      "20\n",
      "21\n",
      "22\n",
      "23\n",
      "24\n",
      "25\n",
      "26\n",
      "27\n",
      "28\n",
      "29\n",
      "30\n",
      "31\n",
      "32\n",
      "33\n",
      "34\n",
      "35\n",
      "36\n",
      "37\n",
      "38\n",
      "39\n"
     ]
    },
    {
     "ename": "KeyboardInterrupt",
     "evalue": "",
     "output_type": "error",
     "traceback": [
      "\u001b[1;31m---------------------------------------------------------------------------\u001b[0m",
      "\u001b[1;31mKeyboardInterrupt\u001b[0m                         Traceback (most recent call last)",
      "\u001b[1;32m<ipython-input-4-fd322d7030ee>\u001b[0m in \u001b[0;36m<module>\u001b[1;34m\u001b[0m\n\u001b[0;32m     28\u001b[0m         \u001b[0mauthors\u001b[0m\u001b[1;33m.\u001b[0m\u001b[0mappend\u001b[0m\u001b[1;33m(\u001b[0m\u001b[0mauthor\u001b[0m\u001b[1;33m)\u001b[0m\u001b[1;33m\u001b[0m\u001b[1;33m\u001b[0m\u001b[0m\n\u001b[0;32m     29\u001b[0m \u001b[1;33m\u001b[0m\u001b[0m\n\u001b[1;32m---> 30\u001b[1;33m         \u001b[0misbn13\u001b[0m \u001b[1;33m=\u001b[0m \u001b[0msoup\u001b[0m\u001b[1;33m.\u001b[0m\u001b[0mselect\u001b[0m\u001b[1;33m(\u001b[0m\u001b[1;34m'.bookalike .isbn13 .value'\u001b[0m\u001b[1;33m)\u001b[0m\u001b[1;33m[\u001b[0m\u001b[0mi\u001b[0m\u001b[1;33m]\u001b[0m\u001b[1;33m.\u001b[0m\u001b[0mtext\u001b[0m\u001b[1;33m.\u001b[0m\u001b[0mstrip\u001b[0m\u001b[1;33m(\u001b[0m\u001b[1;33m)\u001b[0m\u001b[1;33m\u001b[0m\u001b[1;33m\u001b[0m\u001b[0m\n\u001b[0m\u001b[0;32m     31\u001b[0m         \u001b[0misbn13s\u001b[0m\u001b[1;33m.\u001b[0m\u001b[0mappend\u001b[0m\u001b[1;33m(\u001b[0m\u001b[0misbn13\u001b[0m\u001b[1;33m)\u001b[0m\u001b[1;33m\u001b[0m\u001b[1;33m\u001b[0m\u001b[0m\n\u001b[0;32m     32\u001b[0m         \u001b[0misbn\u001b[0m \u001b[1;33m=\u001b[0m \u001b[0msoup\u001b[0m\u001b[1;33m.\u001b[0m\u001b[0mselect\u001b[0m\u001b[1;33m(\u001b[0m\u001b[1;34m'.bookalike .isbn .value'\u001b[0m\u001b[1;33m)\u001b[0m\u001b[1;33m[\u001b[0m\u001b[0mi\u001b[0m\u001b[1;33m]\u001b[0m\u001b[1;33m.\u001b[0m\u001b[0mtext\u001b[0m\u001b[1;33m.\u001b[0m\u001b[0mstrip\u001b[0m\u001b[1;33m(\u001b[0m\u001b[1;33m)\u001b[0m\u001b[1;33m\u001b[0m\u001b[1;33m\u001b[0m\u001b[0m\n",
      "\u001b[1;32m~\\anaconda3\\lib\\site-packages\\bs4\\element.py\u001b[0m in \u001b[0;36mselect\u001b[1;34m(self, selector, namespaces, limit, **kwargs)\u001b[0m\n\u001b[0;32m   1867\u001b[0m             )\n\u001b[0;32m   1868\u001b[0m \u001b[1;33m\u001b[0m\u001b[0m\n\u001b[1;32m-> 1869\u001b[1;33m         \u001b[0mresults\u001b[0m \u001b[1;33m=\u001b[0m \u001b[0msoupsieve\u001b[0m\u001b[1;33m.\u001b[0m\u001b[0mselect\u001b[0m\u001b[1;33m(\u001b[0m\u001b[0mselector\u001b[0m\u001b[1;33m,\u001b[0m \u001b[0mself\u001b[0m\u001b[1;33m,\u001b[0m \u001b[0mnamespaces\u001b[0m\u001b[1;33m,\u001b[0m \u001b[0mlimit\u001b[0m\u001b[1;33m,\u001b[0m \u001b[1;33m**\u001b[0m\u001b[0mkwargs\u001b[0m\u001b[1;33m)\u001b[0m\u001b[1;33m\u001b[0m\u001b[1;33m\u001b[0m\u001b[0m\n\u001b[0m\u001b[0;32m   1870\u001b[0m \u001b[1;33m\u001b[0m\u001b[0m\n\u001b[0;32m   1871\u001b[0m         \u001b[1;31m# We do this because it's more consistent and because\u001b[0m\u001b[1;33m\u001b[0m\u001b[1;33m\u001b[0m\u001b[1;33m\u001b[0m\u001b[0m\n",
      "\u001b[1;32m~\\anaconda3\\lib\\site-packages\\soupsieve\\__init__.py\u001b[0m in \u001b[0;36mselect\u001b[1;34m(select, tag, namespaces, limit, flags, **kwargs)\u001b[0m\n\u001b[0;32m     96\u001b[0m     \u001b[1;34m\"\"\"Select the specified tags.\"\"\"\u001b[0m\u001b[1;33m\u001b[0m\u001b[1;33m\u001b[0m\u001b[0m\n\u001b[0;32m     97\u001b[0m \u001b[1;33m\u001b[0m\u001b[0m\n\u001b[1;32m---> 98\u001b[1;33m     \u001b[1;32mreturn\u001b[0m \u001b[0mcompile\u001b[0m\u001b[1;33m(\u001b[0m\u001b[0mselect\u001b[0m\u001b[1;33m,\u001b[0m \u001b[0mnamespaces\u001b[0m\u001b[1;33m,\u001b[0m \u001b[0mflags\u001b[0m\u001b[1;33m,\u001b[0m \u001b[1;33m**\u001b[0m\u001b[0mkwargs\u001b[0m\u001b[1;33m)\u001b[0m\u001b[1;33m.\u001b[0m\u001b[0mselect\u001b[0m\u001b[1;33m(\u001b[0m\u001b[0mtag\u001b[0m\u001b[1;33m,\u001b[0m \u001b[0mlimit\u001b[0m\u001b[1;33m)\u001b[0m\u001b[1;33m\u001b[0m\u001b[1;33m\u001b[0m\u001b[0m\n\u001b[0m\u001b[0;32m     99\u001b[0m \u001b[1;33m\u001b[0m\u001b[0m\n\u001b[0;32m    100\u001b[0m \u001b[1;33m\u001b[0m\u001b[0m\n",
      "\u001b[1;32m~\\anaconda3\\lib\\site-packages\\soupsieve\\css_match.py\u001b[0m in \u001b[0;36mselect\u001b[1;34m(self, tag, limit)\u001b[0m\n\u001b[0;32m   1474\u001b[0m         \u001b[1;34m\"\"\"Select the specified tags.\"\"\"\u001b[0m\u001b[1;33m\u001b[0m\u001b[1;33m\u001b[0m\u001b[0m\n\u001b[0;32m   1475\u001b[0m \u001b[1;33m\u001b[0m\u001b[0m\n\u001b[1;32m-> 1476\u001b[1;33m         \u001b[1;32mreturn\u001b[0m \u001b[0mlist\u001b[0m\u001b[1;33m(\u001b[0m\u001b[0mself\u001b[0m\u001b[1;33m.\u001b[0m\u001b[0miselect\u001b[0m\u001b[1;33m(\u001b[0m\u001b[0mtag\u001b[0m\u001b[1;33m,\u001b[0m \u001b[0mlimit\u001b[0m\u001b[1;33m)\u001b[0m\u001b[1;33m)\u001b[0m\u001b[1;33m\u001b[0m\u001b[1;33m\u001b[0m\u001b[0m\n\u001b[0m\u001b[0;32m   1477\u001b[0m \u001b[1;33m\u001b[0m\u001b[0m\n\u001b[0;32m   1478\u001b[0m     \u001b[1;32mdef\u001b[0m \u001b[0miselect\u001b[0m\u001b[1;33m(\u001b[0m\u001b[0mself\u001b[0m\u001b[1;33m,\u001b[0m \u001b[0mtag\u001b[0m\u001b[1;33m,\u001b[0m \u001b[0mlimit\u001b[0m\u001b[1;33m=\u001b[0m\u001b[1;36m0\u001b[0m\u001b[1;33m)\u001b[0m\u001b[1;33m:\u001b[0m\u001b[1;33m\u001b[0m\u001b[1;33m\u001b[0m\u001b[0m\n",
      "\u001b[1;32m~\\anaconda3\\lib\\site-packages\\soupsieve\\css_match.py\u001b[0m in \u001b[0;36miselect\u001b[1;34m(self, tag, limit)\u001b[0m\n\u001b[0;32m   1479\u001b[0m         \u001b[1;34m\"\"\"Iterate the specified tags.\"\"\"\u001b[0m\u001b[1;33m\u001b[0m\u001b[1;33m\u001b[0m\u001b[0m\n\u001b[0;32m   1480\u001b[0m \u001b[1;33m\u001b[0m\u001b[0m\n\u001b[1;32m-> 1481\u001b[1;33m         \u001b[1;32mfor\u001b[0m \u001b[0mel\u001b[0m \u001b[1;32min\u001b[0m \u001b[0mCSSMatch\u001b[0m\u001b[1;33m(\u001b[0m\u001b[0mself\u001b[0m\u001b[1;33m.\u001b[0m\u001b[0mselectors\u001b[0m\u001b[1;33m,\u001b[0m \u001b[0mtag\u001b[0m\u001b[1;33m,\u001b[0m \u001b[0mself\u001b[0m\u001b[1;33m.\u001b[0m\u001b[0mnamespaces\u001b[0m\u001b[1;33m,\u001b[0m \u001b[0mself\u001b[0m\u001b[1;33m.\u001b[0m\u001b[0mflags\u001b[0m\u001b[1;33m)\u001b[0m\u001b[1;33m.\u001b[0m\u001b[0mselect\u001b[0m\u001b[1;33m(\u001b[0m\u001b[0mlimit\u001b[0m\u001b[1;33m)\u001b[0m\u001b[1;33m:\u001b[0m\u001b[1;33m\u001b[0m\u001b[1;33m\u001b[0m\u001b[0m\n\u001b[0m\u001b[0;32m   1482\u001b[0m             \u001b[1;32myield\u001b[0m \u001b[0mel\u001b[0m\u001b[1;33m\u001b[0m\u001b[1;33m\u001b[0m\u001b[0m\n\u001b[0;32m   1483\u001b[0m \u001b[1;33m\u001b[0m\u001b[0m\n",
      "\u001b[1;32m~\\anaconda3\\lib\\site-packages\\soupsieve\\css_match.py\u001b[0m in \u001b[0;36mselect\u001b[1;34m(self, limit)\u001b[0m\n\u001b[0;32m   1388\u001b[0m \u001b[1;33m\u001b[0m\u001b[0m\n\u001b[0;32m   1389\u001b[0m         \u001b[1;32mfor\u001b[0m \u001b[0mchild\u001b[0m \u001b[1;32min\u001b[0m \u001b[0mself\u001b[0m\u001b[1;33m.\u001b[0m\u001b[0mget_descendants\u001b[0m\u001b[1;33m(\u001b[0m\u001b[0mself\u001b[0m\u001b[1;33m.\u001b[0m\u001b[0mtag\u001b[0m\u001b[1;33m)\u001b[0m\u001b[1;33m:\u001b[0m\u001b[1;33m\u001b[0m\u001b[1;33m\u001b[0m\u001b[0m\n\u001b[1;32m-> 1390\u001b[1;33m             \u001b[1;32mif\u001b[0m \u001b[0mself\u001b[0m\u001b[1;33m.\u001b[0m\u001b[0mmatch\u001b[0m\u001b[1;33m(\u001b[0m\u001b[0mchild\u001b[0m\u001b[1;33m)\u001b[0m\u001b[1;33m:\u001b[0m\u001b[1;33m\u001b[0m\u001b[1;33m\u001b[0m\u001b[0m\n\u001b[0m\u001b[0;32m   1391\u001b[0m                 \u001b[1;32myield\u001b[0m \u001b[0mchild\u001b[0m\u001b[1;33m\u001b[0m\u001b[1;33m\u001b[0m\u001b[0m\n\u001b[0;32m   1392\u001b[0m                 \u001b[1;32mif\u001b[0m \u001b[0mlimit\u001b[0m \u001b[1;32mis\u001b[0m \u001b[1;32mnot\u001b[0m \u001b[1;32mNone\u001b[0m\u001b[1;33m:\u001b[0m\u001b[1;33m\u001b[0m\u001b[1;33m\u001b[0m\u001b[0m\n",
      "\u001b[1;32m~\\anaconda3\\lib\\site-packages\\soupsieve\\css_match.py\u001b[0m in \u001b[0;36mmatch\u001b[1;34m(self, el)\u001b[0m\n\u001b[0;32m   1415\u001b[0m         \u001b[1;34m\"\"\"Match.\"\"\"\u001b[0m\u001b[1;33m\u001b[0m\u001b[1;33m\u001b[0m\u001b[0m\n\u001b[0;32m   1416\u001b[0m \u001b[1;33m\u001b[0m\u001b[0m\n\u001b[1;32m-> 1417\u001b[1;33m         \u001b[1;32mreturn\u001b[0m \u001b[1;32mnot\u001b[0m \u001b[0mself\u001b[0m\u001b[1;33m.\u001b[0m\u001b[0mis_doc\u001b[0m\u001b[1;33m(\u001b[0m\u001b[0mel\u001b[0m\u001b[1;33m)\u001b[0m \u001b[1;32mand\u001b[0m \u001b[0mself\u001b[0m\u001b[1;33m.\u001b[0m\u001b[0mis_tag\u001b[0m\u001b[1;33m(\u001b[0m\u001b[0mel\u001b[0m\u001b[1;33m)\u001b[0m \u001b[1;32mand\u001b[0m \u001b[0mself\u001b[0m\u001b[1;33m.\u001b[0m\u001b[0mmatch_selectors\u001b[0m\u001b[1;33m(\u001b[0m\u001b[0mel\u001b[0m\u001b[1;33m,\u001b[0m \u001b[0mself\u001b[0m\u001b[1;33m.\u001b[0m\u001b[0mselectors\u001b[0m\u001b[1;33m)\u001b[0m\u001b[1;33m\u001b[0m\u001b[1;33m\u001b[0m\u001b[0m\n\u001b[0m\u001b[0;32m   1418\u001b[0m \u001b[1;33m\u001b[0m\u001b[0m\n\u001b[0;32m   1419\u001b[0m \u001b[1;33m\u001b[0m\u001b[0m\n",
      "\u001b[1;32m~\\anaconda3\\lib\\site-packages\\soupsieve\\css_match.py\u001b[0m in \u001b[0;36mmatch_selectors\u001b[1;34m(self, el, selectors)\u001b[0m\n\u001b[0;32m   1356\u001b[0m                     \u001b[1;32mcontinue\u001b[0m\u001b[1;33m\u001b[0m\u001b[1;33m\u001b[0m\u001b[0m\n\u001b[0;32m   1357\u001b[0m                 \u001b[1;31m# Verify relationship selectors\u001b[0m\u001b[1;33m\u001b[0m\u001b[1;33m\u001b[0m\u001b[1;33m\u001b[0m\u001b[0m\n\u001b[1;32m-> 1358\u001b[1;33m                 \u001b[1;32mif\u001b[0m \u001b[0mselector\u001b[0m\u001b[1;33m.\u001b[0m\u001b[0mrelation\u001b[0m \u001b[1;32mand\u001b[0m \u001b[1;32mnot\u001b[0m \u001b[0mself\u001b[0m\u001b[1;33m.\u001b[0m\u001b[0mmatch_relations\u001b[0m\u001b[1;33m(\u001b[0m\u001b[0mel\u001b[0m\u001b[1;33m,\u001b[0m \u001b[0mselector\u001b[0m\u001b[1;33m.\u001b[0m\u001b[0mrelation\u001b[0m\u001b[1;33m)\u001b[0m\u001b[1;33m:\u001b[0m\u001b[1;33m\u001b[0m\u001b[1;33m\u001b[0m\u001b[0m\n\u001b[0m\u001b[0;32m   1359\u001b[0m                     \u001b[1;32mcontinue\u001b[0m\u001b[1;33m\u001b[0m\u001b[1;33m\u001b[0m\u001b[0m\n\u001b[0;32m   1360\u001b[0m                 \u001b[1;31m# Validate that the current default selector match corresponds to the first submit button in the form\u001b[0m\u001b[1;33m\u001b[0m\u001b[1;33m\u001b[0m\u001b[1;33m\u001b[0m\u001b[0m\n",
      "\u001b[1;32m~\\anaconda3\\lib\\site-packages\\soupsieve\\css_match.py\u001b[0m in \u001b[0;36mmatch_relations\u001b[1;34m(self, el, relation)\u001b[0m\n\u001b[0;32m    762\u001b[0m             \u001b[0mfound\u001b[0m \u001b[1;33m=\u001b[0m \u001b[0mself\u001b[0m\u001b[1;33m.\u001b[0m\u001b[0mmatch_future_relations\u001b[0m\u001b[1;33m(\u001b[0m\u001b[0mel\u001b[0m\u001b[1;33m,\u001b[0m \u001b[0mrelation\u001b[0m\u001b[1;33m)\u001b[0m\u001b[1;33m\u001b[0m\u001b[1;33m\u001b[0m\u001b[0m\n\u001b[0;32m    763\u001b[0m         \u001b[1;32melse\u001b[0m\u001b[1;33m:\u001b[0m\u001b[1;33m\u001b[0m\u001b[1;33m\u001b[0m\u001b[0m\n\u001b[1;32m--> 764\u001b[1;33m             \u001b[0mfound\u001b[0m \u001b[1;33m=\u001b[0m \u001b[0mself\u001b[0m\u001b[1;33m.\u001b[0m\u001b[0mmatch_past_relations\u001b[0m\u001b[1;33m(\u001b[0m\u001b[0mel\u001b[0m\u001b[1;33m,\u001b[0m \u001b[0mrelation\u001b[0m\u001b[1;33m)\u001b[0m\u001b[1;33m\u001b[0m\u001b[1;33m\u001b[0m\u001b[0m\n\u001b[0m\u001b[0;32m    765\u001b[0m \u001b[1;33m\u001b[0m\u001b[0m\n\u001b[0;32m    766\u001b[0m         \u001b[1;32mreturn\u001b[0m \u001b[0mfound\u001b[0m\u001b[1;33m\u001b[0m\u001b[1;33m\u001b[0m\u001b[0m\n",
      "\u001b[1;32m~\\anaconda3\\lib\\site-packages\\soupsieve\\css_match.py\u001b[0m in \u001b[0;36mmatch_past_relations\u001b[1;34m(self, el, relation)\u001b[0m\n\u001b[0;32m    707\u001b[0m             \u001b[0mparent\u001b[0m \u001b[1;33m=\u001b[0m \u001b[0mself\u001b[0m\u001b[1;33m.\u001b[0m\u001b[0mget_parent\u001b[0m\u001b[1;33m(\u001b[0m\u001b[0mel\u001b[0m\u001b[1;33m,\u001b[0m \u001b[0mno_iframe\u001b[0m\u001b[1;33m=\u001b[0m\u001b[0mself\u001b[0m\u001b[1;33m.\u001b[0m\u001b[0miframe_restrict\u001b[0m\u001b[1;33m)\u001b[0m\u001b[1;33m\u001b[0m\u001b[1;33m\u001b[0m\u001b[0m\n\u001b[0;32m    708\u001b[0m             \u001b[1;32mwhile\u001b[0m \u001b[1;32mnot\u001b[0m \u001b[0mfound\u001b[0m \u001b[1;32mand\u001b[0m \u001b[0mparent\u001b[0m\u001b[1;33m:\u001b[0m\u001b[1;33m\u001b[0m\u001b[1;33m\u001b[0m\u001b[0m\n\u001b[1;32m--> 709\u001b[1;33m                 \u001b[0mfound\u001b[0m \u001b[1;33m=\u001b[0m \u001b[0mself\u001b[0m\u001b[1;33m.\u001b[0m\u001b[0mmatch_selectors\u001b[0m\u001b[1;33m(\u001b[0m\u001b[0mparent\u001b[0m\u001b[1;33m,\u001b[0m \u001b[0mrelation\u001b[0m\u001b[1;33m)\u001b[0m\u001b[1;33m\u001b[0m\u001b[1;33m\u001b[0m\u001b[0m\n\u001b[0m\u001b[0;32m    710\u001b[0m                 \u001b[0mparent\u001b[0m \u001b[1;33m=\u001b[0m \u001b[0mself\u001b[0m\u001b[1;33m.\u001b[0m\u001b[0mget_parent\u001b[0m\u001b[1;33m(\u001b[0m\u001b[0mparent\u001b[0m\u001b[1;33m,\u001b[0m \u001b[0mno_iframe\u001b[0m\u001b[1;33m=\u001b[0m\u001b[0mself\u001b[0m\u001b[1;33m.\u001b[0m\u001b[0miframe_restrict\u001b[0m\u001b[1;33m)\u001b[0m\u001b[1;33m\u001b[0m\u001b[1;33m\u001b[0m\u001b[0m\n\u001b[0;32m    711\u001b[0m         \u001b[1;32melif\u001b[0m \u001b[0mrelation\u001b[0m\u001b[1;33m[\u001b[0m\u001b[1;36m0\u001b[0m\u001b[1;33m]\u001b[0m\u001b[1;33m.\u001b[0m\u001b[0mrel_type\u001b[0m \u001b[1;33m==\u001b[0m \u001b[0mREL_CLOSE_PARENT\u001b[0m\u001b[1;33m:\u001b[0m\u001b[1;33m\u001b[0m\u001b[1;33m\u001b[0m\u001b[0m\n",
      "\u001b[1;32m~\\anaconda3\\lib\\site-packages\\soupsieve\\css_match.py\u001b[0m in \u001b[0;36mmatch_selectors\u001b[1;34m(self, el, selectors)\u001b[0m\n\u001b[0;32m   1335\u001b[0m                 \u001b[1;32mif\u001b[0m \u001b[1;32mnot\u001b[0m \u001b[0mself\u001b[0m\u001b[1;33m.\u001b[0m\u001b[0mmatch_nth\u001b[0m\u001b[1;33m(\u001b[0m\u001b[0mel\u001b[0m\u001b[1;33m,\u001b[0m \u001b[0mselector\u001b[0m\u001b[1;33m.\u001b[0m\u001b[0mnth\u001b[0m\u001b[1;33m)\u001b[0m\u001b[1;33m:\u001b[0m\u001b[1;33m\u001b[0m\u001b[1;33m\u001b[0m\u001b[0m\n\u001b[0;32m   1336\u001b[0m                     \u001b[1;32mcontinue\u001b[0m\u001b[1;33m\u001b[0m\u001b[1;33m\u001b[0m\u001b[0m\n\u001b[1;32m-> 1337\u001b[1;33m                 \u001b[1;32mif\u001b[0m \u001b[0mselector\u001b[0m\u001b[1;33m.\u001b[0m\u001b[0mflags\u001b[0m \u001b[1;33m&\u001b[0m \u001b[0mct\u001b[0m\u001b[1;33m.\u001b[0m\u001b[0mSEL_EMPTY\u001b[0m \u001b[1;32mand\u001b[0m \u001b[1;32mnot\u001b[0m \u001b[0mself\u001b[0m\u001b[1;33m.\u001b[0m\u001b[0mmatch_empty\u001b[0m\u001b[1;33m(\u001b[0m\u001b[0mel\u001b[0m\u001b[1;33m)\u001b[0m\u001b[1;33m:\u001b[0m\u001b[1;33m\u001b[0m\u001b[1;33m\u001b[0m\u001b[0m\n\u001b[0m\u001b[0;32m   1338\u001b[0m                     \u001b[1;32mcontinue\u001b[0m\u001b[1;33m\u001b[0m\u001b[1;33m\u001b[0m\u001b[0m\n\u001b[0;32m   1339\u001b[0m                 \u001b[1;31m# Verify id matches\u001b[0m\u001b[1;33m\u001b[0m\u001b[1;33m\u001b[0m\u001b[1;33m\u001b[0m\u001b[0m\n",
      "\u001b[1;31mKeyboardInterrupt\u001b[0m: "
     ]
    }
   ],
   "source": [
    "#Scarping book info from Goodreads\n",
    "import requests\n",
    "import bs4\n",
    "\n",
    "books = []\n",
    "authors = []\n",
    "isbn13s = []\n",
    "isbns =[]\n",
    "pagess = []\n",
    "ratings = []\n",
    "num_ratings = []\n",
    "pub_dates = []\n",
    "# started = []\n",
    "# ended = []\n",
    "\n",
    "p=1\n",
    "while soup.select('.bookalike') != []:\n",
    "    link = f'https://www.goodreads.com/review/list/5633080?page={p}'\n",
    "    code = requests.get(link)\n",
    "    soup = bs4.BeautifulSoup(code.text, \"lxml\")\n",
    "    print(p)\n",
    "    for i in range(len(soup.select('.bookalike'))):\n",
    "\n",
    "        book_name = soup.select('.bookalike .title a')[i]['title']\n",
    "        books.append(book_name)\n",
    "\n",
    "        author = soup.select('.bookalike .author a')[i].text\n",
    "        authors.append(author)\n",
    "\n",
    "        isbn13 = soup.select('.bookalike .isbn13 .value')[i].text.strip()\n",
    "        isbn13s.append(isbn13)\n",
    "        isbn = soup.select('.bookalike .isbn .value')[i].text.strip()\n",
    "        isbns.append(isbn)\n",
    "\n",
    "        pages = soup.select('.bookalike .num_pages .value')[i].text.split('\\n')[1].strip()\n",
    "        pagess.append(pages)\n",
    "\n",
    "        rating = float(soup.select('.bookalike .avg_rating .value')[i].text.strip())\n",
    "        ratings.append(rating)\n",
    "\n",
    "        num = soup.select('.bookalike .num_ratings .value')[i].text.strip()\n",
    "        num_rating = int(''.join(num.split(',')))\n",
    "        num_ratings.append(num_rating)\n",
    "\n",
    "        pub_date = soup.select('.bookalike .date_pub .value')[i].text.strip()\n",
    "        pub_dates.append(pub_date)\n",
    "\n",
    "#         date_started = soup.select('.bookalike .date_started')[i].text.split('\\n')[3]\n",
    "#         started.append(date_started\n",
    "#                       )\n",
    "#         date_ended = soup.select('.bookalike .date_read')[i].text.split('\\n')[3]\n",
    "#         ended.append(date_ended)\n",
    "    \n",
    "    p=p+1"
   ]
  },
  {
   "cell_type": "code",
   "execution_count": 5,
   "metadata": {},
   "outputs": [
    {
     "data": {
      "text/plain": [
       "1148"
      ]
     },
     "execution_count": 5,
     "metadata": {},
     "output_type": "execute_result"
    }
   ],
   "source": [
    "len(books)"
   ]
  },
  {
   "cell_type": "code",
   "execution_count": 6,
   "metadata": {},
   "outputs": [],
   "source": [
    "# pagess"
   ]
  },
  {
   "cell_type": "code",
   "execution_count": 7,
   "metadata": {},
   "outputs": [],
   "source": [
    "import pandas as pd"
   ]
  },
  {
   "cell_type": "code",
   "execution_count": 8,
   "metadata": {},
   "outputs": [],
   "source": [
    "index = 'Book Name, Author, ISBN 13, ISBN, Number of Pages, Average Rating, Total Number of Ratings, Publication Date'.split(', ')"
   ]
  },
  {
   "cell_type": "code",
   "execution_count": 9,
   "metadata": {},
   "outputs": [],
   "source": [
    "book_df = pd.DataFrame(data = [books, authors, isbn13s, isbns, pagess, ratings, num_ratings, pub_dates], index = index).transpose()"
   ]
  },
  {
   "cell_type": "code",
   "execution_count": 16,
   "metadata": {},
   "outputs": [
    {
     "data": {
      "text/html": [
       "<div>\n",
       "<style scoped>\n",
       "    .dataframe tbody tr th:only-of-type {\n",
       "        vertical-align: middle;\n",
       "    }\n",
       "\n",
       "    .dataframe tbody tr th {\n",
       "        vertical-align: top;\n",
       "    }\n",
       "\n",
       "    .dataframe thead th {\n",
       "        text-align: right;\n",
       "    }\n",
       "</style>\n",
       "<table border=\"1\" class=\"dataframe\">\n",
       "  <thead>\n",
       "    <tr style=\"text-align: right;\">\n",
       "      <th></th>\n",
       "      <th>Book Name</th>\n",
       "      <th>ISBN 13</th>\n",
       "      <th>ISBN</th>\n",
       "      <th>Number of Pages</th>\n",
       "      <th>Average Rating</th>\n",
       "      <th>Total Number of Ratings</th>\n",
       "      <th>Publication Date</th>\n",
       "    </tr>\n",
       "    <tr>\n",
       "      <th>Author</th>\n",
       "      <th></th>\n",
       "      <th></th>\n",
       "      <th></th>\n",
       "      <th></th>\n",
       "      <th></th>\n",
       "      <th></th>\n",
       "      <th></th>\n",
       "    </tr>\n",
       "  </thead>\n",
       "  <tbody>\n",
       "    <tr>\n",
       "      <th>Rawn, Melanie</th>\n",
       "      <td>1</td>\n",
       "      <td>0</td>\n",
       "      <td>0</td>\n",
       "      <td>0</td>\n",
       "      <td>0</td>\n",
       "      <td>0</td>\n",
       "      <td>0</td>\n",
       "    </tr>\n",
       "    <tr>\n",
       "      <th>Newman, Alice</th>\n",
       "      <td>1</td>\n",
       "      <td>1</td>\n",
       "      <td>1</td>\n",
       "      <td>1</td>\n",
       "      <td>1</td>\n",
       "      <td>1</td>\n",
       "      <td>1</td>\n",
       "    </tr>\n",
       "    <tr>\n",
       "      <th>Nguyen, Viet Thanh</th>\n",
       "      <td>1</td>\n",
       "      <td>1</td>\n",
       "      <td>1</td>\n",
       "      <td>1</td>\n",
       "      <td>1</td>\n",
       "      <td>1</td>\n",
       "      <td>1</td>\n",
       "    </tr>\n",
       "    <tr>\n",
       "      <th>Nietzsche, Friedrich</th>\n",
       "      <td>1</td>\n",
       "      <td>1</td>\n",
       "      <td>1</td>\n",
       "      <td>1</td>\n",
       "      <td>1</td>\n",
       "      <td>1</td>\n",
       "      <td>1</td>\n",
       "    </tr>\n",
       "    <tr>\n",
       "      <th>Niven, Larry</th>\n",
       "      <td>1</td>\n",
       "      <td>1</td>\n",
       "      <td>1</td>\n",
       "      <td>1</td>\n",
       "      <td>1</td>\n",
       "      <td>1</td>\n",
       "      <td>1</td>\n",
       "    </tr>\n",
       "    <tr>\n",
       "      <th>...</th>\n",
       "      <td>...</td>\n",
       "      <td>...</td>\n",
       "      <td>...</td>\n",
       "      <td>...</td>\n",
       "      <td>...</td>\n",
       "      <td>...</td>\n",
       "      <td>...</td>\n",
       "    </tr>\n",
       "    <tr>\n",
       "      <th>Flewelling, Lynn</th>\n",
       "      <td>11</td>\n",
       "      <td>11</td>\n",
       "      <td>11</td>\n",
       "      <td>11</td>\n",
       "      <td>11</td>\n",
       "      <td>11</td>\n",
       "      <td>11</td>\n",
       "    </tr>\n",
       "    <tr>\n",
       "      <th>Weber, David</th>\n",
       "      <td>13</td>\n",
       "      <td>13</td>\n",
       "      <td>13</td>\n",
       "      <td>13</td>\n",
       "      <td>13</td>\n",
       "      <td>13</td>\n",
       "      <td>13</td>\n",
       "    </tr>\n",
       "    <tr>\n",
       "      <th>Sanderson, Brandon</th>\n",
       "      <td>15</td>\n",
       "      <td>15</td>\n",
       "      <td>15</td>\n",
       "      <td>15</td>\n",
       "      <td>15</td>\n",
       "      <td>15</td>\n",
       "      <td>15</td>\n",
       "    </tr>\n",
       "    <tr>\n",
       "      <th>Reynolds, Alastair</th>\n",
       "      <td>23</td>\n",
       "      <td>23</td>\n",
       "      <td>23</td>\n",
       "      <td>23</td>\n",
       "      <td>23</td>\n",
       "      <td>23</td>\n",
       "      <td>23</td>\n",
       "    </tr>\n",
       "    <tr>\n",
       "      <th>Applegate, K.A.</th>\n",
       "      <td>29</td>\n",
       "      <td>29</td>\n",
       "      <td>29</td>\n",
       "      <td>29</td>\n",
       "      <td>29</td>\n",
       "      <td>29</td>\n",
       "      <td>29</td>\n",
       "    </tr>\n",
       "  </tbody>\n",
       "</table>\n",
       "<p>794 rows × 7 columns</p>\n",
       "</div>"
      ],
      "text/plain": [
       "                      Book Name  ISBN 13  ISBN  Number of Pages  \\\n",
       "Author                                                            \n",
       "Rawn, Melanie                 1        0     0                0   \n",
       "Newman, Alice                 1        1     1                1   \n",
       "Nguyen, Viet Thanh            1        1     1                1   \n",
       "Nietzsche, Friedrich          1        1     1                1   \n",
       "Niven, Larry                  1        1     1                1   \n",
       "...                         ...      ...   ...              ...   \n",
       "Flewelling, Lynn             11       11    11               11   \n",
       "Weber, David                 13       13    13               13   \n",
       "Sanderson, Brandon           15       15    15               15   \n",
       "Reynolds, Alastair           23       23    23               23   \n",
       "Applegate, K.A.              29       29    29               29   \n",
       "\n",
       "                      Average Rating  Total Number of Ratings  \\\n",
       "Author                                                          \n",
       "Rawn, Melanie                      0                        0   \n",
       "Newman, Alice                      1                        1   \n",
       "Nguyen, Viet Thanh                 1                        1   \n",
       "Nietzsche, Friedrich               1                        1   \n",
       "Niven, Larry                       1                        1   \n",
       "...                              ...                      ...   \n",
       "Flewelling, Lynn                  11                       11   \n",
       "Weber, David                      13                       13   \n",
       "Sanderson, Brandon                15                       15   \n",
       "Reynolds, Alastair                23                       23   \n",
       "Applegate, K.A.                   29                       29   \n",
       "\n",
       "                      Publication Date  \n",
       "Author                                  \n",
       "Rawn, Melanie                        0  \n",
       "Newman, Alice                        1  \n",
       "Nguyen, Viet Thanh                   1  \n",
       "Nietzsche, Friedrich                 1  \n",
       "Niven, Larry                         1  \n",
       "...                                ...  \n",
       "Flewelling, Lynn                    11  \n",
       "Weber, David                        13  \n",
       "Sanderson, Brandon                  15  \n",
       "Reynolds, Alastair                  23  \n",
       "Applegate, K.A.                     29  \n",
       "\n",
       "[794 rows x 7 columns]"
      ]
     },
     "execution_count": 16,
     "metadata": {},
     "output_type": "execute_result"
    }
   ],
   "source": [
    "book_df.groupby('Author').count().sort_values('ISBN')"
   ]
  },
  {
   "cell_type": "code",
   "execution_count": 11,
   "metadata": {},
   "outputs": [],
   "source": [
    "# book_df2 = pd.DataFrame(data = [books, authors, isbn13s, isbns, pagess, ratings, num_ratings, pub_dates, started, ended], index = index).transpose()"
   ]
  },
  {
   "cell_type": "code",
   "execution_count": 17,
   "metadata": {},
   "outputs": [
    {
     "data": {
      "text/html": [
       "<div>\n",
       "<style scoped>\n",
       "    .dataframe tbody tr th:only-of-type {\n",
       "        vertical-align: middle;\n",
       "    }\n",
       "\n",
       "    .dataframe tbody tr th {\n",
       "        vertical-align: top;\n",
       "    }\n",
       "\n",
       "    .dataframe thead th {\n",
       "        text-align: right;\n",
       "    }\n",
       "</style>\n",
       "<table border=\"1\" class=\"dataframe\">\n",
       "  <thead>\n",
       "    <tr style=\"text-align: right;\">\n",
       "      <th></th>\n",
       "      <th>Book Name</th>\n",
       "      <th>Author</th>\n",
       "      <th>ISBN 13</th>\n",
       "      <th>ISBN</th>\n",
       "      <th>Number of Pages</th>\n",
       "      <th>Average Rating</th>\n",
       "      <th>Total Number of Ratings</th>\n",
       "      <th>Publication Date</th>\n",
       "    </tr>\n",
       "  </thead>\n",
       "  <tbody>\n",
       "    <tr>\n",
       "      <th>725</th>\n",
       "      <td>Skyward (Skyward, #1)</td>\n",
       "      <td>Sanderson, Brandon</td>\n",
       "      <td>9781473217850</td>\n",
       "      <td>1473217857</td>\n",
       "      <td>513</td>\n",
       "      <td>4.5</td>\n",
       "      <td>82674</td>\n",
       "      <td>Nov 06, 2018</td>\n",
       "    </tr>\n",
       "    <tr>\n",
       "      <th>726</th>\n",
       "      <td>Secret History (Mistborn, #3.5)</td>\n",
       "      <td>Sanderson, Brandon</td>\n",
       "      <td></td>\n",
       "      <td></td>\n",
       "      <td>160</td>\n",
       "      <td>4.37</td>\n",
       "      <td>31508</td>\n",
       "      <td>Jan 26, 2016</td>\n",
       "    </tr>\n",
       "    <tr>\n",
       "      <th>777</th>\n",
       "      <td>Edgedancer (The Stormlight Archive, #2.5)</td>\n",
       "      <td>Sanderson, Brandon</td>\n",
       "      <td>9781250166548</td>\n",
       "      <td>1250166543</td>\n",
       "      <td>272</td>\n",
       "      <td>4.27</td>\n",
       "      <td>51052</td>\n",
       "      <td>Nov 22, 2016</td>\n",
       "    </tr>\n",
       "    <tr>\n",
       "      <th>866</th>\n",
       "      <td>Untitled (The Stormlight Archive, #10)</td>\n",
       "      <td>Sanderson, Brandon</td>\n",
       "      <td></td>\n",
       "      <td></td>\n",
       "      <td></td>\n",
       "      <td>4.52</td>\n",
       "      <td>54</td>\n",
       "      <td>unknown</td>\n",
       "    </tr>\n",
       "    <tr>\n",
       "      <th>867</th>\n",
       "      <td>Untitled (The Stormlight Archive, #9)</td>\n",
       "      <td>Sanderson, Brandon</td>\n",
       "      <td></td>\n",
       "      <td></td>\n",
       "      <td></td>\n",
       "      <td>4.33</td>\n",
       "      <td>46</td>\n",
       "      <td>unknown</td>\n",
       "    </tr>\n",
       "    <tr>\n",
       "      <th>868</th>\n",
       "      <td>Untitled (The Stormlight Archive, #8)</td>\n",
       "      <td>Sanderson, Brandon</td>\n",
       "      <td></td>\n",
       "      <td></td>\n",
       "      <td></td>\n",
       "      <td>4.3</td>\n",
       "      <td>54</td>\n",
       "      <td>unknown</td>\n",
       "    </tr>\n",
       "    <tr>\n",
       "      <th>869</th>\n",
       "      <td>Untitled (The Stormlight Archive, #7)</td>\n",
       "      <td>Sanderson, Brandon</td>\n",
       "      <td></td>\n",
       "      <td></td>\n",
       "      <td></td>\n",
       "      <td>4.31</td>\n",
       "      <td>52</td>\n",
       "      <td>unknown</td>\n",
       "    </tr>\n",
       "    <tr>\n",
       "      <th>870</th>\n",
       "      <td>Untitled (The Stormlight Archive, #5)</td>\n",
       "      <td>Sanderson, Brandon</td>\n",
       "      <td></td>\n",
       "      <td></td>\n",
       "      <td></td>\n",
       "      <td>4.47</td>\n",
       "      <td>104</td>\n",
       "      <td>2023</td>\n",
       "    </tr>\n",
       "    <tr>\n",
       "      <th>871</th>\n",
       "      <td>Untitled (The Stormlight Archive, #6)</td>\n",
       "      <td>Sanderson, Brandon</td>\n",
       "      <td></td>\n",
       "      <td></td>\n",
       "      <td></td>\n",
       "      <td>4.29</td>\n",
       "      <td>55</td>\n",
       "      <td>2028</td>\n",
       "    </tr>\n",
       "    <tr>\n",
       "      <th>872</th>\n",
       "      <td>Rhythm of War (The Stormlight Archive, #4)</td>\n",
       "      <td>Sanderson, Brandon</td>\n",
       "      <td></td>\n",
       "      <td></td>\n",
       "      <td>1,270</td>\n",
       "      <td>4.63</td>\n",
       "      <td>55985</td>\n",
       "      <td>Nov 17, 2020</td>\n",
       "    </tr>\n",
       "    <tr>\n",
       "      <th>873</th>\n",
       "      <td>Oathbringer (The Stormlight Archive, #3)</td>\n",
       "      <td>Sanderson, Brandon</td>\n",
       "      <td>9780575093348</td>\n",
       "      <td>057509334X</td>\n",
       "      <td>1,248</td>\n",
       "      <td>4.57</td>\n",
       "      <td>154545</td>\n",
       "      <td>Nov 14, 2017</td>\n",
       "    </tr>\n",
       "    <tr>\n",
       "      <th>1007</th>\n",
       "      <td>The Bands of Mourning (Mistborn, #6)</td>\n",
       "      <td>Sanderson, Brandon</td>\n",
       "      <td></td>\n",
       "      <td></td>\n",
       "      <td>448</td>\n",
       "      <td>4.39</td>\n",
       "      <td>85744</td>\n",
       "      <td>Jan 26, 2016</td>\n",
       "    </tr>\n",
       "    <tr>\n",
       "      <th>1142</th>\n",
       "      <td>Untitled (Elantris, #3)</td>\n",
       "      <td>Sanderson, Brandon</td>\n",
       "      <td></td>\n",
       "      <td></td>\n",
       "      <td></td>\n",
       "      <td>4.07</td>\n",
       "      <td>15</td>\n",
       "      <td>unknown</td>\n",
       "    </tr>\n",
       "    <tr>\n",
       "      <th>1143</th>\n",
       "      <td>Untitled (Elantris, #2)</td>\n",
       "      <td>Sanderson, Brandon</td>\n",
       "      <td></td>\n",
       "      <td></td>\n",
       "      <td></td>\n",
       "      <td>4.19</td>\n",
       "      <td>27</td>\n",
       "      <td>unknown</td>\n",
       "    </tr>\n",
       "    <tr>\n",
       "      <th>1144</th>\n",
       "      <td>The Hope of Elantris (Elantris, #1.5)</td>\n",
       "      <td>Sanderson, Brandon</td>\n",
       "      <td></td>\n",
       "      <td></td>\n",
       "      <td>25</td>\n",
       "      <td>3.71</td>\n",
       "      <td>10967</td>\n",
       "      <td>2006</td>\n",
       "    </tr>\n",
       "  </tbody>\n",
       "</table>\n",
       "</div>"
      ],
      "text/plain": [
       "                                       Book Name              Author  \\\n",
       "725                        Skyward (Skyward, #1)  Sanderson, Brandon   \n",
       "726              Secret History (Mistborn, #3.5)  Sanderson, Brandon   \n",
       "777    Edgedancer (The Stormlight Archive, #2.5)  Sanderson, Brandon   \n",
       "866       Untitled (The Stormlight Archive, #10)  Sanderson, Brandon   \n",
       "867        Untitled (The Stormlight Archive, #9)  Sanderson, Brandon   \n",
       "868        Untitled (The Stormlight Archive, #8)  Sanderson, Brandon   \n",
       "869        Untitled (The Stormlight Archive, #7)  Sanderson, Brandon   \n",
       "870        Untitled (The Stormlight Archive, #5)  Sanderson, Brandon   \n",
       "871        Untitled (The Stormlight Archive, #6)  Sanderson, Brandon   \n",
       "872   Rhythm of War (The Stormlight Archive, #4)  Sanderson, Brandon   \n",
       "873     Oathbringer (The Stormlight Archive, #3)  Sanderson, Brandon   \n",
       "1007        The Bands of Mourning (Mistborn, #6)  Sanderson, Brandon   \n",
       "1142                     Untitled (Elantris, #3)  Sanderson, Brandon   \n",
       "1143                     Untitled (Elantris, #2)  Sanderson, Brandon   \n",
       "1144       The Hope of Elantris (Elantris, #1.5)  Sanderson, Brandon   \n",
       "\n",
       "            ISBN 13        ISBN Number of Pages Average Rating  \\\n",
       "725   9781473217850  1473217857             513            4.5   \n",
       "726                                         160           4.37   \n",
       "777   9781250166548  1250166543             272           4.27   \n",
       "866                                                       4.52   \n",
       "867                                                       4.33   \n",
       "868                                                        4.3   \n",
       "869                                                       4.31   \n",
       "870                                                       4.47   \n",
       "871                                                       4.29   \n",
       "872                                       1,270           4.63   \n",
       "873   9780575093348  057509334X           1,248           4.57   \n",
       "1007                                        448           4.39   \n",
       "1142                                                      4.07   \n",
       "1143                                                      4.19   \n",
       "1144                                         25           3.71   \n",
       "\n",
       "     Total Number of Ratings Publication Date  \n",
       "725                    82674     Nov 06, 2018  \n",
       "726                    31508     Jan 26, 2016  \n",
       "777                    51052     Nov 22, 2016  \n",
       "866                       54          unknown  \n",
       "867                       46          unknown  \n",
       "868                       54          unknown  \n",
       "869                       52          unknown  \n",
       "870                      104             2023  \n",
       "871                       55             2028  \n",
       "872                    55985     Nov 17, 2020  \n",
       "873                   154545     Nov 14, 2017  \n",
       "1007                   85744     Jan 26, 2016  \n",
       "1142                      15          unknown  \n",
       "1143                      27          unknown  \n",
       "1144                   10967             2006  "
      ]
     },
     "execution_count": 17,
     "metadata": {},
     "output_type": "execute_result"
    }
   ],
   "source": [
    "book_df[book_df['Author'] == 'Sanderson, Brandon']"
   ]
  },
  {
   "cell_type": "code",
   "execution_count": 45,
   "metadata": {},
   "outputs": [],
   "source": [
    "book_df2.to_csv('book_details.csv', index = False)"
   ]
  },
  {
   "cell_type": "code",
   "execution_count": 46,
   "metadata": {},
   "outputs": [
    {
     "data": {
      "text/plain": [
       "Book Name                  0\n",
       "Author                     0\n",
       "ISBN 13                    0\n",
       "ISBN                       0\n",
       "Number of Pages            0\n",
       "Average Rating             0\n",
       "Total Number of Ratings    0\n",
       "Publication Date           0\n",
       "Started Date               0\n",
       "Ended Date                 0\n",
       "dtype: int64"
      ]
     },
     "execution_count": 46,
     "metadata": {},
     "output_type": "execute_result"
    }
   ],
   "source": [
    "book_df2.isnull().sum()"
   ]
  },
  {
   "cell_type": "code",
   "execution_count": 57,
   "metadata": {},
   "outputs": [
    {
     "data": {
      "text/html": [
       "<div>\n",
       "<style scoped>\n",
       "    .dataframe tbody tr th:only-of-type {\n",
       "        vertical-align: middle;\n",
       "    }\n",
       "\n",
       "    .dataframe tbody tr th {\n",
       "        vertical-align: top;\n",
       "    }\n",
       "\n",
       "    .dataframe thead th {\n",
       "        text-align: right;\n",
       "    }\n",
       "</style>\n",
       "<table border=\"1\" class=\"dataframe\">\n",
       "  <thead>\n",
       "    <tr style=\"text-align: right;\">\n",
       "      <th></th>\n",
       "      <th>Book Name</th>\n",
       "      <th>Author</th>\n",
       "      <th>ISBN 13</th>\n",
       "      <th>ISBN</th>\n",
       "      <th>Number of Pages</th>\n",
       "      <th>Average Rating</th>\n",
       "      <th>Total Number of Ratings</th>\n",
       "      <th>Publication Date</th>\n",
       "      <th>Started Date</th>\n",
       "      <th>Ended Date</th>\n",
       "    </tr>\n",
       "  </thead>\n",
       "  <tbody>\n",
       "    <tr>\n",
       "      <th>0</th>\n",
       "      <td>Pride and Prejudice</td>\n",
       "      <td>Austen, Jane</td>\n",
       "      <td></td>\n",
       "      <td></td>\n",
       "      <td>279</td>\n",
       "      <td>4.27</td>\n",
       "      <td>3261579</td>\n",
       "      <td>Jan 28, 1813</td>\n",
       "      <td>not set</td>\n",
       "      <td>Jan 2019</td>\n",
       "    </tr>\n",
       "    <tr>\n",
       "      <th>1</th>\n",
       "      <td>Harry Potter and the Sorcerer's Stone (Harry P...</td>\n",
       "      <td>Rowling, J.K.</td>\n",
       "      <td></td>\n",
       "      <td></td>\n",
       "      <td>309</td>\n",
       "      <td>4.47</td>\n",
       "      <td>7680566</td>\n",
       "      <td>Jun 26, 1997</td>\n",
       "      <td>not set</td>\n",
       "      <td>May 2018</td>\n",
       "    </tr>\n",
       "    <tr>\n",
       "      <th>5</th>\n",
       "      <td>The Battle of the Labyrinth (Percy Jackson and...</td>\n",
       "      <td>Riordan, Rick</td>\n",
       "      <td></td>\n",
       "      <td></td>\n",
       "      <td>361</td>\n",
       "      <td>4.39</td>\n",
       "      <td>813295</td>\n",
       "      <td>Mar 06, 2008</td>\n",
       "      <td>not set</td>\n",
       "      <td>not set</td>\n",
       "    </tr>\n",
       "    <tr>\n",
       "      <th>7</th>\n",
       "      <td>Alice's Adventures in Wonderland (Alice's Adve...</td>\n",
       "      <td>Carroll, Lewis</td>\n",
       "      <td></td>\n",
       "      <td></td>\n",
       "      <td>96</td>\n",
       "      <td>3.98</td>\n",
       "      <td>289682</td>\n",
       "      <td>1862</td>\n",
       "      <td>not set</td>\n",
       "      <td>not set</td>\n",
       "    </tr>\n",
       "    <tr>\n",
       "      <th>8</th>\n",
       "      <td>Harry Potter and the Order of the Phoenix (Har...</td>\n",
       "      <td>Rowling, J.K.</td>\n",
       "      <td></td>\n",
       "      <td></td>\n",
       "      <td>870</td>\n",
       "      <td>4.5</td>\n",
       "      <td>2707599</td>\n",
       "      <td>Jun 21, 2003</td>\n",
       "      <td>not set</td>\n",
       "      <td>not set</td>\n",
       "    </tr>\n",
       "    <tr>\n",
       "      <th>...</th>\n",
       "      <td>...</td>\n",
       "      <td>...</td>\n",
       "      <td>...</td>\n",
       "      <td>...</td>\n",
       "      <td>...</td>\n",
       "      <td>...</td>\n",
       "      <td>...</td>\n",
       "      <td>...</td>\n",
       "      <td>...</td>\n",
       "      <td>...</td>\n",
       "    </tr>\n",
       "    <tr>\n",
       "      <th>395</th>\n",
       "      <td>So Long, and Thanks for All the Fish (The Hitc...</td>\n",
       "      <td>Adams, Douglas</td>\n",
       "      <td></td>\n",
       "      <td></td>\n",
       "      <td>225</td>\n",
       "      <td>4.09</td>\n",
       "      <td>150961</td>\n",
       "      <td>Oct 12, 1984</td>\n",
       "      <td>not set</td>\n",
       "      <td>not set</td>\n",
       "    </tr>\n",
       "    <tr>\n",
       "      <th>397</th>\n",
       "      <td>The Stone Sky (The Broken Earth, #3)</td>\n",
       "      <td>Jemisin, N.K.</td>\n",
       "      <td></td>\n",
       "      <td></td>\n",
       "      <td>416</td>\n",
       "      <td>4.31</td>\n",
       "      <td>91594</td>\n",
       "      <td>Aug 15, 2017</td>\n",
       "      <td>not set</td>\n",
       "      <td>not set</td>\n",
       "    </tr>\n",
       "    <tr>\n",
       "      <th>398</th>\n",
       "      <td>The Fifth Season (The Broken Earth, #1)</td>\n",
       "      <td>Jemisin, N.K.</td>\n",
       "      <td></td>\n",
       "      <td></td>\n",
       "      <td>468</td>\n",
       "      <td>4.28</td>\n",
       "      <td>181413</td>\n",
       "      <td>Aug 04, 2015</td>\n",
       "      <td>Jun 19, 2021</td>\n",
       "      <td>Jun 26, 2021</td>\n",
       "    </tr>\n",
       "    <tr>\n",
       "      <th>399</th>\n",
       "      <td>The Obelisk Gate (The Broken Earth, #2)</td>\n",
       "      <td>Jemisin, N.K.</td>\n",
       "      <td></td>\n",
       "      <td></td>\n",
       "      <td>410</td>\n",
       "      <td>4.28</td>\n",
       "      <td>110331</td>\n",
       "      <td>Aug 16, 2016</td>\n",
       "      <td>Jun 26, 2021</td>\n",
       "      <td>not set</td>\n",
       "    </tr>\n",
       "    <tr>\n",
       "      <th>400</th>\n",
       "      <td>Realm Breaker (Realm Breaker, #1)</td>\n",
       "      <td>Aveyard, Victoria</td>\n",
       "      <td></td>\n",
       "      <td></td>\n",
       "      <td>576</td>\n",
       "      <td>3.8</td>\n",
       "      <td>4767</td>\n",
       "      <td>May 04, 2021</td>\n",
       "      <td>Jun 10, 2021</td>\n",
       "      <td>Jun 15, 2021</td>\n",
       "    </tr>\n",
       "  </tbody>\n",
       "</table>\n",
       "<p>102 rows × 10 columns</p>\n",
       "</div>"
      ],
      "text/plain": [
       "                                             Book Name             Author  \\\n",
       "0                                  Pride and Prejudice       Austen, Jane   \n",
       "1    Harry Potter and the Sorcerer's Stone (Harry P...      Rowling, J.K.   \n",
       "5    The Battle of the Labyrinth (Percy Jackson and...      Riordan, Rick   \n",
       "7    Alice's Adventures in Wonderland (Alice's Adve...     Carroll, Lewis   \n",
       "8    Harry Potter and the Order of the Phoenix (Har...      Rowling, J.K.   \n",
       "..                                                 ...                ...   \n",
       "395  So Long, and Thanks for All the Fish (The Hitc...     Adams, Douglas   \n",
       "397               The Stone Sky (The Broken Earth, #3)      Jemisin, N.K.   \n",
       "398            The Fifth Season (The Broken Earth, #1)      Jemisin, N.K.   \n",
       "399            The Obelisk Gate (The Broken Earth, #2)      Jemisin, N.K.   \n",
       "400                  Realm Breaker (Realm Breaker, #1)  Aveyard, Victoria   \n",
       "\n",
       "    ISBN 13 ISBN Number of Pages Average Rating Total Number of Ratings  \\\n",
       "0                            279           4.27                 3261579   \n",
       "1                            309           4.47                 7680566   \n",
       "5                            361           4.39                  813295   \n",
       "7                             96           3.98                  289682   \n",
       "8                            870            4.5                 2707599   \n",
       "..      ...  ...             ...            ...                     ...   \n",
       "395                          225           4.09                  150961   \n",
       "397                          416           4.31                   91594   \n",
       "398                          468           4.28                  181413   \n",
       "399                          410           4.28                  110331   \n",
       "400                          576            3.8                    4767   \n",
       "\n",
       "    Publication Date  Started Date    Ended Date  \n",
       "0       Jan 28, 1813       not set      Jan 2019  \n",
       "1       Jun 26, 1997       not set      May 2018  \n",
       "5       Mar 06, 2008       not set       not set  \n",
       "7               1862       not set       not set  \n",
       "8       Jun 21, 2003       not set       not set  \n",
       "..               ...           ...           ...  \n",
       "395     Oct 12, 1984       not set       not set  \n",
       "397     Aug 15, 2017       not set       not set  \n",
       "398     Aug 04, 2015  Jun 19, 2021  Jun 26, 2021  \n",
       "399     Aug 16, 2016  Jun 26, 2021       not set  \n",
       "400     May 04, 2021  Jun 10, 2021  Jun 15, 2021  \n",
       "\n",
       "[102 rows x 10 columns]"
      ]
     },
     "execution_count": 57,
     "metadata": {},
     "output_type": "execute_result"
    }
   ],
   "source": [
    "book_df2[(book_df2['ISBN'] == '') & (book_df2['ISBN 13'] == '')]"
   ]
  },
  {
   "cell_type": "code",
   "execution_count": 18,
   "metadata": {},
   "outputs": [
    {
     "ename": "NameError",
     "evalue": "name 'book_df2' is not defined",
     "output_type": "error",
     "traceback": [
      "\u001b[1;31m---------------------------------------------------------------------------\u001b[0m",
      "\u001b[1;31mNameError\u001b[0m                                 Traceback (most recent call last)",
      "\u001b[1;32m<ipython-input-18-061293505904>\u001b[0m in \u001b[0;36m<module>\u001b[1;34m\u001b[0m\n\u001b[1;32m----> 1\u001b[1;33m \u001b[0mbook_df2\u001b[0m\u001b[1;33m.\u001b[0m\u001b[0mgroupby\u001b[0m\u001b[1;33m(\u001b[0m\u001b[1;34m'Author'\u001b[0m\u001b[1;33m)\u001b[0m\u001b[1;33m.\u001b[0m\u001b[0mcount\u001b[0m\u001b[1;33m(\u001b[0m\u001b[1;33m)\u001b[0m\u001b[1;33m[\u001b[0m\u001b[1;34m'ISBN'\u001b[0m\u001b[1;33m]\u001b[0m\u001b[1;33m.\u001b[0m\u001b[0midxmax\u001b[0m\u001b[1;33m(\u001b[0m\u001b[1;33m)\u001b[0m\u001b[1;33m\u001b[0m\u001b[1;33m\u001b[0m\u001b[0m\n\u001b[0m",
      "\u001b[1;31mNameError\u001b[0m: name 'book_df2' is not defined"
     ]
    }
   ],
   "source": [
    "book_df2.groupby('Author').count()['ISBN'].idxmax()"
   ]
  },
  {
   "cell_type": "code",
   "execution_count": null,
   "metadata": {},
   "outputs": [],
   "source": []
  },
  {
   "cell_type": "code",
   "execution_count": 84,
   "metadata": {},
   "outputs": [],
   "source": [
    "import requests\n",
    "import bs4\n",
    "link = 'https://www.goodreads.com/author/list/38550.Brandon_Sanderson?page=1'\n",
    "code = requests.get(link)\n",
    "soup = bs4.BeautifulSoup(code.text, \"lxml\")"
   ]
  },
  {
   "cell_type": "code",
   "execution_count": 85,
   "metadata": {},
   "outputs": [
    {
     "data": {
      "text/plain": [
       "30"
      ]
     },
     "execution_count": 85,
     "metadata": {},
     "output_type": "execute_result"
    }
   ],
   "source": [
    "len(soup.select('tr'))"
   ]
  },
  {
   "cell_type": "code",
   "execution_count": 82,
   "metadata": {},
   "outputs": [],
   "source": [
    "name = soup.select('tr .bookTitle')[29].text.strip()"
   ]
  },
  {
   "cell_type": "code",
   "execution_count": 83,
   "metadata": {},
   "outputs": [
    {
     "data": {
      "text/plain": [
       "'The Way of Kings, Part 2 (The Stormlight Archive #1, Part 2 of 2)'"
      ]
     },
     "execution_count": 83,
     "metadata": {},
     "output_type": "execute_result"
    }
   ],
   "source": [
    "name"
   ]
  },
  {
   "cell_type": "code",
   "execution_count": 49,
   "metadata": {},
   "outputs": [
    {
     "data": {
      "text/plain": [
       "'4.44 avg rating — 453,034 ratings'"
      ]
     },
     "execution_count": 49,
     "metadata": {},
     "output_type": "execute_result"
    }
   ],
   "source": [
    "rating = soup.select('tr .smallText')[0].text.strip().split('\\n')[0]"
   ]
  },
  {
   "cell_type": "code",
   "execution_count": 91,
   "metadata": {},
   "outputs": [
    {
     "name": "stdout",
     "output_type": "stream",
     "text": [
      "0\n",
      "1\n",
      "2\n",
      "3\n",
      "4\n",
      "5\n",
      "6\n",
      "7\n",
      "8\n",
      "9\n",
      "10\n",
      "11\n",
      "12\n",
      "13\n",
      "14\n",
      "15\n",
      "16\n",
      "17\n",
      "18\n",
      "19\n",
      "20\n",
      "21\n",
      "22\n",
      "23\n",
      "24\n",
      "25\n",
      "26\n",
      "27\n",
      "28\n",
      "29\n"
     ]
    }
   ],
   "source": [
    "for i in range(30):\n",
    "    print(i)\n",
    "    published= soup.select('tr .smallText')[22].text.strip().split('\\n')[3].strip()"
   ]
  },
  {
   "cell_type": "code",
   "execution_count": 92,
   "metadata": {},
   "outputs": [
    {
     "data": {
      "text/plain": [
       "'2016'"
      ]
     },
     "execution_count": 92,
     "metadata": {},
     "output_type": "execute_result"
    }
   ],
   "source": [
    "published"
   ]
  },
  {
   "cell_type": "code",
   "execution_count": 61,
   "metadata": {},
   "outputs": [],
   "source": [
    "editions = int(soup.select('tr .smallText')[0].text.strip().split('\\n')[-1].strip().split(' ')[0])"
   ]
  },
  {
   "cell_type": "code",
   "execution_count": 65,
   "metadata": {},
   "outputs": [],
   "source": [
    "# soup.select('tr')[0]"
   ]
  },
  {
   "cell_type": "code",
   "execution_count": 94,
   "metadata": {},
   "outputs": [
    {
     "ename": "ValueError",
     "evalue": "invalid literal for int() with base 10: '(Illustrator)'",
     "output_type": "error",
     "traceback": [
      "\u001b[1;31m---------------------------------------------------------------------------\u001b[0m",
      "\u001b[1;31mValueError\u001b[0m                                Traceback (most recent call last)",
      "\u001b[1;32m<ipython-input-94-ac4d67972ef5>\u001b[0m in \u001b[0;36m<module>\u001b[1;34m\u001b[0m\n\u001b[0;32m     20\u001b[0m \u001b[1;31m#     pub_dates.append(published)\u001b[0m\u001b[1;33m\u001b[0m\u001b[1;33m\u001b[0m\u001b[1;33m\u001b[0m\u001b[0m\n\u001b[0;32m     21\u001b[0m \u001b[1;33m\u001b[0m\u001b[0m\n\u001b[1;32m---> 22\u001b[1;33m     \u001b[0meditions\u001b[0m \u001b[1;33m=\u001b[0m \u001b[0mint\u001b[0m\u001b[1;33m(\u001b[0m\u001b[0msoup\u001b[0m\u001b[1;33m.\u001b[0m\u001b[0mselect\u001b[0m\u001b[1;33m(\u001b[0m\u001b[1;34m'tr .smallText'\u001b[0m\u001b[1;33m)\u001b[0m\u001b[1;33m[\u001b[0m\u001b[0mi\u001b[0m\u001b[1;33m]\u001b[0m\u001b[1;33m.\u001b[0m\u001b[0mtext\u001b[0m\u001b[1;33m.\u001b[0m\u001b[0mstrip\u001b[0m\u001b[1;33m(\u001b[0m\u001b[1;33m)\u001b[0m\u001b[1;33m.\u001b[0m\u001b[0msplit\u001b[0m\u001b[1;33m(\u001b[0m\u001b[1;34m'\\n'\u001b[0m\u001b[1;33m)\u001b[0m\u001b[1;33m[\u001b[0m\u001b[1;33m-\u001b[0m\u001b[1;36m1\u001b[0m\u001b[1;33m]\u001b[0m\u001b[1;33m.\u001b[0m\u001b[0mstrip\u001b[0m\u001b[1;33m(\u001b[0m\u001b[1;33m)\u001b[0m\u001b[1;33m.\u001b[0m\u001b[0msplit\u001b[0m\u001b[1;33m(\u001b[0m\u001b[1;34m' '\u001b[0m\u001b[1;33m)\u001b[0m\u001b[1;33m[\u001b[0m\u001b[1;36m0\u001b[0m\u001b[1;33m]\u001b[0m\u001b[1;33m)\u001b[0m\u001b[1;33m\u001b[0m\u001b[1;33m\u001b[0m\u001b[0m\n\u001b[0m\u001b[0;32m     23\u001b[0m     \u001b[0medition_num\u001b[0m\u001b[1;33m.\u001b[0m\u001b[0mappend\u001b[0m\u001b[1;33m(\u001b[0m\u001b[0meditions\u001b[0m\u001b[1;33m)\u001b[0m\u001b[1;33m\u001b[0m\u001b[1;33m\u001b[0m\u001b[0m\n",
      "\u001b[1;31mValueError\u001b[0m: invalid literal for int() with base 10: '(Illustrator)'"
     ]
    }
   ],
   "source": [
    "names = []\n",
    "ratings = []\n",
    "pub_dates = []\n",
    "edition_num = []\n",
    "\n",
    "import requests\n",
    "import bs4\n",
    "link = 'https://www.goodreads.com/author/list/38550.Brandon_Sanderson?page=1'\n",
    "code = requests.get(link)\n",
    "soup = bs4.BeautifulSoup(code.text, \"lxml\")\n",
    "\n",
    "for i in range(len(soup.select('tr'))):\n",
    "    name = soup.select('tr .bookTitle')[i].text.strip()\n",
    "    names.append(name)\n",
    "    \n",
    "    rating = soup.select('tr .smallText')[i].text.strip().split('\\n')[0]\n",
    "    ratings.append(rating)\n",
    "    \n",
    "#     published= soup.select('tr .smallText')[i].text.strip().split('\\n')[3].strip()\n",
    "#     pub_dates.append(published)\n",
    "    \n",
    "    editions = int(soup.select('tr .smallText')[i].text.strip().split('\\n')[-1].strip().split(' ')[0])\n",
    "    edition_num.append(editions)"
   ]
  },
  {
   "cell_type": "code",
   "execution_count": 70,
   "metadata": {},
   "outputs": [
    {
     "data": {
      "text/plain": [
       "['Mistborn: The Final Empire (Mistborn, #1)',\n",
       " 'Mistborn: The Final Empire (Mistborn, #1)',\n",
       " 'Mistborn: The Final Empire (Mistborn, #1)',\n",
       " 'Mistborn: The Final Empire (Mistborn, #1)',\n",
       " 'Mistborn: The Final Empire (Mistborn, #1)',\n",
       " 'Mistborn: The Final Empire (Mistborn, #1)',\n",
       " 'Mistborn: The Final Empire (Mistborn, #1)',\n",
       " 'Mistborn: The Final Empire (Mistborn, #1)',\n",
       " 'Mistborn: The Final Empire (Mistborn, #1)',\n",
       " 'Mistborn: The Final Empire (Mistborn, #1)',\n",
       " 'Mistborn: The Final Empire (Mistborn, #1)',\n",
       " 'Mistborn: The Final Empire (Mistborn, #1)',\n",
       " 'Mistborn: The Final Empire (Mistborn, #1)',\n",
       " 'Mistborn: The Final Empire (Mistborn, #1)',\n",
       " 'Mistborn: The Final Empire (Mistborn, #1)',\n",
       " 'Mistborn: The Final Empire (Mistborn, #1)',\n",
       " 'Mistborn: The Final Empire (Mistborn, #1)',\n",
       " 'Mistborn: The Final Empire (Mistborn, #1)',\n",
       " 'Mistborn: The Final Empire (Mistborn, #1)',\n",
       " 'Mistborn: The Final Empire (Mistborn, #1)',\n",
       " 'Mistborn: The Final Empire (Mistborn, #1)',\n",
       " 'Mistborn: The Final Empire (Mistborn, #1)',\n",
       " 'Mistborn: The Final Empire (Mistborn, #1)',\n",
       " 'Mistborn: The Final Empire (Mistborn, #1)',\n",
       " 'Mistborn: The Final Empire (Mistborn, #1)',\n",
       " 'Mistborn: The Final Empire (Mistborn, #1)',\n",
       " 'Mistborn: The Final Empire (Mistborn, #1)',\n",
       " 'Mistborn: The Final Empire (Mistborn, #1)',\n",
       " 'Mistborn: The Final Empire (Mistborn, #1)',\n",
       " 'Mistborn: The Final Empire (Mistborn, #1)']"
      ]
     },
     "execution_count": 70,
     "metadata": {},
     "output_type": "execute_result"
    }
   ],
   "source": [
    "names"
   ]
  },
  {
   "cell_type": "code",
   "execution_count": null,
   "metadata": {},
   "outputs": [],
   "source": []
  }
 ],
 "metadata": {
  "kernelspec": {
   "display_name": "Python 3",
   "language": "python",
   "name": "python3"
  },
  "language_info": {
   "codemirror_mode": {
    "name": "ipython",
    "version": 3
   },
   "file_extension": ".py",
   "mimetype": "text/x-python",
   "name": "python",
   "nbconvert_exporter": "python",
   "pygments_lexer": "ipython3",
   "version": "3.8.5"
  }
 },
 "nbformat": 4,
 "nbformat_minor": 4
}
