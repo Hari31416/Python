{
 "cells": [
  {
   "cell_type": "code",
   "execution_count": 4,
   "metadata": {},
   "outputs": [],
   "source": [
    "import requests\n",
    "import bs4\n",
    "\n",
    "code = requests.get(\"https://www.goodreads.com/user_challenges/21855719\")\n",
    "soup = bs4.BeautifulSoup(code.text, \"lxml\")"
   ]
  },
  {
   "cell_type": "code",
   "execution_count": 371,
   "metadata": {},
   "outputs": [],
   "source": [
    "# soup"
   ]
  },
  {
   "cell_type": "code",
   "execution_count": 94,
   "metadata": {},
   "outputs": [
    {
     "data": {
      "text/plain": [
       "'The Eleventh Metal by Brandon Sanderson'"
      ]
     },
     "execution_count": 94,
     "metadata": {},
     "output_type": "execute_result"
    }
   ],
   "source": [
    "soup.select('img')[120]['alt']"
   ]
  },
  {
   "cell_type": "code",
   "execution_count": 52,
   "metadata": {},
   "outputs": [
    {
     "data": {
      "text/plain": [
       "137"
      ]
     },
     "execution_count": 52,
     "metadata": {},
     "output_type": "execute_result"
    }
   ],
   "source": [
    "len(soup.select('img'))"
   ]
  },
  {
   "cell_type": "code",
   "execution_count": 29,
   "metadata": {},
   "outputs": [],
   "source": [
    "link = soup.select('img')[10]['src'].split('_')[0]"
   ]
  },
  {
   "cell_type": "code",
   "execution_count": 30,
   "metadata": {},
   "outputs": [
    {
     "data": {
      "text/plain": [
       "'https://i.gr-assets.com/images/S/compressed.photo.goodreads.com/books/1304976247l/6366110.'"
      ]
     },
     "execution_count": 30,
     "metadata": {},
     "output_type": "execute_result"
    }
   ],
   "source": [
    "link"
   ]
  },
  {
   "cell_type": "code",
   "execution_count": 31,
   "metadata": {},
   "outputs": [],
   "source": [
    "img = requests.get(f\"{link}jpg\")"
   ]
  },
  {
   "cell_type": "code",
   "execution_count": 32,
   "metadata": {},
   "outputs": [
    {
     "data": {
      "text/plain": [
       "<Response [200]>"
      ]
     },
     "execution_count": 32,
     "metadata": {},
     "output_type": "execute_result"
    }
   ],
   "source": [
    "img"
   ]
  },
  {
   "cell_type": "code",
   "execution_count": 49,
   "metadata": {},
   "outputs": [],
   "source": [
    "with open('H\\\\book1.jpg', 'wb') as i:\n",
    "    i.write(img.content)"
   ]
  },
  {
   "cell_type": "code",
   "execution_count": 50,
   "metadata": {},
   "outputs": [],
   "source": [
    "for m in range(5, 121):\n",
    "    link = soup.select('img')[m]['src'].split('_')[0]\n",
    "    img = requests.get(f\"{link}jpg\")\n",
    "    with open(f'book{m}.jpg', 'wb') as i:\n",
    "        i.write(img.content)"
   ]
  },
  {
   "cell_type": "code",
   "execution_count": 98,
   "metadata": {},
   "outputs": [],
   "source": [
    "for m in range(5, 121):\n",
    "    text = soup.select('img')[m]['alt']\n",
    "    with open('books.txt', 'a') as t:\n",
    "        t.write(f'{text}\\n')"
   ]
  },
  {
   "cell_type": "code",
   "execution_count": 115,
   "metadata": {},
   "outputs": [],
   "source": [
    "with open('books.txt', 'r') as f:\n",
    "    t = f.read()"
   ]
  },
  {
   "cell_type": "code",
   "execution_count": 370,
   "metadata": {},
   "outputs": [],
   "source": [
    "# t"
   ]
  },
  {
   "cell_type": "code",
   "execution_count": 117,
   "metadata": {},
   "outputs": [],
   "source": [
    "names = t.split('\\n')"
   ]
  },
  {
   "cell_type": "code",
   "execution_count": 150,
   "metadata": {},
   "outputs": [
    {
     "data": {
      "text/plain": [
       "117"
      ]
     },
     "execution_count": 150,
     "metadata": {},
     "output_type": "execute_result"
    }
   ],
   "source": [
    "len(names)"
   ]
  },
  {
   "cell_type": "code",
   "execution_count": 159,
   "metadata": {},
   "outputs": [
    {
     "data": {
      "text/plain": [
       "'Brandon Sanderson'"
      ]
     },
     "execution_count": 159,
     "metadata": {},
     "output_type": "execute_result"
    }
   ],
   "source": [
    "names[115].split(' by ')[1]"
   ]
  },
  {
   "cell_type": "code",
   "execution_count": 160,
   "metadata": {},
   "outputs": [],
   "source": [
    "books = {}\n",
    "for i in range(116):\n",
    "    book = names[i].split(' by ')[0].strip()\n",
    "    writer = names[i].split(' by ')[1].strip()\n",
    "    books[book] = writer"
   ]
  },
  {
   "cell_type": "code",
   "execution_count": 161,
   "metadata": {},
   "outputs": [],
   "source": [
    "import pandas as pd\n",
    "import numpy as np"
   ]
  },
  {
   "cell_type": "code",
   "execution_count": 162,
   "metadata": {},
   "outputs": [
    {
     "data": {
      "text/plain": [
       "116"
      ]
     },
     "execution_count": 162,
     "metadata": {},
     "output_type": "execute_result"
    }
   ],
   "source": [
    "len(books)"
   ]
  },
  {
   "cell_type": "code",
   "execution_count": 163,
   "metadata": {},
   "outputs": [],
   "source": [
    "book_df = pd.DataFrame(books, index = ['book']).transpose()"
   ]
  },
  {
   "cell_type": "code",
   "execution_count": 164,
   "metadata": {},
   "outputs": [],
   "source": [
    "book_df = book_df.reset_index()"
   ]
  },
  {
   "cell_type": "code",
   "execution_count": 165,
   "metadata": {},
   "outputs": [
    {
     "data": {
      "text/html": [
       "<div>\n",
       "<style scoped>\n",
       "    .dataframe tbody tr th:only-of-type {\n",
       "        vertical-align: middle;\n",
       "    }\n",
       "\n",
       "    .dataframe tbody tr th {\n",
       "        vertical-align: top;\n",
       "    }\n",
       "\n",
       "    .dataframe thead th {\n",
       "        text-align: right;\n",
       "    }\n",
       "</style>\n",
       "<table border=\"1\" class=\"dataframe\">\n",
       "  <thead>\n",
       "    <tr style=\"text-align: right;\">\n",
       "      <th></th>\n",
       "      <th>index</th>\n",
       "      <th>book</th>\n",
       "    </tr>\n",
       "  </thead>\n",
       "  <tbody>\n",
       "    <tr>\n",
       "      <th>0</th>\n",
       "      <td>A Clash of Kings</td>\n",
       "      <td>George R.R. Martin</td>\n",
       "    </tr>\n",
       "    <tr>\n",
       "      <th>1</th>\n",
       "      <td>Mort</td>\n",
       "      <td>Terry Pratchett</td>\n",
       "    </tr>\n",
       "    <tr>\n",
       "      <th>2</th>\n",
       "      <td>The Dark Talent</td>\n",
       "      <td>Brandon Sanderson</td>\n",
       "    </tr>\n",
       "    <tr>\n",
       "      <th>3</th>\n",
       "      <td>How the King of Elfhame Learned to Hate Stories</td>\n",
       "      <td>Holly Black</td>\n",
       "    </tr>\n",
       "    <tr>\n",
       "      <th>4</th>\n",
       "      <td>Alcatraz Versus the Shattered Lens</td>\n",
       "      <td>Brandon Sanderson</td>\n",
       "    </tr>\n",
       "    <tr>\n",
       "      <th>...</th>\n",
       "      <td>...</td>\n",
       "      <td>...</td>\n",
       "    </tr>\n",
       "    <tr>\n",
       "      <th>111</th>\n",
       "      <td>The Ship of the Dead</td>\n",
       "      <td>Rick Riordan</td>\n",
       "    </tr>\n",
       "    <tr>\n",
       "      <th>112</th>\n",
       "      <td>The Hammer of Thor</td>\n",
       "      <td>Rick Riordan</td>\n",
       "    </tr>\n",
       "    <tr>\n",
       "      <th>113</th>\n",
       "      <td>The Sword of Summer</td>\n",
       "      <td>Rick Riordan</td>\n",
       "    </tr>\n",
       "    <tr>\n",
       "      <th>114</th>\n",
       "      <td>Jane Eyre</td>\n",
       "      <td>Charlotte Brontë</td>\n",
       "    </tr>\n",
       "    <tr>\n",
       "      <th>115</th>\n",
       "      <td>The Eleventh Metal</td>\n",
       "      <td>Brandon Sanderson</td>\n",
       "    </tr>\n",
       "  </tbody>\n",
       "</table>\n",
       "<p>116 rows × 2 columns</p>\n",
       "</div>"
      ],
      "text/plain": [
       "                                               index                book\n",
       "0                                   A Clash of Kings  George R.R. Martin\n",
       "1                                               Mort     Terry Pratchett\n",
       "2                                    The Dark Talent   Brandon Sanderson\n",
       "3    How the King of Elfhame Learned to Hate Stories         Holly Black\n",
       "4                 Alcatraz Versus the Shattered Lens   Brandon Sanderson\n",
       "..                                               ...                 ...\n",
       "111                             The Ship of the Dead        Rick Riordan\n",
       "112                               The Hammer of Thor        Rick Riordan\n",
       "113                              The Sword of Summer        Rick Riordan\n",
       "114                                        Jane Eyre    Charlotte Brontë\n",
       "115                               The Eleventh Metal   Brandon Sanderson\n",
       "\n",
       "[116 rows x 2 columns]"
      ]
     },
     "execution_count": 165,
     "metadata": {},
     "output_type": "execute_result"
    }
   ],
   "source": [
    "book_df"
   ]
  },
  {
   "cell_type": "code",
   "execution_count": 166,
   "metadata": {},
   "outputs": [],
   "source": [
    "book_df.columns = ['Book', 'Author']"
   ]
  },
  {
   "cell_type": "code",
   "execution_count": 167,
   "metadata": {},
   "outputs": [
    {
     "data": {
      "text/html": [
       "<div>\n",
       "<style scoped>\n",
       "    .dataframe tbody tr th:only-of-type {\n",
       "        vertical-align: middle;\n",
       "    }\n",
       "\n",
       "    .dataframe tbody tr th {\n",
       "        vertical-align: top;\n",
       "    }\n",
       "\n",
       "    .dataframe thead th {\n",
       "        text-align: right;\n",
       "    }\n",
       "</style>\n",
       "<table border=\"1\" class=\"dataframe\">\n",
       "  <thead>\n",
       "    <tr style=\"text-align: right;\">\n",
       "      <th></th>\n",
       "      <th>Book</th>\n",
       "      <th>Author</th>\n",
       "    </tr>\n",
       "  </thead>\n",
       "  <tbody>\n",
       "    <tr>\n",
       "      <th>0</th>\n",
       "      <td>A Clash of Kings</td>\n",
       "      <td>George R.R. Martin</td>\n",
       "    </tr>\n",
       "    <tr>\n",
       "      <th>1</th>\n",
       "      <td>Mort</td>\n",
       "      <td>Terry Pratchett</td>\n",
       "    </tr>\n",
       "    <tr>\n",
       "      <th>2</th>\n",
       "      <td>The Dark Talent</td>\n",
       "      <td>Brandon Sanderson</td>\n",
       "    </tr>\n",
       "    <tr>\n",
       "      <th>3</th>\n",
       "      <td>How the King of Elfhame Learned to Hate Stories</td>\n",
       "      <td>Holly Black</td>\n",
       "    </tr>\n",
       "    <tr>\n",
       "      <th>4</th>\n",
       "      <td>Alcatraz Versus the Shattered Lens</td>\n",
       "      <td>Brandon Sanderson</td>\n",
       "    </tr>\n",
       "    <tr>\n",
       "      <th>...</th>\n",
       "      <td>...</td>\n",
       "      <td>...</td>\n",
       "    </tr>\n",
       "    <tr>\n",
       "      <th>111</th>\n",
       "      <td>The Ship of the Dead</td>\n",
       "      <td>Rick Riordan</td>\n",
       "    </tr>\n",
       "    <tr>\n",
       "      <th>112</th>\n",
       "      <td>The Hammer of Thor</td>\n",
       "      <td>Rick Riordan</td>\n",
       "    </tr>\n",
       "    <tr>\n",
       "      <th>113</th>\n",
       "      <td>The Sword of Summer</td>\n",
       "      <td>Rick Riordan</td>\n",
       "    </tr>\n",
       "    <tr>\n",
       "      <th>114</th>\n",
       "      <td>Jane Eyre</td>\n",
       "      <td>Charlotte Brontë</td>\n",
       "    </tr>\n",
       "    <tr>\n",
       "      <th>115</th>\n",
       "      <td>The Eleventh Metal</td>\n",
       "      <td>Brandon Sanderson</td>\n",
       "    </tr>\n",
       "  </tbody>\n",
       "</table>\n",
       "<p>116 rows × 2 columns</p>\n",
       "</div>"
      ],
      "text/plain": [
       "                                                Book              Author\n",
       "0                                   A Clash of Kings  George R.R. Martin\n",
       "1                                               Mort     Terry Pratchett\n",
       "2                                    The Dark Talent   Brandon Sanderson\n",
       "3    How the King of Elfhame Learned to Hate Stories         Holly Black\n",
       "4                 Alcatraz Versus the Shattered Lens   Brandon Sanderson\n",
       "..                                               ...                 ...\n",
       "111                             The Ship of the Dead        Rick Riordan\n",
       "112                               The Hammer of Thor        Rick Riordan\n",
       "113                              The Sword of Summer        Rick Riordan\n",
       "114                                        Jane Eyre    Charlotte Brontë\n",
       "115                               The Eleventh Metal   Brandon Sanderson\n",
       "\n",
       "[116 rows x 2 columns]"
      ]
     },
     "execution_count": 167,
     "metadata": {},
     "output_type": "execute_result"
    }
   ],
   "source": [
    "book_df"
   ]
  },
  {
   "cell_type": "code",
   "execution_count": 172,
   "metadata": {},
   "outputs": [
    {
     "data": {
      "text/html": [
       "<div>\n",
       "<style scoped>\n",
       "    .dataframe tbody tr th:only-of-type {\n",
       "        vertical-align: middle;\n",
       "    }\n",
       "\n",
       "    .dataframe tbody tr th {\n",
       "        vertical-align: top;\n",
       "    }\n",
       "\n",
       "    .dataframe thead th {\n",
       "        text-align: right;\n",
       "    }\n",
       "</style>\n",
       "<table border=\"1\" class=\"dataframe\">\n",
       "  <thead>\n",
       "    <tr style=\"text-align: right;\">\n",
       "      <th></th>\n",
       "      <th>Book</th>\n",
       "    </tr>\n",
       "    <tr>\n",
       "      <th>Author</th>\n",
       "      <th></th>\n",
       "    </tr>\n",
       "  </thead>\n",
       "  <tbody>\n",
       "    <tr>\n",
       "      <th>Brandon Sanderson</th>\n",
       "      <td>36</td>\n",
       "    </tr>\n",
       "    <tr>\n",
       "      <th>C.S. Lewis</th>\n",
       "      <td>1</td>\n",
       "    </tr>\n",
       "    <tr>\n",
       "      <th>Cassandra Clare</th>\n",
       "      <td>2</td>\n",
       "    </tr>\n",
       "    <tr>\n",
       "      <th>Charlotte Brontë</th>\n",
       "      <td>1</td>\n",
       "    </tr>\n",
       "    <tr>\n",
       "      <th>George R.R. Martin</th>\n",
       "      <td>1</td>\n",
       "    </tr>\n",
       "    <tr>\n",
       "      <th>Holly Black</th>\n",
       "      <td>10</td>\n",
       "    </tr>\n",
       "    <tr>\n",
       "      <th>James Islington</th>\n",
       "      <td>3</td>\n",
       "    </tr>\n",
       "    <tr>\n",
       "      <th>Jim Butcher</th>\n",
       "      <td>2</td>\n",
       "    </tr>\n",
       "    <tr>\n",
       "      <th>Kiera Cass</th>\n",
       "      <td>4</td>\n",
       "    </tr>\n",
       "    <tr>\n",
       "      <th>Patrick Rothfuss</th>\n",
       "      <td>2</td>\n",
       "    </tr>\n",
       "    <tr>\n",
       "      <th>Pierce Brown</th>\n",
       "      <td>3</td>\n",
       "    </tr>\n",
       "    <tr>\n",
       "      <th>Rick Riordan</th>\n",
       "      <td>12</td>\n",
       "    </tr>\n",
       "    <tr>\n",
       "      <th>Robert Jordan</th>\n",
       "      <td>15</td>\n",
       "    </tr>\n",
       "    <tr>\n",
       "      <th>Robin Hobb</th>\n",
       "      <td>2</td>\n",
       "    </tr>\n",
       "    <tr>\n",
       "      <th>Sarah J. Maas</th>\n",
       "      <td>12</td>\n",
       "    </tr>\n",
       "    <tr>\n",
       "      <th>Shannon Messenger</th>\n",
       "      <td>4</td>\n",
       "    </tr>\n",
       "    <tr>\n",
       "      <th>Suzanne Collins</th>\n",
       "      <td>3</td>\n",
       "    </tr>\n",
       "    <tr>\n",
       "      <th>Terry Pratchett</th>\n",
       "      <td>1</td>\n",
       "    </tr>\n",
       "    <tr>\n",
       "      <th>Victoria Aveyard</th>\n",
       "      <td>2</td>\n",
       "    </tr>\n",
       "  </tbody>\n",
       "</table>\n",
       "</div>"
      ],
      "text/plain": [
       "                    Book\n",
       "Author                  \n",
       "Brandon Sanderson     36\n",
       "C.S. Lewis             1\n",
       "Cassandra Clare        2\n",
       "Charlotte Brontë       1\n",
       "George R.R. Martin     1\n",
       "Holly Black           10\n",
       "James Islington        3\n",
       "Jim Butcher            2\n",
       "Kiera Cass             4\n",
       "Patrick Rothfuss       2\n",
       "Pierce Brown           3\n",
       "Rick Riordan          12\n",
       "Robert Jordan         15\n",
       "Robin Hobb             2\n",
       "Sarah J. Maas         12\n",
       "Shannon Messenger      4\n",
       "Suzanne Collins        3\n",
       "Terry Pratchett        1\n",
       "Victoria Aveyard       2"
      ]
     },
     "execution_count": 172,
     "metadata": {},
     "output_type": "execute_result"
    }
   ],
   "source": [
    "book_df.groupby('Author').count()"
   ]
  },
  {
   "cell_type": "code",
   "execution_count": 173,
   "metadata": {},
   "outputs": [],
   "source": [
    "book_df.to_csv('books.csv', index= False)"
   ]
  },
  {
   "cell_type": "code",
   "execution_count": null,
   "metadata": {},
   "outputs": [],
   "source": []
  },
  {
   "cell_type": "code",
   "execution_count": null,
   "metadata": {},
   "outputs": [],
   "source": []
  },
  {
   "cell_type": "code",
   "execution_count": 24,
   "metadata": {},
   "outputs": [],
   "source": [
    "import requests\n",
    "import bs4\n",
    "final_link = 'https://www.goodreads.com/review/list/110673662-harikesh-kumar?page=15&sort=title'\n",
    "link = 'https://www.goodreads.com/review/list/110673662-harikesh-kumar?page=12&sort=title'\n",
    "code = requests.get(link)\n",
    "soup = bs4.BeautifulSoup(code.text, \"lxml\")"
   ]
  },
  {
   "cell_type": "code",
   "execution_count": 205,
   "metadata": {},
   "outputs": [],
   "source": [
    "# soup"
   ]
  },
  {
   "cell_type": "code",
   "execution_count": 43,
   "metadata": {},
   "outputs": [
    {
     "data": {
      "text/plain": [
       "30"
      ]
     },
     "execution_count": 43,
     "metadata": {},
     "output_type": "execute_result"
    }
   ],
   "source": [
    "len(soup.select('.bookalike'))"
   ]
  },
  {
   "cell_type": "code",
   "execution_count": 25,
   "metadata": {},
   "outputs": [
    {
     "data": {
      "text/plain": [
       "<tr class=\"bookalike review\" id=\"review_3957692427\">\n",
       "<td class=\"field checkbox\"><label>checkbox</label><div class=\"value\">       \n",
       "</div></td> <td class=\"field position\" style=\"display: none\"><label>position</label><div class=\"value\"></div></td> <td class=\"field cover\"><label>cover</label><div class=\"value\"> <div class=\"js-tooltipTrigger tooltipTrigger\" data-resource-id=\"44054122\" data-resource-type=\"Book\">\n",
       "<a href=\"/book/show/44054122-imagine-me\"><img alt=\"Imagine Me (Shatter Me, #6)\" id=\"cover_review_3957692427\" src=\"https://i.gr-assets.com/images/S/compressed.photo.goodreads.com/books/1563815428l/44054122._SY75_.jpg\"/></a>\n",
       "</div>\n",
       "</div></td> <td class=\"field title\"><label>title</label><div class=\"value\"> <a href=\"/book/show/44054122-imagine-me\" title=\"Imagine Me (Shatter Me, #6)\">\n",
       "      Imagine Me\n",
       "        <span class=\"darkGreyText\">(Shatter Me, #6)</span>\n",
       "</a></div></td> <td class=\"field author\"><label>author</label><div class=\"value\"> <a href=\"/author/show/4637539.Tahereh_Mafi\">Mafi, Tahereh</a>\n",
       "</div></td> <td class=\"field isbn\" style=\"display: none\"><label>isbn</label><div class=\"value\">    006267644X\n",
       "</div></td> <td class=\"field isbn13\" style=\"display: none\"><label>isbn13</label><div class=\"value\">    9780062676443\n",
       "</div></td> <td class=\"field asin\" style=\"display: none\"><label>asin</label><div class=\"value\">\n",
       "</div></td> <td class=\"field num_pages\" style=\"display: none\"><label>num pages</label><div class=\"value\"> <nobr>\n",
       "        480\n",
       "        <span class=\"greyText\">pp</span>\n",
       "</nobr>\n",
       "</div></td> <td class=\"field avg_rating\"><label>avg rating</label><div class=\"value\">    3.75\n",
       "</div></td> <td class=\"field num_ratings\" style=\"display: none\"><label>num ratings</label><div class=\"value\">    24,180\n",
       "</div></td> <td class=\"field date_pub\" style=\"display: none\"><label>date pub</label><div class=\"value\">      Mar 31, 2020\n",
       "</div></td> <td class=\"field date_pub_edition\" style=\"display: none\"><label>date pub edition</label><div class=\"value\">      Mar 31, 2020\n",
       "</div></td>\n",
       "<td class=\"field rating\"><label>Harikesh's rating</label><div class=\"value\">\n",
       "<span class=\"staticStars notranslate\"><span class=\"staticStar p0\" size=\"15x15\"></span><span class=\"staticStar p0\" size=\"15x15\"></span><span class=\"staticStar p0\" size=\"15x15\"></span><span class=\"staticStar p0\" size=\"15x15\"></span><span class=\"staticStar p0\" size=\"15x15\"></span></span>\n",
       "</div></td><td class=\"field shelves\"><label>my rating</label><div class=\"value\">\n",
       "<div class=\"stars\" data-rating=\"0\" data-resource-id=\"44054122\" data-submit-url=\"/review/rate/44054122?stars_click=false\" data-user-id=\"0\"><a class=\"star off\" href=\"#\" ref=\"\" title=\"did not like it\">1 of 5 stars</a><a class=\"star off\" href=\"#\" ref=\"\" title=\"it was ok\">2 of 5 stars</a><a class=\"star off\" href=\"#\" ref=\"\" title=\"liked it\">3 of 5 stars</a><a class=\"star off\" href=\"#\" ref=\"\" title=\"really liked it\">4 of 5 stars</a><a class=\"star off\" href=\"#\" ref=\"\" title=\"it was amazing\">5 of 5 stars</a></div>\n",
       "<span id=\"reviewMessage44054122_false\"></span>\n",
       "<span id=\"successMessage44054122_false\"></span>\n",
       "<div>\n",
       "<a class=\"smallText actionLinkLite\" href=\"/user/new\" rel=\"nofollow\">add to shelves</a>\n",
       "</div>\n",
       "</div></td><td class=\"field review\" style=\"display: none\"><label>review</label><div class=\"value\">\n",
       "<span class=\"greyText\">None</span>\n",
       "<div class=\"clear\"></div>\n",
       "</div></td><td class=\"field notes\" style=\"display: none\"><label>notes</label><div class=\"value\">\n",
       "<span class=\"greyText\">Notes are private!</span>\n",
       "</div></td><td class=\"field recommender\" style=\"display: none\"><label>recommender</label><div class=\"value\">\n",
       "<span class=\"greyText\">none</span>\n",
       "</div></td>\n",
       "<td class=\"field comments\" style=\"display: none\"><label>comments</label><div class=\"value\">\n",
       "<a href=\"/review/show/3957692427\">0</a>\n",
       "</div></td>\n",
       "<td class=\"field votes\" style=\"display: none\"><label>votes</label><div class=\"value\">\n",
       "<a href=\"/rating/voters/3957692427?resource_type=Review\">0</a>\n",
       "</div></td>\n",
       "<td class=\"field read_count\" style=\"display: none\"><label># times read</label><div class=\"value\">\n",
       "        0\n",
       "</div></td><td class=\"field date_started\" style=\"display: none\"><label>date started</label><div class=\"value\">\n",
       "<div>\n",
       "<div class=\"editable_date date_started_new\">\n",
       "<span class=\"greyText\">not set</span>\n",
       "</div>\n",
       "</div>\n",
       "</div></td><td class=\"field date_read\"><label>date read</label><div class=\"value\">\n",
       "<div>\n",
       "<div class=\"editable_date date_read_new\">\n",
       "<span class=\"greyText\">not set</span>\n",
       "</div>\n",
       "</div>\n",
       "</div></td><td class=\"field date_added\"><label>date added</label><div class=\"value\">\n",
       "<span title=\"April 21, 2021\">\n",
       "    Apr 21, 2021\n",
       "  </span>\n",
       "</div></td><td class=\"field date_purchased\" style=\"display: none\"><label>date purchased</label><div class=\"value\"></div></td><td class=\"field owned\" style=\"display: none\"><label>owned</label><div class=\"value\"></div></td><td class=\"field purchase_location\" style=\"display: none\"><label>purchase location</label><div class=\"value\"></div></td><td class=\"field condition\" style=\"display: none\"><label>condition</label><div class=\"value\"></div></td><td class=\"field format\" style=\"display: none\"><label>format</label><div class=\"value\">\n",
       "        ebook\n",
       "</div></td><td class=\"field actions\"><label>actions</label><div class=\"value\">\n",
       "<div>\n",
       "<a class=\"nobreak\" href=\"/review/show/3957692427\">view</a>\n",
       "</div>\n",
       "</div></td>\n",
       "</tr>"
      ]
     },
     "execution_count": 25,
     "metadata": {},
     "output_type": "execute_result"
    }
   ],
   "source": [
    "soup.select('.bookalike')[0]"
   ]
  },
  {
   "cell_type": "markdown",
   "metadata": {},
   "source": [
    "### Book Name"
   ]
  },
  {
   "cell_type": "code",
   "execution_count": 3,
   "metadata": {},
   "outputs": [
    {
     "data": {
      "text/plain": [
       "<a href=\"/book/show/6148028-catching-fire\" title=\"Catching Fire (The Hunger Games, #2)\">\n",
       "      Catching Fire\n",
       "        <span class=\"darkGreyText\">(The Hunger Games, #2)</span>\n",
       "</a>"
      ]
     },
     "execution_count": 3,
     "metadata": {},
     "output_type": "execute_result"
    }
   ],
   "source": [
    "soup.select('.bookalike .title a')[10]"
   ]
  },
  {
   "cell_type": "code",
   "execution_count": 42,
   "metadata": {},
   "outputs": [
    {
     "data": {
      "text/plain": [
       "'Pride and Prejudice'"
      ]
     },
     "execution_count": 42,
     "metadata": {},
     "output_type": "execute_result"
    }
   ],
   "source": [
    "soup.select('.bookalike .title a')[0]['title']"
   ]
  },
  {
   "cell_type": "markdown",
   "metadata": {},
   "source": [
    "### Author"
   ]
  },
  {
   "cell_type": "code",
   "execution_count": 41,
   "metadata": {},
   "outputs": [
    {
     "data": {
      "text/plain": [
       "'Austen, Jane'"
      ]
     },
     "execution_count": 41,
     "metadata": {},
     "output_type": "execute_result"
    }
   ],
   "source": [
    "soup.select('.bookalike .author a')[0].text"
   ]
  },
  {
   "cell_type": "code",
   "execution_count": 354,
   "metadata": {},
   "outputs": [
    {
     "data": {
      "text/plain": [
       "<a href=\"/author/show/1265.Jane_Austen\">Austen, Jane</a>"
      ]
     },
     "execution_count": 354,
     "metadata": {},
     "output_type": "execute_result"
    }
   ],
   "source": [
    "soup.select('.bookalike .author a')[0]"
   ]
  },
  {
   "cell_type": "code",
   "execution_count": null,
   "metadata": {},
   "outputs": [],
   "source": []
  },
  {
   "cell_type": "markdown",
   "metadata": {},
   "source": [
    "### Book Image"
   ]
  },
  {
   "cell_type": "code",
   "execution_count": 7,
   "metadata": {},
   "outputs": [],
   "source": [
    "link = soup.select('.bookalike img')[10]['src'].split('_')[0]\n",
    "img = requests.get(f\"{link}jpg\")"
   ]
  },
  {
   "cell_type": "code",
   "execution_count": 260,
   "metadata": {},
   "outputs": [],
   "source": [
    "# with open('book.jpg', 'wb') as i:\n",
    "#     i.write(img.content)"
   ]
  },
  {
   "cell_type": "markdown",
   "metadata": {},
   "source": [
    "### Book ISBN 13"
   ]
  },
  {
   "cell_type": "code",
   "execution_count": 26,
   "metadata": {},
   "outputs": [
    {
     "data": {
      "text/plain": [
       "'9780062676443'"
      ]
     },
     "execution_count": 26,
     "metadata": {},
     "output_type": "execute_result"
    }
   ],
   "source": [
    "soup.select('.bookalike .isbn13 .value')[0].text.strip()"
   ]
  },
  {
   "cell_type": "markdown",
   "metadata": {},
   "source": [
    "### ISBN"
   ]
  },
  {
   "cell_type": "code",
   "execution_count": 27,
   "metadata": {},
   "outputs": [
    {
     "data": {
      "text/plain": [
       "'006267644X'"
      ]
     },
     "execution_count": 27,
     "metadata": {},
     "output_type": "execute_result"
    }
   ],
   "source": [
    "soup.select('.bookalike .isbn .value')[0].text.strip()"
   ]
  },
  {
   "cell_type": "markdown",
   "metadata": {},
   "source": [
    "### Pages"
   ]
  },
  {
   "cell_type": "code",
   "execution_count": 39,
   "metadata": {},
   "outputs": [
    {
     "data": {
      "text/plain": [
       "279"
      ]
     },
     "execution_count": 39,
     "metadata": {},
     "output_type": "execute_result"
    }
   ],
   "source": [
    "int(soup.select('.bookalike .num_pages .value')[0].text.split('\\n')[1].strip())"
   ]
  },
  {
   "cell_type": "markdown",
   "metadata": {},
   "source": [
    "### Rating"
   ]
  },
  {
   "cell_type": "code",
   "execution_count": 37,
   "metadata": {},
   "outputs": [
    {
     "data": {
      "text/plain": [
       "4.27"
      ]
     },
     "execution_count": 37,
     "metadata": {},
     "output_type": "execute_result"
    }
   ],
   "source": [
    "float(soup.select('.bookalike .avg_rating .value')[0].text.strip())"
   ]
  },
  {
   "cell_type": "markdown",
   "metadata": {},
   "source": [
    "### Number of Ratings"
   ]
  },
  {
   "cell_type": "code",
   "execution_count": 38,
   "metadata": {},
   "outputs": [
    {
     "data": {
      "text/plain": [
       "3260679"
      ]
     },
     "execution_count": 38,
     "metadata": {},
     "output_type": "execute_result"
    }
   ],
   "source": [
    "n = soup.select('.bookalike .num_ratings .value')[0].text.strip()\n",
    "int(''.join(n.split(',')))"
   ]
  },
  {
   "cell_type": "code",
   "execution_count": 36,
   "metadata": {},
   "outputs": [
    {
     "data": {
      "text/plain": [
       "3260679"
      ]
     },
     "execution_count": 36,
     "metadata": {},
     "output_type": "execute_result"
    }
   ],
   "source": [
    "num_ratings"
   ]
  },
  {
   "cell_type": "markdown",
   "metadata": {},
   "source": [
    "### Publication Date"
   ]
  },
  {
   "cell_type": "code",
   "execution_count": 34,
   "metadata": {},
   "outputs": [
    {
     "data": {
      "text/plain": [
       "'Jan 28, 1813'"
      ]
     },
     "execution_count": 34,
     "metadata": {},
     "output_type": "execute_result"
    }
   ],
   "source": [
    "soup.select('.bookalike .date_pub .value')[0].text.strip()"
   ]
  },
  {
   "cell_type": "markdown",
   "metadata": {},
   "source": [
    "### Date Started"
   ]
  },
  {
   "cell_type": "code",
   "execution_count": 32,
   "metadata": {},
   "outputs": [
    {
     "data": {
      "text/plain": [
       "'not set'"
      ]
     },
     "execution_count": 32,
     "metadata": {},
     "output_type": "execute_result"
    }
   ],
   "source": [
    "soup.select('.bookalike .date_started')[0].text.split('\\n')[3]"
   ]
  },
  {
   "cell_type": "markdown",
   "metadata": {},
   "source": [
    "### Date Read"
   ]
  },
  {
   "cell_type": "code",
   "execution_count": 33,
   "metadata": {},
   "outputs": [
    {
     "data": {
      "text/plain": [
       "'Jan 2019'"
      ]
     },
     "execution_count": 33,
     "metadata": {},
     "output_type": "execute_result"
    }
   ],
   "source": [
    "soup.select('.bookalike .date_read')[0].text.split('\\n')[3]"
   ]
  },
  {
   "cell_type": "markdown",
   "metadata": {},
   "source": [
    "### Condition for valid pages"
   ]
  },
  {
   "cell_type": "code",
   "execution_count": 13,
   "metadata": {},
   "outputs": [
    {
     "data": {
      "text/plain": [
       "True"
      ]
     },
     "execution_count": 13,
     "metadata": {},
     "output_type": "execute_result"
    }
   ],
   "source": [
    "soup.select('.bookalike') != []"
   ]
  },
  {
   "cell_type": "code",
   "execution_count": null,
   "metadata": {},
   "outputs": [],
   "source": []
  },
  {
   "cell_type": "code",
   "execution_count": 38,
   "metadata": {},
   "outputs": [],
   "source": [
    "import requests\n",
    "import bs4\n",
    "final_link = 'https://www.goodreads.com/review/list/110673662-harikesh-kumar?page=15&sort=title'\n",
    "link = 'https://www.goodreads.com/review/list/110673662-harikesh-kumar?page=1&sort=title'\n",
    "code = requests.get(link)\n",
    "soup = bs4.BeautifulSoup(code.text, \"lxml\")"
   ]
  },
  {
   "cell_type": "code",
   "execution_count": 39,
   "metadata": {},
   "outputs": [
    {
     "data": {
      "text/plain": [
       "30"
      ]
     },
     "execution_count": 39,
     "metadata": {},
     "output_type": "execute_result"
    }
   ],
   "source": [
    "len(soup.select('.bookalike'))"
   ]
  },
  {
   "cell_type": "code",
   "execution_count": 40,
   "metadata": {},
   "outputs": [
    {
     "name": "stdout",
     "output_type": "stream",
     "text": [
      "1\n",
      "2\n",
      "3\n",
      "4\n",
      "5\n",
      "6\n",
      "7\n",
      "8\n",
      "9\n",
      "10\n",
      "11\n",
      "12\n",
      "13\n",
      "14\n",
      "15\n"
     ]
    }
   ],
   "source": [
    "books = []\n",
    "authors = []\n",
    "isbn13s = []\n",
    "isbns =[]\n",
    "pagess = []\n",
    "ratings = []\n",
    "num_ratings = []\n",
    "pub_dates = []\n",
    "started = []\n",
    "ended = []\n",
    "\n",
    "p=1\n",
    "while soup.select('.bookalike') != []:\n",
    "    link = f'https://www.goodreads.com/review/list/110673662-harikesh-kumar?page={p}&sort=title'\n",
    "    code = requests.get(link)\n",
    "    soup = bs4.BeautifulSoup(code.text, \"lxml\")\n",
    "    print(p)\n",
    "    for i in range(len(soup.select('.bookalike'))):\n",
    "\n",
    "        book_name = soup.select('.bookalike .title a')[i]['title']\n",
    "        books.append(book_name)\n",
    "\n",
    "        author = soup.select('.bookalike .author a')[i].text\n",
    "        authors.append(author)\n",
    "\n",
    "        isbn13 = soup.select('.bookalike .isbn13 .value')[i].text.strip()\n",
    "        isbn13s.append(isbn13)\n",
    "        isbn = soup.select('.bookalike .isbn .value')[i].text.strip()\n",
    "        isbns.append(isbn)\n",
    "\n",
    "        pages = soup.select('.bookalike .num_pages .value')[i].text.split('\\n')[1].strip()\n",
    "        pagess.append(pages)\n",
    "\n",
    "        rating = float(soup.select('.bookalike .avg_rating .value')[i].text.strip())\n",
    "        ratings.append(rating)\n",
    "\n",
    "        num = soup.select('.bookalike .num_ratings .value')[i].text.strip()\n",
    "        num_rating = int(''.join(num.split(',')))\n",
    "        num_ratings.append(num_rating)\n",
    "\n",
    "        pub_date = soup.select('.bookalike .date_pub .value')[i].text.strip()\n",
    "        pub_dates.append(pub_date)\n",
    "\n",
    "        date_started = soup.select('.bookalike .date_started')[i].text.split('\\n')[3]\n",
    "        started.append(date_started\n",
    "                      )\n",
    "        date_ended = soup.select('.bookalike .date_read')[i].text.split('\\n')[3]\n",
    "        ended.append(date_ended)\n",
    "    \n",
    "    p=p+1"
   ]
  },
  {
   "cell_type": "code",
   "execution_count": 41,
   "metadata": {},
   "outputs": [
    {
     "data": {
      "text/plain": [
       "401"
      ]
     },
     "execution_count": 41,
     "metadata": {},
     "output_type": "execute_result"
    }
   ],
   "source": [
    "len(books)"
   ]
  },
  {
   "cell_type": "code",
   "execution_count": 48,
   "metadata": {},
   "outputs": [
    {
     "data": {
      "text/plain": [
       "['279',\n",
       " '309',\n",
       " '398',\n",
       " '341',\n",
       " '435',\n",
       " '361',\n",
       " '123',\n",
       " '96',\n",
       " '870',\n",
       " '374',\n",
       " '391',\n",
       " '398',\n",
       " '1,155',\n",
       " '759',\n",
       " '652',\n",
       " '734',\n",
       " '501',\n",
       " '377',\n",
       " '563',\n",
       " '485',\n",
       " '1,218',\n",
       " '464',\n",
       " '449',\n",
       " '141',\n",
       " '244',\n",
       " '505',\n",
       " '182',\n",
       " '260',\n",
       " '371',\n",
       " '372']"
      ]
     },
     "execution_count": 48,
     "metadata": {},
     "output_type": "execute_result"
    }
   ],
   "source": [
    "pagess"
   ]
  },
  {
   "cell_type": "code",
   "execution_count": 5,
   "metadata": {},
   "outputs": [],
   "source": [
    "import pandas as pd"
   ]
  },
  {
   "cell_type": "code",
   "execution_count": 31,
   "metadata": {},
   "outputs": [],
   "source": [
    "index = 'Book Name, Author, ISBN 13, ISBN, Number of Pages, Average Rating, Total Number of Ratings, Publication Date, Started Date, Ended Date'.split(', ')"
   ]
  },
  {
   "cell_type": "code",
   "execution_count": 22,
   "metadata": {},
   "outputs": [],
   "source": [
    "book_df = pd.DataFrame(data = [books, authors, isbn13s, isbns, pagess, ratings, num_ratings, pub_dates, started, ended], index = index).transpose()"
   ]
  },
  {
   "cell_type": "code",
   "execution_count": 23,
   "metadata": {},
   "outputs": [
    {
     "data": {
      "text/html": [
       "<div>\n",
       "<style scoped>\n",
       "    .dataframe tbody tr th:only-of-type {\n",
       "        vertical-align: middle;\n",
       "    }\n",
       "\n",
       "    .dataframe tbody tr th {\n",
       "        vertical-align: top;\n",
       "    }\n",
       "\n",
       "    .dataframe thead th {\n",
       "        text-align: right;\n",
       "    }\n",
       "</style>\n",
       "<table border=\"1\" class=\"dataframe\">\n",
       "  <thead>\n",
       "    <tr style=\"text-align: right;\">\n",
       "      <th></th>\n",
       "      <th>Book Name</th>\n",
       "      <th>Author</th>\n",
       "      <th>ISBN 13</th>\n",
       "      <th>Number of Pages</th>\n",
       "      <th>Average Rating</th>\n",
       "      <th>Total Number of Ratings</th>\n",
       "      <th>Publication Date</th>\n",
       "      <th>Started Date</th>\n",
       "      <th>Ended Date</th>\n",
       "    </tr>\n",
       "  </thead>\n",
       "  <tbody>\n",
       "    <tr>\n",
       "      <th>0</th>\n",
       "      <td>Pride and Prejudice</td>\n",
       "      <td>Austen, Jane</td>\n",
       "      <td></td>\n",
       "      <td>279</td>\n",
       "      <td>4.27</td>\n",
       "      <td>3261556</td>\n",
       "      <td>Jan 28, 1813</td>\n",
       "      <td>not set</td>\n",
       "      <td>Jan 2019</td>\n",
       "    </tr>\n",
       "    <tr>\n",
       "      <th>1</th>\n",
       "      <td>Harry Potter and the Sorcerer's Stone (Harry P...</td>\n",
       "      <td>Rowling, J.K.</td>\n",
       "      <td></td>\n",
       "      <td>309</td>\n",
       "      <td>4.47</td>\n",
       "      <td>7680566</td>\n",
       "      <td>Jun 26, 1997</td>\n",
       "      <td>not set</td>\n",
       "      <td>May 2018</td>\n",
       "    </tr>\n",
       "    <tr>\n",
       "      <th>2</th>\n",
       "      <td>The Fellowship of the Ring (The Lord of the Ri...</td>\n",
       "      <td>Tolkien, J.R.R.</td>\n",
       "      <td>9780618346257</td>\n",
       "      <td>398</td>\n",
       "      <td>4.37</td>\n",
       "      <td>2472173</td>\n",
       "      <td>Jul 29, 1954</td>\n",
       "      <td>not set</td>\n",
       "      <td>not set</td>\n",
       "    </tr>\n",
       "    <tr>\n",
       "      <th>3</th>\n",
       "      <td>Harry Potter and the Chamber of Secrets (Harry...</td>\n",
       "      <td>Rowling, J.K.</td>\n",
       "      <td>9780439064866</td>\n",
       "      <td>341</td>\n",
       "      <td>4.43</td>\n",
       "      <td>2971779</td>\n",
       "      <td>Jul 02, 1998</td>\n",
       "      <td>not set</td>\n",
       "      <td>May 2018</td>\n",
       "    </tr>\n",
       "    <tr>\n",
       "      <th>4</th>\n",
       "      <td>Harry Potter and the Prisoner of Azkaban (Harr...</td>\n",
       "      <td>Rowling, J.K.</td>\n",
       "      <td>9780439655484</td>\n",
       "      <td>435</td>\n",
       "      <td>4.57</td>\n",
       "      <td>3082204</td>\n",
       "      <td>Jul 08, 1999</td>\n",
       "      <td>not set</td>\n",
       "      <td>not set</td>\n",
       "    </tr>\n",
       "    <tr>\n",
       "      <th>...</th>\n",
       "      <td>...</td>\n",
       "      <td>...</td>\n",
       "      <td>...</td>\n",
       "      <td>...</td>\n",
       "      <td>...</td>\n",
       "      <td>...</td>\n",
       "      <td>...</td>\n",
       "      <td>...</td>\n",
       "      <td>...</td>\n",
       "    </tr>\n",
       "    <tr>\n",
       "      <th>396</th>\n",
       "      <td>Mostly Harmless (Hitchhiker's Guide to the Gal...</td>\n",
       "      <td>Adams, Douglas</td>\n",
       "      <td>9780345379337</td>\n",
       "      <td>288</td>\n",
       "      <td>3.96</td>\n",
       "      <td>117899</td>\n",
       "      <td>Oct 12, 1992</td>\n",
       "      <td>not set</td>\n",
       "      <td>not set</td>\n",
       "    </tr>\n",
       "    <tr>\n",
       "      <th>397</th>\n",
       "      <td>The Stone Sky (The Broken Earth, #3)</td>\n",
       "      <td>Jemisin, N.K.</td>\n",
       "      <td></td>\n",
       "      <td>416</td>\n",
       "      <td>4.31</td>\n",
       "      <td>91590</td>\n",
       "      <td>Aug 15, 2017</td>\n",
       "      <td>not set</td>\n",
       "      <td>not set</td>\n",
       "    </tr>\n",
       "    <tr>\n",
       "      <th>398</th>\n",
       "      <td>The Fifth Season (The Broken Earth, #1)</td>\n",
       "      <td>Jemisin, N.K.</td>\n",
       "      <td></td>\n",
       "      <td>468</td>\n",
       "      <td>4.28</td>\n",
       "      <td>181409</td>\n",
       "      <td>Aug 04, 2015</td>\n",
       "      <td>Jun 19, 2021</td>\n",
       "      <td>Jun 26, 2021</td>\n",
       "    </tr>\n",
       "    <tr>\n",
       "      <th>399</th>\n",
       "      <td>The Obelisk Gate (The Broken Earth, #2)</td>\n",
       "      <td>Jemisin, N.K.</td>\n",
       "      <td></td>\n",
       "      <td>410</td>\n",
       "      <td>4.28</td>\n",
       "      <td>110327</td>\n",
       "      <td>Aug 16, 2016</td>\n",
       "      <td>Jun 26, 2021</td>\n",
       "      <td>not set</td>\n",
       "    </tr>\n",
       "    <tr>\n",
       "      <th>400</th>\n",
       "      <td>Realm Breaker (Realm Breaker, #1)</td>\n",
       "      <td>Aveyard, Victoria</td>\n",
       "      <td></td>\n",
       "      <td>576</td>\n",
       "      <td>3.8</td>\n",
       "      <td>4766</td>\n",
       "      <td>May 04, 2021</td>\n",
       "      <td>Jun 10, 2021</td>\n",
       "      <td>Jun 15, 2021</td>\n",
       "    </tr>\n",
       "  </tbody>\n",
       "</table>\n",
       "<p>401 rows × 9 columns</p>\n",
       "</div>"
      ],
      "text/plain": [
       "                                             Book Name             Author  \\\n",
       "0                                  Pride and Prejudice       Austen, Jane   \n",
       "1    Harry Potter and the Sorcerer's Stone (Harry P...      Rowling, J.K.   \n",
       "2    The Fellowship of the Ring (The Lord of the Ri...    Tolkien, J.R.R.   \n",
       "3    Harry Potter and the Chamber of Secrets (Harry...      Rowling, J.K.   \n",
       "4    Harry Potter and the Prisoner of Azkaban (Harr...      Rowling, J.K.   \n",
       "..                                                 ...                ...   \n",
       "396  Mostly Harmless (Hitchhiker's Guide to the Gal...     Adams, Douglas   \n",
       "397               The Stone Sky (The Broken Earth, #3)      Jemisin, N.K.   \n",
       "398            The Fifth Season (The Broken Earth, #1)      Jemisin, N.K.   \n",
       "399            The Obelisk Gate (The Broken Earth, #2)      Jemisin, N.K.   \n",
       "400                  Realm Breaker (Realm Breaker, #1)  Aveyard, Victoria   \n",
       "\n",
       "           ISBN 13 Number of Pages Average Rating Total Number of Ratings  \\\n",
       "0                              279           4.27                 3261556   \n",
       "1                              309           4.47                 7680566   \n",
       "2    9780618346257             398           4.37                 2472173   \n",
       "3    9780439064866             341           4.43                 2971779   \n",
       "4    9780439655484             435           4.57                 3082204   \n",
       "..             ...             ...            ...                     ...   \n",
       "396  9780345379337             288           3.96                  117899   \n",
       "397                            416           4.31                   91590   \n",
       "398                            468           4.28                  181409   \n",
       "399                            410           4.28                  110327   \n",
       "400                            576            3.8                    4766   \n",
       "\n",
       "    Publication Date  Started Date    Ended Date  \n",
       "0       Jan 28, 1813       not set      Jan 2019  \n",
       "1       Jun 26, 1997       not set      May 2018  \n",
       "2       Jul 29, 1954       not set       not set  \n",
       "3       Jul 02, 1998       not set      May 2018  \n",
       "4       Jul 08, 1999       not set       not set  \n",
       "..               ...           ...           ...  \n",
       "396     Oct 12, 1992       not set       not set  \n",
       "397     Aug 15, 2017       not set       not set  \n",
       "398     Aug 04, 2015  Jun 19, 2021  Jun 26, 2021  \n",
       "399     Aug 16, 2016  Jun 26, 2021       not set  \n",
       "400     May 04, 2021  Jun 10, 2021  Jun 15, 2021  \n",
       "\n",
       "[401 rows x 9 columns]"
      ]
     },
     "execution_count": 23,
     "metadata": {},
     "output_type": "execute_result"
    }
   ],
   "source": [
    "book_df"
   ]
  },
  {
   "cell_type": "code",
   "execution_count": 42,
   "metadata": {},
   "outputs": [],
   "source": [
    "book_df2 = pd.DataFrame(data = [books, authors, isbn13s, isbns, pagess, ratings, num_ratings, pub_dates, started, ended], index = index).transpose()"
   ]
  },
  {
   "cell_type": "code",
   "execution_count": 44,
   "metadata": {},
   "outputs": [
    {
     "data": {
      "text/html": [
       "<div>\n",
       "<style scoped>\n",
       "    .dataframe tbody tr th:only-of-type {\n",
       "        vertical-align: middle;\n",
       "    }\n",
       "\n",
       "    .dataframe tbody tr th {\n",
       "        vertical-align: top;\n",
       "    }\n",
       "\n",
       "    .dataframe thead th {\n",
       "        text-align: right;\n",
       "    }\n",
       "</style>\n",
       "<table border=\"1\" class=\"dataframe\">\n",
       "  <thead>\n",
       "    <tr style=\"text-align: right;\">\n",
       "      <th></th>\n",
       "      <th>Book Name</th>\n",
       "      <th>Author</th>\n",
       "      <th>ISBN 13</th>\n",
       "      <th>ISBN</th>\n",
       "      <th>Number of Pages</th>\n",
       "      <th>Average Rating</th>\n",
       "      <th>Total Number of Ratings</th>\n",
       "      <th>Publication Date</th>\n",
       "      <th>Started Date</th>\n",
       "      <th>Ended Date</th>\n",
       "    </tr>\n",
       "  </thead>\n",
       "  <tbody>\n",
       "    <tr>\n",
       "      <th>0</th>\n",
       "      <td>Pride and Prejudice</td>\n",
       "      <td>Austen, Jane</td>\n",
       "      <td></td>\n",
       "      <td></td>\n",
       "      <td>279</td>\n",
       "      <td>4.27</td>\n",
       "      <td>3261579</td>\n",
       "      <td>Jan 28, 1813</td>\n",
       "      <td>not set</td>\n",
       "      <td>Jan 2019</td>\n",
       "    </tr>\n",
       "    <tr>\n",
       "      <th>1</th>\n",
       "      <td>Harry Potter and the Sorcerer's Stone (Harry P...</td>\n",
       "      <td>Rowling, J.K.</td>\n",
       "      <td></td>\n",
       "      <td></td>\n",
       "      <td>309</td>\n",
       "      <td>4.47</td>\n",
       "      <td>7680566</td>\n",
       "      <td>Jun 26, 1997</td>\n",
       "      <td>not set</td>\n",
       "      <td>May 2018</td>\n",
       "    </tr>\n",
       "    <tr>\n",
       "      <th>2</th>\n",
       "      <td>The Fellowship of the Ring (The Lord of the Ri...</td>\n",
       "      <td>Tolkien, J.R.R.</td>\n",
       "      <td>9780618346257</td>\n",
       "      <td>0618346252</td>\n",
       "      <td>398</td>\n",
       "      <td>4.37</td>\n",
       "      <td>2472181</td>\n",
       "      <td>Jul 29, 1954</td>\n",
       "      <td>not set</td>\n",
       "      <td>not set</td>\n",
       "    </tr>\n",
       "    <tr>\n",
       "      <th>3</th>\n",
       "      <td>Harry Potter and the Chamber of Secrets (Harry...</td>\n",
       "      <td>Rowling, J.K.</td>\n",
       "      <td>9780439064866</td>\n",
       "      <td>0439064864</td>\n",
       "      <td>341</td>\n",
       "      <td>4.43</td>\n",
       "      <td>2971800</td>\n",
       "      <td>Jul 02, 1998</td>\n",
       "      <td>not set</td>\n",
       "      <td>May 2018</td>\n",
       "    </tr>\n",
       "    <tr>\n",
       "      <th>4</th>\n",
       "      <td>Harry Potter and the Prisoner of Azkaban (Harr...</td>\n",
       "      <td>Rowling, J.K.</td>\n",
       "      <td>9780439655484</td>\n",
       "      <td>043965548X</td>\n",
       "      <td>435</td>\n",
       "      <td>4.57</td>\n",
       "      <td>3082225</td>\n",
       "      <td>Jul 08, 1999</td>\n",
       "      <td>not set</td>\n",
       "      <td>not set</td>\n",
       "    </tr>\n",
       "    <tr>\n",
       "      <th>...</th>\n",
       "      <td>...</td>\n",
       "      <td>...</td>\n",
       "      <td>...</td>\n",
       "      <td>...</td>\n",
       "      <td>...</td>\n",
       "      <td>...</td>\n",
       "      <td>...</td>\n",
       "      <td>...</td>\n",
       "      <td>...</td>\n",
       "      <td>...</td>\n",
       "    </tr>\n",
       "    <tr>\n",
       "      <th>396</th>\n",
       "      <td>Mostly Harmless (Hitchhiker's Guide to the Gal...</td>\n",
       "      <td>Adams, Douglas</td>\n",
       "      <td>9780345379337</td>\n",
       "      <td>0345379330</td>\n",
       "      <td>288</td>\n",
       "      <td>3.96</td>\n",
       "      <td>117899</td>\n",
       "      <td>Oct 12, 1992</td>\n",
       "      <td>not set</td>\n",
       "      <td>not set</td>\n",
       "    </tr>\n",
       "    <tr>\n",
       "      <th>397</th>\n",
       "      <td>The Stone Sky (The Broken Earth, #3)</td>\n",
       "      <td>Jemisin, N.K.</td>\n",
       "      <td></td>\n",
       "      <td></td>\n",
       "      <td>416</td>\n",
       "      <td>4.31</td>\n",
       "      <td>91594</td>\n",
       "      <td>Aug 15, 2017</td>\n",
       "      <td>not set</td>\n",
       "      <td>not set</td>\n",
       "    </tr>\n",
       "    <tr>\n",
       "      <th>398</th>\n",
       "      <td>The Fifth Season (The Broken Earth, #1)</td>\n",
       "      <td>Jemisin, N.K.</td>\n",
       "      <td></td>\n",
       "      <td></td>\n",
       "      <td>468</td>\n",
       "      <td>4.28</td>\n",
       "      <td>181413</td>\n",
       "      <td>Aug 04, 2015</td>\n",
       "      <td>Jun 19, 2021</td>\n",
       "      <td>Jun 26, 2021</td>\n",
       "    </tr>\n",
       "    <tr>\n",
       "      <th>399</th>\n",
       "      <td>The Obelisk Gate (The Broken Earth, #2)</td>\n",
       "      <td>Jemisin, N.K.</td>\n",
       "      <td></td>\n",
       "      <td></td>\n",
       "      <td>410</td>\n",
       "      <td>4.28</td>\n",
       "      <td>110331</td>\n",
       "      <td>Aug 16, 2016</td>\n",
       "      <td>Jun 26, 2021</td>\n",
       "      <td>not set</td>\n",
       "    </tr>\n",
       "    <tr>\n",
       "      <th>400</th>\n",
       "      <td>Realm Breaker (Realm Breaker, #1)</td>\n",
       "      <td>Aveyard, Victoria</td>\n",
       "      <td></td>\n",
       "      <td></td>\n",
       "      <td>576</td>\n",
       "      <td>3.8</td>\n",
       "      <td>4767</td>\n",
       "      <td>May 04, 2021</td>\n",
       "      <td>Jun 10, 2021</td>\n",
       "      <td>Jun 15, 2021</td>\n",
       "    </tr>\n",
       "  </tbody>\n",
       "</table>\n",
       "<p>401 rows × 10 columns</p>\n",
       "</div>"
      ],
      "text/plain": [
       "                                             Book Name             Author  \\\n",
       "0                                  Pride and Prejudice       Austen, Jane   \n",
       "1    Harry Potter and the Sorcerer's Stone (Harry P...      Rowling, J.K.   \n",
       "2    The Fellowship of the Ring (The Lord of the Ri...    Tolkien, J.R.R.   \n",
       "3    Harry Potter and the Chamber of Secrets (Harry...      Rowling, J.K.   \n",
       "4    Harry Potter and the Prisoner of Azkaban (Harr...      Rowling, J.K.   \n",
       "..                                                 ...                ...   \n",
       "396  Mostly Harmless (Hitchhiker's Guide to the Gal...     Adams, Douglas   \n",
       "397               The Stone Sky (The Broken Earth, #3)      Jemisin, N.K.   \n",
       "398            The Fifth Season (The Broken Earth, #1)      Jemisin, N.K.   \n",
       "399            The Obelisk Gate (The Broken Earth, #2)      Jemisin, N.K.   \n",
       "400                  Realm Breaker (Realm Breaker, #1)  Aveyard, Victoria   \n",
       "\n",
       "           ISBN 13        ISBN Number of Pages Average Rating  \\\n",
       "0                                          279           4.27   \n",
       "1                                          309           4.47   \n",
       "2    9780618346257  0618346252             398           4.37   \n",
       "3    9780439064866  0439064864             341           4.43   \n",
       "4    9780439655484  043965548X             435           4.57   \n",
       "..             ...         ...             ...            ...   \n",
       "396  9780345379337  0345379330             288           3.96   \n",
       "397                                        416           4.31   \n",
       "398                                        468           4.28   \n",
       "399                                        410           4.28   \n",
       "400                                        576            3.8   \n",
       "\n",
       "    Total Number of Ratings Publication Date  Started Date    Ended Date  \n",
       "0                   3261579     Jan 28, 1813       not set      Jan 2019  \n",
       "1                   7680566     Jun 26, 1997       not set      May 2018  \n",
       "2                   2472181     Jul 29, 1954       not set       not set  \n",
       "3                   2971800     Jul 02, 1998       not set      May 2018  \n",
       "4                   3082225     Jul 08, 1999       not set       not set  \n",
       "..                      ...              ...           ...           ...  \n",
       "396                  117899     Oct 12, 1992       not set       not set  \n",
       "397                   91594     Aug 15, 2017       not set       not set  \n",
       "398                  181413     Aug 04, 2015  Jun 19, 2021  Jun 26, 2021  \n",
       "399                  110331     Aug 16, 2016  Jun 26, 2021       not set  \n",
       "400                    4767     May 04, 2021  Jun 10, 2021  Jun 15, 2021  \n",
       "\n",
       "[401 rows x 10 columns]"
      ]
     },
     "execution_count": 44,
     "metadata": {},
     "output_type": "execute_result"
    }
   ],
   "source": [
    "book_df2"
   ]
  },
  {
   "cell_type": "code",
   "execution_count": 45,
   "metadata": {},
   "outputs": [],
   "source": [
    "book_df2.to_csv('book_details.csv', index = False)"
   ]
  },
  {
   "cell_type": "code",
   "execution_count": 46,
   "metadata": {},
   "outputs": [
    {
     "data": {
      "text/plain": [
       "Book Name                  0\n",
       "Author                     0\n",
       "ISBN 13                    0\n",
       "ISBN                       0\n",
       "Number of Pages            0\n",
       "Average Rating             0\n",
       "Total Number of Ratings    0\n",
       "Publication Date           0\n",
       "Started Date               0\n",
       "Ended Date                 0\n",
       "dtype: int64"
      ]
     },
     "execution_count": 46,
     "metadata": {},
     "output_type": "execute_result"
    }
   ],
   "source": [
    "book_df2.isnull().sum()"
   ]
  },
  {
   "cell_type": "code",
   "execution_count": 57,
   "metadata": {},
   "outputs": [
    {
     "data": {
      "text/html": [
       "<div>\n",
       "<style scoped>\n",
       "    .dataframe tbody tr th:only-of-type {\n",
       "        vertical-align: middle;\n",
       "    }\n",
       "\n",
       "    .dataframe tbody tr th {\n",
       "        vertical-align: top;\n",
       "    }\n",
       "\n",
       "    .dataframe thead th {\n",
       "        text-align: right;\n",
       "    }\n",
       "</style>\n",
       "<table border=\"1\" class=\"dataframe\">\n",
       "  <thead>\n",
       "    <tr style=\"text-align: right;\">\n",
       "      <th></th>\n",
       "      <th>Book Name</th>\n",
       "      <th>Author</th>\n",
       "      <th>ISBN 13</th>\n",
       "      <th>ISBN</th>\n",
       "      <th>Number of Pages</th>\n",
       "      <th>Average Rating</th>\n",
       "      <th>Total Number of Ratings</th>\n",
       "      <th>Publication Date</th>\n",
       "      <th>Started Date</th>\n",
       "      <th>Ended Date</th>\n",
       "    </tr>\n",
       "  </thead>\n",
       "  <tbody>\n",
       "    <tr>\n",
       "      <th>0</th>\n",
       "      <td>Pride and Prejudice</td>\n",
       "      <td>Austen, Jane</td>\n",
       "      <td></td>\n",
       "      <td></td>\n",
       "      <td>279</td>\n",
       "      <td>4.27</td>\n",
       "      <td>3261579</td>\n",
       "      <td>Jan 28, 1813</td>\n",
       "      <td>not set</td>\n",
       "      <td>Jan 2019</td>\n",
       "    </tr>\n",
       "    <tr>\n",
       "      <th>1</th>\n",
       "      <td>Harry Potter and the Sorcerer's Stone (Harry P...</td>\n",
       "      <td>Rowling, J.K.</td>\n",
       "      <td></td>\n",
       "      <td></td>\n",
       "      <td>309</td>\n",
       "      <td>4.47</td>\n",
       "      <td>7680566</td>\n",
       "      <td>Jun 26, 1997</td>\n",
       "      <td>not set</td>\n",
       "      <td>May 2018</td>\n",
       "    </tr>\n",
       "    <tr>\n",
       "      <th>5</th>\n",
       "      <td>The Battle of the Labyrinth (Percy Jackson and...</td>\n",
       "      <td>Riordan, Rick</td>\n",
       "      <td></td>\n",
       "      <td></td>\n",
       "      <td>361</td>\n",
       "      <td>4.39</td>\n",
       "      <td>813295</td>\n",
       "      <td>Mar 06, 2008</td>\n",
       "      <td>not set</td>\n",
       "      <td>not set</td>\n",
       "    </tr>\n",
       "    <tr>\n",
       "      <th>7</th>\n",
       "      <td>Alice's Adventures in Wonderland (Alice's Adve...</td>\n",
       "      <td>Carroll, Lewis</td>\n",
       "      <td></td>\n",
       "      <td></td>\n",
       "      <td>96</td>\n",
       "      <td>3.98</td>\n",
       "      <td>289682</td>\n",
       "      <td>1862</td>\n",
       "      <td>not set</td>\n",
       "      <td>not set</td>\n",
       "    </tr>\n",
       "    <tr>\n",
       "      <th>8</th>\n",
       "      <td>Harry Potter and the Order of the Phoenix (Har...</td>\n",
       "      <td>Rowling, J.K.</td>\n",
       "      <td></td>\n",
       "      <td></td>\n",
       "      <td>870</td>\n",
       "      <td>4.5</td>\n",
       "      <td>2707599</td>\n",
       "      <td>Jun 21, 2003</td>\n",
       "      <td>not set</td>\n",
       "      <td>not set</td>\n",
       "    </tr>\n",
       "    <tr>\n",
       "      <th>...</th>\n",
       "      <td>...</td>\n",
       "      <td>...</td>\n",
       "      <td>...</td>\n",
       "      <td>...</td>\n",
       "      <td>...</td>\n",
       "      <td>...</td>\n",
       "      <td>...</td>\n",
       "      <td>...</td>\n",
       "      <td>...</td>\n",
       "      <td>...</td>\n",
       "    </tr>\n",
       "    <tr>\n",
       "      <th>395</th>\n",
       "      <td>So Long, and Thanks for All the Fish (The Hitc...</td>\n",
       "      <td>Adams, Douglas</td>\n",
       "      <td></td>\n",
       "      <td></td>\n",
       "      <td>225</td>\n",
       "      <td>4.09</td>\n",
       "      <td>150961</td>\n",
       "      <td>Oct 12, 1984</td>\n",
       "      <td>not set</td>\n",
       "      <td>not set</td>\n",
       "    </tr>\n",
       "    <tr>\n",
       "      <th>397</th>\n",
       "      <td>The Stone Sky (The Broken Earth, #3)</td>\n",
       "      <td>Jemisin, N.K.</td>\n",
       "      <td></td>\n",
       "      <td></td>\n",
       "      <td>416</td>\n",
       "      <td>4.31</td>\n",
       "      <td>91594</td>\n",
       "      <td>Aug 15, 2017</td>\n",
       "      <td>not set</td>\n",
       "      <td>not set</td>\n",
       "    </tr>\n",
       "    <tr>\n",
       "      <th>398</th>\n",
       "      <td>The Fifth Season (The Broken Earth, #1)</td>\n",
       "      <td>Jemisin, N.K.</td>\n",
       "      <td></td>\n",
       "      <td></td>\n",
       "      <td>468</td>\n",
       "      <td>4.28</td>\n",
       "      <td>181413</td>\n",
       "      <td>Aug 04, 2015</td>\n",
       "      <td>Jun 19, 2021</td>\n",
       "      <td>Jun 26, 2021</td>\n",
       "    </tr>\n",
       "    <tr>\n",
       "      <th>399</th>\n",
       "      <td>The Obelisk Gate (The Broken Earth, #2)</td>\n",
       "      <td>Jemisin, N.K.</td>\n",
       "      <td></td>\n",
       "      <td></td>\n",
       "      <td>410</td>\n",
       "      <td>4.28</td>\n",
       "      <td>110331</td>\n",
       "      <td>Aug 16, 2016</td>\n",
       "      <td>Jun 26, 2021</td>\n",
       "      <td>not set</td>\n",
       "    </tr>\n",
       "    <tr>\n",
       "      <th>400</th>\n",
       "      <td>Realm Breaker (Realm Breaker, #1)</td>\n",
       "      <td>Aveyard, Victoria</td>\n",
       "      <td></td>\n",
       "      <td></td>\n",
       "      <td>576</td>\n",
       "      <td>3.8</td>\n",
       "      <td>4767</td>\n",
       "      <td>May 04, 2021</td>\n",
       "      <td>Jun 10, 2021</td>\n",
       "      <td>Jun 15, 2021</td>\n",
       "    </tr>\n",
       "  </tbody>\n",
       "</table>\n",
       "<p>102 rows × 10 columns</p>\n",
       "</div>"
      ],
      "text/plain": [
       "                                             Book Name             Author  \\\n",
       "0                                  Pride and Prejudice       Austen, Jane   \n",
       "1    Harry Potter and the Sorcerer's Stone (Harry P...      Rowling, J.K.   \n",
       "5    The Battle of the Labyrinth (Percy Jackson and...      Riordan, Rick   \n",
       "7    Alice's Adventures in Wonderland (Alice's Adve...     Carroll, Lewis   \n",
       "8    Harry Potter and the Order of the Phoenix (Har...      Rowling, J.K.   \n",
       "..                                                 ...                ...   \n",
       "395  So Long, and Thanks for All the Fish (The Hitc...     Adams, Douglas   \n",
       "397               The Stone Sky (The Broken Earth, #3)      Jemisin, N.K.   \n",
       "398            The Fifth Season (The Broken Earth, #1)      Jemisin, N.K.   \n",
       "399            The Obelisk Gate (The Broken Earth, #2)      Jemisin, N.K.   \n",
       "400                  Realm Breaker (Realm Breaker, #1)  Aveyard, Victoria   \n",
       "\n",
       "    ISBN 13 ISBN Number of Pages Average Rating Total Number of Ratings  \\\n",
       "0                            279           4.27                 3261579   \n",
       "1                            309           4.47                 7680566   \n",
       "5                            361           4.39                  813295   \n",
       "7                             96           3.98                  289682   \n",
       "8                            870            4.5                 2707599   \n",
       "..      ...  ...             ...            ...                     ...   \n",
       "395                          225           4.09                  150961   \n",
       "397                          416           4.31                   91594   \n",
       "398                          468           4.28                  181413   \n",
       "399                          410           4.28                  110331   \n",
       "400                          576            3.8                    4767   \n",
       "\n",
       "    Publication Date  Started Date    Ended Date  \n",
       "0       Jan 28, 1813       not set      Jan 2019  \n",
       "1       Jun 26, 1997       not set      May 2018  \n",
       "5       Mar 06, 2008       not set       not set  \n",
       "7               1862       not set       not set  \n",
       "8       Jun 21, 2003       not set       not set  \n",
       "..               ...           ...           ...  \n",
       "395     Oct 12, 1984       not set       not set  \n",
       "397     Aug 15, 2017       not set       not set  \n",
       "398     Aug 04, 2015  Jun 19, 2021  Jun 26, 2021  \n",
       "399     Aug 16, 2016  Jun 26, 2021       not set  \n",
       "400     May 04, 2021  Jun 10, 2021  Jun 15, 2021  \n",
       "\n",
       "[102 rows x 10 columns]"
      ]
     },
     "execution_count": 57,
     "metadata": {},
     "output_type": "execute_result"
    }
   ],
   "source": [
    "book_df2[(book_df2['ISBN'] == '') & (book_df2['ISBN 13'] == '')]"
   ]
  },
  {
   "cell_type": "code",
   "execution_count": 63,
   "metadata": {},
   "outputs": [
    {
     "data": {
      "text/plain": [
       "'Sanderson, Brandon'"
      ]
     },
     "execution_count": 63,
     "metadata": {},
     "output_type": "execute_result"
    }
   ],
   "source": [
    "book_df2.groupby('Author').count()['ISBN'].idxmax()"
   ]
  },
  {
   "cell_type": "code",
   "execution_count": null,
   "metadata": {},
   "outputs": [],
   "source": []
  }
 ],
 "metadata": {
  "kernelspec": {
   "display_name": "Python 3",
   "language": "python",
   "name": "python3"
  },
  "language_info": {
   "codemirror_mode": {
    "name": "ipython",
    "version": 3
   },
   "file_extension": ".py",
   "mimetype": "text/x-python",
   "name": "python",
   "nbconvert_exporter": "python",
   "pygments_lexer": "ipython3",
   "version": "3.8.5"
  }
 },
 "nbformat": 4,
 "nbformat_minor": 4
}
