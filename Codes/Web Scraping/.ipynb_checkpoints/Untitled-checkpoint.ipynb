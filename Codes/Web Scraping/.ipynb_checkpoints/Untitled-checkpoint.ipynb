{
 "cells": [
  {
   "cell_type": "code",
   "execution_count": 3,
   "metadata": {},
   "outputs": [],
   "source": [
    "import pandas as pd\n",
    "import numpy as np\n",
    "import requests\n",
    "import bs4"
   ]
  },
  {
   "cell_type": "code",
   "execution_count": 135,
   "metadata": {},
   "outputs": [],
   "source": [
    "import requests\n",
    "import bs4\n",
    "link = 'https://www.google.com/search?q=define+okay'\n",
    "code = requests.get(link)\n",
    "soup = bs4.BeautifulSoup(code.text, \"lxml\")"
   ]
  },
  {
   "cell_type": "code",
   "execution_count": 136,
   "metadata": {},
   "outputs": [
    {
     "data": {
      "text/plain": [
       "<!DOCTYPE html PUBLIC \"-//W3C//DTD HTML 4.01 Transitional//EN\">\n",
       "<html>\n",
       "<head><meta content=\"text/html; charset=utf-8\" http-equiv=\"content-type\"/><meta content=\"initial-scale=1\" name=\"viewport\"/><title>https://www.google.com/search?q=define+okay</title></head>\n",
       "<body onload=\"e=document.getElementById('captcha');if(e){e.focus();}\" style=\"font-family: arial, sans-serif; background-color: #fff; color: #000; padding:20px; font-size:18px;\">\n",
       "<div style=\"max-width:400px;\">\n",
       "<hr noshade=\"\" size=\"1\" style=\"color:#ccc; background-color:#ccc;\"/><br/>\n",
       "<form action=\"index\" id=\"captcha-form\" method=\"post\">\n",
       "<script async=\"\" defer=\"\" src=\"https://www.google.com/recaptcha/api.js\"></script>\n",
       "<script>var submitCallback = function(response) {document.getElementById('captcha-form').submit();};</script>\n",
       "<div class=\"g-recaptcha\" data-callback=\"submitCallback\" data-s=\"r0NkvVeBGwgHmZwJ6wJ0VzaEDv6scJteVmBD-HoXpwzRg0twa1vB3tIUYRhGFrvSQeYJvJgH-9HGej6tt-u0EV8mYXjv3onJjb7QWb0eHrUZ1yUrUe2zcQ2R0Kuaw1bohlOmGa04ADJ2XNWQ3LQf3SStSewB65zppLGCAA3rkM5AJuEwb5Z3wjlZNLinYddcdikjIu6NJi81h3YPbd-xpPSmo34In7IbYjynitY\" data-sitekey=\"6LfwuyUTAAAAAOAmoS0fdqijC2PbbdH4kjq62Y1b\" id=\"recaptcha\"></div>\n",
       "<input name=\"q\" type=\"hidden\" value=\"EgTLUfD5GJmY1IcGIhCmTxYFHFh3WnwRBNiPqDBdMgFy\"/><input name=\"continue\" type=\"hidden\" value=\"https://www.google.com/search?q=define+okay\"/>\n",
       "</form>\n",
       "<hr noshade=\"\" size=\"1\" style=\"color:#ccc; background-color:#ccc;\"/>\n",
       "<div style=\"font-size:13px;\">\n",
       "<b>About this page</b><br/><br/>\n",
       "\n",
       "Our systems have detected unusual traffic from your computer network.  This page checks to see if it's really you sending the requests, and not a robot.  <a href=\"#\" onclick=\"document.getElementById('infoDiv').style.display='block';\">Why did this happen?</a><br/><br/>\n",
       "<div id=\"infoDiv\" style=\"display:none; background-color:#eee; padding:10px; margin:0 0 15px 0; line-height:1.4em;\">\n",
       "This page appears when Google automatically detects requests coming from your computer network which appear to be in violation of the <a href=\"//www.google.com/policies/terms/\">Terms of Service</a>. The block will expire shortly after those requests stop.  In the meantime, solving the above CAPTCHA will let you continue to use our services.<br/><br/>This traffic may have been sent by malicious software, a browser plug-in, or a script that sends automated requests.  If you share your network connection, ask your administrator for help — a different computer using the same IP address may be responsible.  <a href=\"//support.google.com/websearch/answer/86640\">Learn more</a><br/><br/>Sometimes you may be asked to solve the CAPTCHA if you are using advanced terms that robots are known to use, or sending requests very quickly.\n",
       "</div>\n",
       "\n",
       "IP address: 203.81.240.249<br/>Time: 2021-07-19T05:22:34Z<br/>URL: https://www.google.com/search?q=define+okay<br/>\n",
       "</div>\n",
       "</div>\n",
       "</body>\n",
       "</html>"
      ]
     },
     "execution_count": 136,
     "metadata": {},
     "output_type": "execute_result"
    }
   ],
   "source": [
    "soup"
   ]
  },
  {
   "cell_type": "code",
   "execution_count": 105,
   "metadata": {},
   "outputs": [],
   "source": [
    "text = ''\n",
    "required = []\n",
    "for item in soup.select('.BNeawe')[3:]:\n",
    "    if item.text == 'People also ask':\n",
    "        break\n",
    "    else:\n",
    "        required.append(item.text)\n",
    "        text += item.text\n",
    "#         print(item.text)"
   ]
  },
  {
   "cell_type": "code",
   "execution_count": 106,
   "metadata": {},
   "outputs": [],
   "source": [
    "meanings = []\n",
    "for i in range(len(required)):\n",
    "    try:\n",
    "        if required[i] == '':\n",
    "            meanings.append(required[i+2])\n",
    "    except:\n",
    "        pass"
   ]
  },
  {
   "cell_type": "code",
   "execution_count": 107,
   "metadata": {},
   "outputs": [
    {
     "data": {
      "text/plain": [
       "4"
      ]
     },
     "execution_count": 107,
     "metadata": {},
     "output_type": "execute_result"
    }
   ],
   "source": [
    "required.index('')"
   ]
  },
  {
   "cell_type": "code",
   "execution_count": 108,
   "metadata": {},
   "outputs": [
    {
     "data": {
      "text/plain": [
       "'satisfactory but not especially good.'"
      ]
     },
     "execution_count": 108,
     "metadata": {},
     "output_type": "execute_result"
    }
   ],
   "source": [
    "required[6]"
   ]
  },
  {
   "cell_type": "code",
   "execution_count": 109,
   "metadata": {},
   "outputs": [
    {
     "data": {
      "text/plain": [
       "['satisfactory but not especially good.',\n",
       " 'in a satisfactory manner or to a satisfactory extent.',\n",
       " 'an authorization or approval.',\n",
       " 'give approval to.']"
      ]
     },
     "execution_count": 109,
     "metadata": {},
     "output_type": "execute_result"
    }
   ],
   "source": [
    "meanings"
   ]
  },
  {
   "cell_type": "code",
   "execution_count": 84,
   "metadata": {},
   "outputs": [
    {
     "data": {
      "text/plain": [
       "'used to express agreement or acceptance.'"
      ]
     },
     "execution_count": 84,
     "metadata": {},
     "output_type": "execute_result"
    }
   ],
   "source": [
    "required[1]"
   ]
  },
  {
   "cell_type": "code",
   "execution_count": 86,
   "metadata": {},
   "outputs": [
    {
     "data": {
      "text/plain": [
       "'synonyms: all right, right, right then, right you are, very well, yes, very good, fine, agreed, achcha, oke, okey-dokey, okey-doke, roger, righto, righty-ho'"
      ]
     },
     "execution_count": 86,
     "metadata": {},
     "output_type": "execute_result"
    }
   ],
   "source": [
    "required[3]"
   ]
  },
  {
   "cell_type": "code",
   "execution_count": 111,
   "metadata": {},
   "outputs": [],
   "source": [
    "for i in range(len(meanings)):\n",
    "    meaning_i = meanings[i]"
   ]
  },
  {
   "cell_type": "code",
   "execution_count": 9,
   "metadata": {},
   "outputs": [],
   "source": [
    "def get_meaning_two(word):\n",
    "    \n",
    "    link = f'https://www.google.com/search?q=define+{word}'\n",
    "    code = requests.get(link)\n",
    "    soup = bs4.BeautifulSoup(code.text, \"lxml\")\n",
    "\n",
    "    required = []\n",
    "    for item in soup.select('.BNeawe')[3:]:\n",
    "        if item.text == 'People also ask':\n",
    "            break\n",
    "        else:\n",
    "            required.append(item.text)\n",
    "            \n",
    "    meanings = []\n",
    "    for i in range(len(required)):\n",
    "        try:\n",
    "            if required[i] == '':\n",
    "                meanings.append(required[i+2])\n",
    "        except:\n",
    "            pass\n",
    "\n",
    "    try:\n",
    "        meaning1= meanings[0]\n",
    "        meaning2= meanings[1]\n",
    "        meaning3= meanings[2]\n",
    "        meaning4= meanings[3]\n",
    "        meaning5= meanings[4]\n",
    "    except:\n",
    "        pass\n",
    "\n",
    "    try:\n",
    "        syn = required[3]\n",
    "        synonyms = syn.split('synonyms: ')[1]\n",
    "    except:\n",
    "        synonyms = np.nan\n",
    "        \n",
    "    try:\n",
    "        first.append(meaning1)\n",
    "    except:\n",
    "        first.append(np.nan)\n",
    "        \n",
    "    try:\n",
    "        second.append(meaning2)\n",
    "    except:\n",
    "        second.append(np.nan)\n",
    "\n",
    "    try:\n",
    "        third.append(meaning3)\n",
    "    except:\n",
    "        third.append(np.nan)\n",
    "\n",
    "    try:\n",
    "        fourth.append(meaning4)\n",
    "    except:\n",
    "        fourth.append(np.nan)\n",
    "\n",
    "    try:\n",
    "        fifth.append(meaning5)\n",
    "    except:\n",
    "        fifth.append(np.nan)\n",
    "\n",
    "\n",
    "    synonyms_list.append(synonyms)"
   ]
  },
  {
   "cell_type": "code",
   "execution_count": 10,
   "metadata": {},
   "outputs": [],
   "source": [
    "words = ['okay', 'delicate', 'require', 'exquisite']\n",
    "first = []\n",
    "second = []\n",
    "third = []\n",
    "fourth = []\n",
    "fifth = []\n",
    "synonyms_list = []\n",
    "for word in words: \n",
    "    get_meaning_two(word)"
   ]
  },
  {
   "cell_type": "code",
   "execution_count": 11,
   "metadata": {},
   "outputs": [],
   "source": [
    "df = pd.DataFrame(data=[words, first, second, third, fourth, fifth, synonyms_list], index='Word, First, Second, Third, Fourth, Fifth, Synonyms'.split(', ')).transpose()"
   ]
  },
  {
   "cell_type": "code",
   "execution_count": 12,
   "metadata": {},
   "outputs": [
    {
     "data": {
      "text/html": [
       "<div>\n",
       "<style scoped>\n",
       "    .dataframe tbody tr th:only-of-type {\n",
       "        vertical-align: middle;\n",
       "    }\n",
       "\n",
       "    .dataframe tbody tr th {\n",
       "        vertical-align: top;\n",
       "    }\n",
       "\n",
       "    .dataframe thead th {\n",
       "        text-align: right;\n",
       "    }\n",
       "</style>\n",
       "<table border=\"1\" class=\"dataframe\">\n",
       "  <thead>\n",
       "    <tr style=\"text-align: right;\">\n",
       "      <th></th>\n",
       "      <th>Word</th>\n",
       "      <th>First</th>\n",
       "      <th>Second</th>\n",
       "      <th>Third</th>\n",
       "      <th>Fourth</th>\n",
       "      <th>Fifth</th>\n",
       "      <th>Synonyms</th>\n",
       "    </tr>\n",
       "  </thead>\n",
       "  <tbody>\n",
       "    <tr>\n",
       "      <th>0</th>\n",
       "      <td>okay</td>\n",
       "      <td>satisfactory but not especially good.</td>\n",
       "      <td>in a satisfactory manner or to a satisfactory ...</td>\n",
       "      <td>an authorization or approval.</td>\n",
       "      <td>give approval to.</td>\n",
       "      <td>NaN</td>\n",
       "      <td>all right, right, right then, right you are, v...</td>\n",
       "    </tr>\n",
       "    <tr>\n",
       "      <th>1</th>\n",
       "      <td>delicate</td>\n",
       "      <td>a delicate fabric or garment.</td>\n",
       "      <td>NaN</td>\n",
       "      <td>NaN</td>\n",
       "      <td>NaN</td>\n",
       "      <td>NaN</td>\n",
       "      <td>fine, exquisite, intricate, dainty, airy, eleg...</td>\n",
       "    </tr>\n",
       "    <tr>\n",
       "      <th>2</th>\n",
       "      <td>require</td>\n",
       "      <td>NaN</td>\n",
       "      <td>NaN</td>\n",
       "      <td>NaN</td>\n",
       "      <td>NaN</td>\n",
       "      <td>NaN</td>\n",
       "      <td>need, be in need of, stand in need of, have ne...</td>\n",
       "    </tr>\n",
       "    <tr>\n",
       "      <th>3</th>\n",
       "      <td>exquisite</td>\n",
       "      <td>a man who is affectedly concerned with his clo...</td>\n",
       "      <td>NaN</td>\n",
       "      <td>NaN</td>\n",
       "      <td>NaN</td>\n",
       "      <td>NaN</td>\n",
       "      <td>beautiful, lovely, elegant, graceful, magnific...</td>\n",
       "    </tr>\n",
       "  </tbody>\n",
       "</table>\n",
       "</div>"
      ],
      "text/plain": [
       "        Word                                              First  \\\n",
       "0       okay              satisfactory but not especially good.   \n",
       "1   delicate                      a delicate fabric or garment.   \n",
       "2    require                                                NaN   \n",
       "3  exquisite  a man who is affectedly concerned with his clo...   \n",
       "\n",
       "                                              Second  \\\n",
       "0  in a satisfactory manner or to a satisfactory ...   \n",
       "1                                                NaN   \n",
       "2                                                NaN   \n",
       "3                                                NaN   \n",
       "\n",
       "                           Third             Fourth Fifth  \\\n",
       "0  an authorization or approval.  give approval to.   NaN   \n",
       "1                            NaN                NaN   NaN   \n",
       "2                            NaN                NaN   NaN   \n",
       "3                            NaN                NaN   NaN   \n",
       "\n",
       "                                            Synonyms  \n",
       "0  all right, right, right then, right you are, v...  \n",
       "1  fine, exquisite, intricate, dainty, airy, eleg...  \n",
       "2  need, be in need of, stand in need of, have ne...  \n",
       "3  beautiful, lovely, elegant, graceful, magnific...  "
      ]
     },
     "execution_count": 12,
     "metadata": {},
     "output_type": "execute_result"
    }
   ],
   "source": [
    "df"
   ]
  },
  {
   "cell_type": "code",
   "execution_count": 15,
   "metadata": {},
   "outputs": [],
   "source": [
    "first = []\n",
    "second = []\n",
    "third = []\n",
    "fourth = []\n",
    "fifth = []\n",
    "synonyms_list = []\n",
    "get_meaning_two('lucent')"
   ]
  },
  {
   "cell_type": "code",
   "execution_count": 18,
   "metadata": {},
   "outputs": [
    {
     "ename": "NameError",
     "evalue": "name 'soup' is not defined",
     "output_type": "error",
     "traceback": [
      "\u001b[1;31m---------------------------------------------------------------------------\u001b[0m",
      "\u001b[1;31mNameError\u001b[0m                                 Traceback (most recent call last)",
      "\u001b[1;32m<ipython-input-18-468935a8f34d>\u001b[0m in \u001b[0;36m<module>\u001b[1;34m\u001b[0m\n\u001b[1;32m----> 1\u001b[1;33m \u001b[0msoup\u001b[0m\u001b[1;33m\u001b[0m\u001b[1;33m\u001b[0m\u001b[0m\n\u001b[0m",
      "\u001b[1;31mNameError\u001b[0m: name 'soup' is not defined"
     ]
    }
   ],
   "source": [
    "soup"
   ]
  },
  {
   "cell_type": "code",
   "execution_count": 17,
   "metadata": {},
   "outputs": [
    {
     "data": {
      "text/plain": [
       "[nan]"
      ]
     },
     "execution_count": 17,
     "metadata": {},
     "output_type": "execute_result"
    }
   ],
   "source": [
    "first"
   ]
  },
  {
   "cell_type": "code",
   "execution_count": null,
   "metadata": {},
   "outputs": [],
   "source": []
  },
  {
   "cell_type": "code",
   "execution_count": 132,
   "metadata": {},
   "outputs": [],
   "source": [
    "first = []\n",
    "second = []\n",
    "third = []\n",
    "fourth = []\n",
    "fifth = []\n",
    "synonyms_list = []\n",
    "word = 'okay'\n",
    "link = f'https://www.google.com/search?q=define+{word}'\n",
    "code = requests.get(link)\n",
    "soup = bs4.BeautifulSoup(code.text, \"lxml\")\n",
    "\n",
    "required = []\n",
    "for item in soup.select('.BNeawe')[3:]:\n",
    "    if item.text == 'People also ask':\n",
    "        break\n",
    "    else:\n",
    "        required.append(item.text)\n",
    "\n",
    "meanings = []\n",
    "for i in range(len(required)):\n",
    "    try:\n",
    "        if required[i] == '':\n",
    "            meanings.append(required[i+2])\n",
    "    except:\n",
    "        pass\n",
    "\n",
    "try:\n",
    "    meaning1= meanings[0]\n",
    "    meaning2= meanings[1]\n",
    "    meaning3= meanings[2]\n",
    "    meaning4= meanings[3]\n",
    "    meaning5= meanings[4]\n",
    "except:\n",
    "    pass\n",
    "\n",
    "try:\n",
    "    syn = required[3]\n",
    "    synonyms = syn.split('synonyms: ')[1]\n",
    "except:\n",
    "    synonyms = np.nan\n",
    "\n",
    "try:\n",
    "    second.append(meaning2)\n",
    "except:\n",
    "    second.append(np.nan)\n",
    "\n",
    "try:\n",
    "    third.append(meaning3)\n",
    "except:\n",
    "    third.append(np.nan)\n",
    "\n",
    "try:\n",
    "    fourth.append(meaning4)\n",
    "except:\n",
    "    fourth.append(np.nan)\n",
    "\n",
    "try:\n",
    "    fifth.append(meaning5)\n",
    "except:\n",
    "    fifth.append(np.nan)\n",
    "\n",
    "\n",
    "synonyms_list.append(synonyms)"
   ]
  },
  {
   "cell_type": "code",
   "execution_count": 134,
   "metadata": {},
   "outputs": [
    {
     "data": {
      "text/plain": [
       "<!DOCTYPE html PUBLIC \"-//W3C//DTD HTML 4.01 Transitional//EN\">\n",
       "<html>\n",
       "<head><meta content=\"text/html; charset=utf-8\" http-equiv=\"content-type\"/><meta content=\"initial-scale=1\" name=\"viewport\"/><title>https://www.google.com/search?q=define+okay</title></head>\n",
       "<body onload=\"e=document.getElementById('captcha');if(e){e.focus();}\" style=\"font-family: arial, sans-serif; background-color: #fff; color: #000; padding:20px; font-size:18px;\">\n",
       "<div style=\"max-width:400px;\">\n",
       "<hr noshade=\"\" size=\"1\" style=\"color:#ccc; background-color:#ccc;\"/><br/>\n",
       "<form action=\"index\" id=\"captcha-form\" method=\"post\">\n",
       "<script async=\"\" defer=\"\" src=\"https://www.google.com/recaptcha/api.js\"></script>\n",
       "<script>var submitCallback = function(response) {document.getElementById('captcha-form').submit();};</script>\n",
       "<div class=\"g-recaptcha\" data-callback=\"submitCallback\" data-s=\"j_ZXvlvKS-1bBKH3EnHFUyfqtfk4Ppzb5xkDVm9zZSG6uzTkLiqiL2LZrsawHjb-61eOsn9mnIrLlHkzDT4ahurL9XJvjRvuslPX88rjpz0PHsMrVpEwm0k_dek4OwN6ZpYl-BkBG5Ysmcm-kq7qzwJFOqU8C3lXgAhZWuX-v1KSdGJfTV62lEE1AUygCK9bCKGOCbTn48K4YyLvfDtu59udxG8JCd0PxPeZL0s\" data-sitekey=\"6LfwuyUTAAAAAOAmoS0fdqijC2PbbdH4kjq62Y1b\" id=\"recaptcha\"></div>\n",
       "<input name=\"q\" type=\"hidden\" value=\"EgSLOwISGP2X1IcGIhDCmI5x_jQDFi_le32QRfT9MgFy\"/><input name=\"continue\" type=\"hidden\" value=\"https://www.google.com/search?q=define+okay\"/>\n",
       "</form>\n",
       "<hr noshade=\"\" size=\"1\" style=\"color:#ccc; background-color:#ccc;\"/>\n",
       "<div style=\"font-size:13px;\">\n",
       "<b>About this page</b><br/><br/>\n",
       "\n",
       "Our systems have detected unusual traffic from your computer network.  This page checks to see if it's really you sending the requests, and not a robot.  <a href=\"#\" onclick=\"document.getElementById('infoDiv').style.display='block';\">Why did this happen?</a><br/><br/>\n",
       "<div id=\"infoDiv\" style=\"display:none; background-color:#eee; padding:10px; margin:0 0 15px 0; line-height:1.4em;\">\n",
       "This page appears when Google automatically detects requests coming from your computer network which appear to be in violation of the <a href=\"//www.google.com/policies/terms/\">Terms of Service</a>. The block will expire shortly after those requests stop.  In the meantime, solving the above CAPTCHA will let you continue to use our services.<br/><br/>This traffic may have been sent by malicious software, a browser plug-in, or a script that sends automated requests.  If you share your network connection, ask your administrator for help — a different computer using the same IP address may be responsible.  <a href=\"//support.google.com/websearch/answer/86640\">Learn more</a><br/><br/>Sometimes you may be asked to solve the CAPTCHA if you are using advanced terms that robots are known to use, or sending requests very quickly.\n",
       "</div>\n",
       "\n",
       "IP address: 139.59.2.18<br/>Time: 2021-07-19T05:22:06Z<br/>URL: https://www.google.com/search?q=define+okay<br/>\n",
       "</div>\n",
       "</div>\n",
       "</body>\n",
       "</html>"
      ]
     },
     "execution_count": 134,
     "metadata": {},
     "output_type": "execute_result"
    }
   ],
   "source": [
    "soup"
   ]
  },
  {
   "cell_type": "code",
   "execution_count": 133,
   "metadata": {},
   "outputs": [
    {
     "data": {
      "text/plain": [
       "[]"
      ]
     },
     "execution_count": 133,
     "metadata": {},
     "output_type": "execute_result"
    }
   ],
   "source": [
    "first"
   ]
  },
  {
   "cell_type": "code",
   "execution_count": 126,
   "metadata": {},
   "outputs": [],
   "source": [
    "word = []\n",
    "first = []\n",
    "second = []\n",
    "third = []\n",
    "fourth = []\n",
    "fifth = []\n",
    "synonyms_list = []\n",
    "\n",
    "words = ['delicate', 'exquisite', 'equip']\n",
    "for word in words:\n",
    "    get_meaning_two(word)\n",
    "    \n",
    "df = pd.DataFrame(data=[words, first, second, third, fourth, fifth, synonyms_list], index='Word, First, Second, Third, Fourth, Fifth, Synonyms'.split(', ')).transpose()"
   ]
  },
  {
   "cell_type": "code",
   "execution_count": 127,
   "metadata": {},
   "outputs": [
    {
     "data": {
      "text/html": [
       "<div>\n",
       "<style scoped>\n",
       "    .dataframe tbody tr th:only-of-type {\n",
       "        vertical-align: middle;\n",
       "    }\n",
       "\n",
       "    .dataframe tbody tr th {\n",
       "        vertical-align: top;\n",
       "    }\n",
       "\n",
       "    .dataframe thead th {\n",
       "        text-align: right;\n",
       "    }\n",
       "</style>\n",
       "<table border=\"1\" class=\"dataframe\">\n",
       "  <thead>\n",
       "    <tr style=\"text-align: right;\">\n",
       "      <th></th>\n",
       "      <th>Word</th>\n",
       "      <th>First</th>\n",
       "      <th>Second</th>\n",
       "      <th>Third</th>\n",
       "      <th>Fourth</th>\n",
       "      <th>Fifth</th>\n",
       "      <th>Synonyms</th>\n",
       "    </tr>\n",
       "  </thead>\n",
       "  <tbody>\n",
       "    <tr>\n",
       "      <th>0</th>\n",
       "      <td>delicate</td>\n",
       "      <td>None</td>\n",
       "      <td>NaN</td>\n",
       "      <td>NaN</td>\n",
       "      <td>NaN</td>\n",
       "      <td>NaN</td>\n",
       "      <td>NaN</td>\n",
       "    </tr>\n",
       "    <tr>\n",
       "      <th>1</th>\n",
       "      <td>exquisite</td>\n",
       "      <td>None</td>\n",
       "      <td>NaN</td>\n",
       "      <td>NaN</td>\n",
       "      <td>NaN</td>\n",
       "      <td>NaN</td>\n",
       "      <td>NaN</td>\n",
       "    </tr>\n",
       "    <tr>\n",
       "      <th>2</th>\n",
       "      <td>equip</td>\n",
       "      <td>None</td>\n",
       "      <td>NaN</td>\n",
       "      <td>NaN</td>\n",
       "      <td>NaN</td>\n",
       "      <td>NaN</td>\n",
       "      <td>NaN</td>\n",
       "    </tr>\n",
       "  </tbody>\n",
       "</table>\n",
       "</div>"
      ],
      "text/plain": [
       "        Word First Second Third Fourth Fifth Synonyms\n",
       "0   delicate  None    NaN   NaN    NaN   NaN      NaN\n",
       "1  exquisite  None    NaN   NaN    NaN   NaN      NaN\n",
       "2      equip  None    NaN   NaN    NaN   NaN      NaN"
      ]
     },
     "execution_count": 127,
     "metadata": {},
     "output_type": "execute_result"
    }
   ],
   "source": [
    "df"
   ]
  },
  {
   "cell_type": "code",
   "execution_count": 121,
   "metadata": {},
   "outputs": [
    {
     "data": {
      "text/plain": [
       "[nan]"
      ]
     },
     "execution_count": 121,
     "metadata": {},
     "output_type": "execute_result"
    }
   ],
   "source": [
    "fifth"
   ]
  },
  {
   "cell_type": "code",
   "execution_count": 124,
   "metadata": {},
   "outputs": [
    {
     "data": {
      "text/plain": [
       "['all right, right, right then, right you are, very well, yes, very good, fine, agreed, achcha, oke, okey-dokey, okey-doke, roger, righto, righty-ho']"
      ]
     },
     "execution_count": 124,
     "metadata": {},
     "output_type": "execute_result"
    }
   ],
   "source": [
    "synonyms_list"
   ]
  },
  {
   "cell_type": "code",
   "execution_count": 55,
   "metadata": {},
   "outputs": [
    {
     "name": "stdout",
     "output_type": "stream",
     "text": [
      "used to express agreement or acceptance.\n",
      "\n",
      "\n",
      "synonyms: all right, right, right then, right you are, very well, yes, very good, fine, agreed, achcha, oke, okey-dokey, okey-doke, roger, righto, righty-ho\n",
      "\n",
      "\n",
      "\n",
      "\n",
      "\n"
     ]
    }
   ],
   "source": [
    "try:\n",
    "    meaning1 = required[1]\n",
    "    first.append(meaning1)\n",
    "    print(required[1])\n",
    "    print('\\n')\n",
    "    syn = required[3]\n",
    "    synonyms = syn.split('synonyms: ')[1]\n",
    "    synonyms_list.append(synonyms)\n",
    "    print(required[3])\n",
    "    print('\\n')\n",
    "    print(required[4])\n",
    "    meaning2 = required[4]\n",
    "    second.append(meaning2)\n",
    "    print('\\n')\n",
    "    if required[7] == '':\n",
    "        meaning3 = required[9]\n",
    "        third(meaning3)\n",
    "        print(required[9])\n",
    "except:\n",
    "    pass"
   ]
  },
  {
   "cell_type": "code",
   "execution_count": 65,
   "metadata": {},
   "outputs": [
    {
     "data": {
      "text/plain": [
       "'in a satisfactory manner or to a satisfactory extent.'"
      ]
     },
     "execution_count": 65,
     "metadata": {},
     "output_type": "execute_result"
    }
   ],
   "source": [
    "required[11]"
   ]
  },
  {
   "cell_type": "code",
   "execution_count": null,
   "metadata": {},
   "outputs": [],
   "source": []
  },
  {
   "cell_type": "code",
   "execution_count": 66,
   "metadata": {},
   "outputs": [],
   "source": [
    "word = []\n",
    "first = []\n",
    "second = []\n",
    "third = []\n",
    "synonyms_list = []\n",
    "\n",
    "def get_meaning(word):\n",
    "    link = f'https://www.google.com/search?q=define+{word}'\n",
    "    code = requests.get(link)\n",
    "    soup = bs4.BeautifulSoup(code.text, \"lxml\")\n",
    "    \n",
    "    text = ''\n",
    "    required = []\n",
    "    for item in soup.select('.BNeawe')[3:]:\n",
    "        if item.text == 'People also ask':\n",
    "            break\n",
    "        else:\n",
    "            required.append(item.text)\n",
    "            text += item.text\n",
    "    #         print(item.text)\n",
    "\n",
    "    try:\n",
    "        meaning1 = required[1]\n",
    "        first.append(meaning1)\n",
    "    #     print(required[1])\n",
    "    #     print('\\n')\n",
    "        syn = required[3]\n",
    "        synonyms = syn.split('synonyms: ')[1]\n",
    "        synonyms_list.append(synonyms)\n",
    "    #     print(required[3])\n",
    "    #     print('\\n')\n",
    "    #     print(required[4])\n",
    "        meaning2 = required[4]\n",
    "        second.append(meaning2)\n",
    "    #     print('\\n')\n",
    "        if required[7] == '':\n",
    "            meaning3 = required[9]\n",
    "            third(meaning3)\n",
    "    #         print(required[9])\n",
    "    except:\n",
    "        pass\n",
    "\n",
    "#     try:\n",
    "#         print(meaning1)\n",
    "#     except:\n",
    "#         pass\n",
    "\n",
    "#     try:\n",
    "#         print(meaning2)\n",
    "#     except:\n",
    "#         pass\n",
    "\n",
    "#     try:\n",
    "#         print(meaning3)\n",
    "#     except:\n",
    "#         pass\n",
    "\n",
    "#     try:\n",
    "#         print(synonyms)\n",
    "#     except:\n",
    "#         pass"
   ]
  },
  {
   "cell_type": "code",
   "execution_count": 67,
   "metadata": {},
   "outputs": [],
   "source": [
    "words = ['delicate', 'exquisite', 'equip']\n",
    "first = []\n",
    "second = []\n",
    "third = []\n",
    "synonyms_list = []\n",
    "for word in words:\n",
    "    get_meaning(word)\n",
    "    \n",
    "df = pd.DataFrame(data=[words, first, second, third, synonyms_list], index='Word, First, Second, Third, Synonyms'.split(', ')).transpose()"
   ]
  },
  {
   "cell_type": "code",
   "execution_count": 68,
   "metadata": {},
   "outputs": [
    {
     "data": {
      "text/html": [
       "<div>\n",
       "<style scoped>\n",
       "    .dataframe tbody tr th:only-of-type {\n",
       "        vertical-align: middle;\n",
       "    }\n",
       "\n",
       "    .dataframe tbody tr th {\n",
       "        vertical-align: top;\n",
       "    }\n",
       "\n",
       "    .dataframe thead th {\n",
       "        text-align: right;\n",
       "    }\n",
       "</style>\n",
       "<table border=\"1\" class=\"dataframe\">\n",
       "  <thead>\n",
       "    <tr style=\"text-align: right;\">\n",
       "      <th></th>\n",
       "      <th>Word</th>\n",
       "      <th>First</th>\n",
       "      <th>Second</th>\n",
       "      <th>Third</th>\n",
       "      <th>Synonyms</th>\n",
       "    </tr>\n",
       "  </thead>\n",
       "  <tbody>\n",
       "    <tr>\n",
       "      <th>0</th>\n",
       "      <td>delicate</td>\n",
       "      <td>very fine in texture or structure; of intricat...</td>\n",
       "      <td>easily broken or damaged; fragile.</td>\n",
       "      <td>None</td>\n",
       "      <td>fine, exquisite, intricate, dainty, airy, eleg...</td>\n",
       "    </tr>\n",
       "    <tr>\n",
       "      <th>1</th>\n",
       "      <td>exquisite</td>\n",
       "      <td>extremely beautiful and delicate.</td>\n",
       "      <td>intensely felt.</td>\n",
       "      <td>None</td>\n",
       "      <td>beautiful, lovely, elegant, graceful, magnific...</td>\n",
       "    </tr>\n",
       "    <tr>\n",
       "      <th>2</th>\n",
       "      <td>equip</td>\n",
       "      <td>supply with the necessary items for a particul...</td>\n",
       "      <td></td>\n",
       "      <td>None</td>\n",
       "      <td>provide, furnish, supply, issue, fit out, rig ...</td>\n",
       "    </tr>\n",
       "  </tbody>\n",
       "</table>\n",
       "</div>"
      ],
      "text/plain": [
       "        Word                                              First  \\\n",
       "0   delicate  very fine in texture or structure; of intricat...   \n",
       "1  exquisite                  extremely beautiful and delicate.   \n",
       "2      equip  supply with the necessary items for a particul...   \n",
       "\n",
       "                               Second Third  \\\n",
       "0  easily broken or damaged; fragile.  None   \n",
       "1                     intensely felt.  None   \n",
       "2                                      None   \n",
       "\n",
       "                                            Synonyms  \n",
       "0  fine, exquisite, intricate, dainty, airy, eleg...  \n",
       "1  beautiful, lovely, elegant, graceful, magnific...  \n",
       "2  provide, furnish, supply, issue, fit out, rig ...  "
      ]
     },
     "execution_count": 68,
     "metadata": {},
     "output_type": "execute_result"
    }
   ],
   "source": [
    "df"
   ]
  },
  {
   "cell_type": "code",
   "execution_count": 45,
   "metadata": {},
   "outputs": [
    {
     "name": "stdout",
     "output_type": "stream",
     "text": [
      "used to express agreement or acceptance.\n",
      "\n",
      "all right, right, right then, right you are, very well, yes, very good, fine, agreed, achcha, oke, okey-dokey, okey-doke, roger, righto, righty-ho\n"
     ]
    }
   ],
   "source": [
    "word = []\n",
    "first = []\n",
    "second = []\n",
    "third = []\n",
    "synonyms_list = []\n",
    "get_meaning('okay')"
   ]
  },
  {
   "cell_type": "code",
   "execution_count": 46,
   "metadata": {},
   "outputs": [
    {
     "data": {
      "text/plain": [
       "['used to express agreement or acceptance.']"
      ]
     },
     "execution_count": 46,
     "metadata": {},
     "output_type": "execute_result"
    }
   ],
   "source": [
    "first"
   ]
  },
  {
   "cell_type": "code",
   "execution_count": 47,
   "metadata": {},
   "outputs": [
    {
     "data": {
      "text/plain": [
       "['']"
      ]
     },
     "execution_count": 47,
     "metadata": {},
     "output_type": "execute_result"
    }
   ],
   "source": [
    "second"
   ]
  },
  {
   "cell_type": "code",
   "execution_count": 48,
   "metadata": {},
   "outputs": [
    {
     "data": {
      "text/plain": [
       "[]"
      ]
     },
     "execution_count": 48,
     "metadata": {},
     "output_type": "execute_result"
    }
   ],
   "source": [
    "third"
   ]
  },
  {
   "cell_type": "code",
   "execution_count": 50,
   "metadata": {},
   "outputs": [
    {
     "data": {
      "text/plain": [
       "['all right, right, right then, right you are, very well, yes, very good, fine, agreed, achcha, oke, okey-dokey, okey-doke, roger, righto, righty-ho']"
      ]
     },
     "execution_count": 50,
     "metadata": {},
     "output_type": "execute_result"
    }
   ],
   "source": [
    "synonyms_list"
   ]
  },
  {
   "cell_type": "code",
   "execution_count": 41,
   "metadata": {},
   "outputs": [
    {
     "data": {
      "text/plain": [
       "['fine, exquisite, intricate, dainty, airy, elegant, graceful, flimsy, gauzy, filmy, floaty, gossamer, diaphanous, chiffony, silky, wispy, thin, insubstantial, papery',\n",
       " 'beautiful, lovely, elegant, graceful, magnificent, superb, superlative, excellent, wonderful, well crafted, well made, well executed, perfect, delicate, fragile, dainty, subtle, intricate, tasteful, fine, choice',\n",
       " 'provide, furnish, supply, issue, fit out, rig out, deck out, stock, provision, arm, array, attire, dress, outfit, accoutre, kit out, fix up']"
      ]
     },
     "execution_count": 41,
     "metadata": {},
     "output_type": "execute_result"
    }
   ],
   "source": [
    "synonyms_list"
   ]
  },
  {
   "cell_type": "code",
   "execution_count": 18,
   "metadata": {},
   "outputs": [
    {
     "data": {
      "text/plain": [
       "'conceited, narcissistic, self-loving, in love with oneself, self-admiring, self-regarding, wrapped up in oneself, self-absorbed, self-obsessed, self-centred, egotistic, egotistical, egoistic, egocentric, egomaniac, proud, haughty, arrogant, boastful, swaggering, imperious, overweening, cocky, affected, vainglorious, peacockish, think too highly of oneself, think a lot of oneself'"
      ]
     },
     "execution_count": 18,
     "metadata": {},
     "output_type": "execute_result"
    }
   ],
   "source": [
    "synonyms = syn.split('synonyms: ')[1]"
   ]
  },
  {
   "cell_type": "code",
   "execution_count": 8,
   "metadata": {},
   "outputs": [
    {
     "data": {
      "text/plain": [
       "\"having or showing an excessively high opinion of one's appearance, abilities, or worth.\""
      ]
     },
     "execution_count": 8,
     "metadata": {},
     "output_type": "execute_result"
    }
   ],
   "source": [
    "meaning1"
   ]
  },
  {
   "cell_type": "code",
   "execution_count": 9,
   "metadata": {},
   "outputs": [
    {
     "data": {
      "text/plain": [
       "'producing no result; useless.'"
      ]
     },
     "execution_count": 9,
     "metadata": {},
     "output_type": "execute_result"
    }
   ],
   "source": [
    "meaning2"
   ]
  },
  {
   "cell_type": "code",
   "execution_count": 10,
   "metadata": {},
   "outputs": [
    {
     "data": {
      "text/plain": [
       "'synonyms: conceited, narcissistic, self-loving, in love with oneself, self-admiring, self-regarding, wrapped up in oneself, self-absorbed, self-obsessed, self-centred, egotistic, egotistical, egoistic, egocentric, egomaniac, proud, haughty, arrogant, boastful, swaggering, imperious, overweening, cocky, affected, vainglorious, peacockish, think too highly of oneself, think a lot of oneself'"
      ]
     },
     "execution_count": 10,
     "metadata": {},
     "output_type": "execute_result"
    }
   ],
   "source": [
    "syn"
   ]
  },
  {
   "cell_type": "code",
   "execution_count": 47,
   "metadata": {},
   "outputs": [
    {
     "data": {
      "text/plain": [
       "''"
      ]
     },
     "execution_count": 47,
     "metadata": {},
     "output_type": "execute_result"
    }
   ],
   "source": [
    "required[7]"
   ]
  },
  {
   "cell_type": "code",
   "execution_count": 25,
   "metadata": {},
   "outputs": [
    {
     "data": {
      "text/plain": [
       "['adjective',\n",
       " \"very fine in texture or structure; of intricate workmanship or quality.'a delicate lace shawl'synonyms: fine, exquisite, intricate, dainty, airy, elegant, graceful, flimsy, gauzy, filmy, floaty, gossamer, diaphanous, chiffony, silky, wispy, thin, insubstantial, paperyeasily broken or damaged; fragile.'delicate china'synonyms: fragile, breakable, easily broken/damaged, frail, frangible, eggshellrequiring sensitive or careful handling.'delicate negotiations'synonyms: difficult, tricky, sensitive, ticklish, awkward, problematic, problematical, touchy, prickly, controversial, emotive, embarrassing, sticky, diceynoun\",\n",
       " \"a delicate fabric or garment.'the delicates cycle of a washing machine'\"]"
      ]
     },
     "execution_count": 25,
     "metadata": {},
     "output_type": "execute_result"
    }
   ],
   "source": [
    "text.split('\\n')[]"
   ]
  },
  {
   "cell_type": "code",
   "execution_count": null,
   "metadata": {},
   "outputs": [],
   "source": []
  },
  {
   "cell_type": "code",
   "execution_count": 90,
   "metadata": {},
   "outputs": [
    {
     "name": "stdout",
     "output_type": "stream",
     "text": [
      "adjective\n",
      "very fine in texture or structure; of intricate workmanship or quality.'a delicate lace shawl'synonyms: fine, exquisite, intricate, dainty, airy, elegant, graceful, flimsy, gauzy, filmy, floaty, gossamer, diaphanous, chiffony, silky, wispy, thin, insubstantial, paperyeasily broken or damaged; fragile.'delicate china'synonyms: fragile, breakable, easily broken/damaged, frail, frangible, eggshellrequiring sensitive or careful handling.'delicate negotiations'synonyms: difficult, tricky, sensitive, ticklish, awkward, problematic, problematical, touchy, prickly, controversial, emotive, embarrassing, sticky, diceynoun\n",
      "a delicate fabric or garment.'the delicates cycle of a washing machine'\n"
     ]
    }
   ],
   "source": [
    "print(lists[2].text)"
   ]
  },
  {
   "cell_type": "code",
   "execution_count": 120,
   "metadata": {},
   "outputs": [],
   "source": [
    "import requests\n",
    "import bs4\n",
    "link = 'https://www.merriam-webster.com/dictionary/privilege'\n",
    "code = requests.get(link)\n",
    "soup = bs4.BeautifulSoup(code.text, \"lxml\")\n"
   ]
  },
  {
   "cell_type": "code",
   "execution_count": 124,
   "metadata": {},
   "outputs": [
    {
     "data": {
      "text/plain": [
       "[<span class=\"dtText\"><strong class=\"mw_t_bc\">: </strong>a right or <a class=\"mw_t_d_link\" href=\"/dictionary/immunity\">immunity</a> granted as a peculiar benefit, advantage, or favor <strong class=\"mw_t_bc\">: </strong><a class=\"mw_t_sx\" href=\"/dictionary/prerogative\"><span class=\"text-uppercase\">prerogative</span></a></span>,\n",
       " <span class=\"dtText\"><strong class=\"mw_t_bc\">: </strong>such a right or immunity attached specifically to a position or an office</span>,\n",
       " <span class=\"dtText\"><strong class=\"mw_t_bc\">: </strong>to grant a <a class=\"mw_t_d_link\" href=\"/dictionary/privilege#h1\">privilege</a> to</span>,\n",
       " <span class=\"dtText\"><strong class=\"mw_t_bc\">: </strong>to <a class=\"mw_t_d_link\" href=\"/dictionary/accord#h1\">accord</a> a higher value or superior position to</span>,\n",
       " <span class=\"dtText\"><strong class=\"mw_t_bc\">: </strong>a right or benefit that is given to some people and not to others</span>,\n",
       " <span class=\"dtText\"><strong class=\"mw_t_bc\">: </strong>a special opportunity to do something that makes you proud</span>,\n",
       " <span class=\"dtText\"><strong class=\"mw_t_bc\">: </strong>the advantage that wealthy and powerful people have over other people in a society</span>,\n",
       " <span class=\"dtText\"><strong class=\"mw_t_bc\">: </strong>to give an advantage that others do not have to (someone or something)</span>,\n",
       " <span class=\"dtText\"><strong class=\"mw_t_bc\">: </strong>a right or liberty granted as a favor or benefit especially to some and not others</span>,\n",
       " <span class=\"dtText\"><strong class=\"mw_t_bc\">: </strong>an opportunity that is special and pleasant</span>,\n",
       " <span class=\"dtText\"><strong class=\"mw_t_bc\">: </strong>a right, license, or exemption from duty or liability granted as a special benefit, advantage, or favor: as</span>,\n",
       " <span class=\"dtText\"><strong class=\"mw_t_bc\">: </strong>an exemption from liability where an action is deemed to be justifiable (as in the case of self-defense) or because of the requirements of a position or office</span>,\n",
       " <span class=\"dtText\"><strong class=\"mw_t_bc\">: </strong>the affirmative defense that an action is privileged <span class=\"dx-jump\"> — compare <a class=\"mw_t_dxt\" href=\"/dictionary/excuse#legalDictionary\"><span class=\"text-uppercase\">excuse</span></a></span></span>,\n",
       " <span class=\"dtText\"><strong class=\"mw_t_bc\">: </strong>a privilege that exempts a person from liability especially for defamation regardless of intent or motive</span>,\n",
       " <span class=\"dtText\"><strong class=\"mw_t_bc\">: </strong>a privilege that exempts high public officials (as legislators) from liability for statements made while acting in their official capacity without regard to intent or malice</span>,\n",
       " <span class=\"dtText\"><strong class=\"mw_t_bc\">: </strong>a privilege especially in the law of defamation that may be defeated especially by a showing of actual malice</span>,\n",
       " <span class=\"dtText\"><strong class=\"mw_t_bc\">: </strong>an exemption from a requirement to disclose information (as for trial) that is granted because of a relationship or position that demands confidentiality</span>,\n",
       " <span class=\"dtText\"> <span class=\"dx-jump\"> — see also <a class=\"mw_t_dxt\" href=\"/legal/confidential%20communication\"><span class=\"text-uppercase\">confidential communication</span></a></span></span>,\n",
       " <span class=\"dtText\"><strong class=\"mw_t_bc\">: </strong>a privilege exempting the government from disclosure (as in discovery) of government agency materials containing opinions, recommendations, and other communications that are part of the decision-making process within the agency</span>,\n",
       " <span class=\"dtText\"><strong class=\"mw_t_bc\">: </strong>a privilege exempting the executive branch of government from disclosing communications if such disclosure would adversely affect the functions and decision-making process of that branch <span class=\"dx-jump\"> — see also <a class=\"mw_t_tagt\" href=\"/legal/United%20States%20v.%20Nixon\"><span class=\"text-uppercase\">United States v. Nixon</span></a></span></span>,\n",
       " <span class=\"dtText\"><strong class=\"mw_t_bc\">: </strong>the privilege of the government to withhold the identity of an informant who has provided evidence for a criminal trial</span>,\n",
       " <span class=\"dtText\"><strong class=\"mw_t_bc\">: </strong><span class=\"mw_t_ux\">reporter's privilege</span> in this entry</span>,\n",
       " <span class=\"dtText\"><strong class=\"mw_t_bc\">: </strong>a privilege under the Fifth Amendment to the U.S. Constitution protecting a person from compulsion to make self-incriminating statements</span>,\n",
       " <span class=\"dtText\"><strong class=\"mw_t_bc\">: </strong>a privilege protecting a reporter from compulsion to reveal information acquired in the course of gathering news</span>,\n",
       " <span class=\"dtText\"><strong class=\"mw_t_bc\">: </strong>something specially permitted or granted as a matter of discretion that may be limited or taken away</span>,\n",
       " <span class=\"dtText\"> <span class=\"dx-jump\"> — compare <a class=\"mw_t_dxt\" href=\"/dictionary/right#legalDictionary\"><span class=\"text-uppercase\">right</span></a></span></span>,\n",
       " <span class=\"dtText\"><strong class=\"mw_t_bc\">: </strong>a right of a creditor conferred by the nature of a debt to have priority over the debtor's other creditors</span>,\n",
       " <span class=\"dtText\"><strong class=\"mw_t_bc\">: </strong>any of various fundamental or specially sacred rights considered as particularly guaranteed to all persons by a constitution and especially by the privileges and immunities clause of the U.S. Constitution</span>]"
      ]
     },
     "execution_count": 124,
     "metadata": {},
     "output_type": "execute_result"
    }
   ],
   "source": [
    "soup.select('.dtText')"
   ]
  },
  {
   "cell_type": "code",
   "execution_count": 122,
   "metadata": {},
   "outputs": [
    {
     "data": {
      "text/plain": [
       "[]"
      ]
     },
     "execution_count": 122,
     "metadata": {},
     "output_type": "execute_result"
    }
   ],
   "source": [
    "soup.select('.e1hk9ate0')"
   ]
  },
  {
   "cell_type": "code",
   "execution_count": null,
   "metadata": {},
   "outputs": [],
   "source": []
  },
  {
   "cell_type": "code",
   "execution_count": 49,
   "metadata": {},
   "outputs": [
    {
     "data": {
      "text/plain": [
       "\"extremely beautiful and delicate.'\""
      ]
     },
     "execution_count": 49,
     "metadata": {},
     "output_type": "execute_result"
    }
   ],
   "source": [
    "soup.text.split('exquisite')[2].split('\\n')[1]"
   ]
  },
  {
   "cell_type": "code",
   "execution_count": 50,
   "metadata": {},
   "outputs": [
    {
     "data": {
      "text/plain": [
       "\", jewel-like portraits'synonyms: beautiful, lovely, elegant, graceful, magnificent, superb, superlative, excellent, wonderful, well crafted, well made, well executed, perfect, delicate, fragile, dainty, subtle, intricate, tasteful, fine, choiceintensely felt.'the most \""
      ]
     },
     "execution_count": 50,
     "metadata": {},
     "output_type": "execute_result"
    }
   ],
   "source": [
    "soup.text.split('exquisite')[3]"
   ]
  },
  {
   "cell_type": "code",
   "execution_count": 51,
   "metadata": {},
   "outputs": [
    {
     "data": {
      "text/plain": [
       "\" kind of agony'synonyms: intense, acute, keen, piercing, sharp, severe, racking, excruciating, agonizing, harrowing, torturous, tormenting, searing, unbearable, insufferable, unendurable, more than one can bearnoun\\na man who is affectedly concerned with his clothes and appearance; a dandy.synonyms: dandy, fop, beau, man about town, bright young thing, glamour boy, rake, dilettante, aesthete, swell, dude, sharp dresser, snappy dresser, natty dresser, blade, bloodPeople also askIs \""
      ]
     },
     "execution_count": 51,
     "metadata": {},
     "output_type": "execute_result"
    }
   ],
   "source": [
    "soup.text.split('exquisite')[4]"
   ]
  },
  {
   "cell_type": "code",
   "execution_count": 52,
   "metadata": {},
   "outputs": [
    {
     "data": {
      "text/plain": [
       "' a compliment?What is d meaning of '"
      ]
     },
     "execution_count": 52,
     "metadata": {},
     "output_type": "execute_result"
    }
   ],
   "source": [
    "soup.text.split('exquisite')[5]"
   ]
  },
  {
   "cell_type": "code",
   "execution_count": null,
   "metadata": {},
   "outputs": [],
   "source": []
  }
 ],
 "metadata": {
  "kernelspec": {
   "display_name": "Python 3",
   "language": "python",
   "name": "python3"
  },
  "language_info": {
   "codemirror_mode": {
    "name": "ipython",
    "version": 3
   },
   "file_extension": ".py",
   "mimetype": "text/x-python",
   "name": "python",
   "nbconvert_exporter": "python",
   "pygments_lexer": "ipython3",
   "version": "3.8.5"
  }
 },
 "nbformat": 4,
 "nbformat_minor": 4
}
