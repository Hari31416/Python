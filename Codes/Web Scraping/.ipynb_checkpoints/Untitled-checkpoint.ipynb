{
 "cells": [
  {
   "cell_type": "code",
   "execution_count": 49,
   "metadata": {},
   "outputs": [],
   "source": [
    "import requests\n",
    "import bs4\n",
    "link = 'http://gadyakosh.org/gk/%E0%A4%A7%E0%A5%8D%E0%A4%B0%E0%A5%81%E0%A4%B5%E0%A4%B8%E0%A5%8D%E0%A4%B5%E0%A4%BE%E0%A4%AE%E0%A4%BF%E0%A4%A8%E0%A5%80_/_%E0%A4%9C%E0%A4%AF%E0%A4%B6%E0%A4%82%E0%A4%95%E0%A4%B0_%E0%A4%AA%E0%A5%8D%E0%A4%B0%E0%A4%B8%E0%A4%BE%E0%A4%A6'\n",
    "code = requests.get(link)\n",
    "soup = bs4.BeautifulSoup(code.text, \"lxml\")"
   ]
  },
  {
   "cell_type": "code",
   "execution_count": 23,
   "metadata": {},
   "outputs": [],
   "source": [
    "# soup"
   ]
  },
  {
   "cell_type": "code",
   "execution_count": 50,
   "metadata": {},
   "outputs": [
    {
     "data": {
      "text/plain": [
       "22"
      ]
     },
     "execution_count": 50,
     "metadata": {},
     "output_type": "execute_result"
    }
   ],
   "source": [
    "len(soup.select('ul li'))"
   ]
  },
  {
   "cell_type": "code",
   "execution_count": 60,
   "metadata": {},
   "outputs": [
    {
     "data": {
      "text/plain": [
       "[<ul>\n",
       " <li class=\"selected\" id=\"ca-nstab-main\"><a accesskey=\"c\" href=\"/gk/%E0%A4%A7%E0%A5%8D%E0%A4%B0%E0%A5%81%E0%A4%B5%E0%A4%B8%E0%A5%8D%E0%A4%B5%E0%A4%BE%E0%A4%AE%E0%A4%BF%E0%A4%A8%E0%A5%80_/_%E0%A4%9C%E0%A4%AF%E0%A4%B6%E0%A4%82%E0%A4%95%E0%A4%B0_%E0%A4%AA%E0%A5%8D%E0%A4%B0%E0%A4%B8%E0%A4%BE%E0%A4%A6\" title=\"सामग्री वाला पृष्ठ देखें [c]\">पृष्ठ</a></li>\n",
       " <li class=\"new\" id=\"ca-talk\"><a accesskey=\"t\" href=\"/gk/index.php?title=%E0%A4%B5%E0%A4%BE%E0%A4%B0%E0%A5%8D%E0%A4%A4%E0%A4%BE:%E0%A4%A7%E0%A5%8D%E0%A4%B0%E0%A5%81%E0%A4%B5%E0%A4%B8%E0%A5%8D%E0%A4%B5%E0%A4%BE%E0%A4%AE%E0%A4%BF%E0%A4%A8%E0%A5%80_/_%E0%A4%9C%E0%A4%AF%E0%A4%B6%E0%A4%82%E0%A4%95%E0%A4%B0_%E0%A4%AA%E0%A5%8D%E0%A4%B0%E0%A4%B8%E0%A4%BE%E0%A4%A6&amp;action=edit&amp;redlink=1\" title=\"सामग्री पृष्ठ के बारे में वार्तालाप [t]\">चर्चा</a></li>\n",
       " <li id=\"ca-viewsource\"><a accesskey=\"e\" href=\"/gk/index.php?title=%E0%A4%A7%E0%A5%8D%E0%A4%B0%E0%A5%81%E0%A4%B5%E0%A4%B8%E0%A5%8D%E0%A4%B5%E0%A4%BE%E0%A4%AE%E0%A4%BF%E0%A4%A8%E0%A5%80_/_%E0%A4%9C%E0%A4%AF%E0%A4%B6%E0%A4%82%E0%A4%95%E0%A4%B0_%E0%A4%AA%E0%A5%8D%E0%A4%B0%E0%A4%B8%E0%A4%BE%E0%A4%A6&amp;action=edit\" title=\"यह पृष्ठ रक्षित हैं। आप इसका स्रोत देख सकते हैं। [e]\">स्रोत देखें</a></li>\n",
       " <li id=\"ca-history\"><a accesskey=\"h\" href=\"/gk/index.php?title=%E0%A4%A7%E0%A5%8D%E0%A4%B0%E0%A5%81%E0%A4%B5%E0%A4%B8%E0%A5%8D%E0%A4%B5%E0%A4%BE%E0%A4%AE%E0%A4%BF%E0%A4%A8%E0%A5%80_/_%E0%A4%9C%E0%A4%AF%E0%A4%B6%E0%A4%82%E0%A4%95%E0%A4%B0_%E0%A4%AA%E0%A5%8D%E0%A4%B0%E0%A4%B8%E0%A4%BE%E0%A4%A6&amp;action=history\" rel=\"archives\" title=\"इस पृष्ठ के पुराने अवतरण [h]\">इतिहास</a></li>\n",
       " </ul>,\n",
       " <a accesskey=\"c\" href=\"/gk/%E0%A4%A7%E0%A5%8D%E0%A4%B0%E0%A5%81%E0%A4%B5%E0%A4%B8%E0%A5%8D%E0%A4%B5%E0%A4%BE%E0%A4%AE%E0%A4%BF%E0%A4%A8%E0%A5%80_/_%E0%A4%9C%E0%A4%AF%E0%A4%B6%E0%A4%82%E0%A4%95%E0%A4%B0_%E0%A4%AA%E0%A5%8D%E0%A4%B0%E0%A4%B8%E0%A4%BE%E0%A4%A6\" title=\"सामग्री वाला पृष्ठ देखें [c]\">पृष्ठ</a>,\n",
       " <a accesskey=\"t\" href=\"/gk/index.php?title=%E0%A4%B5%E0%A4%BE%E0%A4%B0%E0%A5%8D%E0%A4%A4%E0%A4%BE:%E0%A4%A7%E0%A5%8D%E0%A4%B0%E0%A5%81%E0%A4%B5%E0%A4%B8%E0%A5%8D%E0%A4%B5%E0%A4%BE%E0%A4%AE%E0%A4%BF%E0%A4%A8%E0%A5%80_/_%E0%A4%9C%E0%A4%AF%E0%A4%B6%E0%A4%82%E0%A4%95%E0%A4%B0_%E0%A4%AA%E0%A5%8D%E0%A4%B0%E0%A4%B8%E0%A4%BE%E0%A4%A6&amp;action=edit&amp;redlink=1\" title=\"सामग्री पृष्ठ के बारे में वार्तालाप [t]\">चर्चा</a>,\n",
       " <a accesskey=\"e\" href=\"/gk/index.php?title=%E0%A4%A7%E0%A5%8D%E0%A4%B0%E0%A5%81%E0%A4%B5%E0%A4%B8%E0%A5%8D%E0%A4%B5%E0%A4%BE%E0%A4%AE%E0%A4%BF%E0%A4%A8%E0%A5%80_/_%E0%A4%9C%E0%A4%AF%E0%A4%B6%E0%A4%82%E0%A4%95%E0%A4%B0_%E0%A4%AA%E0%A5%8D%E0%A4%B0%E0%A4%B8%E0%A4%BE%E0%A4%A6&amp;action=edit\" title=\"यह पृष्ठ रक्षित हैं। आप इसका स्रोत देख सकते हैं। [e]\">स्रोत देखें</a>,\n",
       " <a accesskey=\"h\" href=\"/gk/index.php?title=%E0%A4%A7%E0%A5%8D%E0%A4%B0%E0%A5%81%E0%A4%B5%E0%A4%B8%E0%A5%8D%E0%A4%B5%E0%A4%BE%E0%A4%AE%E0%A4%BF%E0%A4%A8%E0%A5%80_/_%E0%A4%9C%E0%A4%AF%E0%A4%B6%E0%A4%82%E0%A4%95%E0%A4%B0_%E0%A4%AA%E0%A5%8D%E0%A4%B0%E0%A4%B8%E0%A4%BE%E0%A4%A6&amp;action=history\" rel=\"archives\" title=\"इस पृष्ठ के पुराने अवतरण [h]\">इतिहास</a>,\n",
       " <ul>\n",
       " <li id=\"pt-login\"><a accesskey=\"o\" href=\"/gk/index.php?title=%E0%A4%B5%E0%A4%BF%E0%A4%B6%E0%A5%87%E0%A4%B7:%E0%A4%B2%E0%A5%89%E0%A4%97%E0%A4%BF%E0%A4%A8&amp;returnto=%E0%A4%A7%E0%A5%8D%E0%A4%B0%E0%A5%81%E0%A4%B5%E0%A4%B8%E0%A5%8D%E0%A4%B5%E0%A4%BE%E0%A4%AE%E0%A4%BF%E0%A4%A8%E0%A5%80+%2F+%E0%A4%9C%E0%A4%AF%E0%A4%B6%E0%A4%82%E0%A4%95%E0%A4%B0+%E0%A4%AA%E0%A5%8D%E0%A4%B0%E0%A4%B8%E0%A4%BE%E0%A4%A6\" title=\"आपको सत्रारम्भ करने के लिए प्रोत्साहित किया जाता है; लेकिन यह अनिवार्य नहीं है [o]\">लॉग इन</a></li>\n",
       " </ul>,\n",
       " <a accesskey=\"o\" href=\"/gk/index.php?title=%E0%A4%B5%E0%A4%BF%E0%A4%B6%E0%A5%87%E0%A4%B7:%E0%A4%B2%E0%A5%89%E0%A4%97%E0%A4%BF%E0%A4%A8&amp;returnto=%E0%A4%A7%E0%A5%8D%E0%A4%B0%E0%A5%81%E0%A4%B5%E0%A4%B8%E0%A5%8D%E0%A4%B5%E0%A4%BE%E0%A4%AE%E0%A4%BF%E0%A4%A8%E0%A5%80+%2F+%E0%A4%9C%E0%A4%AF%E0%A4%B6%E0%A4%82%E0%A4%95%E0%A4%B0+%E0%A4%AA%E0%A5%8D%E0%A4%B0%E0%A4%B8%E0%A4%BE%E0%A4%A6\" title=\"आपको सत्रारम्भ करने के लिए प्रोत्साहित किया जाता है; लेकिन यह अनिवार्य नहीं है [o]\">लॉग इन</a>,\n",
       " <div class=\"mw-content-ltr\" dir=\"ltr\" id=\"mw-content-text\" lang=\"hi\"><div class=\"gkpustak-box\" id=\"gkpustak-box\"><div id=\"gkpustak-box-name-head\"><span id=\"gkpustak-name\">ध्रुवस्वामिनी</span></div><div id=\"gkpustak-book-cover-container\"><div class=\"gkpustak-photo\" id=\"gkpustak-photo\"><img alt=\"Dhruv.jpg\" class=\"gkpustak-cover-photo\" height=\"160\" src=\"/gk/images/d/d3/Dhruv.jpg\" width=\"101\"/></div></div>\n",
       " <table class=\"wikitable\" style=\"width:100%; margin: 0 0 10px 0;\">\n",
       " <tr>\n",
       " <th scope=\"row\" style=\"width: 40%; text-align: left; padding: 10px 5px;\"><i class=\"fa fa-user\"></i> रचनाकार\n",
       " </th>\n",
       " <td><a href=\"/gk/%E0%A4%9C%E0%A4%AF%E0%A4%B6%E0%A4%82%E0%A4%95%E0%A4%B0_%E0%A4%AA%E0%A5%8D%E0%A4%B0%E0%A4%B8%E0%A4%BE%E0%A4%A6\" title=\"जयशंकर प्रसाद\">जयशंकर प्रसाद</a>\n",
       " </td></tr>\n",
       " <tr>\n",
       " <th scope=\"row\" style=\"text-align: left; padding: 10px 5px;\"><i class=\"fa fa-book\"></i> प्रकाशक\n",
       " </th>\n",
       " <td>\n",
       " </td></tr>\n",
       " <tr>\n",
       " <th scope=\"row\" style=\"text-align: left; padding: 10px 5px;\"><i class=\"fa fa-calendar\"></i> वर्ष\n",
       " </th>\n",
       " <td>\n",
       " </td></tr>\n",
       " <tr>\n",
       " <th scope=\"row\" style=\"text-align: left; padding: 10px 5px;\"><i class=\"fa fa-font\"></i> भाषा\n",
       " </th>\n",
       " <td>\n",
       " </td></tr>\n",
       " <tr>\n",
       " <th scope=\"row\" style=\"text-align: left; padding: 10px 5px;\"><i class=\"fa fa-globe\"></i> विषय\n",
       " </th>\n",
       " <td>\n",
       " </td></tr>\n",
       " <tr>\n",
       " <th scope=\"row\" style=\"text-align: left; padding: 10px 5px;\"><i class=\"fa fa-leaf\"></i> विधा\n",
       " </th>\n",
       " <td>नाटक\n",
       " </td></tr>\n",
       " <tr>\n",
       " <th scope=\"row\" style=\"text-align: left; padding: 10px 5px;\"><i class=\"fa fa-files-o\"></i> पृष्ठ\n",
       " </th>\n",
       " <td>\n",
       " </td></tr>\n",
       " <tr>\n",
       " <th scope=\"row\" style=\"text-align: left; padding: 10px 5px;\"><i class=\"fa fa-barcode\"></i> ISBN\n",
       " </th>\n",
       " <td>\n",
       " </td></tr>\n",
       " <tr>\n",
       " <th scope=\"row\" style=\"text-align: left; padding: 10px 5px;\"><i class=\"fa fa-bookmark\"></i> विविध\n",
       " </th>\n",
       " <td>\n",
       " </td></tr></table>\n",
       " <div style=\"border-top: 1px dashed #CC6600; font-size:70%; line-height:140%; padding: 5px;\">इस पन्ने पर दी गई रचनाओं को विश्व भर के स्वयंसेवी योगदानकर्ताओं ने भिन्न-भिन्न स्रोतों का प्रयोग कर गद्य कोश में संकलित किया है। ऊपर दी गई प्रकाशक संबंधी जानकारी छपी हुई पुस्तक खरीदने हेतु आपकी सहायता के लिये दी गई है।</div>\n",
       " <div id=\"gkparichay-lower-border\"></div>\n",
       " </div>\n",
       " <ul><li> <a href=\"/gk/%E0%A4%A7%E0%A5%8D%E0%A4%B0%E0%A5%81%E0%A4%B5%E0%A4%B8%E0%A5%8D%E0%A4%B5%E0%A4%BE%E0%A4%AE%E0%A4%BF%E0%A4%A8%E0%A5%80_/_%E0%A4%B8%E0%A5%82%E0%A4%9A%E0%A4%A8%E0%A4%BE_/_%E0%A4%9C%E0%A4%AF%E0%A4%B6%E0%A4%82%E0%A4%95%E0%A4%B0_%E0%A4%AA%E0%A5%8D%E0%A4%B0%E0%A4%B8%E0%A4%BE%E0%A4%A6\" title=\"ध्रुवस्वामिनी / सूचना / जयशंकर प्रसाद\">ध्रुवस्वामिनी / सूचना / जयशंकर प्रसाद</a></li>\n",
       " <li> <a href=\"/gk/%E0%A4%A7%E0%A5%8D%E0%A4%B0%E0%A5%81%E0%A4%B5%E0%A4%B8%E0%A5%8D%E0%A4%B5%E0%A4%BE%E0%A4%AE%E0%A4%BF%E0%A4%A8%E0%A5%80_/_%E0%A4%AA%E0%A5%8D%E0%A4%B0%E0%A4%A5%E0%A4%AE_%E0%A4%85%E0%A4%82%E0%A4%95_/_%E0%A4%9C%E0%A4%AF%E0%A4%B6%E0%A4%82%E0%A4%95%E0%A4%B0_%E0%A4%AA%E0%A5%8D%E0%A4%B0%E0%A4%B8%E0%A4%BE%E0%A4%A6\" title=\"ध्रुवस्वामिनी / प्रथम अंक / जयशंकर प्रसाद\">ध्रुवस्वामिनी / प्रथम अंक / जयशंकर प्रसाद</a></li>\n",
       " <li> <a href=\"/gk/%E0%A4%A7%E0%A5%8D%E0%A4%B0%E0%A5%81%E0%A4%B5%E0%A4%B8%E0%A5%8D%E0%A4%B5%E0%A4%BE%E0%A4%AE%E0%A4%BF%E0%A4%A8%E0%A5%80_/_%E0%A4%A6%E0%A5%8D%E0%A4%B5%E0%A4%BF%E0%A4%A4%E0%A5%80%E0%A4%AF_%E0%A4%85%E0%A4%82%E0%A4%95_/_%E0%A4%9C%E0%A4%AF%E0%A4%B6%E0%A4%82%E0%A4%95%E0%A4%B0_%E0%A4%AA%E0%A5%8D%E0%A4%B0%E0%A4%B8%E0%A4%BE%E0%A4%A6\" title=\"ध्रुवस्वामिनी / द्वितीय अंक / जयशंकर प्रसाद\">ध्रुवस्वामिनी / द्वितीय अंक / जयशंकर प्रसाद</a></li>\n",
       " <li> <a href=\"/gk/%E0%A4%A7%E0%A5%8D%E0%A4%B0%E0%A5%81%E0%A4%B5%E0%A4%B8%E0%A5%8D%E0%A4%B5%E0%A4%BE%E0%A4%AE%E0%A4%BF%E0%A4%A8%E0%A5%80_/_%E0%A4%A4%E0%A5%83%E0%A4%A4%E0%A5%80%E0%A4%AF_%E0%A4%85%E0%A4%82%E0%A4%95_/_%E0%A4%9C%E0%A4%AF%E0%A4%B6%E0%A4%82%E0%A4%95%E0%A4%B0_%E0%A4%AA%E0%A5%8D%E0%A4%B0%E0%A4%B8%E0%A4%BE%E0%A4%A6\" title=\"ध्रुवस्वामिनी / तृतीय अंक / जयशंकर प्रसाद\">ध्रुवस्वामिनी / तृतीय अंक / जयशंकर प्रसाद</a></li></ul>\n",
       " <!-- \n",
       " NewPP limit report\n",
       " CPU time usage: 0.048 seconds\n",
       " Real time usage: 0.066 seconds\n",
       " Preprocessor visited node count: 63/1000000\n",
       " Preprocessor generated node count: 337/1000000\n",
       " Post‐expand include size: 2615/2097152 bytes\n",
       " Template argument size: 110/2097152 bytes\n",
       " Highest expansion depth: 3/40\n",
       " Expensive parser function count: 0/100\n",
       " ExtLoops count: 0/100\n",
       " -->\n",
       " <!-- Saved in parser cache with key c1gadyakosh-gk_:pcache:idhash:7349-0!*!0!*!*!5!* and timestamp 20190320133108 and revision id 16765\n",
       "  -->\n",
       " </div>,\n",
       " <ul><li> <a href=\"/gk/%E0%A4%A7%E0%A5%8D%E0%A4%B0%E0%A5%81%E0%A4%B5%E0%A4%B8%E0%A5%8D%E0%A4%B5%E0%A4%BE%E0%A4%AE%E0%A4%BF%E0%A4%A8%E0%A5%80_/_%E0%A4%B8%E0%A5%82%E0%A4%9A%E0%A4%A8%E0%A4%BE_/_%E0%A4%9C%E0%A4%AF%E0%A4%B6%E0%A4%82%E0%A4%95%E0%A4%B0_%E0%A4%AA%E0%A5%8D%E0%A4%B0%E0%A4%B8%E0%A4%BE%E0%A4%A6\" title=\"ध्रुवस्वामिनी / सूचना / जयशंकर प्रसाद\">ध्रुवस्वामिनी / सूचना / जयशंकर प्रसाद</a></li>\n",
       " <li> <a href=\"/gk/%E0%A4%A7%E0%A5%8D%E0%A4%B0%E0%A5%81%E0%A4%B5%E0%A4%B8%E0%A5%8D%E0%A4%B5%E0%A4%BE%E0%A4%AE%E0%A4%BF%E0%A4%A8%E0%A5%80_/_%E0%A4%AA%E0%A5%8D%E0%A4%B0%E0%A4%A5%E0%A4%AE_%E0%A4%85%E0%A4%82%E0%A4%95_/_%E0%A4%9C%E0%A4%AF%E0%A4%B6%E0%A4%82%E0%A4%95%E0%A4%B0_%E0%A4%AA%E0%A5%8D%E0%A4%B0%E0%A4%B8%E0%A4%BE%E0%A4%A6\" title=\"ध्रुवस्वामिनी / प्रथम अंक / जयशंकर प्रसाद\">ध्रुवस्वामिनी / प्रथम अंक / जयशंकर प्रसाद</a></li>\n",
       " <li> <a href=\"/gk/%E0%A4%A7%E0%A5%8D%E0%A4%B0%E0%A5%81%E0%A4%B5%E0%A4%B8%E0%A5%8D%E0%A4%B5%E0%A4%BE%E0%A4%AE%E0%A4%BF%E0%A4%A8%E0%A5%80_/_%E0%A4%A6%E0%A5%8D%E0%A4%B5%E0%A4%BF%E0%A4%A4%E0%A5%80%E0%A4%AF_%E0%A4%85%E0%A4%82%E0%A4%95_/_%E0%A4%9C%E0%A4%AF%E0%A4%B6%E0%A4%82%E0%A4%95%E0%A4%B0_%E0%A4%AA%E0%A5%8D%E0%A4%B0%E0%A4%B8%E0%A4%BE%E0%A4%A6\" title=\"ध्रुवस्वामिनी / द्वितीय अंक / जयशंकर प्रसाद\">ध्रुवस्वामिनी / द्वितीय अंक / जयशंकर प्रसाद</a></li>\n",
       " <li> <a href=\"/gk/%E0%A4%A7%E0%A5%8D%E0%A4%B0%E0%A5%81%E0%A4%B5%E0%A4%B8%E0%A5%8D%E0%A4%B5%E0%A4%BE%E0%A4%AE%E0%A4%BF%E0%A4%A8%E0%A5%80_/_%E0%A4%A4%E0%A5%83%E0%A4%A4%E0%A5%80%E0%A4%AF_%E0%A4%85%E0%A4%82%E0%A4%95_/_%E0%A4%9C%E0%A4%AF%E0%A4%B6%E0%A4%82%E0%A4%95%E0%A4%B0_%E0%A4%AA%E0%A5%8D%E0%A4%B0%E0%A4%B8%E0%A4%BE%E0%A4%A6\" title=\"ध्रुवस्वामिनी / तृतीय अंक / जयशंकर प्रसाद\">ध्रुवस्वामिनी / तृतीय अंक / जयशंकर प्रसाद</a></li></ul>,\n",
       " <a href=\"/gk/%E0%A4%A7%E0%A5%8D%E0%A4%B0%E0%A5%81%E0%A4%B5%E0%A4%B8%E0%A5%8D%E0%A4%B5%E0%A4%BE%E0%A4%AE%E0%A4%BF%E0%A4%A8%E0%A5%80_/_%E0%A4%B8%E0%A5%82%E0%A4%9A%E0%A4%A8%E0%A4%BE_/_%E0%A4%9C%E0%A4%AF%E0%A4%B6%E0%A4%82%E0%A4%95%E0%A4%B0_%E0%A4%AA%E0%A5%8D%E0%A4%B0%E0%A4%B8%E0%A4%BE%E0%A4%A6\" title=\"ध्रुवस्वामिनी / सूचना / जयशंकर प्रसाद\">ध्रुवस्वामिनी / सूचना / जयशंकर प्रसाद</a>,\n",
       " <a href=\"/gk/%E0%A4%A7%E0%A5%8D%E0%A4%B0%E0%A5%81%E0%A4%B5%E0%A4%B8%E0%A5%8D%E0%A4%B5%E0%A4%BE%E0%A4%AE%E0%A4%BF%E0%A4%A8%E0%A5%80_/_%E0%A4%AA%E0%A5%8D%E0%A4%B0%E0%A4%A5%E0%A4%AE_%E0%A4%85%E0%A4%82%E0%A4%95_/_%E0%A4%9C%E0%A4%AF%E0%A4%B6%E0%A4%82%E0%A4%95%E0%A4%B0_%E0%A4%AA%E0%A5%8D%E0%A4%B0%E0%A4%B8%E0%A4%BE%E0%A4%A6\" title=\"ध्रुवस्वामिनी / प्रथम अंक / जयशंकर प्रसाद\">ध्रुवस्वामिनी / प्रथम अंक / जयशंकर प्रसाद</a>,\n",
       " <a href=\"/gk/%E0%A4%A7%E0%A5%8D%E0%A4%B0%E0%A5%81%E0%A4%B5%E0%A4%B8%E0%A5%8D%E0%A4%B5%E0%A4%BE%E0%A4%AE%E0%A4%BF%E0%A4%A8%E0%A5%80_/_%E0%A4%A6%E0%A5%8D%E0%A4%B5%E0%A4%BF%E0%A4%A4%E0%A5%80%E0%A4%AF_%E0%A4%85%E0%A4%82%E0%A4%95_/_%E0%A4%9C%E0%A4%AF%E0%A4%B6%E0%A4%82%E0%A4%95%E0%A4%B0_%E0%A4%AA%E0%A5%8D%E0%A4%B0%E0%A4%B8%E0%A4%BE%E0%A4%A6\" title=\"ध्रुवस्वामिनी / द्वितीय अंक / जयशंकर प्रसाद\">ध्रुवस्वामिनी / द्वितीय अंक / जयशंकर प्रसाद</a>,\n",
       " <a href=\"/gk/%E0%A4%A7%E0%A5%8D%E0%A4%B0%E0%A5%81%E0%A4%B5%E0%A4%B8%E0%A5%8D%E0%A4%B5%E0%A4%BE%E0%A4%AE%E0%A4%BF%E0%A4%A8%E0%A5%80_/_%E0%A4%A4%E0%A5%83%E0%A4%A4%E0%A5%80%E0%A4%AF_%E0%A4%85%E0%A4%82%E0%A4%95_/_%E0%A4%9C%E0%A4%AF%E0%A4%B6%E0%A4%82%E0%A4%95%E0%A4%B0_%E0%A4%AA%E0%A5%8D%E0%A4%B0%E0%A4%B8%E0%A4%BE%E0%A4%A6\" title=\"ध्रुवस्वामिनी / तृतीय अंक / जयशंकर प्रसाद\">ध्रुवस्वामिनी / तृतीय अंक / जयशंकर प्रसाद</a>,\n",
       " <ul><li><a href=\"/gk/%E0%A4%B6%E0%A5%8D%E0%A4%B0%E0%A5%87%E0%A4%A3%E0%A5%80:%E0%A4%AA%E0%A5%81%E0%A4%B8%E0%A5%8D%E0%A4%A4%E0%A4%95\" title=\"श्रेणी:पुस्तक\">पुस्तक</a></li><li><a href=\"/gk/%E0%A4%B6%E0%A5%8D%E0%A4%B0%E0%A5%87%E0%A4%A3%E0%A5%80:%E0%A4%A8%E0%A4%BE%E0%A4%9F%E0%A4%95\" title=\"श्रेणी:नाटक\">नाटक</a></li></ul>,\n",
       " <a href=\"/gk/%E0%A4%B6%E0%A5%8D%E0%A4%B0%E0%A5%87%E0%A4%A3%E0%A5%80:%E0%A4%AA%E0%A5%81%E0%A4%B8%E0%A5%8D%E0%A4%A4%E0%A4%95\" title=\"श्रेणी:पुस्तक\">पुस्तक</a>,\n",
       " <a href=\"/gk/%E0%A4%B6%E0%A5%8D%E0%A4%B0%E0%A5%87%E0%A4%A3%E0%A5%80:%E0%A4%A8%E0%A4%BE%E0%A4%9F%E0%A4%95\" title=\"श्रेणी:नाटक\">नाटक</a>,\n",
       " <ul>\n",
       " <li id=\"t-whatlinkshere\"><a accesskey=\"j\" href=\"/gk/%E0%A4%B5%E0%A4%BF%E0%A4%B6%E0%A5%87%E0%A4%B7:%E0%A4%95%E0%A4%A1%E0%A4%BC%E0%A4%BF%E0%A4%AF%E0%A4%BE%E0%A4%81/%E0%A4%A7%E0%A5%8D%E0%A4%B0%E0%A5%81%E0%A4%B5%E0%A4%B8%E0%A5%8D%E0%A4%B5%E0%A4%BE%E0%A4%AE%E0%A4%BF%E0%A4%A8%E0%A5%80_/_%E0%A4%9C%E0%A4%AF%E0%A4%B6%E0%A4%82%E0%A4%95%E0%A4%B0_%E0%A4%AA%E0%A5%8D%E0%A4%B0%E0%A4%B8%E0%A4%BE%E0%A4%A6\" title=\"यहाँ का हवाला देने वाले सभी विकि पन्नों की सूची [j]\">यहाँ के हवाले कहाँ कहाँ हैं</a></li>\n",
       " <li id=\"t-recentchangeslinked\"><a accesskey=\"k\" href=\"/gk/%E0%A4%B5%E0%A4%BF%E0%A4%B6%E0%A5%87%E0%A4%B7:RecentChangesLinked/%E0%A4%A7%E0%A5%8D%E0%A4%B0%E0%A5%81%E0%A4%B5%E0%A4%B8%E0%A5%8D%E0%A4%B5%E0%A4%BE%E0%A4%AE%E0%A4%BF%E0%A4%A8%E0%A5%80_/_%E0%A4%9C%E0%A4%AF%E0%A4%B6%E0%A4%82%E0%A4%95%E0%A4%B0_%E0%A4%AA%E0%A5%8D%E0%A4%B0%E0%A4%B8%E0%A4%BE%E0%A4%A6\" title=\"यहाँ जुड़े हुए सभी पन्नों में हुए हाल के बदलाव [k]\">पृष्ठ से जुड़े बदलाव</a></li>\n",
       " <li id=\"t-specialpages\"><a accesskey=\"q\" href=\"/gk/%E0%A4%B5%E0%A4%BF%E0%A4%B6%E0%A5%87%E0%A4%B7:%E0%A4%B5%E0%A4%BF%E0%A4%B6%E0%A5%87%E0%A4%B7_%E0%A4%AA%E0%A5%83%E0%A4%B7%E0%A5%8D%E0%A4%A0\" title=\"सभी विशेष पृष्ठों की सूची [q]\">विशेष पृष्ठ</a></li>\n",
       " <li id=\"t-print\"><a accesskey=\"p\" href=\"/gk/index.php?title=%E0%A4%A7%E0%A5%8D%E0%A4%B0%E0%A5%81%E0%A4%B5%E0%A4%B8%E0%A5%8D%E0%A4%B5%E0%A4%BE%E0%A4%AE%E0%A4%BF%E0%A4%A8%E0%A5%80_/_%E0%A4%9C%E0%A4%AF%E0%A4%B6%E0%A4%82%E0%A4%95%E0%A4%B0_%E0%A4%AA%E0%A5%8D%E0%A4%B0%E0%A4%B8%E0%A4%BE%E0%A4%A6&amp;printable=yes\" rel=\"alternate\" title=\"इस पृष्ठका छपानेलायक अवतरण [p]\">छापने योग्य संस्करण</a></li>\n",
       " <li id=\"t-permalink\"><a href=\"/gk/index.php?title=%E0%A4%A7%E0%A5%8D%E0%A4%B0%E0%A5%81%E0%A4%B5%E0%A4%B8%E0%A5%8D%E0%A4%B5%E0%A4%BE%E0%A4%AE%E0%A4%BF%E0%A4%A8%E0%A5%80_/_%E0%A4%9C%E0%A4%AF%E0%A4%B6%E0%A4%82%E0%A4%95%E0%A4%B0_%E0%A4%AA%E0%A5%8D%E0%A4%B0%E0%A4%B8%E0%A4%BE%E0%A4%A6&amp;oldid=16765\" title=\"पृष्ठ के इस संस्करण की स्थायी कड़ी\">स्थायी कड़ी</a></li>\n",
       " <li id=\"t-info\"><a href=\"/gk/index.php?title=%E0%A4%A7%E0%A5%8D%E0%A4%B0%E0%A5%81%E0%A4%B5%E0%A4%B8%E0%A5%8D%E0%A4%B5%E0%A4%BE%E0%A4%AE%E0%A4%BF%E0%A4%A8%E0%A5%80_/_%E0%A4%9C%E0%A4%AF%E0%A4%B6%E0%A4%82%E0%A4%95%E0%A4%B0_%E0%A4%AA%E0%A5%8D%E0%A4%B0%E0%A4%B8%E0%A4%BE%E0%A4%A6&amp;action=info\">इस पृष्ठ पर जानकारी</a></li>\n",
       " </ul>,\n",
       " <a accesskey=\"j\" href=\"/gk/%E0%A4%B5%E0%A4%BF%E0%A4%B6%E0%A5%87%E0%A4%B7:%E0%A4%95%E0%A4%A1%E0%A4%BC%E0%A4%BF%E0%A4%AF%E0%A4%BE%E0%A4%81/%E0%A4%A7%E0%A5%8D%E0%A4%B0%E0%A5%81%E0%A4%B5%E0%A4%B8%E0%A5%8D%E0%A4%B5%E0%A4%BE%E0%A4%AE%E0%A4%BF%E0%A4%A8%E0%A5%80_/_%E0%A4%9C%E0%A4%AF%E0%A4%B6%E0%A4%82%E0%A4%95%E0%A4%B0_%E0%A4%AA%E0%A5%8D%E0%A4%B0%E0%A4%B8%E0%A4%BE%E0%A4%A6\" title=\"यहाँ का हवाला देने वाले सभी विकि पन्नों की सूची [j]\">यहाँ के हवाले कहाँ कहाँ हैं</a>,\n",
       " <a accesskey=\"k\" href=\"/gk/%E0%A4%B5%E0%A4%BF%E0%A4%B6%E0%A5%87%E0%A4%B7:RecentChangesLinked/%E0%A4%A7%E0%A5%8D%E0%A4%B0%E0%A5%81%E0%A4%B5%E0%A4%B8%E0%A5%8D%E0%A4%B5%E0%A4%BE%E0%A4%AE%E0%A4%BF%E0%A4%A8%E0%A5%80_/_%E0%A4%9C%E0%A4%AF%E0%A4%B6%E0%A4%82%E0%A4%95%E0%A4%B0_%E0%A4%AA%E0%A5%8D%E0%A4%B0%E0%A4%B8%E0%A4%BE%E0%A4%A6\" title=\"यहाँ जुड़े हुए सभी पन्नों में हुए हाल के बदलाव [k]\">पृष्ठ से जुड़े बदलाव</a>,\n",
       " <a accesskey=\"q\" href=\"/gk/%E0%A4%B5%E0%A4%BF%E0%A4%B6%E0%A5%87%E0%A4%B7:%E0%A4%B5%E0%A4%BF%E0%A4%B6%E0%A5%87%E0%A4%B7_%E0%A4%AA%E0%A5%83%E0%A4%B7%E0%A5%8D%E0%A4%A0\" title=\"सभी विशेष पृष्ठों की सूची [q]\">विशेष पृष्ठ</a>,\n",
       " <a accesskey=\"p\" href=\"/gk/index.php?title=%E0%A4%A7%E0%A5%8D%E0%A4%B0%E0%A5%81%E0%A4%B5%E0%A4%B8%E0%A5%8D%E0%A4%B5%E0%A4%BE%E0%A4%AE%E0%A4%BF%E0%A4%A8%E0%A5%80_/_%E0%A4%9C%E0%A4%AF%E0%A4%B6%E0%A4%82%E0%A4%95%E0%A4%B0_%E0%A4%AA%E0%A5%8D%E0%A4%B0%E0%A4%B8%E0%A4%BE%E0%A4%A6&amp;printable=yes\" rel=\"alternate\" title=\"इस पृष्ठका छपानेलायक अवतरण [p]\">छापने योग्य संस्करण</a>,\n",
       " <a href=\"/gk/index.php?title=%E0%A4%A7%E0%A5%8D%E0%A4%B0%E0%A5%81%E0%A4%B5%E0%A4%B8%E0%A5%8D%E0%A4%B5%E0%A4%BE%E0%A4%AE%E0%A4%BF%E0%A4%A8%E0%A5%80_/_%E0%A4%9C%E0%A4%AF%E0%A4%B6%E0%A4%82%E0%A4%95%E0%A4%B0_%E0%A4%AA%E0%A5%8D%E0%A4%B0%E0%A4%B8%E0%A4%BE%E0%A4%A6&amp;oldid=16765\" title=\"पृष्ठ के इस संस्करण की स्थायी कड़ी\">स्थायी कड़ी</a>,\n",
       " <a href=\"/gk/index.php?title=%E0%A4%A7%E0%A5%8D%E0%A4%B0%E0%A5%81%E0%A4%B5%E0%A4%B8%E0%A5%8D%E0%A4%B5%E0%A4%BE%E0%A4%AE%E0%A4%BF%E0%A4%A8%E0%A5%80_/_%E0%A4%9C%E0%A4%AF%E0%A4%B6%E0%A4%82%E0%A4%95%E0%A4%B0_%E0%A4%AA%E0%A5%8D%E0%A4%B0%E0%A4%B8%E0%A4%BE%E0%A4%A6&amp;action=info\">इस पृष्ठ पर जानकारी</a>,\n",
       " <ul id=\"f-list\">\n",
       " <li id=\"lastmod\"> इस पृष्ठ का पिछला बदलाव 12 दिसम्बर 2012 को 12:15 बजे हुआ था।</li>\n",
       " <li id=\"viewcount\">यह पृष्ठ 14,233 बार देखा गया है।</li>\n",
       " <li id=\"privacy\"><a href=\"/gk/Gadya_Kosh:%E0%A4%97%E0%A5%8B%E0%A4%AA%E0%A4%A8%E0%A5%80%E0%A4%AF%E0%A4%A4%E0%A4%BE_%E0%A4%A8%E0%A5%80%E0%A4%A4%E0%A4%BF\" title=\"Gadya Kosh:गोपनीयता नीति\">गोपनीयता नीति</a></li>\n",
       " <li id=\"about\"><a href=\"/gk/Gadya_Kosh:%E0%A4%AA%E0%A4%B0%E0%A4%BF%E0%A4%9A%E0%A4%AF\" title=\"Gadya Kosh:परिचय\">Gadya Kosh के बारे में</a></li>\n",
       " <li id=\"disclaimer\"><a href=\"/gk/Gadya_Kosh:%E0%A4%B8%E0%A4%BE%E0%A4%A7%E0%A4%BE%E0%A4%B0%E0%A4%A3_%E0%A4%85%E0%A4%B8%E0%A5%8D%E0%A4%B5%E0%A5%80%E0%A4%95%E0%A4%B0%E0%A4%A3\" title=\"Gadya Kosh:साधारण अस्वीकरण\">अस्वीकरण</a></li>\n",
       " </ul>,\n",
       " <a href=\"/gk/Gadya_Kosh:%E0%A4%97%E0%A5%8B%E0%A4%AA%E0%A4%A8%E0%A5%80%E0%A4%AF%E0%A4%A4%E0%A4%BE_%E0%A4%A8%E0%A5%80%E0%A4%A4%E0%A4%BF\" title=\"Gadya Kosh:गोपनीयता नीति\">गोपनीयता नीति</a>,\n",
       " <a href=\"/gk/Gadya_Kosh:%E0%A4%AA%E0%A4%B0%E0%A4%BF%E0%A4%9A%E0%A4%AF\" title=\"Gadya Kosh:परिचय\">Gadya Kosh के बारे में</a>,\n",
       " <a href=\"/gk/Gadya_Kosh:%E0%A4%B8%E0%A4%BE%E0%A4%A7%E0%A4%BE%E0%A4%B0%E0%A4%A3_%E0%A4%85%E0%A4%B8%E0%A5%8D%E0%A4%B5%E0%A5%80%E0%A4%95%E0%A4%B0%E0%A4%A3\" title=\"Gadya Kosh:साधारण अस्वीकरण\">अस्वीकरण</a>]"
      ]
     },
     "execution_count": 60,
     "metadata": {},
     "output_type": "execute_result"
    }
   ],
   "source": [
    "soup.select('#mw-content-text, ul, li a')"
   ]
  },
  {
   "cell_type": "code",
   "execution_count": 20,
   "metadata": {},
   "outputs": [
    {
     "data": {
      "text/plain": [
       "'बूढ़ी काकी तथा अन्य नाटक'"
      ]
     },
     "execution_count": 20,
     "metadata": {},
     "output_type": "execute_result"
    }
   ],
   "source": [
    "soup.select('ul li')[200].text.strip()"
   ]
  },
  {
   "cell_type": "code",
   "execution_count": 37,
   "metadata": {},
   "outputs": [
    {
     "data": {
      "text/plain": [
       "14"
      ]
     },
     "execution_count": 37,
     "metadata": {},
     "output_type": "execute_result"
    }
   ],
   "source": [
    "len(soup.select('p'))"
   ]
  },
  {
   "cell_type": "code",
   "execution_count": 38,
   "metadata": {},
   "outputs": [
    {
     "data": {
      "text/plain": [
       "'होरी ने अपना डंडा उठाया और घर चला। शगून के रुपये कहाँ से आयेंगे, यही चिन्ता उसके सिर पर सवार थी।\\n'"
      ]
     },
     "execution_count": 38,
     "metadata": {},
     "output_type": "execute_result"
    }
   ],
   "source": [
    "soup.select('p')[12].text"
   ]
  },
  {
   "cell_type": "code",
   "execution_count": null,
   "metadata": {},
   "outputs": [],
   "source": []
  },
  {
   "cell_type": "code",
   "execution_count": 41,
   "metadata": {},
   "outputs": [],
   "source": [
    "import requests\n",
    "import bs4\n",
    "final_link = 'http://gadyakosh.org/gk/%E0%A4%97%E0%A5%8B%E0%A4%A6%E0%A4%BE%E0%A4%A8_%E0%A4%AD%E0%A4%BE%E0%A4%97_37_/_%E0%A4%AA%E0%A5%8D%E0%A4%B0%E0%A5%87%E0%A4%AE%E0%A4%9A%E0%A4%82%E0%A4%A6'\n",
    "code = requests.get(final_link)\n",
    "soup = bs4.BeautifulSoup(code.text, \"lxml\")"
   ]
  },
  {
   "cell_type": "markdown",
   "metadata": {},
   "source": [
    "### Condition for final page"
   ]
  },
  {
   "cell_type": "code",
   "execution_count": 48,
   "metadata": {},
   "outputs": [
    {
     "data": {
      "text/plain": [
       "False"
      ]
     },
     "execution_count": 48,
     "metadata": {},
     "output_type": "execute_result"
    }
   ],
   "source": [
    "len(soup.select('p'))>1"
   ]
  },
  {
   "cell_type": "code",
   "execution_count": null,
   "metadata": {},
   "outputs": [],
   "source": []
  }
 ],
 "metadata": {
  "kernelspec": {
   "display_name": "Python 3",
   "language": "python",
   "name": "python3"
  },
  "language_info": {
   "codemirror_mode": {
    "name": "ipython",
    "version": 3
   },
   "file_extension": ".py",
   "mimetype": "text/x-python",
   "name": "python",
   "nbconvert_exporter": "python",
   "pygments_lexer": "ipython3",
   "version": "3.8.5"
  }
 },
 "nbformat": 4,
 "nbformat_minor": 4
}
