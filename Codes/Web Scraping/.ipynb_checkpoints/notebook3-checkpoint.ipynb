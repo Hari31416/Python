{
 "cells": [
  {
   "cell_type": "code",
   "execution_count": 1,
   "metadata": {},
   "outputs": [],
   "source": [
    "import requests\n",
    "import bs4"
   ]
  },
  {
   "cell_type": "code",
   "execution_count": 3,
   "metadata": {},
   "outputs": [],
   "source": [
    "url = \"https://books.toscrape.com/catalogue/page-{}.html\""
   ]
  },
  {
   "cell_type": "code",
   "execution_count": 5,
   "metadata": {},
   "outputs": [],
   "source": [
    "code = requests.get(url.format(1))\n",
    "soup = bs4.BeautifulSoup(code.text, 'lxml')"
   ]
  },
  {
   "cell_type": "code",
   "execution_count": 6,
   "metadata": {},
   "outputs": [],
   "source": [
    "example = soup.select(\".product_pod\")"
   ]
  },
  {
   "cell_type": "code",
   "execution_count": 20,
   "metadata": {},
   "outputs": [
    {
     "name": "stdout",
     "output_type": "stream",
     "text": [
      "Soumission\n",
      "Sharp Objects\n",
      "Sapiens: A Brief History of Humankind\n",
      "Starving Hearts (Triangular Trade Trilogy, #1)\n",
      "Shakespeare's Sonnets\n",
      "Set Me Free\n",
      "Scott Pilgrim's Precious Little Life (Scott Pilgrim #1)\n"
     ]
    }
   ],
   "source": [
    "for n in range(len(example)):\n",
    "    if example[n]('a')[1]['title'][0].lower() == 's':\n",
    "        print(example[n]('a')[1]['title'])"
   ]
  },
  {
   "cell_type": "code",
   "execution_count": 22,
   "metadata": {},
   "outputs": [],
   "source": [
    "import requests\n",
    "import bs4\n",
    "\n",
    "books = []\n",
    "url = \"https://books.toscrape.com/catalogue/page-{}.html\"\n",
    "\n",
    "for n in range(1,51):\n",
    "    code = requests.get(url.format(n))\n",
    "    soup = bs4.BeautifulSoup(code.text, 'lxml')\n",
    "\n",
    "    example = soup.select(\".product_pod\")\n",
    "\n",
    "    for n in range(len(example)):\n",
    "        if example[n]('a')[1]['title'][0].lower() == 's':\n",
    "            books.append(example[n]('a')[1]['title'])\n",
    "\n",
    "\n"
   ]
  },
  {
   "cell_type": "code",
   "execution_count": 23,
   "metadata": {},
   "outputs": [
    {
     "data": {
      "text/plain": [
       "['Soumission',\n",
       " 'Sharp Objects',\n",
       " 'Sapiens: A Brief History of Humankind',\n",
       " 'Starving Hearts (Triangular Trade Trilogy, #1)',\n",
       " \"Shakespeare's Sonnets\",\n",
       " 'Set Me Free',\n",
       " \"Scott Pilgrim's Precious Little Life (Scott Pilgrim #1)\",\n",
       " \"Sophie's World\",\n",
       " 'Slow States of Collapse: Poems',\n",
       " 'Spark Joy: An Illustrated Master Class on the Art of Organizing and Tidying Up',\n",
       " 'Soul Reader',\n",
       " 'Security',\n",
       " 'Saga, Volume 6 (Saga (Collected Editions) #6)',\n",
       " 'Saga, Volume 5 (Saga (Collected Editions) #5)',\n",
       " 'Suddenly in Love (Lake Haven #1)',\n",
       " 'Something More Than This',\n",
       " 'Soft Apocalypse',\n",
       " \"So You've Been Publicly Shamed\",\n",
       " 'Shoe Dog: A Memoir by the Creator of NIKE',\n",
       " 'Shobu Samurai, Project Aryoku (#3)',\n",
       " 'Secrets and Lace (Fatal Hearts #1)',\n",
       " 'Scarlett Epstein Hates It Here',\n",
       " 'Swell: A Year of Waves',\n",
       " 'Superman Vol. 1: Before Truth (Superman by Gene Luen Yang #1)',\n",
       " 'Still Life with Bread Crumbs',\n",
       " 'Steve Jobs',\n",
       " 'Sorting the Beef from the Bull: The Science of Food Fraud Forensics',\n",
       " 'Someone Like You (The Harrisons #2)',\n",
       " 'So Cute It Hurts!!, Vol. 6 (So Cute It Hurts!! #6)',\n",
       " 'Shtum',\n",
       " 'See America: A Celebration of Our National Parks & Treasured Sites',\n",
       " 'salt.',\n",
       " 'Searching for Meaning in Gailana',\n",
       " 'Stars Above (The Lunar Chronicles #4.5)',\n",
       " 'Snatched: How A Drug Queen Went Undercover for the DEA and Was Kidnapped By Colombian Guerillas',\n",
       " 'Sleeping Giants (Themis Files #1)',\n",
       " 'Setting the World on Fire: The Brief, Astonishing Life of St. Catherine of Siena',\n",
       " 'Suzie Snowflake: One beautiful flake (a self-esteem story)',\n",
       " 'South of Sunshine',\n",
       " 'Smarter Faster Better: The Secrets of Being Productive in Life and Business',\n",
       " 'Silence in the Dark (Logan Point #4)',\n",
       " 'Shadows of the Past (Logan Point #1)',\n",
       " 'Steal Like an Artist: 10 Things Nobody Told You About Being Creative',\n",
       " 'Sit, Stay, Love',\n",
       " 'Sister Dear',\n",
       " 'Shrunken Treasures: Literary Classics, Short, Sweet, and Silly',\n",
       " 'Ship Leaves Harbor: Essays on Travel by a Recovering Journeyman',\n",
       " 'Siddhartha',\n",
       " 'Shiver (The Wolves of Mercy Falls #1)',\n",
       " 'Some Women',\n",
       " 'Shopaholic Ties the Knot (Shopaholic #3)',\n",
       " \"Surely You're Joking, Mr. Feynman!: Adventures of a Curious Character\",\n",
       " 'Stiff: The Curious Lives of Human Cadavers',\n",
       " 'Spilled Milk: Based on a True Story',\n",
       " 'Something Borrowed (Darcy & Rachel #1)',\n",
       " 'Something Blue (Darcy & Rachel #2)',\n",
       " 'Soldier (Talon #3)',\n",
       " 'Shopaholic & Baby (Shopaholic #5)',\n",
       " 'Seven Days in the Art World',\n",
       " 'Seven Brief Lessons on Physics',\n",
       " 'Scarlet (The Lunar Chronicles #2)',\n",
       " \"Sarah's Key\",\n",
       " 'Saga, Volume 3 (Saga (Collected Editions) #3)',\n",
       " 'Sugar Rush (Offensive Line #2)',\n",
       " 'Saga, Volume 2 (Saga (Collected Editions) #2)',\n",
       " 'Starlark',\n",
       " 'Skip Beat!, Vol. 01 (Skip Beat! #1)',\n",
       " 'Sister Sable (The Mad Queen #1)',\n",
       " 'Shatter Me (Shatter Me #1)',\n",
       " 'Shameless',\n",
       " 'Shadow Rites (Jane Yellowrock #10)',\n",
       " 'Settling the Score (The Summer Games #1)',\n",
       " 'Sense and Sensibility',\n",
       " 'Saga, Volume 1 (Saga (Collected Editions) #1)']"
      ]
     },
     "execution_count": 23,
     "metadata": {},
     "output_type": "execute_result"
    }
   ],
   "source": [
    "books"
   ]
  },
  {
   "cell_type": "code",
   "execution_count": 24,
   "metadata": {},
   "outputs": [
    {
     "data": {
      "text/plain": [
       "74"
      ]
     },
     "execution_count": 24,
     "metadata": {},
     "output_type": "execute_result"
    }
   ],
   "source": [
    "len(books)"
   ]
  },
  {
   "cell_type": "code",
   "execution_count": 25,
   "metadata": {},
   "outputs": [],
   "source": [
    "import requests\n",
    "import bs4\n",
    "\n",
    "books_a = []\n",
    "url = \"https://books.toscrape.com/catalogue/page-{}.html\"\n",
    "\n",
    "for n in range(1,51):\n",
    "    code = requests.get(url.format(n))\n",
    "    soup = bs4.BeautifulSoup(code.text, 'lxml')\n",
    "\n",
    "    example = soup.select(\".product_pod\")\n",
    "\n",
    "    for n in range(len(example)):\n",
    "        if example[n]('a')[1]['title'][0].lower() == 'a':\n",
    "            books_a.append(example[n]('a')[1]['title'])\n",
    "\n",
    "\n"
   ]
  },
  {
   "cell_type": "code",
   "execution_count": 26,
   "metadata": {},
   "outputs": [
    {
     "data": {
      "text/plain": [
       "73"
      ]
     },
     "execution_count": 26,
     "metadata": {},
     "output_type": "execute_result"
    }
   ],
   "source": [
    "len(books_a)"
   ]
  },
  {
   "cell_type": "code",
   "execution_count": null,
   "metadata": {},
   "outputs": [],
   "source": []
  }
 ],
 "metadata": {
  "kernelspec": {
   "display_name": "Python 3",
   "language": "python",
   "name": "python3"
  },
  "language_info": {
   "codemirror_mode": {
    "name": "ipython",
    "version": 3
   },
   "file_extension": ".py",
   "mimetype": "text/x-python",
   "name": "python",
   "nbconvert_exporter": "python",
   "pygments_lexer": "ipython3",
   "version": "3.8.5"
  }
 },
 "nbformat": 4,
 "nbformat_minor": 2
}
