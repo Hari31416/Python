{
 "cells": [
  {
   "cell_type": "code",
   "execution_count": 1,
   "source": [
    "import numpy as np\r\n",
    "import matplotlib.pyplot as plt\r\n",
    "# import mat\r\n",
    "import pandas as pd\r\n",
    "# import seaborn as sns\r\n",
    "\r\n",
    "from fractions import Fraction\r\n",
    "from plotly import __version__\r\n",
    "from plotly.offline import download_plotlyjs, init_notebook_mode, plot, iplot\r\n",
    "import cufflinks as cf\r\n",
    "import plotly.graph_objects as go\r\n",
    "import plotly.express as px\r\n",
    "init_notebook_mode(connected=True)\r\n",
    "cf.go_offline()"
   ],
   "outputs": [
    {
     "output_type": "display_data",
     "data": {
      "text/html": [
       "        <script type=\"text/javascript\">\n",
       "        window.PlotlyConfig = {MathJaxConfig: 'local'};\n",
       "        if (window.MathJax) {MathJax.Hub.Config({SVG: {font: \"STIX-Web\"}});}\n",
       "        if (typeof require !== 'undefined') {\n",
       "        require.undef(\"plotly\");\n",
       "        requirejs.config({\n",
       "            paths: {\n",
       "                'plotly': ['https://cdn.plot.ly/plotly-latest.min']\n",
       "            }\n",
       "        });\n",
       "        require(['plotly'], function(Plotly) {\n",
       "            window._Plotly = Plotly;\n",
       "        });\n",
       "        }\n",
       "        </script>\n",
       "        "
      ]
     },
     "metadata": {}
    },
    {
     "output_type": "display_data",
     "data": {
      "text/html": [
       "        <script type=\"text/javascript\">\n",
       "        window.PlotlyConfig = {MathJaxConfig: 'local'};\n",
       "        if (window.MathJax) {MathJax.Hub.Config({SVG: {font: \"STIX-Web\"}});}\n",
       "        if (typeof require !== 'undefined') {\n",
       "        require.undef(\"plotly\");\n",
       "        requirejs.config({\n",
       "            paths: {\n",
       "                'plotly': ['https://cdn.plot.ly/plotly-latest.min']\n",
       "            }\n",
       "        });\n",
       "        require(['plotly'], function(Plotly) {\n",
       "            window._Plotly = Plotly;\n",
       "        });\n",
       "        }\n",
       "        </script>\n",
       "        "
      ]
     },
     "metadata": {}
    }
   ],
   "metadata": {}
  },
  {
   "cell_type": "markdown",
   "source": [
    "# 1.\r\n",
    "First thing I need to show is that for a small number $x$, the value of $e^x$ is approximately equal to\r\n",
    "$$ e^x = 1+x $$\r\n",
    "To prove this, we'll first show that \r\n",
    "$$ 10^x = 1+cx$$\r\n",
    "here c is constant which as we'll see is a scale factor. Which will turn out to be $\\ln{10}$.\r\n",
    "To get this, we'll start out with trying to get the value of $10^{x}$ for a number x. We'll start by calculating the square root of $10$ and then keep doing this."
   ],
   "metadata": {}
  },
  {
   "cell_type": "code",
   "execution_count": 2,
   "source": [
    "#showing 8 digits\r\n",
    "pd.set_option(\"display.precision\", 8)\r\n",
    "#creating x\r\n",
    "power = np.arange(0, 20, 1)\r\n",
    "x = 1/2**power\r\n",
    "#creating 10^x\r\n",
    "ten_x = 10**x\r\n",
    "#creating the DataFrame\r\n",
    "df1 = pd.DataFrame(data = [x, ten_x], index = ['x', '10^x']).transpose()\r\n",
    "#calculating (10^x-1)/x\r\n",
    "df1['c = (10^x-1)/x'] = df1['x'].apply(lambda x: (10**x-1)/x)"
   ],
   "outputs": [],
   "metadata": {}
  },
  {
   "cell_type": "code",
   "execution_count": 3,
   "source": [
    "df1"
   ],
   "outputs": [
    {
     "output_type": "execute_result",
     "data": {
      "text/html": [
       "<div>\n",
       "<style scoped>\n",
       "    .dataframe tbody tr th:only-of-type {\n",
       "        vertical-align: middle;\n",
       "    }\n",
       "\n",
       "    .dataframe tbody tr th {\n",
       "        vertical-align: top;\n",
       "    }\n",
       "\n",
       "    .dataframe thead th {\n",
       "        text-align: right;\n",
       "    }\n",
       "</style>\n",
       "<table border=\"1\" class=\"dataframe\">\n",
       "  <thead>\n",
       "    <tr style=\"text-align: right;\">\n",
       "      <th></th>\n",
       "      <th>x</th>\n",
       "      <th>10^x</th>\n",
       "      <th>c = (10^x-1)/x</th>\n",
       "    </tr>\n",
       "  </thead>\n",
       "  <tbody>\n",
       "    <tr>\n",
       "      <th>0</th>\n",
       "      <td>1.00000000</td>\n",
       "      <td>10.00000000</td>\n",
       "      <td>9.00000000</td>\n",
       "    </tr>\n",
       "    <tr>\n",
       "      <th>1</th>\n",
       "      <td>0.50000000</td>\n",
       "      <td>3.16227766</td>\n",
       "      <td>4.32455532</td>\n",
       "    </tr>\n",
       "    <tr>\n",
       "      <th>2</th>\n",
       "      <td>0.25000000</td>\n",
       "      <td>1.77827941</td>\n",
       "      <td>3.11311764</td>\n",
       "    </tr>\n",
       "    <tr>\n",
       "      <th>3</th>\n",
       "      <td>0.12500000</td>\n",
       "      <td>1.33352143</td>\n",
       "      <td>2.66817146</td>\n",
       "    </tr>\n",
       "    <tr>\n",
       "      <th>4</th>\n",
       "      <td>0.06250000</td>\n",
       "      <td>1.15478198</td>\n",
       "      <td>2.47651176</td>\n",
       "    </tr>\n",
       "    <tr>\n",
       "      <th>5</th>\n",
       "      <td>0.03125000</td>\n",
       "      <td>1.07460783</td>\n",
       "      <td>2.38745051</td>\n",
       "    </tr>\n",
       "    <tr>\n",
       "      <th>6</th>\n",
       "      <td>0.01562500</td>\n",
       "      <td>1.03663293</td>\n",
       "      <td>2.34450742</td>\n",
       "    </tr>\n",
       "    <tr>\n",
       "      <th>7</th>\n",
       "      <td>0.00781250</td>\n",
       "      <td>1.01815172</td>\n",
       "      <td>2.32342038</td>\n",
       "    </tr>\n",
       "    <tr>\n",
       "      <th>8</th>\n",
       "      <td>0.00390625</td>\n",
       "      <td>1.00903504</td>\n",
       "      <td>2.31297148</td>\n",
       "    </tr>\n",
       "    <tr>\n",
       "      <th>9</th>\n",
       "      <td>0.00195312</td>\n",
       "      <td>1.00450736</td>\n",
       "      <td>2.30777050</td>\n",
       "    </tr>\n",
       "    <tr>\n",
       "      <th>10</th>\n",
       "      <td>0.00097656</td>\n",
       "      <td>1.00225115</td>\n",
       "      <td>2.30517585</td>\n",
       "    </tr>\n",
       "    <tr>\n",
       "      <th>11</th>\n",
       "      <td>0.00048828</td>\n",
       "      <td>1.00112494</td>\n",
       "      <td>2.30387999</td>\n",
       "    </tr>\n",
       "    <tr>\n",
       "      <th>12</th>\n",
       "      <td>0.00024414</td>\n",
       "      <td>1.00056231</td>\n",
       "      <td>2.30323242</td>\n",
       "    </tr>\n",
       "    <tr>\n",
       "      <th>13</th>\n",
       "      <td>0.00012207</td>\n",
       "      <td>1.00028112</td>\n",
       "      <td>2.30290873</td>\n",
       "    </tr>\n",
       "    <tr>\n",
       "      <th>14</th>\n",
       "      <td>0.00006104</td>\n",
       "      <td>1.00014055</td>\n",
       "      <td>2.30274690</td>\n",
       "    </tr>\n",
       "    <tr>\n",
       "      <th>15</th>\n",
       "      <td>0.00003052</td>\n",
       "      <td>1.00007027</td>\n",
       "      <td>2.30266600</td>\n",
       "    </tr>\n",
       "    <tr>\n",
       "      <th>16</th>\n",
       "      <td>0.00001526</td>\n",
       "      <td>1.00003514</td>\n",
       "      <td>2.30262554</td>\n",
       "    </tr>\n",
       "    <tr>\n",
       "      <th>17</th>\n",
       "      <td>0.00000763</td>\n",
       "      <td>1.00001757</td>\n",
       "      <td>2.30260532</td>\n",
       "    </tr>\n",
       "    <tr>\n",
       "      <th>18</th>\n",
       "      <td>0.00000381</td>\n",
       "      <td>1.00000878</td>\n",
       "      <td>2.30259521</td>\n",
       "    </tr>\n",
       "    <tr>\n",
       "      <th>19</th>\n",
       "      <td>0.00000191</td>\n",
       "      <td>1.00000439</td>\n",
       "      <td>2.30259015</td>\n",
       "    </tr>\n",
       "  </tbody>\n",
       "</table>\n",
       "</div>"
      ],
      "text/plain": [
       "             x         10^x  c = (10^x-1)/x\n",
       "0   1.00000000  10.00000000      9.00000000\n",
       "1   0.50000000   3.16227766      4.32455532\n",
       "2   0.25000000   1.77827941      3.11311764\n",
       "3   0.12500000   1.33352143      2.66817146\n",
       "4   0.06250000   1.15478198      2.47651176\n",
       "5   0.03125000   1.07460783      2.38745051\n",
       "6   0.01562500   1.03663293      2.34450742\n",
       "7   0.00781250   1.01815172      2.32342038\n",
       "8   0.00390625   1.00903504      2.31297148\n",
       "9   0.00195312   1.00450736      2.30777050\n",
       "10  0.00097656   1.00225115      2.30517585\n",
       "11  0.00048828   1.00112494      2.30387999\n",
       "12  0.00024414   1.00056231      2.30323242\n",
       "13  0.00012207   1.00028112      2.30290873\n",
       "14  0.00006104   1.00014055      2.30274690\n",
       "15  0.00003052   1.00007027      2.30266600\n",
       "16  0.00001526   1.00003514      2.30262554\n",
       "17  0.00000763   1.00001757      2.30260532\n",
       "18  0.00000381   1.00000878      2.30259521\n",
       "19  0.00000191   1.00000439      2.30259015"
      ]
     },
     "metadata": {},
     "execution_count": 3
    }
   ],
   "metadata": {}
  },
  {
   "cell_type": "code",
   "execution_count": 4,
   "source": [
    "np.log(10)"
   ],
   "outputs": [
    {
     "output_type": "execute_result",
     "data": {
      "text/plain": [
       "2.302585092994046"
      ]
     },
     "metadata": {},
     "execution_count": 4
    }
   ],
   "metadata": {}
  },
  {
   "cell_type": "markdown",
   "source": [
    "As we can see, the value of $c$ is coming out to be about 2.30259. This is approximately the value of $\\ln{10} =2.302585092994046 $. Using this, we see that for samll value of x:\r\n",
    "$$ e^x = 1 + x$$"
   ],
   "metadata": {}
  },
  {
   "cell_type": "markdown",
   "source": [
    "# 2.\r\n",
    "Now we shall proceed to prove tha Euler's equation:\r\n",
    "$$ e^{ix} = \\cos(x) + i\\sin(x) $$\r\n",
    "The only assumption we need to make is that for small value of x, we must have\r\n",
    "$$ e^{ix} = 1 + ix$$"
   ],
   "metadata": {}
  },
  {
   "cell_type": "markdown",
   "source": [
    "We shall start by using:\r\n",
    "$$ e^{i\\frac{1}{1024}} = 1 + i\\times \\frac{1}{1024} $$\r\n",
    "and follow the exact opposite method as done above. We'll multiply the above value to itself to get the next values. <br>\r\n",
    "To get more accurate value, we'll start from $x = \\frac{1}{2^{15}}$"
   ],
   "metadata": {}
  },
  {
   "cell_type": "code",
   "execution_count": 5,
   "source": [
    "# power\r\n",
    "power = np.arange(0, 16, 1)\r\n",
    "#Setting the base complex number\r\n",
    "base_num = np.complex(1,1/2**15)\r\n",
    "x = 2**power\r\n",
    "# p = Fraction((1/1024)*2**power).limit_denominator()\r\n",
    "#Getting the complex numbers\r\n",
    "e_ix = base_num**x\r\n",
    "\r\n",
    "df2 = pd.DataFrame(data = [x, e_ix], index = ['x', 'e^x']).transpose()\r\n",
    "df2['power'] = df2['x'].apply(lambda x: int(x.real))\r\n",
    "df2.drop(columns = ['x'], inplace = True)\r\n",
    "df2['x'] = df2['power'].apply(lambda x: Fraction((1/2**15)*x).limit_denominator())\r\n",
    "df2=df2[['power', 'x', 'e^x']]"
   ],
   "outputs": [],
   "metadata": {}
  },
  {
   "cell_type": "code",
   "execution_count": 15,
   "source": [
    "df2"
   ],
   "outputs": [
    {
     "output_type": "execute_result",
     "data": {
      "text/html": [
       "<div>\n",
       "<style scoped>\n",
       "    .dataframe tbody tr th:only-of-type {\n",
       "        vertical-align: middle;\n",
       "    }\n",
       "\n",
       "    .dataframe tbody tr th {\n",
       "        vertical-align: top;\n",
       "    }\n",
       "\n",
       "    .dataframe thead th {\n",
       "        text-align: right;\n",
       "    }\n",
       "</style>\n",
       "<table border=\"1\" class=\"dataframe\">\n",
       "  <thead>\n",
       "    <tr style=\"text-align: right;\">\n",
       "      <th></th>\n",
       "      <th>power</th>\n",
       "      <th>x</th>\n",
       "      <th>e^x</th>\n",
       "    </tr>\n",
       "  </thead>\n",
       "  <tbody>\n",
       "    <tr>\n",
       "      <th>0</th>\n",
       "      <td>1</td>\n",
       "      <td>1/32768</td>\n",
       "      <td>1.00000000+0.00003052j</td>\n",
       "    </tr>\n",
       "    <tr>\n",
       "      <th>1</th>\n",
       "      <td>2</td>\n",
       "      <td>1/16384</td>\n",
       "      <td>1.00000000+0.00006104j</td>\n",
       "    </tr>\n",
       "    <tr>\n",
       "      <th>2</th>\n",
       "      <td>4</td>\n",
       "      <td>1/8192</td>\n",
       "      <td>0.99999999+0.00012207j</td>\n",
       "    </tr>\n",
       "    <tr>\n",
       "      <th>3</th>\n",
       "      <td>8</td>\n",
       "      <td>1/4096</td>\n",
       "      <td>0.99999997+0.00024414j</td>\n",
       "    </tr>\n",
       "    <tr>\n",
       "      <th>4</th>\n",
       "      <td>16</td>\n",
       "      <td>1/2048</td>\n",
       "      <td>0.99999989+0.00048828j</td>\n",
       "    </tr>\n",
       "    <tr>\n",
       "      <th>5</th>\n",
       "      <td>32</td>\n",
       "      <td>1/1024</td>\n",
       "      <td>0.99999954+0.00097656j</td>\n",
       "    </tr>\n",
       "    <tr>\n",
       "      <th>6</th>\n",
       "      <td>64</td>\n",
       "      <td>1/512</td>\n",
       "      <td>0.99999812+0.00195312j</td>\n",
       "    </tr>\n",
       "    <tr>\n",
       "      <th>7</th>\n",
       "      <td>128</td>\n",
       "      <td>1/256</td>\n",
       "      <td>0.99999243+0.00390624j</td>\n",
       "    </tr>\n",
       "    <tr>\n",
       "      <th>8</th>\n",
       "      <td>256</td>\n",
       "      <td>1/128</td>\n",
       "      <td>0.99996960+0.00781242j</td>\n",
       "    </tr>\n",
       "    <tr>\n",
       "      <th>9</th>\n",
       "      <td>512</td>\n",
       "      <td>1/64</td>\n",
       "      <td>0.99987817+0.01562437j</td>\n",
       "    </tr>\n",
       "    <tr>\n",
       "      <th>10</th>\n",
       "      <td>1024</td>\n",
       "      <td>1/32</td>\n",
       "      <td>0.99951224+0.03124493j</td>\n",
       "    </tr>\n",
       "    <tr>\n",
       "      <th>11</th>\n",
       "      <td>2048</td>\n",
       "      <td>1/16</td>\n",
       "      <td>0.99804846+0.06245938j</td>\n",
       "    </tr>\n",
       "    <tr>\n",
       "      <th>12</th>\n",
       "      <td>4096</td>\n",
       "      <td>1/8</td>\n",
       "      <td>0.99219956+0.12467497j</td>\n",
       "    </tr>\n",
       "    <tr>\n",
       "      <th>13</th>\n",
       "      <td>8192</td>\n",
       "      <td>1/4</td>\n",
       "      <td>0.96891612+0.24740490j</td>\n",
       "    </tr>\n",
       "    <tr>\n",
       "      <th>14</th>\n",
       "      <td>16384</td>\n",
       "      <td>1/2</td>\n",
       "      <td>0.87758926+0.47942920j</td>\n",
       "    </tr>\n",
       "    <tr>\n",
       "      <th>15</th>\n",
       "      <td>32768</td>\n",
       "      <td>1</td>\n",
       "      <td>0.54031055+0.84148382j</td>\n",
       "    </tr>\n",
       "  </tbody>\n",
       "</table>\n",
       "</div>"
      ],
      "text/plain": [
       "    power        x                     e^x\n",
       "0       1  1/32768  1.00000000+0.00003052j\n",
       "1       2  1/16384  1.00000000+0.00006104j\n",
       "2       4   1/8192  0.99999999+0.00012207j\n",
       "3       8   1/4096  0.99999997+0.00024414j\n",
       "4      16   1/2048  0.99999989+0.00048828j\n",
       "5      32   1/1024  0.99999954+0.00097656j\n",
       "6      64    1/512  0.99999812+0.00195312j\n",
       "7     128    1/256  0.99999243+0.00390624j\n",
       "8     256    1/128  0.99996960+0.00781242j\n",
       "9     512     1/64  0.99987817+0.01562437j\n",
       "10   1024     1/32  0.99951224+0.03124493j\n",
       "11   2048     1/16  0.99804846+0.06245938j\n",
       "12   4096      1/8  0.99219956+0.12467497j\n",
       "13   8192      1/4  0.96891612+0.24740490j\n",
       "14  16384      1/2  0.87758926+0.47942920j\n",
       "15  32768        1  0.54031055+0.84148382j"
      ]
     },
     "metadata": {},
     "execution_count": 15
    }
   ],
   "metadata": {}
  },
  {
   "cell_type": "code",
   "execution_count": 25,
   "source": [
    "numbers = df2.drop(['power'], axis = 1)"
   ],
   "outputs": [],
   "metadata": {}
  },
  {
   "cell_type": "code",
   "execution_count": 26,
   "source": [
    "# numbers"
   ],
   "outputs": [],
   "metadata": {}
  },
  {
   "cell_type": "code",
   "execution_count": 27,
   "source": [
    "numbers['Real Part'] = df2['e^x'].apply(lambda x: x.real)\r\n",
    "numbers['Imaginary Part'] = df2['e^x'].apply(lambda x: x.imag)"
   ],
   "outputs": [],
   "metadata": {}
  },
  {
   "cell_type": "code",
   "execution_count": 29,
   "source": [
    "numbers.drop(['e^x'], axis = 1).to_csv('numbers.csv')"
   ],
   "outputs": [],
   "metadata": {}
  },
  {
   "cell_type": "code",
   "execution_count": null,
   "source": [],
   "outputs": [],
   "metadata": {}
  },
  {
   "cell_type": "markdown",
   "source": [
    "It is obvious from the table above that the real value of $e^{ix}$ is decreasing while the imaginary part is increasing. To see the effects more clearly, we'll use $e^{i/8}$ as base number and repeat the procedure above."
   ],
   "metadata": {}
  },
  {
   "cell_type": "code",
   "execution_count": 7,
   "source": [
    "x = np.arange(0,80)\r\n",
    "base_num = df2['e^x'][12]\r\n",
    "e_x = base_num**x\r\n",
    "df3 = pd.DataFrame(data = [x, e_x], index = ['x', 'e^x']).transpose()\r\n",
    "df3['power'] = df3['x'].apply(lambda x: int(x.real))\r\n",
    "df3.drop(columns = ['x'], inplace = True)\r\n",
    "df3['x'] = df3['power'].apply(lambda x: Fraction((1/8)*x).limit_denominator())\r\n",
    "df3=df3[['power', 'x', 'e^x']]"
   ],
   "outputs": [],
   "metadata": {}
  },
  {
   "cell_type": "code",
   "execution_count": 30,
   "source": [
    "df3"
   ],
   "outputs": [
    {
     "output_type": "execute_result",
     "data": {
      "text/html": [
       "<div>\n",
       "<style scoped>\n",
       "    .dataframe tbody tr th:only-of-type {\n",
       "        vertical-align: middle;\n",
       "    }\n",
       "\n",
       "    .dataframe tbody tr th {\n",
       "        vertical-align: top;\n",
       "    }\n",
       "\n",
       "    .dataframe thead th {\n",
       "        text-align: right;\n",
       "    }\n",
       "</style>\n",
       "<table border=\"1\" class=\"dataframe\">\n",
       "  <thead>\n",
       "    <tr style=\"text-align: right;\">\n",
       "      <th></th>\n",
       "      <th>power</th>\n",
       "      <th>x</th>\n",
       "      <th>e^x</th>\n",
       "    </tr>\n",
       "  </thead>\n",
       "  <tbody>\n",
       "    <tr>\n",
       "      <th>0</th>\n",
       "      <td>0</td>\n",
       "      <td>0</td>\n",
       "      <td>1.00000000+0.00000000j</td>\n",
       "    </tr>\n",
       "    <tr>\n",
       "      <th>1</th>\n",
       "      <td>1</td>\n",
       "      <td>1/8</td>\n",
       "      <td>0.99219956+0.12467497j</td>\n",
       "    </tr>\n",
       "    <tr>\n",
       "      <th>2</th>\n",
       "      <td>2</td>\n",
       "      <td>1/4</td>\n",
       "      <td>0.96891612+0.24740490j</td>\n",
       "    </tr>\n",
       "    <tr>\n",
       "      <th>3</th>\n",
       "      <td>3</td>\n",
       "      <td>3/8</td>\n",
       "      <td>0.93051295+0.36627462j</td>\n",
       "    </tr>\n",
       "    <tr>\n",
       "      <th>4</th>\n",
       "      <td>4</td>\n",
       "      <td>1/2</td>\n",
       "      <td>0.87758926+0.47942920j</td>\n",
       "    </tr>\n",
       "    <tr>\n",
       "      <th>...</th>\n",
       "      <td>...</td>\n",
       "      <td>...</td>\n",
       "      <td>...</td>\n",
       "    </tr>\n",
       "    <tr>\n",
       "      <th>75</th>\n",
       "      <td>75</td>\n",
       "      <td>75/8</td>\n",
       "      <td>-0.99890422+0.04976453j</td>\n",
       "    </tr>\n",
       "    <tr>\n",
       "      <th>76</th>\n",
       "      <td>76</td>\n",
       "      <td>19/2</td>\n",
       "      <td>-0.99731672-0.07516201j</td>\n",
       "    </tr>\n",
       "    <tr>\n",
       "      <th>77</th>\n",
       "      <td>77</td>\n",
       "      <td>77/8</td>\n",
       "      <td>-0.98016638-0.19891615j</td>\n",
       "    </tr>\n",
       "    <tr>\n",
       "      <th>78</th>\n",
       "      <td>78</td>\n",
       "      <td>39/4</td>\n",
       "      <td>-0.94772079-0.31956673j</td>\n",
       "    </tr>\n",
       "    <tr>\n",
       "      <th>79</th>\n",
       "      <td>79</td>\n",
       "      <td>79/8</td>\n",
       "      <td>-0.90048618-0.43523103j</td>\n",
       "    </tr>\n",
       "  </tbody>\n",
       "</table>\n",
       "<p>80 rows × 3 columns</p>\n",
       "</div>"
      ],
      "text/plain": [
       "    power     x                     e^x\n",
       "0       0     0  1.00000000+0.00000000j\n",
       "1       1   1/8  0.99219956+0.12467497j\n",
       "2       2   1/4  0.96891612+0.24740490j\n",
       "3       3   3/8  0.93051295+0.36627462j\n",
       "4       4   1/2  0.87758926+0.47942920j\n",
       "..    ...   ...                     ...\n",
       "75     75  75/8 -0.99890422+0.04976453j\n",
       "76     76  19/2 -0.99731672-0.07516201j\n",
       "77     77  77/8 -0.98016638-0.19891615j\n",
       "78     78  39/4 -0.94772079-0.31956673j\n",
       "79     79  79/8 -0.90048618-0.43523103j\n",
       "\n",
       "[80 rows x 3 columns]"
      ]
     },
     "metadata": {},
     "execution_count": 30
    }
   ],
   "metadata": {}
  },
  {
   "cell_type": "code",
   "execution_count": 34,
   "source": [
    "base_8 = df3.drop(['power'], axis = 1)"
   ],
   "outputs": [],
   "metadata": {}
  },
  {
   "cell_type": "code",
   "execution_count": 36,
   "source": [
    "base_8['Real Part'] = df3['e^x'].apply(lambda x: x.real)\r\n",
    "base_8['Imaginary Part'] = df3['e^x'].apply(lambda x: x.imag)\r\n",
    "base_8.drop(['e^x'], axis = 1).to_csv('base_8.csv', index = False)"
   ],
   "outputs": [],
   "metadata": {}
  },
  {
   "cell_type": "code",
   "execution_count": null,
   "source": [],
   "outputs": [],
   "metadata": {}
  },
  {
   "cell_type": "code",
   "execution_count": 43,
   "source": [
    "#Real part\r\n",
    "plt.figure(figsize=(8,6))\r\n",
    "t = np.arange(0, len(df3), 1)\r\n",
    "plt.scatter(t/8, df3['e^x'].values.imag, label='Imaginary Part')\r\n",
    "plt.plot(t/8, np.sin(t/8), color='black', label='$\\sinx$')\r\n",
    "plt.plot(t/8, 0*t, '--', color='black', label='Origin')\r\n",
    "plt.xlabel('x', fontdict={'fontsize': 16})\r\n",
    "plt.ylabel('Imaginary Part of $e^{ix}$', fontdict={'fontsize': 16})\r\n",
    "plt.legend()\r\n",
    "plt.ylim([-1,1])\r\n",
    "plt.xlim([0,10])"
   ],
   "outputs": [
    {
     "output_type": "execute_result",
     "data": {
      "text/plain": [
       "(0.0, 10.0)"
      ]
     },
     "metadata": {},
     "execution_count": 43
    },
    {
     "output_type": "display_data",
     "data": {
      "image/png": "[encoded data removed]",
      "text/plain": [
       "<Figure size 576x432 with 1 Axes>"
      ]
     },
     "metadata": {
      "needs_background": "light"
     }
    }
   ],
   "metadata": {}
  },
  {
   "cell_type": "code",
   "execution_count": 38,
   "source": [
    "#Real part\r\n",
    "plt.figure(figsize=(8,6))\r\n",
    "t = np.arange(0, len(df3), 1)\r\n",
    "plt.scatter(t/8, df3['e^x'].values.real, label='Real Part')\r\n",
    "plt.plot(t/8, np.cos(t/8), color='black', label='$\\cosx$')\r\n",
    "plt.plot(t/8, 0*t, '--', color='black', label='Origin')\r\n",
    "plt.xlabel('x', fontdict={'fontsize': 16})\r\n",
    "plt.ylabel('Real Part of $e^{ix}$', fontdict={'fontsize': 16})\r\n",
    "plt.legend()\r\n",
    "plt.ylim([-1,1])\r\n",
    "plt.xlim([0,10])"
   ],
   "outputs": [
    {
     "output_type": "execute_result",
     "data": {
      "text/plain": [
       "(0.0, 10.0)"
      ]
     },
     "metadata": {},
     "execution_count": 38
    },
    {
     "output_type": "display_data",
     "data": {
      "image/png": "[encoded data removed]",
      "text/plain": [
       "<Figure size 576x432 with 1 Axes>"
      ]
     },
     "metadata": {
      "needs_background": "light"
     }
    }
   ],
   "metadata": {}
  },
  {
   "cell_type": "code",
   "execution_count": 11,
   "source": [
    "#Plotting the graph\r\n",
    "plt.figure(figsize=(10,6))\r\n",
    "t = np.arange(0, len(df3), 1)\r\n",
    "plt.plot(t/8, df3['e^x'].values.imag, 'r', label = 'Imaginary')\r\n",
    "plt.plot(t/8, df3['e^x'].values.real, 'b', label = 'Real')\r\n",
    "plt.plot(t/8, 0*t, '--', color='black', label='Origin')\r\n",
    "plt.scatter(t/8, np.sin(t/8),label='$\\sin(x)$', color = 'green')\r\n",
    "plt.scatter(t/8, np.cos(t/8),color='black', label='$\\cos(x)$')\r\n",
    "plt.legend()\r\n",
    "plt.ylim([-1,1])\r\n",
    "plt.xlim([0,10])"
   ],
   "outputs": [
    {
     "output_type": "execute_result",
     "data": {
      "text/plain": [
       "(0.0, 10.0)"
      ]
     },
     "metadata": {},
     "execution_count": 11
    },
    {
     "output_type": "display_data",
     "data": {
      "image/png": "[encoded data removed]",
      "text/plain": [
       "<Figure size 720x432 with 1 Axes>"
      ]
     },
     "metadata": {
      "needs_background": "light"
     }
    }
   ],
   "metadata": {}
  },
  {
   "cell_type": "markdown",
   "source": [
    "### Some Interactive Plots"
   ],
   "metadata": {}
  },
  {
   "cell_type": "code",
   "execution_count": 12,
   "source": [
    "#creating the DataFrame\r\n",
    "X= df3['power']/8\r\n",
    "data  = pd.DataFrame(data = [X], index = ['x']).transpose()\r\n",
    "data['real'] = df3['e^x'].values.real\r\n",
    "data['imaginary'] = df3['e^x'].values.imag"
   ],
   "outputs": [],
   "metadata": {}
  },
  {
   "cell_type": "code",
   "execution_count": 13,
   "source": [
    "data"
   ],
   "outputs": [
    {
     "output_type": "execute_result",
     "data": {
      "text/html": [
       "<div>\n",
       "<style scoped>\n",
       "    .dataframe tbody tr th:only-of-type {\n",
       "        vertical-align: middle;\n",
       "    }\n",
       "\n",
       "    .dataframe tbody tr th {\n",
       "        vertical-align: top;\n",
       "    }\n",
       "\n",
       "    .dataframe thead th {\n",
       "        text-align: right;\n",
       "    }\n",
       "</style>\n",
       "<table border=\"1\" class=\"dataframe\">\n",
       "  <thead>\n",
       "    <tr style=\"text-align: right;\">\n",
       "      <th></th>\n",
       "      <th>x</th>\n",
       "      <th>real</th>\n",
       "      <th>imaginary</th>\n",
       "    </tr>\n",
       "  </thead>\n",
       "  <tbody>\n",
       "    <tr>\n",
       "      <th>0</th>\n",
       "      <td>0.000</td>\n",
       "      <td>1.00000000</td>\n",
       "      <td>0.00000000</td>\n",
       "    </tr>\n",
       "    <tr>\n",
       "      <th>1</th>\n",
       "      <td>0.125</td>\n",
       "      <td>0.99219956</td>\n",
       "      <td>0.12467497</td>\n",
       "    </tr>\n",
       "    <tr>\n",
       "      <th>2</th>\n",
       "      <td>0.250</td>\n",
       "      <td>0.96891612</td>\n",
       "      <td>0.24740490</td>\n",
       "    </tr>\n",
       "    <tr>\n",
       "      <th>3</th>\n",
       "      <td>0.375</td>\n",
       "      <td>0.93051295</td>\n",
       "      <td>0.36627462</td>\n",
       "    </tr>\n",
       "    <tr>\n",
       "      <th>4</th>\n",
       "      <td>0.500</td>\n",
       "      <td>0.87758926</td>\n",
       "      <td>0.47942920</td>\n",
       "    </tr>\n",
       "    <tr>\n",
       "      <th>...</th>\n",
       "      <td>...</td>\n",
       "      <td>...</td>\n",
       "      <td>...</td>\n",
       "    </tr>\n",
       "    <tr>\n",
       "      <th>75</th>\n",
       "      <td>9.375</td>\n",
       "      <td>-0.99890422</td>\n",
       "      <td>0.04976453</td>\n",
       "    </tr>\n",
       "    <tr>\n",
       "      <th>76</th>\n",
       "      <td>9.500</td>\n",
       "      <td>-0.99731672</td>\n",
       "      <td>-0.07516201</td>\n",
       "    </tr>\n",
       "    <tr>\n",
       "      <th>77</th>\n",
       "      <td>9.625</td>\n",
       "      <td>-0.98016638</td>\n",
       "      <td>-0.19891615</td>\n",
       "    </tr>\n",
       "    <tr>\n",
       "      <th>78</th>\n",
       "      <td>9.750</td>\n",
       "      <td>-0.94772079</td>\n",
       "      <td>-0.31956673</td>\n",
       "    </tr>\n",
       "    <tr>\n",
       "      <th>79</th>\n",
       "      <td>9.875</td>\n",
       "      <td>-0.90048618</td>\n",
       "      <td>-0.43523103</td>\n",
       "    </tr>\n",
       "  </tbody>\n",
       "</table>\n",
       "<p>80 rows × 3 columns</p>\n",
       "</div>"
      ],
      "text/plain": [
       "        x        real   imaginary\n",
       "0   0.000  1.00000000  0.00000000\n",
       "1   0.125  0.99219956  0.12467497\n",
       "2   0.250  0.96891612  0.24740490\n",
       "3   0.375  0.93051295  0.36627462\n",
       "4   0.500  0.87758926  0.47942920\n",
       "..    ...         ...         ...\n",
       "75  9.375 -0.99890422  0.04976453\n",
       "76  9.500 -0.99731672 -0.07516201\n",
       "77  9.625 -0.98016638 -0.19891615\n",
       "78  9.750 -0.94772079 -0.31956673\n",
       "79  9.875 -0.90048618 -0.43523103\n",
       "\n",
       "[80 rows x 3 columns]"
      ]
     },
     "metadata": {},
     "execution_count": 13
    }
   ],
   "metadata": {}
  },
  {
   "cell_type": "code",
   "execution_count": 14,
   "source": [
    "t = data['x']\r\n",
    "y = np.cos(t)\r\n",
    "y2= np.sin(t)\r\n",
    "fig = go.Figure(data=go.Scatter(x=t, y=y,mode='lines', line_color='black', name='cos(x)'))\r\n",
    "fig.add_trace(go.Scatter(x=t, y=y2,mode='lines', line=dict(color=\"black\"), name='sin(x)'))\r\n",
    "fig.add_trace(go.Scatter(x=t, y=data['real'],mode='markers', line_color='red', name='Real Part'))\r\n",
    "fig.add_trace(go.Scatter(x=t, y=data['imaginary'],mode='markers', line_color='blue', name='Imaginary Part'))\r\n",
    "fig.update_layout(title='Plot of e^{ix}', xaxis_title='x')\r\n",
    "fig.show()"
   ],
   "outputs": [
    {
     "output_type": "display_data",
     "data": {
      "application/vnd.plotly.v1+json": {
       "config": {
        "plotlyServerURL": "https://plot.ly"
       },
       "data": [
        {
         "line": {
          "color": "black"
         },
         "mode": "lines",
         "name": "cos(x)",
         "type": "scatter",
         "x": [
          0,
          0.125,
          0.25,
          0.375,
          0.5,
          0.625,
          0.75,
          0.875,
          1,
          1.125,
          1.25,
          1.375,
          1.5,
          1.625,
          1.75,
          1.875,
          2,
          2.125,
          2.25,
          2.375,
          2.5,
          2.625,
          2.75,
          2.875,
          3,
          3.125,
          3.25,
          3.375,
          3.5,
          3.625,
          3.75,
          3.875,
          4,
          4.125,
          4.25,
          4.375,
          4.5,
          4.625,
          4.75,
          4.875,
          5,
          5.125,
          5.25,
          5.375,
          5.5,
          5.625,
          5.75,
          5.875,
          6,
          6.125,
          6.25,
          6.375,
          6.5,
          6.625,
          6.75,
          6.875,
          7,
          7.125,
          7.25,
          7.375,
          7.5,
          7.625,
          7.75,
          7.875,
          8,
          8.125,
          8.25,
          8.375,
          8.5,
          8.625,
          8.75,
          8.875,
          9,
          9.125,
          9.25,
          9.375,
          9.5,
          9.625,
          9.75,
          9.875
         ],
         "y": [
          1,
          0.992197667229329,
          0.9689124217106447,
          0.9305076219123143,
          0.8775825618903728,
          0.8109631195052179,
          0.7316888688738209,
          0.6409968581633252,
          0.5403023058681398,
          0.4311765167986662,
          0.3153223623952687,
          0.19454770798898718,
          0.0707372016677029,
          -0.05417713502693632,
          -0.17824605564949209,
          -0.29953350618957414,
          -0.4161468365471424,
          -0.5262663347043051,
          -0.6281736227227391,
          -0.7202784714566918,
          -0.8011436155469337,
          -0.8695071814659844,
          -0.9243023786324636,
          -0.9646741463213163,
          -0.9899924966004454,
          -0.9998623450816866,
          -0.9941296760805463,
          -0.9728839459794464,
          -0.9364566872907963,
          -0.8854163352030204,
          -0.8205593573395608,
          -0.7428978251479987,
          -0.6536436208636119,
          -0.5541895264924167,
          -0.4460874899137928,
          -0.3310244072528874,
          -0.2107957994307797,
          -0.08727779366103493,
          0.03760215288797655,
          0.16189533041753676,
          0.28366218546322625,
          0.40100258697803604,
          0.5120854772418407,
          0.6151774449047079,
          0.70866977429126,
          0.7911035488707386,
          0.8611924171615208,
          0.9178426658157577,
          0.960170286650366,
          0.987514771299061,
          0.9994494182244994,
          0.9957879912530557,
          0.9765876257280235,
          0.9421479369316923,
          0.8930063446890767,
          0.8299296871112918,
          0.7539022543433046,
          0.6661104290454266,
          0.5679241732886948,
          0.46087565075494996,
          0.3466353178350258,
          0.2269858567154693,
          0.10379435721925297,
          -0.021016818506448383,
          -0.14550003380861354,
          -0.2677127697469413,
          -0.3857479374522218,
          -0.4977636376102979,
          -0.6020119026848236,
          -0.6968659733660457,
          -0.7808456836057491,
          -0.8526405581133842,
          -0.9111302618846769,
          -0.9554020826546641,
          -0.9847651734673236,
          -0.998761333111264,
          -0.9971721561963784,
          -0.9800224412969096,
          -0.9475798039779932,
          -0.9003505007442698
         ]
        },
        {
         "line": {
          "color": "black"
         },
         "mode": "lines",
         "name": "sin(x)",
         "type": "scatter",
         "x": [
          0,
          0.125,
          0.25,
          0.375,
          0.5,
          0.625,
          0.75,
          0.875,
          1,
          1.125,
          1.25,
          1.375,
          1.5,
          1.625,
          1.75,
          1.875,
          2,
          2.125,
          2.25,
          2.375,
          2.5,
          2.625,
          2.75,
          2.875,
          3,
          3.125,
          3.25,
          3.375,
          3.5,
          3.625,
          3.75,
          3.875,
          4,
          4.125,
          4.25,
          4.375,
          4.5,
          4.625,
          4.75,
          4.875,
          5,
          5.125,
          5.25,
          5.375,
          5.5,
          5.625,
          5.75,
          5.875,
          6,
          6.125,
          6.25,
          6.375,
          6.5,
          6.625,
          6.75,
          6.875,
          7,
          7.125,
          7.25,
          7.375,
          7.5,
          7.625,
          7.75,
          7.875,
          8,
          8.125,
          8.25,
          8.375,
          8.5,
          8.625,
          8.75,
          8.875,
          9,
          9.125,
          9.25,
          9.375,
          9.5,
          9.625,
          9.75,
          9.875
         ],
         "y": [
          0,
          0.12467473338522769,
          0.24740395925452294,
          0.36627252908604757,
          0.479425538604203,
          0.5850972729404622,
          0.6816387600233341,
          0.7675435022360271,
          0.8414709848078965,
          0.9022675940990952,
          0.9489846193555862,
          0.9808930570231557,
          0.9974949866040544,
          0.9985313405398316,
          0.9839859468739369,
          0.9540857816096938,
          0.9092974268256817,
          0.850319789818452,
          0.7780731968879212,
          0.6936850319532718,
          0.5984721441039564,
          0.4939202986100892,
          0.3816609920523317,
          0.26344599336342084,
          0.1411200080598672,
          0.016591892229347906,
          -0.10819513453010837,
          -0.23129381240202182,
          -0.35078322768961984,
          -0.46479878803160896,
          -0.5715613187423437,
          -0.669404826237736,
          -0.7568024953079282,
          -0.8323905145579873,
          -0.8949893582285835,
          -0.9436221923009624,
          -0.977530117665097,
          -0.9961840124864793,
          -0.999292788975378,
          -0.9868079357144411,
          -0.9589242746631385,
          -0.9160769210262436,
          -0.858934493426592,
          -0.7883886803350965,
          -0.7055403255703919,
          -0.6116822499992318,
          -0.5082790774992583,
          -0.39694437999324705,
          -0.27941549819892586,
          -0.157526431008143,
          -0.03317921654755682,
          0.09168574849017776,
          0.21511998808781552,
          0.33519735222008545,
          0.4500440737806176,
          0.5578680080909402,
          0.6569865987187891,
          0.7458531332084875,
          0.8230808790115055,
          0.8874647229840752,
          0.9379999767747389,
          0.9738980546500462,
          0.9945987791111761,
          0.9997791222764492,
          0.9893582466233818,
          0.9634987664311881,
          0.9226042102393402,
          0.8673127239196736,
          0.7984871126234903,
          0.7172013769957456,
          0.6247239537541924,
          0.5224979221586403,
          0.4121184852417566,
          0.29530807719927077,
          0.17388948538043356,
          0.04975740630107862,
          -0.0751511204618093,
          -0.1988869391248336,
          -0.31951919362227366,
          -0.4351654579691988
         ]
        },
        {
         "line": {
          "color": "red"
         },
         "mode": "markers",
         "name": "Real Part",
         "type": "scatter",
         "x": [
          0,
          0.125,
          0.25,
          0.375,
          0.5,
          0.625,
          0.75,
          0.875,
          1,
          1.125,
          1.25,
          1.375,
          1.5,
          1.625,
          1.75,
          1.875,
          2,
          2.125,
          2.25,
          2.375,
          2.5,
          2.625,
          2.75,
          2.875,
          3,
          3.125,
          3.25,
          3.375,
          3.5,
          3.625,
          3.75,
          3.875,
          4,
          4.125,
          4.25,
          4.375,
          4.5,
          4.625,
          4.75,
          4.875,
          5,
          5.125,
          5.25,
          5.375,
          5.5,
          5.625,
          5.75,
          5.875,
          6,
          6.125,
          6.25,
          6.375,
          6.5,
          6.625,
          6.75,
          6.875,
          7,
          7.125,
          7.25,
          7.375,
          7.5,
          7.625,
          7.75,
          7.875,
          8,
          8.125,
          8.25,
          8.375,
          8.5,
          8.625,
          8.75,
          8.875,
          9,
          9.125,
          9.25,
          9.375,
          9.5,
          9.625,
          9.75,
          9.875
         ],
         "y": [
          1,
          0.992199559702835,
          0.9689161178444596,
          0.9305129463775064,
          0.8775892574139261,
          0.8109708536026037,
          0.7316972425950209,
          0.6410054166603159,
          0.5403105505511816,
          0.43118391881276863,
          0.3153283771176525,
          0.19455179022386732,
          0.07073882119679475,
          -0.05417847789075003,
          -0.1782508148616409,
          -0.29954207547914785,
          -0.41615953596993416,
          -0.5262833985673466,
          -0.6281951891792605,
          -0.7203045740391867,
          -0.8011741768689378,
          -0.8695420092809674,
          -0.9243411643916811,
          -0.9647164663224461,
          -0.9900378157662948,
          -0.9999100233542185,
          -0.994178977360969,
          -0.9729340494912128,
          -0.9365067011901278,
          -0.8854653122120504,
          -0.820606312131367,
          -0.7429417531716226,
          -0.6536835182614813,
          -0.5542244107331826,
          -0.44611642074108787,
          -0.33104650753546605,
          -0.21081027549227793,
          -0.08728395466846178,
          0.03760487688885278,
          0.1619073722145581,
          0.2836838265075077,
          0.4010339456677833,
          0.5121264999574419,
          0.6152279000460592,
          0.7087292495164734,
          0.7911714516788088,
          0.8612679789011746,
          0.9179249491396548,
          0.960258196369182,
          0.9876070685249563,
          0.9995447376292554,
          0.9958848612039422,
          0.9766844910054368,
          0.9422431836779206,
          0.8930983271882621,
          0.8300167559577935,
          0.7539827855200911,
          0.6661828534066224,
          0.5679870059216123,
          0.460927519687333,
          0.3466749915531608,
          0.2270122699684255,
          0.10380663460380102,
          -0.021019341656913493,
          -0.14551779366990736,
          -0.26774595977692855,
          -0.3857964980284675,
          -0.4978272498088254,
          -0.6020899864086597,
          -0.696957689959621,
          -0.7809499430148176,
          -0.8527560305712274,
          -0.9112553940253079,
          -0.9555351178739593,
          -0.9849041762748816,
          -0.9989042171407305,
          -0.9973167154713619,
          -0.9801663842847432,
          -0.9477207899057201,
          -0.9004861776014579
         ]
        },
        {
         "line": {
          "color": "blue"
         },
         "mode": "markers",
         "name": "Imaginary Part",
         "type": "scatter",
         "x": [
          0,
          0.125,
          0.25,
          0.375,
          0.5,
          0.625,
          0.75,
          0.875,
          1,
          1.125,
          1.25,
          1.375,
          1.5,
          1.625,
          1.75,
          1.875,
          2,
          2.125,
          2.25,
          2.375,
          2.5,
          2.625,
          2.75,
          2.875,
          3,
          3.125,
          3.25,
          3.375,
          3.5,
          3.625,
          3.75,
          3.875,
          4,
          4.125,
          4.25,
          4.375,
          4.5,
          4.625,
          4.75,
          4.875,
          5,
          5.125,
          5.25,
          5.375,
          5.5,
          5.625,
          5.75,
          5.875,
          6,
          6.125,
          6.25,
          6.375,
          6.5,
          6.625,
          6.75,
          6.875,
          7,
          7.125,
          7.25,
          7.375,
          7.5,
          7.625,
          7.75,
          7.875,
          8,
          8.125,
          8.25,
          8.375,
          8.5,
          8.625,
          8.75,
          8.875,
          9,
          9.125,
          9.25,
          9.375,
          9.5,
          9.625,
          9.75,
          9.875
         ],
         "y": [
          0,
          0.12467497114513422,
          0.24740490295233167,
          0.36627462481193956,
          0.479429196208517,
          0.5851028527321357,
          0.6816465606341472,
          0.7675537499416611,
          0.8414838245663758,
          0.9022830825311959,
          0.9490027198509972,
          0.9809136371113376,
          0.9975178176807706,
          0.9985560999901446,
          0.984012222581085,
          0.9541130787876888,
          0.9093251770627448,
          0.8503473621695339,
          0.7780999108085316,
          0.6937101718246039,
          0.5984949750617061,
          0.49394008335722267,
          0.38167700831003126,
          0.26345755159511564,
          0.1411264690910739,
          0.016592684381324718,
          -0.10820049917197905,
          -0.23130572295364252,
          -0.35080196101778566,
          -0.464824497212842,
          -0.571594023723728,
          -0.669444406953948,
          -0.7568486874644202,
          -0.8324429082411664,
          -0.8950473994507213,
          -0.9436851875314388,
          -0.9775972413414626,
          -0.9962543174398029,
          -0.9993652196455445,
          -0.9868813439736022,
          -0.9589974380105157,
          -0.9161485628660158,
          -0.8590033050936957,
          -0.7884533444923922,
          -0.7055995405656554,
          -0.611734754742587,
          -0.5083236764016072,
          -0.39697996749446895,
          -0.27944108241147264,
          -0.15754115600734037,
          -0.03318238285447922,
          0.0916946656640929,
          0.21514132323348928,
          0.3352312369201562,
          0.4500904274075599,
          0.557926532072206,
          0.6570567745675884,
          0.7459342244543714,
          0.8231719370967568,
          0.8875645971212202,
          0.9381073276885155,
          0.9740113720551781,
          0.9947164027066067,
          0.9998992659685855,
          0.989479025626653,
          0.963618226835056,
          0.9227203605779544,
          0.8674235682346945,
          0.7985906844731491,
          0.7172957738347703,
          0.6248073710904682,
          0.5225686868838817,
          0.4121750875353692,
          0.2953492004171176,
          0.17391403336335026,
          0.04976452757146721,
          -0.07516201210354415,
          -0.19891614803946775,
          -0.3195667301806746,
          -0.4352310311160795
         ]
        }
       ],
       "layout": {
        "template": {
         "data": {
          "bar": [
           {
            "error_x": {
             "color": "#2a3f5f"
            },
            "error_y": {
             "color": "#2a3f5f"
            },
            "marker": {
             "line": {
              "color": "#E5ECF6",
              "width": 0.5
             }
            },
            "type": "bar"
           }
          ],
          "barpolar": [
           {
            "marker": {
             "line": {
              "color": "#E5ECF6",
              "width": 0.5
             }
            },
            "type": "barpolar"
           }
          ],
          "carpet": [
           {
            "aaxis": {
             "endlinecolor": "#2a3f5f",
             "gridcolor": "white",
             "linecolor": "white",
             "minorgridcolor": "white",
             "startlinecolor": "#2a3f5f"
            },
            "baxis": {
             "endlinecolor": "#2a3f5f",
             "gridcolor": "white",
             "linecolor": "white",
             "minorgridcolor": "white",
             "startlinecolor": "#2a3f5f"
            },
            "type": "carpet"
           }
          ],
          "choropleth": [
           {
            "colorbar": {
             "outlinewidth": 0,
             "ticks": ""
            },
            "type": "choropleth"
           }
          ],
          "contour": [
           {
            "colorbar": {
             "outlinewidth": 0,
             "ticks": ""
            },
            "colorscale": [
             [
              0,
              "#0d0887"
             ],
             [
              0.1111111111111111,
              "#46039f"
             ],
             [
              0.2222222222222222,
              "#7201a8"
             ],
             [
              0.3333333333333333,
              "#9c179e"
             ],
             [
              0.4444444444444444,
              "#bd3786"
             ],
             [
              0.5555555555555556,
              "#d8576b"
             ],
             [
              0.6666666666666666,
              "#ed7953"
             ],
             [
              0.7777777777777778,
              "#fb9f3a"
             ],
             [
              0.8888888888888888,
              "#fdca26"
             ],
             [
              1,
              "#f0f921"
             ]
            ],
            "type": "contour"
           }
          ],
          "contourcarpet": [
           {
            "colorbar": {
             "outlinewidth": 0,
             "ticks": ""
            },
            "type": "contourcarpet"
           }
          ],
          "heatmap": [
           {
            "colorbar": {
             "outlinewidth": 0,
             "ticks": ""
            },
            "colorscale": [
             [
              0,
              "#0d0887"
             ],
             [
              0.1111111111111111,
              "#46039f"
             ],
             [
              0.2222222222222222,
              "#7201a8"
             ],
             [
              0.3333333333333333,
              "#9c179e"
             ],
             [
              0.4444444444444444,
              "#bd3786"
             ],
             [
              0.5555555555555556,
              "#d8576b"
             ],
             [
              0.6666666666666666,
              "#ed7953"
             ],
             [
              0.7777777777777778,
              "#fb9f3a"
             ],
             [
              0.8888888888888888,
              "#fdca26"
             ],
             [
              1,
              "#f0f921"
             ]
            ],
            "type": "heatmap"
           }
          ],
          "heatmapgl": [
           {
            "colorbar": {
             "outlinewidth": 0,
             "ticks": ""
            },
            "colorscale": [
             [
              0,
              "#0d0887"
             ],
             [
              0.1111111111111111,
              "#46039f"
             ],
             [
              0.2222222222222222,
              "#7201a8"
             ],
             [
              0.3333333333333333,
              "#9c179e"
             ],
             [
              0.4444444444444444,
              "#bd3786"
             ],
             [
              0.5555555555555556,
              "#d8576b"
             ],
             [
              0.6666666666666666,
              "#ed7953"
             ],
             [
              0.7777777777777778,
              "#fb9f3a"
             ],
             [
              0.8888888888888888,
              "#fdca26"
             ],
             [
              1,
              "#f0f921"
             ]
            ],
            "type": "heatmapgl"
           }
          ],
          "histogram": [
           {
            "marker": {
             "colorbar": {
              "outlinewidth": 0,
              "ticks": ""
             }
            },
            "type": "histogram"
           }
          ],
          "histogram2d": [
           {
            "colorbar": {
             "outlinewidth": 0,
             "ticks": ""
            },
            "colorscale": [
             [
              0,
              "#0d0887"
             ],
             [
              0.1111111111111111,
              "#46039f"
             ],
             [
              0.2222222222222222,
              "#7201a8"
             ],
             [
              0.3333333333333333,
              "#9c179e"
             ],
             [
              0.4444444444444444,
              "#bd3786"
             ],
             [
              0.5555555555555556,
              "#d8576b"
             ],
             [
              0.6666666666666666,
              "#ed7953"
             ],
             [
              0.7777777777777778,
              "#fb9f3a"
             ],
             [
              0.8888888888888888,
              "#fdca26"
             ],
             [
              1,
              "#f0f921"
             ]
            ],
            "type": "histogram2d"
           }
          ],
          "histogram2dcontour": [
           {
            "colorbar": {
             "outlinewidth": 0,
             "ticks": ""
            },
            "colorscale": [
             [
              0,
              "#0d0887"
             ],
             [
              0.1111111111111111,
              "#46039f"
             ],
             [
              0.2222222222222222,
              "#7201a8"
             ],
             [
              0.3333333333333333,
              "#9c179e"
             ],
             [
              0.4444444444444444,
              "#bd3786"
             ],
             [
              0.5555555555555556,
              "#d8576b"
             ],
             [
              0.6666666666666666,
              "#ed7953"
             ],
             [
              0.7777777777777778,
              "#fb9f3a"
             ],
             [
              0.8888888888888888,
              "#fdca26"
             ],
             [
              1,
              "#f0f921"
             ]
            ],
            "type": "histogram2dcontour"
           }
          ],
          "mesh3d": [
           {
            "colorbar": {
             "outlinewidth": 0,
             "ticks": ""
            },
            "type": "mesh3d"
           }
          ],
          "parcoords": [
           {
            "line": {
             "colorbar": {
              "outlinewidth": 0,
              "ticks": ""
             }
            },
            "type": "parcoords"
           }
          ],
          "pie": [
           {
            "automargin": true,
            "type": "pie"
           }
          ],
          "scatter": [
           {
            "marker": {
             "colorbar": {
              "outlinewidth": 0,
              "ticks": ""
             }
            },
            "type": "scatter"
           }
          ],
          "scatter3d": [
           {
            "line": {
             "colorbar": {
              "outlinewidth": 0,
              "ticks": ""
             }
            },
            "marker": {
             "colorbar": {
              "outlinewidth": 0,
              "ticks": ""
             }
            },
            "type": "scatter3d"
           }
          ],
          "scattercarpet": [
           {
            "marker": {
             "colorbar": {
              "outlinewidth": 0,
              "ticks": ""
             }
            },
            "type": "scattercarpet"
           }
          ],
          "scattergeo": [
           {
            "marker": {
             "colorbar": {
              "outlinewidth": 0,
              "ticks": ""
             }
            },
            "type": "scattergeo"
           }
          ],
          "scattergl": [
           {
            "marker": {
             "colorbar": {
              "outlinewidth": 0,
              "ticks": ""
             }
            },
            "type": "scattergl"
           }
          ],
          "scattermapbox": [
           {
            "marker": {
             "colorbar": {
              "outlinewidth": 0,
              "ticks": ""
             }
            },
            "type": "scattermapbox"
           }
          ],
          "scatterpolar": [
           {
            "marker": {
             "colorbar": {
              "outlinewidth": 0,
              "ticks": ""
             }
            },
            "type": "scatterpolar"
           }
          ],
          "scatterpolargl": [
           {
            "marker": {
             "colorbar": {
              "outlinewidth": 0,
              "ticks": ""
             }
            },
            "type": "scatterpolargl"
           }
          ],
          "scatterternary": [
           {
            "marker": {
             "colorbar": {
              "outlinewidth": 0,
              "ticks": ""
             }
            },
            "type": "scatterternary"
           }
          ],
          "surface": [
           {
            "colorbar": {
             "outlinewidth": 0,
             "ticks": ""
            },
            "colorscale": [
             [
              0,
              "#0d0887"
             ],
             [
              0.1111111111111111,
              "#46039f"
             ],
             [
              0.2222222222222222,
              "#7201a8"
             ],
             [
              0.3333333333333333,
              "#9c179e"
             ],
             [
              0.4444444444444444,
              "#bd3786"
             ],
             [
              0.5555555555555556,
              "#d8576b"
             ],
             [
              0.6666666666666666,
              "#ed7953"
             ],
             [
              0.7777777777777778,
              "#fb9f3a"
             ],
             [
              0.8888888888888888,
              "#fdca26"
             ],
             [
              1,
              "#f0f921"
             ]
            ],
            "type": "surface"
           }
          ],
          "table": [
           {
            "cells": {
             "fill": {
              "color": "#EBF0F8"
             },
             "line": {
              "color": "white"
             }
            },
            "header": {
             "fill": {
              "color": "#C8D4E3"
             },
             "line": {
              "color": "white"
             }
            },
            "type": "table"
           }
          ]
         },
         "layout": {
          "annotationdefaults": {
           "arrowcolor": "#2a3f5f",
           "arrowhead": 0,
           "arrowwidth": 1
          },
          "autotypenumbers": "strict",
          "coloraxis": {
           "colorbar": {
            "outlinewidth": 0,
            "ticks": ""
           }
          },
          "colorscale": {
           "diverging": [
            [
             0,
             "#8e0152"
            ],
            [
             0.1,
             "#c51b7d"
            ],
            [
             0.2,
             "#de77ae"
            ],
            [
             0.3,
             "#f1b6da"
            ],
            [
             0.4,
             "#fde0ef"
            ],
            [
             0.5,
             "#f7f7f7"
            ],
            [
             0.6,
             "#e6f5d0"
            ],
            [
             0.7,
             "#b8e186"
            ],
            [
             0.8,
             "#7fbc41"
            ],
            [
             0.9,
             "#4d9221"
            ],
            [
             1,
             "#276419"
            ]
           ],
           "sequential": [
            [
             0,
             "#0d0887"
            ],
            [
             0.1111111111111111,
             "#46039f"
            ],
            [
             0.2222222222222222,
             "#7201a8"
            ],
            [
             0.3333333333333333,
             "#9c179e"
            ],
            [
             0.4444444444444444,
             "#bd3786"
            ],
            [
             0.5555555555555556,
             "#d8576b"
            ],
            [
             0.6666666666666666,
             "#ed7953"
            ],
            [
             0.7777777777777778,
             "#fb9f3a"
            ],
            [
             0.8888888888888888,
             "#fdca26"
            ],
            [
             1,
             "#f0f921"
            ]
           ],
           "sequentialminus": [
            [
             0,
             "#0d0887"
            ],
            [
             0.1111111111111111,
             "#46039f"
            ],
            [
             0.2222222222222222,
             "#7201a8"
            ],
            [
             0.3333333333333333,
             "#9c179e"
            ],
            [
             0.4444444444444444,
             "#bd3786"
            ],
            [
             0.5555555555555556,
             "#d8576b"
            ],
            [
             0.6666666666666666,
             "#ed7953"
            ],
            [
             0.7777777777777778,
             "#fb9f3a"
            ],
            [
             0.8888888888888888,
             "#fdca26"
            ],
            [
             1,
             "#f0f921"
            ]
           ]
          },
          "colorway": [
           "#636efa",
           "#EF553B",
           "#00cc96",
           "#ab63fa",
           "#FFA15A",
           "#19d3f3",
           "#FF6692",
           "#B6E880",
           "#FF97FF",
           "#FECB52"
          ],
          "font": {
           "color": "#2a3f5f"
          },
          "geo": {
           "bgcolor": "white",
           "lakecolor": "white",
           "landcolor": "#E5ECF6",
           "showlakes": true,
           "showland": true,
           "subunitcolor": "white"
          },
          "hoverlabel": {
           "align": "left"
          },
          "hovermode": "closest",
          "mapbox": {
           "style": "light"
          },
          "paper_bgcolor": "white",
          "plot_bgcolor": "#E5ECF6",
          "polar": {
           "angularaxis": {
            "gridcolor": "white",
            "linecolor": "white",
            "ticks": ""
           },
           "bgcolor": "#E5ECF6",
           "radialaxis": {
            "gridcolor": "white",
            "linecolor": "white",
            "ticks": ""
           }
          },
          "scene": {
           "xaxis": {
            "backgroundcolor": "#E5ECF6",
            "gridcolor": "white",
            "gridwidth": 2,
            "linecolor": "white",
            "showbackground": true,
            "ticks": "",
            "zerolinecolor": "white"
           },
           "yaxis": {
            "backgroundcolor": "#E5ECF6",
            "gridcolor": "white",
            "gridwidth": 2,
            "linecolor": "white",
            "showbackground": true,
            "ticks": "",
            "zerolinecolor": "white"
           },
           "zaxis": {
            "backgroundcolor": "#E5ECF6",
            "gridcolor": "white",
            "gridwidth": 2,
            "linecolor": "white",
            "showbackground": true,
            "ticks": "",
            "zerolinecolor": "white"
           }
          },
          "shapedefaults": {
           "line": {
            "color": "#2a3f5f"
           }
          },
          "ternary": {
           "aaxis": {
            "gridcolor": "white",
            "linecolor": "white",
            "ticks": ""
           },
           "baxis": {
            "gridcolor": "white",
            "linecolor": "white",
            "ticks": ""
           },
           "bgcolor": "#E5ECF6",
           "caxis": {
            "gridcolor": "white",
            "linecolor": "white",
            "ticks": ""
           }
          },
          "title": {
           "x": 0.05
          },
          "xaxis": {
           "automargin": true,
           "gridcolor": "white",
           "linecolor": "white",
           "ticks": "",
           "title": {
            "standoff": 15
           },
           "zerolinecolor": "white",
           "zerolinewidth": 2
          },
          "yaxis": {
           "automargin": true,
           "gridcolor": "white",
           "linecolor": "white",
           "ticks": "",
           "title": {
            "standoff": 15
           },
           "zerolinecolor": "white",
           "zerolinewidth": 2
          }
         }
        },
        "title": {
         "text": "Plot of e^{ix}"
        },
        "xaxis": {
         "title": {
          "text": "x"
         }
        }
       }
      },
      "text/html": [
       "<div>                            <div id=\"a0429c0e-b637-4fdd-9b43-d756754080c1\" class=\"plotly-graph-div\" style=\"height:525px; width:100%;\"></div>            <script type=\"text/javascript\">                require([\"plotly\"], function(Plotly) {                    window.PLOTLYENV=window.PLOTLYENV || {};                                    if (document.getElementById(\"a0429c0e-b637-4fdd-9b43-d756754080c1\")) {                    Plotly.newPlot(                        \"a0429c0e-b637-4fdd-9b43-d756754080c1\",                        [{\"line\": {\"color\": \"black\"}, \"mode\": \"lines\", \"name\": \"cos(x)\", \"type\": \"scatter\", \"x\": [0.0, 0.125, 0.25, 0.375, 0.5, 0.625, 0.75, 0.875, 1.0, 1.125, 1.25, 1.375, 1.5, 1.625, 1.75, 1.875, 2.0, 2.125, 2.25, 2.375, 2.5, 2.625, 2.75, 2.875, 3.0, 3.125, 3.25, 3.375, 3.5, 3.625, 3.75, 3.875, 4.0, 4.125, 4.25, 4.375, 4.5, 4.625, 4.75, 4.875, 5.0, 5.125, 5.25, 5.375, 5.5, 5.625, 5.75, 5.875, 6.0, 6.125, 6.25, 6.375, 6.5, 6.625, 6.75, 6.875, 7.0, 7.125, 7.25, 7.375, 7.5, 7.625, 7.75, 7.875, 8.0, 8.125, 8.25, 8.375, 8.5, 8.625, 8.75, 8.875, 9.0, 9.125, 9.25, 9.375, 9.5, 9.625, 9.75, 9.875], \"y\": [1.0, 0.992197667229329, 0.9689124217106447, 0.9305076219123143, 0.8775825618903728, 0.8109631195052179, 0.7316888688738209, 0.6409968581633252, 0.5403023058681398, 0.4311765167986662, 0.3153223623952687, 0.19454770798898718, 0.0707372016677029, -0.05417713502693632, -0.17824605564949209, -0.29953350618957414, -0.4161468365471424, -0.5262663347043051, -0.6281736227227391, -0.7202784714566918, -0.8011436155469337, -0.8695071814659844, -0.9243023786324636, -0.9646741463213163, -0.9899924966004454, -0.9998623450816866, -0.9941296760805463, -0.9728839459794464, -0.9364566872907963, -0.8854163352030204, -0.8205593573395608, -0.7428978251479987, -0.6536436208636119, -0.5541895264924167, -0.4460874899137928, -0.3310244072528874, -0.2107957994307797, -0.08727779366103493, 0.03760215288797655, 0.16189533041753676, 0.28366218546322625, 0.40100258697803604, 0.5120854772418407, 0.6151774449047079, 0.70866977429126, 0.7911035488707386, 0.8611924171615208, 0.9178426658157577, 0.960170286650366, 0.987514771299061, 0.9994494182244994, 0.9957879912530557, 0.9765876257280235, 0.9421479369316923, 0.8930063446890767, 0.8299296871112918, 0.7539022543433046, 0.6661104290454266, 0.5679241732886948, 0.46087565075494996, 0.3466353178350258, 0.2269858567154693, 0.10379435721925297, -0.021016818506448383, -0.14550003380861354, -0.2677127697469413, -0.3857479374522218, -0.4977636376102979, -0.6020119026848236, -0.6968659733660457, -0.7808456836057491, -0.8526405581133842, -0.9111302618846769, -0.9554020826546641, -0.9847651734673236, -0.998761333111264, -0.9971721561963784, -0.9800224412969096, -0.9475798039779932, -0.9003505007442698]}, {\"line\": {\"color\": \"black\"}, \"mode\": \"lines\", \"name\": \"sin(x)\", \"type\": \"scatter\", \"x\": [0.0, 0.125, 0.25, 0.375, 0.5, 0.625, 0.75, 0.875, 1.0, 1.125, 1.25, 1.375, 1.5, 1.625, 1.75, 1.875, 2.0, 2.125, 2.25, 2.375, 2.5, 2.625, 2.75, 2.875, 3.0, 3.125, 3.25, 3.375, 3.5, 3.625, 3.75, 3.875, 4.0, 4.125, 4.25, 4.375, 4.5, 4.625, 4.75, 4.875, 5.0, 5.125, 5.25, 5.375, 5.5, 5.625, 5.75, 5.875, 6.0, 6.125, 6.25, 6.375, 6.5, 6.625, 6.75, 6.875, 7.0, 7.125, 7.25, 7.375, 7.5, 7.625, 7.75, 7.875, 8.0, 8.125, 8.25, 8.375, 8.5, 8.625, 8.75, 8.875, 9.0, 9.125, 9.25, 9.375, 9.5, 9.625, 9.75, 9.875], \"y\": [0.0, 0.12467473338522769, 0.24740395925452294, 0.36627252908604757, 0.479425538604203, 0.5850972729404622, 0.6816387600233341, 0.7675435022360271, 0.8414709848078965, 0.9022675940990952, 0.9489846193555862, 0.9808930570231557, 0.9974949866040544, 0.9985313405398316, 0.9839859468739369, 0.9540857816096938, 0.9092974268256817, 0.850319789818452, 0.7780731968879212, 0.6936850319532718, 0.5984721441039564, 0.4939202986100892, 0.3816609920523317, 0.26344599336342084, 0.1411200080598672, 0.016591892229347906, -0.10819513453010837, -0.23129381240202182, -0.35078322768961984, -0.46479878803160896, -0.5715613187423437, -0.669404826237736, -0.7568024953079282, -0.8323905145579873, -0.8949893582285835, -0.9436221923009624, -0.977530117665097, -0.9961840124864793, -0.999292788975378, -0.9868079357144411, -0.9589242746631385, -0.9160769210262436, -0.858934493426592, -0.7883886803350965, -0.7055403255703919, -0.6116822499992318, -0.5082790774992583, -0.39694437999324705, -0.27941549819892586, -0.157526431008143, -0.03317921654755682, 0.09168574849017776, 0.21511998808781552, 0.33519735222008545, 0.4500440737806176, 0.5578680080909402, 0.6569865987187891, 0.7458531332084875, 0.8230808790115055, 0.8874647229840752, 0.9379999767747389, 0.9738980546500462, 0.9945987791111761, 0.9997791222764492, 0.9893582466233818, 0.9634987664311881, 0.9226042102393402, 0.8673127239196736, 0.7984871126234903, 0.7172013769957456, 0.6247239537541924, 0.5224979221586403, 0.4121184852417566, 0.29530807719927077, 0.17388948538043356, 0.04975740630107862, -0.0751511204618093, -0.1988869391248336, -0.31951919362227366, -0.4351654579691988]}, {\"line\": {\"color\": \"red\"}, \"mode\": \"markers\", \"name\": \"Real Part\", \"type\": \"scatter\", \"x\": [0.0, 0.125, 0.25, 0.375, 0.5, 0.625, 0.75, 0.875, 1.0, 1.125, 1.25, 1.375, 1.5, 1.625, 1.75, 1.875, 2.0, 2.125, 2.25, 2.375, 2.5, 2.625, 2.75, 2.875, 3.0, 3.125, 3.25, 3.375, 3.5, 3.625, 3.75, 3.875, 4.0, 4.125, 4.25, 4.375, 4.5, 4.625, 4.75, 4.875, 5.0, 5.125, 5.25, 5.375, 5.5, 5.625, 5.75, 5.875, 6.0, 6.125, 6.25, 6.375, 6.5, 6.625, 6.75, 6.875, 7.0, 7.125, 7.25, 7.375, 7.5, 7.625, 7.75, 7.875, 8.0, 8.125, 8.25, 8.375, 8.5, 8.625, 8.75, 8.875, 9.0, 9.125, 9.25, 9.375, 9.5, 9.625, 9.75, 9.875], \"y\": [1.0, 0.992199559702835, 0.9689161178444596, 0.9305129463775064, 0.8775892574139261, 0.8109708536026037, 0.7316972425950209, 0.6410054166603159, 0.5403105505511816, 0.43118391881276863, 0.3153283771176525, 0.19455179022386732, 0.07073882119679475, -0.05417847789075003, -0.1782508148616409, -0.29954207547914785, -0.41615953596993416, -0.5262833985673466, -0.6281951891792605, -0.7203045740391867, -0.8011741768689378, -0.8695420092809674, -0.9243411643916811, -0.9647164663224461, -0.9900378157662948, -0.9999100233542185, -0.994178977360969, -0.9729340494912128, -0.9365067011901278, -0.8854653122120504, -0.820606312131367, -0.7429417531716226, -0.6536835182614813, -0.5542244107331826, -0.44611642074108787, -0.33104650753546605, -0.21081027549227793, -0.08728395466846178, 0.03760487688885278, 0.1619073722145581, 0.2836838265075077, 0.4010339456677833, 0.5121264999574419, 0.6152279000460592, 0.7087292495164734, 0.7911714516788088, 0.8612679789011746, 0.9179249491396548, 0.960258196369182, 0.9876070685249563, 0.9995447376292554, 0.9958848612039422, 0.9766844910054368, 0.9422431836779206, 0.8930983271882621, 0.8300167559577935, 0.7539827855200911, 0.6661828534066224, 0.5679870059216123, 0.460927519687333, 0.3466749915531608, 0.2270122699684255, 0.10380663460380102, -0.021019341656913493, -0.14551779366990736, -0.26774595977692855, -0.3857964980284675, -0.4978272498088254, -0.6020899864086597, -0.696957689959621, -0.7809499430148176, -0.8527560305712274, -0.9112553940253079, -0.9555351178739593, -0.9849041762748816, -0.9989042171407305, -0.9973167154713619, -0.9801663842847432, -0.9477207899057201, -0.9004861776014579]}, {\"line\": {\"color\": \"blue\"}, \"mode\": \"markers\", \"name\": \"Imaginary Part\", \"type\": \"scatter\", \"x\": [0.0, 0.125, 0.25, 0.375, 0.5, 0.625, 0.75, 0.875, 1.0, 1.125, 1.25, 1.375, 1.5, 1.625, 1.75, 1.875, 2.0, 2.125, 2.25, 2.375, 2.5, 2.625, 2.75, 2.875, 3.0, 3.125, 3.25, 3.375, 3.5, 3.625, 3.75, 3.875, 4.0, 4.125, 4.25, 4.375, 4.5, 4.625, 4.75, 4.875, 5.0, 5.125, 5.25, 5.375, 5.5, 5.625, 5.75, 5.875, 6.0, 6.125, 6.25, 6.375, 6.5, 6.625, 6.75, 6.875, 7.0, 7.125, 7.25, 7.375, 7.5, 7.625, 7.75, 7.875, 8.0, 8.125, 8.25, 8.375, 8.5, 8.625, 8.75, 8.875, 9.0, 9.125, 9.25, 9.375, 9.5, 9.625, 9.75, 9.875], \"y\": [0.0, 0.12467497114513422, 0.24740490295233167, 0.36627462481193956, 0.479429196208517, 0.5851028527321357, 0.6816465606341472, 0.7675537499416611, 0.8414838245663758, 0.9022830825311959, 0.9490027198509972, 0.9809136371113376, 0.9975178176807706, 0.9985560999901446, 0.984012222581085, 0.9541130787876888, 0.9093251770627448, 0.8503473621695339, 0.7780999108085316, 0.6937101718246039, 0.5984949750617061, 0.49394008335722267, 0.38167700831003126, 0.26345755159511564, 0.1411264690910739, 0.016592684381324718, -0.10820049917197905, -0.23130572295364252, -0.35080196101778566, -0.464824497212842, -0.571594023723728, -0.669444406953948, -0.7568486874644202, -0.8324429082411664, -0.8950473994507213, -0.9436851875314388, -0.9775972413414626, -0.9962543174398029, -0.9993652196455445, -0.9868813439736022, -0.9589974380105157, -0.9161485628660158, -0.8590033050936957, -0.7884533444923922, -0.7055995405656554, -0.611734754742587, -0.5083236764016072, -0.39697996749446895, -0.27944108241147264, -0.15754115600734037, -0.03318238285447922, 0.0916946656640929, 0.21514132323348928, 0.3352312369201562, 0.4500904274075599, 0.557926532072206, 0.6570567745675884, 0.7459342244543714, 0.8231719370967568, 0.8875645971212202, 0.9381073276885155, 0.9740113720551781, 0.9947164027066067, 0.9998992659685855, 0.989479025626653, 0.963618226835056, 0.9227203605779544, 0.8674235682346945, 0.7985906844731491, 0.7172957738347703, 0.6248073710904682, 0.5225686868838817, 0.4121750875353692, 0.2953492004171176, 0.17391403336335026, 0.04976452757146721, -0.07516201210354415, -0.19891614803946775, -0.3195667301806746, -0.4352310311160795]}],                        {\"template\": {\"data\": {\"bar\": [{\"error_x\": {\"color\": \"#2a3f5f\"}, \"error_y\": {\"color\": \"#2a3f5f\"}, \"marker\": {\"line\": {\"color\": \"#E5ECF6\", \"width\": 0.5}}, \"type\": \"bar\"}], \"barpolar\": [{\"marker\": {\"line\": {\"color\": \"#E5ECF6\", \"width\": 0.5}}, \"type\": \"barpolar\"}], \"carpet\": [{\"aaxis\": {\"endlinecolor\": \"#2a3f5f\", \"gridcolor\": \"white\", \"linecolor\": \"white\", \"minorgridcolor\": \"white\", \"startlinecolor\": \"#2a3f5f\"}, \"baxis\": {\"endlinecolor\": \"#2a3f5f\", \"gridcolor\": \"white\", \"linecolor\": \"white\", \"minorgridcolor\": \"white\", \"startlinecolor\": \"#2a3f5f\"}, \"type\": \"carpet\"}], \"choropleth\": [{\"colorbar\": {\"outlinewidth\": 0, \"ticks\": \"\"}, \"type\": \"choropleth\"}], \"contour\": [{\"colorbar\": {\"outlinewidth\": 0, \"ticks\": \"\"}, \"colorscale\": [[0.0, \"#0d0887\"], [0.1111111111111111, \"#46039f\"], [0.2222222222222222, \"#7201a8\"], [0.3333333333333333, \"#9c179e\"], [0.4444444444444444, \"#bd3786\"], [0.5555555555555556, \"#d8576b\"], [0.6666666666666666, \"#ed7953\"], [0.7777777777777778, \"#fb9f3a\"], [0.8888888888888888, \"#fdca26\"], [1.0, \"#f0f921\"]], \"type\": \"contour\"}], \"contourcarpet\": [{\"colorbar\": {\"outlinewidth\": 0, \"ticks\": \"\"}, \"type\": \"contourcarpet\"}], \"heatmap\": [{\"colorbar\": {\"outlinewidth\": 0, \"ticks\": \"\"}, \"colorscale\": [[0.0, \"#0d0887\"], [0.1111111111111111, \"#46039f\"], [0.2222222222222222, \"#7201a8\"], [0.3333333333333333, \"#9c179e\"], [0.4444444444444444, \"#bd3786\"], [0.5555555555555556, \"#d8576b\"], [0.6666666666666666, \"#ed7953\"], [0.7777777777777778, \"#fb9f3a\"], [0.8888888888888888, \"#fdca26\"], [1.0, \"#f0f921\"]], \"type\": \"heatmap\"}], \"heatmapgl\": [{\"colorbar\": {\"outlinewidth\": 0, \"ticks\": \"\"}, \"colorscale\": [[0.0, \"#0d0887\"], [0.1111111111111111, \"#46039f\"], [0.2222222222222222, \"#7201a8\"], [0.3333333333333333, \"#9c179e\"], [0.4444444444444444, \"#bd3786\"], [0.5555555555555556, \"#d8576b\"], [0.6666666666666666, \"#ed7953\"], [0.7777777777777778, \"#fb9f3a\"], [0.8888888888888888, \"#fdca26\"], [1.0, \"#f0f921\"]], \"type\": \"heatmapgl\"}], \"histogram\": [{\"marker\": {\"colorbar\": {\"outlinewidth\": 0, \"ticks\": \"\"}}, \"type\": \"histogram\"}], \"histogram2d\": [{\"colorbar\": {\"outlinewidth\": 0, \"ticks\": \"\"}, \"colorscale\": [[0.0, \"#0d0887\"], [0.1111111111111111, \"#46039f\"], [0.2222222222222222, \"#7201a8\"], [0.3333333333333333, \"#9c179e\"], [0.4444444444444444, \"#bd3786\"], [0.5555555555555556, \"#d8576b\"], [0.6666666666666666, \"#ed7953\"], [0.7777777777777778, \"#fb9f3a\"], [0.8888888888888888, \"#fdca26\"], [1.0, \"#f0f921\"]], \"type\": \"histogram2d\"}], \"histogram2dcontour\": [{\"colorbar\": {\"outlinewidth\": 0, \"ticks\": \"\"}, \"colorscale\": [[0.0, \"#0d0887\"], [0.1111111111111111, \"#46039f\"], [0.2222222222222222, \"#7201a8\"], [0.3333333333333333, \"#9c179e\"], [0.4444444444444444, \"#bd3786\"], [0.5555555555555556, \"#d8576b\"], [0.6666666666666666, \"#ed7953\"], [0.7777777777777778, \"#fb9f3a\"], [0.8888888888888888, \"#fdca26\"], [1.0, \"#f0f921\"]], \"type\": \"histogram2dcontour\"}], \"mesh3d\": [{\"colorbar\": {\"outlinewidth\": 0, \"ticks\": \"\"}, \"type\": \"mesh3d\"}], \"parcoords\": [{\"line\": {\"colorbar\": {\"outlinewidth\": 0, \"ticks\": \"\"}}, \"type\": \"parcoords\"}], \"pie\": [{\"automargin\": true, \"type\": \"pie\"}], \"scatter\": [{\"marker\": {\"colorbar\": {\"outlinewidth\": 0, \"ticks\": \"\"}}, \"type\": \"scatter\"}], \"scatter3d\": [{\"line\": {\"colorbar\": {\"outlinewidth\": 0, \"ticks\": \"\"}}, \"marker\": {\"colorbar\": {\"outlinewidth\": 0, \"ticks\": \"\"}}, \"type\": \"scatter3d\"}], \"scattercarpet\": [{\"marker\": {\"colorbar\": {\"outlinewidth\": 0, \"ticks\": \"\"}}, \"type\": \"scattercarpet\"}], \"scattergeo\": [{\"marker\": {\"colorbar\": {\"outlinewidth\": 0, \"ticks\": \"\"}}, \"type\": \"scattergeo\"}], \"scattergl\": [{\"marker\": {\"colorbar\": {\"outlinewidth\": 0, \"ticks\": \"\"}}, \"type\": \"scattergl\"}], \"scattermapbox\": [{\"marker\": {\"colorbar\": {\"outlinewidth\": 0, \"ticks\": \"\"}}, \"type\": \"scattermapbox\"}], \"scatterpolar\": [{\"marker\": {\"colorbar\": {\"outlinewidth\": 0, \"ticks\": \"\"}}, \"type\": \"scatterpolar\"}], \"scatterpolargl\": [{\"marker\": {\"colorbar\": {\"outlinewidth\": 0, \"ticks\": \"\"}}, \"type\": \"scatterpolargl\"}], \"scatterternary\": [{\"marker\": {\"colorbar\": {\"outlinewidth\": 0, \"ticks\": \"\"}}, \"type\": \"scatterternary\"}], \"surface\": [{\"colorbar\": {\"outlinewidth\": 0, \"ticks\": \"\"}, \"colorscale\": [[0.0, \"#0d0887\"], [0.1111111111111111, \"#46039f\"], [0.2222222222222222, \"#7201a8\"], [0.3333333333333333, \"#9c179e\"], [0.4444444444444444, \"#bd3786\"], [0.5555555555555556, \"#d8576b\"], [0.6666666666666666, \"#ed7953\"], [0.7777777777777778, \"#fb9f3a\"], [0.8888888888888888, \"#fdca26\"], [1.0, \"#f0f921\"]], \"type\": \"surface\"}], \"table\": [{\"cells\": {\"fill\": {\"color\": \"#EBF0F8\"}, \"line\": {\"color\": \"white\"}}, \"header\": {\"fill\": {\"color\": \"#C8D4E3\"}, \"line\": {\"color\": \"white\"}}, \"type\": \"table\"}]}, \"layout\": {\"annotationdefaults\": {\"arrowcolor\": \"#2a3f5f\", \"arrowhead\": 0, \"arrowwidth\": 1}, \"autotypenumbers\": \"strict\", \"coloraxis\": {\"colorbar\": {\"outlinewidth\": 0, \"ticks\": \"\"}}, \"colorscale\": {\"diverging\": [[0, \"#8e0152\"], [0.1, \"#c51b7d\"], [0.2, \"#de77ae\"], [0.3, \"#f1b6da\"], [0.4, \"#fde0ef\"], [0.5, \"#f7f7f7\"], [0.6, \"#e6f5d0\"], [0.7, \"#b8e186\"], [0.8, \"#7fbc41\"], [0.9, \"#4d9221\"], [1, \"#276419\"]], \"sequential\": [[0.0, \"#0d0887\"], [0.1111111111111111, \"#46039f\"], [0.2222222222222222, \"#7201a8\"], [0.3333333333333333, \"#9c179e\"], [0.4444444444444444, \"#bd3786\"], [0.5555555555555556, \"#d8576b\"], [0.6666666666666666, \"#ed7953\"], [0.7777777777777778, \"#fb9f3a\"], [0.8888888888888888, \"#fdca26\"], [1.0, \"#f0f921\"]], \"sequentialminus\": [[0.0, \"#0d0887\"], [0.1111111111111111, \"#46039f\"], [0.2222222222222222, \"#7201a8\"], [0.3333333333333333, \"#9c179e\"], [0.4444444444444444, \"#bd3786\"], [0.5555555555555556, \"#d8576b\"], [0.6666666666666666, \"#ed7953\"], [0.7777777777777778, \"#fb9f3a\"], [0.8888888888888888, \"#fdca26\"], [1.0, \"#f0f921\"]]}, \"colorway\": [\"#636efa\", \"#EF553B\", \"#00cc96\", \"#ab63fa\", \"#FFA15A\", \"#19d3f3\", \"#FF6692\", \"#B6E880\", \"#FF97FF\", \"#FECB52\"], \"font\": {\"color\": \"#2a3f5f\"}, \"geo\": {\"bgcolor\": \"white\", \"lakecolor\": \"white\", \"landcolor\": \"#E5ECF6\", \"showlakes\": true, \"showland\": true, \"subunitcolor\": \"white\"}, \"hoverlabel\": {\"align\": \"left\"}, \"hovermode\": \"closest\", \"mapbox\": {\"style\": \"light\"}, \"paper_bgcolor\": \"white\", \"plot_bgcolor\": \"#E5ECF6\", \"polar\": {\"angularaxis\": {\"gridcolor\": \"white\", \"linecolor\": \"white\", \"ticks\": \"\"}, \"bgcolor\": \"#E5ECF6\", \"radialaxis\": {\"gridcolor\": \"white\", \"linecolor\": \"white\", \"ticks\": \"\"}}, \"scene\": {\"xaxis\": {\"backgroundcolor\": \"#E5ECF6\", \"gridcolor\": \"white\", \"gridwidth\": 2, \"linecolor\": \"white\", \"showbackground\": true, \"ticks\": \"\", \"zerolinecolor\": \"white\"}, \"yaxis\": {\"backgroundcolor\": \"#E5ECF6\", \"gridcolor\": \"white\", \"gridwidth\": 2, \"linecolor\": \"white\", \"showbackground\": true, \"ticks\": \"\", \"zerolinecolor\": \"white\"}, \"zaxis\": {\"backgroundcolor\": \"#E5ECF6\", \"gridcolor\": \"white\", \"gridwidth\": 2, \"linecolor\": \"white\", \"showbackground\": true, \"ticks\": \"\", \"zerolinecolor\": \"white\"}}, \"shapedefaults\": {\"line\": {\"color\": \"#2a3f5f\"}}, \"ternary\": {\"aaxis\": {\"gridcolor\": \"white\", \"linecolor\": \"white\", \"ticks\": \"\"}, \"baxis\": {\"gridcolor\": \"white\", \"linecolor\": \"white\", \"ticks\": \"\"}, \"bgcolor\": \"#E5ECF6\", \"caxis\": {\"gridcolor\": \"white\", \"linecolor\": \"white\", \"ticks\": \"\"}}, \"title\": {\"x\": 0.05}, \"xaxis\": {\"automargin\": true, \"gridcolor\": \"white\", \"linecolor\": \"white\", \"ticks\": \"\", \"title\": {\"standoff\": 15}, \"zerolinecolor\": \"white\", \"zerolinewidth\": 2}, \"yaxis\": {\"automargin\": true, \"gridcolor\": \"white\", \"linecolor\": \"white\", \"ticks\": \"\", \"title\": {\"standoff\": 15}, \"zerolinecolor\": \"white\", \"zerolinewidth\": 2}}}, \"title\": {\"text\": \"Plot of e^{ix}\"}, \"xaxis\": {\"title\": {\"text\": \"x\"}}},                        {\"responsive\": true}                    ).then(function(){\n",
       "                            \n",
       "var gd = document.getElementById('a0429c0e-b637-4fdd-9b43-d756754080c1');\n",
       "var x = new MutationObserver(function (mutations, observer) {{\n",
       "        var display = window.getComputedStyle(gd).display;\n",
       "        if (!display || display === 'none') {{\n",
       "            console.log([gd, 'removed!']);\n",
       "            Plotly.purge(gd);\n",
       "            observer.disconnect();\n",
       "        }}\n",
       "}});\n",
       "\n",
       "// Listen for the removal of the full notebook cells\n",
       "var notebookContainer = gd.closest('#notebook-container');\n",
       "if (notebookContainer) {{\n",
       "    x.observe(notebookContainer, {childList: true});\n",
       "}}\n",
       "\n",
       "// Listen for the clearing of the current output cell\n",
       "var outputEl = gd.closest('.output');\n",
       "if (outputEl) {{\n",
       "    x.observe(outputEl, {childList: true});\n",
       "}}\n",
       "\n",
       "                        })                };                });            </script>        </div>"
      ]
     },
     "metadata": {}
    }
   ],
   "metadata": {}
  },
  {
   "cell_type": "code",
   "execution_count": null,
   "source": [],
   "outputs": [],
   "metadata": {}
  }
 ],
 "metadata": {
  "orig_nbformat": 4,
  "language_info": {
   "name": "python",
   "version": "3.8.5",
   "mimetype": "text/x-python",
   "codemirror_mode": {
    "name": "ipython",
    "version": 3
   },
   "pygments_lexer": "ipython3",
   "nbconvert_exporter": "python",
   "file_extension": ".py"
  },
  "kernelspec": {
   "name": "python3",
   "display_name": "Python 3.8.5 64-bit ('base': conda)"
  },
  "interpreter": {
   "hash": "ce44b17c45080b8f56a19c9450d52461d624c968fcd959bb1916985c5ffa2b94"
  }
 },
 "nbformat": 4,
 "nbformat_minor": 2
}