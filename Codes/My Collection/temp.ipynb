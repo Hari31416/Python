{
 "cells": [
  {
   "cell_type": "code",
   "execution_count": 1,
   "metadata": {},
   "outputs": [],
   "source": [
    "import re\n",
    "import os\n",
    "import datetime\n",
    "import shutil"
   ]
  },
  {
   "cell_type": "code",
   "execution_count": 2,
   "metadata": {},
   "outputs": [],
   "source": [
    "fo = FileOrganizer(r\"C:\\Users\\harik\\Downloads\\redmi_downloads\")"
   ]
  },
  {
   "cell_type": "code",
   "execution_count": 4,
   "metadata": {},
   "outputs": [
    {
     "name": "stdout",
     "output_type": "stream",
     "text": [
      "The size of the directory is: 128.52 Mb\n",
      "The number of files in the directory is: 287\n",
      "Numbers of files included in the size calculation: 287\n"
     ]
    },
    {
     "data": {
      "text/plain": [
       "(128.52, 287)"
      ]
     },
     "execution_count": 4,
     "metadata": {},
     "output_type": "execute_result"
    }
   ],
   "source": [
    "fo.calculate_directory_size(output_unit='mb',number_of_files=True)"
   ]
  },
  {
   "cell_type": "code",
   "execution_count": 32,
   "metadata": {},
   "outputs": [
    {
     "data": {
      "text/plain": [
       "'Money Heist S02E01'"
      ]
     },
     "execution_count": 32,
     "metadata": {},
     "output_type": "execute_result"
    }
   ],
   "source": [
    "text = \"(PlayHD.ooo) Money Heist S02E01 English HD 720p x264 AAC\"\n",
    "text[13:32].strip().title()"
   ]
  },
  {
   "cell_type": "code",
   "execution_count": 33,
   "metadata": {},
   "outputs": [
    {
     "name": "stdout",
     "output_type": "stream",
     "text": [
      "Money Heist S02E01.mkv\n",
      "Money Heist S02E02.mkv\n",
      "Money Heist S02E03.mkv\n",
      "Money Heist S02E04.mkv\n",
      "Money Heist S02E05.mkv\n",
      "Money Heist S02E06.mkv\n",
      "Money Heist S02E07.mkv\n",
      "Money Heist S02E08.mkv\n",
      "Money Heist S02E09.mkv\n"
     ]
    }
   ],
   "source": [
    "directory = r\"D:\\Videos\\TV Serials\\Drama\\Money Heist (La Casa de Papel )\\Season 2\"\n",
    "for file in os.listdir(directory):\n",
    "    file_path = os.path.join(directory, file)\n",
    "    if os.path.isfile(file_path):\n",
    "        # regex = re.compile(r\"(S\\d{1,2}E\\d{1,2})\")\n",
    "        # pos = regex.search(file).span()[1]\n",
    "        new_name = file[13:32].strip().title()+\".mkv\"\n",
    "        print(new_name)\n",
    "        new_path = os.path.join(directory, new_name)\n",
    "        # print(new_path)\n",
    "        try:\n",
    "            os.rename(file_path, new_path)\n",
    "        except:\n",
    "            print(\"Error\")\n",
    "    else:\n",
    "        print(\"NOT A FILE\")\n"
   ]
  },
  {
   "cell_type": "code",
   "execution_count": 22,
   "metadata": {},
   "outputs": [
    {
     "data": {
      "text/plain": [
       "True"
      ]
     },
     "execution_count": 22,
     "metadata": {},
     "output_type": "execute_result"
    }
   ],
   "source": [
    "file = os.path.join(directory, os.listdir(directory)[0])\n",
    "os.path.isfile(file)"
   ]
  },
  {
   "cell_type": "code",
   "execution_count": 12,
   "metadata": {},
   "outputs": [],
   "source": [
    "def detail_directory(directory, exclude_txt = True):\n",
    "    date = datetime.date.today().strftime('%Y-%m-%d')\n",
    "\n",
    "    i = 0\n",
    "    total_file_size = 0\n",
    "    file_name = os.path.join(directory, directory.split(os.sep)[-1] + \"_\" + date + \".txt\")\n",
    "    with open(os.path.join(directory, file_name), \"w\", encoding=\"utf-8\") as f:\n",
    "        for folder, _, files in os.walk(directory):\n",
    "\n",
    "            folder_path = os.path.relpath(folder, directory)\n",
    "            if folder_path == \".\":\n",
    "                level = 0\n",
    "                folder_path = \"root\"\n",
    "            else:\n",
    "                level = len(folder_path.split(os.sep))\n",
    "            \n",
    "            # print(\"\\n\"+ folder_path +\":\\n\")\n",
    "            f.writelines(\"\\n\"+ folder_path +\":\\n\")\n",
    "            for file in files:\n",
    "                if exclude_txt and file.endswith(\".txt\"):\n",
    "                    continue\n",
    "                \n",
    "                file_dir = os.path.join(folder, file)\n",
    "                try:    \n",
    "                    file_size = os.path.getsize(file_dir)/1024/1024\n",
    "                    total_file_size += file_size\n",
    "                    # print(file_size)\n",
    "                except BaseException:\n",
    "                    file_size = 0\n",
    "\n",
    "                text =\"\\t\"*level + file + \"({:.2f}\".format(file_size) + \" MB)\\n\"\n",
    "                # print(text)\n",
    "                i+=1\n",
    "                f.writelines(text)\n",
    "            # f.writelines(\"\\n\")\n",
    "        f.writelines(\"Total files: \" + str(i) + \"\\n\")\n",
    "        f.writelines(\"Total size: \" + \"({:.2f}\".format(total_file_size) + \" MB)\\n\")\n",
    "        f.writelines(\"Total size: \" + \"({:.2f}\".format(total_file_size/1024) + \" GB)\\n\")\n",
    "    return file_name"
   ]
  },
  {
   "cell_type": "code",
   "execution_count": 45,
   "metadata": {},
   "outputs": [
    {
     "data": {
      "text/plain": [
       "'D:\\\\Videos\\\\Videos_2022-04-14.txt'"
      ]
     },
     "execution_count": 45,
     "metadata": {},
     "output_type": "execute_result"
    }
   ],
   "source": [
    "directory = r\"D:\\Videos\"\n",
    "detail_directory(directory)"
   ]
  },
  {
   "cell_type": "code",
   "execution_count": 42,
   "metadata": {},
   "outputs": [
    {
     "name": "stdout",
     "output_type": "stream",
     "text": [
      "Stock Market\n"
     ]
    }
   ],
   "source": [
    "directory = r\"D:\\Videos\\Movies\\Drama\"\n",
    "dirs = os.listdir(directory)\n",
    "dirs = filter(lambda x: os.path.isdir(os.path.join(directory, x)), dirs)\n",
    "dirs = list(dirs)\n",
    "for dir in dirs:\n",
    "    print(dir)\n",
    "    detail_directory(os.path.join(directory, dir))"
   ]
  },
  {
   "cell_type": "code",
   "execution_count": 1,
   "metadata": {},
   "outputs": [],
   "source": [
    "from life_saving_tools.Files import FileOrganizer"
   ]
  },
  {
   "cell_type": "code",
   "execution_count": 2,
   "metadata": {},
   "outputs": [
    {
     "name": "stderr",
     "output_type": "stream",
     "text": [
      "Calculating...: 2489it [00:02, 1502.44it/s]"
     ]
    },
    {
     "name": "stdout",
     "output_type": "stream",
     "text": [
      "[WinError 3] The system cannot find the path specified: 'C:\\\\Users\\\\harik\\\\Desktop\\\\Books\\\\Problems and Solutions\\\\Problems and Solutions on Optics Major American Universities Ph. D. Qualifying Questions and Solutions by Gui-Ru Bai, Lim Yung-Kuo, Guang-Can Guo, Yung-Kuo Lim, Chung-Kuo KO Hsueh Chi Shu Ta Hsueh Phy (z-lib.org).pdf'\n",
      "Ignoring the size of this file.\n",
      "[WinError 3] The system cannot find the path specified: 'C:\\\\Users\\\\harik\\\\Desktop\\\\Books\\\\Problems and Solutions\\\\Problems and Solutions on Solid State Physics, Relativity and Miscellaneous Topics by Jia-Lu Zhang, Yung-Kuo Lim, You-Yuan Zhou, Shi-Ling Zhang, Chung-Kuo KO Hsueh Chi Shu Ta Hsueh Physics Coaching Cl (z-lib.org).pdf'\n",
      "Ignoring the size of this file.\n"
     ]
    },
    {
     "name": "stderr",
     "output_type": "stream",
     "text": [
      "Calculating...: 8288it [00:07, 1063.41it/s]"
     ]
    },
    {
     "name": "stdout",
     "output_type": "stream",
     "text": [
      "The size of the directory is: 176.76 Gb\n"
     ]
    },
    {
     "name": "stderr",
     "output_type": "stream",
     "text": [
      "\n"
     ]
    },
    {
     "data": {
      "text/plain": [
       "176.76"
      ]
     },
     "execution_count": 2,
     "metadata": {},
     "output_type": "execute_result"
    }
   ],
   "source": [
    "directory = r\"C:\\Users\\harik\\Desktop\"\n",
    "fo = FileOrganizer(directory)\n",
    "fo.calculate_directory_size(output_unit=\"gb\")"
   ]
  },
  {
   "cell_type": "code",
   "execution_count": 46,
   "metadata": {},
   "outputs": [
    {
     "name": "stdout",
     "output_type": "stream",
     "text": [
      "D:\\Books\\Books_2022-02-24.txt\n",
      "D:\\Books\\Audiobooks\\Audiobooks_2022-02-24.txt\n",
      "D:\\Books\\Audiobooks\\A Song of Ice and Fire\\A Game of Thrones\\Torrent_downloaded_from_Demonoid.com.txt\n",
      "D:\\Books\\Audiobooks\\Rick Riordan\\The Heroes of Olympus\\The Lost Hero\\Torrent downloaded from Demonoid.me.txt\n",
      "D:\\Books\\Doctor Who\\Doctor Who_2022-02-24.txt\n",
      "D:\\Books\\Doctor Who\\9th Doctor\\01 - Doctor Who - The Clockwise Man\\The Clockwise Man synopsis.txt\n",
      "D:\\Books\\Doctor Who\\9th Doctor\\02 - Doctor Who - The Monsters Inside\\The Monsters Inside synopsis.txt\n",
      "D:\\Books\\Doctor Who\\9th Doctor\\03 - Doctor Who - Winner Takes All\\Winner Takes All synopsis.txt\n",
      "D:\\Books\\Doctor Who\\9th Doctor\\04 - Doctor Who - The Deviant Strain\\The Deviant Strain synopsis.txt\n",
      "D:\\Books\\Doctor Who\\9th Doctor\\05 - Doctor Who - Only Human\\Only Human synopsis.txt\n",
      "D:\\Books\\Doctor Who\\9th Doctor\\06 - Doctor Who - The Stealers of Dreams\\The Stealers of Dreams synopsis.txt\n",
      "D:\\Books\\Doctor Who\\AB\\10\\07 - Doctor Who - The Stone Rose\\The Stone Rose synopsis.txt\n",
      "D:\\Books\\Doctor Who\\AB\\10\\08 - Doctor Who - The Feast of the Drowned\\The Feast Of The Drowned synopsis.txt\n",
      "D:\\Books\\Doctor Who\\AB\\10\\09 - Doctor Who - The Resurrection Casket\\The Resurrection Casket synopsis.txt\n",
      "D:\\Books\\Doctor Who\\AB\\10\\10 - Doctor Who - The Nightmare of Black Island\\The Nightmare Of Black Island synopsis.txt\n",
      "D:\\Books\\Doctor Who\\AB\\10\\11 - Doctor Who - The Art of Destruction\\The Art Of Destruction synopsis.txt\n",
      "D:\\Books\\Doctor Who\\AB\\10\\12 - Doctor Who - The Price Of Paradise\\The Price Of Paradise synopsis.txt\n",
      "D:\\Books\\Doctor Who\\AB\\10\\12 - Doctor Who - The Price Of Paradise\\The Price of Paradise - Read by Shaun Dingwall\\info.txt\n",
      "D:\\Books\\Doctor Who\\AB\\10\\13 - Doctor Who - Sting of the Zygons\\Sting Of The Zygons synopsis.txt\n",
      "D:\\Books\\Doctor Who\\AB\\10\\14 - Doctor Who - The Last Dodo\\The Last Dodo synopsis.txt\n",
      "D:\\Books\\Doctor Who\\AB\\10\\15 - Doctor Who - Wooden Heart\\Wooden Heart synopsis.txt\n",
      "D:\\Books\\Doctor Who\\AB\\10\\16 - Doctor Who - Forever Autumn\\Forever Autumn synopsis.txt\n",
      "D:\\Books\\Doctor Who\\AB\\10\\16 - Doctor Who - Forever Autumn\\Forever Autumn - Read by Will Thorp\\info.txt\n",
      "D:\\Books\\Doctor Who\\AB\\10\\17 - Doctor Who - Sick Building\\Sick Building synopsis.txt\n",
      "D:\\Books\\Doctor Who\\AB\\10\\17 - Doctor Who - Sick Building\\Sick Building - Read by Will Thorp\\info.txt\n",
      "D:\\Books\\Doctor Who\\AB\\10\\18 - Doctor Who - Wetworld\\Wetworld synopsis.txt\n",
      "D:\\Books\\Doctor Who\\AB\\10\\18 - Doctor Who - Wetworld\\Wetworld - Read by Freema Agyeman\\info.txt\n",
      "D:\\Books\\Doctor Who\\AB\\10\\19 - Doctor Who -  Wishing Well\\Wishing Well synopsis.txt\n",
      "D:\\Books\\Doctor Who\\AB\\10\\20 - Doctor Who - The Pirate Loop\\The Pirate Loop synopsis.txt\n",
      "D:\\Books\\Doctor Who\\AB\\10\\21 - Doctor Who - Peacemaker\\Peacemaker synopsis.txt\n",
      "D:\\Books\\Doctor Who\\AB\\10\\22 - Doctor Who - Martha in the Mirror\\Martha in the Mirror synopsis.txt\n",
      "D:\\Books\\Doctor Who\\AB\\10\\22 - Doctor Who - Martha in the Mirror\\Martha in the Mirror - Read by Freema Agyeman\\readme.txt\n",
      "D:\\Books\\Doctor Who\\AB\\10\\23 - Doctor Who - Snowglobe 7\\Snowglobe 7 synopsis.txt\n",
      "D:\\Books\\Doctor Who\\AB\\10\\23 - Doctor Who - Snowglobe 7\\Snowglobe 7 - Read by Georgia Moffett\\read me.txt\n",
      "D:\\Books\\Doctor Who\\AB\\10\\24 - Doctor Who - The Many Hands\\The Many Hands synopsis.txt\n",
      "D:\\Books\\Doctor Who\\AB\\10\\24 - Doctor Who - The Many Hands\\The Many Hands - Read by David Troughton\\readme.txt\n",
      "D:\\Books\\Doctor Who\\AB\\10\\25 - Doctor Who - Pest Control\\Pest Control synopsis.txt\n",
      "D:\\Books\\Doctor Who\\AB\\10\\26 - Doctor Who - Ghosts of India\\Ghosts of India synopsis.txt\n",
      "D:\\Books\\Doctor Who\\AB\\10\\27 - Doctor Who - The Doctor Trap\\The Doctor Trap synopsis.txt\n",
      "D:\\Books\\Doctor Who\\AB\\10\\28 - Doctor Who - Shining Darkness\\Shining Darkness synopsis.txt\n",
      "D:\\Books\\Doctor Who\\AB\\10\\29 - Doctor Who - The Forever Trap\\The Forever Trap synopsis.txt\n",
      "D:\\Books\\Doctor Who\\AB\\10\\30 - Doctor Who - The Story of Martha\\The Story of Martha synopsis.txt\n",
      "D:\\Books\\Doctor Who\\AB\\10\\31 - Doctor Who - Beautiful Chaos\\Beautiful Chaos synopsis.txt\n",
      "D:\\Books\\Doctor Who\\AB\\10\\32 - Doctor Who - The Eyeless\\The Eyeless synopsis.txt\n",
      "D:\\Books\\Doctor Who\\AB\\10\\33 - Doctor Who - The Nemonite Invasion\\The Nemonite Invasion synopsis.txt\n",
      "D:\\Books\\Doctor Who\\AB\\10\\34 - Doctor Who - Judgement of the Judoon\\Judgment of the Judoon synopsis.txt\n",
      "D:\\Books\\Doctor Who\\AB\\10\\35 - Doctor Who - The Slitheen Excursion\\The Slitheen Excursion synopsis.txt\n",
      "D:\\Books\\Doctor Who\\AB\\10\\36 - Doctor Who - Prisoner Of The Daleks\\Prisoner of the Daleks synopsis.txt\n",
      "D:\\Books\\Doctor Who\\AB\\10\\37 - Doctor Who - The Rising Night\\The Rising Night synopsis.txt\n",
      "D:\\Books\\Doctor Who\\AB\\10\\38 - Doctor Who - The Taking of Chelsea 426\\The Taking of Chelsea 426 synopsis.txt\n",
      "D:\\Books\\Doctor Who\\AB\\10\\39 - Doctor Who - Autonomy\\Autonomy synopsis.txt\n",
      "D:\\Books\\Doctor Who\\AB\\10\\40 - Doctor Who - The Krillitane Storm\\The Krillitane Storm synopsis.txt\n",
      "D:\\Books\\Doctor Who\\AB\\10\\41 - Doctor Who - The Day of the Troll\\The Day of the Troll synopsis.txt\n",
      "D:\\Books\\Doctor Who\\AB\\10\\42 - Doctor Who - The Last Voyage\\The Last Voyage synopsis.txt\n",
      "D:\\Books\\Doctor Who\\AB\\10\\43 - Doctor Who - Dead Air\\Dead Air synopsis.txt\n"
     ]
    },
    {
     "ename": "KeyboardInterrupt",
     "evalue": "",
     "output_type": "error",
     "traceback": [
      "\u001b[1;31m---------------------------------------------------------------------------\u001b[0m",
      "\u001b[1;31mKeyboardInterrupt\u001b[0m                         Traceback (most recent call last)",
      "\u001b[1;32m<ipython-input-46-0e2711f35c07>\u001b[0m in \u001b[0;36m<module>\u001b[1;34m\u001b[0m\n\u001b[0;32m      1\u001b[0m \u001b[0mdirectory\u001b[0m \u001b[1;33m=\u001b[0m \u001b[1;34m\"D:\\Books\"\u001b[0m\u001b[1;33m\u001b[0m\u001b[1;33m\u001b[0m\u001b[0m\n\u001b[0;32m      2\u001b[0m \u001b[0mcopy_to\u001b[0m \u001b[1;33m=\u001b[0m \u001b[1;34mr\"C:\\Users\\harik\\Desktop\\Texts\"\u001b[0m\u001b[1;33m\u001b[0m\u001b[1;33m\u001b[0m\u001b[0m\n\u001b[1;32m----> 3\u001b[1;33m \u001b[1;32mfor\u001b[0m \u001b[0mfolder\u001b[0m\u001b[1;33m,\u001b[0m \u001b[0m_\u001b[0m\u001b[1;33m,\u001b[0m \u001b[0mfiles\u001b[0m \u001b[1;32min\u001b[0m \u001b[0mos\u001b[0m\u001b[1;33m.\u001b[0m\u001b[0mwalk\u001b[0m\u001b[1;33m(\u001b[0m\u001b[0mdirectory\u001b[0m\u001b[1;33m)\u001b[0m\u001b[1;33m:\u001b[0m\u001b[1;33m\u001b[0m\u001b[1;33m\u001b[0m\u001b[0m\n\u001b[0m\u001b[0;32m      4\u001b[0m \u001b[1;33m\u001b[0m\u001b[0m\n\u001b[0;32m      5\u001b[0m     \u001b[1;32mfor\u001b[0m \u001b[0mfile\u001b[0m \u001b[1;32min\u001b[0m \u001b[0mfiles\u001b[0m\u001b[1;33m:\u001b[0m\u001b[1;33m\u001b[0m\u001b[1;33m\u001b[0m\u001b[0m\n",
      "\u001b[1;32m~\\anaconda3\\lib\\os.py\u001b[0m in \u001b[0;36mwalk\u001b[1;34m(top, topdown, onerror, followlinks)\u001b[0m\n\u001b[0;32m    411\u001b[0m             \u001b[1;31m# above.\u001b[0m\u001b[1;33m\u001b[0m\u001b[1;33m\u001b[0m\u001b[1;33m\u001b[0m\u001b[0m\n\u001b[0;32m    412\u001b[0m             \u001b[1;32mif\u001b[0m \u001b[0mfollowlinks\u001b[0m \u001b[1;32mor\u001b[0m \u001b[1;32mnot\u001b[0m \u001b[0mislink\u001b[0m\u001b[1;33m(\u001b[0m\u001b[0mnew_path\u001b[0m\u001b[1;33m)\u001b[0m\u001b[1;33m:\u001b[0m\u001b[1;33m\u001b[0m\u001b[1;33m\u001b[0m\u001b[0m\n\u001b[1;32m--> 413\u001b[1;33m                 \u001b[1;32myield\u001b[0m \u001b[1;32mfrom\u001b[0m \u001b[0mwalk\u001b[0m\u001b[1;33m(\u001b[0m\u001b[0mnew_path\u001b[0m\u001b[1;33m,\u001b[0m \u001b[0mtopdown\u001b[0m\u001b[1;33m,\u001b[0m \u001b[0monerror\u001b[0m\u001b[1;33m,\u001b[0m \u001b[0mfollowlinks\u001b[0m\u001b[1;33m)\u001b[0m\u001b[1;33m\u001b[0m\u001b[1;33m\u001b[0m\u001b[0m\n\u001b[0m\u001b[0;32m    414\u001b[0m     \u001b[1;32melse\u001b[0m\u001b[1;33m:\u001b[0m\u001b[1;33m\u001b[0m\u001b[1;33m\u001b[0m\u001b[0m\n\u001b[0;32m    415\u001b[0m         \u001b[1;31m# Recurse into sub-directories\u001b[0m\u001b[1;33m\u001b[0m\u001b[1;33m\u001b[0m\u001b[1;33m\u001b[0m\u001b[0m\n",
      "\u001b[1;32m~\\anaconda3\\lib\\os.py\u001b[0m in \u001b[0;36mwalk\u001b[1;34m(top, topdown, onerror, followlinks)\u001b[0m\n\u001b[0;32m    411\u001b[0m             \u001b[1;31m# above.\u001b[0m\u001b[1;33m\u001b[0m\u001b[1;33m\u001b[0m\u001b[1;33m\u001b[0m\u001b[0m\n\u001b[0;32m    412\u001b[0m             \u001b[1;32mif\u001b[0m \u001b[0mfollowlinks\u001b[0m \u001b[1;32mor\u001b[0m \u001b[1;32mnot\u001b[0m \u001b[0mislink\u001b[0m\u001b[1;33m(\u001b[0m\u001b[0mnew_path\u001b[0m\u001b[1;33m)\u001b[0m\u001b[1;33m:\u001b[0m\u001b[1;33m\u001b[0m\u001b[1;33m\u001b[0m\u001b[0m\n\u001b[1;32m--> 413\u001b[1;33m                 \u001b[1;32myield\u001b[0m \u001b[1;32mfrom\u001b[0m \u001b[0mwalk\u001b[0m\u001b[1;33m(\u001b[0m\u001b[0mnew_path\u001b[0m\u001b[1;33m,\u001b[0m \u001b[0mtopdown\u001b[0m\u001b[1;33m,\u001b[0m \u001b[0monerror\u001b[0m\u001b[1;33m,\u001b[0m \u001b[0mfollowlinks\u001b[0m\u001b[1;33m)\u001b[0m\u001b[1;33m\u001b[0m\u001b[1;33m\u001b[0m\u001b[0m\n\u001b[0m\u001b[0;32m    414\u001b[0m     \u001b[1;32melse\u001b[0m\u001b[1;33m:\u001b[0m\u001b[1;33m\u001b[0m\u001b[1;33m\u001b[0m\u001b[0m\n\u001b[0;32m    415\u001b[0m         \u001b[1;31m# Recurse into sub-directories\u001b[0m\u001b[1;33m\u001b[0m\u001b[1;33m\u001b[0m\u001b[1;33m\u001b[0m\u001b[0m\n",
      "\u001b[1;32m~\\anaconda3\\lib\\os.py\u001b[0m in \u001b[0;36mwalk\u001b[1;34m(top, topdown, onerror, followlinks)\u001b[0m\n\u001b[0;32m    411\u001b[0m             \u001b[1;31m# above.\u001b[0m\u001b[1;33m\u001b[0m\u001b[1;33m\u001b[0m\u001b[1;33m\u001b[0m\u001b[0m\n\u001b[0;32m    412\u001b[0m             \u001b[1;32mif\u001b[0m \u001b[0mfollowlinks\u001b[0m \u001b[1;32mor\u001b[0m \u001b[1;32mnot\u001b[0m \u001b[0mislink\u001b[0m\u001b[1;33m(\u001b[0m\u001b[0mnew_path\u001b[0m\u001b[1;33m)\u001b[0m\u001b[1;33m:\u001b[0m\u001b[1;33m\u001b[0m\u001b[1;33m\u001b[0m\u001b[0m\n\u001b[1;32m--> 413\u001b[1;33m                 \u001b[1;32myield\u001b[0m \u001b[1;32mfrom\u001b[0m \u001b[0mwalk\u001b[0m\u001b[1;33m(\u001b[0m\u001b[0mnew_path\u001b[0m\u001b[1;33m,\u001b[0m \u001b[0mtopdown\u001b[0m\u001b[1;33m,\u001b[0m \u001b[0monerror\u001b[0m\u001b[1;33m,\u001b[0m \u001b[0mfollowlinks\u001b[0m\u001b[1;33m)\u001b[0m\u001b[1;33m\u001b[0m\u001b[1;33m\u001b[0m\u001b[0m\n\u001b[0m\u001b[0;32m    414\u001b[0m     \u001b[1;32melse\u001b[0m\u001b[1;33m:\u001b[0m\u001b[1;33m\u001b[0m\u001b[1;33m\u001b[0m\u001b[0m\n\u001b[0;32m    415\u001b[0m         \u001b[1;31m# Recurse into sub-directories\u001b[0m\u001b[1;33m\u001b[0m\u001b[1;33m\u001b[0m\u001b[1;33m\u001b[0m\u001b[0m\n",
      "\u001b[1;32m~\\anaconda3\\lib\\os.py\u001b[0m in \u001b[0;36mwalk\u001b[1;34m(top, topdown, onerror, followlinks)\u001b[0m\n\u001b[0;32m    350\u001b[0m         \u001b[1;31m# Note that scandir is global in this module due\u001b[0m\u001b[1;33m\u001b[0m\u001b[1;33m\u001b[0m\u001b[1;33m\u001b[0m\u001b[0m\n\u001b[0;32m    351\u001b[0m         \u001b[1;31m# to earlier import-*.\u001b[0m\u001b[1;33m\u001b[0m\u001b[1;33m\u001b[0m\u001b[1;33m\u001b[0m\u001b[0m\n\u001b[1;32m--> 352\u001b[1;33m         \u001b[0mscandir_it\u001b[0m \u001b[1;33m=\u001b[0m \u001b[0mscandir\u001b[0m\u001b[1;33m(\u001b[0m\u001b[0mtop\u001b[0m\u001b[1;33m)\u001b[0m\u001b[1;33m\u001b[0m\u001b[1;33m\u001b[0m\u001b[0m\n\u001b[0m\u001b[0;32m    353\u001b[0m     \u001b[1;32mexcept\u001b[0m \u001b[0mOSError\u001b[0m \u001b[1;32mas\u001b[0m \u001b[0merror\u001b[0m\u001b[1;33m:\u001b[0m\u001b[1;33m\u001b[0m\u001b[1;33m\u001b[0m\u001b[0m\n\u001b[0;32m    354\u001b[0m         \u001b[1;32mif\u001b[0m \u001b[0monerror\u001b[0m \u001b[1;32mis\u001b[0m \u001b[1;32mnot\u001b[0m \u001b[1;32mNone\u001b[0m\u001b[1;33m:\u001b[0m\u001b[1;33m\u001b[0m\u001b[1;33m\u001b[0m\u001b[0m\n",
      "\u001b[1;31mKeyboardInterrupt\u001b[0m: "
     ]
    }
   ],
   "source": [
    "directory = \"D:\\Books\"\n",
    "copy_to = r\"C:\\Users\\harik\\Desktop\\Texts\"\n",
    "for folder, _, files in os.walk(directory):\n",
    "\n",
    "    for file in files:\n",
    "        if file.endswith(\"txt\"):\n",
    "            file_path = os.path.join(folder, file)\n",
    "            copy_path = os.path.join(copy_to, file)\n",
    "            shutil.copy(file_path, copy_path)\n",
    "            print(file_path)"
   ]
  },
  {
   "cell_type": "code",
   "execution_count": 52,
   "metadata": {},
   "outputs": [],
   "source": [
    "files = os.listdir(copy_to)\n",
    "\n",
    "for file in files:\n",
    "    if file.endswith(\"txt\"):\n",
    "        file_path = os.path.join(copy_to, file)\n",
    "        os.remove(file_path)"
   ]
  }
 ],
 "metadata": {
  "interpreter": {
   "hash": "ce44b17c45080b8f56a19c9450d52461d624c968fcd959bb1916985c5ffa2b94"
  },
  "kernelspec": {
   "display_name": "Python 3.8.5 64-bit ('base': conda)",
   "language": "python",
   "name": "python3"
  },
  "language_info": {
   "codemirror_mode": {
    "name": "ipython",
    "version": 3
   },
   "file_extension": ".py",
   "mimetype": "text/x-python",
   "name": "python",
   "nbconvert_exporter": "python",
   "pygments_lexer": "ipython3",
   "version": "3.8.5"
  },
  "orig_nbformat": 4
 },
 "nbformat": 4,
 "nbformat_minor": 2
}
