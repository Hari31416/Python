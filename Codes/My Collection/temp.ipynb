{
 "cells": [
  {
   "cell_type": "code",
   "execution_count": 4,
   "metadata": {},
   "outputs": [
    {
     "name": "stdout",
     "output_type": "stream",
     "text": [
      "The index value during this loop is: 0\n",
      "The letter value during this loop is: h\n",
      "The index value during this loop is: 1\n",
      "The letter value during this loop is: e\n",
      "The index value during this loop is: 2\n",
      "The letter value during this loop is: l\n",
      "The index value during this loop is: 3\n",
      "The letter value during this loop is: l\n",
      "The index value during this loop is: 4\n",
      "The letter value during this loop is: o\n"
     ]
    }
   ],
   "source": [
    "original_string = \"hello\"\n",
    "for index, letter in enumerate(original_string):\n",
    "    print(\"The index value during this loop is:\", index)\n",
    "    print(\"The letter value during this loop is:\", letter)"
   ]
  },
  {
   "cell_type": "code",
   "execution_count": null,
   "metadata": {},
   "outputs": [],
   "source": []
  },
  {
   "cell_type": "code",
   "execution_count": 7,
   "metadata": {},
   "outputs": [
    {
     "name": "stdout",
     "output_type": "stream",
     "text": [
      "The new_string value is: \n",
      "The new_string value is: H\n",
      "The new_string value is: He\n",
      "The new_string value is: HeL\n",
      "The new_string value is: HeLl\n"
     ]
    },
    {
     "data": {
      "text/plain": [
       "'HeLlO'"
      ]
     },
     "execution_count": 7,
     "metadata": {},
     "output_type": "execute_result"
    }
   ],
   "source": [
    "new_string = ''\n",
    "for index, letter in enumerate(original_string):\n",
    "    if index%2==0:\n",
    "        \"Since the index is even, we will print the capital letter\"\n",
    "        print(\"The new_string value is:\", new_string)\n",
    "        new_string += letter.upper()\n",
    "    else:\n",
    "        print(\"The new_string value is:\", new_string)\n",
    "        new_string += letter.lower()\n",
    "\n",
    "new_string"
   ]
  },
  {
   "cell_type": "code",
   "execution_count": 3,
   "metadata": {},
   "outputs": [
    {
     "data": {
      "text/plain": [
       "[{'number_type': 'shortcode',\n",
       "  'base_price': '0.0010',\n",
       "  'current_price': '0.0010'}]"
      ]
     },
     "execution_count": 3,
     "metadata": {},
     "output_type": "execute_result"
    }
   ],
   "source": [
    "country.inbound_sms_prices"
   ]
  },
  {
   "cell_type": "code",
   "execution_count": null,
   "metadata": {},
   "outputs": [],
   "source": []
  }
 ],
 "metadata": {
  "interpreter": {
   "hash": "ce44b17c45080b8f56a19c9450d52461d624c968fcd959bb1916985c5ffa2b94"
  },
  "kernelspec": {
   "display_name": "Python 3.8.5 64-bit ('base': conda)",
   "language": "python",
   "name": "python3"
  },
  "language_info": {
   "codemirror_mode": {
    "name": "ipython",
    "version": 3
   },
   "file_extension": ".py",
   "mimetype": "text/x-python",
   "name": "python",
   "nbconvert_exporter": "python",
   "pygments_lexer": "ipython3",
   "version": "3.8.5"
  },
  "orig_nbformat": 4
 },
 "nbformat": 4,
 "nbformat_minor": 2
}
