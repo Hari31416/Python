{
 "cells": [
  {
   "cell_type": "code",
   "execution_count": 1,
   "metadata": {},
   "outputs": [],
   "source": [
    "import os\n",
    "import re"
   ]
  },
  {
   "cell_type": "code",
   "execution_count": 2,
   "metadata": {},
   "outputs": [],
   "source": [
    "def remove_artist_name(raw_name):\n",
    "    \"\"\"\n",
    "    Removes the artist name from the song name\n",
    "    \"\"\"\n",
    "    try:\n",
    "        pattern = r'-'\n",
    "        song_name = raw_name[1+re.search(pattern, raw_name).start():]\n",
    "        song_name = song_name.strip()\n",
    "    except:\n",
    "        song_name = raw_name\n",
    "    return song_name\n",
    "\n",
    "\n",
    "def rename_file_in_directory(directory):\n",
    "    \"\"\"\n",
    "    Renames the file in the directory\n",
    "    \"\"\"\n",
    "    try:\n",
    "        files = os.listdir(directory)\n",
    "    except:\n",
    "        pattern = r'\\\\'\n",
    "        re.findall(pattern, directory)\n",
    "        directory = \"\\\\\".join(directory.split('\\\\'))\n",
    "    files = os.listdir(directory)\n",
    "    for file in files:\n",
    "        new_name = remove_artist_name(file)\n",
    "        os.rename(os.path.join(directory, file), os.path.join(directory, new_name))"
   ]
  },
  {
   "cell_type": "code",
   "execution_count": 3,
   "metadata": {},
   "outputs": [],
   "source": [
    "directory = r\"C:\\Users\\harik\\Desktop\\Songs\\Harry Styles\""
   ]
  },
  {
   "cell_type": "code",
   "execution_count": 4,
   "metadata": {},
   "outputs": [],
   "source": [
    "rename_file_in_directory(directory)"
   ]
  },
  {
   "cell_type": "code",
   "execution_count": 8,
   "metadata": {},
   "outputs": [],
   "source": [
    "#Create a text file with all the name of songs in the directory\n",
    "with open(directory+\"\\index.txt\", 'w') as f:\n",
    "    j = 1\n",
    "    for folder , sub_folders , files in os.walk(directory):\n",
    "        folder = folder.split('\\\\')[-1]\n",
    "        # print(folder)\n",
    "        try:\n",
    "            f.writelines(folder+'\\n')\n",
    "            for sub_fold in sub_folders:\n",
    "                # print(sub_fold)\n",
    "                f.writelines(sub_fold+'\\n')\n",
    "        except:\n",
    "            pass\n",
    "        i = 1\n",
    "        for fi in files:\n",
    "            try:\n",
    "                fi = '.'.join(fi.split('.')[:-1])\n",
    "                # print(fi)\n",
    "                if fi==\"index\":\n",
    "                    pass \n",
    "                else:\n",
    "                    f.writelines(str(i)+ \". \" + fi+'\\n')\n",
    "                    i+=1\n",
    "                    j+=1\n",
    "            except:\n",
    "                pass\n",
    "        # print('\\n')\n",
    "        f.writelines('\\n')\n",
    "    # print(\"Total number of songs: \" + str(j))\n",
    "    f.writelines('\\n' + \"Total number of songs: \" + str(j-1))"
   ]
  },
  {
   "cell_type": "code",
   "execution_count": null,
   "metadata": {},
   "outputs": [],
   "source": []
  },
  {
   "cell_type": "markdown",
   "metadata": {},
   "source": [
    "## Movies"
   ]
  },
  {
   "cell_type": "code",
   "execution_count": 3,
   "metadata": {},
   "outputs": [],
   "source": [
    "#tidy up the file names\n",
    "def tidy_up_file_names(file_name):\n",
    "    #remove the white space\n",
    "    file_name = file_name.strip()\n",
    "\n",
    "    #Changing special characters to underscores\n",
    "    special_characters = ['\\\\', '/', ':', '*', '?', '\"', '<', '>', '|']\n",
    "    for character in special_characters:\n",
    "        file_name = file_name.replace(character, '_')\n",
    "    \n",
    "    #remove the file extension\n",
    "    temp_list = file_name.split('.')\n",
    "    if temp_list[-1] == 'mkv' or temp_list[-1] == 'mp4':\n",
    "        file_name = '.'.join(temp_list[:-1])\n",
    "    else:\n",
    "        file_name = '.'.join(temp_list)\n",
    "\n",
    "    #Remove unwanted information from the file name\n",
    "    pattern = r'\\d{4}'\n",
    "    try:\n",
    "        final = re.search(pattern, file_name).span()[1]\n",
    "        file_name = file_name[:final]\n",
    "    except:\n",
    "        pass\n",
    "\n",
    "    #replace spaces with underscores\n",
    "    new_name = file_name.replace(' ', '_')\n",
    "    return new_name"
   ]
  },
  {
   "cell_type": "code",
   "execution_count": null,
   "metadata": {},
   "outputs": [],
   "source": []
  }
 ],
 "metadata": {
  "interpreter": {
   "hash": "ce44b17c45080b8f56a19c9450d52461d624c968fcd959bb1916985c5ffa2b94"
  },
  "kernelspec": {
   "display_name": "Python 3.8.5 64-bit ('base': conda)",
   "language": "python",
   "name": "python3"
  },
  "language_info": {
   "codemirror_mode": {
    "name": "ipython",
    "version": 3
   },
   "file_extension": ".py",
   "mimetype": "text/x-python",
   "name": "python",
   "nbconvert_exporter": "python",
   "pygments_lexer": "ipython3",
   "version": "3.8.5"
  },
  "orig_nbformat": 4
 },
 "nbformat": 4,
 "nbformat_minor": 2
}
