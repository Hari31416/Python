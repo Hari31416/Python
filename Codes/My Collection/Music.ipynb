{
 "cells": [
  {
   "cell_type": "markdown",
   "metadata": {},
   "source": [
    "### To Organize songs using its album name"
   ]
  },
  {
   "cell_type": "markdown",
   "metadata": {},
   "source": [
    "* Get the album name from the song name\n",
    "* Create a new folder with the album name\n",
    "* If a albums contains less than 3 songs, move the songs to a different new folder\n",
    "* Move all the songs to relevant folders"
   ]
  },
  {
   "cell_type": "markdown",
   "metadata": {},
   "source": [
    "#### 1 To get the album name from the song name"
   ]
  },
  {
   "cell_type": "code",
   "execution_count": 1,
   "metadata": {},
   "outputs": [],
   "source": [
    "from mutagen.easyid3 import EasyID3\n",
    "from mutagen.mp3 import MP3\n",
    "import os\n",
    "import shutil"
   ]
  },
  {
   "cell_type": "code",
   "execution_count": 3,
   "metadata": {},
   "outputs": [],
   "source": [
    "directory = r\"C:\\Users\\harik\\Desktop\\Songs\\Camila Cabello\"\n",
    "file = r\"C:\\Users\\harik\\Desktop\\Songs\\Camila Cabello\\Camila\\Real Friends.mp3\""
   ]
  },
  {
   "cell_type": "code",
   "execution_count": 6,
   "metadata": {},
   "outputs": [
    {
     "data": {
      "text/plain": [
       "'7'"
      ]
     },
     "execution_count": 6,
     "metadata": {},
     "output_type": "execute_result"
    }
   ],
   "source": [
    "audio = MP3(file, ID3=EasyID3)\n",
    "audio['tracknumber'][0]"
   ]
  },
  {
   "cell_type": "code",
   "execution_count": null,
   "metadata": {},
   "outputs": [],
   "source": [
    "def get_albums(directory):\n",
    "    albums_list = []\n",
    "\n",
    "    for file in os.listdir(directory):\n",
    "        if file.endswith(\".mp3\"):\n",
    "            file = os.path.join(directory, file)\n",
    "            audio = MP3(file, ID3=EasyID3)\n",
    "            album = audio[\"album\"][0]\n",
    "            albums_list.append(album)\n",
    "    return albums_list\n",
    "\n",
    "albums_list = get_albums(directory)\n",
    "albums_set= set(albums_list)"
   ]
  },
  {
   "cell_type": "markdown",
   "metadata": {},
   "source": [
    "#### Create Directories depending on the album name and the minimum number consideration"
   ]
  },
  {
   "cell_type": "code",
   "execution_count": null,
   "metadata": {},
   "outputs": [],
   "source": [
    "valid_folders =[]\n",
    "num_songs_per_album = {}\n",
    "for album in albums_set:\n",
    "    num_songs_per_album[album] = albums_list.count(album)\n",
    "\n",
    "for key, value in num_songs_per_album.items():\n",
    "    if value > 1:\n",
    "        valid_folders.append(key)"
   ]
  },
  {
   "cell_type": "code",
   "execution_count": null,
   "metadata": {},
   "outputs": [],
   "source": [
    "valid_folders"
   ]
  },
  {
   "cell_type": "code",
   "execution_count": null,
   "metadata": {},
   "outputs": [],
   "source": [
    "'hari'.replace('i', 'o')"
   ]
  },
  {
   "cell_type": "markdown",
   "metadata": {},
   "source": [
    "#### Need to clean the folder name before creating the directory"
   ]
  },
  {
   "cell_type": "code",
   "execution_count": null,
   "metadata": {},
   "outputs": [],
   "source": [
    "valid_folders_clean = []\n",
    "for folder in valid_folders:\n",
    "    special_chars = r\"/ \\ : * ? < > |\".split()\n",
    "    for char in special_chars:\n",
    "        if char in folder:\n",
    "            folder = folder.replace(char, \"\")\n",
    "            valid_folders_clean.append(folder)\n",
    "        else:\n",
    "            valid_folders_clean.append(folder)\n",
    "    folder_dir = os.path.join(directory, folder)\n",
    "    os.makedirs(folder_dir,exist_ok=True)"
   ]
  },
  {
   "cell_type": "code",
   "execution_count": null,
   "metadata": {},
   "outputs": [],
   "source": [
    "for file in os.listdir(directory):\n",
    "    if file.endswith(\".mp3\"):\n",
    "        old_file_path = os.path.join(directory, file)\n",
    "        audio = MP3(old_file_path, ID3=EasyID3)\n",
    "        album = audio[\"album\"][0]\n",
    "        if album in valid_folders_clean:\n",
    "            new_file_folder = os.path.join(directory, album)\n",
    "            shutil.move(old_file_path, new_file_folder)"
   ]
  },
  {
   "cell_type": "markdown",
   "metadata": {},
   "source": [
    "### Weak Version"
   ]
  },
  {
   "cell_type": "code",
   "execution_count": null,
   "metadata": {},
   "outputs": [],
   "source": [
    "albums_weak = []\n",
    "for a in albums_list:\n",
    "    albums_weak.append(a.split(\"(\")[0].strip())\n",
    "\n",
    "albums_set_weak = set(albums_weak)"
   ]
  },
  {
   "cell_type": "code",
   "execution_count": null,
   "metadata": {},
   "outputs": [],
   "source": [
    "albums_set_weak"
   ]
  },
  {
   "cell_type": "code",
   "execution_count": null,
   "metadata": {},
   "outputs": [],
   "source": [
    "valid_folders_weak =[]\n",
    "num_songs_per_album_weak = {}\n",
    "for album in albums_set_weak:\n",
    "    num_songs_per_album_weak[album] = albums_weak.count(album)\n",
    "\n",
    "for key, value in num_songs_per_album_weak.items():\n",
    "    if value > 1:\n",
    "        valid_folders_weak.append(key)"
   ]
  },
  {
   "cell_type": "code",
   "execution_count": null,
   "metadata": {},
   "outputs": [],
   "source": [
    "valid_folders_weak"
   ]
  },
  {
   "cell_type": "code",
   "execution_count": null,
   "metadata": {},
   "outputs": [],
   "source": [
    "valid_folders_clean_weak = []\n",
    "for folder in valid_folders_weak:\n",
    "    special_chars = r\"/ \\ : * ? < > |\".split()\n",
    "    for char in special_chars:\n",
    "        if char in folder:\n",
    "            folder = folder.replace(char, \"\")\n",
    "            valid_folders_clean_weak.append(folder)\n",
    "        else:\n",
    "            valid_folders_clean_weak.append(folder)\n",
    "\n",
    "for folder in valid_folders_clean_weak:            \n",
    "    folder_dir = os.path.join(directory, folder)\n",
    "    os.makedirs(folder_dir,exist_ok=True)"
   ]
  },
  {
   "cell_type": "code",
   "execution_count": null,
   "metadata": {},
   "outputs": [],
   "source": [
    "valid_folders_clean"
   ]
  },
  {
   "cell_type": "code",
   "execution_count": null,
   "metadata": {},
   "outputs": [],
   "source": [
    "valid_folders_clean_weak"
   ]
  },
  {
   "cell_type": "code",
   "execution_count": null,
   "metadata": {},
   "outputs": [],
   "source": [
    "for file in os.listdir(directory):\n",
    "    if file.endswith(\".mp3\"):\n",
    "        old_file_path = os.path.join(directory, file)\n",
    "        audio = MP3(old_file_path, ID3=EasyID3)\n",
    "        album = audio[\"album\"][0]\n",
    "        if album.split(\"(\")[0].strip() in valid_folders_clean_weak:\n",
    "            new_file_folder = os.path.join(directory, album)\n",
    "            shutil.move(old_file_path, new_file_folder)"
   ]
  },
  {
   "cell_type": "code",
   "execution_count": 2,
   "metadata": {},
   "outputs": [],
   "source": [
    "import re\n",
    "import os"
   ]
  },
  {
   "cell_type": "code",
   "execution_count": 1,
   "metadata": {},
   "outputs": [],
   "source": [
    "from music import Music\n",
    "from file_man import FileManager\n",
    "directory = r\"C:\\Users\\harik\\Desktop\\Songs\\Lady Gaga\\Applause (Remixes)\"\n",
    "f = FileManager(directory)\n",
    "m = Music(directory, strict=True)\n",
    "\n",
    "f.rename_files_in_directory()"
   ]
  },
  {
   "cell_type": "code",
   "execution_count": 111,
   "metadata": {},
   "outputs": [
    {
     "data": {
      "text/plain": [
       "'Play (G5SH Remix)'"
      ]
     },
     "execution_count": 111,
     "metadata": {},
     "output_type": "execute_result"
    }
   ],
   "source": [
    "raw_name = \"1 - K-391, Alan Walker, Tungevaag, Mangoo, G5SH - Play (G5SH Remix)\"\n",
    "def clean_name(raw_name):\n",
    "    reg = re.compile(r\"\"\"\n",
    "        (^\\d*)? #track\n",
    "        (\\s-\\s)? #separator\n",
    "        ([A-Za-z\\s,]+)? #somethingelse\n",
    "        (\\s-\\s)? #separator\n",
    "        ([A-Za-z\\s,]+) #artist\n",
    "        (\\s-\\s) #separator\n",
    "        (.+) #Name\n",
    "    \"\"\", re.VERBOSE)\n",
    "    try:\n",
    "        found = reg.findall(raw_name)[0]\n",
    "        track, sep1, something, sep2, artist, sep3, name = found\n",
    "        if track:\n",
    "\n",
    "            new_name = f\"{track} - {name}\"\n",
    "        else:\n",
    "            new_name = name\n",
    "        return new_name\n",
    "    except:\n",
    "        return raw_name\n",
    "clean_name(raw_name)\n"
   ]
  },
  {
   "cell_type": "code",
   "execution_count": 123,
   "metadata": {},
   "outputs": [],
   "source": [
    "import shutil\n"
   ]
  },
  {
   "cell_type": "code",
   "execution_count": 132,
   "metadata": {},
   "outputs": [
    {
     "data": {
      "text/plain": [
       "2"
      ]
     },
     "execution_count": 132,
     "metadata": {},
     "output_type": "execute_result"
    }
   ],
   "source": [
    "import math\n",
    "math.ceil(1.5)"
   ]
  },
  {
   "cell_type": "code",
   "execution_count": 134,
   "metadata": {},
   "outputs": [
    {
     "data": {
      "text/plain": [
       "0"
      ]
     },
     "execution_count": 134,
     "metadata": {},
     "output_type": "execute_result"
    }
   ],
   "source": [
    "math.floor(os.path.getsize('file_man.py')/(1024*1024))"
   ]
  },
  {
   "cell_type": "code",
   "execution_count": 122,
   "metadata": {},
   "outputs": [
    {
     "data": {
      "text/plain": [
       "'07-12-2021'"
      ]
     },
     "execution_count": 122,
     "metadata": {},
     "output_type": "execute_result"
    }
   ],
   "source": [
    "import datetime\n",
    "today = datetime.date.today().strftime(\"%d-%m-%Y\")\n",
    "today"
   ]
  },
  {
   "cell_type": "code",
   "execution_count": 77,
   "metadata": {},
   "outputs": [],
   "source": [
    "def remove_artist_name(raw_name):\n",
    "        \"\"\"\n",
    "        Removes the artist name from the song name\n",
    "        \"\"\"\n",
    "        try:\n",
    "            pattern = r\"-\"\n",
    "            song_name = raw_name[1 + re.search(pattern, raw_name).start() :]\n",
    "            song_name = song_name.strip()\n",
    "        except:\n",
    "            song_name = raw_name\n",
    "        return song_name"
   ]
  },
  {
   "cell_type": "code",
   "execution_count": 88,
   "metadata": {},
   "outputs": [
    {
     "data": {
      "text/plain": [
       "'Alan Walker, Ava Max - Alone, Pt. II'"
      ]
     },
     "execution_count": 88,
     "metadata": {},
     "output_type": "execute_result"
    }
   ],
   "source": [
    "raw_name = \"az - Alan Walker, Ava Max - Alone, Pt. II\"\n",
    "clean_name(raw_name)"
   ]
  },
  {
   "cell_type": "code",
   "execution_count": 32,
   "metadata": {},
   "outputs": [],
   "source": [
    "m.move_files(min_num=1)"
   ]
  },
  {
   "cell_type": "code",
   "execution_count": 33,
   "metadata": {},
   "outputs": [],
   "source": [
    "m.move_all()"
   ]
  },
  {
   "cell_type": "code",
   "execution_count": 31,
   "metadata": {},
   "outputs": [
    {
     "data": {
      "text/plain": [
       "{'KESI': 1,\n",
       " \"If I Can't Have You\": 1,\n",
       " 'Treat You Better': 1,\n",
       " 'Mercy': 2,\n",
       " 'In My Blood': 2,\n",
       " 'Lover': 1,\n",
       " 'Spotify Singles': 1,\n",
       " 'others': 9,\n",
       " \"There's Nothing Holdin' Me Back\": 2,\n",
       " 'Lost In Japan': 2,\n",
       " 'Show You': 1,\n",
       " 'Stitches': 1,\n",
       " \"It'll Be Okay\": 1,\n",
       " 'Summer Of Love': 1,\n",
       " 'Youth': 1,\n",
       " 'One Of Those Nights': 1,\n",
       " 'Under Pressure': 1,\n",
       " 'Believe': 1}"
      ]
     },
     "execution_count": 31,
     "metadata": {},
     "output_type": "execute_result"
    }
   ],
   "source": [
    "m.num_songs_per_album"
   ]
  },
  {
   "cell_type": "code",
   "execution_count": null,
   "metadata": {},
   "outputs": [],
   "source": [
    "m.num_songs_per_album"
   ]
  },
  {
   "cell_type": "code",
   "execution_count": null,
   "metadata": {},
   "outputs": [],
   "source": [
    "shameless = m.audio_file(\"Shameless.mp3\")"
   ]
  },
  {
   "cell_type": "code",
   "execution_count": null,
   "metadata": {},
   "outputs": [],
   "source": [
    "m.get_song_param(shameless, 'artist')"
   ]
  },
  {
   "cell_type": "code",
   "execution_count": null,
   "metadata": {},
   "outputs": [],
   "source": [
    "m.move_files(3)"
   ]
  },
  {
   "cell_type": "code",
   "execution_count": null,
   "metadata": {},
   "outputs": [],
   "source": []
  }
 ],
 "metadata": {
  "interpreter": {
   "hash": "ce44b17c45080b8f56a19c9450d52461d624c968fcd959bb1916985c5ffa2b94"
  },
  "kernelspec": {
   "display_name": "Python 3.8.5 64-bit ('base': conda)",
   "language": "python",
   "name": "python3"
  },
  "language_info": {
   "codemirror_mode": {
    "name": "ipython",
    "version": 3
   },
   "file_extension": ".py",
   "mimetype": "text/x-python",
   "name": "python",
   "nbconvert_exporter": "python",
   "pygments_lexer": "ipython3",
   "version": "3.8.5"
  },
  "orig_nbformat": 4
 },
 "nbformat": 4,
 "nbformat_minor": 2
}
