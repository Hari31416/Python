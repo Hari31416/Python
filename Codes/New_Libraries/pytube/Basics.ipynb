{
 "cells": [
  {
   "cell_type": "markdown",
   "metadata": {},
   "source": [
    "## Installing pytube"
   ]
  },
  {
   "cell_type": "code",
   "execution_count": 1,
   "metadata": {},
   "outputs": [
    {
     "name": "stdout",
     "output_type": "stream",
     "text": [
      "Collecting pytube\n",
      "  Downloading pytube-11.0.2-py3-none-any.whl (56 kB)\n",
      "Installing collected packages: pytube\n",
      "Successfully installed pytube-11.0.2\n"
     ]
    }
   ],
   "source": [
    "!pip install pytube"
   ]
  },
  {
   "cell_type": "markdown",
   "metadata": {},
   "source": [
    "## Downloading a Video"
   ]
  },
  {
   "cell_type": "code",
   "execution_count": 1,
   "metadata": {},
   "outputs": [],
   "source": [
    "from pytube import YouTube"
   ]
  },
  {
   "cell_type": "code",
   "execution_count": 2,
   "metadata": {},
   "outputs": [],
   "source": [
    "yt = YouTube(\"https://www.youtube.com/watch?v=RsEZmictANA\")"
   ]
  },
  {
   "cell_type": "code",
   "execution_count": 3,
   "metadata": {},
   "outputs": [
    {
     "data": {
      "text/plain": [
       "'Taylor Swift - willow (Official Music Video)'"
      ]
     },
     "execution_count": 3,
     "metadata": {},
     "output_type": "execute_result"
    }
   ],
   "source": [
    "yt.title"
   ]
  },
  {
   "cell_type": "code",
   "execution_count": 7,
   "metadata": {},
   "outputs": [
    {
     "data": {
      "text/plain": [
       "'https://i.ytimg.com/vi/RsEZmictANA/sddefault.jpg?v=5fd2fe5a'"
      ]
     },
     "execution_count": 7,
     "metadata": {},
     "output_type": "execute_result"
    }
   ],
   "source": [
    "yt.thumbnail_url"
   ]
  },
  {
   "cell_type": "markdown",
   "metadata": {},
   "source": [
    "For advanced use cases, you can provide some additional arguments when you create a YouTube object:"
   ]
  },
  {
   "cell_type": "markdown",
   "metadata": {},
   "source": [
    "```python\n",
    "yt = YouTube(\n",
    "        'http://youtube.com/watch?v=2lAe1cqCOXo',\n",
    "        on_progress_callback=progress_func,\n",
    "        on_complete_callback=complete_func,\n",
    "        proxies=my_proxies,\n",
    "        use_oauth=False,\n",
    "        allow_oauth_cache=True\n",
    "    )"
   ]
  },
  {
   "cell_type": "markdown",
   "metadata": {},
   "source": [
    "The on_progress_callback function will run whenever a chunk is downloaded from a video, and is called with three arguments: the stream, the data chunk, and the bytes remaining in the video. This could be used, for example, to display a progress bar.\n",
    "\n",
    "The on_complete_callback function will run after a video has been fully downloaded, and is called with two arguments: the stream and the file path. This could be used, for example, to perform post-download processing on a video like trimming the length of it."
   ]
  },
  {
   "cell_type": "code",
   "execution_count": 13,
   "metadata": {},
   "outputs": [
    {
     "data": {
      "text/plain": [
       "[<Stream: itag=\"22\" mime_type=\"video/mp4\" res=\"720p\" fps=\"24fps\" vcodec=\"avc1.64001F\" acodec=\"mp4a.40.2\" progressive=\"True\" type=\"video\">, <Stream: itag=\"18\" mime_type=\"video/mp4\" res=\"360p\" fps=\"24fps\" vcodec=\"avc1.42001E\" acodec=\"mp4a.40.2\" progressive=\"True\" type=\"video\">]"
      ]
     },
     "execution_count": 13,
     "metadata": {},
     "output_type": "execute_result"
    }
   ],
   "source": [
    "yt.streams.filter(progressive=True, file_extension='mp4').order_by('resolution').desc()"
   ]
  },
  {
   "cell_type": "markdown",
   "metadata": {},
   "source": [
    "The list above have both a video codec and audio codec for some, while others have just video or just audio, this is a result of YouTube supporting a streaming technique called Dynamic Adaptive Streaming over HTTP (DASH). This means that you have to audio and video separately, then use a software like ffmpeg to merge them.\n",
    "\n",
    "Progressive downloads are also available, but they have maximum resolution of 720p."
   ]
  },
  {
   "cell_type": "markdown",
   "metadata": {},
   "source": [
    "### Filtering Streams\n",
    "\n",
    "Pytube has built-in functionality to filter the streams available in a YouTube object with the .filter() method."
   ]
  },
  {
   "cell_type": "markdown",
   "metadata": {},
   "source": [
    "1. Only Progressive"
   ]
  },
  {
   "cell_type": "code",
   "execution_count": 9,
   "metadata": {},
   "outputs": [
    {
     "data": {
      "text/plain": [
       "[<Stream: itag=\"17\" mime_type=\"video/3gpp\" res=\"144p\" fps=\"12fps\" vcodec=\"mp4v.20.3\" acodec=\"mp4a.40.2\" progressive=\"True\" type=\"video\">, <Stream: itag=\"18\" mime_type=\"video/mp4\" res=\"360p\" fps=\"24fps\" vcodec=\"avc1.42001E\" acodec=\"mp4a.40.2\" progressive=\"True\" type=\"video\">, <Stream: itag=\"22\" mime_type=\"video/mp4\" res=\"720p\" fps=\"24fps\" vcodec=\"avc1.64001F\" acodec=\"mp4a.40.2\" progressive=\"True\" type=\"video\">]"
      ]
     },
     "execution_count": 9,
     "metadata": {},
     "output_type": "execute_result"
    }
   ],
   "source": [
    "yt.streams.filter(progressive=True)"
   ]
  },
  {
   "cell_type": "markdown",
   "metadata": {},
   "source": [
    "2. Only Adaptive"
   ]
  },
  {
   "cell_type": "code",
   "execution_count": 11,
   "metadata": {},
   "outputs": [
    {
     "data": {
      "text/plain": [
       "[<Stream: itag=\"137\" mime_type=\"video/mp4\" res=\"1080p\" fps=\"24fps\" vcodec=\"avc1.640028\" progressive=\"False\" type=\"video\">, <Stream: itag=\"248\" mime_type=\"video/webm\" res=\"1080p\" fps=\"24fps\" vcodec=\"vp9\" progressive=\"False\" type=\"video\">, <Stream: itag=\"399\" mime_type=\"video/mp4\" res=\"1080p\" fps=\"24fps\" vcodec=\"av01.0.08M.08\" progressive=\"False\" type=\"video\">, <Stream: itag=\"136\" mime_type=\"video/mp4\" res=\"720p\" fps=\"24fps\" vcodec=\"avc1.64001f\" progressive=\"False\" type=\"video\">, <Stream: itag=\"247\" mime_type=\"video/webm\" res=\"720p\" fps=\"24fps\" vcodec=\"vp9\" progressive=\"False\" type=\"video\">, <Stream: itag=\"398\" mime_type=\"video/mp4\" res=\"720p\" fps=\"24fps\" vcodec=\"av01.0.05M.08\" progressive=\"False\" type=\"video\">, <Stream: itag=\"135\" mime_type=\"video/mp4\" res=\"480p\" fps=\"24fps\" vcodec=\"avc1.4d401e\" progressive=\"False\" type=\"video\">, <Stream: itag=\"244\" mime_type=\"video/webm\" res=\"480p\" fps=\"24fps\" vcodec=\"vp9\" progressive=\"False\" type=\"video\">, <Stream: itag=\"397\" mime_type=\"video/mp4\" res=\"480p\" fps=\"24fps\" vcodec=\"av01.0.04M.08\" progressive=\"False\" type=\"video\">, <Stream: itag=\"134\" mime_type=\"video/mp4\" res=\"360p\" fps=\"24fps\" vcodec=\"avc1.4d401e\" progressive=\"False\" type=\"video\">, <Stream: itag=\"243\" mime_type=\"video/webm\" res=\"360p\" fps=\"24fps\" vcodec=\"vp9\" progressive=\"False\" type=\"video\">, <Stream: itag=\"396\" mime_type=\"video/mp4\" res=\"360p\" fps=\"24fps\" vcodec=\"av01.0.01M.08\" progressive=\"False\" type=\"video\">, <Stream: itag=\"133\" mime_type=\"video/mp4\" res=\"240p\" fps=\"24fps\" vcodec=\"avc1.4d4015\" progressive=\"False\" type=\"video\">, <Stream: itag=\"242\" mime_type=\"video/webm\" res=\"240p\" fps=\"24fps\" vcodec=\"vp9\" progressive=\"False\" type=\"video\">, <Stream: itag=\"395\" mime_type=\"video/mp4\" res=\"240p\" fps=\"24fps\" vcodec=\"av01.0.00M.08\" progressive=\"False\" type=\"video\">, <Stream: itag=\"160\" mime_type=\"video/mp4\" res=\"144p\" fps=\"24fps\" vcodec=\"avc1.4d400c\" progressive=\"False\" type=\"video\">, <Stream: itag=\"278\" mime_type=\"video/webm\" res=\"144p\" fps=\"24fps\" vcodec=\"vp9\" progressive=\"False\" type=\"video\">, <Stream: itag=\"394\" mime_type=\"video/mp4\" res=\"144p\" fps=\"24fps\" vcodec=\"av01.0.00M.08\" progressive=\"False\" type=\"video\">, <Stream: itag=\"139\" mime_type=\"audio/mp4\" abr=\"48kbps\" acodec=\"mp4a.40.5\" progressive=\"False\" type=\"audio\">, <Stream: itag=\"140\" mime_type=\"audio/mp4\" abr=\"128kbps\" acodec=\"mp4a.40.2\" progressive=\"False\" type=\"audio\">, <Stream: itag=\"249\" mime_type=\"audio/webm\" abr=\"50kbps\" acodec=\"opus\" progressive=\"False\" type=\"audio\">, <Stream: itag=\"250\" mime_type=\"audio/webm\" abr=\"70kbps\" acodec=\"opus\" progressive=\"False\" type=\"audio\">, <Stream: itag=\"251\" mime_type=\"audio/webm\" abr=\"160kbps\" acodec=\"opus\" progressive=\"False\" type=\"audio\">]"
      ]
     },
     "execution_count": 11,
     "metadata": {},
     "output_type": "execute_result"
    }
   ],
   "source": [
    "yt.streams.filter(adaptive=True)"
   ]
  },
  {
   "cell_type": "markdown",
   "metadata": {},
   "source": [
    "3. Audio Only"
   ]
  },
  {
   "cell_type": "code",
   "execution_count": 13,
   "metadata": {},
   "outputs": [
    {
     "data": {
      "text/plain": [
       "[<Stream: itag=\"139\" mime_type=\"audio/mp4\" abr=\"48kbps\" acodec=\"mp4a.40.5\" progressive=\"False\" type=\"audio\">, <Stream: itag=\"140\" mime_type=\"audio/mp4\" abr=\"128kbps\" acodec=\"mp4a.40.2\" progressive=\"False\" type=\"audio\">, <Stream: itag=\"249\" mime_type=\"audio/webm\" abr=\"50kbps\" acodec=\"opus\" progressive=\"False\" type=\"audio\">, <Stream: itag=\"250\" mime_type=\"audio/webm\" abr=\"70kbps\" acodec=\"opus\" progressive=\"False\" type=\"audio\">, <Stream: itag=\"251\" mime_type=\"audio/webm\" abr=\"160kbps\" acodec=\"opus\" progressive=\"False\" type=\"audio\">]"
      ]
     },
     "execution_count": 13,
     "metadata": {},
     "output_type": "execute_result"
    }
   ],
   "source": [
    "yt.streams.filter(only_audio=True)"
   ]
  },
  {
   "cell_type": "markdown",
   "metadata": {},
   "source": [
    "4. Filtering by extension"
   ]
  },
  {
   "cell_type": "code",
   "execution_count": 14,
   "metadata": {},
   "outputs": [
    {
     "data": {
      "text/plain": [
       "[<Stream: itag=\"18\" mime_type=\"video/mp4\" res=\"360p\" fps=\"24fps\" vcodec=\"avc1.42001E\" acodec=\"mp4a.40.2\" progressive=\"True\" type=\"video\">, <Stream: itag=\"22\" mime_type=\"video/mp4\" res=\"720p\" fps=\"24fps\" vcodec=\"avc1.64001F\" acodec=\"mp4a.40.2\" progressive=\"True\" type=\"video\">, <Stream: itag=\"137\" mime_type=\"video/mp4\" res=\"1080p\" fps=\"24fps\" vcodec=\"avc1.640028\" progressive=\"False\" type=\"video\">, <Stream: itag=\"399\" mime_type=\"video/mp4\" res=\"1080p\" fps=\"24fps\" vcodec=\"av01.0.08M.08\" progressive=\"False\" type=\"video\">, <Stream: itag=\"136\" mime_type=\"video/mp4\" res=\"720p\" fps=\"24fps\" vcodec=\"avc1.64001f\" progressive=\"False\" type=\"video\">, <Stream: itag=\"398\" mime_type=\"video/mp4\" res=\"720p\" fps=\"24fps\" vcodec=\"av01.0.05M.08\" progressive=\"False\" type=\"video\">, <Stream: itag=\"135\" mime_type=\"video/mp4\" res=\"480p\" fps=\"24fps\" vcodec=\"avc1.4d401e\" progressive=\"False\" type=\"video\">, <Stream: itag=\"397\" mime_type=\"video/mp4\" res=\"480p\" fps=\"24fps\" vcodec=\"av01.0.04M.08\" progressive=\"False\" type=\"video\">, <Stream: itag=\"134\" mime_type=\"video/mp4\" res=\"360p\" fps=\"24fps\" vcodec=\"avc1.4d401e\" progressive=\"False\" type=\"video\">, <Stream: itag=\"396\" mime_type=\"video/mp4\" res=\"360p\" fps=\"24fps\" vcodec=\"av01.0.01M.08\" progressive=\"False\" type=\"video\">, <Stream: itag=\"133\" mime_type=\"video/mp4\" res=\"240p\" fps=\"24fps\" vcodec=\"avc1.4d4015\" progressive=\"False\" type=\"video\">, <Stream: itag=\"395\" mime_type=\"video/mp4\" res=\"240p\" fps=\"24fps\" vcodec=\"av01.0.00M.08\" progressive=\"False\" type=\"video\">, <Stream: itag=\"160\" mime_type=\"video/mp4\" res=\"144p\" fps=\"24fps\" vcodec=\"avc1.4d400c\" progressive=\"False\" type=\"video\">, <Stream: itag=\"394\" mime_type=\"video/mp4\" res=\"144p\" fps=\"24fps\" vcodec=\"av01.0.00M.08\" progressive=\"False\" type=\"video\">, <Stream: itag=\"139\" mime_type=\"audio/mp4\" abr=\"48kbps\" acodec=\"mp4a.40.5\" progressive=\"False\" type=\"audio\">, <Stream: itag=\"140\" mime_type=\"audio/mp4\" abr=\"128kbps\" acodec=\"mp4a.40.2\" progressive=\"False\" type=\"audio\">]"
      ]
     },
     "execution_count": 14,
     "metadata": {},
     "output_type": "execute_result"
    }
   ],
   "source": [
    "yt.streams.filter(file_extension='mp4')"
   ]
  },
  {
   "cell_type": "code",
   "execution_count": 17,
   "metadata": {},
   "outputs": [
    {
     "data": {
      "text/plain": [
       "[<Stream: itag=\"248\" mime_type=\"video/webm\" res=\"1080p\" fps=\"24fps\" vcodec=\"vp9\" progressive=\"False\" type=\"video\">, <Stream: itag=\"247\" mime_type=\"video/webm\" res=\"720p\" fps=\"24fps\" vcodec=\"vp9\" progressive=\"False\" type=\"video\">, <Stream: itag=\"244\" mime_type=\"video/webm\" res=\"480p\" fps=\"24fps\" vcodec=\"vp9\" progressive=\"False\" type=\"video\">, <Stream: itag=\"243\" mime_type=\"video/webm\" res=\"360p\" fps=\"24fps\" vcodec=\"vp9\" progressive=\"False\" type=\"video\">, <Stream: itag=\"242\" mime_type=\"video/webm\" res=\"240p\" fps=\"24fps\" vcodec=\"vp9\" progressive=\"False\" type=\"video\">, <Stream: itag=\"278\" mime_type=\"video/webm\" res=\"144p\" fps=\"24fps\" vcodec=\"vp9\" progressive=\"False\" type=\"video\">, <Stream: itag=\"249\" mime_type=\"audio/webm\" abr=\"50kbps\" acodec=\"opus\" progressive=\"False\" type=\"audio\">, <Stream: itag=\"250\" mime_type=\"audio/webm\" abr=\"70kbps\" acodec=\"opus\" progressive=\"False\" type=\"audio\">, <Stream: itag=\"251\" mime_type=\"audio/webm\" abr=\"160kbps\" acodec=\"opus\" progressive=\"False\" type=\"audio\">]"
      ]
     },
     "execution_count": 17,
     "metadata": {},
     "output_type": "execute_result"
    }
   ],
   "source": [
    "yt.streams.filter(file_extension='webm')"
   ]
  },
  {
   "cell_type": "markdown",
   "metadata": {},
   "source": [
    "### Downloading Streams\n",
    "\n",
    "After you’ve selected the Stream you’re interested, you’re ready to interact with it.\n"
   ]
  },
  {
   "cell_type": "code",
   "execution_count": 5,
   "metadata": {},
   "outputs": [],
   "source": [
    "stream = yt.streams.get_by_itag(22)"
   ]
  },
  {
   "cell_type": "code",
   "execution_count": 27,
   "metadata": {},
   "outputs": [
    {
     "data": {
      "text/plain": [
       "39906492"
      ]
     },
     "execution_count": 27,
     "metadata": {},
     "output_type": "execute_result"
    }
   ],
   "source": [
    "stream.filesize"
   ]
  },
  {
   "cell_type": "code",
   "execution_count": 28,
   "metadata": {},
   "outputs": [
    {
     "data": {
      "text/plain": [
       "'c:\\\\Users\\\\harik\\\\Desktop\\\\Python\\\\Codes\\\\New_Libraries\\\\pytube\\\\Taylor Swift - willow (Official Music Video).mp4'"
      ]
     },
     "execution_count": 28,
     "metadata": {},
     "output_type": "execute_result"
    }
   ],
   "source": [
    "stream.download()"
   ]
  },
  {
   "cell_type": "code",
   "execution_count": 15,
   "metadata": {},
   "outputs": [
    {
     "data": {
      "text/plain": [
       "'c:\\\\Users\\\\harik\\\\Desktop\\\\Python\\\\Codes\\\\New_Libraries\\\\pytube\\\\willow.mp3\\\\Taylor Swift - willow (Official Music Video).mp4'"
      ]
     },
     "execution_count": 15,
     "metadata": {},
     "output_type": "execute_result"
    }
   ],
   "source": [
    "yt.streams.filter(only_audio=True)[1].download('willow.mp3')"
   ]
  },
  {
   "cell_type": "markdown",
   "metadata": {},
   "source": [
    "## Subtitle/Caption Tracks"
   ]
  },
  {
   "cell_type": "code",
   "execution_count": 37,
   "metadata": {},
   "outputs": [
    {
     "data": {
      "text/plain": [
       "[<Caption lang=\"English - en\" code=\"en.nP7-2PuUl7o\">]"
      ]
     },
     "execution_count": 37,
     "metadata": {},
     "output_type": "execute_result"
    }
   ],
   "source": [
    "captions = yt.caption_tracks\n",
    "captions"
   ]
  },
  {
   "cell_type": "code",
   "execution_count": 46,
   "metadata": {},
   "outputs": [
    {
     "data": {
      "text/plain": [
       "'<?xml version=\"1.0\" encoding=\"utf-8\" ?><timedtext format=\"3\">\\n<head>\\n<ws id=\"1\" ju=\"2\"/>\\n<wp id=\"17\"'"
      ]
     },
     "execution_count": 46,
     "metadata": {},
     "output_type": "execute_result"
    }
   ],
   "source": [
    "captions[0].xml_captions[:100]"
   ]
  },
  {
   "cell_type": "code",
   "execution_count": 47,
   "metadata": {},
   "outputs": [
    {
     "ename": "KeyError",
     "evalue": "'start'",
     "output_type": "error",
     "traceback": [
      "\u001b[1;31m---------------------------------------------------------------------------\u001b[0m",
      "\u001b[1;31mKeyError\u001b[0m                                  Traceback (most recent call last)",
      "\u001b[1;32m~\\AppData\\Local\\Temp/ipykernel_14624/2474206380.py\u001b[0m in \u001b[0;36m<module>\u001b[1;34m\u001b[0m\n\u001b[1;32m----> 1\u001b[1;33m \u001b[0mcaptions\u001b[0m\u001b[1;33m[\u001b[0m\u001b[1;36m0\u001b[0m\u001b[1;33m]\u001b[0m\u001b[1;33m.\u001b[0m\u001b[0mgenerate_srt_captions\u001b[0m\u001b[1;33m(\u001b[0m\u001b[1;33m)\u001b[0m\u001b[1;33m\u001b[0m\u001b[1;33m\u001b[0m\u001b[0m\n\u001b[0m",
      "\u001b[1;32m~\\anaconda3\\envs\\others\\lib\\site-packages\\pytube\\captions.py\u001b[0m in \u001b[0;36mgenerate_srt_captions\u001b[1;34m(self)\u001b[0m\n\u001b[0;32m     49\u001b[0m         \u001b[0mrecompiles\u001b[0m \u001b[0mthem\u001b[0m \u001b[0minto\u001b[0m \u001b[0mthe\u001b[0m \u001b[1;34m\"SubRip Subtitle\"\u001b[0m \u001b[0mformat\u001b[0m\u001b[1;33m.\u001b[0m\u001b[1;33m\u001b[0m\u001b[1;33m\u001b[0m\u001b[0m\n\u001b[0;32m     50\u001b[0m         \"\"\"\n\u001b[1;32m---> 51\u001b[1;33m         \u001b[1;32mreturn\u001b[0m \u001b[0mself\u001b[0m\u001b[1;33m.\u001b[0m\u001b[0mxml_caption_to_srt\u001b[0m\u001b[1;33m(\u001b[0m\u001b[0mself\u001b[0m\u001b[1;33m.\u001b[0m\u001b[0mxml_captions\u001b[0m\u001b[1;33m)\u001b[0m\u001b[1;33m\u001b[0m\u001b[1;33m\u001b[0m\u001b[0m\n\u001b[0m\u001b[0;32m     52\u001b[0m \u001b[1;33m\u001b[0m\u001b[0m\n\u001b[0;32m     53\u001b[0m     \u001b[1;33m@\u001b[0m\u001b[0mstaticmethod\u001b[0m\u001b[1;33m\u001b[0m\u001b[1;33m\u001b[0m\u001b[0m\n",
      "\u001b[1;32m~\\anaconda3\\envs\\others\\lib\\site-packages\\pytube\\captions.py\u001b[0m in \u001b[0;36mxml_caption_to_srt\u001b[1;34m(self, xml_captions)\u001b[0m\n\u001b[0;32m     81\u001b[0m             \u001b[1;32mexcept\u001b[0m \u001b[0mKeyError\u001b[0m\u001b[1;33m:\u001b[0m\u001b[1;33m\u001b[0m\u001b[1;33m\u001b[0m\u001b[0m\n\u001b[0;32m     82\u001b[0m                 \u001b[0mduration\u001b[0m \u001b[1;33m=\u001b[0m \u001b[1;36m0.0\u001b[0m\u001b[1;33m\u001b[0m\u001b[1;33m\u001b[0m\u001b[0m\n\u001b[1;32m---> 83\u001b[1;33m             \u001b[0mstart\u001b[0m \u001b[1;33m=\u001b[0m \u001b[0mfloat\u001b[0m\u001b[1;33m(\u001b[0m\u001b[0mchild\u001b[0m\u001b[1;33m.\u001b[0m\u001b[0mattrib\u001b[0m\u001b[1;33m[\u001b[0m\u001b[1;34m\"start\"\u001b[0m\u001b[1;33m]\u001b[0m\u001b[1;33m)\u001b[0m\u001b[1;33m\u001b[0m\u001b[1;33m\u001b[0m\u001b[0m\n\u001b[0m\u001b[0;32m     84\u001b[0m             \u001b[0mend\u001b[0m \u001b[1;33m=\u001b[0m \u001b[0mstart\u001b[0m \u001b[1;33m+\u001b[0m \u001b[0mduration\u001b[0m\u001b[1;33m\u001b[0m\u001b[1;33m\u001b[0m\u001b[0m\n\u001b[0;32m     85\u001b[0m             \u001b[0msequence_number\u001b[0m \u001b[1;33m=\u001b[0m \u001b[0mi\u001b[0m \u001b[1;33m+\u001b[0m \u001b[1;36m1\u001b[0m  \u001b[1;31m# convert from 0-indexed to 1.\u001b[0m\u001b[1;33m\u001b[0m\u001b[1;33m\u001b[0m\u001b[0m\n",
      "\u001b[1;31mKeyError\u001b[0m: 'start'"
     ]
    }
   ],
   "source": [
    "captions[0].generate_srt_captions()"
   ]
  },
  {
   "cell_type": "code",
   "execution_count": null,
   "metadata": {},
   "outputs": [],
   "source": []
  },
  {
   "cell_type": "markdown",
   "metadata": {},
   "source": [
    "## Using Playlists"
   ]
  },
  {
   "cell_type": "markdown",
   "metadata": {},
   "source": [
    "### Creating a Playlist\n",
    "\n",
    "Using pytube to interact with playlists is very simple. Begin by importing the Playlist class:"
   ]
  },
  {
   "cell_type": "code",
   "execution_count": 48,
   "metadata": {},
   "outputs": [],
   "source": [
    "from pytube import Playlist"
   ]
  },
  {
   "cell_type": "code",
   "execution_count": 49,
   "metadata": {},
   "outputs": [],
   "source": [
    "p = Playlist(\"https://youtube.com/playlist?list=PLINj2JJM1jxMjrb29kIR5WixKfVeaOaIT\")"
   ]
  },
  {
   "cell_type": "code",
   "execution_count": 50,
   "metadata": {},
   "outputs": [
    {
     "data": {
      "text/plain": [
       "\"Red (Taylor's Version)\""
      ]
     },
     "execution_count": 50,
     "metadata": {},
     "output_type": "execute_result"
    }
   ],
   "source": [
    "p.title"
   ]
  },
  {
   "cell_type": "code",
   "execution_count": 57,
   "metadata": {},
   "outputs": [
    {
     "data": {
      "text/plain": [
       "[<pytube.__main__.YouTube object: videoId=5UMCrq-bBCg>, <pytube.__main__.YouTube object: videoId=tollGa3S0o8>, <pytube.__main__.YouTube object: videoId=gRo0ZtgB2io>, <pytube.__main__.YouTube object: videoId=-mrC5tRkxrY>, <pytube.__main__.YouTube object: videoId=R_rUYuFtNO4>, <pytube.__main__.YouTube object: videoId=u1D1AgDfreg>, <pytube.__main__.YouTube object: videoId=TqAollrUJdA>, <pytube.__main__.YouTube object: videoId=9OQBDdNHmXo>, <pytube.__main__.YouTube object: videoId=9boiT64sm0Q>, <pytube.__main__.YouTube object: videoId=w1AV_35zVwU>, <pytube.__main__.YouTube object: videoId=zJFcr1KyFqE>, <pytube.__main__.YouTube object: videoId=OhJ-S9Nrh7Q>, <pytube.__main__.YouTube object: videoId=pCH4QrSx2Jg>, <pytube.__main__.YouTube object: videoId=S4PuN-IWi2g>, <pytube.__main__.YouTube object: videoId=jQfB4Gahi3I>, <pytube.__main__.YouTube object: videoId=4LtQxA_ooLk>, <pytube.__main__.YouTube object: videoId=eMcMbWl0fDk>, <pytube.__main__.YouTube object: videoId=lPvcwgEuKTg>, <pytube.__main__.YouTube object: videoId=dXNZaHuKWNA>, <pytube.__main__.YouTube object: videoId=LmXn6BU16e0>, <pytube.__main__.YouTube object: videoId=hHWOAUjnmjQ>, <pytube.__main__.YouTube object: videoId=UNckfN9upqo>, <pytube.__main__.YouTube object: videoId=D3mJe28un4M>, <pytube.__main__.YouTube object: videoId=kdiBc40gW7s>, <pytube.__main__.YouTube object: videoId=PReSQYTFvcs>, <pytube.__main__.YouTube object: videoId=m3fWCRvz5JA>, <pytube.__main__.YouTube object: videoId=3pj39qZZYoQ>, <pytube.__main__.YouTube object: videoId=cVaG6adE2mA>, <pytube.__main__.YouTube object: videoId=AccGdO5XeZY>, <pytube.__main__.YouTube object: videoId=TkAomsYFsJw>, <pytube.__main__.YouTube object: videoId=flv8AEWrRMI>, <pytube.__main__.YouTube object: videoId=rVuyi-dPMIc>, <pytube.__main__.YouTube object: videoId=sRxrwjOtIag>]"
      ]
     },
     "execution_count": 57,
     "metadata": {},
     "output_type": "execute_result"
    }
   ],
   "source": [
    "p.videos"
   ]
  },
  {
   "cell_type": "code",
   "execution_count": 58,
   "metadata": {},
   "outputs": [
    {
     "name": "stdout",
     "output_type": "stream",
     "text": [
      "https://www.youtube.com/watch?v=5UMCrq-bBCg\n",
      "https://www.youtube.com/watch?v=tollGa3S0o8\n",
      "https://www.youtube.com/watch?v=gRo0ZtgB2io\n",
      "https://www.youtube.com/watch?v=-mrC5tRkxrY\n",
      "https://www.youtube.com/watch?v=R_rUYuFtNO4\n",
      "https://www.youtube.com/watch?v=u1D1AgDfreg\n",
      "https://www.youtube.com/watch?v=TqAollrUJdA\n",
      "https://www.youtube.com/watch?v=9OQBDdNHmXo\n",
      "https://www.youtube.com/watch?v=9boiT64sm0Q\n",
      "https://www.youtube.com/watch?v=w1AV_35zVwU\n",
      "https://www.youtube.com/watch?v=zJFcr1KyFqE\n",
      "https://www.youtube.com/watch?v=OhJ-S9Nrh7Q\n",
      "https://www.youtube.com/watch?v=pCH4QrSx2Jg\n",
      "https://www.youtube.com/watch?v=S4PuN-IWi2g\n",
      "https://www.youtube.com/watch?v=jQfB4Gahi3I\n",
      "https://www.youtube.com/watch?v=4LtQxA_ooLk\n",
      "https://www.youtube.com/watch?v=eMcMbWl0fDk\n",
      "https://www.youtube.com/watch?v=lPvcwgEuKTg\n",
      "https://www.youtube.com/watch?v=dXNZaHuKWNA\n",
      "https://www.youtube.com/watch?v=LmXn6BU16e0\n",
      "https://www.youtube.com/watch?v=hHWOAUjnmjQ\n",
      "https://www.youtube.com/watch?v=UNckfN9upqo\n",
      "https://www.youtube.com/watch?v=D3mJe28un4M\n",
      "https://www.youtube.com/watch?v=kdiBc40gW7s\n",
      "https://www.youtube.com/watch?v=PReSQYTFvcs\n",
      "https://www.youtube.com/watch?v=m3fWCRvz5JA\n",
      "https://www.youtube.com/watch?v=3pj39qZZYoQ\n",
      "https://www.youtube.com/watch?v=cVaG6adE2mA\n",
      "https://www.youtube.com/watch?v=AccGdO5XeZY\n",
      "https://www.youtube.com/watch?v=TkAomsYFsJw\n",
      "https://www.youtube.com/watch?v=flv8AEWrRMI\n",
      "https://www.youtube.com/watch?v=rVuyi-dPMIc\n",
      "https://www.youtube.com/watch?v=sRxrwjOtIag\n"
     ]
    }
   ],
   "source": [
    "for url in p.video_urls:\n",
    "    print(url)"
   ]
  },
  {
   "cell_type": "code",
   "execution_count": 59,
   "metadata": {},
   "outputs": [
    {
     "name": "stdout",
     "output_type": "stream",
     "text": [
      "Downloading Taylor Swift ft. Chris Stapleton - I Bet You Think About Me (Taylor's Version) (Officia...\n",
      "Downloading Taylor Swift - All Too Well: The Short Film\n",
      "Downloading All Too Well (Sad Girl Autumn Version) - Recorded at Long Pond Studios (Lyric Video)\n",
      "Downloading Taylor Swift - State Of Grace (Taylor's Version) (Lyric Video)\n",
      "Downloading Taylor Swift - Red (Taylor's Version) (Lyric Video)\n",
      "Downloading Taylor Swift - Treacherous (Taylor's Version) (Lyric Video)\n",
      "Downloading Taylor Swift - I Knew You Were Trouble (Taylor's Version) (Lyric Video)\n",
      "Downloading Taylor Swift - All Too Well (Taylor's Version) (Lyric Video)\n",
      "Downloading Taylor Swift - 22 (Taylor's Version) (Lyric Video)\n",
      "Downloading Taylor Swift - I Almost Do (Taylor's Version) (Lyric Video)\n",
      "Downloading Taylor Swift - We Are Never Ever Getting Back Together (Taylor's Version) (Lyric Video)\n",
      "Downloading Taylor Swift - Stay Stay Stay (Taylor's Version) (Lyric Video)\n",
      "Downloading Taylor Swift - The Last Time (Taylor's Version) (Lyric Video) ft. Gary Lightbody\n",
      "Downloading Taylor Swift - Holy Ground (Taylor's Version) (Lyric Video)\n",
      "Downloading Taylor Swift - Sad Beautiful Tragic (Taylor's Version) (Lyric Video)\n",
      "Downloading Taylor Swift - The Lucky One (Taylor's Version) (Lyric Video)\n",
      "Downloading Taylor Swift - Everything Has Changed (Taylor's Version) (Lyric Video) ft. Ed Sheeran\n",
      "Downloading Taylor Swift - Starlight (Taylor's Version) (Lyric Video)\n",
      "Downloading Taylor Swift - Begin Again (Taylor's Version) (Lyric Video)\n",
      "Downloading Taylor Swift - The Moment I Knew (Taylor's Version) (Lyric Video)\n",
      "Downloading Taylor Swift - Come Back...Be Here (Taylor's Version) (Lyric Video)\n",
      "Downloading Taylor Swift - Girl At Home (Taylor's Version) (Lyric Video)\n",
      "Downloading Taylor Swift - State Of Grace (Acoustic Version) (Taylor's Version) (Lyric Video)\n",
      "Downloading Taylor Swift - Ronan (Taylor's Version) (Lyric Video)\n",
      "Downloading Taylor Swift - Better Man (Taylor's Version) (From The Vault) (Lyric Video)\n",
      "Downloading Nothing New (Taylor's Version) (From The Vault) (Lyric Video)\n",
      "Downloading Taylor Swift - Babe (Taylor's Version) (From The Vault) (Lyric Video)\n",
      "Downloading Taylor Swift - Message In A Bottle (Taylor's Version) (From The Vault) (Lyric Video)\n",
      "Downloading I Bet You Think About Me (Taylor's Version) (From The Vault) (Lyric Video)\n",
      "Downloading Taylor Swift - Forever Winter (Taylor's Version) (From The Vault) (Lyric Video)\n",
      "Downloading Taylor Swift - Run (Taylor's Version) (From The Vault) (Lyric Video) ft. Ed Sheeran\n",
      "Downloading Taylor Swift - The Very First Night (Lyric Video)\n",
      "Downloading All Too Well (10 Minute Version) (Taylor's Version) (From The Vault) (Lyric Video)\n"
     ]
    }
   ],
   "source": [
    "for video in p.videos:\n",
    "    print(f\"Downloading {video.title}\")\n",
    "    video.streams.first().download(output_path='Red')"
   ]
  },
  {
   "cell_type": "markdown",
   "metadata": {},
   "source": [
    "## Using Channels"
   ]
  },
  {
   "cell_type": "markdown",
   "metadata": {},
   "source": [
    "Working with channels is almost same as working with playlists."
   ]
  },
  {
   "cell_type": "code",
   "execution_count": 60,
   "metadata": {},
   "outputs": [],
   "source": [
    "from pytube import Channel"
   ]
  },
  {
   "cell_type": "code",
   "execution_count": 61,
   "metadata": {},
   "outputs": [],
   "source": [
    "c = Channel(\"https://www.youtube.com/c/TaylorSwift\")"
   ]
  },
  {
   "cell_type": "code",
   "execution_count": 62,
   "metadata": {},
   "outputs": [
    {
     "data": {
      "text/plain": [
       "'Taylor Swift'"
      ]
     },
     "execution_count": 62,
     "metadata": {},
     "output_type": "execute_result"
    }
   ],
   "source": [
    "c.channel_name"
   ]
  },
  {
   "cell_type": "code",
   "execution_count": 63,
   "metadata": {},
   "outputs": [
    {
     "data": {
      "text/plain": [
       "'/c/TaylorSwift'"
      ]
     },
     "execution_count": 63,
     "metadata": {},
     "output_type": "execute_result"
    }
   ],
   "source": [
    "c.channel_uri"
   ]
  },
  {
   "cell_type": "code",
   "execution_count": 65,
   "metadata": {},
   "outputs": [],
   "source": [
    "videos = c.videos"
   ]
  },
  {
   "cell_type": "code",
   "execution_count": 66,
   "metadata": {},
   "outputs": [
    {
     "data": {
      "text/plain": [
       "417"
      ]
     },
     "execution_count": 66,
     "metadata": {},
     "output_type": "execute_result"
    }
   ],
   "source": [
    "len(videos)"
   ]
  },
  {
   "cell_type": "code",
   "execution_count": 67,
   "metadata": {},
   "outputs": [],
   "source": [
    "songs = [v.title for v in videos]"
   ]
  },
  {
   "cell_type": "code",
   "execution_count": 68,
   "metadata": {},
   "outputs": [
    {
     "data": {
      "text/plain": [
       "['All Too Well (Sad Girl Autumn Version) - Recorded at Long Pond Studios (Lyric Video)',\n",
       " 'Taylor Swift - All Too Well (Sad Girl Autumn Version) - Recorded at Long Pond Studios',\n",
       " \"All Too Well (10 Minute Version) (Taylor's Version) (From The Vault) (Karaoke)\",\n",
       " \"Taylor Swift - All Too Well (Taylor's Version) (Karaoke)\",\n",
       " \"Taylor Swift ft. Chris Stapleton - I Bet You Think About Me (Taylor's Version) (Officia...\",\n",
       " 'Taylor Swift - All Too Well (10 Minute Version) (Live on Saturday Night Live)',\n",
       " 'Taylor Swift - All Too Well: The Short Film',\n",
       " \"All Too Well (10 Minute Version) (Taylor's Version) (From The Vault) (Lyric Video)\",\n",
       " \"Taylor Swift - Starlight (Taylor's Version) (Lyric Video)\",\n",
       " \"Taylor Swift - Red (Taylor's Version) (Lyric Video)\"]"
      ]
     },
     "execution_count": 68,
     "metadata": {},
     "output_type": "execute_result"
    }
   ],
   "source": [
    "songs[:10]"
   ]
  },
  {
   "cell_type": "code",
   "execution_count": 85,
   "metadata": {},
   "outputs": [],
   "source": [
    "song = videos[10]"
   ]
  },
  {
   "cell_type": "code",
   "execution_count": 86,
   "metadata": {},
   "outputs": [
    {
     "data": {
      "text/plain": [
       "\"Taylor Swift - Treacherous (Taylor's Version) (Lyric Video)\""
      ]
     },
     "execution_count": 86,
     "metadata": {},
     "output_type": "execute_result"
    }
   ],
   "source": [
    "song.title"
   ]
  },
  {
   "cell_type": "code",
   "execution_count": 88,
   "metadata": {},
   "outputs": [
    {
     "data": {
      "text/plain": [
       "[{'Song': \"Treacherous (Taylor's Version)\",\n",
       "  'Artist': 'Taylor Swift',\n",
       "  'Album': \"Treacherous (Taylor's Version)\",\n",
       "  'Writers': 'Taylor Swift, Dan Wilson',\n",
       "  'Licensed to YouTube by': 'UMG (on behalf of Taylor Swift Re-record); Sony ATV Publishing, BMI - Broadcast Music Inc., UNIAO BRASILEIRA DE EDITORAS DE MUSICA - UBEM, CMRRA, SOLAR Music Rights Management, LatinAutor - SonyATV, LatinAutorPerf, MINT_BMG, BMG Rights Management (US), LLC, ARESA, UMPG Publishing, LatinAutor - UMPG, Abramus Digital, LatinAutor - PeerMusic, UMPI, and 14 Music Rights Societies'}]"
      ]
     },
     "execution_count": 88,
     "metadata": {},
     "output_type": "execute_result"
    }
   ],
   "source": [
    "song.metadata.metadata"
   ]
  }
 ],
 "metadata": {
  "interpreter": {
   "hash": "7a3a941c992c3f6aa51cab363639bc0092f83c0200ca92d2de006cd380a6b5f6"
  },
  "kernelspec": {
   "display_name": "Python 3.7.11 64-bit ('others': conda)",
   "language": "python",
   "name": "python3"
  },
  "language_info": {
   "codemirror_mode": {
    "name": "ipython",
    "version": 3
   },
   "file_extension": ".py",
   "mimetype": "text/x-python",
   "name": "python",
   "nbconvert_exporter": "python",
   "pygments_lexer": "ipython3",
   "version": "3.7.11"
  },
  "orig_nbformat": 4
 },
 "nbformat": 4,
 "nbformat_minor": 2
}
