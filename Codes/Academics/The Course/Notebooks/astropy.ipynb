{
 "metadata": {
  "name": ""
 },
 "nbformat": 3,
 "nbformat_minor": 0,
 "worksheets": [
  {
   "cells": [
    {
     "cell_type": "markdown",
     "metadata": {
      "slideshow": {
       "slide_type": "slide"
      }
     },
     "source": [
      "Astropy\n",
      "=======\n",
      "\n",
      "by \n",
      "\n",
      "Kaustubh Vaghmare\n",
      "-----------------\n",
      "\n",
      "(IUCAA, Pune)\n",
      "\n",
      "E-mail: kaustubh[at]iucaa[dot]ernet[dot]in "
     ]
    },
    {
     "cell_type": "markdown",
     "metadata": {
      "slideshow": {
       "slide_type": "subslide"
      }
     },
     "source": [
      "A Few Years Ago ...\n",
      "====================\n",
      "\n",
      "Several independent developers were developing specific tools for Python...\n",
      "\n",
      "* PyFITS - enable use of Python to handle FITS files.\n",
      "* PyWCS - enable World Coordinate System transformations\n",
      "* atpy / asciitable - handle tables of all kinds \n",
      "* Some cosmological calculators.\n",
      "* Some coordinate transformation tools.\n",
      "* and more...\n",
      "\n",
      "The problem: Different styles, repeated efforts, no coordination.\n",
      "\n",
      "The solution: Astropy - unite all efforts under one banner!"
     ]
    },
    {
     "cell_type": "markdown",
     "metadata": {
      "slideshow": {
       "slide_type": "subslide"
      }
     },
     "source": [
      "What will we cover today?\n",
      "===================\n",
      "\n",
      "* Table management features.\n",
      "* Handling FITS files.\n",
      "* WCS operations.\n",
      "* Cosmological Calculations."
     ]
    },
    {
     "cell_type": "markdown",
     "metadata": {
      "slideshow": {
       "slide_type": "slide"
      }
     },
     "source": [
      "Table Management in Python\n",
      "=========\n",
      "\n",
      "If we chose to stay behind by an year or more, the following modules would have been discussed today.\n",
      "\n",
      "* asciitable\n",
      "* atpy\n",
      "\n",
      "But today, we shall cover the \"table\" sub-module inside Astropy."
     ]
    },
    {
     "cell_type": "markdown",
     "metadata": {
      "slideshow": {
       "slide_type": "subslide"
      }
     },
     "source": [
      "\"atpy\" and \"asciitable\" are no longer developed.\n",
      "---\n",
      "\n",
      "They have been absorbed by the astropy core package.\n",
      "\n",
      "But you must still have them installed.\n",
      "\n",
      "* Some codes you are given may be based on them.\n",
      "* Some modules may require them.\n",
      "\n",
      "But while learning, you must learn the astropy versions namely\n",
      "\n",
      "* astropy.io.ascii\n",
      "* astropy.table"
     ]
    },
    {
     "cell_type": "markdown",
     "metadata": {
      "slideshow": {
       "slide_type": "subslide"
      }
     },
     "source": [
      "astropy.io.ascii vs. astropy.table\n",
      "-----\n",
      "\n",
      "* astropy.io.ascii is meant purely for reading and writing tables.\n",
      "* Is a collection of \"extensible\" classes which can be extended to support newer formats.\n",
      "\n",
      "astropy.table \n",
      "\n",
      "* builds upon io.ascii using its functionality for reading / writing tables\n",
      "* and adding its own powerful table operations.\n",
      "\n",
      "You won't need to read much about io.ascii unless your tables have some special outstanding features."
     ]
    },
    {
     "cell_type": "markdown",
     "metadata": {
      "slideshow": {
       "slide_type": "slide"
      }
     },
     "source": [
      "In Brief - The \"Class\" Concept\n",
      "-------\n",
      "\n",
      "We have discussed the concept of an \"object\" earlier. \n",
      "\n",
      "* Objects have well defined behavior.\n",
      "* They have methods which help you perform supported operations on them.\n",
      "* Where are all these rules defined?\n",
      "\n",
      "A \"class\" is crudely put, a definition which allows one to create objects. \n",
      "\n",
      "To create table objects, we will need a Table class.\n"
     ]
    },
    {
     "cell_type": "markdown",
     "metadata": {
      "slideshow": {
       "slide_type": "slide"
      }
     },
     "source": [
      "Let's Start\n",
      "-----"
     ]
    },
    {
     "cell_type": "code",
     "collapsed": false,
     "input": [
      "# First we need the Table class to create table objects.\n",
      "# The warning that will be flashed has so far not affected\n",
      "# any functional features of Table class\n",
      "from astropy.table import Table"
     ],
     "language": "python",
     "metadata": {},
     "outputs": [
      {
       "output_type": "stream",
       "stream": "stderr",
       "text": [
        "/usr/local/lib/python2.7/dist-packages/IPython/zmq/__init__.py:65: RuntimeWarning: libzmq 4 detected.\n",
        "        It is unlikely that IPython's zmq code will work properly.\n",
        "        Please install libzmq stable, which is 2.1.x or 2.2.x\n",
        "  RuntimeWarning)\n"
       ]
      }
     ],
     "prompt_number": 2
    },
    {
     "cell_type": "code",
     "collapsed": false,
     "input": [
      "# Next we need to create the Table object using a file.\n",
      "demo_table = Table.read(\"demo.txt\", format = \"ascii\")"
     ],
     "language": "python",
     "metadata": {},
     "outputs": [],
     "prompt_number": 3
    },
    {
     "cell_type": "markdown",
     "metadata": {
      "slideshow": {
       "slide_type": "subslide"
      }
     },
     "source": [
      "What if the table does not load?\n",
      "-------\n",
      "\n",
      "If you get errors when using read() method, it means that your file is formatted in a way that the standard parser is unable to understand the structure of your file. \n",
      "\n",
      "What to do? Understand the io.ascii.read() method in detail and supply the various options to Table.read(). \n",
      "\n",
      "eg. <code> header_start = \";\" </code> or <code> delimiter=\"|\" </code>, etc."
     ]
    },
    {
     "cell_type": "markdown",
     "metadata": {
      "slideshow": {
       "slide_type": "slide"
      }
     },
     "source": [
      "Displaying Tables.\n",
      "----"
     ]
    },
    {
     "cell_type": "code",
     "collapsed": false,
     "input": [
      "print demo_table"
     ],
     "language": "python",
     "metadata": {},
     "outputs": [
      {
       "output_type": "stream",
       "stream": "stdout",
       "text": [
        "name  obs_date  mag_b mag_v\n",
        "---- ---------- ----- -----\n",
        " M31 2012-01-02  17.0  17.5\n",
        " M31 2012-01-02  17.1  17.4\n",
        "M101 2012-01-02  15.1  13.5\n",
        " M82 2012-02-14  16.2  14.5\n",
        " M31 2012-02-14  16.9  17.3\n",
        " M82 2012-02-14  15.2  15.5\n",
        "M101 2012-02-14  15.0  13.6\n",
        " M82 2012-03-26  15.7  16.5\n",
        "M101 2012-03-26  15.1  13.5\n",
        "M101 2012-03-26  14.8  14.3\n"
       ]
      }
     ],
     "prompt_number": 4
    },
    {
     "cell_type": "code",
     "collapsed": false,
     "input": [
      "demo_table.pprint() # Does exactly the same thing.\n",
      "# but you can supply options such as \n",
      "# max_lines, max_width, show_unit, show_name"
     ],
     "language": "python",
     "metadata": {
      "slideshow": {
       "slide_type": "subslide"
      }
     },
     "outputs": [
      {
       "output_type": "stream",
       "stream": "stdout",
       "text": [
        "name  obs_date  mag_b mag_v\n",
        "---- ---------- ----- -----\n",
        " M31 2012-01-02  17.0  17.5\n",
        " M31 2012-01-02  17.1  17.4\n",
        "M101 2012-01-02  15.1  13.5\n",
        " M82 2012-02-14  16.2  14.5\n",
        " M31 2012-02-14  16.9  17.3\n",
        " M82 2012-02-14  15.2  15.5\n",
        "M101 2012-02-14  15.0  13.6\n",
        " M82 2012-03-26  15.7  16.5\n",
        "M101 2012-03-26  15.1  13.5\n",
        "M101 2012-03-26  14.8  14.3\n"
       ]
      }
     ],
     "prompt_number": 5
    },
    {
     "cell_type": "code",
     "collapsed": false,
     "input": [
      "# In this example, we are suppressing column names from appearing.\n",
      "demo_table.pprint(show_name=False) "
     ],
     "language": "python",
     "metadata": {
      "slideshow": {
       "slide_type": "subslide"
      }
     },
     "outputs": [
      {
       "output_type": "stream",
       "stream": "stdout",
       "text": [
        " M31 2012-01-02 17.0 17.5\n",
        " M31 2012-01-02 17.1 17.4\n",
        "M101 2012-01-02 15.1 13.5\n",
        " M82 2012-02-14 16.2 14.5\n",
        " M31 2012-02-14 16.9 17.3\n",
        " M82 2012-02-14 15.2 15.5\n",
        "M101 2012-02-14 15.0 13.6\n",
        " M82 2012-03-26 15.7 16.5\n",
        "M101 2012-03-26 15.1 13.5\n",
        "M101 2012-03-26 14.8 14.3\n"
       ]
      }
     ],
     "prompt_number": 6
    },
    {
     "cell_type": "markdown",
     "metadata": {
      "slideshow": {
       "slide_type": "subslide"
      }
     },
     "source": [
      "More Ways to Print Tables.\n",
      "----\n",
      "\n",
      "Using an interactive table scrolling tool.\n",
      "\n",
      "    demo_table.more()\n",
      "    \n",
      "Or display it as a formatted table in a browser.\n",
      "\n",
      "    demo_table.show_in_browser()"
     ]
    },
    {
     "cell_type": "markdown",
     "metadata": {
      "slideshow": {
       "slide_type": "slide"
      }
     },
     "source": [
      "Quickly Check Basic Properties of Loaded Table\n",
      "----"
     ]
    },
    {
     "cell_type": "code",
     "collapsed": false,
     "input": [
      "print len(demo_table) # Number of rows."
     ],
     "language": "python",
     "metadata": {},
     "outputs": [
      {
       "output_type": "stream",
       "stream": "stdout",
       "text": [
        "10\n"
       ]
      }
     ],
     "prompt_number": 7
    },
    {
     "cell_type": "code",
     "collapsed": false,
     "input": [
      "print demo_table.colnames # The names of the columns."
     ],
     "language": "python",
     "metadata": {},
     "outputs": [
      {
       "output_type": "stream",
       "stream": "stdout",
       "text": [
        "['name', 'obs_date', 'mag_b', 'mag_v']\n"
       ]
      }
     ],
     "prompt_number": 8
    },
    {
     "cell_type": "markdown",
     "metadata": {},
     "source": [
      "You can also print any meta information, if available.\n",
      "\n",
      "    demo_table.meta"
     ]
    },
    {
     "cell_type": "markdown",
     "metadata": {
      "slideshow": {
       "slide_type": "slide"
      }
     },
     "source": [
      "Accessing Columns of the Table\n",
      "-----"
     ]
    },
    {
     "cell_type": "code",
     "collapsed": false,
     "input": [
      "print demo_table[\"name\"] # one column"
     ],
     "language": "python",
     "metadata": {},
     "outputs": [
      {
       "output_type": "stream",
       "stream": "stdout",
       "text": [
        "name\n",
        "----\n",
        " M31\n",
        " M31\n",
        "M101\n",
        " M82\n",
        " M31\n",
        " M82\n",
        "M101\n",
        " M82\n",
        "M101\n",
        "M101\n"
       ]
      }
     ],
     "prompt_number": 9
    },
    {
     "cell_type": "code",
     "collapsed": false,
     "input": [
      "print demo_table[\"name\", \"mag_b\"] # more than one column"
     ],
     "language": "python",
     "metadata": {
      "slideshow": {
       "slide_type": "subslide"
      }
     },
     "outputs": [
      {
       "output_type": "stream",
       "stream": "stdout",
       "text": [
        "name mag_b\n",
        "---- -----\n",
        " M31  17.0\n",
        " M31  17.1\n",
        "M101  15.1\n",
        " M82  16.2\n",
        " M31  16.9\n",
        " M82  15.2\n",
        "M101  15.0\n",
        " M82  15.7\n",
        "M101  15.1\n",
        "M101  14.8\n"
       ]
      }
     ],
     "prompt_number": 10
    },
    {
     "cell_type": "markdown",
     "metadata": {
      "slideshow": {
       "slide_type": "slide"
      }
     },
     "source": [
      "Accessing Rows in a Table\n",
      "----"
     ]
    },
    {
     "cell_type": "code",
     "collapsed": false,
     "input": [
      "print demo_table[0] # SADLY, row objects do not support printing."
     ],
     "language": "python",
     "metadata": {
      "slideshow": {
       "slide_type": "subslide"
      }
     },
     "outputs": [
      {
       "output_type": "stream",
       "stream": "stdout",
       "text": [
        "<Row 0 of table\n",
        " values=('M31', '2012-01-02', 17.0, 17.5)\n",
        " dtype=[('name', 'S4'), ('obs_date', 'S10'), ('mag_b', '<f8'), ('mag_v', '<f8')]>\n"
       ]
      }
     ],
     "prompt_number": 11
    },
    {
     "cell_type": "code",
     "collapsed": false,
     "input": [
      "demo_table[0].data # is one way to get values in a row."
     ],
     "language": "python",
     "metadata": {},
     "outputs": [
      {
       "metadata": {},
       "output_type": "pyout",
       "prompt_number": 12,
       "text": [
        "('M31', '2012-01-02', 17.0, 17.5)"
       ]
      }
     ],
     "prompt_number": 12
    },
    {
     "cell_type": "code",
     "collapsed": false,
     "input": [
      "lines = demo_table.pformat() # a list of strings, each string a row, includes header.\n",
      "print lines[2]"
     ],
     "language": "python",
     "metadata": {},
     "outputs": [
      {
       "output_type": "stream",
       "stream": "stdout",
       "text": [
        " M31 2012-01-02  17.0  17.5\n"
       ]
      }
     ],
     "prompt_number": 13
    },
    {
     "cell_type": "markdown",
     "metadata": {
      "slideshow": {
       "slide_type": "slide"
      }
     },
     "source": [
      "Individual Element Access\n",
      "-----"
     ]
    },
    {
     "cell_type": "code",
     "collapsed": false,
     "input": [
      "demo_table[\"name\"][0] "
     ],
     "language": "python",
     "metadata": {},
     "outputs": [
      {
       "metadata": {},
       "output_type": "pyout",
       "prompt_number": 14,
       "text": [
        "'M31'"
       ]
      }
     ],
     "prompt_number": 14
    },
    {
     "cell_type": "code",
     "collapsed": false,
     "input": [
      "demo_table[0][\"name\"] # also works the same as above."
     ],
     "language": "python",
     "metadata": {},
     "outputs": [
      {
       "metadata": {},
       "output_type": "pyout",
       "prompt_number": 15,
       "text": [
        "'M31'"
       ]
      }
     ],
     "prompt_number": 15
    },
    {
     "cell_type": "markdown",
     "metadata": {
      "slideshow": {
       "slide_type": "slide"
      }
     },
     "source": [
      "Sub-sectioning Tables\n",
      "---"
     ]
    },
    {
     "cell_type": "code",
     "collapsed": false,
     "input": [
      "subsection_col = demo_table[\"name\",\"mag_b\"] # by column."
     ],
     "language": "python",
     "metadata": {},
     "outputs": [],
     "prompt_number": 16
    },
    {
     "cell_type": "code",
     "collapsed": false,
     "input": [
      "subsection_row = demo_table[2:5] # by rows."
     ],
     "language": "python",
     "metadata": {},
     "outputs": [],
     "prompt_number": 17
    },
    {
     "cell_type": "code",
     "collapsed": false,
     "input": [
      "subsection_row2 = demo_table[ [1,5,3] ]"
     ],
     "language": "python",
     "metadata": {},
     "outputs": [],
     "prompt_number": 18
    },
    {
     "cell_type": "code",
     "collapsed": false,
     "input": [
      "subsection_both = demo_table[\"name\", \"mag_b\"] [1:5]"
     ],
     "language": "python",
     "metadata": {},
     "outputs": [],
     "prompt_number": 19
    },
    {
     "cell_type": "markdown",
     "metadata": {
      "slideshow": {
       "slide_type": "slide"
      }
     },
     "source": [
      "Changing elements inside a Table\n",
      "----\n",
      "\n",
      "* You know how to access columns, rows and individual elements.\n",
      "* Using = sign, you can assign the selected col, row or element another value.\n",
      "\n",
      "So, \n",
      "\n",
      "    demo_table[\"name\"] = ... list of 10 names\n",
      "    demo_table[\"name\"] = \"SingleName\"\n",
      "    \n",
      "will both work."
     ]
    },
    {
     "cell_type": "code",
     "collapsed": false,
     "input": [
      "print demo_table"
     ],
     "language": "python",
     "metadata": {
      "slideshow": {
       "slide_type": "subslide"
      }
     },
     "outputs": [
      {
       "output_type": "stream",
       "stream": "stdout",
       "text": [
        "name  obs_date  mag_b mag_v\n",
        "---- ---------- ----- -----\n",
        " M31 2012-01-02  17.0  17.5\n",
        " M31 2012-01-02  17.1  17.4\n",
        "M101 2012-01-02  15.1  13.5\n",
        " M82 2012-02-14  16.2  14.5\n",
        " M31 2012-02-14  16.9  17.3\n",
        " M82 2012-02-14  15.2  15.5\n",
        "M101 2012-02-14  15.0  13.6\n",
        " M82 2012-03-26  15.7  16.5\n",
        "M101 2012-03-26  15.1  13.5\n",
        "M101 2012-03-26  14.8  14.3\n"
       ]
      }
     ],
     "prompt_number": 20
    },
    {
     "cell_type": "code",
     "collapsed": false,
     "input": [
      "demo_table[\"name\"] = \"X\"\n",
      "print demo_table"
     ],
     "language": "python",
     "metadata": {
      "slideshow": {
       "slide_type": "subslide"
      }
     },
     "outputs": [
      {
       "output_type": "stream",
       "stream": "stdout",
       "text": [
        "name  obs_date  mag_b mag_v\n",
        "---- ---------- ----- -----\n",
        "   X 2012-01-02  17.0  17.5\n",
        "   X 2012-01-02  17.1  17.4\n",
        "   X 2012-01-02  15.1  13.5\n",
        "   X 2012-02-14  16.2  14.5\n",
        "   X 2012-02-14  16.9  17.3\n",
        "   X 2012-02-14  15.2  15.5\n",
        "   X 2012-02-14  15.0  13.6\n",
        "   X 2012-03-26  15.7  16.5\n",
        "   X 2012-03-26  15.1  13.5\n",
        "   X 2012-03-26  14.8  14.3\n"
       ]
      }
     ],
     "prompt_number": 21
    },
    {
     "cell_type": "markdown",
     "metadata": {
      "slideshow": {
       "slide_type": "slide"
      }
     },
     "source": [
      "Adding New Columns\n",
      "----"
     ]
    },
    {
     "cell_type": "code",
     "collapsed": false,
     "input": [
      "# Method 1\n",
      "demo_table[\"NewColumn\"] = range(len(demo_table))\n",
      "print demo_table"
     ],
     "language": "python",
     "metadata": {},
     "outputs": [
      {
       "output_type": "stream",
       "stream": "stdout",
       "text": [
        "name  obs_date  mag_b mag_v NewColumn\n",
        "---- ---------- ----- ----- ---------\n",
        "   X 2012-01-02  17.0  17.5         0\n",
        "   X 2012-01-02  17.1  17.4         1\n",
        "   X 2012-01-02  15.1  13.5         2\n",
        "   X 2012-02-14  16.2  14.5         3\n",
        "   X 2012-02-14  16.9  17.3         4\n",
        "   X 2012-02-14  15.2  15.5         5\n",
        "   X 2012-02-14  15.0  13.6         6\n",
        "   X 2012-03-26  15.7  16.5         7\n",
        "   X 2012-03-26  15.1  13.5         8\n",
        "   X 2012-03-26  14.8  14.3         9\n"
       ]
      }
     ],
     "prompt_number": 22
    },
    {
     "cell_type": "code",
     "collapsed": false,
     "input": [
      "# Method 2, using Column Object\n",
      "from astropy.table import Column\n",
      "newcol = Column( data = range(len(demo_table)), name = \"NewColN\")\n",
      "demo_table.add_column( newcol, index = 0)\n",
      "print demo_table"
     ],
     "language": "python",
     "metadata": {
      "slideshow": {
       "slide_type": "subslide"
      }
     },
     "outputs": [
      {
       "output_type": "stream",
       "stream": "stdout",
       "text": [
        "NewColN name  obs_date  mag_b mag_v NewColumn\n",
        "------- ---- ---------- ----- ----- ---------\n",
        "      0    X 2012-01-02  17.0  17.5         0\n",
        "      1    X 2012-01-02  17.1  17.4         1\n",
        "      2    X 2012-01-02  15.1  13.5         2\n",
        "      3    X 2012-02-14  16.2  14.5         3\n",
        "      4    X 2012-02-14  16.9  17.3         4\n",
        "      5    X 2012-02-14  15.2  15.5         5\n",
        "      6    X 2012-02-14  15.0  13.6         6\n",
        "      7    X 2012-03-26  15.7  16.5         7\n",
        "      8    X 2012-03-26  15.1  13.5         8\n",
        "      9    X 2012-03-26  14.8  14.3         9\n"
       ]
      }
     ],
     "prompt_number": 23
    },
    {
     "cell_type": "markdown",
     "metadata": {
      "slideshow": {
       "slide_type": "slide"
      }
     },
     "source": [
      "Removing Columns\n",
      "---"
     ]
    },
    {
     "cell_type": "code",
     "collapsed": false,
     "input": [
      "demo_table.remove_columns([\"NewColN\", \"NewColumn\"])\n",
      "print demo_table"
     ],
     "language": "python",
     "metadata": {},
     "outputs": [
      {
       "output_type": "stream",
       "stream": "stdout",
       "text": [
        "name  obs_date  mag_b mag_v\n",
        "---- ---------- ----- -----\n",
        "   X 2012-01-02  17.0  17.5\n",
        "   X 2012-01-02  17.1  17.4\n",
        "   X 2012-01-02  15.1  13.5\n",
        "   X 2012-02-14  16.2  14.5\n",
        "   X 2012-02-14  16.9  17.3\n",
        "   X 2012-02-14  15.2  15.5\n",
        "   X 2012-02-14  15.0  13.6\n",
        "   X 2012-03-26  15.7  16.5\n",
        "   X 2012-03-26  15.1  13.5\n",
        "   X 2012-03-26  14.8  14.3\n"
       ]
      }
     ],
     "prompt_number": 24
    },
    {
     "cell_type": "markdown",
     "metadata": {
      "slideshow": {
       "slide_type": "subslide"
      }
     },
     "source": [
      "For Rows\n",
      "----\n",
      "\n",
      "Similar functions exist. Please read documentation for details. Or explore using iPython.\n",
      "\n",
      "    demo_table.remove_row(5)\n",
      "    demo_table.remove_rows( [5,6])\n",
      "    demo_table.remove_rows( slice(3,6) )"
     ]
    },
    {
     "cell_type": "markdown",
     "metadata": {
      "slideshow": {
       "slide_type": "slide"
      }
     },
     "source": [
      "Table Sorting\n",
      "-----"
     ]
    },
    {
     "cell_type": "code",
     "collapsed": false,
     "input": [
      "demo_table = Table.read(\"demo.txt\", format=\"ascii\")\n",
      "print demo_table"
     ],
     "language": "python",
     "metadata": {},
     "outputs": [
      {
       "output_type": "stream",
       "stream": "stdout",
       "text": [
        "name  obs_date  mag_b mag_v\n",
        "---- ---------- ----- -----\n",
        " M31 2012-01-02  17.0  17.5\n",
        " M31 2012-01-02  17.1  17.4\n",
        "M101 2012-01-02  15.1  13.5\n",
        " M82 2012-02-14  16.2  14.5\n",
        " M31 2012-02-14  16.9  17.3\n",
        " M82 2012-02-14  15.2  15.5\n",
        "M101 2012-02-14  15.0  13.6\n",
        " M82 2012-03-26  15.7  16.5\n",
        "M101 2012-03-26  15.1  13.5\n",
        "M101 2012-03-26  14.8  14.3\n"
       ]
      }
     ],
     "prompt_number": 25
    },
    {
     "cell_type": "code",
     "collapsed": false,
     "input": [
      "demo_table.sort([\"name\", \"mag_b\"]) # sort by name, then mag_b"
     ],
     "language": "python",
     "metadata": {
      "slideshow": {
       "slide_type": "subslide"
      }
     },
     "outputs": [],
     "prompt_number": 26
    },
    {
     "cell_type": "code",
     "collapsed": false,
     "input": [
      "print demo_table"
     ],
     "language": "python",
     "metadata": {},
     "outputs": [
      {
       "output_type": "stream",
       "stream": "stdout",
       "text": [
        "name  obs_date  mag_b mag_v\n",
        "---- ---------- ----- -----\n",
        "M101 2012-03-26  14.8  14.3\n",
        "M101 2012-02-14  15.0  13.6\n",
        "M101 2012-01-02  15.1  13.5\n",
        "M101 2012-03-26  15.1  13.5\n",
        " M31 2012-02-14  16.9  17.3\n",
        " M31 2012-01-02  17.0  17.5\n",
        " M31 2012-01-02  17.1  17.4\n",
        " M82 2012-02-14  15.2  15.5\n",
        " M82 2012-03-26  15.7  16.5\n",
        " M82 2012-02-14  16.2  14.5\n"
       ]
      }
     ],
     "prompt_number": 27
    },
    {
     "cell_type": "code",
     "collapsed": false,
     "input": [
      "demo_table.reverse() # Reverse existing table. Descending order!\n",
      "print demo_table"
     ],
     "language": "python",
     "metadata": {
      "slideshow": {
       "slide_type": "subslide"
      }
     },
     "outputs": [
      {
       "output_type": "stream",
       "stream": "stdout",
       "text": [
        "name  obs_date  mag_b mag_v\n",
        "---- ---------- ----- -----\n",
        " M82 2012-02-14  16.2  14.5\n",
        " M82 2012-03-26  15.7  16.5\n",
        " M82 2012-02-14  15.2  15.5\n",
        " M31 2012-01-02  17.1  17.4\n",
        " M31 2012-01-02  17.0  17.5\n",
        " M31 2012-02-14  16.9  17.3\n",
        "M101 2012-03-26  15.1  13.5\n",
        "M101 2012-01-02  15.1  13.5\n",
        "M101 2012-02-14  15.0  13.6\n",
        "M101 2012-03-26  14.8  14.3\n"
       ]
      }
     ],
     "prompt_number": 28
    },
    {
     "cell_type": "markdown",
     "metadata": {
      "slideshow": {
       "slide_type": "slide"
      }
     },
     "source": [
      "Table Groups\n",
      "----\n",
      "\n",
      "* It is possible to organize the table into groups. \n",
      "* For example, all entries for object M101 can be selected as a single group.\n",
      "* One can access individual groups for various operations.\n",
      "* Also supported \"group-wise reductions\""
     ]
    },
    {
     "cell_type": "code",
     "collapsed": false,
     "input": [
      "demo_table = Table.read(\"demo.txt\", format=\"ascii\")\n",
      "grouped_table = demo_table.group_by(\"name\") "
     ],
     "language": "python",
     "metadata": {
      "slideshow": {
       "slide_type": "subslide"
      }
     },
     "outputs": [],
     "prompt_number": 29
    },
    {
     "cell_type": "code",
     "collapsed": false,
     "input": [
      "# To access groups.\n",
      "print grouped_table.groups[0] # first group"
     ],
     "language": "python",
     "metadata": {},
     "outputs": [
      {
       "output_type": "stream",
       "stream": "stdout",
       "text": [
        "name  obs_date  mag_b mag_v\n",
        "---- ---------- ----- -----\n",
        "M101 2012-01-02  15.1  13.5\n",
        "M101 2012-02-14  15.0  13.6\n",
        "M101 2012-03-26  15.1  13.5\n",
        "M101 2012-03-26  14.8  14.3\n"
       ]
      }
     ],
     "prompt_number": 30
    },
    {
     "cell_type": "markdown",
     "metadata": {
      "slideshow": {
       "slide_type": "subslide"
      }
     },
     "source": [
      "Group-wise Reductions (eg. group-wise mean)\n",
      "----"
     ]
    },
    {
     "cell_type": "code",
     "collapsed": false,
     "input": [
      "import numpy\n",
      "grouped_table.groups.aggregate( numpy.mean)"
     ],
     "language": "python",
     "metadata": {},
     "outputs": [
      {
       "output_type": "stream",
       "stream": "stderr",
       "text": [
        "WARNING:astropy:Cannot aggregate column 'obs_date'\n"
       ]
      },
      {
       "output_type": "stream",
       "stream": "stdout",
       "text": [
        "WARNING: Cannot aggregate column 'obs_date' [astropy.table.groups]\n"
       ]
      },
      {
       "html": [
        "<table id=\"table64779600\"><thead><tr><th>name</th><th>mag_b</th><th>mag_v</th></tr></thead><tr><td>M101</td><td>15.0</td><td>13.725</td></tr><tr><td>M31</td><td>17.0</td><td>17.4</td></tr><tr><td>M82</td><td>15.7</td><td>15.5</td></tr></table>"
       ],
       "metadata": {},
       "output_type": "pyout",
       "prompt_number": 31,
       "text": [
        "<Table rows=3 names=('name','mag_b','mag_v')>\n",
        "array([('M101', 15.0, 13.725000000000001),\n",
        "       ('M31', 17.0, 17.400000000000002), ('M82', 15.699999999999998, 15.5)], \n",
        "      dtype=[('name', 'S4'), ('mag_b', '<f8'), ('mag_v', '<f8')])"
       ]
      }
     ],
     "prompt_number": 31
    },
    {
     "cell_type": "markdown",
     "metadata": {
      "slideshow": {
       "slide_type": "subslide"
      }
     },
     "source": [
      "Filters\n",
      "----\n",
      "\n",
      "* Define a function <code> some_filter( TableObject, KeyColumns ) </code>.\n",
      "* The function return True or False.\n",
      "* Then use the function to remove rows which satisfy some condition.\n",
      "\n",
      "eg. write a filter to select rows whose mean is positive.\n",
      "\n",
      "    def positive_mean( table, key_colnames) :\n",
      "\tif np.mean( table[\"ColName\"] > 0:\n",
      "\t\treturn True\n",
      "\telse\n",
      "\t\treturn False\n",
      "\n",
      "    t_positive_mean = t_grouped.groups.filter( positive_mean )\n"
     ]
    },
    {
     "cell_type": "markdown",
     "metadata": {
      "slideshow": {
       "slide_type": "slide"
      }
     },
     "source": [
      "Stuff For You To Explore On Your Own\n",
      "====\n",
      "\n",
      "Stacks - vstack, hstack\n",
      "---\n",
      "\n",
      "\"joins\"\n",
      "---\n"
     ]
    },
    {
     "cell_type": "markdown",
     "metadata": {
      "slideshow": {
       "slide_type": "slide"
      }
     },
     "source": [
      "FITS Files in Python\n",
      "=====================\n",
      "\n",
      "Again, if this talk was being given few years ago, we would cover \n",
      "\n",
      "PyFITS\n",
      "------\n",
      "\n",
      "But today, \n",
      "\n",
      "astropy.io.fits\n",
      "---------------"
     ]
    },
    {
     "cell_type": "markdown",
     "metadata": {
      "slideshow": {
       "slide_type": "subslide"
      }
     },
     "source": [
      "First step, import the (sub) module.\n",
      "-----------------"
     ]
    },
    {
     "cell_type": "code",
     "collapsed": false,
     "input": [
      "from astropy.io import fits"
     ],
     "language": "python",
     "metadata": {},
     "outputs": [],
     "prompt_number": 32
    },
    {
     "cell_type": "markdown",
     "metadata": {},
     "source": [
      "If you have a lot of code that uses PyFits you can say, \n",
      "\n",
      "    import astropy.io.fits as pyfits\n",
      "\n",
      "or whatever alias you use and a lot of PyFITS based code should work fine."
     ]
    },
    {
     "cell_type": "markdown",
     "metadata": {
      "slideshow": {
       "slide_type": "subslide"
      }
     },
     "source": [
      "Next step, open a FITS file. The method used for this creates a hdulist object. HDU = Header Data Unit"
     ]
    },
    {
     "cell_type": "code",
     "collapsed": false,
     "input": [
      "hdulist = fits.open(\"example.fits\")"
     ],
     "language": "python",
     "metadata": {},
     "outputs": [],
     "prompt_number": 33
    },
    {
     "cell_type": "markdown",
     "metadata": {
      "slideshow": {
       "slide_type": "subslide"
      }
     },
     "source": [
      "Next, check up some basic information about the FITS file."
     ]
    },
    {
     "cell_type": "code",
     "collapsed": false,
     "input": [
      "hdulist.info()"
     ],
     "language": "python",
     "metadata": {},
     "outputs": [
      {
       "output_type": "stream",
       "stream": "stdout",
       "text": [
        "Filename: example.fits\n",
        "No.    Name         Type      Cards   Dimensions   Format\n",
        "0    PRIMARY     PrimaryHDU     104   (318, 318)   int16   \n"
       ]
      }
     ],
     "prompt_number": 34
    },
    {
     "cell_type": "markdown",
     "metadata": {},
     "source": [
      "As you can see, this is a single extension FITS file."
     ]
    },
    {
     "cell_type": "markdown",
     "metadata": {
      "slideshow": {
       "slide_type": "subslide"
      }
     },
     "source": [
      "Accessing the header\n",
      "-------------------"
     ]
    },
    {
     "cell_type": "code",
     "collapsed": false,
     "input": [
      "hdulist[0].header"
     ],
     "language": "python",
     "metadata": {},
     "outputs": [
      {
       "metadata": {},
       "output_type": "pyout",
       "prompt_number": 35,
       "text": [
        "SIMPLE  =                    T /FITS header                                     \n",
        "BITPIX  =                   16 /No.Bits per pixel                               \n",
        "NAXIS   =                    2 /No.dimensions                                   \n",
        "NAXIS1  =                  318 /Length X axis                                   \n",
        "NAXIS2  =                  318 /Length Y axis                                   \n",
        "DATE    = '06/05/97          ' /Date of FITS file creation                      \n",
        "ORIGIN  = 'CASB -- STScI     ' /Origin of FITS image                            \n",
        "PLTLABEL= 'E 1398            ' /Observatory plate label                         \n",
        "PLATEID = '06CO              ' /GSSS Plate ID                                   \n",
        "REGION  = 'XE320             ' /GSSS Region Name                                \n",
        "DATE-OBS= '18/04/55          ' /UT date of Observation                          \n",
        "UT      = '05:55:00.00       ' /UT time of observation                          \n",
        "EPOCH   =  1.9552938232422E+03 /Epoch of plate                                  \n",
        "PLTRAH  =                   12 /Plate center RA                                 \n",
        "PLTRAM  =                   15 /                                                \n",
        "PLTRAS  =  2.0047310000000E+01 /                                                \n",
        "PLTDECSN= '+                 ' /Plate center Dec                                \n",
        "PLTDECD =                   29 /                                                \n",
        "PLTDECM =                   11 /                                                \n",
        "PLTDECS =  3.7603570000000E+01 /                                                \n",
        "EQUINOX =  2.0000000000000E+03 /Julian Reference frame equinox                  \n",
        "EXPOSURE=  5.0000000000000E+01 /Exposure time minutes                           \n",
        "BANDPASS=                    8 /GSSS Bandpass code                              \n",
        "PLTGRADE=                    1 /Plate grade                                     \n",
        "PLTSCALE=  6.7200000000000E+01 /Plate Scale arcsec per mm                       \n",
        "SITELAT = '+33:24:24.00      ' /Latitude of Observatory                         \n",
        "SITELONG= '-116:51:48.00     ' /Longitude of Observatory                        \n",
        "TELESCOP= 'Palomar 48-inch Schmidt'/Telescope where plate taken                 \n",
        "CNPIX1  =                 5817 /X corner  (pixels)                              \n",
        "CNPIX2  =                 7892 /Y corner                                        \n",
        "DATATYPE= 'INTEGER*2         ' /Type of Data                                    \n",
        "SCANIMG = 'XE320_06CO_00_00.PIM'/Name of original scan                          \n",
        "SCANNUM =                    0 /Identifies scan of the plate                    \n",
        "DCHOPPED=                    F /Image repaired for chopping effects             \n",
        "DSHEARED=                    F /Image repaired for shearing effects             \n",
        "DSCNDNUM=                    0 /Identifies descendant of plate scan image       \n",
        "XPIXELSZ=  2.5284450000000E+01 /X pixel size microns                            \n",
        "YPIXELSZ=  2.5284450000000E+01 /Y pixel size microns                            \n",
        "PPO1    =  0.0000000000000E+00 /Orientation Coefficients                        \n",
        "PPO2    =  0.0000000000000E+00 /                                                \n",
        "PPO3    =  1.7747471555000E+05 /                                                \n",
        "PPO4    =  0.0000000000000E+00 /                                                \n",
        "PPO5    =  0.0000000000000E+00 /                                                \n",
        "PPO6    =  1.7747471555000E+05 /                                                \n",
        "AMDX1   =  6.7242135030100E+01 /Plate solution x coefficients                   \n",
        "AMDX2   = -1.2487519603960E-01 /                                                \n",
        "AMDX3   =  1.3937582767960E+01 /                                                \n",
        "AMDX4   = -1.0623503442570E-06 /                                                \n",
        "AMDX5   = -4.4027221173920E-05 /                                                \n",
        "AMDX6   =  4.3925012777760E-06 /                                                \n",
        "AMDX7   =  0.0000000000000E+00 /                                                \n",
        "AMDX8   =  2.1251787786580E-06 /                                                \n",
        "AMDX9   = -2.9735991189150E-09 /                                                \n",
        "AMDX10  =  2.2475056107100E-06 /                                                \n",
        "AMDX11  =  3.6891048761260E-07 /                                                \n",
        "AMDX12  =  0.0000000000000E+00 /                                                \n",
        "AMDX13  =  0.0000000000000E+00 /                                                \n",
        "AMDX14  =  0.0000000000000E+00 /                                                \n",
        "AMDX15  =  0.0000000000000E+00 /                                                \n",
        "AMDX16  =  0.0000000000000E+00 /                                                \n",
        "AMDX17  =  0.0000000000000E+00 /                                                \n",
        "AMDX18  =  0.0000000000000E+00 /                                                \n",
        "AMDX19  =  0.0000000000000E+00 /                                                \n",
        "AMDX20  =  0.0000000000000E+00 /                                                \n",
        "AMDY1   =  6.7259461296050E+01 /Plate solution y coefficients                   \n",
        "AMDY2   =  1.0540590241030E-01 /                                                \n",
        "AMDY3   = -2.6186410276900E+02 /                                                \n",
        "AMDY4   = -2.6582968357000E-05 /                                                \n",
        "AMDY5   =  8.9918039872500E-07 /                                                \n",
        "AMDY6   = -1.8997613655140E-06 /                                                \n",
        "AMDY7   =  0.0000000000000E+00 /                                                \n",
        "AMDY8   =  1.7812228918040E-06 /                                                \n",
        "AMDY9   =  1.0621748913050E-07 /                                                \n",
        "AMDY10  =  2.1025379218760E-06 /                                                \n",
        "AMDY11  =  3.9513154759340E-08 /                                                \n",
        "AMDY12  =  0.0000000000000E+00 /                                                \n",
        "AMDY13  =  0.0000000000000E+00 /                                                \n",
        "AMDY14  =  0.0000000000000E+00 /                                                \n",
        "AMDY15  =  0.0000000000000E+00 /                                                \n",
        "AMDY16  =  0.0000000000000E+00 /                                                \n",
        "AMDY17  =  0.0000000000000E+00 /                                                \n",
        "AMDY18  =  0.0000000000000E+00 /                                                \n",
        "AMDY19  =  0.0000000000000E+00 /                                                \n",
        "AMDY20  =  0.0000000000000E+00 /                                                \n",
        "        Based on photographic data of the National Geographic Society -- Palomar\n",
        "        Observatory Sky Survey (NGS-POSS) obtained using the Oschin Telescope on\n",
        "        Palomar Mountain.  The NGS-POSS was funded by a grant from the National \n",
        "        Geographic Society to the California Institute of Technology.  The      \n",
        "        plates were processed into the present compressed digital form with     \n",
        "        their permission.  The Digitized Sky Survey was produced at the Space   \n",
        "        Telescope Science Institute under US Government grant NAG W-2166.       \n",
        "                                                                                \n",
        "        Investigators using these scans are requested to include the above      \n",
        "        acknowledgements in any publications.                                   \n",
        "                                                                                \n",
        "        Copyright (c) 1994, Association of Universities for Research in         \n",
        "        Astronomy, Inc.  All rights reserved.                                   \n",
        "DATAMAX =                14326 /Maximum data value                              \n",
        "DATAMIN =                 1936 /Minimum data value                              \n",
        "OBJECT  = 'NGC 4245'                                                            \n",
        "OBJCTRA = '12 17 36.780      ' /Object Right Ascension (J2000)                  \n",
        "OBJCTDEC= '+29 36 29.01      ' /Object Declination (J2000)                      \n",
        "OBJCTX  =              5976.57 /Object X on plate (pixels)                      \n",
        "OBJCTY  =              8051.01 /Object Y on plate (pixels)                      "
       ]
      }
     ],
     "prompt_number": 35
    },
    {
     "cell_type": "markdown",
     "metadata": {
      "slideshow": {
       "slide_type": "subslide"
      }
     },
     "source": [
      "Specific stuff within header.\n",
      "-------------------------"
     ]
    },
    {
     "cell_type": "code",
     "collapsed": false,
     "input": [
      "hdulist[0].header[\"NAXIS1\"] # by header keyword"
     ],
     "language": "python",
     "metadata": {},
     "outputs": [
      {
       "metadata": {},
       "output_type": "pyout",
       "prompt_number": 36,
       "text": [
        "318"
       ]
      }
     ],
     "prompt_number": 36
    },
    {
     "cell_type": "code",
     "collapsed": false,
     "input": [
      "hdulist[0].header[1] # or by header number."
     ],
     "language": "python",
     "metadata": {},
     "outputs": [
      {
       "metadata": {},
       "output_type": "pyout",
       "prompt_number": 37,
       "text": [
        "16"
       ]
      }
     ],
     "prompt_number": 37
    },
    {
     "cell_type": "code",
     "collapsed": false,
     "input": [
      "all_keys = hdulist[0].header.keys() # get a list of all keys."
     ],
     "language": "python",
     "metadata": {},
     "outputs": [],
     "prompt_number": 38
    },
    {
     "cell_type": "code",
     "collapsed": false,
     "input": [
      "all_values = hdulist[0].header.values()"
     ],
     "language": "python",
     "metadata": {},
     "outputs": [],
     "prompt_number": 39
    },
    {
     "cell_type": "markdown",
     "metadata": {
      "slideshow": {
       "slide_type": "-"
      }
     },
     "source": [
      "You can also change the header values as if it were a dictionary."
     ]
    },
    {
     "cell_type": "markdown",
     "metadata": {
      "slideshow": {
       "slide_type": "subslide"
      }
     },
     "source": [
      "Now, the data\n",
      "---------------\n",
      "\n"
     ]
    },
    {
     "cell_type": "code",
     "collapsed": false,
     "input": [
      "%pylab inline"
     ],
     "language": "python",
     "metadata": {},
     "outputs": [
      {
       "output_type": "stream",
       "stream": "stdout",
       "text": [
        "Populating the interactive namespace from numpy and matplotlib\n"
       ]
      }
     ],
     "prompt_number": 40
    },
    {
     "cell_type": "code",
     "collapsed": false,
     "input": [
      "imshow( np.log10(hdulist[0].data) )"
     ],
     "language": "python",
     "metadata": {},
     "outputs": [
      {
       "metadata": {},
       "output_type": "pyout",
       "prompt_number": 41,
       "text": [
        "<matplotlib.image.AxesImage at 0x49fa250>"
       ]
      },
      {
       "metadata": {},
       "output_type": "display_data",
       "png": "[encoded data removed]",
       "text": [
        "<matplotlib.figure.Figure at 0x3dc7b10>"
       ]
      }
     ],
     "prompt_number": 41
    },
    {
     "cell_type": "markdown",
     "metadata": {
      "slideshow": {
       "slide_type": "slide"
      }
     },
     "source": [
      "Axis Conventions\n",
      "----------------\n",
      "\n",
      "If you load a FITS image in Python, in FORTRAN/C or in ds9, the image viewer, what does I(X,Y) can give you different results!!!\n",
      "\n",
      "There is a different in whether the following code moves along horizontal axis first or vertical axis first.\n",
      "\n",
      "    for x in range(header[\"NAXIS1\"]):\n",
      "        for y in range(header[\"NAXIS2\"]):\n",
      "            ...\n",
      "            \n",
      "If you ask me - my answer - __I don't know! I am always confused.__\n",
      "\n",
      "My strategy: __Use iPython to load the image. Also load image in ds9. Do a bit of fiddling around and write your loops!__"
     ]
    },
    {
     "cell_type": "markdown",
     "metadata": {
      "slideshow": {
       "slide_type": "slide"
      }
     },
     "source": [
      "Writing FITS files\n",
      "-------------------\n",
      "\n",
      "If you have a HDUlist object, you simply say,\n",
      "\n",
      "    hdulist.writeto(\"name.fits\")\n",
      "    \n",
      "If you want to make a file from scratch, create a dictionary of headers and the data array.\n",
      "\n",
      "    primaryhdu = fits.PrimaryHDU(data, header)\n",
      "    primaryhdu.writeto(\"something.fits\")\n",
      "    \n"
     ]
    },
    {
     "cell_type": "markdown",
     "metadata": {
      "slideshow": {
       "slide_type": "slide"
      }
     },
     "source": [
      "World Coordinate Systems\n",
      "========================\n",
      "\n",
      "Few years ago, \n",
      "\n",
      "    import pywcs \n",
      "    \n",
      "In the era of Astropy, \n",
      "\n",
      "    from astropy import wcs\n",
      "    \n",
      "Funtionally, they are more or less the same."
     ]
    },
    {
     "cell_type": "markdown",
     "metadata": {
      "slideshow": {
       "slide_type": "subslide"
      }
     },
     "source": [
      "Create a WCS object.\n",
      "--------------------"
     ]
    },
    {
     "cell_type": "code",
     "collapsed": false,
     "input": [
      "from astropy import wcs\n",
      "w = wcs.WCS(\"wcsdemo.fits\")"
     ],
     "language": "python",
     "metadata": {},
     "outputs": [
      {
       "output_type": "stream",
       "stream": "stderr",
       "text": [
        "WARNING:astropy:The following header keyword is invalid or follows an unrecognized non-standard convention:\n",
        "CO1_3   =-3.30161034511646E-06                                                  \n"
       ]
      },
      {
       "output_type": "stream",
       "stream": "stderr",
       "text": [
        "WARNING:astropy:The following header keyword is invalid or follows an unrecognized non-standard convention:\n",
        "CO1_4   =-2.55990918514719E-11                                                  \n"
       ]
      },
      {
       "output_type": "stream",
       "stream": "stderr",
       "text": [
        "WARNING:astropy:The following header keyword is invalid or follows an unrecognized non-standard convention:\n",
        "CO1_5   =-7.84276839450913E-12                                                  \n"
       ]
      },
      {
       "output_type": "stream",
       "stream": "stderr",
       "text": [
        "WARNING:astropy:The following header keyword is invalid or follows an unrecognized non-standard convention:\n",
        "CO2_1   =-9.80116357595331E-05                                                  \n"
       ]
      },
      {
       "output_type": "stream",
       "stream": "stderr",
       "text": [
        "WARNING:astropy:The following header keyword is invalid or follows an unrecognized non-standard convention:\n",
        "CO2_2   =-3.32208424969949E-06                                                  \n"
       ]
      },
      {
       "output_type": "stream",
       "stream": "stderr",
       "text": [
        "WARNING:astropy:FITSFixedWarning: RADECSYS= 'FK5 ' \n",
        "RADECSYS is non-standard, use RADESYSa.\n"
       ]
      },
      {
       "output_type": "stream",
       "stream": "stdout",
       "text": [
        "WARNING: The following header keyword is invalid or follows an unrecognized non-standard convention:\n",
        "CO1_3   =-3.30161034511646E-06                                                   [astropy.io.fits.card]\n",
        "WARNING: The following header keyword is invalid or follows an unrecognized non-standard convention:\n",
        "CO1_4   =-2.55990918514719E-11                                                   [astropy.io.fits.card]\n",
        "WARNING: The following header keyword is invalid or follows an unrecognized non-standard convention:\n",
        "CO1_5   =-7.84276839450913E-12                                                   [astropy.io.fits.card]\n",
        "WARNING: The following header keyword is invalid or follows an unrecognized non-standard convention:\n",
        "CO2_1   =-9.80116357595331E-05                                                   [astropy.io.fits.card]\n",
        "WARNING: The following header keyword is invalid or follows an unrecognized non-standard convention:\n",
        "CO2_2   =-3.32208424969949E-06                                                   [astropy.io.fits.card]\n",
        "WARNING: FITSFixedWarning: RADECSYS= 'FK5 ' \n",
        "RADECSYS is non-standard, use RADESYSa. [astropy.wcs.wcs]\n"
       ]
      }
     ],
     "prompt_number": 42
    },
    {
     "cell_type": "markdown",
     "metadata": {},
     "source": [
      "While the above is allowed, taking into account that FITS files can have multiple extensions, you should,"
     ]
    },
    {
     "cell_type": "code",
     "collapsed": false,
     "input": [
      "hdulist = fits.open(\"wcsdemo.fits\")\n",
      "w = wcs.WCS(hdulist[0].header)"
     ],
     "language": "python",
     "metadata": {},
     "outputs": [],
     "prompt_number": 43
    },
    {
     "cell_type": "markdown",
     "metadata": {
      "slideshow": {
       "slide_type": "slide"
      }
     },
     "source": [
      "It's thw WCS object which has methods to perform any coordinate transformations."
     ]
    },
    {
     "cell_type": "code",
     "collapsed": false,
     "input": [
      "w.wcs_pix2sky(1000, 2000, 1)"
     ],
     "language": "python",
     "metadata": {},
     "outputs": [
      {
       "metadata": {},
       "output_type": "pyout",
       "prompt_number": 44,
       "text": [
        "[array(184.95026582155023), array(1.383830415506317)]"
       ]
      }
     ],
     "prompt_number": 44
    },
    {
     "cell_type": "code",
     "collapsed": false,
     "input": [
      "w.all_pix2sky(1000, 2000, 1)"
     ],
     "language": "python",
     "metadata": {},
     "outputs": [
      {
       "metadata": {},
       "output_type": "pyout",
       "prompt_number": 45,
       "text": [
        "[array(184.95026582155023), array(1.383830415506317)]"
       ]
      }
     ],
     "prompt_number": 45
    },
    {
     "cell_type": "markdown",
     "metadata": {},
     "source": [
      "* Which pixel? (1000, 2000) or (1001, 2001). It's (1000,2000), the third argument 1 assures you that.\n",
      "* Difference between wcs_pix2sky and all_pix2sky - the latter takes into account some higher order transformations / corrections into account.\n",
      "* Output? (RA, DEC) in degrees."
     ]
    },
    {
     "cell_type": "markdown",
     "metadata": {
      "slideshow": {
       "slide_type": "subslide"
      }
     },
     "source": [
      "To do a reverse transformation."
     ]
    },
    {
     "cell_type": "code",
     "collapsed": false,
     "input": [
      "w.wcs_sky2pix(184.6, 1.38, 1)"
     ],
     "language": "python",
     "metadata": {},
     "outputs": [
      {
       "metadata": {},
       "output_type": "pyout",
       "prompt_number": 46,
       "text": [
        "[array(1503.8827051960322), array(1996.7722524018488)]"
       ]
      }
     ],
     "prompt_number": 46
    },
    {
     "cell_type": "code",
     "collapsed": false,
     "input": [
      "w.calcFootprint() # The four corners of an image."
     ],
     "language": "python",
     "metadata": {},
     "outputs": [
      {
       "metadata": {},
       "output_type": "pyout",
       "prompt_number": 47,
       "text": [
        "array([[  1.85650302e+02,  -1.95542013e-03],\n",
        "       [  1.85638488e+02,   2.84300473e+00],\n",
        "       [  1.82780624e+02,   2.82938730e+00],\n",
        "       [  1.82795939e+02,  -1.55561710e-02]])"
       ]
      }
     ],
     "prompt_number": 47
    },
    {
     "cell_type": "markdown",
     "metadata": {
      "slideshow": {
       "slide_type": "slide"
      }
     },
     "source": [
      "Cosmology\n",
      "=========\n",
      "\n",
      "This submodule of astropy allows you to do various cosmological calculations based on a model of cosmology.\n",
      "\n",
      "We begin by importing the cosmology sub-module."
     ]
    },
    {
     "cell_type": "code",
     "collapsed": false,
     "input": [
      "from astropy import cosmology"
     ],
     "language": "python",
     "metadata": {},
     "outputs": [],
     "prompt_number": 48
    },
    {
     "cell_type": "markdown",
     "metadata": {},
     "source": [
      "Now, before we can make do any cosmological calculations, we need to choose a model. Let's do that."
     ]
    },
    {
     "cell_type": "code",
     "collapsed": false,
     "input": [
      "print cosmology.parameters.available"
     ],
     "language": "python",
     "metadata": {
      "slideshow": {
       "slide_type": "subslide"
      }
     },
     "outputs": [
      {
       "output_type": "stream",
       "stream": "stdout",
       "text": [
        "('WMAP5', 'WMAP7', 'WMAP9', 'Planck13')\n"
       ]
      }
     ],
     "prompt_number": 49
    },
    {
     "cell_type": "markdown",
     "metadata": {},
     "source": [
      "The above are the various models of cosmology available, you can choose one of them by saying, "
     ]
    },
    {
     "cell_type": "code",
     "collapsed": false,
     "input": [
      "from astropy.cosmology import WMAP9"
     ],
     "language": "python",
     "metadata": {},
     "outputs": [],
     "prompt_number": 51
    },
    {
     "cell_type": "markdown",
     "metadata": {},
     "source": [
      "Or you could define your own cosmology by saying,\n",
      "\n",
      "    from astropy.comsology import FlatLambdaCDM\n",
      "    mycosmo = FlatLambdaCDM(..., ...., ....) \n",
      "    \n",
      "Refer documentation for more details."
     ]
    },
    {
     "cell_type": "markdown",
     "metadata": {
      "slideshow": {
       "slide_type": "slide"
      }
     },
     "source": [
      "Performing Cosmological Calculations\n",
      "-----------------"
     ]
    },
    {
     "cell_type": "code",
     "collapsed": false,
     "input": [
      "WMAP9.H(1.5) # what is the Hubble parameter at redshift 1.5?"
     ],
     "language": "python",
     "metadata": {},
     "outputs": [
      {
       "latex": [
        "$157.973 \\; \\mathrm{\\frac{km}{Mpc\\,s}}$"
       ],
       "metadata": {},
       "output_type": "pyout",
       "prompt_number": 52,
       "text": [
        "<Quantity 157.97313317339948 km / (Mpc s)>"
       ]
      }
     ],
     "prompt_number": 52
    },
    {
     "cell_type": "code",
     "collapsed": false,
     "input": [
      "WMAP9.Ode(3)  # density parameter for dark energy at redshift z=3   (in units of critical density)"
     ],
     "language": "python",
     "metadata": {},
     "outputs": [
      {
       "metadata": {},
       "output_type": "pyout",
       "prompt_number": 54,
       "text": [
        "0.037406961669436807"
       ]
      }
     ],
     "prompt_number": 54
    },
    {
     "cell_type": "code",
     "collapsed": false,
     "input": [
      "WMAP9.critical_density(3)   # critical density at z=3"
     ],
     "language": "python",
     "metadata": {},
     "outputs": [
      {
       "latex": [
        "$1.72151\\times 10^{-28} \\; \\mathrm{\\frac{g}{cm^{3}}}$"
       ],
       "metadata": {},
       "output_type": "pyout",
       "prompt_number": 55,
       "text": [
        "<Quantity 1.7215127833959473e-28 g / cm3>"
       ]
      }
     ],
     "prompt_number": 55
    },
    {
     "cell_type": "code",
     "collapsed": false,
     "input": [
      "WMAP9.Tcmb(1000)    # CMB temperature at z=1000"
     ],
     "language": "python",
     "metadata": {
      "slideshow": {
       "slide_type": "subslide"
      }
     },
     "outputs": [
      {
       "latex": [
        "$2727.72 \\; \\mathrm{K}$"
       ],
       "metadata": {},
       "output_type": "pyout",
       "prompt_number": 56,
       "text": [
        "<Quantity 2727.725 K>"
       ]
      }
     ],
     "prompt_number": 56
    },
    {
     "cell_type": "code",
     "collapsed": false,
     "input": [
      "WMAP9.angular_diameter_distance(2)  # Angular diameter distance in Mpc at z=2."
     ],
     "language": "python",
     "metadata": {},
     "outputs": [
      {
       "latex": [
        "$1763.91 \\; \\mathrm{Mpc}$"
       ],
       "metadata": {},
       "output_type": "pyout",
       "prompt_number": 57,
       "text": [
        "<Quantity 1763.9101459409605 Mpc>"
       ]
      }
     ],
     "prompt_number": 57
    },
    {
     "cell_type": "code",
     "collapsed": false,
     "input": [
      "WMAP9.arcsec_per_kpc_comoving(3)  # Angular separation in arcsec corresponding to a comoving kpc at z=3"
     ],
     "language": "python",
     "metadata": {},
     "outputs": [
      {
       "latex": [
        "$0.031714 \\; \\mathrm{\\frac{{}^{\\prime\\prime}}{kpc}}$"
       ],
       "metadata": {},
       "output_type": "pyout",
       "prompt_number": 58,
       "text": [
        "<Quantity 0.03171400924142989 arcsec / kpc>"
       ]
      }
     ],
     "prompt_number": 58
    },
    {
     "cell_type": "code",
     "collapsed": false,
     "input": [
      "WMAP9.scale_factor(4)     # a = 1/(1+z)"
     ],
     "language": "python",
     "metadata": {},
     "outputs": [
      {
       "metadata": {},
       "output_type": "pyout",
       "prompt_number": 59,
       "text": [
        "0.2"
       ]
      }
     ],
     "prompt_number": 59
    },
    {
     "cell_type": "code",
     "collapsed": false,
     "input": [
      "WMAP9.age(1000)       # Age of universe at z=1000"
     ],
     "language": "python",
     "metadata": {},
     "outputs": [
      {
       "latex": [
        "$0.000434354 \\; \\mathrm{Gyr}$"
       ],
       "metadata": {},
       "output_type": "pyout",
       "prompt_number": 60,
       "text": [
        "<Quantity 0.0004343541075239311 Gyr>"
       ]
      }
     ],
     "prompt_number": 60
    },
    {
     "cell_type": "code",
     "collapsed": false,
     "input": [
      "print dir(WMAP9)"
     ],
     "language": "python",
     "metadata": {
      "slideshow": {
       "slide_type": "subslide"
      }
     },
     "outputs": [
      {
       "output_type": "stream",
       "stream": "stdout",
       "text": [
        "['H', 'H0', 'Neff', 'Ode', 'Ode0', 'Ogamma', 'Ogamma0', 'Ok', 'Ok0', 'Om', 'Om0', 'Onu', 'Onu0', 'Tcmb', 'Tcmb0', 'Tnu', 'Tnu0', '_H0', '_Neff', '_Ode0', '_Ogamma0', '_Ok0', '_Om0', '_Onu0', '_Tcmb0', '_Tnu0', '__abstractmethods__', '__class__', '__delattr__', '__dict__', '__doc__', '__format__', '__getattribute__', '__hash__', '__init__', '__metaclass__', '__module__', '__new__', '__reduce__', '__reduce_ex__', '__repr__', '__setattr__', '__sizeof__', '__str__', '__subclasshook__', '__weakref__', '_abc_cache', '_abc_negative_cache', '_abc_negative_cache_version', '_abc_registry', '_critical_density0', '_h', '_hubble_distance', '_hubble_time', '_massivenu', '_namelead', '_neff_per_nu', '_nmassivenu', '_nmasslessnu', '_nneutrinos', '_tfunc', '_w_integrand', '_xfunc', 'absorption_distance', 'age', 'angular_diameter_distance', 'angular_diameter_distance_z1z2', 'arcsec_per_kpc_comoving', 'arcsec_per_kpc_proper', 'comoving_distance', 'comoving_transverse_distance', 'comoving_volume', 'critical_density', 'critical_density0', 'de_density_scale', 'distmod', 'efunc', 'h', 'has_massive_nu', 'hubble_distance', 'hubble_time', 'inv_efunc', 'kpc_comoving_per_arcmin', 'kpc_proper_per_arcmin', 'lookback_time', 'luminosity_distance', 'm_nu', 'name', 'nu_relative_density', 'scale_factor', 'w']\n"
       ]
      }
     ],
     "prompt_number": 61
    }
   ],
   "metadata": {}
  }
 ]
}