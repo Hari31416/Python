{
 "cells": [
  {
   "cell_type": "code",
   "execution_count": 1,
   "metadata": {},
   "outputs": [
    {
     "data": {
      "text/html": [
       "<pre style=\"white-space:pre;overflow-x:auto;line-height:normal;font-family:Menlo,'DejaVu Sans Mono',consolas,'Courier New',monospace\">Manim Community <span style=\"color: #008000; text-decoration-color: #008000\">v0.11.0</span>\n",
       "\n",
       "</pre>\n"
      ],
      "text/plain": [
       "Manim Community \u001b[32mv0.\u001b[0m\u001b[32m11.0\u001b[0m\n",
       "\n"
      ]
     },
     "metadata": {},
     "output_type": "display_data"
    }
   ],
   "source": [
    "import manim"
   ]
  },
  {
   "cell_type": "markdown",
   "metadata": {},
   "source": []
  },
  {
   "cell_type": "code",
   "execution_count": 2,
   "metadata": {},
   "outputs": [
    {
     "name": "stdout",
     "output_type": "stream",
     "text": [
      "C:\\Users\\harik\\anaconda3\\lib\\site-packages\\manimpango;C:\\Users\\harik\\anaconda3;C:\\Users\\harik\\anaconda3\\Library\\mingw-w64\\bin;C:\\Users\\harik\\anaconda3\\Library\\usr\\bin;C:\\Users\\harik\\anaconda3\\Library\\bin;C:\\Users\\harik\\anaconda3\\Scripts;C:\\Users\\harik\\anaconda3\\bin;C:\\Users\\harik\\anaconda3\\condabin;C:\\WINDOWS\\system32;C:\\WINDOWS;C:\\WINDOWS\\System32\\Wbem;C:\\WINDOWS\\System32\\WindowsPowerShell\\v1.0;C:\\WINDOWS\\System32\\OpenSSH;C:\\Program Files\\Intel\\WiFi\\bin;C:\\Program Files\\Common Files\\Intel\\WirelessCommon;C:\\Program Files (x86)\\Calibre2;C:\\Program Files\\Git\\cmd;C:\\Program Files\\dotnet;C:\\Program Files\\nodejs;C:\\Program Files\\MATLAB\\R2021a\\bin;C:\\Strawberry\\c\\bin;C:\\Strawberry\\perl\\site\\bin;C:\\Strawberry\\perl\\bin;C:\\Program Files (x86)\\ffmpeg\\bin;C:\\Users\\harik\\anaconda3;C:\\Users\\harik\\anaconda3\\Library\\mingw-w64\\bin;C:\\Users\\harik\\anaconda3\\Library\\usr\\bin;C:\\Users\\harik\\anaconda3\\Library\\bin;C:\\Users\\harik\\anaconda3\\Scripts;C:\\Users\\harik\\AppData\\Local\\Microsoft\\WindowsApps;C:\\Users\\harik\\AppData\\Local\\atom\\bin;C:\\Users\\harik\\AppData\\Local\\Microsoft\\WindowsApps;C:\\Users\\harik\\AppData\\Local\\GitHubDesktop\\bin;C:\\Users\\harik\\AppData\\Local\\Programs\\Microsoft VS Code\\bin;C:\\Users\\harik\\.dotnet\\tools;C:\\Users\\harik\\AppData\\Roaming\\npm;C:\\Program Files (x86)\\Microsoft Visual Studio;C:\\Users\\harik\\AppData\\Local\\Programs\\MiKTeX\\miktex\\bin\\x64;.\n"
     ]
    }
   ],
   "source": [
    "echo %path%"
   ]
  },
  {
   "cell_type": "markdown",
   "metadata": {},
   "source": [
    "C:\\Users\\harik\\anaconda3;C:\\Users\\harik\\anaconda3\\Library\\mingw-w64\\bin;C:\\Users\\harik\\anaconda3\\Library\\usr\\bin;C:\\Users\\harik\\anaconda3\\Library\\bin;C:\\Users\\harik\\anaconda3\\Scripts;C:\\Users\\harik\\anaconda3\\bin;C:\\Users\\harik\\anaconda3\\condabin;C:\\WINDOWS\\system32;C:\\WINDOWS;C:\\WINDOWS\\System32\\Wbem;C:\\WINDOWS\\System32\\WindowsPowerShell\\v1.0;C:\\WINDOWS\\System32\\OpenSSH;C:\\Program Files\\Intel\\WiFi\\bin;C:\\Program Files\\Common Files\\Intel\\WirelessCommon;C:\\Program Files (x86)\\Calibre2;C:\\Program Files\\Git\\cmd;C:\\Program Files\\dotnet;C:\\Program Files\\nodejs;C:\\Program Files\\MATLAB\\R2021a\\bin;C:\\Strawberry\\c\\bin;C:\\Strawberry\\perl\\site\\bin;C:\\Strawberry\\perl\\bin;C:\\Users\\harik\\anaconda3;C:\\Users\\harik\\anaconda3\\Library\\mingw-w64\\bin;C:\\Users\\harik\\anaconda3\\Library\\usr\\bin;C:\\Users\\harik\\anaconda3\\Library\\bin;C:\\Users\\harik\\anaconda3\\Scripts;C:\\Users\\harik\\AppData\\Local\\Microsoft\\WindowsApps;C:\\Users\\harik\\AppData\\Local\\atom\\bin;C:\\Users\\harik\\AppData\\Local\\Microsoft\\WindowsApps;C:\\Users\\harik\\AppData\\Local\\GitHubDesktop\\bin;C:\\Users\\harik\\AppData\\Local\\Programs\\Microsoft VS Code\\bin;C:\\Users\\harik\\.dotnet\\tools;C:\\Users\\harik\\AppData\\Roaming\\npm;C:\\Program Files (x86)\\Microsoft Visual Studio;C:\\Users\\harik\\AppData\\Local\\Programs\\MiKTeX\\miktex\\bin\\x64;."
   ]
  },
  {
   "cell_type": "markdown",
   "metadata": {},
   "source": []
  }
 ],
 "metadata": {
  "interpreter": {
   "hash": "ce44b17c45080b8f56a19c9450d52461d624c968fcd959bb1916985c5ffa2b94"
  },
  "kernelspec": {
   "display_name": "Python 3.8.5 64-bit ('base': conda)",
   "name": "python3"
  },
  "language_info": {
   "codemirror_mode": {
    "name": "ipython",
    "version": 3
   },
   "file_extension": ".py",
   "mimetype": "text/x-python",
   "name": "python",
   "nbconvert_exporter": "python",
   "pygments_lexer": "ipython3",
   "version": "3.8.5"
  },
  "orig_nbformat": 4
 },
 "nbformat": 4,
 "nbformat_minor": 2
}
