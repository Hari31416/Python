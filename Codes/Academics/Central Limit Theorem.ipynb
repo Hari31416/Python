{
 "cells": [
  {
   "cell_type": "markdown",
   "metadata": {},
   "source": [
    "## Central Limit Theorem\n",
    "The central limit theorem in statistics states that, given a sufficiently large sample size, the sampling distribution of the mean for a variable will approximate a normal distribution regardless of that variable’s distribution in the population."
   ]
  },
  {
   "cell_type": "markdown",
   "metadata": {},
   "source": [
    "## Uniform Distribution\n",
    "### Rolling a large number of dice"
   ]
  },
  {
   "cell_type": "code",
   "execution_count": 72,
   "metadata": {},
   "outputs": [],
   "source": [
    "import random\n",
    "import matplotlib.pyplot as plt\n",
    "import numpy as np\n",
    "import seaborn as sns"
   ]
  },
  {
   "cell_type": "code",
   "execution_count": 103,
   "metadata": {},
   "outputs": [],
   "source": [
    "def roll_die(n):\n",
    "    \"\"\"\n",
    "    Simulate rolling n dice\n",
    "    \"\"\"\n",
    "    rolls = np.zeros(n)\n",
    "    for i in range(n):\n",
    "        rolls[i] = random.randint(1,10)\n",
    "    return rolls"
   ]
  },
  {
   "cell_type": "code",
   "execution_count": 104,
   "metadata": {},
   "outputs": [],
   "source": [
    "population = roll_die(100000)\n",
    "def get_sample( sample_size):\n",
    "    \"\"\"\n",
    "    Get a sample of size n from a population\n",
    "    \"\"\" \n",
    "    sample = np.random.choice(population, size=sample_size)\n",
    "    return sample"
   ]
  },
  {
   "cell_type": "code",
   "execution_count": 105,
   "metadata": {},
   "outputs": [],
   "source": [
    "def plot(sample_size, n):\n",
    "    means = []\n",
    "    for i in range(n):    \n",
    "        sample = get_sample(sample_size)\n",
    "        sample_mean = np.mean(sample)\n",
    "        means.append(sample_mean)\n",
    "    sns.histplot(means, bins=10,kde=True)"
   ]
  },
  {
   "cell_type": "code",
   "execution_count": 109,
   "metadata": {},
   "outputs": [
    {
     "data": {
      "image/png": "[encoded data removed]",
      "text/plain": [
       "<Figure size 432x288 with 1 Axes>"
      ]
     },
     "metadata": {
      "needs_background": "light"
     },
     "output_type": "display_data"
    }
   ],
   "source": [
    "plot(100, 1000)"
   ]
  },
  {
   "cell_type": "code",
   "execution_count": 102,
   "metadata": {},
   "outputs": [
    {
     "data": {
      "text/plain": [
       "<AxesSubplot:ylabel='Count'>"
      ]
     },
     "execution_count": 102,
     "metadata": {},
     "output_type": "execute_result"
    },
    {
     "data": {
      "image/png": "[encoded data removed]",
      "text/plain": [
       "<Figure size 432x288 with 1 Axes>"
      ]
     },
     "metadata": {
      "needs_background": "light"
     },
     "output_type": "display_data"
    }
   ],
   "source": [
    "sns.histplot(np.random.binomial(100,0.25,1000))"
   ]
  },
  {
   "cell_type": "code",
   "execution_count": 101,
   "metadata": {},
   "outputs": [
    {
     "data": {
      "text/plain": [
       "array([23, 21, 19, 20, 23, 25, 24, 27, 26, 30, 22, 19, 22, 32, 33, 26, 26,\n",
       "       20, 15, 22, 31, 22, 27, 26, 22, 33, 23, 29, 26, 23, 28, 26, 25, 26,\n",
       "       30, 26, 30, 31, 38, 25, 31, 33, 23, 34, 24, 29, 34, 27, 24, 27, 27,\n",
       "       18, 22, 21, 36, 30, 24, 25, 24, 19, 19, 27, 29, 27, 23, 28, 26, 25,\n",
       "       27, 28, 21, 30, 20, 22, 21, 17, 26, 27, 26, 26, 26, 26, 23, 18, 29,\n",
       "       23, 23, 20, 25, 21, 21, 24, 32, 22, 25, 24, 23, 25, 27, 29])"
      ]
     },
     "execution_count": 101,
     "metadata": {},
     "output_type": "execute_result"
    }
   ],
   "source": [
    "np.random.binomial(100,0.25,100)"
   ]
  },
  {
   "cell_type": "code",
   "execution_count": null,
   "metadata": {},
   "outputs": [],
   "source": []
  }
 ],
 "metadata": {
  "interpreter": {
   "hash": "ce44b17c45080b8f56a19c9450d52461d624c968fcd959bb1916985c5ffa2b94"
  },
  "kernelspec": {
   "display_name": "Python 3.8.5 64-bit ('base': conda)",
   "name": "python3"
  },
  "language_info": {
   "codemirror_mode": {
    "name": "ipython",
    "version": 3
   },
   "file_extension": ".py",
   "mimetype": "text/x-python",
   "name": "python",
   "nbconvert_exporter": "python",
   "pygments_lexer": "ipython3",
   "version": "3.8.5"
  },
  "orig_nbformat": 4
 },
 "nbformat": 4,
 "nbformat_minor": 2
}
