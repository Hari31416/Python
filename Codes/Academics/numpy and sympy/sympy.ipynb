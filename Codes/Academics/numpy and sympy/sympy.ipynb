{
 "cells": [
  {
   "cell_type": "code",
   "execution_count": 82,
   "metadata": {},
   "outputs": [],
   "source": [
    "import numpy as np\n",
    "import scipy.linalg as la\n",
    "from sympy import *\n",
    "import pandas as pd\n",
    "from sympy import symbols, Matrix, pprint, init_printing\n",
    "init_printing(latex_mode=\"equation\", use_latex='mathjax')\n",
    "import matplotlib.pyplot as plt\n",
    "from ipywidgets import interact, interactive, fixed\n",
    "import ipywidgets as widgets\n",
    "from IPython.display import clear_output, display, HTML"
   ]
  },
  {
   "cell_type": "code",
   "execution_count": 2,
   "metadata": {},
   "outputs": [],
   "source": [
    "from sympy.abc import x, y, z, a, b, c"
   ]
  },
  {
   "cell_type": "code",
   "execution_count": 91,
   "metadata": {},
   "outputs": [],
   "source": [
    "# @interact(n=0.0)\n",
    "def plot(n):\n",
    "    t = np.linspace(-np.pi, np.pi, 100)\n",
    "    expr1 = exp(-x**2/2)\n",
    "    expr2 = (1+a*x**2)*exp(-x**2/2)\n",
    "    expr = expr2*expr1\n",
    "    y = np.zeros(100)\n",
    "    for i in range(100):\n",
    "        y[i] = float(expr.subs(a,n).subs(x,t[i]))\n",
    "    plt.plot(t,y)"
   ]
  },
  {
   "cell_type": "code",
   "execution_count": 93,
   "metadata": {},
   "outputs": [
    {
     "data": {
      "application/vnd.jupyter.widget-view+json": {
       "model_id": "6b83932ae89e438dbcdadfc7fadc9e27",
       "version_major": 2,
       "version_minor": 0
      },
      "text/plain": [
       "interactive(children=(FloatSlider(value=0.0, description='n', max=3.0, min=-3.0), Output()), _dom_classes=('wi…"
      ]
     },
     "metadata": {},
     "output_type": "display_data"
    }
   ],
   "source": [
    "w = interactive(plot, n = (-3.0,3.0))\n",
    "display(w);"
   ]
  },
  {
   "cell_type": "code",
   "execution_count": 89,
   "metadata": {},
   "outputs": [
    {
     "data": {
      "text/latex": [
       "\\begin{equation}\\left[ \\right]\\end{equation}"
      ],
      "text/plain": [
       "[]"
      ]
     },
     "execution_count": 89,
     "metadata": {},
     "output_type": "execute_result"
    }
   ],
   "source": [
    "w.args"
   ]
  },
  {
   "cell_type": "code",
   "execution_count": 70,
   "metadata": {},
   "outputs": [],
   "source": [
    "t = np.linspace(-np.pi, np.pi, 100)\n",
    "y = np.zeros(100)\n",
    "for i in range(100):\n",
    "    y[i] = float(expr.subs(a,2).subs(x,t[i]))\n",
    "# y= float(expr.subs(a,2).subs(x,t))"
   ]
  },
  {
   "cell_type": "code",
   "execution_count": 71,
   "metadata": {},
   "outputs": [
    {
     "data": {
      "text/plain": [
       "array([1.07269796e-03, 1.53128910e-03, 2.16681895e-03, 3.03922252e-03,\n",
       "       4.22537250e-03, 5.82261043e-03, 7.95257325e-03, 1.07651766e-02,\n",
       "       1.44425479e-02, 1.92026232e-02, 2.53020402e-02, 3.30378752e-02,\n",
       "       4.27477030e-02, 5.48074018e-02, 6.96261141e-02, 8.76377949e-02,\n",
       "       1.09288875e-01, 1.35021720e-01, 1.65253809e-01, 2.00352864e-01,\n",
       "       2.40608556e-01, 2.86201847e-01, 3.37173486e-01, 3.93393626e-01,\n",
       "       4.54534915e-01, 5.20051677e-01, 5.89167884e-01, 6.60876517e-01,\n",
       "       7.33952511e-01, 8.06980834e-01, 8.78400341e-01, 9.46562876e-01,\n",
       "       1.00980583e+00, 1.06653499e+00, 1.11531314e+00, 1.15494906e+00,\n",
       "       1.18458039e+00, 1.20374386e+00, 1.21242662e+00, 1.21109295e+00,\n",
       "       1.20068239e+00, 1.18257696e+00, 1.15853768e+00, 1.13061269e+00,\n",
       "       1.10102214e+00, 1.07202681e+00, 1.04578930e+00, 1.02423750e+00,\n",
       "       1.00894041e+00, 1.00100548e+00, 1.00100548e+00, 1.00894041e+00,\n",
       "       1.02423750e+00, 1.04578930e+00, 1.07202681e+00, 1.10102214e+00,\n",
       "       1.13061269e+00, 1.15853768e+00, 1.18257696e+00, 1.20068239e+00,\n",
       "       1.21109295e+00, 1.21242662e+00, 1.20374386e+00, 1.18458039e+00,\n",
       "       1.15494906e+00, 1.11531314e+00, 1.06653499e+00, 1.00980583e+00,\n",
       "       9.46562876e-01, 8.78400341e-01, 8.06980834e-01, 7.33952511e-01,\n",
       "       6.60876517e-01, 5.89167884e-01, 5.20051677e-01, 4.54534915e-01,\n",
       "       3.93393626e-01, 3.37173486e-01, 2.86201847e-01, 2.40608556e-01,\n",
       "       2.00352864e-01, 1.65253809e-01, 1.35021720e-01, 1.09288875e-01,\n",
       "       8.76377949e-02, 6.96261141e-02, 5.48074018e-02, 4.27477030e-02,\n",
       "       3.30378752e-02, 2.53020402e-02, 1.92026232e-02, 1.44425479e-02,\n",
       "       1.07651766e-02, 7.95257325e-03, 5.82261043e-03, 4.22537250e-03,\n",
       "       3.03922252e-03, 2.16681895e-03, 1.53128910e-03, 1.07269796e-03])"
      ]
     },
     "execution_count": 71,
     "metadata": {},
     "output_type": "execute_result"
    }
   ],
   "source": [
    "y"
   ]
  },
  {
   "cell_type": "code",
   "execution_count": 16,
   "metadata": {},
   "outputs": [
    {
     "data": {
      "text/latex": [
       "\\begin{equation}\\begin{cases} \\frac{a \\left(- \\frac{\\sqrt{3}}{8} + \\frac{\\pi}{6}\\right)}{\\pi} & \\text{for}\\: a > -\\infty \\wedge a < \\infty \\wedge a \\neq 0 \\\\0 & \\text{otherwise} \\end{cases}\\end{equation}"
      ],
      "text/plain": [
       "⎧  ⎛  √3   π⎞                            \n",
       "⎪a⋅⎜- ── + ─⎟                            \n",
       "⎪  ⎝  8    6⎠                            \n",
       "⎨────────────  for a > -∞ ∧ a < ∞ ∧ a ≠ 0\n",
       "⎪     π                                  \n",
       "⎪                                        \n",
       "⎩     0                otherwise         "
      ]
     },
     "execution_count": 16,
     "metadata": {},
     "output_type": "execute_result"
    }
   ],
   "source": [
    "result"
   ]
  },
  {
   "cell_type": "code",
   "execution_count": 2,
   "metadata": {},
   "outputs": [],
   "source": [
    "from matplotlib import pyplot as plt"
   ]
  },
  {
   "cell_type": "code",
   "execution_count": 5,
   "metadata": {},
   "outputs": [],
   "source": [
    "def expression(x,a,b):\n",
    "    return ((a-b*np.cos(x))**2)/(2 * (np.sin(x))**2) + np.cos(x)"
   ]
  },
  {
   "cell_type": "code",
   "execution_count": 15,
   "metadata": {},
   "outputs": [
    {
     "data": {
      "image/png": "[encoded data removed]",
      "text/plain": [
       "<Figure size 432x288 with 1 Axes>"
      ]
     },
     "metadata": {
      "needs_background": "light"
     },
     "output_type": "display_data"
    }
   ],
   "source": [
    "t = np.linspace(-np.pi,np.pi,100)\n",
    "a = 0.5*10\n",
    "b = 10\n",
    "plt.plot(t,expression(t,a,b))\n",
    "plt.xlim(-1.5,0.5)\n",
    "plt.ylim([0.5,1]);"
   ]
  },
  {
   "cell_type": "code",
   "execution_count": 10,
   "metadata": {},
   "outputs": [
    {
     "data": {
      "text/plain": [
       "sympy.core.power.Pow"
      ]
     },
     "execution_count": 10,
     "metadata": {},
     "output_type": "execute_result"
    }
   ],
   "source": [
    "type(expr)"
   ]
  },
  {
   "cell_type": "code",
   "execution_count": 13,
   "metadata": {},
   "outputs": [],
   "source": [
    "from sympy import preview"
   ]
  },
  {
   "cell_type": "code",
   "execution_count": 29,
   "metadata": {},
   "outputs": [],
   "source": [
    "obj = BytesIO()\n",
    "preview(expr, output='png', viewer='BytesIO', outputbuffer=obj)"
   ]
  },
  {
   "cell_type": "code",
   "execution_count": 37,
   "metadata": {},
   "outputs": [],
   "source": [
    "# obj.seek(0)\n",
    "img = Image.open(obj)"
   ]
  },
  {
   "cell_type": "code",
   "execution_count": 39,
   "metadata": {},
   "outputs": [
    {
     "data": {
      "image/png": "[encoded data removed]",
      "text/plain": [
       "<PIL.PngImagePlugin.PngImageFile image mode=RGB size=68x32 at 0x27A3AC57520>"
      ]
     },
     "execution_count": 39,
     "metadata": {},
     "output_type": "execute_result"
    }
   ],
   "source": [
    "img"
   ]
  },
  {
   "cell_type": "code",
   "execution_count": 40,
   "metadata": {},
   "outputs": [],
   "source": [
    "import tkinter as tk\n",
    "from tkinter import ttk\n",
    "import sympy as sp\n",
    "from io import BytesIO\n",
    "from PIL import Image, ImageTk\n",
    "\n",
    "def integrate():\n",
    "    x=sp.Symbol('x')\n",
    "    integral=sp.integrate(eq.get(),x)\n",
    "    var.set('Integration result='+ 'C\\u2081')\n",
    "    obj = BytesIO()\n",
    "    sp.preview(integral, viewer='BytesIO', output='png', outputbuffer=obj)\n",
    "    obj.seek(0)\n",
    "    img_lbl.img = ImageTk.PhotoImage(Image.open(obj))\n",
    "    img_lbl.config(image=img_lbl.img)\n",
    "\n",
    "win=tk.Tk()   # defines window\n",
    "\n",
    "win2=ttk.Labelframe(win,text='')\n",
    "win2.grid(column=0, row=0)\n",
    "\n",
    "# Creates a static txt label\n",
    "eq_static=ttk.Label(win2,text='Introduce the equation f(x)',font=(\"Times New Roman\", 14))\n",
    "eq_static.grid(column=0,row=0,padx=5,pady=5)\n",
    "\n",
    "eq=tk.StringVar(value='4*x')\n",
    "eq_Entered=ttk.Entry(win2,width=40, textvariable=eq)\n",
    "eq_Entered.grid(column=1,row=0,padx=5,pady=5)\n",
    "# Creates a static txt label\n",
    "var=tk.StringVar()\n",
    "eq_static=ttk.Label(win2,textvariable=var,font=(\"Times New Roman\", 14))\n",
    "var.set('Result')\n",
    "eq_static.grid(column=0,row=3,padx=5,pady=5)\n",
    "# Calculate button\n",
    "\n",
    "img_lbl = tk.Label(win2)\n",
    "img_lbl.grid()\n",
    "\n",
    "action=ttk.Button(win2,text='Integrate',command=integrate)\n",
    "action.grid(column=2,row=0,padx=5,pady=5)\n",
    "win2.mainloop()"
   ]
  },
  {
   "cell_type": "code",
   "execution_count": null,
   "metadata": {},
   "outputs": [],
   "source": []
  }
 ],
 "metadata": {
  "interpreter": {
   "hash": "ce44b17c45080b8f56a19c9450d52461d624c968fcd959bb1916985c5ffa2b94"
  },
  "kernelspec": {
   "display_name": "Python 3.8.5 64-bit ('base': conda)",
   "name": "python3"
  },
  "language_info": {
   "codemirror_mode": {
    "name": "ipython",
    "version": 3
   },
   "file_extension": ".py",
   "mimetype": "text/x-python",
   "name": "python",
   "nbconvert_exporter": "python",
   "pygments_lexer": "ipython3",
   "version": "3.8.5"
  },
  "orig_nbformat": 4
 },
 "nbformat": 4,
 "nbformat_minor": 2
}
