{
 "cells": [
  {
   "cell_type": "code",
   "execution_count": 35,
   "metadata": {},
   "outputs": [],
   "source": [
    "import os\n",
    "import re"
   ]
  },
  {
   "cell_type": "code",
   "execution_count": 82,
   "metadata": {},
   "outputs": [],
   "source": [
    "#tidy up the file names\n",
    "def tidy_up_file_names(file_name):\n",
    "    #remove the white space\n",
    "    file_name = file_name.strip()\n",
    "\n",
    "    #Changing special characters to underscores\n",
    "    special_characters = ['\\\\', '/', ':', '*', '?', '\"', '<', '>', '|']\n",
    "    for character in special_characters:\n",
    "        file_name = file_name.replace(character, '_')\n",
    "    \n",
    "    #remove the file extension\n",
    "    temp_list = file_name.split('.')\n",
    "    if temp_list[-1] == 'mkv' or temp_list[-1] == 'mp4':\n",
    "        file_name = '.'.join(temp_list[:-1])\n",
    "    else:\n",
    "        file_name = '.'.join(temp_list)\n",
    "\n",
    "    #Remove unwanted information from the file name\n",
    "    pattern = r'\\d{4}'\n",
    "    try:\n",
    "        final = re.search(pattern, file_name).span()[1]\n",
    "        file_name = file_name[:final]\n",
    "    except:\n",
    "        pass\n",
    "\n",
    "    #replace spaces with underscores\n",
    "    new_name = file_name.replace(' ', '_')\n",
    "    return new_name"
   ]
  },
  {
   "cell_type": "code",
   "execution_count": 85,
   "metadata": {},
   "outputs": [],
   "source": [
    "#rename the files\n",
    "def rename_files(old_name, new_name):\n",
    "    os.rename(old_name, new_name)\n"
   ]
  },
  {
   "cell_type": "code",
   "execution_count": 3,
   "metadata": {},
   "outputs": [],
   "source": [
    "location = 'C:\\\\Users\\\\harik\\\\Videos\\\\Movies'"
   ]
  },
  {
   "cell_type": "code",
   "execution_count": 73,
   "metadata": {},
   "outputs": [],
   "source": [
    "with open('C:\\\\Users\\\\harik\\\\Videos\\\\Movies\\\\new.txt', 'r') as f:\n",
    "    file_names = f.readlines()"
   ]
  },
  {
   "cell_type": "code",
   "execution_count": 83,
   "metadata": {},
   "outputs": [],
   "source": [
    "tidied_file_names = []\n",
    "for file_name in file_names:\n",
    "    tidied_file_names.append(tidy_up_file_names(file_name))"
   ]
  },
  {
   "cell_type": "code",
   "execution_count": 84,
   "metadata": {},
   "outputs": [
    {
     "data": {
      "text/plain": [
       "['',\n",
       " '',\n",
       " '',\n",
       " '',\n",
       " 'Ice_Age_The_Meltdown.2006',\n",
       " 'Ice_Age.2002',\n",
       " 'Ice.Age.Collision.Course.2016',\n",
       " 'Ice.Age.Continental.Drift.2012',\n",
       " 'Ice.Age.Dawn.the_Dinosaurs.2009',\n",
       " '',\n",
       " 'The.Lion.King.1999',\n",
       " \"The.Lion.King.2.Simba's.Pride.1998\",\n",
       " 'The.Lion.King.3.2004',\n",
       " '',\n",
       " 'Shrek.2.2004',\n",
       " 'Shrek.2001',\n",
       " 'Shrek.4.2010',\n",
       " 'Shrek.The.Third.2007',\n",
       " '',\n",
       " '',\n",
       " '',\n",
       " '',\n",
       " '',\n",
       " '',\n",
       " '',\n",
       " '',\n",
       " '',\n",
       " '',\n",
       " '',\n",
       " '',\n",
       " '',\n",
       " '',\n",
       " '']"
      ]
     },
     "execution_count": 84,
     "metadata": {},
     "output_type": "execute_result"
    }
   ],
   "source": [
    "tidied_file_names"
   ]
  },
  {
   "cell_type": "code",
   "execution_count": 78,
   "metadata": {},
   "outputs": [
    {
     "data": {
      "text/plain": [
       "['\\n',\n",
       " '\\n',\n",
       " '\\n',\n",
       " '\\n',\n",
       " 'Ice Age The Meltdown.2006.mp4\\n',\n",
       " 'Ice Age.2002.mkv\\n',\n",
       " 'Ice.Age.Collision.Course.2016.3gp\\n',\n",
       " 'Ice.Age.Continental.Drift.2012..mp4\\n',\n",
       " 'Ice.Age.Dawn.the Dinosaurs.2009.\\n',\n",
       " '\\n',\n",
       " 'The.Lion.King.19994\\n',\n",
       " \"The.Lion.King.2.Simba's.Pride.1998\\n\",\n",
       " 'The.Lion.King.3.2004\\n',\n",
       " '\\n',\n",
       " 'Shrek.2.2004\\n',\n",
       " 'Shrek.2001\\n',\n",
       " 'Shrek.4.2010\\n',\n",
       " 'Shrek.The.Third.2007\\n',\n",
       " '\\n',\n",
       " '\\n',\n",
       " '\\n',\n",
       " '\\n',\n",
       " '\\n',\n",
       " '\\n',\n",
       " '\\n',\n",
       " '\\n',\n",
       " '\\n',\n",
       " '\\n',\n",
       " '\\n',\n",
       " '\\n',\n",
       " '\\n',\n",
       " '\\n',\n",
       " '\\n']"
      ]
     },
     "execution_count": 78,
     "metadata": {},
     "output_type": "execute_result"
    }
   ],
   "source": [
    "file_names"
   ]
  },
  {
   "cell_type": "code",
   "execution_count": 79,
   "metadata": {},
   "outputs": [
    {
     "data": {
      "text/plain": [
       "\"The_Lion_King_2_Simba's_Pride\""
      ]
     },
     "execution_count": 79,
     "metadata": {},
     "output_type": "execute_result"
    }
   ],
   "source": [
    "messy_name = \"The.Lion.King.2.Simba's.Pride.1998\\n\"\n",
    "tidy_up_file_names(messy_name)"
   ]
  },
  {
   "cell_type": "code",
   "execution_count": 80,
   "metadata": {},
   "outputs": [],
   "source": [
    "file_name = \"The.Lion.King.2.Simba's.Pride.1998\\n\"\n",
    "#Remove unwanted information from the file name\n",
    "pattern = r'\\d{4}'\n",
    "final = re.search(pattern, file_name).span()[1]\n",
    "file_name = file_name[:final]\n",
    "\n",
    "#remove the white space\n",
    "file_name = file_name.strip()\n",
    "\n",
    "#Changing special characters to underscores\n",
    "special_characters = ['\\\\', '/', ':', '*', '?', '\"', '<', '>', '|']\n",
    "for character in special_characters:\n",
    "    file_name = file_name.replace(character, '_')\n",
    "\n",
    "#remove the file extension\n",
    "temp_list = file_name.split('.')\n",
    "new_name = '_'.join(temp_list[:-1])\n",
    "\n",
    "#replace spaces with underscores\n",
    "new_name = new_name.replace(' ', '_')"
   ]
  },
  {
   "cell_type": "code",
   "execution_count": 81,
   "metadata": {},
   "outputs": [
    {
     "data": {
      "text/plain": [
       "\"The_Lion_King_2_Simba's_Pride\""
      ]
     },
     "execution_count": 81,
     "metadata": {},
     "output_type": "execute_result"
    }
   ],
   "source": [
    "new_name"
   ]
  },
  {
   "cell_type": "code",
   "execution_count": null,
   "metadata": {},
   "outputs": [],
   "source": []
  }
 ],
 "metadata": {
  "interpreter": {
   "hash": "ce44b17c45080b8f56a19c9450d52461d624c968fcd959bb1916985c5ffa2b94"
  },
  "kernelspec": {
   "display_name": "Python 3.8.5 64-bit ('base': conda)",
   "name": "python3"
  },
  "language_info": {
   "codemirror_mode": {
    "name": "ipython",
    "version": 3
   },
   "file_extension": ".py",
   "mimetype": "text/x-python",
   "name": "python",
   "nbconvert_exporter": "python",
   "pygments_lexer": "ipython3",
   "version": "3.8.5"
  },
  "orig_nbformat": 4
 },
 "nbformat": 4,
 "nbformat_minor": 2
}
