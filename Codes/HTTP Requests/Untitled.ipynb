{
 "cells": [
  {
   "cell_type": "code",
   "execution_count": 1,
   "metadata": {},
   "outputs": [],
   "source": [
    "import requests"
   ]
  },
  {
   "cell_type": "code",
   "execution_count": 2,
   "metadata": {},
   "outputs": [],
   "source": [
    "import urllib3"
   ]
  },
  {
   "cell_type": "code",
   "execution_count": 3,
   "metadata": {},
   "outputs": [],
   "source": [
    "r =requests.get('https://restcountries.com/v2/name/india')"
   ]
  },
  {
   "cell_type": "code",
   "execution_count": 4,
   "metadata": {},
   "outputs": [
    {
     "data": {
      "text/plain": [
       "200"
      ]
     },
     "execution_count": 4,
     "metadata": {},
     "output_type": "execute_result"
    }
   ],
   "source": [
    "r.status_code"
   ]
  },
  {
   "cell_type": "code",
   "execution_count": 5,
   "metadata": {},
   "outputs": [
    {
     "data": {
      "text/plain": [
       "{'Date': 'Mon, 30 Aug 2021 11:59:39 GMT', 'Server': 'Apache/2.4.38 (Debian)', 'Content-Type': 'application/json', 'content-encoding': 'gzip', 'content-length': '1154', 'Keep-Alive': 'timeout=5, max=100', 'Connection': 'Keep-Alive'}"
      ]
     },
     "execution_count": 5,
     "metadata": {},
     "output_type": "execute_result"
    }
   ],
   "source": [
    "r.headers"
   ]
  },
  {
   "cell_type": "code",
   "execution_count": 20,
   "metadata": {},
   "outputs": [],
   "source": [
    "c = r.json()[1]['borders']"
   ]
  },
  {
   "cell_type": "code",
   "execution_count": 21,
   "metadata": {},
   "outputs": [],
   "source": [
    "r =requests.get(f'https://restcountries.com/v2/name/{c[0]}')"
   ]
  },
  {
   "cell_type": "code",
   "execution_count": 25,
   "metadata": {},
   "outputs": [],
   "source": [
    "import pandas as pd"
   ]
  },
  {
   "cell_type": "code",
   "execution_count": 27,
   "metadata": {},
   "outputs": [
    {
     "data": {
      "text/plain": [
       "{'name': 'Afghanistan',\n",
       " 'topLevelDomain': ['.af'],\n",
       " 'alpha2Code': 'AF',\n",
       " 'alpha3Code': 'AFG',\n",
       " 'callingCodes': ['93'],\n",
       " 'capital': 'Kabul',\n",
       " 'altSpellings': ['AF', 'Afġānistān'],\n",
       " 'region': 'Southern Asia',\n",
       " 'continent': 'Asia',\n",
       " 'population': 27657145,\n",
       " 'latlng': [33.0, 65.0],\n",
       " 'demonym': 'Afghan',\n",
       " 'area': 652230.0,\n",
       " 'gini': 29.4,\n",
       " 'timezones': ['UTC+04:30'],\n",
       " 'borders': ['IRN', 'PAK', 'TKM', 'UZB', 'TJK', 'CHN'],\n",
       " 'nativeName': 'افغانستان',\n",
       " 'numericCode': '004',\n",
       " 'currencies': [{'code': 'AFN', 'name': 'Afghan afghani', 'symbol': '؋'}],\n",
       " 'languages': [{'iso639_1': 'ps',\n",
       "   'iso639_2': 'pus',\n",
       "   'name': 'Pashto',\n",
       "   'nativeName': 'پښتو'},\n",
       "  {'iso639_1': 'uz',\n",
       "   'iso639_2': 'uzb',\n",
       "   'name': 'Uzbek',\n",
       "   'nativeName': 'Oʻzbek'},\n",
       "  {'iso639_1': 'tk',\n",
       "   'iso639_2': 'tuk',\n",
       "   'name': 'Turkmen',\n",
       "   'nativeName': 'Türkmen'}],\n",
       " 'translations': {'br': 'Afeganistão',\n",
       "  'pt': 'Afeganistão',\n",
       "  'nl': 'Afghanistan',\n",
       "  'hr': 'Afganistan',\n",
       "  'fa': 'افغانستان',\n",
       "  'de': 'Afghanistan',\n",
       "  'es': 'Afganistán',\n",
       "  'fr': 'Afghanistan',\n",
       "  'ja': 'アフガニスタン',\n",
       "  'it': 'Afghanistan',\n",
       "  'hu': 'Afganisztán'},\n",
       " 'flags': ['https://restcountries.com/data/afg.svg',\n",
       "  'https://restcountries.com/data/png/afg.png'],\n",
       " 'regionalBlocs': [{'acronym': 'SAARC',\n",
       "   'name': 'South Asian Association for Regional Cooperation'}],\n",
       " 'cioc': 'AFG',\n",
       " 'independent': True}"
      ]
     },
     "execution_count": 27,
     "metadata": {},
     "output_type": "execute_result"
    }
   ],
   "source": [
    "r.json()[0]"
   ]
  },
  {
   "cell_type": "code",
   "execution_count": 33,
   "metadata": {},
   "outputs": [
    {
     "data": {
      "text/plain": [
       "False"
      ]
     },
     "execution_count": 33,
     "metadata": {},
     "output_type": "execute_result"
    }
   ],
   "source": []
  },
  {
   "cell_type": "code",
   "execution_count": null,
   "metadata": {},
   "outputs": [],
   "source": []
  }
 ],
 "metadata": {
  "kernelspec": {
   "display_name": "Python 3",
   "language": "python",
   "name": "python3"
  },
  "language_info": {
   "codemirror_mode": {
    "name": "ipython",
    "version": 3
   },
   "file_extension": ".py",
   "mimetype": "text/x-python",
   "name": "python",
   "nbconvert_exporter": "python",
   "pygments_lexer": "ipython3",
   "version": "3.8.5"
  }
 },
 "nbformat": 4,
 "nbformat_minor": 4
}
