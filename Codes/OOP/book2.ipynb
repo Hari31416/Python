{
 "cells": [
  {
   "cell_type": "code",
   "execution_count": 38,
   "source": [
    "class Pages:\r\n",
    "    \"\"\"\r\n",
    "    Defining a page class\r\n",
    "    \"\"\"\r\n",
    "    def __init__(self, page_number=None, text=\"\", kind=None):\r\n",
    "        self.page_number = page_number\r\n",
    "        self.text = text\r\n",
    "        self.kind = kind\r\n",
    "\r\n",
    "    def __str__(self):\r\n",
    "        if self.page_number == 0:\r\n",
    "            return \"Title Page\"\r\n",
    "        else:\r\n",
    "            return f\"This is the page {self.page_number}\"\r\n",
    "\r\n",
    "    def add_text(self, text):\r\n",
    "        if self.page_number == 0:\r\n",
    "            pass\r\n",
    "        else:\r\n",
    "            self.text += text\r\n",
    "\r\n",
    "    def get_text(self):\r\n",
    "        return self.text\r\n",
    "\r\n",
    "    # def change_page_number(self, new_page_number):\r\n",
    "    #     self.page_number = new_page_number\r\n"
   ],
   "outputs": [],
   "metadata": {}
  },
  {
   "cell_type": "code",
   "execution_count": 72,
   "source": [
    "from page import Pages\r\n",
    "\r\n",
    "class Book:\r\n",
    "    def __init__(self, title, author, num_pages):\r\n",
    "        self.title = title\r\n",
    "        self.author = author\r\n",
    "        self.num_pages = num_pages\r\n",
    "        self.pages = []\r\n",
    "        for i in range(num_pages):\r\n",
    "            self.pages.append(Pages(page_number=i))\r\n",
    "\r\n",
    "    def __str__(self):\r\n",
    "        return f\"{self.title} by {self.author}\"\r\n",
    "\r\n",
    "    def create_title_page(self):\r\n",
    "        title = f\"{self.title}\\n\\tBy {self.author}\"\r\n",
    "        self.pages[0].text = title\r\n",
    "\r\n",
    "    def add_blank_pages(self, number_pages):\r\n",
    "        for i in range(1,number_pages+1):\r\n",
    "            self.num_pages +=1\r\n",
    "            self.pages.append(Pages(page_number = self.num_pages))\r\n",
    "\r\n",
    "    def add_page_with_text(self, text, page_number=None):\r\n",
    "        self.pages.append(Pages(page_number=self.num_pages+1))\r\n",
    "        self.pages[page_number]"
   ],
   "outputs": [],
   "metadata": {}
  },
  {
   "cell_type": "code",
   "execution_count": 73,
   "source": [
    "harry1 = Book(\"Harry Potter and the Sorcerer's Stone\", \"JK Rowling\", 10)"
   ],
   "outputs": [],
   "metadata": {}
  },
  {
   "cell_type": "code",
   "execution_count": 74,
   "source": [
    "harry1.create_title_page()\r\n",
    "print(harry1.pages[0].page_number)\r\n",
    "harry1.pages[0].text"
   ],
   "outputs": [
    {
     "output_type": "stream",
     "name": "stdout",
     "text": [
      "0\n"
     ]
    },
    {
     "output_type": "execute_result",
     "data": {
      "text/plain": [
       "\"Harry Potter and the Sorcerer's Stone\\n\\tBy JK Rowling\""
      ]
     },
     "metadata": {},
     "execution_count": 74
    }
   ],
   "metadata": {}
  },
  {
   "cell_type": "code",
   "execution_count": 79,
   "source": [
    "len(harry1.pages)"
   ],
   "outputs": [
    {
     "output_type": "execute_result",
     "data": {
      "text/plain": [
       "15"
      ]
     },
     "metadata": {},
     "execution_count": 79
    }
   ],
   "metadata": {}
  },
  {
   "cell_type": "code",
   "execution_count": 78,
   "source": [
    "harry1.num_pages"
   ],
   "outputs": [
    {
     "output_type": "execute_result",
     "data": {
      "text/plain": [
       "15"
      ]
     },
     "metadata": {},
     "execution_count": 78
    }
   ],
   "metadata": {}
  },
  {
   "cell_type": "code",
   "execution_count": 77,
   "source": [
    "harry1.add_pages(5)"
   ],
   "outputs": [],
   "metadata": {}
  },
  {
   "cell_type": "code",
   "execution_count": 45,
   "source": [
    "harry1.pages[3].page_number"
   ],
   "outputs": [
    {
     "output_type": "execute_result",
     "data": {
      "text/plain": [
       "4"
      ]
     },
     "metadata": {},
     "execution_count": 45
    }
   ],
   "metadata": {}
  },
  {
   "cell_type": "code",
   "execution_count": 48,
   "source": [
    "harry1.pages[4].page_number"
   ],
   "outputs": [
    {
     "output_type": "execute_result",
     "data": {
      "text/plain": [
       "4"
      ]
     },
     "metadata": {},
     "execution_count": 48
    }
   ],
   "metadata": {}
  },
  {
   "cell_type": "code",
   "execution_count": 44,
   "source": [
    "harry1.pages[3].change_page_number(4)"
   ],
   "outputs": [],
   "metadata": {}
  },
  {
   "cell_type": "code",
   "execution_count": 47,
   "source": [
    "len(harry1.pages)"
   ],
   "outputs": [
    {
     "output_type": "execute_result",
     "data": {
      "text/plain": [
       "200"
      ]
     },
     "metadata": {},
     "execution_count": 47
    }
   ],
   "metadata": {}
  },
  {
   "cell_type": "code",
   "execution_count": null,
   "source": [],
   "outputs": [],
   "metadata": {}
  }
 ],
 "metadata": {
  "orig_nbformat": 4,
  "language_info": {
   "name": "python",
   "version": "3.8.5",
   "mimetype": "text/x-python",
   "codemirror_mode": {
    "name": "ipython",
    "version": 3
   },
   "pygments_lexer": "ipython3",
   "nbconvert_exporter": "python",
   "file_extension": ".py"
  },
  "kernelspec": {
   "name": "python3",
   "display_name": "Python 3.8.5 64-bit ('base': conda)"
  },
  "interpreter": {
   "hash": "ce44b17c45080b8f56a19c9450d52461d624c968fcd959bb1916985c5ffa2b94"
  }
 },
 "nbformat": 4,
 "nbformat_minor": 2
}