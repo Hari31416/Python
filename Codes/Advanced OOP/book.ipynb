{
 "cells": [
  {
   "cell_type": "code",
   "execution_count": 13,
   "source": [
    "class Book():\r\n",
    "    \"\"\"\r\n",
    "    Creating a blank book object with a title, author, and number of pages which can be changed.\r\n",
    "    We'll also add some methods\r\n",
    "    \"\"\"\r\n",
    "    def __init__(self, title, author, pages = 1):\r\n",
    "        \"\"\"Instantiating\"\"\"\r\n",
    "        self.title = title\r\n",
    "        self.author = author\r\n",
    "        self.pages = pages +1\r\n",
    "        self.text = []\r\n",
    "        for i in range(0, pages+1):\r\n",
    "            if i ==0:\r\n",
    "                self.text.append(f\"{self.title}\\n\\t{self.author}\")\r\n",
    "            else:\r\n",
    "                self.text.append(\"\")\r\n",
    "\r\n",
    "    def __str__(self):\r\n",
    "        return f\"{self.title} by {self.author} containg {self.pages} pages\"\r\n",
    "\r\n",
    "    def __len__(self):\r\n",
    "        return self.pages\r\n",
    "    \r\n",
    "    def __del__(self):\r\n",
    "        print(\"A book object has been deleted\")\r\n",
    "\r\n",
    "    def print_title_page(self):\r\n",
    "        \"\"\"\r\n",
    "        Returning the title page\r\n",
    "        \"\"\"\r\n",
    "        print(self.text[0])\r\n",
    "\r\n",
    "    def add_page(self, page_number = None):\r\n",
    "        \"\"\"\r\n",
    "        Adding a page to the book\r\n",
    "        \"\"\"\r\n",
    "        if page_number == None:\r\n",
    "            self.pages += 1\r\n",
    "            self.text.append(\"\")\r\n",
    "        elif page_number>self.pages+1:\r\n",
    "            print('Can not add page at that page number. Instead, adding page to the end of the book.')\r\n",
    "            self.pages += 1\r\n",
    "            self.text.append(\"\")\r\n",
    "        else:\r\n",
    "            self.pages += 1\r\n",
    "            self.text.insert(page_number, \"\")\r\n",
    "\r\n",
    "    def remove_page(self, page_number = None):\r\n",
    "        \"\"\"\r\n",
    "        Removing a page from the book\r\n",
    "        \"\"\"\r\n",
    "        if page_number == None:\r\n",
    "            self.pages -= 1\r\n",
    "            self.text.pop()\r\n",
    "        elif page_number > self.pages:\r\n",
    "            print(\"The page does not exist.\")\r\n",
    "        else:\r\n",
    "            self.pages -= 1\r\n",
    "            self.text.pop(page_number - 1)\r\n",
    "\r\n",
    "    def add_text(self, page_number, text = None):\r\n",
    "        \"\"\"\r\n",
    "        Adding text to a page\r\n",
    "        \"\"\"\r\n",
    "        if text:\r\n",
    "            self.text[page_number] += f\"{text}\\n\"\r\n",
    "        else:\r\n",
    "            text = input('Please provide the text: ')\r\n",
    "            self.text[page_number] += f\"{text}\\n\"\r\n",
    "            \r\n",
    "    def print_text(self, page_number):\r\n",
    "        \"\"\"\r\n",
    "        Reading a page\r\n",
    "        \"\"\"\r\n",
    "        if self.text[page_number]:\r\n",
    "            print(self.text[page_number])\r\n",
    "        else:\r\n",
    "            print('The page is so EMPTY!')\r\n",
    "\r\n",
    "    def print_all_pages(self):\r\n",
    "        \"\"\"\r\n",
    "        Printing all pages\r\n",
    "        \"\"\"\r\n",
    "        for i in range(1, self.pages):\r\n",
    "            print(f\"Text on Page {i}: {self.text[i]}\\n\")\r\n",
    "\r\n",
    "    def search_text(self, text):\r\n",
    "        \"\"\"\r\n",
    "        Searching for text in the book\r\n",
    "        \"\"\"\r\n",
    "        matched = False\r\n",
    "        for i in range(1, self.pages):\r\n",
    "            if text.lower() in self.text[i - 1].lower():\r\n",
    "                if i==1:\r\n",
    "                    print(f\"The title page contains the query '{text}'\")\r\n",
    "                    matched = True\r\n",
    "                else:\r\n",
    "                    print(f\"Page {i} contains the query '{text}'\")\r\n",
    "                    matched = True\r\n",
    "        if not matched:\r\n",
    "            print(f\"No pages contain the query '{text.lower()}'\")"
   ],
   "outputs": [],
   "metadata": {}
  },
  {
   "cell_type": "code",
   "execution_count": 10,
   "source": [
    "book1 = Book(\"The Book\", \"Hari\", 1)\r\n",
    "book1.add_text(1, \"This is the first page\")\r\n",
    "book1.add_page()\r\n",
    "book1.add_text(2, \"This is the second page\")\r\n",
    "book1.add_page()\r\n",
    "book1.add_text(3, \"This is the third page\")"
   ],
   "outputs": [
    {
     "output_type": "stream",
     "name": "stdout",
     "text": [
      "A book object has been deleted\n"
     ]
    }
   ],
   "metadata": {}
  },
  {
   "cell_type": "code",
   "execution_count": 11,
   "source": [
    "book1.add_text(3)"
   ],
   "outputs": [],
   "metadata": {}
  },
  {
   "cell_type": "code",
   "execution_count": 12,
   "source": [
    "book1.print_text(3)"
   ],
   "outputs": [
    {
     "output_type": "stream",
     "name": "stdout",
     "text": [
      "This is the third page\n",
      "Extra stuffs\n",
      "\n"
     ]
    }
   ],
   "metadata": {}
  },
  {
   "cell_type": "code",
   "execution_count": 14,
   "source": [
    "book2 = Book(\"The Book\", \"Hari\", 3)"
   ],
   "outputs": [],
   "metadata": {}
  },
  {
   "cell_type": "code",
   "execution_count": 18,
   "source": [
    "print(book2)\r\n",
    "book2.add_text(1, \"This is the first page\")"
   ],
   "outputs": [
    {
     "output_type": "stream",
     "name": "stdout",
     "text": [
      "The Book by Hari containg 4 pages\n"
     ]
    }
   ],
   "metadata": {}
  },
  {
   "cell_type": "code",
   "execution_count": 20,
   "source": [
    "book2.add_text(3)"
   ],
   "outputs": [],
   "metadata": {}
  },
  {
   "cell_type": "code",
   "execution_count": 21,
   "source": [
    "book2.print_text(3)"
   ],
   "outputs": [
    {
     "output_type": "stream",
     "name": "stdout",
     "text": [
      "Third Page\n",
      "\n"
     ]
    }
   ],
   "metadata": {}
  },
  {
   "cell_type": "code",
   "execution_count": 189,
   "source": [
    "book1.add_page(6)"
   ],
   "outputs": [
    {
     "output_type": "stream",
     "name": "stdout",
     "text": [
      "Can not add page at that page number. Instead, adding page to the end of the book.\n"
     ]
    }
   ],
   "metadata": {}
  },
  {
   "cell_type": "code",
   "execution_count": 192,
   "source": [
    "book1.text[4] = \"This is the fourth page\""
   ],
   "outputs": [],
   "metadata": {}
  },
  {
   "cell_type": "code",
   "execution_count": 193,
   "source": [
    "print(book1)"
   ],
   "outputs": [
    {
     "output_type": "stream",
     "name": "stdout",
     "text": [
      "The Book by Hari containg 5 pages\n"
     ]
    }
   ],
   "metadata": {}
  },
  {
   "cell_type": "code",
   "execution_count": 194,
   "source": [
    "len(book1)"
   ],
   "outputs": [
    {
     "output_type": "execute_result",
     "data": {
      "text/plain": [
       "5"
      ]
     },
     "metadata": {},
     "execution_count": 194
    }
   ],
   "metadata": {}
  },
  {
   "cell_type": "code",
   "execution_count": 203,
   "source": [
    "book1.remove_page(10)"
   ],
   "outputs": [
    {
     "output_type": "stream",
     "name": "stdout",
     "text": [
      "The page does not exist.\n"
     ]
    }
   ],
   "metadata": {}
  },
  {
   "cell_type": "code",
   "execution_count": 195,
   "source": [
    "len(book1)\r\n",
    "book1.text"
   ],
   "outputs": [
    {
     "output_type": "execute_result",
     "data": {
      "text/plain": [
       "['The Book\\n\\tHari',\n",
       " 'This is the first page',\n",
       " 'This is the second page',\n",
       " 'This is the third page',\n",
       " 'This is the fourth page']"
      ]
     },
     "metadata": {},
     "execution_count": 195
    }
   ],
   "metadata": {}
  },
  {
   "cell_type": "code",
   "execution_count": 197,
   "source": [
    "book1.add_page(3)"
   ],
   "outputs": [],
   "metadata": {}
  },
  {
   "cell_type": "code",
   "execution_count": 199,
   "source": [
    "book1.add_text(3, \"This is the new third page\")"
   ],
   "outputs": [],
   "metadata": {}
  },
  {
   "cell_type": "code",
   "execution_count": 200,
   "source": [
    "book1.print_text(3)"
   ],
   "outputs": [
    {
     "output_type": "stream",
     "name": "stdout",
     "text": [
      "This is the new third page\n"
     ]
    }
   ],
   "metadata": {}
  },
  {
   "cell_type": "code",
   "execution_count": 202,
   "source": [
    "book1.print_all_pages()"
   ],
   "outputs": [
    {
     "output_type": "stream",
     "name": "stdout",
     "text": [
      "Text on Page 1: This is the first page\n",
      "\n",
      "Text on Page 2: This is the second page\n",
      "\n",
      "Text on Page 3: This is the new third page\n",
      "\n",
      "Text on Page 4: This is the third page\n",
      "\n",
      "Text on Page 5: This is the fourth page\n",
      "\n"
     ]
    }
   ],
   "metadata": {}
  },
  {
   "cell_type": "code",
   "execution_count": 145,
   "source": [
    "the_list = [1,2,3]"
   ],
   "outputs": [],
   "metadata": {}
  },
  {
   "cell_type": "code",
   "execution_count": 148,
   "source": [
    "the_list.insert(6,5)"
   ],
   "outputs": [],
   "metadata": {}
  },
  {
   "cell_type": "code",
   "execution_count": 149,
   "source": [
    "the_list"
   ],
   "outputs": [
    {
     "output_type": "execute_result",
     "data": {
      "text/plain": [
       "[1, 2, 3, 5, 5]"
      ]
     },
     "metadata": {},
     "execution_count": 149
    }
   ],
   "metadata": {}
  },
  {
   "cell_type": "code",
   "execution_count": 88,
   "source": [
    "print(book1)"
   ],
   "outputs": [
    {
     "output_type": "stream",
     "name": "stdout",
     "text": [
      "The Book by Hari containg 3 pages\n"
     ]
    }
   ],
   "metadata": {}
  },
  {
   "cell_type": "code",
   "execution_count": 89,
   "source": [
    "del book1"
   ],
   "outputs": [
    {
     "output_type": "stream",
     "name": "stdout",
     "text": [
      "A book object has been deleted\n"
     ]
    }
   ],
   "metadata": {}
  },
  {
   "cell_type": "code",
   "execution_count": 90,
   "source": [
    "book1"
   ],
   "outputs": [
    {
     "output_type": "error",
     "ename": "NameError",
     "evalue": "name 'book1' is not defined",
     "traceback": [
      "\u001b[1;31m---------------------------------------------------------------------------\u001b[0m",
      "\u001b[1;31mNameError\u001b[0m                                 Traceback (most recent call last)",
      "\u001b[1;32m<ipython-input-90-505b52038518>\u001b[0m in \u001b[0;36m<module>\u001b[1;34m\u001b[0m\n\u001b[1;32m----> 1\u001b[1;33m \u001b[0mbook1\u001b[0m\u001b[1;33m\u001b[0m\u001b[1;33m\u001b[0m\u001b[0m\n\u001b[0m",
      "\u001b[1;31mNameError\u001b[0m: name 'book1' is not defined"
     ]
    }
   ],
   "metadata": {}
  },
  {
   "cell_type": "code",
   "execution_count": 213,
   "source": [
    "text = input(\"Input\")"
   ],
   "outputs": [],
   "metadata": {}
  },
  {
   "cell_type": "code",
   "execution_count": 215,
   "source": [
    "username = input(\"Enter username:\")"
   ],
   "outputs": [],
   "metadata": {}
  },
  {
   "cell_type": "code",
   "execution_count": 23,
   "source": [
    "book2.__str__()"
   ],
   "outputs": [
    {
     "output_type": "execute_result",
     "data": {
      "text/plain": [
       "'The Book by Hari containg 4 pages'"
      ]
     },
     "metadata": {},
     "execution_count": 23
    }
   ],
   "metadata": {}
  },
  {
   "cell_type": "code",
   "execution_count": null,
   "source": [],
   "outputs": [],
   "metadata": {}
  }
 ],
 "metadata": {
  "orig_nbformat": 4,
  "language_info": {
   "name": "python",
   "version": "3.8.5",
   "mimetype": "text/x-python",
   "codemirror_mode": {
    "name": "ipython",
    "version": 3
   },
   "pygments_lexer": "ipython3",
   "nbconvert_exporter": "python",
   "file_extension": ".py"
  },
  "kernelspec": {
   "name": "python3",
   "display_name": "Python 3.8.5 64-bit ('base': conda)"
  },
  "interpreter": {
   "hash": "ce44b17c45080b8f56a19c9450d52461d624c968fcd959bb1916985c5ffa2b94"
  }
 },
 "nbformat": 4,
 "nbformat_minor": 2
}