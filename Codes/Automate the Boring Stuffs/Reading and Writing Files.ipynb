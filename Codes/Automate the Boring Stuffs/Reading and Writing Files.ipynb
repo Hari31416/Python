{
 "cells": [
  {
   "cell_type": "markdown",
   "metadata": {},
   "source": [
    "## Importatnt Notes"
   ]
  },
  {
   "cell_type": "markdown",
   "metadata": {},
   "source": [
    "### Handling Absolute and Relative Paths\n",
    "The os.path module provides functions for returning the absolute path of a\n",
    "relative path and for checking whether a given path is an absolute path. <br>\n",
    "• Calling os.path.abspath(path) will return a string of the absolute path\n",
    "of the argument. This is an easy way to convert a relative path into an\n",
    "absolute one. <br>\n",
    "• Calling os.path.isabs(path) will return True if the argument is an absolute path and False if it is a relative path. <br>\n",
    "• Calling os.path.relpath(path, start) will return a string of a relative path\n",
    "from the start path to path. If start is not provided, the current working\n",
    "directory is used as the start path."
   ]
  },
  {
   "cell_type": "markdown",
   "metadata": {},
   "source": [
    "👉🏼 The os.sep variable is set to the\n",
    "correct folder-separating slash for the computer running the program. <br>\n",
    "👉🏼 Calling os.path.getsize(path) will return the size in bytes of the file in\n",
    "the path argument."
   ]
  },
  {
   "cell_type": "markdown",
   "metadata": {},
   "source": [
    "• Calling os.path.exists(path) will return True if the file or folder referred\n",
    "to in the argument exists and will return False if it does not exist.<br>\n",
    "• Calling os.path.isfile(path) will return True if the path argument exists\n",
    "and is a file and will return False otherwise. <br>\n",
    "• Calling os.path.isdir(path) will return True if the path argument exists\n",
    "and is a folder and will return False otherwise."
   ]
  },
  {
   "cell_type": "markdown",
   "metadata": {},
   "source": [
    "#### Shelve Module\n",
    "The shelve module will let you add Save and Open\n",
    "features to your program. For example, if you ran a program and entered\n",
    "some configuration settings, you could save those settings to a shelf file and\n",
    "then have the program load them the next time it is run."
   ]
  },
  {
   "cell_type": "code",
   "execution_count": 1,
   "metadata": {},
   "outputs": [],
   "source": [
    "import shelve\n",
    "shelfFile = shelve.open('mydata')\n",
    "cats = ['Zophie', 'Pooka', 'Simon']\n",
    "shelfFile['cats'] = cats\n",
    "shelfFile.close()\n",
    "shelfFile = shelve.open('mydata')"
   ]
  },
  {
   "cell_type": "code",
   "execution_count": 3,
   "metadata": {},
   "outputs": [
    {
     "data": {
      "text/plain": [
       "['Zophie', 'Pooka', 'Simon']"
      ]
     },
     "execution_count": 3,
     "metadata": {},
     "output_type": "execute_result"
    }
   ],
   "source": [
    "shelfFile['cats']"
   ]
  },
  {
   "cell_type": "markdown",
   "metadata": {},
   "source": [
    "#### pprint\n",
    "The pprint.pprint() function\n",
    "will “pretty print” the contents of a list or dictionary to the screen,\n",
    "while the pprint.pformat() function will return this same text as a string\n",
    "instead of printing it. Not only is this string formatted to be easy to read,\n",
    "but it is also syntactically correct Python code."
   ]
  },
  {
   "cell_type": "code",
   "execution_count": 5,
   "metadata": {},
   "outputs": [
    {
     "data": {
      "text/plain": [
       "\"[{'desc': 'chubby', 'name': 'Zophie'}, {'desc': 'fluffy', 'name': 'Pooka'}]\""
      ]
     },
     "execution_count": 5,
     "metadata": {},
     "output_type": "execute_result"
    }
   ],
   "source": [
    "import pprint\n",
    "cats = [{'name': 'Zophie', 'desc': 'chubby'}, {'name': 'Pooka', 'desc': 'fluffy'}]\n",
    "pprint.pformat(cats)\n",
    "fileObj = open('myCats.py', 'w')\n",
    "fileObj.write('cats = ' + pprint.pformat(cats) + '\\n')\n",
    "fileObj.close()"
   ]
  },
  {
   "cell_type": "code",
   "execution_count": 9,
   "metadata": {},
   "outputs": [
    {
     "data": {
      "text/plain": [
       "'Pooka'"
      ]
     },
     "execution_count": 9,
     "metadata": {},
     "output_type": "execute_result"
    }
   ],
   "source": [
    "import myCats\n",
    "myCats.cats[1]['name']"
   ]
  },
  {
   "cell_type": "markdown",
   "metadata": {},
   "source": [
    "The .pyw extension means that Python won’t show\n",
    "a Terminal window when it runs this program."
   ]
  },
  {
   "cell_type": "markdown",
   "metadata": {},
   "source": [
    "## Project: Generating Random Quiz Files  "
   ]
  },
  {
   "cell_type": "markdown",
   "metadata": {},
   "source": [
    " \n",
    "<b>Here is what the program does:</b>                                            <br>\n",
    "• Creates 35 different quizzes. <br>\n",
    "• Creates 50 multiple-choice questions for each quiz, in random order. <br>\n",
    "• Provides the correct answer and three random wrong answers for each <br>\n",
    "    question, in random order. <br>\n",
    "• Writes the quizzes to 35 text files. <br>\n",
    "• Writes the answer keys to 35 text files. <br>\n",
    "<b>This means the code will need to do the following:</b> <br>\n",
    "• Store the states and their capitals in a dictionary. <br>\n",
    "• Call open(), write(), and close() for the quiz and answer key text files. <br>\n",
    "• Use random.shuffle() to randomize the order of the questions and\n",
    "multiple-\n",
    "choice options."
   ]
  },
  {
   "cell_type": "code",
   "execution_count": 54,
   "metadata": {},
   "outputs": [],
   "source": [
    "import shelve, random, os, datetime\n",
    "#The Dictionary\n",
    "capitals = {'Alabama': 'Montgomery', 'Alaska': 'Juneau', 'Arizona': 'Phoenix',\n",
    "    'Arkansas': 'Little Rock', 'California': 'Sacramento', 'Colorado': 'Denver',\n",
    "    'Connecticut': 'Hartford', 'Delaware': 'Dover', 'Florida': 'Tallahassee',\n",
    "    'Georgia': 'Atlanta', 'Hawaii': 'Honolulu', 'Idaho': 'Boise', 'Illinois':\n",
    "    'Springfield', 'Indiana': 'Indianapolis', 'Iowa': 'Des Moines', 'Kansas':\n",
    "    'Topeka', 'Kentucky': 'Frankfort', 'Louisiana': 'Baton Rouge', 'Maine':\n",
    "    'Augusta', 'Maryland': 'Annapolis', 'Massachusetts': 'Boston', 'Michigan':\n",
    "    'Lansing', 'Minnesota': 'Saint Paul', 'Mississippi': 'Jackson', 'Missouri':\n",
    "    'Jefferson City', 'Montana': 'Helena', 'Nebraska': 'Lincoln', 'Nevada':\n",
    "    'Carson City', 'New Hampshire': 'Concord', 'New Jersey': 'Trenton', 'New Mexico': 'Santa Fe', 'New York': 'Albany', 'North Carolina': 'Raleigh',\n",
    "    'North Dakota': 'Bismarck', 'Ohio': 'Columbus', 'Oklahoma': 'Oklahoma City',\n",
    "    'Oregon': 'Salem', 'Pennsylvania': 'Harrisburg', 'Rhode Island': 'Providence',\n",
    "    'South Carolina': 'Columbia', 'South Dakota': 'Pierre', 'Tennessee':\n",
    "    'Nashville', 'Texas': 'Austin', 'Utah': 'Salt Lake City', 'Vermont':\n",
    "    'Montpelier', 'Virginia': 'Richmond', 'Washington': 'Olympia', 'West Virginia': 'Charleston', 'Wisconsin': 'Madison', 'Wyoming': 'Cheyenne'}"
   ]
  },
  {
   "cell_type": "code",
   "execution_count": 69,
   "metadata": {},
   "outputs": [],
   "source": [
    "states = list(capitals.keys())\n",
    "for i in range(1,36):\n",
    "    file_name = f\"quiz_{i}\"\n",
    "    answer_key = f\"answer_{i}\"\n",
    "    file_path = os.path.join('reading_and_writing', file_name)\n",
    "    answer_path = os.path.join('reading_and_writing', answer_key)\n",
    "    with open(f'{file_path}.txt', 'w') as f:\n",
    "        f.write(\" \"*20 + \"Quiz\\n\\n\")\n",
    "        f.write(\"Your Name:\"+\".\"*15+'\\n')\n",
    "        f.write(\"Roll Number:\"+\".\"*10+'\\n')\n",
    "        f.write(\"Date: \"+str(datetime.datetime.now().strftime(\"%Y-%m-%d\"))+'\\n\\n')\n",
    "        # f.write(\"\\n\\n\")\n",
    "        random.shuffle(states)\n",
    "        with open(f'{answer_path}.txt', 'w') as a:\n",
    "            a.write(\"Answers are:\\n\")\n",
    "            for j, state in enumerate(states):\n",
    "                all_answers = list(capitals.values())\n",
    "                correct_answer = capitals[state]\n",
    "                all_answers.remove(correct_answer)\n",
    "                wrong_answers = random.sample(all_answers, 3)\n",
    "                four_options = wrong_answers + [correct_answer]\n",
    "                random.shuffle(four_options)\n",
    "                zip_answers = {0:\"A\", 1:\"B\", 2:\"C\", 3:\"D\"}\n",
    "                correct_answer_index = four_options.index(correct_answer)\n",
    "                a.write(f\"{j+1}. {zip_answers[correct_answer_index]} = {correct_answer}\\n\")\n",
    "                f.write(f\"{j+1}. What is the capital of {state}?\\n\")\n",
    "                for k, options in enumerate(four_options):\n",
    "                    f.write(f\"\\t{zip_answers[k]}. {options}\\n\")  \n",
    "                f.write(\"\\n\")\n"
   ]
  },
  {
   "cell_type": "code",
   "execution_count": 67,
   "metadata": {},
   "outputs": [
    {
     "data": {
      "text/plain": [
       "'2021-11-22'"
      ]
     },
     "execution_count": 67,
     "metadata": {},
     "output_type": "execute_result"
    }
   ],
   "source": [
    "datetime.datetime.now().strftime(\"%Y-%m-%d\")"
   ]
  },
  {
   "cell_type": "code",
   "execution_count": null,
   "metadata": {},
   "outputs": [],
   "source": []
  },
  {
   "cell_type": "markdown",
   "metadata": {},
   "source": [
    "## Project: Mad Libs\n",
    "Create a Mad Libs program that reads in text files and lets the user add\n",
    "their own text anywhere the word ADJECTIVE, NOUN, ADVERB, or VERB\n",
    "appears in the text file. For example, a text file may look like this:"
   ]
  },
  {
   "cell_type": "code",
   "execution_count": 80,
   "metadata": {},
   "outputs": [],
   "source": [
    "import os, re"
   ]
  },
  {
   "cell_type": "code",
   "execution_count": 82,
   "metadata": {},
   "outputs": [
    {
     "name": "stdout",
     "output_type": "stream",
     "text": [
      "The big panda walked to the cow and then run. A nearby cow was\n",
      "unaffected by these events.\n"
     ]
    }
   ],
   "source": [
    "with open(\"mad_libs.txt\", 'r') as f:\n",
    "    text = f.read()\n",
    "    replaces = [\"NOUN\", \"ADJECTIVE\", \"ADVERB\", \"VERB\"]\n",
    "    for replace in replaces:\n",
    "        while replace in text:\n",
    "            regex = re.compile(r\"{}\".format(replace))\n",
    "            text = regex.sub(input(\"Enter {}: \".format(replace)), text)\n",
    "    #     text = text.replace(replace, input(f\"Enter {replace}: \"))\n",
    "\n",
    "    # if \"ADJECTIVE\" in text:\n",
    "    #     print(\"Enter an adjective:\")\n",
    "    #     text = text.replace(\"ADJECTIVE\", input())\n",
    "    # if \"NOUN\" in text:\n",
    "    #     print(\"Enter a noun:\")\n",
    "    #     text = text.replace(\"NOUN\", input())\n",
    "    # if \"VERB\" in text:\n",
    "    #     print(\"Enter a verb:\")\n",
    "    #     text = text.replace(\"VERB\", input())\n",
    "    # if \"ADVERB\" in text:\n",
    "    #     print(\"Enter an adverb:\")\n",
    "    #     text = text.replace(\"ADVERB\", input())\n",
    "\n",
    "    print(text)"
   ]
  },
  {
   "cell_type": "code",
   "execution_count": null,
   "metadata": {},
   "outputs": [],
   "source": []
  }
 ],
 "metadata": {
  "interpreter": {
   "hash": "ce44b17c45080b8f56a19c9450d52461d624c968fcd959bb1916985c5ffa2b94"
  },
  "kernelspec": {
   "display_name": "Python 3.8.5 64-bit ('base': conda)",
   "language": "python",
   "name": "python3"
  },
  "language_info": {
   "codemirror_mode": {
    "name": "ipython",
    "version": 3
   },
   "file_extension": ".py",
   "mimetype": "text/x-python",
   "name": "python",
   "nbconvert_exporter": "python",
   "pygments_lexer": "ipython3",
   "version": "3.8.5"
  },
  "orig_nbformat": 4
 },
 "nbformat": 4,
 "nbformat_minor": 2
}
