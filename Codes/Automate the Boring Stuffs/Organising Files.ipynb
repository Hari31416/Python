{
 "cells": [
  {
   "cell_type": "markdown",
   "metadata": {},
   "source": [
    "## Importatnt Notes"
   ]
  },
  {
   "cell_type": "markdown",
   "metadata": {},
   "source": [
    "• Calling os.unlink(path) will delete the file at path.<br>\n",
    "• Calling os.rmdir(path) will delete the folder at path. This folder must be\n",
    "empty of any files or folders.<br>\n",
    "• Calling shutil.rmtree(path) will remove the folder at path, and all files\n",
    "and folders it contains will also be deleted."
   ]
  },
  {
   "cell_type": "markdown",
   "metadata": {},
   "source": [
    "Using send2trash is much safer than Python’s regular delete functions,\n",
    "because it will send folders and files to your computer’s trash or recycle bin\n",
    "instead of permanently deleting them. If a bug in your program deletes\n",
    "something with send2trash you didn’t intend to delete, you can later restore\n",
    "it from the recycle bin.\n"
   ]
  },
  {
   "cell_type": "markdown",
   "metadata": {},
   "source": [
    "The os.walk() function returns three values on\n",
    "each iteration through the loop:\n",
    "1. A string of the current folder’s name\n",
    "2. A list of strings of the folders in the current folder\n",
    "3. A list of strings of the files in the current folder"
   ]
  },
  {
   "cell_type": "markdown",
   "metadata": {},
   "source": [
    "To read the contents of a ZIP file, first you must create a ZipFile object\n",
    "(note the capital letters Z and F). ZipFile objects are conceptually similar\n",
    "to the File objects you saw returned by the open() function in the previous\n",
    "chapter: They are values through which the program interacts with the file.\n",
    "To create\n",
    "a ZipFile object, call the zipfile.ZipFile() function, passing it a\n",
    "string of the .zip file’s filename.<br>To create your own compressed ZIP files, you must open the ZipFile object\n",
    "in write mode by passing 'w' as the second argument. (Just like simple files.)<br>\n",
    "Keep in mind that, just as with writing to files, write mode will erase\n",
    "all existing contents of a ZIP file. If you want to simply add files to an existing\n",
    "ZIP file, pass 'a' as the second argument to zipfile.ZipFile() to open\n",
    "the ZIP file in append mode. (Again, ust like simple files.)"
   ]
  },
  {
   "cell_type": "markdown",
   "metadata": {},
   "source": [
    "## Project: Backing Up a Folder into a ZIP File\n",
    "#### Creates a snapshot"
   ]
  },
  {
   "cell_type": "code",
   "execution_count": 1,
   "metadata": {},
   "outputs": [],
   "source": [
    "import os, zipfile"
   ]
  },
  {
   "cell_type": "code",
   "execution_count": 1,
   "metadata": {},
   "outputs": [],
   "source": [
    "#To create a function that makes a zip file of the given directory.\n",
    "#Copies an entire folder and its contents into\n",
    "# a ZIP file whose filename increments.\n",
    "\n",
    "#How to increment the filename?\n",
    "#Zipping entire tree directory\n",
    "def back_up(folder = None):\n",
    "    import os, zipfile\n",
    "\n",
    "    #Getting folder name\n",
    "    if not folder:\n",
    "        folder = os.getcwd()\n",
    "    else:\n",
    "        folder = os.getcwd()\n",
    "    \n",
    "    #Creating zip file name\n",
    "    i=1\n",
    "    for dir in os.listdir(folder):\n",
    "        if 'zipped_folder' in dir:\n",
    "            i += 1\n",
    "            continue\n",
    "    zip_file_name = f\"zipped_folder_{i}.zip\"\n",
    "\n",
    "    #Creating zip file\n",
    "    zip_file = zipfile.ZipFile(zip_file_name, 'w')\n",
    "    for dirname, subdirs, files in os.walk(folder):\n",
    "        print(f'Adding files in {dirname}')\n",
    "        zip_file.write(dirname)\n",
    "        for filename in files:\n",
    "            if 'zipped_folder' in filename:\n",
    "                pass\n",
    "            else:\n",
    "                # print(f'Adding {filename}')\n",
    "                zip_file.write(os.path.join(dirname, filename))\n",
    "    zip_file.close()"
   ]
  },
  {
   "cell_type": "code",
   "execution_count": 2,
   "metadata": {},
   "outputs": [
    {
     "name": "stdout",
     "output_type": "stream",
     "text": [
      "Adding files in c:\\Users\\harik\\Desktop\\Python\\Codes\\Automate the Boring Stuffs\n",
      "Adding files in c:\\Users\\harik\\Desktop\\Python\\Codes\\Automate the Boring Stuffs\\reading_and_writing\n",
      "Adding files in c:\\Users\\harik\\Desktop\\Python\\Codes\\Automate the Boring Stuffs\\__pycache__\n"
     ]
    }
   ],
   "source": [
    "back_up(r'C:\\Users\\harik\\Desktop\\Python\\Codes\\Automate the Boring Stuffs')"
   ]
  },
  {
   "cell_type": "code",
   "execution_count": 27,
   "metadata": {},
   "outputs": [],
   "source": [
    "import shutil"
   ]
  },
  {
   "cell_type": "code",
   "execution_count": 34,
   "metadata": {},
   "outputs": [
    {
     "name": "stdout",
     "output_type": "stream",
     "text": [
      "Total files greater than 100 MB: 83\n",
      "Total size of files greater than 100 MB: 56056.78171443939 MB\n"
     ]
    }
   ],
   "source": [
    "i=0\n",
    "total_size = 0\n",
    "for dirname, subdirs, files in os.walk(r\"C:\\Users\\harik\"):\n",
    "    for filename in files:\n",
    "        try:\n",
    "            filesize = os.path.getsize(os.path.join(dirname, filename))/(1024*1024)\n",
    "            if filesize > 100:\n",
    "                if not (filename.endswith('.mp4') or filename.endswith('.mkv') or filename.endswith('.m4b') or filename.endswith('.mp3')):\n",
    "                    i+=1\n",
    "                    total_size += filesize\n",
    "                    # print(f'The file {filename} \\nin folder {dirname} \\nis {filesize} MB')\n",
    "        except:\n",
    "            pass\n",
    "print(f'Total files greater than 100 MB: {i}')\n",
    "print(f'Total size of files greater than 100 MB: {total_size} MB')"
   ]
  },
  {
   "cell_type": "code",
   "execution_count": null,
   "metadata": {},
   "outputs": [],
   "source": []
  }
 ],
 "metadata": {
  "interpreter": {
   "hash": "ce44b17c45080b8f56a19c9450d52461d624c968fcd959bb1916985c5ffa2b94"
  },
  "kernelspec": {
   "display_name": "Python 3.8.5 64-bit ('base': conda)",
   "language": "python",
   "name": "python3"
  },
  "language_info": {
   "codemirror_mode": {
    "name": "ipython",
    "version": 3
   },
   "file_extension": ".py",
   "mimetype": "text/x-python",
   "name": "python",
   "nbconvert_exporter": "python",
   "pygments_lexer": "ipython3",
   "version": "3.8.5"
  },
  "orig_nbformat": 4
 },
 "nbformat": 4,
 "nbformat_minor": 2
}
