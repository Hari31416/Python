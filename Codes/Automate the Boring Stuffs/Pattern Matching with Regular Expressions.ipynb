{
 "cells": [
  {
   "cell_type": "markdown",
   "metadata": {},
   "source": [
    "## Important Notes"
   ]
  },
  {
   "cell_type": "markdown",
   "metadata": {},
   "source": [
    "#### 1\n",
    "Python’s regular expressions are greedy by default, which means that in\n",
    "ambiguous situations they will match the longest string possible. The non\n",
    "greedy\n",
    "version of the curly brackets, which matches the shortest string pos\n",
    "sible,\n",
    "has the closing curly bracket followed by a question mark."
   ]
  },
  {
   "cell_type": "code",
   "execution_count": 2,
   "metadata": {},
   "outputs": [
    {
     "data": {
      "text/plain": [
       "'HaHaHaHaHa'"
      ]
     },
     "execution_count": 2,
     "metadata": {},
     "output_type": "execute_result"
    }
   ],
   "source": [
    "greedyHaRegex = re.compile(r'(Ha){3,5}')\n",
    "mo1 = greedyHaRegex.search('HaHaHaHaHa')\n",
    "mo1.group()\n"
   ]
  },
  {
   "cell_type": "code",
   "execution_count": 3,
   "metadata": {},
   "outputs": [
    {
     "data": {
      "text/plain": [
       "'HaHaHa'"
      ]
     },
     "execution_count": 3,
     "metadata": {},
     "output_type": "execute_result"
    }
   ],
   "source": [
    "nongreedyHaRegex = re.compile(r'(Ha){3,5}?')\n",
    "mo2 = nongreedyHaRegex.search('HaHaHaHaHa')\n",
    "mo2.group()"
   ]
  },
  {
   "cell_type": "markdown",
   "metadata": {},
   "source": [
    "#### 2\n",
    "There are times when you want to match a set of characters but the shorthand\n",
    "character classes (\\d, \\w, \\s, and so on) are too broad. You can define\n",
    "your own character class using square brackets. For example, the character\n",
    "class [aeiouAEIOU] will match any vowel, both lowercase and uppercase. <br>\n",
    "By placing a caret character (^) just after the character class’s opening\n",
    "bracket, you can make a negative character class. A negative character class\n",
    "will match all the characters that are not in the character class.\n",
    "#### 3\n",
    "The dot character means “any single character except the newline. By passing re.DOTALL as\n",
    "the second argument to re.compile(), you can make the dot character match\n",
    "all characters, including the newline character.\n",
    "#### 4\n",
    "To make your regex case-insensitive,\n",
    "you can pass re.IGNORECASE or re.I as a second argument to re.compile().\n",
    "#### 5\n",
    "Sometimes you may need to use the matched text itself as part of the\n",
    "substitution. In the first argument to sub(), you can type \\1, \\2, \\3, and so\n",
    "on, to mean “Enter the text of group 1, 2, 3, and so on, in the substitution.”"
   ]
  },
  {
   "cell_type": "code",
   "execution_count": 5,
   "metadata": {},
   "outputs": [
    {
     "data": {
      "text/plain": [
       "'A**** told C**** that E**** knew B**** was a double agent.'"
      ]
     },
     "execution_count": 5,
     "metadata": {},
     "output_type": "execute_result"
    }
   ],
   "source": [
    "agentNamesRegex = re.compile(r'Agent (\\w)\\w*')\n",
    "agentNamesRegex.sub(r'\\1****', 'Agent Alice told Agent Carol that Agent Eve knew Agent Bob was a double agent.')"
   ]
  },
  {
   "cell_type": "markdown",
   "metadata": {},
   "source": [
    "#### 6\n",
    "You can mitigate the readability issue by telling the re.compile() function\n",
    "to ignore whitespace and comments inside the regular expression string.\n",
    "This “verbose mode” can be enabled by passing the variable re.VERBOSE as\n",
    "the second argument to re.compile(). eg. Instead of"
   ]
  },
  {
   "cell_type": "code",
   "execution_count": 6,
   "metadata": {},
   "outputs": [],
   "source": [
    "phoneRegex = re.compile(r'((\\d{3}|\\(\\d{3}\\))?(\\s|-|\\.)?\\d{3}(\\s|-|\\.)\\d{4}(\\s*(ext|x|ext.)\\s*\\d{2,5})?)')"
   ]
  },
  {
   "cell_type": "markdown",
   "metadata": {},
   "source": [
    "You can type"
   ]
  },
  {
   "cell_type": "code",
   "execution_count": 8,
   "metadata": {},
   "outputs": [],
   "source": [
    "phoneRegex = re.compile(r'''(\n",
    "    (\\d{3}|\\(\\d{3}\\))? # area code\n",
    "    (\\s|-|\\.)? # separator\n",
    "    \\d{3} # first 3 digits\n",
    "    (\\s|-|\\.) # separator\n",
    "    \\d{4} # last 4 digits\n",
    "    (\\s*(ext|x|ext.)\\s*\\d{2,5})? # extension\n",
    "    )''', re.VERBOSE)"
   ]
  },
  {
   "cell_type": "markdown",
   "metadata": {},
   "source": [
    "<b>•</b> The ? matches zero or one of the preceding group.                 \n",
    "<b>•</b> The * matches zero or more of the preceding group.                   <br>\n",
    "<b>•</b> The + matches one or more of the preceding group.<br>\n",
    "<b>•</b> The {n} matches exactly n of the preceding group.<br>\n",
    "<b>•</b> The {n,} matches n or more of the preceding group.<br>\n",
    "<b>•</b> The {,m} matches 0 to m of the preceding group.<br>\n",
    "<b>•</b> The {n,m} matches at least n and at most m of the preceding group.<br>\n",
    "<b>•</b> {n,m}? or *? or +? performs a nongreedy match of the preceding group.<br>\n",
    "<b>•</b> ^spam means the string must begin with spam.<br>\n",
    "<b>•</b> spam$ means the string must end with spam.<br>\n",
    "<b>•</b> The . matches any character, except newline characters.<br>\n",
    "<b>•</b> \\d, \\w, and \\s match a digit, word, or space character, respectively.<br>\n",
    "<b>•</b> \\D, \\W, and \\S match anything except a digit, word, or space character,\n",
    "<b>r</b>espectively.<br>\n",
    "<b>•</b> [abc] matches any character between the brackets (such as a, b, or c).<br>\n",
    "<b>•</b> [^abc] matches any character that isn’t between the brackets.<br>"
   ]
  },
  {
   "cell_type": "markdown",
   "metadata": {},
   "source": [
    "## Excersices"
   ]
  },
  {
   "cell_type": "code",
   "execution_count": 1,
   "metadata": {},
   "outputs": [],
   "source": [
    "import re"
   ]
  },
  {
   "cell_type": "markdown",
   "metadata": {},
   "source": [
    "#### 20\n",
    "How would you write a regex that matches a number with commas for\n",
    "every three digits? It must match the following: <br>\n",
    "• '42' <br>\n",
    "• '1,234'<br>\n",
    "• '6,368,745'<br>\n",
    "but not the following:<br>\n",
    "• '12,34,567' (which has only two digits between the commas)<br>\n",
    "• '1234' (which lacks commas)<br>"
   ]
  },
  {
   "cell_type": "code",
   "execution_count": 130,
   "metadata": {},
   "outputs": [
    {
     "data": {
      "text/plain": [
       "<re.Match object; span=(0, 0), match=''>"
      ]
     },
     "execution_count": 130,
     "metadata": {},
     "output_type": "execute_result"
    }
   ],
   "source": [
    "reg = re.compile(r\"\"\"\n",
    "    (^\\d{1,3}$)? #Upto three digits\n",
    "    (^\\d{1,3},\\d{3}$)? #Upto 6 digits\n",
    "    (^\\d{1,3},\\d{3},\\d{3}$)? #Upto 9 digits\n",
    "\"\"\", re.VERBOSE)\n",
    "text = '12,34,567'\n",
    "reg.search(text)"
   ]
  },
  {
   "cell_type": "markdown",
   "metadata": {},
   "source": [
    "#### 21\n",
    "21. How would you write a regex that matches the full name of someone\n",
    "whose last name is Nakamoto? You can assume that the first name that\n",
    "comes before it will always be one word that begins with a capital letter.\n",
    "The regex must match the following: <br>\n",
    "• 'Satoshi Nakamoto'<br>\n",
    "• 'Alice Nakamoto' <br>\n",
    "• 'RoboCop Nakamoto'    <br>\n",
    "but not the following:  <br>\n",
    "• 'satoshi Nakamoto' (where the first name is not capitalized) <br>\n",
    "• 'Mr. Nakamoto' (where the preceding word has a nonletter character) <br>\n",
    "• 'Nakamoto' (which has no first name) <br>\n",
    "• 'Satoshi nakamoto' (where Nakamoto is not capitalized)"
   ]
  },
  {
   "cell_type": "code",
   "execution_count": 150,
   "metadata": {},
   "outputs": [
    {
     "data": {
      "text/plain": [
       "'Satoshi Nakamoto'"
      ]
     },
     "execution_count": 150,
     "metadata": {},
     "output_type": "execute_result"
    }
   ],
   "source": [
    "reg = re.compile(r'''\n",
    "    [A-Z] #First letter Capital\n",
    "    \\w* #Rest of the letters, no periods or special characters\n",
    "    \\s #Space\n",
    "    Nakamoto #LAst name should be Nakamoto\n",
    "''', re.VERBOSE)\n",
    "\n",
    "text = 'Satoshi Nakamoto'\n",
    "reg.search(string=text).group()"
   ]
  },
  {
   "cell_type": "markdown",
   "metadata": {},
   "source": [
    "### Practice Projects"
   ]
  },
  {
   "cell_type": "markdown",
   "metadata": {},
   "source": [
    "#### Strong Password Detection \n",
    "Write a function that uses regular expressions to make sure the password\n",
    "string it is passed is strong. A strong password is defined as one that is at\n",
    "least eight characters long, contains both uppercase and lowercase characters,\n",
    "and has at least one digit. You may need to test the string against multiple\n",
    "regex patterns to validate its strength."
   ]
  },
  {
   "cell_type": "code",
   "execution_count": 159,
   "metadata": {},
   "outputs": [
    {
     "data": {
      "text/plain": [
       "<re.Match object; span=(1, 7), match='Abchyt'>"
      ]
     },
     "execution_count": 159,
     "metadata": {},
     "output_type": "execute_result"
    }
   ],
   "source": [
    "reg1 = re.compile(r'''\n",
    "    ([A-Z]){1,}   #At least one capital letter\n",
    "    ([a-z]){1,}   #At least one lower letter   \n",
    "    # ([A-Za-z0-9@#$%^&]){8,}?\n",
    "''', re.VERBOSE)\n",
    "password = 'aAbchyt123'\n",
    "reg.search(string=password)"
   ]
  },
  {
   "cell_type": "code",
   "execution_count": 180,
   "metadata": {},
   "outputs": [],
   "source": [
    "reg1 = re.compile(r\"[A-Z]\")\n",
    "reg2 = re.compile(r\"[a-z]\")\n",
    "reg3 = re.compile(r\"[0-9]\")\n",
    "# reg4 = re.compile(r\"[^@#$%^&]\")\n",
    "reg4 = re.compile(r\"[A-Za-z0-9@#$%^&]{8,}\")\n"
   ]
  },
  {
   "cell_type": "code",
   "execution_count": 183,
   "metadata": {},
   "outputs": [
    {
     "name": "stdout",
     "output_type": "stream",
     "text": [
      "Password should have at least 8 letters long. Or you have used some special characters which are not allowed\n",
      "Allowed special characters are : @ # % ^ &\n"
     ]
    }
   ],
   "source": [
    "password = 'Aaa1hga'\n",
    "if reg1.search(password) and reg2.search(password) and reg3.search(password) and reg4.search(password):\n",
    "    print('Valid password')\n",
    "elif not reg1.search(password):\n",
    "    print('Password should have at least one Capital letter.')\n",
    "elif not reg2.search(password):\n",
    "    print('Password should have at least one lower letter.')\n",
    "elif not reg3.search(password):\n",
    "    print('Password should have at least one digit.')\n",
    "elif not reg4.search(password):\n",
    "    print('Password should have at least 8 letters long. Or you have used some special characters which are not allowed')\n",
    "    print(\"Allowed special characters are : @ # % ^ &\")"
   ]
  },
  {
   "cell_type": "markdown",
   "metadata": {},
   "source": [
    "#### Regex Version of strip()\n",
    "Write a function that takes a string and does the same thing as the strip()\n",
    "string method. If no other arguments are passed other than the string to\n",
    "strip, then whitespace characters will be removed from the beginning and\n",
    "end of the string. Otherwise, the characters specified in the second argument\n",
    "to the function will be removed from the string."
   ]
  },
  {
   "cell_type": "code",
   "execution_count": 233,
   "metadata": {},
   "outputs": [],
   "source": [
    "def my_strip_function(string, chars=None):\n",
    "    \n",
    "    if chars is None:\n",
    "        reg = re.compile(r'^\\s+|\\s+$')\n",
    "        if reg.search(string) is not None:\n",
    "            return reg.sub('', string)\n",
    "        else:\n",
    "            return string\n",
    "    else:\n",
    "        characters = list(chars)\n",
    "        pattern = \",\".join(characters)\n",
    "        pattern = \"[\" + pattern + \"]\"\n",
    "        reg = re.compile(pattern)\n",
    "        if reg.search(string) is not None:\n",
    "            print(reg.sub('', string))\n",
    "        else:\n",
    "            print(string)"
   ]
  },
  {
   "cell_type": "code",
   "execution_count": 232,
   "metadata": {},
   "outputs": [
    {
     "name": "stdout",
     "output_type": "stream",
     "text": [
      "[o,W,l]\n",
      "   He rd   \n"
     ]
    }
   ],
   "source": [
    "my_strip_function('   Hello World   ', 'oWl')"
   ]
  },
  {
   "cell_type": "code",
   "execution_count": null,
   "metadata": {},
   "outputs": [],
   "source": []
  }
 ],
 "metadata": {
  "interpreter": {
   "hash": "ce44b17c45080b8f56a19c9450d52461d624c968fcd959bb1916985c5ffa2b94"
  },
  "kernelspec": {
   "display_name": "Python 3.8.5 64-bit ('base': conda)",
   "language": "python",
   "name": "python3"
  },
  "language_info": {
   "codemirror_mode": {
    "name": "ipython",
    "version": 3
   },
   "file_extension": ".py",
   "mimetype": "text/x-python",
   "name": "python",
   "nbconvert_exporter": "python",
   "pygments_lexer": "ipython3",
   "version": "3.8.5"
  },
  "orig_nbformat": 4
 },
 "nbformat": 4,
 "nbformat_minor": 2
}
