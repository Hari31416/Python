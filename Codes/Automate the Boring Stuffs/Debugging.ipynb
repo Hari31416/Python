{
 "cells": [
  {
   "cell_type": "markdown",
   "metadata": {},
   "source": [
    "## Importatnt Notes"
   ]
  },
  {
   "cell_type": "markdown",
   "metadata": {},
   "source": [
    "The traceback is displayed by Python whenever a raised exception\n",
    "goes unhandled. But you can also obtain it as a string by calling\n",
    "traceback.format_exc()."
   ]
  },
  {
   "cell_type": "code",
   "execution_count": 1,
   "metadata": {},
   "outputs": [
    {
     "name": "stdout",
     "output_type": "stream",
     "text": [
      "The traceback info was written to errorInfo.txt.\n"
     ]
    }
   ],
   "source": [
    "import traceback\n",
    "try:\n",
    "    raise Exception('This is the error message.')\n",
    "except:\n",
    "    errorFile = open('errorInfo.txt', 'w')\n",
    "    errorFile.write(traceback.format_exc())\n",
    "    errorFile.close()\n",
    "    print('The traceback info was written to errorInfo.txt.')"
   ]
  },
  {
   "cell_type": "markdown",
   "metadata": {},
   "source": [
    "### Assertion\n",
    "Unlike exceptions, your code should not handle assert statements with try and\n",
    "except; if an assert fails, your program should crash. <br>\n",
    "Assertions are for programmer errors, not user errors. For errors that\n",
    "can be recovered from (such as a file not being found or the user entering invalid data), raise an exception instead of detecting it with an assert\n",
    "statement.<br>\n",
    "<b>By failing fast early in the program’s execution, you can\n",
    "save yourself a lot of future debugging effort.</b>"
   ]
  },
  {
   "cell_type": "markdown",
   "metadata": {},
   "source": [
    "### Using the logging Module\n",
    "To enable the logging module to display log messages on your screen as your\n",
    "program runs, copy the following to the top of your program:"
   ]
  },
  {
   "cell_type": "code",
   "execution_count": 2,
   "metadata": {},
   "outputs": [],
   "source": [
    "import logging\n",
    "logging.basicConfig(level=logging.DEBUG, format='%(asctime)s:%(levelname)s:%(message)s')"
   ]
  },
  {
   "cell_type": "code",
   "execution_count": 4,
   "metadata": {},
   "outputs": [
    {
     "name": "stderr",
     "output_type": "stream",
     "text": [
      "2021-11-23 16:55:28,159:DEBUG:Start of program\n",
      "2021-11-23 16:55:28,162:DEBUG:Start of factorial 5\n",
      "2021-11-23 16:55:28,164:DEBUG:i is 0, total is 0\n",
      "2021-11-23 16:55:28,166:DEBUG:End of factorial 5\n",
      "2021-11-23 16:55:28,167:DEBUG:i is 1, total is 0\n",
      "2021-11-23 16:55:28,169:DEBUG:End of factorial 5\n",
      "2021-11-23 16:55:28,170:DEBUG:i is 2, total is 0\n",
      "2021-11-23 16:55:28,172:DEBUG:End of factorial 5\n",
      "2021-11-23 16:55:28,173:DEBUG:i is 3, total is 0\n",
      "2021-11-23 16:55:28,174:DEBUG:End of factorial 5\n",
      "2021-11-23 16:55:28,176:DEBUG:i is 4, total is 0\n",
      "2021-11-23 16:55:28,178:DEBUG:End of factorial 5\n",
      "2021-11-23 16:55:28,180:DEBUG:i is 5, total is 0\n",
      "2021-11-23 16:55:28,181:DEBUG:End of factorial 5\n",
      "2021-11-23 16:55:28,183:DEBUG:End of program\n"
     ]
    },
    {
     "name": "stdout",
     "output_type": "stream",
     "text": [
      "0\n"
     ]
    }
   ],
   "source": [
    "logging.debug('Start of program')\n",
    "def factorial(n):\n",
    "    logging.debug(f'Start of factorial {n}')\n",
    "    total = 1\n",
    "    for i in range(n + 1):\n",
    "        total *= i\n",
    "        logging.debug('i is ' + str(i) + ', total is ' + str(total))\n",
    "        logging.debug(f'End of factorial {n}')\n",
    "    return total\n",
    "print(factorial(5))\n",
    "logging.debug('End of program')"
   ]
  },
  {
   "cell_type": "markdown",
   "metadata": {},
   "source": [
    "#### Logging levels provide a way to categorize your log messages by importance.\n",
    "logging.debug('This is a debug message')        <br>\n",
    "logging.info('This is an info message')<br>\n",
    "logging.warning('This is a warning message')<br>\n",
    "logging.error('This is an error message')<br>\n",
    "logging.critical('This is a critical message')<br>"
   ]
  },
  {
   "cell_type": "markdown",
   "metadata": {},
   "source": [
    "The benefit of logging levels is that you can change what priority of\n",
    "logging message you want to see. Passing logging.DEBUG to the basicConfig()\n",
    "function’s level keyword argument will show messages from all the logging\n",
    "levels (DEBUG being the lowest level). But after developing your program\n",
    "some more, you may be interested only in errors. In that case, you can set\n",
    "basicConfig()’s level argument to logging.ERROR. This will show only ERROR\n",
    "and CRITICAL messages and skip the DEBUG, INFO, and WARNING\n",
    "messages.\n",
    "<br><br>\n",
    "The logging.disable() function disables\n",
    "these so that you don’t have to go into your program and remove all the log\n",
    "ging\n",
    "calls by hand. You simply pass logging.disable() a logging level, and it\n",
    "will suppress all log messages at that level or lower. So if you want to disable\n",
    "logging entirely, just add logging.disable(logging.CRITICAL) to your program.\n",
    "<br>\n",
    "Instead of displaying the log messages to the screen, you can write them to\n",
    "a text file. The logging.basicConfig() function takes a filename keyword argu\n",
    "ment,"
   ]
  },
  {
   "cell_type": "code",
   "execution_count": 6,
   "metadata": {},
   "outputs": [],
   "source": [
    "import logging\n",
    "logging.basicConfig(filename='error_log.txt', level=logging.DEBUG, format='%(asctime)s:%(levelname)s:%(message)s')"
   ]
  },
  {
   "cell_type": "code",
   "execution_count": null,
   "metadata": {},
   "outputs": [],
   "source": []
  },
  {
   "cell_type": "markdown",
   "metadata": {},
   "source": [
    "## Practice Project\n",
    "### Debugging Coin Toss"
   ]
  },
  {
   "cell_type": "code",
   "execution_count": 8,
   "metadata": {},
   "outputs": [
    {
     "name": "stdout",
     "output_type": "stream",
     "text": [
      "Guess the coin toss! Enter heads or tails:\n",
      "Nope! Guess again!\n",
      "Nope. You are really bad at this game.\n"
     ]
    }
   ],
   "source": [
    "import random\n",
    "guess = ''\n",
    "while guess not in ('heads', 'tails'):\n",
    "    print('Guess the coin toss! Enter heads or tails:')\n",
    "    guess = input()\n",
    "    toss = random.randint(0, 1) # 0 is tails, 1 is heads\n",
    "    if toss == guess:\n",
    "        print('You got it!')\n",
    "    else:\n",
    "        print('Nope! Guess again!')\n",
    "        guesss = input()\n",
    "        if toss == guess:\n",
    "            print('You got it!')\n",
    "        else:\n",
    "            print('Nope. You are really bad at this game.')"
   ]
  },
  {
   "cell_type": "code",
   "execution_count": 9,
   "metadata": {},
   "outputs": [
    {
     "name": "stdout",
     "output_type": "stream",
     "text": [
      "Guess the coin toss! Enter heads or tails:\n",
      "Nope! Guess again!\n",
      "You got it!\n"
     ]
    }
   ],
   "source": [
    "#Corrected version of the above code:\n",
    "import random\n",
    "\n",
    "guess = \"\"\n",
    "while guess not in (\"heads\", \"tails\"):\n",
    "    print(\"Guess the coin toss! Enter heads or tails:\")\n",
    "    guess = input()\n",
    "    toss = random.randint(0, 1)  # 0 is tails, 1 is heads\n",
    "    toss_dict = {0: \"tails\", 1: \"heads\"}\n",
    "    if toss_dict[toss] == guess:\n",
    "        print(\"You got it!\")\n",
    "    else:\n",
    "        print(\"Nope! Guess again!\")\n",
    "        guess = input()\n",
    "        if toss_dict[toss] == guess:\n",
    "            print(\"You got it!\")\n",
    "        else:\n",
    "            print(\"Nope. You are really bad at this game.\")\n"
   ]
  },
  {
   "cell_type": "code",
   "execution_count": null,
   "metadata": {},
   "outputs": [],
   "source": []
  }
 ],
 "metadata": {
  "interpreter": {
   "hash": "ce44b17c45080b8f56a19c9450d52461d624c968fcd959bb1916985c5ffa2b94"
  },
  "kernelspec": {
   "display_name": "Python 3.8.5 64-bit ('base': conda)",
   "language": "python",
   "name": "python3"
  },
  "language_info": {
   "codemirror_mode": {
    "name": "ipython",
    "version": 3
   },
   "file_extension": ".py",
   "mimetype": "text/x-python",
   "name": "python",
   "nbconvert_exporter": "python",
   "pygments_lexer": "ipython3",
   "version": "3.8.5"
  },
  "orig_nbformat": 4
 },
 "nbformat": 4,
 "nbformat_minor": 2
}
