{
 "cells": [
  {
   "cell_type": "code",
   "execution_count": 1,
   "metadata": {},
   "outputs": [],
   "source": [
    "import json\n",
    "import pandas as pd\n",
    "import os\n",
    "import numpy as np"
   ]
  },
  {
   "cell_type": "code",
   "execution_count": 11,
   "metadata": {},
   "outputs": [],
   "source": [
    "#Authorizing 1st API\n",
    "# Use this to get restricted access to the API\n",
    "import spotipy\n",
    "from spotipy.oauth2 import SpotifyClientCredentials\n",
    "client_id = input(\"Enter your client id: \")\n",
    "client_secret = input(\"Enter your client secret: \")\n",
    "auth_manager = SpotifyClientCredentials(client_id=client_id, client_secret=client_secret)\n",
    "sp = spotipy.Spotify(auth_manager=auth_manager)"
   ]
  },
  {
   "cell_type": "code",
   "execution_count": 4,
   "metadata": {},
   "outputs": [],
   "source": [
    "#Authorizing 2st API\n",
    "# Use this to get full access to the API\n",
    "#You'll need to copy the link from the redirect url\n",
    "import spotipy\n",
    "from spotipy.oauth2 import SpotifyClientCredentials\n",
    "client_id = input(\"Enter your client id: \")\n",
    "client_secret = input(\"Enter your client secret: \")\n",
    "token = spotipy.util.prompt_for_user_token(client_id= client_id, client_secret= client_secret, \n",
    "redirect_uri='http://mysite.com/callback/', scope='user-library-read', username='392uowv8fh00b9ie6ccn9cegs')\n",
    "sp = spotipy.Spotify(auth=token)"
   ]
  },
  {
   "cell_type": "code",
   "execution_count": 19,
   "metadata": {},
   "outputs": [
    {
     "name": "stdout",
     "output_type": "stream",
     "text": [
      "1\n",
      "2\n",
      "3\n",
      "4\n",
      "5\n",
      "6\n",
      "7\n"
     ]
    }
   ],
   "source": [
    "offset = 0\n",
    "songs = []\n",
    "names = []\n",
    "ids = []\n",
    "i=1\n",
    "while True:\n",
    "    content = sp.current_user_saved_tracks(limit = 50, offset=offset)\n",
    "    songs += content['items']\n",
    "    if content['next'] is not None:\n",
    "        print(i)\n",
    "        offset += 50\n",
    "        i+=1\n",
    "    else:\n",
    "        break"
   ]
  },
  {
   "cell_type": "code",
   "execution_count": 9,
   "metadata": {},
   "outputs": [],
   "source": [
    "hindi_uri = ['1QWtxo3TdZcwbem10bG4QL', '4OCMo5AQJJE87EWhftAtKI', '7nI5xtwzTNLbPeNxL0IegX']"
   ]
  },
  {
   "cell_type": "code",
   "execution_count": 2,
   "metadata": {},
   "outputs": [],
   "source": [
    "data = sp.playlist_items(playlist_id=playlist_uri)\n",
    "uri = [data['items'][i]['track']['uri'] for i in range(len(data['items']))]\n",
    "name = [data['items'][i]['track']['name'] for i in range(len(data['items']))]"
   ]
  },
  {
   "cell_type": "code",
   "execution_count": 14,
   "metadata": {},
   "outputs": [
    {
     "name": "stdout",
     "output_type": "stream",
     "text": [
      "1QWtxo3TdZcwbem10bG4QL\n",
      "4OCMo5AQJJE87EWhftAtKI\n",
      "7nI5xtwzTNLbPeNxL0IegX\n"
     ]
    }
   ],
   "source": [
    "uri = []\n",
    "name = []\n",
    "for url in hindi_uri:\n",
    "    print(url)\n",
    "    data = sp.playlist_items(playlist_id=url)\n",
    "    for i in range(len(data['items'])):\n",
    "        uri.append(data['items'][i]['track']['uri'])\n",
    "        name.append(data['items'][i]['track']['name'])"
   ]
  },
  {
   "cell_type": "code",
   "execution_count": 17,
   "metadata": {},
   "outputs": [
    {
     "data": {
      "text/plain": [
       "140"
      ]
     },
     "execution_count": 17,
     "metadata": {},
     "output_type": "execute_result"
    }
   ],
   "source": [
    "len(uri)"
   ]
  },
  {
   "cell_type": "code",
   "execution_count": 10,
   "metadata": {},
   "outputs": [],
   "source": [
    "def get_dataframe(playlist_uri):\n",
    "    \"\"\"\n",
    "    The function assumes that you already have the `sp` object\n",
    "    it takes playlist_uri and returns a dataframe\n",
    "    \"\"\"\n",
    "    data = sp.playlist_items(playlist_id=playlist_uri)\n",
    "    uri = [data['items'][i]['track']['uri'] for i in range(len(data['items']))]\n",
    "    name = [data['items'][i]['track']['name'] for i in range(len(data['items']))]\n",
    "    audio_features = [sp.audio_features(uri[i]) for i in range(len(uri))]\n",
    "    Dancebility = []\n",
    "    Energy = []\n",
    "    Key = []\n",
    "    Loudness = []\n",
    "    Mode = []\n",
    "    Speechiness = []\n",
    "    Acousticness = []\n",
    "    Instrumentalness = []\n",
    "    Liveness = []\n",
    "    Valence = []\n",
    "    Tempo = []\n",
    "    Name = []\n",
    "    for i in range(len(audio_features)):\n",
    "        if audio_features[i][0] is None:\n",
    "            pass\n",
    "        else:\n",
    "            # print(i)\n",
    "            Name.append(name[i])\n",
    "            Dancebility.append(audio_features[i][0]['danceability'])\n",
    "            Energy.append(audio_features[i][0]['energy'])\n",
    "            Key.append(audio_features[i][0]['key'])\n",
    "            Loudness.append(audio_features[i][0]['loudness'])\n",
    "            Mode.append(audio_features[i][0]['mode'])\n",
    "            Speechiness.append(audio_features[i][0]['speechiness'])\n",
    "            Acousticness.append(audio_features[i][0]['acousticness'])\n",
    "            Instrumentalness.append(audio_features[i][0]['instrumentalness'])\n",
    "            Liveness.append(audio_features[i][0]['liveness'])\n",
    "            Valence.append(audio_features[i][0]['valence'])\n",
    "            Tempo.append(audio_features[i][0]['tempo'])\n",
    "    columns = ['name', 'danceability', 'energy', 'key', 'loudness', 'mode', 'speechiness', 'acousticness', 'instrumentalness', 'liveness', 'valence', 'tempo']\n",
    "    df = pd.DataFrame([Name, Dancebility, Energy, Key, Loudness, Mode, Speechiness, Acousticness, Instrumentalness, Liveness, Valence, Tempo]).T\n",
    "    df.columns = columns\n",
    "    return df\n"
   ]
  },
  {
   "cell_type": "code",
   "execution_count": 19,
   "metadata": {},
   "outputs": [],
   "source": [
    "# uri"
   ]
  },
  {
   "cell_type": "code",
   "execution_count": 20,
   "metadata": {},
   "outputs": [
    {
     "name": "stdout",
     "output_type": "stream",
     "text": [
      "0\n",
      "10\n",
      "20\n",
      "30\n",
      "40\n",
      "50\n",
      "60\n",
      "70\n",
      "80\n",
      "90\n",
      "100\n",
      "110\n",
      "120\n",
      "130\n"
     ]
    }
   ],
   "source": [
    "audio_features = [sp.audio_features(uri[i]) for i in range(len(uri))]\n",
    "Dancebility = []\n",
    "Energy = []\n",
    "Key = []\n",
    "Loudness = []\n",
    "Mode = []\n",
    "Speechiness = []\n",
    "Acousticness = []\n",
    "Instrumentalness = []\n",
    "Liveness = []\n",
    "Valence = []\n",
    "Tempo = []\n",
    "Name = []\n",
    "for i in range(len(audio_features)):\n",
    "    if audio_features[i][0] is None:\n",
    "        pass\n",
    "    else:\n",
    "        Name.append(name[i])\n",
    "        Dancebility.append(audio_features[i][0]['danceability'])\n",
    "        Energy.append(audio_features[i][0]['energy'])\n",
    "        Key.append(audio_features[i][0]['key'])\n",
    "        Loudness.append(audio_features[i][0]['loudness'])\n",
    "        Mode.append(audio_features[i][0]['mode'])\n",
    "        Speechiness.append(audio_features[i][0]['speechiness'])\n",
    "        Acousticness.append(audio_features[i][0]['acousticness'])\n",
    "        Instrumentalness.append(audio_features[i][0]['instrumentalness'])\n",
    "        Liveness.append(audio_features[i][0]['liveness'])\n",
    "        Valence.append(audio_features[i][0]['valence'])\n",
    "        Tempo.append(audio_features[i][0]['tempo'])\n",
    "    if i%10==0:\n",
    "        print(i)\n",
    "columns = ['name', 'danceability', 'energy', 'key', 'loudness', 'mode', 'speechiness', 'acousticness', 'instrumentalness', 'liveness', 'valence', 'tempo']\n",
    "df = pd.DataFrame([Name, Dancebility, Energy, Key, Loudness, Mode, Speechiness, Acousticness, Instrumentalness, Liveness, Valence, Tempo]).T\n",
    "df.columns = columns\n"
   ]
  },
  {
   "cell_type": "code",
   "execution_count": 22,
   "metadata": {},
   "outputs": [],
   "source": [
    "df['uri'] = uri"
   ]
  },
  {
   "cell_type": "code",
   "execution_count": 24,
   "metadata": {},
   "outputs": [],
   "source": [
    "df.to_csv('hindi.csv', index=False)"
   ]
  },
  {
   "cell_type": "code",
   "execution_count": 10,
   "metadata": {},
   "outputs": [],
   "source": [
    "# df1.head()"
   ]
  },
  {
   "cell_type": "code",
   "execution_count": 36,
   "metadata": {},
   "outputs": [
    {
     "data": {
      "text/plain": [
       "(100, 74)"
      ]
     },
     "execution_count": 36,
     "metadata": {},
     "output_type": "execute_result"
    }
   ],
   "source": [
    "len(df1), len(df2)"
   ]
  },
  {
   "cell_type": "code",
   "execution_count": 37,
   "metadata": {},
   "outputs": [],
   "source": [
    "df = pd.concat([df1, df2], axis=0)"
   ]
  },
  {
   "cell_type": "code",
   "execution_count": 38,
   "metadata": {},
   "outputs": [],
   "source": [
    "df.drop_duplicates(subset=['name'], keep='first', inplace=True)"
   ]
  },
  {
   "cell_type": "code",
   "execution_count": 39,
   "metadata": {},
   "outputs": [
    {
     "data": {
      "text/plain": [
       "106"
      ]
     },
     "execution_count": 39,
     "metadata": {},
     "output_type": "execute_result"
    }
   ],
   "source": [
    "len(df)"
   ]
  },
  {
   "cell_type": "code",
   "execution_count": 20,
   "metadata": {},
   "outputs": [
    {
     "data": {
      "text/html": [
       "<div>\n",
       "<style scoped>\n",
       "    .dataframe tbody tr th:only-of-type {\n",
       "        vertical-align: middle;\n",
       "    }\n",
       "\n",
       "    .dataframe tbody tr th {\n",
       "        vertical-align: top;\n",
       "    }\n",
       "\n",
       "    .dataframe thead th {\n",
       "        text-align: right;\n",
       "    }\n",
       "</style>\n",
       "<table border=\"1\" class=\"dataframe\">\n",
       "  <thead>\n",
       "    <tr style=\"text-align: right;\">\n",
       "      <th></th>\n",
       "      <th>name</th>\n",
       "      <th>danceability</th>\n",
       "      <th>energy</th>\n",
       "      <th>key</th>\n",
       "      <th>loudness</th>\n",
       "      <th>mode</th>\n",
       "      <th>speechiness</th>\n",
       "      <th>acousticness</th>\n",
       "      <th>instrumentalness</th>\n",
       "      <th>liveness</th>\n",
       "      <th>valence</th>\n",
       "      <th>tempo</th>\n",
       "    </tr>\n",
       "  </thead>\n",
       "  <tbody>\n",
       "    <tr>\n",
       "      <th>0</th>\n",
       "      <td>willow</td>\n",
       "      <td>0.392</td>\n",
       "      <td>0.574</td>\n",
       "      <td>7</td>\n",
       "      <td>-9.195</td>\n",
       "      <td>1</td>\n",
       "      <td>0.1700</td>\n",
       "      <td>0.83300</td>\n",
       "      <td>0.001790</td>\n",
       "      <td>0.1450</td>\n",
       "      <td>0.529</td>\n",
       "      <td>81.112</td>\n",
       "    </tr>\n",
       "    <tr>\n",
       "      <th>1</th>\n",
       "      <td>exile (feat. Bon Iver)</td>\n",
       "      <td>0.298</td>\n",
       "      <td>0.380</td>\n",
       "      <td>6</td>\n",
       "      <td>-8.426</td>\n",
       "      <td>1</td>\n",
       "      <td>0.0287</td>\n",
       "      <td>0.77800</td>\n",
       "      <td>0.000056</td>\n",
       "      <td>0.1100</td>\n",
       "      <td>0.152</td>\n",
       "      <td>75.602</td>\n",
       "    </tr>\n",
       "    <tr>\n",
       "      <th>2</th>\n",
       "      <td>august</td>\n",
       "      <td>0.532</td>\n",
       "      <td>0.623</td>\n",
       "      <td>5</td>\n",
       "      <td>-9.208</td>\n",
       "      <td>1</td>\n",
       "      <td>0.0331</td>\n",
       "      <td>0.53800</td>\n",
       "      <td>0.000073</td>\n",
       "      <td>0.0925</td>\n",
       "      <td>0.403</td>\n",
       "      <td>89.937</td>\n",
       "    </tr>\n",
       "    <tr>\n",
       "      <th>3</th>\n",
       "      <td>You All Over Me (feat. Maren Morris) (Taylor’s...</td>\n",
       "      <td>0.589</td>\n",
       "      <td>0.496</td>\n",
       "      <td>2</td>\n",
       "      <td>-7.606</td>\n",
       "      <td>1</td>\n",
       "      <td>0.0377</td>\n",
       "      <td>0.81800</td>\n",
       "      <td>0.000000</td>\n",
       "      <td>0.1010</td>\n",
       "      <td>0.440</td>\n",
       "      <td>142.731</td>\n",
       "    </tr>\n",
       "    <tr>\n",
       "      <th>4</th>\n",
       "      <td>evermore (feat. Bon Iver)</td>\n",
       "      <td>0.390</td>\n",
       "      <td>0.270</td>\n",
       "      <td>1</td>\n",
       "      <td>-10.673</td>\n",
       "      <td>1</td>\n",
       "      <td>0.0308</td>\n",
       "      <td>0.93700</td>\n",
       "      <td>0.002270</td>\n",
       "      <td>0.1110</td>\n",
       "      <td>0.320</td>\n",
       "      <td>125.177</td>\n",
       "    </tr>\n",
       "    <tr>\n",
       "      <th>...</th>\n",
       "      <td>...</td>\n",
       "      <td>...</td>\n",
       "      <td>...</td>\n",
       "      <td>...</td>\n",
       "      <td>...</td>\n",
       "      <td>...</td>\n",
       "      <td>...</td>\n",
       "      <td>...</td>\n",
       "      <td>...</td>\n",
       "      <td>...</td>\n",
       "      <td>...</td>\n",
       "      <td>...</td>\n",
       "    </tr>\n",
       "    <tr>\n",
       "      <th>69</th>\n",
       "      <td>All Too Well (10 Minute Version) (Taylor's Ver...</td>\n",
       "      <td>0.631</td>\n",
       "      <td>0.518</td>\n",
       "      <td>0</td>\n",
       "      <td>-8.771</td>\n",
       "      <td>1</td>\n",
       "      <td>0.0303</td>\n",
       "      <td>0.27400</td>\n",
       "      <td>0.000000</td>\n",
       "      <td>0.0880</td>\n",
       "      <td>0.205</td>\n",
       "      <td>93.023</td>\n",
       "    </tr>\n",
       "    <tr>\n",
       "      <th>70</th>\n",
       "      <td>Run (feat. Ed Sheeran) (Taylor’s Version) (Fro...</td>\n",
       "      <td>0.610</td>\n",
       "      <td>0.488</td>\n",
       "      <td>3</td>\n",
       "      <td>-6.918</td>\n",
       "      <td>1</td>\n",
       "      <td>0.0293</td>\n",
       "      <td>0.81700</td>\n",
       "      <td>0.000000</td>\n",
       "      <td>0.3120</td>\n",
       "      <td>0.443</td>\n",
       "      <td>125.039</td>\n",
       "    </tr>\n",
       "    <tr>\n",
       "      <th>71</th>\n",
       "      <td>Everything Has Changed (feat. Ed Sheeran) (Tay...</td>\n",
       "      <td>0.498</td>\n",
       "      <td>0.610</td>\n",
       "      <td>6</td>\n",
       "      <td>-5.098</td>\n",
       "      <td>1</td>\n",
       "      <td>0.0363</td>\n",
       "      <td>0.27100</td>\n",
       "      <td>0.000000</td>\n",
       "      <td>0.2230</td>\n",
       "      <td>0.474</td>\n",
       "      <td>79.918</td>\n",
       "    </tr>\n",
       "    <tr>\n",
       "      <th>72</th>\n",
       "      <td>Overpass Graffiti</td>\n",
       "      <td>0.520</td>\n",
       "      <td>0.849</td>\n",
       "      <td>9</td>\n",
       "      <td>-3.794</td>\n",
       "      <td>0</td>\n",
       "      <td>0.1860</td>\n",
       "      <td>0.00253</td>\n",
       "      <td>0.000000</td>\n",
       "      <td>0.1190</td>\n",
       "      <td>0.774</td>\n",
       "      <td>175.908</td>\n",
       "    </tr>\n",
       "    <tr>\n",
       "      <th>73</th>\n",
       "      <td>Begin Again (Taylor's Version)</td>\n",
       "      <td>0.519</td>\n",
       "      <td>0.527</td>\n",
       "      <td>7</td>\n",
       "      <td>-7.673</td>\n",
       "      <td>1</td>\n",
       "      <td>0.0274</td>\n",
       "      <td>0.07500</td>\n",
       "      <td>0.000000</td>\n",
       "      <td>0.1320</td>\n",
       "      <td>0.267</td>\n",
       "      <td>78.915</td>\n",
       "    </tr>\n",
       "  </tbody>\n",
       "</table>\n",
       "<p>102 rows × 12 columns</p>\n",
       "</div>"
      ],
      "text/plain": [
       "                                                 name  danceability  energy  \\\n",
       "0                                              willow         0.392   0.574   \n",
       "1                              exile (feat. Bon Iver)         0.298   0.380   \n",
       "2                                              august         0.532   0.623   \n",
       "3   You All Over Me (feat. Maren Morris) (Taylor’s...         0.589   0.496   \n",
       "4                           evermore (feat. Bon Iver)         0.390   0.270   \n",
       "..                                                ...           ...     ...   \n",
       "69  All Too Well (10 Minute Version) (Taylor's Ver...         0.631   0.518   \n",
       "70  Run (feat. Ed Sheeran) (Taylor’s Version) (Fro...         0.610   0.488   \n",
       "71  Everything Has Changed (feat. Ed Sheeran) (Tay...         0.498   0.610   \n",
       "72                                  Overpass Graffiti         0.520   0.849   \n",
       "73                     Begin Again (Taylor's Version)         0.519   0.527   \n",
       "\n",
       "    key  loudness  mode  speechiness  acousticness  instrumentalness  \\\n",
       "0     7    -9.195     1       0.1700       0.83300          0.001790   \n",
       "1     6    -8.426     1       0.0287       0.77800          0.000056   \n",
       "2     5    -9.208     1       0.0331       0.53800          0.000073   \n",
       "3     2    -7.606     1       0.0377       0.81800          0.000000   \n",
       "4     1   -10.673     1       0.0308       0.93700          0.002270   \n",
       "..  ...       ...   ...          ...           ...               ...   \n",
       "69    0    -8.771     1       0.0303       0.27400          0.000000   \n",
       "70    3    -6.918     1       0.0293       0.81700          0.000000   \n",
       "71    6    -5.098     1       0.0363       0.27100          0.000000   \n",
       "72    9    -3.794     0       0.1860       0.00253          0.000000   \n",
       "73    7    -7.673     1       0.0274       0.07500          0.000000   \n",
       "\n",
       "    liveness  valence    tempo  \n",
       "0     0.1450    0.529   81.112  \n",
       "1     0.1100    0.152   75.602  \n",
       "2     0.0925    0.403   89.937  \n",
       "3     0.1010    0.440  142.731  \n",
       "4     0.1110    0.320  125.177  \n",
       "..       ...      ...      ...  \n",
       "69    0.0880    0.205   93.023  \n",
       "70    0.3120    0.443  125.039  \n",
       "71    0.2230    0.474   79.918  \n",
       "72    0.1190    0.774  175.908  \n",
       "73    0.1320    0.267   78.915  \n",
       "\n",
       "[102 rows x 12 columns]"
      ]
     },
     "execution_count": 20,
     "metadata": {},
     "output_type": "execute_result"
    }
   ],
   "source": [
    "df"
   ]
  },
  {
   "cell_type": "code",
   "execution_count": 22,
   "metadata": {},
   "outputs": [],
   "source": [
    "songs1 = list(df1['name'])\n",
    "songs2 = list(df2['name'])\n",
    "\n"
   ]
  },
  {
   "cell_type": "code",
   "execution_count": 23,
   "metadata": {},
   "outputs": [],
   "source": [
    "songs = songs1 + songs2"
   ]
  },
  {
   "cell_type": "code",
   "execution_count": 25,
   "metadata": {},
   "outputs": [
    {
     "data": {
      "text/plain": [
       "170"
      ]
     },
     "execution_count": 25,
     "metadata": {},
     "output_type": "execute_result"
    }
   ],
   "source": [
    "len(songs)"
   ]
  },
  {
   "cell_type": "code",
   "execution_count": 26,
   "metadata": {},
   "outputs": [
    {
     "data": {
      "text/plain": [
       "102"
      ]
     },
     "execution_count": 26,
     "metadata": {},
     "output_type": "execute_result"
    }
   ],
   "source": [
    "len(set(songs))"
   ]
  },
  {
   "cell_type": "code",
   "execution_count": 30,
   "metadata": {},
   "outputs": [],
   "source": [
    "songs1.sort()\n",
    "songs2.sort()\n",
    "songs_zip = zip(songs1, songs2)"
   ]
  },
  {
   "cell_type": "code",
   "execution_count": 34,
   "metadata": {},
   "outputs": [
    {
     "data": {
      "text/plain": [
       "96"
      ]
     },
     "execution_count": 34,
     "metadata": {},
     "output_type": "execute_result"
    }
   ],
   "source": [
    "len(songs1)"
   ]
  },
  {
   "cell_type": "code",
   "execution_count": 33,
   "metadata": {},
   "outputs": [
    {
     "data": {
      "text/plain": [
       "['A Thousand Years',\n",
       " 'A Whole New World',\n",
       " 'Afterglow',\n",
       " 'All Too Well',\n",
       " \"All Too Well (10 Minute Version) (Taylor's Version) (From The Vault)\",\n",
       " 'Always Remember Us This Way',\n",
       " 'Anyone',\n",
       " 'Bad Habits',\n",
       " 'Beauty and the Beast - from the Soundtrack \"Beauty and the Beast\"',\n",
       " 'Because You Loved Me (Theme from \"Up Close and Personal\")',\n",
       " \"Begin Again (Taylor's Version)\",\n",
       " 'Blank Space',\n",
       " 'Bluebird',\n",
       " 'Criminal',\n",
       " 'Darkside',\n",
       " 'Delicate',\n",
       " \"Don't Go Yet\",\n",
       " \"Don't Start Now\",\n",
       " 'Enchanted',\n",
       " 'Everything Has Changed (feat. Ed Sheeran) (Taylor’s Version)',\n",
       " 'Faded',\n",
       " 'Fake A Smile',\n",
       " 'Happier Than Ever',\n",
       " 'How Does A Moment Last Forever',\n",
       " 'I See the Light - From \"Tangled\" / Soundtrack Version',\n",
       " 'I Surrender',\n",
       " \"I Won't Say (I'm In Love)\",\n",
       " \"I'll Never Love Again - Extended Version\",\n",
       " \"I'm Alive\",\n",
       " \"It's All Coming Back to Me Now\",\n",
       " 'Let It Go - From \"Frozen\"/Soundtrack Version',\n",
       " \"Let's Talk About Love\",\n",
       " 'Levitating',\n",
       " 'Living Proof',\n",
       " 'Lost You',\n",
       " 'Love In The Dark',\n",
       " 'Lover',\n",
       " 'Mercy',\n",
       " 'Million To One - from the Amazon Original Movie \"Cinderella\"',\n",
       " 'My Heart Will Go On - Love Theme from \"Titanic\"',\n",
       " 'Oops!...I Did It Again',\n",
       " 'Our Song',\n",
       " 'Overpass Graffiti',\n",
       " 'Perfect',\n",
       " 'Red',\n",
       " 'Right In Front of You',\n",
       " 'Run (feat. Ed Sheeran) (Taylor’s Version) (From The Vault)',\n",
       " 'Settling Down',\n",
       " 'Señorita',\n",
       " 'Shallow - Radio Edit',\n",
       " 'Shameless',\n",
       " 'Shape of You',\n",
       " 'Style',\n",
       " 'Teardrops On My Guitar - Radio Single Remix',\n",
       " 'Tenerife Sea',\n",
       " 'That’s When (feat. Keith Urban) (Taylor’s Version) (From The Vault)',\n",
       " 'The Bones',\n",
       " 'The Bones - with Hozier',\n",
       " 'The Power of Love',\n",
       " \"There's Nothing Holdin' Me Back\",\n",
       " 'Tim McGraw',\n",
       " 'Toxic',\n",
       " 'Untouchable (Taylor’s Version)',\n",
       " 'Watermelon Sugar',\n",
       " 'Where Does My Heart Beat Now',\n",
       " 'Where Were You In The Morning?',\n",
       " 'Wolves',\n",
       " 'You All Over Me (feat. Maren Morris) (Taylor’s Version) (From The Vault)',\n",
       " 'Your Power',\n",
       " 'august',\n",
       " 'champagne problems',\n",
       " 'evermore (feat. Bon Iver)',\n",
       " 'exile (feat. Bon Iver)',\n",
       " 'willow']"
      ]
     },
     "execution_count": 33,
     "metadata": {},
     "output_type": "execute_result"
    }
   ],
   "source": [
    "songs2"
   ]
  },
  {
   "cell_type": "code",
   "execution_count": null,
   "metadata": {},
   "outputs": [],
   "source": []
  }
 ],
 "metadata": {
  "interpreter": {
   "hash": "ce44b17c45080b8f56a19c9450d52461d624c968fcd959bb1916985c5ffa2b94"
  },
  "kernelspec": {
   "display_name": "Python 3.8.5 64-bit ('base': conda)",
   "language": "python",
   "name": "python3"
  },
  "language_info": {
   "codemirror_mode": {
    "name": "ipython",
    "version": 3
   },
   "file_extension": ".py",
   "mimetype": "text/x-python",
   "name": "python",
   "nbconvert_exporter": "python",
   "pygments_lexer": "ipython3",
   "version": "3.8.5"
  },
  "orig_nbformat": 4
 },
 "nbformat": 4,
 "nbformat_minor": 2
}
