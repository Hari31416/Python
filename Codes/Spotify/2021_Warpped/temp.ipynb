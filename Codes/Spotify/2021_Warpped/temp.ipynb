{
 "cells": [
  {
   "cell_type": "code",
   "execution_count": 1,
   "metadata": {},
   "outputs": [],
   "source": [
    "import json\n",
    "import pandas as pd\n",
    "import os\n",
    "import numpy as np"
   ]
  },
  {
   "cell_type": "code",
   "execution_count": 11,
   "metadata": {},
   "outputs": [],
   "source": [
    "#Authorizing 1st API\n",
    "# Use this to get restricted access to the API\n",
    "import spotipy\n",
    "from spotipy.oauth2 import SpotifyClientCredentials\n",
    "client_id = input(\"Enter your client id: \")\n",
    "client_secret = input(\"Enter your client secret: \")\n",
    "auth_manager = SpotifyClientCredentials(client_id=client_id, client_secret=client_secret)\n",
    "sp = spotipy.Spotify(auth_manager=auth_manager)"
   ]
  },
  {
   "cell_type": "code",
   "execution_count": 4,
   "metadata": {},
   "outputs": [],
   "source": [
    "#Authorizing 2st API\n",
    "# Use this to get full access to the API\n",
    "#You'll need to copy the link from the redirect url\n",
    "import spotipy\n",
    "from spotipy.oauth2 import SpotifyClientCredentials\n",
    "client_id = input(\"Enter your client id: \")\n",
    "client_secret = input(\"Enter your client secret: \")\n",
    "token = spotipy.util.prompt_for_user_token(client_id= client_id, client_secret= client_secret, \n",
    "redirect_uri='http://mysite.com/callback/', scope='user-library-read', username='392uowv8fh00b9ie6ccn9cegs')\n",
    "sp = spotipy.Spotify(auth=token)"
   ]
  },
  {
   "cell_type": "code",
   "execution_count": 19,
   "metadata": {},
   "outputs": [
    {
     "name": "stdout",
     "output_type": "stream",
     "text": [
      "1\n",
      "2\n",
      "3\n",
      "4\n",
      "5\n",
      "6\n",
      "7\n"
     ]
    }
   ],
   "source": [
    "offset = 0\n",
    "songs = []\n",
    "names = []\n",
    "ids = []\n",
    "i=1\n",
    "while True:\n",
    "    content = sp.current_user_saved_tracks(limit = 50, offset=offset)\n",
    "    songs += content['items']\n",
    "    if content['next'] is not None:\n",
    "        print(i)\n",
    "        offset += 50\n",
    "        i+=1\n",
    "    else:\n",
    "        break"
   ]
  },
  {
   "cell_type": "code",
   "execution_count": 10,
   "metadata": {},
   "outputs": [],
   "source": [
    "def get_dataframe(playlist_uri):\n",
    "    \"\"\"\n",
    "    The function assumes that you already have the `sp` object\n",
    "    it takes playlist_uri and returns a dataframe\n",
    "    \"\"\"\n",
    "    data = sp.playlist_items(playlist_id=playlist_uri)\n",
    "    uri = [data['items'][i]['track']['uri'] for i in range(len(data['items']))]\n",
    "    name = [data['items'][i]['track']['name'] for i in range(len(data['items']))]\n",
    "    audio_features = [sp.audio_features(uri[i]) for i in range(len(uri))]\n",
    "    Dancebility = []\n",
    "    Energy = []\n",
    "    Key = []\n",
    "    Loudness = []\n",
    "    Mode = []\n",
    "    Speechiness = []\n",
    "    Acousticness = []\n",
    "    Instrumentalness = []\n",
    "    Liveness = []\n",
    "    Valence = []\n",
    "    Tempo = []\n",
    "    Name = []\n",
    "    for i in range(len(audio_features)):\n",
    "        if audio_features[i][0] is None:\n",
    "            pass\n",
    "        else:\n",
    "            # print(i)\n",
    "            Name.append(name[i])\n",
    "            Dancebility.append(audio_features[i][0]['danceability'])\n",
    "            Energy.append(audio_features[i][0]['energy'])\n",
    "            Key.append(audio_features[i][0]['key'])\n",
    "            Loudness.append(audio_features[i][0]['loudness'])\n",
    "            Mode.append(audio_features[i][0]['mode'])\n",
    "            Speechiness.append(audio_features[i][0]['speechiness'])\n",
    "            Acousticness.append(audio_features[i][0]['acousticness'])\n",
    "            Instrumentalness.append(audio_features[i][0]['instrumentalness'])\n",
    "            Liveness.append(audio_features[i][0]['liveness'])\n",
    "            Valence.append(audio_features[i][0]['valence'])\n",
    "            Tempo.append(audio_features[i][0]['tempo'])\n",
    "    columns = ['name', 'danceability', 'energy', 'key', 'loudness', 'mode', 'speechiness', 'acousticness', 'instrumentalness', 'liveness', 'valence', 'tempo']\n",
    "    df = pd.DataFrame([Name, Dancebility, Energy, Key, Loudness, Mode, Speechiness, Acousticness, Instrumentalness, Liveness, Valence, Tempo]).T\n",
    "    df.columns = columns\n",
    "    return df\n"
   ]
  },
  {
   "cell_type": "code",
   "execution_count": 17,
   "metadata": {},
   "outputs": [],
   "source": [
    "def get_grade():\n",
    "    grade_dict = {\n",
    "        'a': 10,\n",
    "        'a-': 9,\n",
    "        'b' : 8,\n",
    "        'b-' : 7,\n",
    "        'c' : 6,\n",
    "        'c-' : 5,\n",
    "        'd' : 4,\n",
    "        'e' : 2,\n",
    "        'f' : 0\n",
    "    }\n",
    "    CM = input(\"Enter your Classical Mechanics Grade: \").lower()\n",
    "    MP = input(\"Enter your Mathematical Physics Grade: \").lower()\n",
    "    QM = input(\"Enter your Quantum Mechanics Grade: \").lower()\n",
    "    E = input(\"Enter your Electronics Grade: \").lower()\n",
    "    P = input(\"Enter your Lab Grade: \").lower()\n",
    "    CM_grade = grade_dict[CM]\n",
    "    MP_grade = grade_dict[MP]\n",
    "    QM_grade = grade_dict[QM]\n",
    "    E_grade = grade_dict[E]\n",
    "    P_grade = grade_dict[P]\n",
    "    total_grade = (CM_grade + MP_grade + QM_grade + E_grade + P_grade)*4\n",
    "    grade = round(total_grade/20,2)\n",
    "    return f\"Your Average Grade Point is: {grade}\""
   ]
  },
  {
   "cell_type": "code",
   "execution_count": 18,
   "metadata": {},
   "outputs": [
    {
     "data": {
      "text/plain": [
       "'Your Average Grade Point is: 9.0'"
      ]
     },
     "execution_count": 18,
     "metadata": {},
     "output_type": "execute_result"
    }
   ],
   "source": [
    "get_grade()"
   ]
  },
  {
   "cell_type": "code",
   "execution_count": 38,
   "metadata": {},
   "outputs": [],
   "source": [
    "def get_grade_2():\n",
    "    grade_dict = {\n",
    "        'a': 10,\n",
    "        'a-': 9,\n",
    "        'b' : 8,\n",
    "        'b-' : 7,\n",
    "        'c' : 6,\n",
    "        'c-' : 5,\n",
    "        'd' : 4,\n",
    "        'e' : 2,\n",
    "        'f' : 0\n",
    "    }\n",
    "    sum_grade = 0\n",
    "    subjects = ['Classical Mechanics', 'Mathematical Physics', \n",
    "    'Quantum Mechanics', 'Electronics', 'Lab']\n",
    "    for subject in subjects:\n",
    "        while True:\n",
    "            subject_grade = input(f\"Enter your {subject} Grade: \\nPress 'Q' anytime to escape!\").lower()\n",
    "            if subject_grade == 'q':\n",
    "                print(\"Exiting!\")\n",
    "                return None\n",
    "            if subject_grade in grade_dict.keys():\n",
    "                num_grade = grade_dict[subject_grade]\n",
    "                sum_grade+=num_grade\n",
    "                break\n",
    "            else:\n",
    "                print(\"Please provide a valid grade.\")\n",
    "                print(f\"Valid grades are: {', '.join(grade_dict.keys()).upper()}\")\n",
    "    total_grade = sum_grade/len(subjects)\n",
    "    grade = round(total_grade,2)\n",
    "    return f\"Your Average Grade Point is: {grade}\""
   ]
  },
  {
   "cell_type": "code",
   "execution_count": 39,
   "metadata": {},
   "outputs": [
    {
     "data": {
      "text/plain": [
       "'Your Average Grade Point is: 9.0'"
      ]
     },
     "execution_count": 39,
     "metadata": {},
     "output_type": "execute_result"
    }
   ],
   "source": [
    "get_grade_2()"
   ]
  },
  {
   "cell_type": "code",
   "execution_count": null,
   "metadata": {},
   "outputs": [],
   "source": []
  }
 ],
 "metadata": {
  "interpreter": {
   "hash": "ce44b17c45080b8f56a19c9450d52461d624c968fcd959bb1916985c5ffa2b94"
  },
  "kernelspec": {
   "display_name": "Python 3.8.5 64-bit ('base': conda)",
   "language": "python",
   "name": "python3"
  },
  "language_info": {
   "codemirror_mode": {
    "name": "ipython",
    "version": 3
   },
   "file_extension": ".py",
   "mimetype": "text/x-python",
   "name": "python",
   "nbconvert_exporter": "python",
   "pygments_lexer": "ipython3",
   "version": "3.8.5"
  },
  "orig_nbformat": 4
 },
 "nbformat": 4,
 "nbformat_minor": 2
}
