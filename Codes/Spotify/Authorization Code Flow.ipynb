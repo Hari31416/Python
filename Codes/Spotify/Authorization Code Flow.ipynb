{
 "cells": [
  {
   "cell_type": "code",
   "execution_count": null,
   "metadata": {},
   "outputs": [],
   "source": [
    "import json\n",
    "import pandas as pd\n",
    "import os\n",
    "import numpy as np"
   ]
  },
  {
   "cell_type": "code",
   "execution_count": null,
   "metadata": {},
   "outputs": [],
   "source": [
    "#Authorizing 1st API\n",
    "# Use this to get restricted access to the API\n",
    "import spotipy\n",
    "from spotipy.oauth2 import SpotifyClientCredentials\n",
    "client_id = input(\"Enter your client id: \")\n",
    "client_secret = input(\"Enter your client secret: \")\n",
    "auth_manager = SpotifyClientCredentials(client_id=client_id, client_secret=client_secret)\n",
    "sp = spotipy.Spotify(auth_manager=auth_manager)"
   ]
  },
  {
   "cell_type": "code",
   "execution_count": null,
   "metadata": {},
   "outputs": [],
   "source": [
    "#Authorizing 2st API\n",
    "# Use this to get full access to the API\n",
    "#You'll need to copy the link from the redirect url\n",
    "lient_id = input(\"Enter your client id: \")\n",
    "client_secret = input(\"Enter your client secret: \")\n",
    "token = spotipy.util.prompt_for_user_token(client_id, client_secret, redirect_uri='http://mysite.com/callback/')\n",
    "sp = spotipy.Spotify(auth=token)"
   ]
  },
  {
   "cell_type": "code",
   "execution_count": null,
   "metadata": {},
   "outputs": [],
   "source": [
    "my_2021 = sp.playlist_items(playlist_id='37i9dQZF1EUMDoJuT8yJsl')"
   ]
  },
  {
   "cell_type": "code",
   "execution_count": null,
   "metadata": {},
   "outputs": [],
   "source": [
    "uri = [my_2021['items'][i]['track']['uri'] for i in range(len(my_2021['items']))]"
   ]
  },
  {
   "cell_type": "code",
   "execution_count": null,
   "metadata": {},
   "outputs": [],
   "source": [
    "name = [my_2021['items'][i]['track']['name'] for i in range(len(my_2021['items']))]"
   ]
  },
  {
   "cell_type": "code",
   "execution_count": null,
   "metadata": {},
   "outputs": [],
   "source": [
    "uri"
   ]
  },
  {
   "cell_type": "code",
   "execution_count": null,
   "metadata": {},
   "outputs": [],
   "source": [
    "data = [sp.audio_features(uri[i]) for i in range(len(uri))]"
   ]
  },
  {
   "cell_type": "code",
   "execution_count": null,
   "metadata": {},
   "outputs": [],
   "source": [
    "len(data)"
   ]
  },
  {
   "cell_type": "code",
   "execution_count": null,
   "metadata": {},
   "outputs": [],
   "source": [
    "columns = ['name', 'danceability', 'energy', 'key', 'loudness', 'mode', 'speechiness', 'acousticness', 'instrumentalness', 'liveness', 'valence', 'tempo']"
   ]
  },
  {
   "cell_type": "code",
   "execution_count": null,
   "metadata": {},
   "outputs": [],
   "source": [
    "Dancebility = []\n",
    "Energy = []\n",
    "Key = []\n",
    "Loudness = []\n",
    "Mode = []\n",
    "Speechiness = []\n",
    "Acousticness = []\n",
    "Instrumentalness = []\n",
    "Liveness = []\n",
    "Valence = []\n",
    "Tempo = []\n",
    "Name = []\n",
    "for i in range(len(data)):\n",
    "    if data[i][0] is None:\n",
    "        pass\n",
    "    else:\n",
    "        # print(i)\n",
    "        Name.append(name[i])\n",
    "        Dancebility.append(data[i][0]['danceability'])\n",
    "        Energy.append(data[i][0]['energy'])\n",
    "        Key.append(data[i][0]['key'])\n",
    "        Loudness.append(data[i][0]['loudness'])\n",
    "        Mode.append(data[i][0]['mode'])\n",
    "        Speechiness.append(data[i][0]['speechiness'])\n",
    "        Acousticness.append(data[i][0]['acousticness'])\n",
    "        Instrumentalness.append(data[i][0]['instrumentalness'])\n",
    "        Liveness.append(data[i][0]['liveness'])\n",
    "        Valence.append(data[i][0]['valence'])\n",
    "        Tempo.append(data[i][0]['tempo'])"
   ]
  },
  {
   "cell_type": "code",
   "execution_count": null,
   "metadata": {},
   "outputs": [],
   "source": [
    "df = pd.DataFrame([Name, Dancebility, Energy, Key, Loudness, Mode, Speechiness, Acousticness, Instrumentalness, Liveness, Valence, Tempo]).T\n",
    "df.columns = columns"
   ]
  },
  {
   "cell_type": "code",
   "execution_count": null,
   "metadata": {},
   "outputs": [],
   "source": [
    "df['key']"
   ]
  },
  {
   "cell_type": "code",
   "execution_count": null,
   "metadata": {},
   "outputs": [],
   "source": [
    "df.to_csv('2021_data.csv', index=False)"
   ]
  },
  {
   "cell_type": "code",
   "execution_count": null,
   "metadata": {},
   "outputs": [],
   "source": [
    "df_nums = df.drop(['name'], axis=1)\n",
    "df_name = df['name'].values"
   ]
  },
  {
   "cell_type": "code",
   "execution_count": null,
   "metadata": {},
   "outputs": [],
   "source": []
  },
  {
   "cell_type": "code",
   "execution_count": null,
   "metadata": {},
   "outputs": [],
   "source": [
    "from sklearn.preprocessing import StandardScaler\n",
    "scalar = StandardScaler()\n",
    "df_nums_trans = scalar.fit_transform(df_nums)"
   ]
  },
  {
   "cell_type": "code",
   "execution_count": null,
   "metadata": {},
   "outputs": [],
   "source": [
    "names = pd.DataFrame(df_name)"
   ]
  },
  {
   "cell_type": "code",
   "execution_count": null,
   "metadata": {},
   "outputs": [],
   "source": [
    "nums = pd.DataFrame(df_nums_trans)"
   ]
  },
  {
   "cell_type": "code",
   "execution_count": null,
   "metadata": {},
   "outputs": [],
   "source": [
    "names"
   ]
  },
  {
   "cell_type": "code",
   "execution_count": null,
   "metadata": {},
   "outputs": [],
   "source": [
    "nums"
   ]
  },
  {
   "cell_type": "code",
   "execution_count": null,
   "metadata": {},
   "outputs": [],
   "source": [
    "data_final = pd.concat([names, nums], axis=1)\n",
    "data_final.columns = columns"
   ]
  },
  {
   "cell_type": "code",
   "execution_count": null,
   "metadata": {},
   "outputs": [],
   "source": [
    "data_final.to_csv('data_final.csv', index = False)"
   ]
  },
  {
   "cell_type": "code",
   "execution_count": null,
   "metadata": {},
   "outputs": [],
   "source": [
    "data_final = pd.read_csv('data_final.csv')"
   ]
  },
  {
   "cell_type": "code",
   "execution_count": null,
   "metadata": {},
   "outputs": [],
   "source": [
    "'willow'.split(\"(\")"
   ]
  },
  {
   "cell_type": "code",
   "execution_count": null,
   "metadata": {},
   "outputs": [],
   "source": [
    "name = 'You All Over Me (feat. Maren Morris) (Taylor’s Version) (From The Vault)'\n",
    "def clean_name(name):\n",
    "    if len(name.split(')'))-1:\n",
    "        new_name =  name.split(')')[0]+\")\"\n",
    "    else:\n",
    "        new_name =  name\n",
    "    return new_name.split('-')[0].strip()\n",
    "clean_name('wiilow')"
   ]
  },
  {
   "cell_type": "code",
   "execution_count": null,
   "metadata": {},
   "outputs": [],
   "source": [
    "data_final['name'] = data_final['name'].apply(clean_name)"
   ]
  },
  {
   "cell_type": "code",
   "execution_count": null,
   "metadata": {},
   "outputs": [],
   "source": [
    "columns"
   ]
  },
  {
   "cell_type": "code",
   "execution_count": null,
   "metadata": {},
   "outputs": [],
   "source": [
    "import seaborn as sns\n",
    "import matplotlib.pyplot as plt"
   ]
  },
  {
   "cell_type": "code",
   "execution_count": null,
   "metadata": {},
   "outputs": [],
   "source": [
    "def plot_trait(trait, data):\n",
    "    plt.figure(figsize=(12,20))\n",
    "    sns.barplot(y='name', x=trait, data=data.sort_values(by=trait, ascending=False))\n",
    "    plt.ylabel('Song Name')\n",
    "    plt.title(f'{trait.title()} Bar Plot', fontdict={'fontsize': 20})\n",
    "    plt.xticks(rotation=90);\n",
    "    print(f'Saving {trait} Bar Plot')\n",
    "    plt.tight_layout()\n",
    "    # plt.savefig(f'{trait}_1.png')"
   ]
  },
  {
   "cell_type": "code",
   "execution_count": null,
   "metadata": {},
   "outputs": [],
   "source": [
    "plot_trait('mode', data_final)"
   ]
  },
  {
   "cell_type": "code",
   "execution_count": null,
   "metadata": {},
   "outputs": [],
   "source": [
    "for trait in columns[1:]:\n",
    "    if trait == 'mode' or trait == 'key':\n",
    "        pass\n",
    "    else:\n",
    "        plot_trait(trait, data_final)"
   ]
  },
  {
   "cell_type": "code",
   "execution_count": null,
   "metadata": {},
   "outputs": [],
   "source": [
    "plot_trait('danceability', data_final)"
   ]
  },
  {
   "cell_type": "code",
   "execution_count": null,
   "metadata": {},
   "outputs": [],
   "source": [
    "plot_trait('energy', data_final)"
   ]
  },
  {
   "cell_type": "code",
   "execution_count": null,
   "metadata": {},
   "outputs": [],
   "source": []
  }
 ],
 "metadata": {
  "interpreter": {
   "hash": "ce44b17c45080b8f56a19c9450d52461d624c968fcd959bb1916985c5ffa2b94"
  },
  "kernelspec": {
   "display_name": "Python 3.8.5 64-bit ('base': conda)",
   "language": "python",
   "name": "python3"
  },
  "language_info": {
   "codemirror_mode": {
    "name": "ipython",
    "version": 3
   },
   "file_extension": ".py",
   "mimetype": "text/x-python",
   "name": "python",
   "nbconvert_exporter": "python",
   "pygments_lexer": "ipython3",
   "version": "3.8.5"
  },
  "orig_nbformat": 4
 },
 "nbformat": 4,
 "nbformat_minor": 2
}
