{
 "cells": [
  {
   "cell_type": "code",
   "execution_count": 14,
   "metadata": {},
   "outputs": [],
   "source": [
    "import tkinter as tk\n",
    "import random\n",
    "window = tk.Tk()\n",
    "window.columnconfigure(0, minsize=150)\n",
    "window.rowconfigure([0, 1], minsize=50)\n",
    "\n",
    "window.title('Rolling Dice')\n",
    "btn_roll = tk.Button(window, text=\"Roll Dice\", width=10, height=2)\n",
    "btn_roll.pack()\n",
    "def rolling(event):\n",
    "    num =  random.randint(1,6)\n",
    "    label_result['text'] = num\n",
    "label_result = tk.Label(window, text=\"\", width=10, height=2)\n",
    "btn_roll.bind(\"<Button-1>\", rolling)\n",
    "label_result.pack()\n",
    "window.mainloop()"
   ]
  },
  {
   "cell_type": "code",
   "execution_count": 15,
   "metadata": {},
   "outputs": [],
   "source": [
    "import random\n",
    "import tkinter as tk\n",
    "\n",
    "def roll():\n",
    "    lbl_result[\"text\"] = str(random.randint(1, 6))\n",
    "\n",
    "window = tk.Tk()\n",
    "window.columnconfigure(0, minsize=150)\n",
    "window.rowconfigure([0, 1], minsize=50)\n",
    "\n",
    "btn_roll = tk.Button(text=\"Roll\", command=roll)\n",
    "lbl_result = tk.Label()\n",
    "\n",
    "btn_roll.grid(row=0, column=0, sticky=\"nsew\")\n",
    "lbl_result.grid(row=1, column=0)\n",
    "\n",
    "window.mainloop()"
   ]
  },
  {
   "cell_type": "markdown",
   "metadata": {},
   "source": [
    "## Building a Temperature Converter from Centigrade to Fahrenheit"
   ]
  },
  {
   "cell_type": "code",
   "execution_count": 44,
   "metadata": {},
   "outputs": [],
   "source": [
    "#Steps\n",
    "#1. Imports and creating a window\n",
    "import tkinter as tk\n",
    "\n",
    "window = tk.Tk()\n",
    "window.title(\"C to F Converter\")\n",
    "# window.resizable(width=False, height=False)\n",
    "frame_1 = tk.Frame(window)\n",
    "frame_2 = tk.Frame(window)\n",
    "\n",
    "#2. Label to enter the temperature\n",
    "ent_temp = tk.Entry(master=frame_1, width=10)\n",
    "ent_temp.grid(row=0, column=0)\n",
    "\n",
    "#3. Button to convert the temperature to Fahrenheit\n",
    "btn_convert = tk.Button(master = frame_2, text=\"Convert\")\n",
    "btn_convert.grid(row=1, column=1, sticky = \"w\", padx=5, pady=5)\n",
    "\n",
    "#4. Label which shows the comverted temperature\n",
    "lbl_new_tem = tk.Label(master=frame_1, text=\"\")\n",
    "lbl_new_tem.grid(row=0, column=1)\n",
    "\n",
    "#5. Function for the conversion\n",
    "def convert(event):\n",
    "    try:\n",
    "        celc = ent_temp.get()\n",
    "        fahr = float(celc) * 1.8 + 32\n",
    "        lbl_new_tem['text'] = fahr\n",
    "    except:\n",
    "        lbl_new_tem['text'] = \"Invalid Input\"\n",
    "#6. Binding the button to the function\n",
    "btn_convert.bind(\"<Button-1>\", convert)\n",
    "frame_1.grid(row=0, column=0, sticky='ew')\n",
    "frame_2.grid(row=1, column=0, sticky='ew')\n",
    "window.mainloop()"
   ]
  },
  {
   "cell_type": "code",
   "execution_count": 42,
   "metadata": {},
   "outputs": [],
   "source": [
    "import tkinter as tk\n",
    "\n",
    "def fahrenheit_to_celsius():\n",
    "    \"\"\"Convert the value for Fahrenheit to Celsius and insert the\n",
    "    result into lbl_result.\n",
    "    \"\"\"\n",
    "    fahrenheit = ent_temperature.get()\n",
    "    celsius = (5/9) * (float(fahrenheit) - 32)\n",
    "    lbl_result[\"text\"] = f\"{round(celsius, 2)} \\N{DEGREE CELSIUS}\"\n",
    "\n",
    "# Set-up the window\n",
    "window = tk.Tk()\n",
    "window.title(\"Temperature Converter\")\n",
    "window.resizable(width=False, height=False)\n",
    "\n",
    "# Create the Fahrenheit entry frame with an Entry\n",
    "# widget and label in it\n",
    "frm_entry = tk.Frame(master=window)\n",
    "ent_temperature = tk.Entry(master=frm_entry, width=10)\n",
    "lbl_temp = tk.Label(master=frm_entry, text=\"\\N{DEGREE FAHRENHEIT}\")\n",
    "\n",
    "# Layout the temperature Entry and Label in frm_entry\n",
    "# using the .grid() geometry manager\n",
    "ent_temperature.grid(row=0, column=0, sticky=\"e\")\n",
    "lbl_temp.grid(row=0, column=1, sticky=\"w\")\n",
    "\n",
    "# Create the conversion Button and result display Label\n",
    "btn_convert = tk.Button(\n",
    "    master=window,\n",
    "    text=\"\\N{RIGHTWARDS BLACK ARROW}\",\n",
    "    command=fahrenheit_to_celsius\n",
    ")\n",
    "lbl_result = tk.Label(master=window, text=\"\\N{DEGREE CELSIUS}\")\n",
    "\n",
    "# Set-up the layout using the .grid() geometry manager\n",
    "frm_entry.grid(row=0, column=0, padx=10)\n",
    "btn_convert.grid(row=0, column=1, pady=10)\n",
    "lbl_result.grid(row=0, column=2, padx=10)\n",
    "\n",
    "# Run the application\n",
    "window.mainloop()"
   ]
  },
  {
   "cell_type": "code",
   "execution_count": null,
   "metadata": {},
   "outputs": [],
   "source": []
  }
 ],
 "metadata": {
  "interpreter": {
   "hash": "ce44b17c45080b8f56a19c9450d52461d624c968fcd959bb1916985c5ffa2b94"
  },
  "kernelspec": {
   "display_name": "Python 3.8.5 64-bit ('base': conda)",
   "name": "python3"
  },
  "language_info": {
   "codemirror_mode": {
    "name": "ipython",
    "version": 3
   },
   "file_extension": ".py",
   "mimetype": "text/x-python",
   "name": "python",
   "nbconvert_exporter": "python",
   "pygments_lexer": "ipython3",
   "version": "3.8.5"
  },
  "orig_nbformat": 4
 },
 "nbformat": 4,
 "nbformat_minor": 2
}
