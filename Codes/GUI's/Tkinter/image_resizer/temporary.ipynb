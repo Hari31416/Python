{
 "cells": [
  {
   "cell_type": "code",
   "execution_count": 1,
   "metadata": {},
   "outputs": [],
   "source": [
    "import tkinter as tk\n",
    "from tkinter.filedialog import askopenfilename, asksaveasfilename\n",
    "from PIL import Image, ImageTk\n",
    "import PIL"
   ]
  },
  {
   "cell_type": "code",
   "execution_count": 6,
   "metadata": {},
   "outputs": [],
   "source": [
    "window = tk.Tk()\n",
    "window.title(\"Image\")\n",
    "window.geometry(\"500x500\")\n",
    "def show_image():\n",
    "    global img\n",
    "    global filepath\n",
    "    filepath = askopenfilename(filetypes=[(\"Image Files\", \"*.png\"), (\"All Files\", \"*.*\")])\n",
    "    img = Image.open(filepath)\n",
    "    img = ImageTk.PhotoImage(img)\n",
    "    label = tk.Label(window, image=img)\n",
    "    label.pack()\n",
    "\n",
    "def resize_image():\n",
    "    pil_image = Image.open(filepath)\n",
    "    height = int(ent_height.get())\n",
    "    width = int(ent_width.get())\n",
    "    resized_image = pil_image.resize((height, width))\n",
    "    save_path = asksaveasfilename(filetypes=[(\"Image Files\", \"*.png\"), (\"All Files\", \"*.*\")])\n",
    "    resized_image.save(f\"{save_path}.png\")\n",
    "\n",
    "btn_open = tk.Button(window, command=show_image, text=\"Show Image\")\n",
    "btn_open.pack()\n",
    "btn_save = tk.Button(window, command=resize_image, text=\"Resize Image\")\n",
    "btn_save.pack()\n",
    "\n",
    "ent_height = tk.Entry(window)\n",
    "ent_height.pack()\n",
    "ent_width = tk.Entry(window)\n",
    "ent_width.pack()\n",
    "window.mainloop()"
   ]
  },
  {
   "cell_type": "code",
   "execution_count": 7,
   "metadata": {},
   "outputs": [],
   "source": [
    "img2 = PIL.Image.open(filepath)"
   ]
  },
  {
   "cell_type": "code",
   "execution_count": 9,
   "metadata": {},
   "outputs": [
    {
     "data": {
      "image/png": "[encoded data removed]",
      "text/plain": [
       "<PIL.Image.Image image mode=RGBA size=100x100 at 0x16DB3A981C0>"
      ]
     },
     "execution_count": 9,
     "metadata": {},
     "output_type": "execute_result"
    }
   ],
   "source": [
    "img2.resize((100, 100))"
   ]
  },
  {
   "cell_type": "code",
   "execution_count": null,
   "metadata": {},
   "outputs": [],
   "source": [
    "from GradientFrame import GradientFrame\n",
    "from tkinter import Tk\n",
    "\n",
    "root = Tk()\n",
    "gf = GradientFrame(root, colors = (\"yellow\", \"black\"), width = 800, height = 600)\n",
    "gf.config(direction = gf.top2bottom)\n",
    "gf.pack()\n",
    "root.mainloop()"
   ]
  }
 ],
 "metadata": {
  "interpreter": {
   "hash": "ce44b17c45080b8f56a19c9450d52461d624c968fcd959bb1916985c5ffa2b94"
  },
  "kernelspec": {
   "display_name": "Python 3.8.5 64-bit ('base': conda)",
   "name": "python3"
  },
  "language_info": {
   "codemirror_mode": {
    "name": "ipython",
    "version": 3
   },
   "file_extension": ".py",
   "mimetype": "text/x-python",
   "name": "python",
   "nbconvert_exporter": "python",
   "pygments_lexer": "ipython3",
   "version": "3.8.5"
  },
  "orig_nbformat": 4
 },
 "nbformat": 4,
 "nbformat_minor": 2
}
