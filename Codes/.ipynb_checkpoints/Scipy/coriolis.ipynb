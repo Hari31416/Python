{
 "cells": [
  {
   "cell_type": "markdown",
   "source": [
    "The Differential equation is\r\n",
    "$$\\ddot{x} = -\\frac{mg}{l}x + 2m\\Omega \\dot{y}$$\r\n",
    "$$ \\ddot{y} = -\\frac{mg}{l}y - 2m\\Omega \\dot{x}$$\r\n",
    "Fisrt we'll need to convert this to a first order linear equation."
   ],
   "metadata": {}
  },
  {
   "cell_type": "markdown",
   "source": [
    "Using $ \\dot{x} = x_2$ and $ \\dot{y} = y_2$ with $x_1 = x$ and $y_1 = y$ we will get"
   ],
   "metadata": {}
  },
  {
   "cell_type": "markdown",
   "source": [
    "$$ \\dot{x_2} = -\\frac{mg}{l}x_1 + 2m\\Omega y_2 $$\r\n",
    "$$ \\dot{y_2} = -\\frac{mg}{l}y_1 - 2m\\Omega x_2 $$"
   ],
   "metadata": {}
  },
  {
   "cell_type": "code",
   "execution_count": 22,
   "source": [
    "def vectorfield(w, t, p):\r\n",
    "    \"\"\"\r\n",
    "    Defines the differential equations for the coupled spring-mass system.\r\n",
    "    \"\"\"\r\n",
    "    x1, y1, x2, y2 = w\r\n",
    "    m, g, l, omega = p\r\n",
    "\r\n",
    "    # Create f = (x1',y1',x2',y2'):\r\n",
    "    f = [x2,\r\n",
    "         y2,\r\n",
    "         -m*g*x1/l + 2*m*omega*y2,\r\n",
    "         -m*g*y1/l - 2*m*omega*x2]\r\n",
    "    return f"
   ],
   "outputs": [],
   "metadata": {}
  },
  {
   "cell_type": "code",
   "execution_count": 23,
   "source": [
    "# Use ODEINT to solve the differential equations defined by the vector field\r\n",
    "from scipy.integrate import odeint\r\n",
    "from matplotlib import pyplot as plt\r\n",
    "\r\n",
    "# Parameter values\r\n",
    "m = 1.0\r\n",
    "g = 9.81\r\n",
    "l = 1.0\r\n",
    "omega = 10**(-3)\r\n",
    "# x1 and y1 are the initial displacements; x2 and y2 are the initial velocities\r\n",
    "x1 = 1.0\r\n",
    "y1 = 1.0\r\n",
    "x2 = 0.0\r\n",
    "y2 = 0.0\r\n",
    "\r\n",
    "# ODE solver parameters\r\n",
    "abserr = 1.0e-8\r\n",
    "relerr = 1.0e-6\r\n",
    "stoptime = 10.0\r\n",
    "numpoints = 250\r\n",
    "\r\n",
    "# Create the time samples for the output of the ODE solver.\r\n",
    "t = [stoptime * float(i) / (numpoints - 1) for i in range(numpoints)]\r\n",
    "\r\n",
    "# Pack up the parameters and initial conditions:\r\n",
    "p = [m, g, l, omega]\r\n",
    "w0 = [x1, y1, x2, y2]\r\n",
    "\r\n",
    "# Call the ODE solver.\r\n",
    "wsol = odeint(vectorfield, w0, t, args=(p,),\r\n",
    "              atol=abserr, rtol=relerr)\r\n"
   ],
   "outputs": [],
   "metadata": {}
  },
  {
   "cell_type": "code",
   "execution_count": 25,
   "source": [
    "from matplotlib import pyplot as plt\r\n",
    "plt.plot(t,wsol[:, 0], 'b-', label='x1')\r\n",
    "# plt.plot(t,wsol[:, 1], 'g-', label='y1')\r\n",
    "# plt.plot(t,wsol[:, 2], 'r', label='x2')\r\n",
    "# plt.plot(t,wsol[:, 3], 'y', label='y2')\r\n",
    "plt.xlim([0,5])"
   ],
   "outputs": [
    {
     "output_type": "execute_result",
     "data": {
      "text/plain": [
       "(0.0, 5.0)"
      ]
     },
     "metadata": {},
     "execution_count": 25
    },
    {
     "output_type": "display_data",
     "data": {
      "image/png": "[encoded data removed]",
      "text/plain": [
       "<Figure size 432x288 with 1 Axes>"
      ]
     },
     "metadata": {
      "needs_background": "light"
     }
    }
   ],
   "metadata": {}
  },
  {
   "cell_type": "code",
   "execution_count": 27,
   "source": [
    "wsol[:,1]"
   ],
   "outputs": [
    {
     "output_type": "execute_result",
     "data": {
      "text/plain": [
       "array([ 1.        ,  0.9920995 ,  0.96852398,  0.92964724,  0.87608358,\n",
       "        0.8086811 ,  0.72850643,  0.63682688,  0.53509238,  0.42491161,\n",
       "        0.30802556,  0.18628184,  0.06160454, -0.06403606, -0.18865473,\n",
       "       -0.31028246, -0.42699767, -0.53695657, -0.63842225, -0.72979215,\n",
       "       -0.80962337, -0.87665533, -0.92982994, -0.96830842, -0.99148364,\n",
       "       -0.99899076, -0.99071239, -0.96678059, -0.92757478, -0.87371566,\n",
       "       -0.80605545, -0.72566433, -0.63381358, -0.53195546, -0.42170027,\n",
       "       -0.30479077, -0.18307475, -0.05847587,  0.06703708,  0.19148069,\n",
       "        0.31288872,  0.42934306,  0.53900404,  0.64013945,  0.73115197,\n",
       "        0.81060433,  0.87724205,  0.93001311,  0.96808489,  0.99085699,\n",
       "        0.99797083,  0.98931558,  0.96502901,  0.92549607,  0.87134265,\n",
       "        0.80342569,  0.72281941,  0.63079848,  0.52881784,  0.4184897 ,\n",
       "        0.30155799,  0.179871  ,  0.05535181, -0.07003209, -0.19429929,\n",
       "       -0.31548636, -0.4316787 , -0.54104075, -0.64184507, -0.73249954,\n",
       "       -0.81157258, -0.8778157 , -0.9301832 , -0.96784865, -0.99021818,\n",
       "       -0.99693963, -0.9879083 , -0.96326788, -0.92340904, -0.86896279,\n",
       "       -0.8007906 , -0.71997076, -0.62778132, -0.52567975, -0.41528048,\n",
       "       -0.29832834, -0.17667185, -0.05223362,  0.07301997,  0.19710961,\n",
       "        0.31807474,  0.43400423,  0.54306671,  0.64353946,  0.73383562,\n",
       "        0.81252926,  0.87837779,  0.93034194,  0.96760168,  0.98956953,\n",
       "        0.99589962,  0.98649322,  0.96150017,  0.92131664,  0.86657879,\n",
       "        0.79815269,  0.71712065,  0.62476408,  0.5225432 ,  0.41207392,\n",
       "        0.29510247,  0.17347766,  0.04912165, -0.07600031, -0.19991128,\n",
       "       -0.3206534 , -0.43631913, -0.54508126, -0.64522182, -0.7351592 ,\n",
       "       -0.81347314, -0.87892716, -0.93048788, -0.96734216, -0.98890874,\n",
       "       -0.99484786, -0.98506713, -0.95972231, -0.91921513, -0.86418683,\n",
       "       -0.7955081 , -0.71426509, -0.62174275, -0.5194041 , -0.40886665,\n",
       "       -0.29187774, -0.17028643, -0.04601436,  0.07897465,  0.20270561,\n",
       "        0.32322357,  0.43862451,  0.54708541,  0.64689307,  0.73647114,\n",
       "        0.81440506,  0.87946435,  0.93062206,  0.96707099,  0.98823642,\n",
       "        0.99378515,  0.98363094,  0.95793534,  0.91710566,  0.86178827,\n",
       "        0.79285836,  0.71140616,  0.61871977,  0.51626444,  0.40566024,\n",
       "        0.28865553,  0.16709921,  0.04291246, -0.08194223, -0.20549196,\n",
       "       -0.32578468, -0.44091994, -0.54907893, -0.64855321, -0.73777182,\n",
       "       -0.81532577, -0.87999055, -0.93074545, -0.96678935, -0.98755427,\n",
       "       -0.99271343, -0.98218649, -0.95614103, -0.91498987, -0.85938448,\n",
       "       -0.79020464, -0.70854455, -0.61569552, -0.51312554, -0.40245602,\n",
       "       -0.28543638, -0.16391623, -0.03981604,  0.0849031 ,  0.20827048,\n",
       "        0.32833695,  0.44320563,  0.55106192,  0.65020217,  0.7390606 ,\n",
       "        0.81623391,  0.88050382,  0.93085584,  0.96649548,  0.98686076,\n",
       "        0.99163116,  0.98073258,  0.95433852,  0.91286728,  0.85697537,\n",
       "        0.78754712,  0.70568065,  0.61267054,  0.50998736,  0.39925437,\n",
       "        0.28222182,  0.16073948,  0.03672721, -0.08785524, -0.21103934,\n",
       "       -0.33087878, -0.44548026, -0.55303343, -0.65183944, -0.74033779,\n",
       "       -0.81713094, -0.88100648, -0.93095615, -0.96619186, -0.98615796,\n",
       "       -0.99054026, -0.97927085, -0.95252906, -0.91073872, -0.85456137,\n",
       "       -0.78488585, -0.70281419, -0.60964422, -0.50684902, -0.39605364,\n",
       "       -0.27900939, -0.15756619, -0.03364329,  0.0908009 ,  0.21380033,\n",
       "        0.33341143,  0.44774457,  0.55499361,  0.65346449,  0.74160193,\n",
       "        0.81801417,  0.8814948 ,  0.9310418 ,  0.96587346,  0.98544069])"
      ]
     },
     "metadata": {},
     "execution_count": 27
    }
   ],
   "metadata": {}
  },
  {
   "cell_type": "code",
   "execution_count": null,
   "source": [],
   "outputs": [],
   "metadata": {}
  }
 ],
 "metadata": {
  "orig_nbformat": 4,
  "language_info": {
   "name": "python",
   "version": "3.8.5",
   "mimetype": "text/x-python",
   "codemirror_mode": {
    "name": "ipython",
    "version": 3
   },
   "pygments_lexer": "ipython3",
   "nbconvert_exporter": "python",
   "file_extension": ".py"
  },
  "kernelspec": {
   "name": "python3",
   "display_name": "Python 3.8.5 64-bit ('base': conda)"
  },
  "interpreter": {
   "hash": "ce44b17c45080b8f56a19c9450d52461d624c968fcd959bb1916985c5ffa2b94"
  }
 },
 "nbformat": 4,
 "nbformat_minor": 2
}