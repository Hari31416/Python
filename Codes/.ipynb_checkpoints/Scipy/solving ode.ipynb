{
 "cells": [
  {
   "cell_type": "code",
   "execution_count": 1,
   "source": [
    "import numpy as np\r\n",
    "from scipy.integrate import odeint\r\n",
    "import matplotlib.pyplot as plt"
   ],
   "outputs": [],
   "metadata": {}
  },
  {
   "cell_type": "code",
   "execution_count": 50,
   "source": [
    "def fun1(x,t):\r\n",
    "    dxdt = 3*np.exp(t)\r\n",
    "    return dxdt\r\n",
    "\r\n",
    "def fun2(y,t):\r\n",
    "    dydt= 3-y\r\n",
    "    return dydt"
   ],
   "outputs": [],
   "metadata": {}
  },
  {
   "cell_type": "code",
   "execution_count": 56,
   "source": [
    "x0=0\r\n",
    "y0=0\r\n",
    "t = np.linspace(0,10,100)\r\n",
    "y=odeint(fun2,y0,t)\r\n",
    "x = odeint(fun1,x0,t)\r\n",
    "# plt.plot(t,y, 'r-')\r\n",
    "plt.plot(t,x, 'b')"
   ],
   "outputs": [
    {
     "output_type": "execute_result",
     "data": {
      "text/plain": [
       "[<matplotlib.lines.Line2D at 0x1b09e0f0940>]"
      ]
     },
     "metadata": {},
     "execution_count": 56
    },
    {
     "output_type": "display_data",
     "data": {
      "image/png": "[encoded data removed]",
      "text/plain": [
       "<Figure size 432x288 with 1 Axes>"
      ]
     },
     "metadata": {
      "needs_background": "light"
     }
    }
   ],
   "metadata": {}
  },
  {
   "cell_type": "code",
   "execution_count": null,
   "source": [],
   "outputs": [],
   "metadata": {}
  },
  {
   "cell_type": "code",
   "execution_count": 81,
   "source": [
    "y0 = 0\r\n",
    "x0=0\r\n",
    "t = np.linspace(0,10,100)\r\n",
    "x = odeint(fun1,x0,t)\r\n",
    "y = odeint(fun2,y0,t)\r\n",
    "plt.plot(t,y, 'r-')\r\n",
    "plt.plot(t,x, 'b')"
   ],
   "outputs": [
    {
     "output_type": "execute_result",
     "data": {
      "text/plain": [
       "[<matplotlib.lines.Line2D at 0x1b09fff15e0>]"
      ]
     },
     "metadata": {},
     "execution_count": 81
    },
    {
     "output_type": "display_data",
     "data": {
      "image/png": "[encoded data removed]",
      "text/plain": [
       "<Figure size 432x288 with 1 Axes>"
      ]
     },
     "metadata": {
      "needs_background": "light"
     }
    }
   ],
   "metadata": {}
  },
  {
   "cell_type": "markdown",
   "source": [
    "## Solving second order ODEs"
   ],
   "metadata": {}
  },
  {
   "cell_type": "markdown",
   "source": [
    "To solve a second order ODE, in python we have to convert it to a set of linear ODEs. <br>\r\n",
    "Let's solve the pendulum ODE given by:<br>\r\n",
    "$$\\begin{align*}\r\n",
    "\\ddot{\\theta} +\\frac{b}{m}\\dot{\\theta} + \\frac{g}{l} \\sin(\\theta) &= 0 \\\\\r\n",
    "\\end{align*}$$\r\n",
    "The initial conditions are:<br>\r\n",
    "$$\\begin{align*}\r\n",
    "\\theta(0) &= 0 \\\\\r\n",
    "\\dot{\\theta}(0) &= 3 \\\\\r\n",
    "\\end{align*}$$\r\n",
    "And the parameters are:<br>\r\n",
    "$$\\begin{align*}\r\n",
    "L&=1m \\\\\r\n",
    "m&=1kg \\\\\r\n",
    "b&=0.05\\\\\r\n",
    "g&=9.81 \\frac{m}{s^2}\\\\\r\n",
    "\\end{align*}$$"
   ],
   "metadata": {}
  },
  {
   "cell_type": "markdown",
   "source": [
    "First thing, we need to do is to convert the ODE to a set of linear ODEs. <br>\r\n",
    "To do this, we define:\r\n",
    "$$\\begin{align*}\r\n",
    "\\theta &= \\theta_1 \\\\\r\n",
    "\\dot{\\theta}_1 &= \\theta_2 \\\\\r\n",
    "\\end{align*}$$\r\n",
    "Using this the ODE becomes:\r\n",
    "$$\\begin{align*}\r\n",
    "\\dot{\\theta}_2 + \\frac{b}{m} \\dot{\\theta}_1 + \\frac{g}{l} \\sin(\\theta_1) =0 \\\\\r\n",
    "\\end{align*}$$\r\n",
    "Now comes the coding part.\r\n",
    " "
   ],
   "metadata": {}
  },
  {
   "cell_type": "code",
   "execution_count": 90,
   "source": [
    "import numpy as np\r\n",
    "from scipy.integrate import odeint\r\n",
    "import matplotlib.pyplot as plt"
   ],
   "outputs": [],
   "metadata": {}
  },
  {
   "cell_type": "code",
   "execution_count": 143,
   "source": [
    "#Solving the pendulum ode\r\n",
    "#Creating the model\r\n",
    "def model(theta,t,b,l,g,m):\r\n",
    "    theta1 = theta[0]\r\n",
    "    theta2 = theta[1]\r\n",
    "    dtheta1=theta2 #{as theta1 dot = theta2}\r\n",
    "    dtheta2=-(g/l)*np.sin(theta1)-(b/m)*theta2 #The ODE\r\n",
    "    dtheta = [dtheta1, dtheta2]\r\n",
    "    return dtheta\r\n"
   ],
   "outputs": [],
   "metadata": {}
  },
  {
   "cell_type": "code",
   "execution_count": 147,
   "source": [
    "#Setting the values\r\n",
    "#Initial conditions\r\n",
    "theta0=[0,3]\r\n",
    "\r\n",
    "#The Constants\r\n",
    "b=0.05\r\n",
    "g=9.81\r\n",
    "m=1\r\n",
    "l=1\r\n",
    "\r\n",
    "#Time\r\n",
    "t=np.linspace(0,50,200)"
   ],
   "outputs": [],
   "metadata": {}
  },
  {
   "cell_type": "code",
   "execution_count": 148,
   "source": [
    "#Solving the ODE\r\n",
    "theta=odeint(model,theta0,t,args=(b,l,g,m))"
   ],
   "outputs": [],
   "metadata": {}
  },
  {
   "cell_type": "code",
   "execution_count": 102,
   "source": [
    "# theta"
   ],
   "outputs": [],
   "metadata": {}
  },
  {
   "cell_type": "code",
   "execution_count": 149,
   "source": [
    "#Plotting the solution\r\n",
    "plt.figure()\r\n",
    "plt.plot(t, theta[:,0], 'b-', label='$\\omega$')\r\n",
    "plt.plot(t, theta[:,1], 'r--', label='$\\\\theta$')\r\n",
    "plt.xlabel('Time')\r\n",
    "plt.ylabel('$\\\\theta$ and $\\omega$')\r\n",
    "plt.legend(loc='best')"
   ],
   "outputs": [
    {
     "output_type": "execute_result",
     "data": {
      "text/plain": [
       "<matplotlib.legend.Legend at 0x1b0a0bb5b80>"
      ]
     },
     "metadata": {},
     "execution_count": 149
    },
    {
     "output_type": "display_data",
     "data": {
      "image/png": "[encoded data removed]",
      "text/plain": [
       "<Figure size 432x288 with 1 Axes>"
      ]
     },
     "metadata": {
      "needs_background": "light"
     }
    }
   ],
   "metadata": {}
  },
  {
   "cell_type": "code",
   "execution_count": 120,
   "source": [
    "#Some more fun\r\n",
    "x0=0\r\n",
    "y0=0\r\n",
    "ct=0\r\n",
    "for i in range(len(t)):\r\n",
    "    pass\r\n",
    "    # x1= l*np.sin(theta[i,0])\r\n",
    "    # y1= -l*np.cos(theta[i,0])\r\n",
    "    # # plt.plot([x0,x1],[y0,y1], 'b', linewidth=2)\r\n",
    "    # # plt.plot([-1,1],[0,0], 'k', linewidth = 2)\r\n",
    "    # # plt.plot(x1,y1, 'o', markersize=30, markerfacecolor = 'r')\r\n",
    "    # plt.xlim([-2,2])\r\n",
    "    # plt.ylim([-2,2])\r\n",
    "    # filename='animation/'+str(ct)+'.png'\r\n",
    "    # plt.savefig(filename)\r\n",
    "    # ct+=1\r\n"
   ],
   "outputs": [],
   "metadata": {}
  },
  {
   "cell_type": "markdown",
   "source": [
    "Now, we'll solve the pendulum problem without damping"
   ],
   "metadata": {}
  },
  {
   "cell_type": "code",
   "execution_count": 129,
   "source": [
    "#Solving the pendulum ode\r\n",
    "#Creating the model\r\n",
    "def model2(theta,t,l,g):\r\n",
    "    theta1 = theta[0]\r\n",
    "    theta2 = theta[1]\r\n",
    "    dtheta1=theta2 #{as theta1 dot = theta2}\r\n",
    "    dtheta2=-(g/l)*np.sin(theta1) #The ODE\r\n",
    "    dtheta = [dtheta1, dtheta2]\r\n",
    "    return dtheta"
   ],
   "outputs": [],
   "metadata": {}
  },
  {
   "cell_type": "code",
   "execution_count": 125,
   "source": [
    "#Setting the values\r\n",
    "#Initial conditions\r\n",
    "theta0=[0,3]\r\n",
    "\r\n",
    "#The Constants\r\n",
    "# b=0.05\r\n",
    "g=9.81\r\n",
    "# m=1\r\n",
    "l=1\r\n",
    "\r\n",
    "#Time\r\n",
    "t=np.linspace(0,20,200)"
   ],
   "outputs": [],
   "metadata": {}
  },
  {
   "cell_type": "code",
   "execution_count": 140,
   "source": [
    "theta=odeint(model2,theta0,t,args=(g,l))"
   ],
   "outputs": [],
   "metadata": {}
  },
  {
   "cell_type": "code",
   "execution_count": 141,
   "source": [
    "# theta"
   ],
   "outputs": [],
   "metadata": {}
  },
  {
   "cell_type": "code",
   "execution_count": 142,
   "source": [
    "#Plotting the solution\r\n",
    "plt.figure()\r\n",
    "plt.plot(t, theta[:,0], 'b-', label='$\\omega$')\r\n",
    "plt.plot(t, theta[:,1], 'r--', label='$\\\\theta$')\r\n",
    "plt.xlabel('Time')\r\n",
    "plt.ylabel('$\\\\theta$ and $\\omega$')\r\n",
    "plt.legend(loc='best')"
   ],
   "outputs": [
    {
     "output_type": "execute_result",
     "data": {
      "text/plain": [
       "<matplotlib.legend.Legend at 0x1b0a01a5c40>"
      ]
     },
     "metadata": {},
     "execution_count": 142
    },
    {
     "output_type": "display_data",
     "data": {
      "image/png": "[encoded data removed]",
      "text/plain": [
       "<Figure size 432x288 with 1 Axes>"
      ]
     },
     "metadata": {
      "needs_background": "light"
     }
    }
   ],
   "metadata": {}
  },
  {
   "cell_type": "markdown",
   "source": [
    "### Solving the ODE\r\n",
    "$$\\begin{align*}\r\n",
    "\\frac{dx}{dt} + t^3x(t)=\\cos t.\r\n",
    "\\end{align*}$$"
   ],
   "metadata": {}
  },
  {
   "cell_type": "code",
   "execution_count": 159,
   "source": [
    "def model3(x,t):\r\n",
    "    dxdt = np.cos(t)-t**3*x\r\n",
    "    return dxdt\r\n",
    "\r\n",
    "def model4(x,t):\r\n",
    "    dxdt = np.cos(t)+x*np.cos(t)\r\n",
    "    return dxdt"
   ],
   "outputs": [],
   "metadata": {}
  },
  {
   "cell_type": "code",
   "execution_count": 160,
   "source": [
    "x0=3\r\n",
    "t=np.linspace(0,10,100)\r\n",
    "x=odeint(model3, x0,t)\r\n",
    "x2= odeint(model4,x0,t)"
   ],
   "outputs": [],
   "metadata": {}
  },
  {
   "cell_type": "code",
   "execution_count": 162,
   "source": [
    "plt.plot(t,x)\r\n",
    "plt.plot(t,x2)"
   ],
   "outputs": [
    {
     "output_type": "execute_result",
     "data": {
      "text/plain": [
       "[<matplotlib.lines.Line2D at 0x1b0a1fd2130>]"
      ]
     },
     "metadata": {},
     "execution_count": 162
    },
    {
     "output_type": "display_data",
     "data": {
      "image/png": "[encoded data removed]",
      "text/plain": [
       "<Figure size 432x288 with 1 Axes>"
      ]
     },
     "metadata": {
      "needs_background": "light"
     }
    }
   ],
   "metadata": {}
  },
  {
   "cell_type": "markdown",
   "source": [
    "### Plotting the unit step function"
   ],
   "metadata": {}
  },
  {
   "cell_type": "code",
   "execution_count": 72,
   "source": [
    "#Plotting unit step function\r\n",
    "# I want to plot u(t-2) and u(t-1)\r\n",
    "t = np.linspace(0,10,101)\r\n",
    "u = np.zeros(101)\r\n",
    "index = np.where(t==2)[0][0]\r\n",
    "u[index:]=1\r\n",
    "plt.plot(t,u)\r\n"
   ],
   "outputs": [
    {
     "output_type": "execute_result",
     "data": {
      "text/plain": [
       "[<matplotlib.lines.Line2D at 0x1b09e2edc70>]"
      ]
     },
     "metadata": {},
     "execution_count": 72
    },
    {
     "output_type": "display_data",
     "data": {
      "image/png": "[encoded data removed]",
      "text/plain": [
       "<Figure size 432x288 with 1 Axes>"
      ]
     },
     "metadata": {
      "needs_background": "light"
     }
    }
   ],
   "metadata": {}
  },
  {
   "cell_type": "code",
   "execution_count": 70,
   "source": [
    "np.where(t==2)[0][0]"
   ],
   "outputs": [
    {
     "output_type": "execute_result",
     "data": {
      "text/plain": [
       "20"
      ]
     },
     "metadata": {},
     "execution_count": 70
    }
   ],
   "metadata": {}
  },
  {
   "cell_type": "code",
   "execution_count": 76,
   "source": [
    "import pandas as pd\r\n",
    "data = pd.DataFrame(data=[t,u]).transpose()"
   ],
   "outputs": [],
   "metadata": {}
  },
  {
   "cell_type": "code",
   "execution_count": null,
   "source": [],
   "outputs": [],
   "metadata": {}
  },
  {
   "cell_type": "code",
   "execution_count": 79,
   "source": [
    "data[data[1]==1]"
   ],
   "outputs": [
    {
     "output_type": "execute_result",
     "data": {
      "text/html": [
       "<div>\n",
       "<style scoped>\n",
       "    .dataframe tbody tr th:only-of-type {\n",
       "        vertical-align: middle;\n",
       "    }\n",
       "\n",
       "    .dataframe tbody tr th {\n",
       "        vertical-align: top;\n",
       "    }\n",
       "\n",
       "    .dataframe thead th {\n",
       "        text-align: right;\n",
       "    }\n",
       "</style>\n",
       "<table border=\"1\" class=\"dataframe\">\n",
       "  <thead>\n",
       "    <tr style=\"text-align: right;\">\n",
       "      <th></th>\n",
       "      <th>0</th>\n",
       "      <th>1</th>\n",
       "    </tr>\n",
       "  </thead>\n",
       "  <tbody>\n",
       "    <tr>\n",
       "      <th>20</th>\n",
       "      <td>2.0</td>\n",
       "      <td>1.0</td>\n",
       "    </tr>\n",
       "    <tr>\n",
       "      <th>21</th>\n",
       "      <td>2.1</td>\n",
       "      <td>1.0</td>\n",
       "    </tr>\n",
       "    <tr>\n",
       "      <th>22</th>\n",
       "      <td>2.2</td>\n",
       "      <td>1.0</td>\n",
       "    </tr>\n",
       "    <tr>\n",
       "      <th>23</th>\n",
       "      <td>2.3</td>\n",
       "      <td>1.0</td>\n",
       "    </tr>\n",
       "    <tr>\n",
       "      <th>24</th>\n",
       "      <td>2.4</td>\n",
       "      <td>1.0</td>\n",
       "    </tr>\n",
       "    <tr>\n",
       "      <th>...</th>\n",
       "      <td>...</td>\n",
       "      <td>...</td>\n",
       "    </tr>\n",
       "    <tr>\n",
       "      <th>96</th>\n",
       "      <td>9.6</td>\n",
       "      <td>1.0</td>\n",
       "    </tr>\n",
       "    <tr>\n",
       "      <th>97</th>\n",
       "      <td>9.7</td>\n",
       "      <td>1.0</td>\n",
       "    </tr>\n",
       "    <tr>\n",
       "      <th>98</th>\n",
       "      <td>9.8</td>\n",
       "      <td>1.0</td>\n",
       "    </tr>\n",
       "    <tr>\n",
       "      <th>99</th>\n",
       "      <td>9.9</td>\n",
       "      <td>1.0</td>\n",
       "    </tr>\n",
       "    <tr>\n",
       "      <th>100</th>\n",
       "      <td>10.0</td>\n",
       "      <td>1.0</td>\n",
       "    </tr>\n",
       "  </tbody>\n",
       "</table>\n",
       "<p>81 rows × 2 columns</p>\n",
       "</div>"
      ],
      "text/plain": [
       "        0    1\n",
       "20    2.0  1.0\n",
       "21    2.1  1.0\n",
       "22    2.2  1.0\n",
       "23    2.3  1.0\n",
       "24    2.4  1.0\n",
       "..    ...  ...\n",
       "96    9.6  1.0\n",
       "97    9.7  1.0\n",
       "98    9.8  1.0\n",
       "99    9.9  1.0\n",
       "100  10.0  1.0\n",
       "\n",
       "[81 rows x 2 columns]"
      ]
     },
     "metadata": {},
     "execution_count": 79
    }
   ],
   "metadata": {}
  },
  {
   "cell_type": "code",
   "execution_count": null,
   "source": [],
   "outputs": [],
   "metadata": {}
  }
 ],
 "metadata": {
  "orig_nbformat": 4,
  "language_info": {
   "name": "python",
   "version": "3.8.5",
   "mimetype": "text/x-python",
   "codemirror_mode": {
    "name": "ipython",
    "version": 3
   },
   "pygments_lexer": "ipython3",
   "nbconvert_exporter": "python",
   "file_extension": ".py"
  },
  "kernelspec": {
   "name": "python3",
   "display_name": "Python 3.8.5 64-bit ('base': conda)"
  },
  "interpreter": {
   "hash": "ce44b17c45080b8f56a19c9450d52461d624c968fcd959bb1916985c5ffa2b94"
  }
 },
 "nbformat": 4,
 "nbformat_minor": 2
}