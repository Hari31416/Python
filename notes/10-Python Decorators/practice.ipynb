{
 "metadata": {
  "language_info": {
   "codemirror_mode": {
    "name": "ipython",
    "version": 3
   },
   "file_extension": ".py",
   "mimetype": "text/x-python",
   "name": "python",
   "nbconvert_exporter": "python",
   "pygments_lexer": "ipython3",
   "version": "3.8.5"
  },
  "orig_nbformat": 2,
  "kernelspec": {
   "name": "python385jvsc74a57bd0ce44b17c45080b8f56a19c9450d52461d624c968fcd959bb1916985c5ffa2b94",
   "display_name": "Python 3.8.5 64-bit ('harik': virtualenv)"
  }
 },
 "nbformat": 4,
 "nbformat_minor": 2,
 "cells": [
  {
   "cell_type": "code",
   "execution_count": null,
   "metadata": {},
   "outputs": [],
   "source": [
    "def func1(func):\n",
    "\n",
    "    def wrap_func():\n",
    "        print('Hello There')\n",
    "\n",
    "        func()\n",
    "\n",
    "        print('General Kenobi')\n",
    "\n",
    "        return wrap_func\n",
    "        \n",
    "def func2():\n",
    "    print('How Civilised')"
   ]
  },
  {
   "cell_type": "code",
   "execution_count": null,
   "metadata": {},
   "outputs": [],
   "source": [
    "func2()"
   ]
  },
  {
   "cell_type": "code",
   "execution_count": null,
   "metadata": {},
   "outputs": [],
   "source": [
    "func2 = func1(func2)"
   ]
  },
  {
   "cell_type": "code",
   "execution_count": null,
   "metadata": {},
   "outputs": [],
   "source": []
  },
  {
   "cell_type": "code",
   "execution_count": null,
   "metadata": {},
   "outputs": [],
   "source": [
    "type(func2())"
   ]
  },
  {
   "cell_type": "code",
   "execution_count": null,
   "metadata": {},
   "outputs": [],
   "source": [
    "@func1\n",
    "def func2():\n",
    "    print('How Civilised')"
   ]
  },
  {
   "cell_type": "code",
   "execution_count": null,
   "metadata": {},
   "outputs": [],
   "source": [
    "func2()"
   ]
  },
  {
   "cell_type": "code",
   "execution_count": null,
   "metadata": {},
   "outputs": [],
   "source": [
    "func3 = func1(func2)"
   ]
  },
  {
   "cell_type": "code",
   "execution_count": null,
   "metadata": {},
   "outputs": [],
   "source": [
    "func3()"
   ]
  },
  {
   "cell_type": "code",
   "execution_count": null,
   "metadata": {},
   "outputs": [],
   "source": [
    "def func1(func):\n",
    "    def wrap_func():\n",
    "        print(\"Hello There\")\n",
    "        \n",
    "        func()\n",
    "\n",
    "        print(\"How Civilised\")\n",
    "\n",
    "    return wrap_func\n",
    "\n",
    "\n",
    "def func2():\n",
    "    print(\"General Kenobi\")\n",
    "\n",
    "\n",
    "func2 = func1(func2)\n",
    "func2()\n"
   ]
  },
  {
   "cell_type": "code",
   "execution_count": null,
   "metadata": {},
   "outputs": [],
   "source": [
    "def func1(func):\n",
    "    def wrap_func():\n",
    "        print(\"Hello There\")\n",
    "\n",
    "        func()\n",
    "\n",
    "        print(\"How Civilised\")\n",
    "\n",
    "    return wrap_func\n",
    "\n",
    "\n",
    "def func2():\n",
    "    print(\"General Kenobi\")\n",
    "\n",
    "\n",
    "func2 = func1(func2)\n",
    "func2()\n"
   ]
  },
  {
   "cell_type": "code",
   "execution_count": null,
   "metadata": {},
   "outputs": [],
   "source": []
  }
 ]
}