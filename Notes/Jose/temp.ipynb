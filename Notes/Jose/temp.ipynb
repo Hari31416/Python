{
 "cells": [
  {
   "cell_type": "code",
   "execution_count": 20,
   "metadata": {
    "scrolled": true
   },
   "outputs": [],
   "source": [
    "from notebook import Notebook\n",
    "import glob\n",
    "\n",
    "import nbformat\n",
    "from nbconvert import HTMLExporter\n",
    "import bs4\n",
    "import pyperclip\n",
    "import os\n",
    "import re\n",
    "import tqdm\n",
    "\n"
   ]
  },
  {
   "cell_type": "code",
   "execution_count": 21,
   "metadata": {},
   "outputs": [],
   "source": [
    "def export_notebook(notebook_path, output_path=None):\n",
    "    \"\"\"\n",
    "    Export a notebook to an HTML file.\n",
    "\n",
    "    Parameters\n",
    "    ----------\n",
    "    notebook_path : str\n",
    "        Path to the notebook to export.\n",
    "    output_path : str\n",
    "        Path to the output file.\n",
    "\n",
    "    Returns\n",
    "    -------\n",
    "    output_path : str\n",
    "        Path to the output  html file.\n",
    "    \"\"\"\n",
    "    # Extracting html from the notebook\n",
    "    notebook = nbformat.read(notebook_path, as_version=4)\n",
    "    html_exporter = HTMLExporter(template_name=\"classic\")\n",
    "    (body, _) = html_exporter.from_notebook_node(notebook)\n",
    "\n",
    "    if output_path is None:\n",
    "        output_path = os.path.splitext(notebook_path)[0] + \".html\"\n",
    "\n",
    "    # Fixing the title\n",
    "    title = notebook_path.split(os.path.sep)[-1].split(\".\")[0]\n",
    "    title = title.replace(\"_\", \" \").title()\n",
    "    body = re.sub(\"<title>Notebook</title>\", f\"<title>{title}</title>\", body)\n",
    "\n",
    "    with open(output_path, \"w\", encoding=\"utf-8\") as f:\n",
    "        f.write(body)\n",
    "\n",
    "    return output_path"
   ]
  },
  {
   "cell_type": "code",
   "execution_count": 25,
   "metadata": {},
   "outputs": [
    {
     "data": {
      "text/plain": [
       "104"
      ]
     },
     "execution_count": 25,
     "metadata": {},
     "output_type": "execute_result"
    }
   ],
   "source": [
    "notebooks = glob.glob(\"*/*.ipynb\")\n",
    "notebooks = [notebook for notebook in notebooks if \"checkpoint\" not in notebook]\n",
    "len(notebooks)"
   ]
  },
  {
   "cell_type": "code",
   "execution_count": 26,
   "metadata": {},
   "outputs": [],
   "source": [
    "def convert_new(input, output = None):\n",
    "    #Loading the file\n",
    "    notebook = nbformat.read(input, as_version=4)\n",
    "    #Removing the logo\n",
    "    \n",
    "    notebook.cells[0].source = \"\"\n",
    "    #Removing the final text\n",
    "    text = notebook.cells[-1].source\n",
    "    if \"Great Job\" in text:\n",
    "        notebook.cells[-1].source = \"\"\n",
    "    #Converting to HTML\n",
    "    html_exporter = HTMLExporter(template_name=\"classic\")\n",
    "    (body, _) = html_exporter.from_notebook_node(notebook)\n",
    "    # Fixing the title\n",
    "    title = input.split(os.path.sep)[-1].split(\".\")[0]\n",
    "    title = title.replace(\"_\", \" \").title()\n",
    "    regex =re.compile(r\"\\d\")\n",
    "    title = regex.sub(\"\", title)\n",
    "    title = title.replace(\"-\", \" \").strip()\n",
    "    body = re.sub(\"<title>Notebook</title>\", f\"<title>{title}</title>\", body)\n",
    "\n",
    "    if output is None:\n",
    "        #Fixing the path\n",
    "        output = os.path.splitext(input)[0] + \".html\"\n",
    "\n",
    "    with open(output, \"a\", encoding=\"utf-8\") as f:\n",
    "        f.write(body)\n",
    "    \n",
    "    #Fixing the title\n",
    "    return output, title"
   ]
  },
  {
   "cell_type": "code",
   "execution_count": 28,
   "metadata": {},
   "outputs": [
    {
     "name": "stderr",
     "output_type": "stream",
     "text": [
      " 35%|███▍      | 36/104 [00:17<00:34,  1.97it/s]"
     ]
    },
    {
     "name": "stdout",
     "output_type": "stream",
     "text": [
      "05-Object Oriented Programming/02-Object Oriented Programming Homework.ipynb\n"
     ]
    },
    {
     "name": "stderr",
     "output_type": "stream",
     "text": [
      "100%|██████████| 104/104 [00:50<00:00,  2.05it/s]\n"
     ]
    }
   ],
   "source": [
    "for notebook in tqdm.tqdm(notebooks):\n",
    "    try:\n",
    "        convert_new(notebook)\n",
    "    except:\n",
    "        print(notebook)"
   ]
  },
  {
   "cell_type": "code",
   "execution_count": 15,
   "metadata": {},
   "outputs": [
    {
     "data": {
      "text/plain": [
       "'00-Python Object and Data Structure Basics/01-Numbers.html'"
      ]
     },
     "execution_count": 15,
     "metadata": {},
     "output_type": "execute_result"
    }
   ],
   "source": [
    "export_notebook(notebooks[0])"
   ]
  },
  {
   "cell_type": "code",
   "execution_count": 17,
   "metadata": {},
   "outputs": [
    {
     "name": "stderr",
     "output_type": "stream",
     "text": [
      " 35%|███▍      | 36/104 [00:17<00:32,  2.07it/s]"
     ]
    },
    {
     "name": "stdout",
     "output_type": "stream",
     "text": [
      "05-Object Oriented Programming/02-Object Oriented Programming Homework.ipynb\n"
     ]
    },
    {
     "name": "stderr",
     "output_type": "stream",
     "text": [
      "100%|██████████| 104/104 [00:50<00:00,  2.05it/s]\n"
     ]
    }
   ],
   "source": [
    "for notebook in tqdm.tqdm(notebooks):\n",
    "    try:\n",
    "        _ = export_notebook(notebook)\n",
    "    except:\n",
    "        print(notebook)"
   ]
  },
  {
   "cell_type": "code",
   "execution_count": 2,
   "metadata": {},
   "outputs": [],
   "source": [
    "nb = Notebook()"
   ]
  },
  {
   "cell_type": "code",
   "execution_count": 3,
   "metadata": {},
   "outputs": [
    {
     "data": {
      "text/plain": [
       "['./temp.ipynb']"
      ]
     },
     "execution_count": 3,
     "metadata": {},
     "output_type": "execute_result"
    }
   ],
   "source": [
    "nb.notebooks"
   ]
  },
  {
   "cell_type": "code",
   "execution_count": 12,
   "metadata": {},
   "outputs": [
    {
     "name": "stdout",
     "output_type": "stream",
     "text": [
      "Converting the Notebook to HTML.\n",
      "Looking for the Headers and their positions.\n",
      "Getting correct order of the Headers.\n",
      "Creating the Contents.\n",
      "Content copied to clipboard.\n"
     ]
    },
    {
     "name": "stderr",
     "output_type": "stream",
     "text": [
      "QXcbClipboard::setMimeData: Cannot set X11 selection owner\n"
     ]
    }
   ],
   "source": [
    "text = nb.create_content(nb.notebooks[4], return_string=True)"
   ]
  },
  {
   "cell_type": "code",
   "execution_count": 13,
   "metadata": {},
   "outputs": [
    {
     "name": "stdout",
     "output_type": "stream",
     "text": [
      "<h2 id=\"Contents\">Contents<a href=\"#Contents\"></a></h2>\n",
      "        <ol>\n",
      "        <ol><li><a class=\"\" href=\"#Python-Data-Structures\">Python Data Structures</a></li>\n",
      "<ol><li><a class=\"\" href=\"#Tuples-and-named-tuples\">Tuples and named tuples</a></li>\n",
      "<ol><li><a class=\"\" href=\"#Named-tuples\">Named tuples</a></li>\n",
      "</ol><li><a class=\"\" href=\"#Dictionaries\">Dictionaries</a></li>\n",
      "<ol><li><a class=\"\" href=\"#Using-defaultdict\">Using defaultdict</a></li>\n",
      "<li><a class=\"\" href=\"#Counter\">Counter</a></li>\n",
      "</ol><li><a class=\"\" href=\"#Lists\">Lists</a></li>\n",
      "<ol><li><a class=\"\" href=\"#Sorting-lists\">Sorting lists</a></li>\n",
      "</ol><li><a class=\"\" href=\"#Sets\">Sets</a></li>\n",
      "<li><a class=\"\" href=\"#Extending-built-ins\">Extending built-ins</a></li>\n",
      "<li><a class=\"\" href=\"#Queues\">Queues</a></li>\n",
      "<ol><li><a class=\"\" href=\"#FIFO-queues\">FIFO queues</a></li>\n",
      "<li><a class=\"\" href=\"#LIFO-queues\">LIFO queues</a></li>\n",
      "<li><a class=\"\" href=\"#Priority-queues\">Priority queues</a></li>\n",
      "</ol>\n"
     ]
    }
   ],
   "source": [
    "print(text)"
   ]
  },
  {
   "cell_type": "code",
   "execution_count": 14,
   "metadata": {},
   "outputs": [
    {
     "name": "stderr",
     "output_type": "stream",
     "text": [
      "Exporting notebooks...: 100%|██████████| 6/6 [00:03<00:00,  1.71it/s]\n"
     ]
    }
   ],
   "source": [
    "files = nb.export_directory()"
   ]
  },
  {
   "cell_type": "code",
   "execution_count": 16,
   "metadata": {},
   "outputs": [
    {
     "data": {
      "text/plain": [
       "['././Scope_and_Namespace.html',\n",
       " '././temp.html',\n",
       " '././Terminology.html',\n",
       " '././Variables_and_Pointers.html']"
      ]
     },
     "execution_count": 16,
     "metadata": {},
     "output_type": "execute_result"
    }
   ],
   "source": [
    "files"
   ]
  },
  {
   "cell_type": "code",
   "execution_count": 19,
   "metadata": {},
   "outputs": [
    {
     "name": "stdout",
     "output_type": "stream",
     "text": [
      "<ul><li>\n",
      "            <a href=\"Notes/Python/Scope_and_Namespace.html\" target=\"blank\" class=\"links\">Scope and Namespace</a>\n",
      "          </li><li>\n",
      "            <a href=\"Notes/Python/Terminology.html\" target=\"blank\" class=\"links\">Terminology</a>\n",
      "          </li><li>\n",
      "            <a href=\"Notes/Python/Variables_and_Pointers.html\" target=\"blank\" class=\"links\">Variables and Pointers</a>\n",
      "          </li></ul>\n"
     ]
    }
   ],
   "source": [
    "start = \"<ul>\"\n",
    "end = \"</ul>\"\n",
    "for f in files:\n",
    "    if \"temp\" in f:\n",
    "        continue\n",
    "    file = f.split(\"/\")[-1]\n",
    "    name = file.split(\".\")[0]\n",
    "    name = name.replace(\"_\", \" \")\n",
    "    start+=f\"\"\"<li>\n",
    "            <a href=\"Notes/Python/{file}\" target=\"blank\" class=\"links\">{name}</a>\n",
    "          </li>\"\"\"\n",
    "start+=end\n",
    "print(start)"
   ]
  },
  {
   "cell_type": "code",
   "execution_count": 20,
   "metadata": {},
   "outputs": [
    {
     "name": "stderr",
     "output_type": "stream",
     "text": [
      "QXcbClipboard::setMimeData: Cannot set X11 selection owner\n"
     ]
    }
   ],
   "source": [
    "import pyperclip\n",
    "pyperclip.copy(text)"
   ]
  },
  {
   "cell_type": "code",
   "execution_count": 13,
   "metadata": {},
   "outputs": [
    {
     "data": {
      "text/plain": [
       "['.\\\\Easy_1.ipynb',\n",
       " '.\\\\Easy_2.ipynb',\n",
       " '.\\\\Easy_3.ipynb',\n",
       " '.\\\\Hard_1.ipynb',\n",
       " '.\\\\Medium_1.ipynb',\n",
       " '.\\\\Medium_2.ipynb',\n",
       " '.\\\\temp.ipynb']"
      ]
     },
     "execution_count": 13,
     "metadata": {},
     "output_type": "execute_result"
    }
   ],
   "source": [
    "nb.notebooks"
   ]
  },
  {
   "cell_type": "code",
   "execution_count": 15,
   "metadata": {},
   "outputs": [
    {
     "data": {
      "text/plain": [
       "'.\\\\Easy_3.html'"
      ]
     },
     "execution_count": 15,
     "metadata": {},
     "output_type": "execute_result"
    }
   ],
   "source": [
    "nb.export_notebook(nb.notebooks[2])"
   ]
  },
  {
   "cell_type": "code",
   "execution_count": null,
   "metadata": {},
   "outputs": [],
   "source": []
  },
  {
   "cell_type": "code",
   "execution_count": 24,
   "metadata": {},
   "outputs": [],
   "source": [
    "for folder, _, files in os.walk('.'):\n",
    "    if \"oop dusty\" in folder.lower():\n",
    "        continue\n",
    "\n",
    "    for file in files:\n",
    "        if file.endswith('.html'):\n",
    "            os.remove(os.path.join(folder, file))\n"
   ]
  },
  {
   "cell_type": "code",
   "execution_count": null,
   "metadata": {},
   "outputs": [],
   "source": []
  }
 ],
 "metadata": {
  "kernelspec": {
   "display_name": "Python 3 (ipykernel)",
   "language": "python",
   "name": "python3"
  },
  "language_info": {
   "codemirror_mode": {
    "name": "ipython",
    "version": 3
   },
   "file_extension": ".py",
   "mimetype": "text/x-python",
   "name": "python",
   "nbconvert_exporter": "python",
   "pygments_lexer": "ipython3",
   "version": "3.9.12"
  },
  "vscode": {
   "interpreter": {
    "hash": "2efee1efa502125d01e6b4768ba06d9453d29f3642bfd14ad5d4a769de82e88c"
   }
  }
 },
 "nbformat": 4,
 "nbformat_minor": 2
}
