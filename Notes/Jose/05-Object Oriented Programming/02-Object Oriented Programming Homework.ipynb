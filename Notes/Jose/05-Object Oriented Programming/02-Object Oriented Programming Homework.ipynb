{
 "cells": [
  {
   "cell_type": "markdown",
   "metadata": {},
   "source": [
    "# Object Oriented Programming\n",
    "## Homework Assignment\n",
    "\n",
    "#### Problem 1\n",
    "Fill in the Line class methods to accept coordinates as a pair of tuples and return the slope and distance of the line."
   ]
  },
  {
   "cell_type": "code",
   "execution_count": 1,
   "metadata": {},
   "outputs": [],
   "source": [
    "class Line:\n",
    "    \n",
    "    def __init__(self,coor1,coor2):\n",
    "        self.coor1 = coor1\n",
    "        self.coor2 = coor2\n",
    "\n",
    "    \n",
    "    def distance(self):\n",
    "        distance_sq = (self.coor2[0]-self.coor1[0])**2+(self.coor2[1]-self.coor1[1])**2\n",
    "        return distance_sq**0.5\n",
    "    \n",
    "    def slope(self):\n",
    "        return (self.coor2[1]-self.coor1[1])/(self.coor2[0]-self.coor1[0])"
   ]
  },
  {
   "cell_type": "code",
   "execution_count": 2,
   "metadata": {},
   "outputs": [],
   "source": [
    "# EXAMPLE OUTPUT\n",
    "\n",
    "coordinate1 = (3,2)\n",
    "coordinate2 = (8,10)\n",
    "\n",
    "li = Line(coordinate1,coordinate2)"
   ]
  },
  "cells": [
    {
      "cell_type": "markdown",
      "metadata": {
        "id": "M6ij3VTWa1bW"
      },
      "source": [
        "# Object Oriented Programming\n",
        "## Homework Assignment\n",
        "\n",
        "#### Problem 1\n",
        "Fill in the Line class methods to accept coordinates as a pair of tuples and return the slope and distance of the line."
      ]
    },
    {
      "cell_type": "code",
      "metadata": {
        "collapsed": true,
        "id": "fU4-XRxSa1bZ"
      },
      "source": [
        "class Line:\n",
        "    \n",
        "    def __init__(self,coor1,coor2):\n",
        "        self.coor1 = coor1\n",
        "        self.coor2 = coor2\n",
        "    \n",
        "    def distance(self):\n",
        "        distance = (self.coor1[0]-self.coor2[0])**2- \n",
        "        return distance\n",
        "    \n",
        "    def slope(self):\n",
        "        pass"
      ],
      "execution_count": 8,
      "outputs": []
    },
    {
      "cell_type": "code",
      "metadata": {
        "collapsed": true,
        "id": "VvaGxAc9a1bc"
      },
      "source": [
        "# EXAMPLE OUTPUT\n",
        "\n",
        "coordinate1 = (3,2)\n",
        "coordinate2 = (8,10)\n",
        "\n",
        "li = Line(coordinate1,coordinate2)"
      ],
      "execution_count": 9,
      "outputs": []
    },
    {
      "cell_type": "code",
      "metadata": {
        "id": "-MmKskEfa1bf",
        "outputId": "dca128b3-c930-4022-8f5f-163b3fb45b40",
        "colab": {
          "base_uri": "https://localhost:8080/"
        }
      },
      "source": [
        "li.distance()"
      ],
      "execution_count": 10,
      "outputs": [
        {
          "output_type": "execute_result",
          "data": {
            "text/plain": [
              "25"
            ]
          },
          "metadata": {
            "tags": []
          },
          "execution_count": 10
        }
      ]
     },
     "execution_count": 4,
     "metadata": {},
     "output_type": "execute_result"
    }
   ],
   "source": [
    "li.slope()"
   ]
  },
  {
   "cell_type": "markdown",
   "metadata": {},
   "source": [
    "________\n",
    "#### Problem 2"
   ]
  },
  {
   "cell_type": "markdown",
   "metadata": {},
   "source": [
    "Fill in the class "
   ]
  },
  {
   "cell_type": "code",
   "execution_count": 5,
   "metadata": {},
   "outputs": [],
   "source": [
    "from math import pi\n",
    "class Cylinder:\n",
    "    \n",
    "    def __init__(self,height=1,radius=1):\n",
    "        self.height = height\n",
    "        self.radius = radius\n",
    "        \n",
    "    def volume(self):\n",
    "        return pi*self.height*self.radius**2\n",
    "    \n",
    "    def surface_area(self):\n",
    "        return 2*pi*self.radius*self.height"
   ]
  },
  {
   "cell_type": "code",
   "execution_count": 6,
   "metadata": {},
   "outputs": [],
   "source": [
    "# EXAMPLE OUTPUT\n",
    "c = Cylinder(2,3)"
   ]
  },
  {
   "cell_type": "code",
   "execution_count": 7,
   "metadata": {},
   "outputs": [
    {
     "data": {
      "text/plain": [
       "56.548667764616276"
      ]
    },
    {
      "cell_type": "markdown",
      "metadata": {
        "id": "SbGhDCs7a1bk"
      },
      "source": [
        "________\n",
        "#### Problem 2"
      ]
    },
    {
      "cell_type": "markdown",
      "metadata": {
        "id": "zKceyuK7a1bm"
      },
      "source": [
        "Fill in the class "
      ]
    },
    {
      "cell_type": "code",
      "metadata": {
        "collapsed": true,
        "id": "d0HG86Xfa1bn"
      },
      "source": [
        "class Cylinder:\n",
        "    \n",
        "    def __init__(self,height=1,radius=1):\n",
        "        pass\n",
        "        \n",
        "    def volume(self):\n",
        "        pass\n",
        "    \n",
        "    def surface_area(self):\n",
        "        pass"
      ],
      "execution_count": null,
      "outputs": []
    },
    {
      "cell_type": "code",
      "metadata": {
        "collapsed": true,
        "id": "bzEM_tMja1bo"
      },
      "source": [
        "# EXAMPLE OUTPUT\n",
        "c = Cylinder(2,3)"
      ],
      "execution_count": null,
      "outputs": []
    },
    {
     "data": {
      "text/plain": [
       "37.69911184307752"
      ]
    }
   ],
   "source": [
    "c.surface_area()"
   ]
  },
  {
   "cell_type": "code",
   "execution_count": null,
   "metadata": {},
   "outputs": [],
   "source": []
  }
 ],
 "metadata": {
  "kernelspec": {
   "display_name": "Python 3",
   "language": "python",
   "name": "python3"
  },
  "language_info": {
   "codemirror_mode": {
    "name": "ipython",
    "version": 3
   },
   "file_extension": ".py",
   "mimetype": "text/x-python",
   "name": "python",
   "nbconvert_exporter": "python",
   "pygments_lexer": "ipython3",
   "version": "3.8.5"
  }
 },
 "nbformat": 4,
 "nbformat_minor": 1
}
