{
 "cells": [
  {
   "cell_type": "markdown",
   "metadata": {},
   "source": [
    "## Intro"
   ]
  },
  {
   "cell_type": "markdown",
   "metadata": {},
   "source": [
    "Proficient Python programmers\n",
    "use built-in data structures unless (or until) there is an obvious need to define a class.\n",
    "There is no reason to add an extra level of abstraction if it doesn't help organize\n",
    "our code. On the other hand, the \"obvious\" need is not always self-evident."
   ]
  },
  {
   "cell_type": "markdown",
   "metadata": {},
   "source": [
    ">Don't rush to use an object just because you can use an object, but\n",
    "never neglect to create a class when you need to use a class."
   ]
  },
  {
   "cell_type": "markdown",
   "metadata": {},
   "source": [
    "## Adding behavior to class"
   ]
  },
  {
   "cell_type": "markdown",
   "metadata": {},
   "source": [
    ">Python is very good at blurring\n",
    "distinctions; it doesn't exactly help us to \"think outside the box\". Rather, it teaches\n",
    "us to stop thinking about the box."
   ]
  },
  {
   "cell_type": "markdown",
   "metadata": {},
   "source": [
    "Many object-oriented languages (Java is the most notorious) teach us to never access\n",
    "attributes directly. They insist that we write attribute access like this:"
   ]
  },
  {
   "cell_type": "code",
   "execution_count": 2,
   "metadata": {},
   "outputs": [],
   "source": [
    "class Color:\n",
    "    def __init__(self, rgb_value, name):\n",
    "        self._rgb_value = rgb_value\n",
    "        self._name = name\n",
    "\n",
    "    def set_name(self, name):\n",
    "        self._name = name\n",
    "        \n",
    "    def get_name(self):\n",
    "        return self._name"
   ]
  },
  {
   "cell_type": "markdown",
   "metadata": {},
   "source": [
    "The variables are prefixed with an underscore to suggest that they are *private* (other\n",
    "languages would actually force them to be private). Then the get and set methods\n",
    "provide access to each variable."
   ]
  },
  {
   "cell_type": "code",
   "execution_count": 4,
   "metadata": {},
   "outputs": [
    {
     "name": "stdout",
     "output_type": "stream",
     "text": [
      "bright red\n",
      "Red\n"
     ]
    }
   ],
   "source": [
    "c = Color(\"#ff0000\", \"bright red\")\n",
    "print(c.get_name())\n",
    "c.set_name(\"Red\")\n",
    "print(c.get_name())"
   ]
  },
  {
   "cell_type": "markdown",
   "metadata": {},
   "source": [
    "While in python, we usually do:"
   ]
  },
  {
   "cell_type": "code",
   "execution_count": 6,
   "metadata": {},
   "outputs": [
    {
     "name": "stdout",
     "output_type": "stream",
     "text": [
      "bright red\n"
     ]
    }
   ],
   "source": [
    "class Color:\n",
    "    def __init__(self, rgb_value, name):\n",
    "        self.rgb_value = rgb_value\n",
    "        self.name = name\n",
    "c = Color(\"#ff0000\", \"bright red\")\n",
    "print(c.name)\n",
    "c.name = \"red\""
   ]
  },
  {
   "cell_type": "markdown",
   "metadata": {},
   "source": [
    "The reasoning is that we don't want to expose the private variables to the outside world. Plus, someday we may want to add extra code when a value is set or retrieved.\n",
    "For example, we could decide to cache a value and return the cached value, or\n",
    "we might want to validate that the value is a suitable input.<br>\n",
    " This doesn't make\n",
    "much sense in Python since there isn't any real concept of private members!"
   ]
  },
  {
   "cell_type": "markdown",
   "metadata": {},
   "source": [
    "However, Python gives us the `property` keyword to make methods look like attributes."
   ]
  },
  {
   "cell_type": "code",
   "execution_count": 7,
   "metadata": {},
   "outputs": [],
   "source": [
    "class Color:\n",
    "    def __init__(self, rgb_value, name):\n",
    "        self.rgb_value = rgb_value\n",
    "        self._name = name\n",
    "\n",
    "    def _set_name(self, name):\n",
    "        if not name:\n",
    "            raise Exception(\"Invalid Name\")\n",
    "        self._name = name\n",
    "\n",
    "    def _get_name(self):\n",
    "        return self._name\n",
    "    name = property(_get_name, _set_name)"
   ]
  },
  {
   "cell_type": "markdown",
   "metadata": {},
   "source": [
    "We have the `property` declaration at the bottom. It creates\n",
    "a new attribute on the `Color` class called `name`, which now replaces the previous `name`\n",
    "attribute. It sets this attribute to be a property, which calls the two methods we just\n",
    "created whenever the property is accessed or changed. This new version of the `Color`\n",
    "class can be used exactly the same way as the previous version, yet it now\n",
    "does validation when we set the name attribute:"
   ]
  },
  {
   "cell_type": "code",
   "execution_count": 9,
   "metadata": {},
   "outputs": [
    {
     "name": "stdout",
     "output_type": "stream",
     "text": [
      "bright red\n",
      "red\n"
     ]
    },
    {
     "ename": "Exception",
     "evalue": "Invalid Name",
     "output_type": "error",
     "traceback": [
      "\u001b[1;31m---------------------------------------------------------------------------\u001b[0m",
      "\u001b[1;31mException\u001b[0m                                 Traceback (most recent call last)",
      "\u001b[1;32m<ipython-input-9-4d32f39231df>\u001b[0m in \u001b[0;36m<module>\u001b[1;34m\u001b[0m\n\u001b[0;32m      3\u001b[0m \u001b[0mC\u001b[0m\u001b[1;33m.\u001b[0m\u001b[0mname\u001b[0m \u001b[1;33m=\u001b[0m \u001b[1;34m\"red\"\u001b[0m\u001b[1;33m\u001b[0m\u001b[1;33m\u001b[0m\u001b[0m\n\u001b[0;32m      4\u001b[0m \u001b[0mprint\u001b[0m\u001b[1;33m(\u001b[0m\u001b[0mC\u001b[0m\u001b[1;33m.\u001b[0m\u001b[0mname\u001b[0m\u001b[1;33m)\u001b[0m\u001b[1;33m\u001b[0m\u001b[1;33m\u001b[0m\u001b[0m\n\u001b[1;32m----> 5\u001b[1;33m \u001b[0mC\u001b[0m\u001b[1;33m.\u001b[0m\u001b[0mname\u001b[0m \u001b[1;33m=\u001b[0m \u001b[1;34m\"\"\u001b[0m\u001b[1;33m\u001b[0m\u001b[1;33m\u001b[0m\u001b[0m\n\u001b[0m",
      "\u001b[1;32m<ipython-input-7-49cccbcef04b>\u001b[0m in \u001b[0;36m_set_name\u001b[1;34m(self, name)\u001b[0m\n\u001b[0;32m      6\u001b[0m     \u001b[1;32mdef\u001b[0m \u001b[0m_set_name\u001b[0m\u001b[1;33m(\u001b[0m\u001b[0mself\u001b[0m\u001b[1;33m,\u001b[0m \u001b[0mname\u001b[0m\u001b[1;33m)\u001b[0m\u001b[1;33m:\u001b[0m\u001b[1;33m\u001b[0m\u001b[1;33m\u001b[0m\u001b[0m\n\u001b[0;32m      7\u001b[0m         \u001b[1;32mif\u001b[0m \u001b[1;32mnot\u001b[0m \u001b[0mname\u001b[0m\u001b[1;33m:\u001b[0m\u001b[1;33m\u001b[0m\u001b[1;33m\u001b[0m\u001b[0m\n\u001b[1;32m----> 8\u001b[1;33m             \u001b[1;32mraise\u001b[0m \u001b[0mException\u001b[0m\u001b[1;33m(\u001b[0m\u001b[1;34m\"Invalid Name\"\u001b[0m\u001b[1;33m)\u001b[0m\u001b[1;33m\u001b[0m\u001b[1;33m\u001b[0m\u001b[0m\n\u001b[0m\u001b[0;32m      9\u001b[0m         \u001b[0mself\u001b[0m\u001b[1;33m.\u001b[0m\u001b[0m_name\u001b[0m \u001b[1;33m=\u001b[0m \u001b[0mname\u001b[0m\u001b[1;33m\u001b[0m\u001b[1;33m\u001b[0m\u001b[0m\n\u001b[0;32m     10\u001b[0m \u001b[1;33m\u001b[0m\u001b[0m\n",
      "\u001b[1;31mException\u001b[0m: Invalid Name"
     ]
    }
   ],
   "source": [
    "C = Color(\"#ff0000\", \"bright red\")\n",
    "print(C.name)\n",
    "C.name = \"red\"\n",
    "print(C.name)\n",
    "C.name = \"\""
   ]
  },
  {
   "cell_type": "markdown",
   "metadata": {},
   "source": [
    "Even with the name property, the previous code is not 100 percent\n",
    "safe. People can still access the `_name` attribute directly and set it to an empty\n",
    "string if they want to. *But if they access a variable we've explicitly marked with\n",
    "an underscore to suggest it is private, they're the ones that have to deal with the\n",
    "consequences, not us.*"
   ]
  },
  {
   "cell_type": "markdown",
   "metadata": {},
   "source": [
    "### Properties in detail"
   ]
  },
  {
   "cell_type": "markdown",
   "metadata": {},
   "source": [
    "This `property` constructor can actually accept two additional arguments, a deletion\n",
    "function and a docstring for the property. The `delete` function is rarely supplied in\n",
    "practice, but it can be useful for logging that a value has been deleted, or possibly\n",
    "to veto deleting if we have reason to do so."
   ]
  },
  {
   "cell_type": "code",
   "execution_count": 10,
   "metadata": {},
   "outputs": [],
   "source": [
    "class Silly:\n",
    "    def _get_silly(self):\n",
    "        print(\"You are getting silly\")\n",
    "        return self._silly\n",
    "\n",
    "    def _set_silly(self, value):\n",
    "        print(\"You are making silly {}\".format(value))\n",
    "        self._silly = value\n",
    "\n",
    "    def _del_silly(self):\n",
    "        print(\"Whoah, you killed silly!\")\n",
    "        del self._silly\n",
    "    silly = property(_get_silly, _set_silly,\n",
    "    _del_silly, \"This is a silly property\")"
   ]
  },
  {
   "cell_type": "code",
   "execution_count": 12,
   "metadata": {},
   "outputs": [
    {
     "name": "stdout",
     "output_type": "stream",
     "text": [
      "You are making silly yes\n",
      "You are getting silly\n"
     ]
    },
    {
     "data": {
      "text/plain": [
       "'yes'"
      ]
     },
     "execution_count": 12,
     "metadata": {},
     "output_type": "execute_result"
    }
   ],
   "source": [
    "s = Silly()\n",
    "s.silly = \"yes\"\n",
    "s.silly"
   ]
  },
  {
   "cell_type": "code",
   "execution_count": 13,
   "metadata": {},
   "outputs": [
    {
     "name": "stdout",
     "output_type": "stream",
     "text": [
      "Whoah, you killed silly!\n"
     ]
    }
   ],
   "source": [
    "del s.silly"
   ]
  },
  {
   "cell_type": "markdown",
   "metadata": {},
   "source": [
    "### Create Property Using Decorator"
   ]
  },
  {
   "cell_type": "markdown",
   "metadata": {},
   "source": [
    "The property function can be used with the decorator syntax to turn a get function\n",
    "into a property:"
   ]
  },
  {
   "cell_type": "code",
   "execution_count": 18,
   "metadata": {},
   "outputs": [
    {
     "data": {
      "text/plain": [
       "'bar'"
      ]
     },
     "execution_count": 18,
     "metadata": {},
     "output_type": "execute_result"
    }
   ],
   "source": [
    "class Foo:\n",
    "    @property\n",
    "    def foo(self):\n",
    "        return \"bar\"\n",
    "f=Foo()\n",
    "f.foo"
   ]
  },
  {
   "cell_type": "markdown",
   "metadata": {},
   "source": [
    "This applies the property function as a decorator, and is equivalent to the previous\n",
    "`foo = property(foo)` syntax. It means we don't have\n",
    "to create private methods with underscore prefixes just to define a property.\n",
    "<br>\n",
    "Going one step further, we can specify a setter function for the new property.\n",
    "First, we decorate the\n",
    "`foo` method as a getter. Then, we decorate a second method with exactly the same\n",
    "name by applying the setter attribute of the originally decorated `foo` method! The\n",
    "property function returns an object; this object always comes with its own setter\n",
    "attribute, which can then be applied as a decorator to other functions. Using the same\n",
    "name for the get and set methods is not required, but it does help group the multiple\n",
    "methods that access one property together.\n",
    "We can also specify a deletion function with `@foo.deleter`."
   ]
  },
  {
   "cell_type": "markdown",
   "metadata": {},
   "source": [
    "Here's our previous `Silly` class rewritten to use `property` as a decorator:"
   ]
  },
  {
   "cell_type": "code",
   "execution_count": 19,
   "metadata": {},
   "outputs": [
    {
     "name": "stdout",
     "output_type": "stream",
     "text": [
      "You are making silly yes\n",
      "You are getting silly\n",
      "Whoah, you killed silly!\n"
     ]
    }
   ],
   "source": [
    "\n",
    "class Silly:\n",
    "    @property\n",
    "    def silly(self):\n",
    "        \"This is a silly property\"\n",
    "        print(\"You are getting silly\")\n",
    "        return self._silly\n",
    "\n",
    "    @silly.setter\n",
    "    def silly(self, value):\n",
    "        print(\"You are making silly {}\".format(value))\n",
    "        self._silly = value\n",
    "\n",
    "    @silly.deleter\n",
    "    def silly(self):\n",
    "        print(\"Whoah, you killed silly!\")\n",
    "        del self._silly\n",
    "\n",
    "s = Silly()\n",
    "s.silly = \"yes\"\n",
    "s.silly\n",
    "del s.silly"
   ]
  },
  {
   "cell_type": "markdown",
   "metadata": {},
   "source": [
    "## Deciding when to use properties"
   ]
  },
  {
   "cell_type": "markdown",
   "metadata": {},
   "source": [
    "Technically, in Python, data, properties, and methods are all attributes on a class.\n",
    "The fact that a method is callable does not distinguish it from other types of\n",
    "attributes; indeed it is possible to create normal objects that can be called like functions. We'll also\n",
    "discover that functions and methods are themselves normal objects.<br>\n",
    "The fact that methods are just callable attributes, and properties are just customizable\n",
    "attributes can help us make this decision. Methods should typically represent actions;\n",
    "things that can be done to, or performed by, the object. When you call a method, even\n",
    "with only one argument, it should do something. *Method names are generally verbs.*"
   ]
  },
  {
   "cell_type": "markdown",
   "metadata": {},
   "source": [
    ">A common need for custom behavior is caching\n",
    "a value that is difficult to calculate or expensive to look up (requiring, for example,\n",
    "a network request or database query). The goal is to store the value locally to avoid\n",
    "repeated calls to the expensive calculation."
   ]
  },
  {
   "cell_type": "code",
   "execution_count": 25,
   "metadata": {},
   "outputs": [],
   "source": [
    "from urllib.request import urlopen\n",
    "class WebPage:\n",
    "    def __init__(self, url):\n",
    "        self.url = url\n",
    "        self._content = None\n",
    "\n",
    "    @property\n",
    "    def content(self):\n",
    "        if not self._content:\n",
    "            print(\"Retrieving New Page...\")\n",
    "            self._content = urlopen(self.url).read()\n",
    "        return self._content"
   ]
  },
  {
   "cell_type": "code",
   "execution_count": 31,
   "metadata": {},
   "outputs": [
    {
     "name": "stdout",
     "output_type": "stream",
     "text": [
      "Retrieving New Page...\n"
     ]
    },
    {
     "data": {
      "text/plain": [
       "True"
      ]
     },
     "execution_count": 31,
     "metadata": {},
     "output_type": "execute_result"
    }
   ],
   "source": [
    "import time\n",
    "webpage = WebPage(\"http://google.com/\")\n",
    "content1 = webpage.content\n",
    "time.sleep(1)\n",
    "content2 = webpage.content\n",
    "content1 == content2"
   ]
  },
  {
   "cell_type": "markdown",
   "metadata": {},
   "source": [
    "Custom getters are also useful for attributes that need to be calculated on the fly,\n",
    "based on other object attributes."
   ]
  },
  {
   "cell_type": "code",
   "execution_count": 32,
   "metadata": {},
   "outputs": [
    {
     "data": {
      "text/plain": [
       "2.5"
      ]
     },
     "execution_count": 32,
     "metadata": {},
     "output_type": "execute_result"
    }
   ],
   "source": [
    "class AverageList(list):\n",
    "    @property\n",
    "    def average(self):\n",
    "        return sum(self) / len(self)\n",
    "\n",
    "a = AverageList([1,2,3,4])\n",
    "a.average"
   ]
  },
  {
   "cell_type": "markdown",
   "metadata": {},
   "source": [
    "## Manager objects"
   ]
  },
  {
   "cell_type": "markdown",
   "metadata": {},
   "source": [
    "Management objects are more\n",
    "like office managers; they don't do the actual \"visible\" work out on the floor, but\n",
    "without them, there would be no communication between departments and nobody\n",
    "would know what they are supposed to do (although, this can be true anyway if the\n",
    "organization is badly managed!). Analogously, the attributes on a management class\n",
    "tend to refer to other objects that do the \"visible\" work; the behaviors on such a class\n",
    "delegate to those other classes at the right time, and pass messages between them."
   ]
  },
  {
   "cell_type": "markdown",
   "metadata": {},
   "source": [
    "As an example, we'll write a program that does a find and replace action for text files\n",
    "stored in a compressed ZIP file.\n",
    "1. Unzipping the compressed file.\n",
    "2. Performing the find and replace action.\n",
    "3. Zipping up the new files."
   ]
  },
  {
   "cell_type": "code",
   "execution_count": 35,
   "metadata": {},
   "outputs": [],
   "source": [
    "import sys\n",
    "import shutil\n",
    "import zipfile\n",
    "from pathlib import Path\n",
    "\n",
    "\n",
    "class ZipReplace:\n",
    "    def __init__(self, filename, search_string, replace_string):\n",
    "        self.filename = filename\n",
    "        self.search_string = search_string\n",
    "        self.replace_string = replace_string\n",
    "        self.temp_directory = Path(\"unzipped-{}\".format(\n",
    "        filename))\n",
    "\n",
    "    def zip_find_replace(self):\n",
    "        self.unzip_files()\n",
    "        self.find_replace()\n",
    "        self.zip_files()\n",
    "\n",
    "    def unzip_files(self):\n",
    "        self.temp_directory.mkdir()\n",
    "        with zipfile.ZipFile(self.filename) as zip:\n",
    "            zip.extractall(str(self.temp_directory))\n",
    "\n",
    "    def find_replace(self):\n",
    "        for filename in self.temp_directory.iterdir():\n",
    "            with filename.open() as file:\n",
    "                contents = file.read()\n",
    "            contents = contents.replace(self.search_string, self.replace_string)\n",
    "            with filename.open(\"w\") as file:\n",
    "                file.write(contents)\n",
    "\n",
    "    def zip_files(self):\n",
    "        with zipfile.ZipFile(self.filename, 'w') as file:\n",
    "            for filename in self.temp_directory.iterdir():\n",
    "                file.write(str(filename), filename.name)\n",
    "        shutil.rmtree(str(self.temp_directory))\n",
    "                \n",
    "\n",
    "# if __name__ == \"__main__\":\n",
    "#     ZipReplace(*sys.argv[1:4]).zip_find_replace()"
   ]
  },
  {
   "cell_type": "markdown",
   "metadata": {},
   "source": [
    "The `zip_find_replace` function is a management object that coordinates the unzipping, searching, replacing, and zipping up of the files."
   ]
  },
  {
   "cell_type": "markdown",
   "metadata": {},
   "source": [
    "## Removing duplicate code"
   ]
  },
  {
   "cell_type": "markdown",
   "metadata": {},
   "source": [
    "When we're trying to read two similar pieces of code, we have to\n",
    "understand why they're different, as well as how they're different. This wastes the\n",
    "reader's time; code should always be written to be readable first."
   ]
  },
  {
   "cell_type": "markdown",
   "metadata": {},
   "source": [
    ">The author once had to try to understand someone's code that had three identical\n",
    "copies of the same 300 lines of very poorly written code. He had been\n",
    "working with the code for a month before he finally comprehended that\n",
    "the three \"identical\" versions were actually performing slightly different\n",
    "tax calculations. Some of the subtle differences were intentional, but\n",
    "there were also obvious areas where someone had updated a calculation\n",
    "in one function without updating the other two. The number of subtle,\n",
    "incomprehensible bugs in the code could not be counted. He eventually\n",
    "replaced all 900 lines with an easy-to-read function of 20 lines or so."
   ]
  },
  {
   "cell_type": "markdown",
   "metadata": {},
   "source": [
    ">**In short: always make the effort to\n",
    "refactor your code to be easier to read instead of writing bad code that is only easier\n",
    "to write.**"
   ]
  },
  {
   "cell_type": "markdown",
   "metadata": {},
   "source": [
    "We can see from the above example that we have repeated some part of our code.Let's explore two ways we can reuse existing code. After writing our code to replace\n",
    "strings in a ZIP file full of text files, we are later contracted to scale all the images in\n",
    "a ZIP file to 640 x 480. Looks like we could use a very similar paradigm to what we\n",
    "used in ZipReplace. The first impulse might be to save a copy of that file and change\n",
    "the find_replace method to scale_image or something similar. But this is not that a great idea. Instead, we'll create a superclass `ZipProcessor` for processing generic\n",
    "ZIP files and using inheritance, we can stop repeating code and reuse the same code for both."
   ]
  },
  {
   "cell_type": "code",
   "execution_count": 40,
   "metadata": {},
   "outputs": [],
   "source": [
    "import os\n",
    "import shutil\n",
    "import zipfile\n",
    "from pathlib import Path\n",
    "\n",
    "\n",
    "class ZipProcessor:\n",
    "    def __init__(self, zipname):\n",
    "        self.zipname = zipname\n",
    "        self.temp_directory = Path(\"unzipped-{}\".format(zipname[:-4])) \n",
    "\n",
    "        def process_zip(self):\n",
    "            self.unzip_files()\n",
    "            self.process_files()\n",
    "            self.zip_files()\n",
    "\n",
    "        def unzip_files(self):\n",
    "            self.temp_directory.mkdir()\n",
    "            with zipfile.ZipFile(self.zipname) as zip:\n",
    "                zip.extractall(str(self.temp_directory))\n",
    "\n",
    "        def zip_files(self):\n",
    "            with zipfile.ZipFile(self.zipname, 'w') as file:\n",
    "                for filename in self.temp_directory.iterdir():\n",
    "                    file.write(str(filename), filename.name)\n",
    "            shutil.rmtree(str(self.temp_directory))"
   ]
  },
  {
   "cell_type": "markdown",
   "metadata": {},
   "source": [
    "Now, let's fix up our original\n",
    "`zipsearch` class to make use of this parent class:"
   ]
  },
  {
   "cell_type": "code",
   "execution_count": 42,
   "metadata": {},
   "outputs": [],
   "source": [
    "# from zip_processor import ZipProcessor\n",
    "import sys\n",
    "import os\n",
    "\n",
    "\n",
    "class ZipReplace(ZipProcessor):\n",
    "    def __init__(self, filename, search_string,\n",
    "    replace_string):\n",
    "        super().__init__(filename)\n",
    "        self.search_string = search_string\n",
    "        self.replace_string = replace_string\n",
    "\n",
    "    def process_files(self):\n",
    "        '''perform a search and replace on all files in the\n",
    "        temporary directory'''\n",
    "        for filename in self.temp_directory.iterdir():\n",
    "            with filename.open() as file:\n",
    "                contents = file.read()\n",
    "            contents = contents.replace(self.search_string, self.replace_string)\n",
    "            with filename.open(\"w\") as file:\n",
    "                file.write(contents)"
   ]
  },
  {
   "cell_type": "markdown",
   "metadata": {},
   "source": [
    "Using inheritance, it is now simple to create a photo scaling class that takes advantage of the\n",
    "`ZipProcessor` functionality."
   ]
  },
  {
   "cell_type": "code",
   "execution_count": 43,
   "metadata": {},
   "outputs": [],
   "source": [
    "# from zip_processor import ZipProcessor\n",
    "import sys\n",
    "from PIL import Image\n",
    "\n",
    "\n",
    "class ScaleZip(ZipProcessor):\n",
    "    def process_files(self):\n",
    "        '''Scale each image in the directory to 640x480'''\n",
    "        for filename in self.temp_directory.iterdir():\n",
    "            im = Image.open(str(filename))\n",
    "            scaled = im.resize((640, 480))\n",
    "            scaled.save(str(filename))"
   ]
  },
  {
   "cell_type": "markdown",
   "metadata": {},
   "source": [
    "** We're Done!**"
   ]
  },
  {
   "cell_type": "markdown",
   "metadata": {},
   "source": [
    "## Case study"
   ]
  },
  {
   "cell_type": "markdown",
   "metadata": {},
   "source": [
    "This time, we'll be modeling a Document class that might be\n",
    "used in a text editor or word processor. "
   ]
  },
  {
   "cell_type": "code",
   "execution_count": 1,
   "metadata": {},
   "outputs": [
    {
     "name": "stdout",
     "output_type": "stream",
     "text": [
      "c:\\Users\\harik\\Desktop\\Python\\Notes\\OOP\\Case Study Ch.5\n"
     ]
    }
   ],
   "source": [
    "cd Case Study Ch.5"
   ]
  },
  {
   "cell_type": "code",
   "execution_count": 3,
   "metadata": {},
   "outputs": [
    {
     "name": "stdout",
     "output_type": "stream",
     "text": [
      "he*l*lo\n",
      "/w/o_rld\n"
     ]
    }
   ],
   "source": [
    "from document import Document, Character\n",
    "d = Document()\n",
    "d.insert('h')\n",
    "d.insert('e')\n",
    "d.insert(Character('l', bold=True))\n",
    "d.insert(Character('l', bold=True))\n",
    "d.insert('o')\n",
    "d.insert('\\n')\n",
    "d.insert(Character('w', italic=True))\n",
    "d.insert(Character('o', italic=True))\n",
    "d.insert(Character('r', underline=True))\n",
    "d.insert('l')\n",
    "d.insert('d')\n",
    "print(d.string)"
   ]
  },
  {
   "cell_type": "code",
   "execution_count": 4,
   "metadata": {},
   "outputs": [
    {
     "name": "stdout",
     "output_type": "stream",
     "text": [
      "he*l*lo\n",
      "W/o_rld\n"
     ]
    }
   ],
   "source": [
    "d.cursor.home()\n",
    "d.delete()\n",
    "d.insert('W')\n",
    "print(d.string)"
   ]
  }
 ],
 "metadata": {
  "interpreter": {
   "hash": "ce44b17c45080b8f56a19c9450d52461d624c968fcd959bb1916985c5ffa2b94"
  },
  "kernelspec": {
   "display_name": "Python 3.8.5 64-bit ('base': conda)",
   "language": "python",
   "name": "python3"
  },
  "language_info": {
   "codemirror_mode": {
    "name": "ipython",
    "version": 3
   },
   "file_extension": ".py",
   "mimetype": "text/x-python",
   "name": "python",
   "nbconvert_exporter": "python",
   "pygments_lexer": "ipython3",
   "version": "3.8.5"
  },
  "orig_nbformat": 4
 },
 "nbformat": 4,
 "nbformat_minor": 2
}
