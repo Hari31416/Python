{
 "cells": [
  {
   "cell_type": "code",
   "execution_count": 5,
   "metadata": {},
   "outputs": [],
   "source": [
    "import shutil"
   ]
  },
  {
   "cell_type": "code",
   "execution_count": 6,
   "metadata": {
    "scrolled": true
   },
   "outputs": [],
   "source": [
    "import os"
   ]
  },
  {
   "cell_type": "code",
   "execution_count": 7,
   "metadata": {},
   "outputs": [],
   "source": [
    "import re"
   ]
  },
  {
   "cell_type": "code",
   "execution_count": 8,
   "metadata": {},
   "outputs": [
    {
     "data": {
      "text/plain": [
       "'C:\\\\Users\\\\harik\\\\Desktop\\\\Python\\\\notes\\\\12-Advanced Python Modules\\\\08-Advanced-Python-Module-Exercise'"
      ]
     },
     "execution_count": 8,
     "metadata": {},
     "output_type": "execute_result"
    }
   ],
   "source": [
    "pwd"
   ]
  },
  {
   "cell_type": "code",
   "execution_count": 66,
   "metadata": {},
   "outputs": [
    {
     "name": "stdout",
     "output_type": "stream",
     "text": [
      "C:\\Users\\harik\\Desktop\\Python\\notes\\12-Advanced Python Modules\\08-Advanced-Python-Module-Exercise\n"
     ]
    }
   ],
   "source": [
    "cd .."
   ]
  },
  {
   "cell_type": "code",
   "execution_count": 64,
   "metadata": {},
   "outputs": [
    {
     "name": "stdout",
     "output_type": "stream",
     "text": [
      "C:\\Users\\harik\\Desktop\\Python\\notes\\12-Advanced Python Modules\\08-Advanced-Python-Module-Exercise\\extracted_content\\Four\n"
     ]
    }
   ],
   "source": [
    "cd Four"
   ]
  },
  {
   "cell_type": "code",
   "execution_count": 60,
   "metadata": {},
   "outputs": [],
   "source": [
    "file = os.listdir()"
   ]
  },
  {
   "cell_type": "code",
   "execution_count": 61,
   "metadata": {},
   "outputs": [
    {
     "data": {
      "text/plain": [
       "['ECIOBYCDVFI.txt',\n",
       " 'EMTGPSXQEJX.txt',\n",
       " 'EPRNUHRSESC.txt',\n",
       " 'ESDIZXHYCVY.txt',\n",
       " 'EXVQSVBQQQH.txt',\n",
       " 'QCTCKDIBBVG.txt',\n",
       " 'QCWCFLKNZMN.txt',\n",
       " 'QDDETWBHJYC.txt',\n",
       " 'QTDYYIFPHAU.txt',\n",
       " 'QVNJULGXNUM.txt',\n",
       " 'REAXWSOIQDY.txt',\n",
       " 'ROICPTWKXDX.txt',\n",
       " 'RSXOTNGKBML.txt',\n",
       " 'RXDARIDGKBF.txt',\n",
       " 'RYNXFYXMKHG.txt',\n",
       " 'TAKNAVDMZKV.txt',\n",
       " 'THPNEGKTJWI.txt',\n",
       " 'TJFMLJODVAD.txt',\n",
       " 'TKCZSFQNJTX.txt',\n",
       " 'TWUOYFCCYBQ.txt',\n",
       " 'WFSKPTXPFCH.txt',\n",
       " 'WHTOHQUWXIN.txt',\n",
       " 'WNJISWPEBRS.txt',\n",
       " 'WXDJDOGZEHN.txt',\n",
       " 'WYDLGSGGXKV.txt']"
      ]
     },
     "execution_count": 61,
     "metadata": {},
     "output_type": "execute_result"
    }
   ],
   "source": [
    "file"
   ]
  },
  {
   "cell_type": "code",
   "execution_count": 62,
   "metadata": {},
   "outputs": [
    {
     "data": {
      "text/plain": [
       "<re.Match object; span=(4859, 4871), match='719-266-2837'>"
      ]
     },
     "execution_count": 62,
     "metadata": {},
     "output_type": "execute_result"
    }
   ],
   "source": [
    "text = ''\n",
    "for file_name in file:  \n",
    "    file1 = open(file_name, 'r')\n",
    "    for line in file1.readlines():\n",
    "        text+=line\n",
    "    file1.close()\n",
    "pattern = r'\\d\\d\\d-\\d\\d\\d-\\d\\d\\d\\d'\n",
    "re.search(pattern,text)"
   ]
  },
  {
   "cell_type": "code",
   "execution_count": 46,
   "metadata": {},
   "outputs": [
    {
     "data": {
      "text/plain": [
       "<re.Match object; span=(14, 22), match='bibendum'>"
      ]
     },
     "execution_count": 46,
     "metadata": {},
     "output_type": "execute_result"
    }
   ],
   "source": [
    "file1 = open('DZUWWXYIAEL.txt', 'r')\n",
    "text = ''\n",
    "for line in file1.readlines():\n",
    "    text+=line\n",
    "pattern = \"bibendum\"\n",
    "re.search(pattern,text)"
   ]
  },
  {
   "cell_type": "code",
   "execution_count": 92,
   "metadata": {},
   "outputs": [
    {
     "name": "stdout",
     "output_type": "stream",
     "text": [
      "C:\\Users\\harik\\Desktop\\Python\\notes\\12-Advanced Python Modules\\08-Advanced-Python-Module-Exercise\\extracted_content\n"
     ]
    }
   ],
   "source": [
    "cd C:\\Users\\harik\\Desktop\\Python\\notes\\12-Advanced Python Modules\\08-Advanced-Python-Module-Exercise\\extracted_content"
   ]
  },
  {
   "cell_type": "code",
   "execution_count": 103,
   "metadata": {},
   "outputs": [
    {
     "data": {
      "text/plain": [
       "'C:\\\\Users\\\\harik\\\\Desktop\\\\Python\\\\notes\\\\12-Advanced Python Modules\\\\08-Advanced-Python-Module-Exercise'"
      ]
     },
     "execution_count": 103,
     "metadata": {},
     "output_type": "execute_result"
    }
   ],
   "source": [
    "pwd"
   ]
  },
  {
   "cell_type": "code",
   "execution_count": 93,
   "metadata": {},
   "outputs": [
    {
     "data": {
      "text/plain": [
       "['all.txt', 'all2.txt', 'Five', 'Four', 'One', 'Three', 'Two']"
      ]
     },
     "execution_count": 93,
     "metadata": {},
     "output_type": "execute_result"
    }
   ],
   "source": [
    "os.listdir()"
   ]
  },
  {
   "cell_type": "code",
   "execution_count": 136,
   "metadata": {
    "scrolled": true
   },
   "outputs": [],
   "source": [
    "tree = os.walk('extracted_content')"
   ]
  },
  {
   "cell_type": "code",
   "execution_count": 137,
   "metadata": {},
   "outputs": [],
   "source": [
    "\n",
    "text = ''\n",
    "for folder, subfolders, files in tree:\n",
    "    for subfolder in subfolders:\n",
    "        pass\n",
    "    for file in files:\n",
    "        for file_name in file:  \n",
    "            file1 = open(f\"{folder}\\\\{file}\", 'r')\n",
    "            for line in file1.readlines():\n",
    "                text+=line\n",
    "            file1.close()\n",
    "pattern = r'\\d+'\n",
    "saerch = re.findall(pattern,text)"
   ]
  },
  {
   "cell_type": "code",
   "execution_count": 138,
   "metadata": {},
   "outputs": [
    {
     "name": "stdout",
     "output_type": "stream",
     "text": [
      "1\n",
      "06\n",
      "4\n",
      "5\n",
      "84\n",
      "1\n",
      "06\n",
      "4\n",
      "5\n",
      "84\n",
      "1\n",
      "06\n",
      "4\n",
      "5\n",
      "84\n",
      "1\n",
      "06\n",
      "4\n",
      "5\n",
      "84\n",
      "1\n",
      "06\n",
      "4\n",
      "5\n",
      "84\n",
      "1\n",
      "06\n",
      "4\n",
      "5\n",
      "84\n",
      "1\n",
      "06\n",
      "4\n",
      "5\n",
      "84\n",
      "1\n",
      "06\n",
      "4\n",
      "5\n",
      "84\n",
      "1\n",
      "06\n",
      "4\n",
      "5\n",
      "84\n",
      "1\n",
      "06\n",
      "4\n",
      "5\n",
      "84\n",
      "1\n",
      "06\n",
      "4\n",
      "5\n",
      "84\n",
      "1\n",
      "06\n",
      "4\n",
      "5\n",
      "84\n",
      "1\n",
      "06\n",
      "4\n",
      "5\n",
      "84\n",
      "1\n",
      "06\n",
      "4\n",
      "5\n",
      "84\n",
      "1\n",
      "06\n",
      "4\n",
      "5\n",
      "84\n",
      "719\n",
      "266\n",
      "2837\n",
      "719\n",
      "266\n",
      "2837\n",
      "719\n",
      "266\n",
      "2837\n",
      "719\n",
      "266\n",
      "2837\n",
      "719\n",
      "266\n",
      "2837\n",
      "719\n",
      "266\n",
      "2837\n",
      "719\n",
      "266\n",
      "2837\n",
      "719\n",
      "266\n",
      "2837\n",
      "719\n",
      "266\n",
      "2837\n",
      "719\n",
      "266\n",
      "2837\n",
      "719\n",
      "266\n",
      "2837\n",
      "719\n",
      "266\n",
      "2837\n",
      "719\n",
      "266\n",
      "2837\n",
      "719\n",
      "266\n",
      "2837\n",
      "719\n",
      "266\n",
      "2837\n",
      "314555281722555\n",
      "314555281722555\n",
      "314555281722555\n",
      "314555281722555\n",
      "314555281722555\n",
      "314555281722555\n",
      "314555281722555\n",
      "314555281722555\n",
      "314555281722555\n",
      "314555281722555\n",
      "314555281722555\n",
      "314555281722555\n",
      "314555281722555\n",
      "314555281722555\n",
      "314555281722555\n",
      "17\n",
      "0\n",
      "7\n",
      "17\n",
      "0\n",
      "7\n",
      "17\n",
      "0\n",
      "7\n",
      "17\n",
      "0\n",
      "7\n",
      "17\n",
      "0\n",
      "7\n",
      "17\n",
      "0\n",
      "7\n",
      "17\n",
      "0\n",
      "7\n",
      "17\n",
      "0\n",
      "7\n",
      "17\n",
      "0\n",
      "7\n",
      "17\n",
      "0\n",
      "7\n",
      "17\n",
      "0\n",
      "7\n",
      "17\n",
      "0\n",
      "7\n",
      "17\n",
      "0\n",
      "7\n",
      "17\n",
      "0\n",
      "7\n",
      "17\n",
      "0\n",
      "7\n"
     ]
    }
   ],
   "source": [
    "for a in saerch:\n",
    "    print(a)"
   ]
  },
  {
   "cell_type": "code",
   "execution_count": 117,
   "metadata": {},
   "outputs": [
    {
     "name": "stdout",
     "output_type": "stream",
     "text": [
      "extracted_content\\all.txt\n",
      "extracted_content\\all2.txt\n",
      "extracted_content\\Five\\AEITMYIRQLP.txt\n",
      "extracted_content\\Five\\APJKSRITGGX.txt\n",
      "extracted_content\\Five\\AQKATDFGXTS.txt\n",
      "extracted_content\\Five\\ARLKFCWIAJE.txt\n",
      "extracted_content\\Five\\AXJGVPVEFAS.txt\n",
      "extracted_content\\Five\\BNUQEHCFRTG.txt\n",
      "extracted_content\\Five\\BSKJDRNEZQM.txt\n",
      "extracted_content\\Five\\BTYWAHLHKBM.txt\n",
      "extracted_content\\Five\\BUGKBZWRRVI.txt\n",
      "extracted_content\\Five\\BVBURZZCAPR.txt\n",
      "extracted_content\\Five\\CAHBEVSVDDN.txt\n",
      "extracted_content\\Five\\COMGMZBJAYE.txt\n",
      "extracted_content\\Five\\CRFSDGYFSHA.txt\n",
      "extracted_content\\Five\\CSCLFZCDYYC.txt\n",
      "extracted_content\\Five\\CXBVCTRBBIE.txt\n",
      "extracted_content\\Five\\DDLASODUVPX.txt\n",
      "extracted_content\\Five\\DHZBAAYEADM.txt\n",
      "extracted_content\\Five\\DQPZQLBCJYP.txt\n",
      "extracted_content\\Five\\DYOPIIVMZOO.txt\n",
      "extracted_content\\Five\\DZUWWXYIAEL.txt\n",
      "extracted_content\\Five\\EAAOEPSAWMQ.txt\n",
      "extracted_content\\Five\\EIPWXMQZJKU.txt\n",
      "extracted_content\\Five\\ESIZWBHMGDP.txt\n",
      "extracted_content\\Five\\ETCUEXWNBCF.txt\n",
      "extracted_content\\Five\\EYTCGIOYWIW.txt\n",
      "extracted_content\\Four\\ECIOBYCDVFI.txt\n",
      "extracted_content\\Four\\EMTGPSXQEJX.txt\n",
      "extracted_content\\Four\\EPRNUHRSESC.txt\n",
      "extracted_content\\Four\\ESDIZXHYCVY.txt\n",
      "extracted_content\\Four\\EXVQSVBQQQH.txt\n",
      "extracted_content\\Four\\QCTCKDIBBVG.txt\n",
      "extracted_content\\Four\\QCWCFLKNZMN.txt\n",
      "extracted_content\\Four\\QDDETWBHJYC.txt\n",
      "extracted_content\\Four\\QTDYYIFPHAU.txt\n",
      "extracted_content\\Four\\QVNJULGXNUM.txt\n",
      "extracted_content\\Four\\REAXWSOIQDY.txt\n",
      "extracted_content\\Four\\ROICPTWKXDX.txt\n",
      "extracted_content\\Four\\RSXOTNGKBML.txt\n",
      "extracted_content\\Four\\RXDARIDGKBF.txt\n",
      "extracted_content\\Four\\RYNXFYXMKHG.txt\n",
      "extracted_content\\Four\\TAKNAVDMZKV.txt\n",
      "extracted_content\\Four\\THPNEGKTJWI.txt\n",
      "extracted_content\\Four\\TJFMLJODVAD.txt\n",
      "extracted_content\\Four\\TKCZSFQNJTX.txt\n",
      "extracted_content\\Four\\TWUOYFCCYBQ.txt\n",
      "extracted_content\\Four\\WFSKPTXPFCH.txt\n",
      "extracted_content\\Four\\WHTOHQUWXIN.txt\n",
      "extracted_content\\Four\\WNJISWPEBRS.txt\n",
      "extracted_content\\Four\\WXDJDOGZEHN.txt\n",
      "extracted_content\\Four\\WYDLGSGGXKV.txt\n",
      "extracted_content\\One\\HDOHZHFSTTK.txt\n",
      "extracted_content\\One\\HFUTPPAXDIS.txt\n",
      "extracted_content\\One\\HMNZTLIFGPD.txt\n",
      "extracted_content\\One\\HRQFTHKVJTL.txt\n",
      "extracted_content\\One\\HVUTZEVMSBW.txt\n",
      "extracted_content\\One\\JDLRVFCXYLU.txt\n",
      "extracted_content\\One\\JEHBLZPUPSP.txt\n",
      "extracted_content\\One\\JLTXKIGCWDL.txt\n",
      "extracted_content\\One\\JQUOBKFUACN.txt\n",
      "extracted_content\\One\\JTHSNBNPQSE.txt\n",
      "extracted_content\\One\\KCXGNQCZBLO.txt\n",
      "extracted_content\\One\\KFIUZFERLET.txt\n",
      "extracted_content\\One\\KMMLGJOWLGI.txt\n",
      "extracted_content\\One\\KNBSKDREHQU.txt\n",
      "extracted_content\\One\\KTXDHIOKAUI.txt\n",
      "extracted_content\\One\\LDGOCUQJNNS.txt\n",
      "extracted_content\\One\\LFEATJAAYDC.txt\n",
      "extracted_content\\One\\LHODFIKVTQA.txt\n",
      "extracted_content\\One\\LIFDHOFKWOI.txt\n",
      "extracted_content\\One\\LPNDVDXPZIG.txt\n",
      "extracted_content\\One\\PDJMSMNKIRM.txt\n",
      "extracted_content\\One\\PHWAVPEKAER.txt\n",
      "extracted_content\\One\\PLYCGPVEAWO.txt\n",
      "extracted_content\\One\\PQNVCVJINAR.txt\n",
      "extracted_content\\One\\PTOBBCJYURJ.txt\n",
      "extracted_content\\Three\\VAQIJTDOFUJ.txt\n",
      "extracted_content\\Three\\VCFJCGJFBIH.txt\n",
      "extracted_content\\Three\\VSXFSTABZDY.txt\n",
      "extracted_content\\Three\\VVHFVZUNLOO.txt\n",
      "extracted_content\\Three\\VVKGWLRMHLU.txt\n",
      "extracted_content\\Three\\XAJMCPEWFNI.txt\n",
      "extracted_content\\Three\\XFHJOTNPEJG.txt\n",
      "extracted_content\\Three\\XHZPVUQTXIO.txt\n",
      "extracted_content\\Three\\XJCWENFFGHB.txt\n",
      "extracted_content\\Three\\XVMPVSVYKFR.txt\n",
      "extracted_content\\Three\\YCESZHJDBXH.txt\n",
      "extracted_content\\Three\\YDQFMWXOUMW.txt\n",
      "extracted_content\\Three\\YQBIUHSUEVW.txt\n",
      "extracted_content\\Three\\YQRNCMNFFHW.txt\n",
      "extracted_content\\Three\\YYIZGBTQHZP.txt\n",
      "extracted_content\\Three\\ZEZKKRBIZEB.txt\n",
      "extracted_content\\Three\\ZKQJXAYKPVD.txt\n",
      "extracted_content\\Three\\ZOWVXWPOGWP.txt\n",
      "extracted_content\\Three\\ZXEZRQXZNPG.txt\n",
      "extracted_content\\Three\\ZXIBJMPROKW.txt\n",
      "extracted_content\\Two\\GKQBQRCTNNK.txt\n",
      "extracted_content\\Two\\GMMQQUBMJNR.txt\n",
      "extracted_content\\Two\\GQTJJORZBXY.txt\n",
      "extracted_content\\Two\\GTOTCIWMDBY.txt\n",
      "extracted_content\\Two\\GXYSEPAFRTP.txt\n",
      "extracted_content\\Two\\HARDNJGDRBC.txt\n",
      "extracted_content\\Two\\HEORIXOTANT.txt\n",
      "extracted_content\\Two\\HMUTDOVNYTV.txt\n",
      "extracted_content\\Two\\HMZXPBOPRAE.txt\n",
      "extracted_content\\Two\\HTOHSTYXTCO.txt\n",
      "extracted_content\\Two\\LCJZYDHBFRM.txt\n",
      "extracted_content\\Two\\LSQSTGPIGIY.txt\n",
      "extracted_content\\Two\\LULTNYAQEJG.txt\n",
      "extracted_content\\Two\\LVMBINRBJXL.txt\n",
      "extracted_content\\Two\\LYZEQCVYNEZ.txt\n",
      "extracted_content\\Two\\OHZOUOSFJQC.txt\n",
      "extracted_content\\Two\\OIHMLGMWTHL.txt\n",
      "extracted_content\\Two\\OKWFOOYTXFU.txt\n",
      "extracted_content\\Two\\OMWIMVRCMYM.txt\n",
      "extracted_content\\Two\\OYMAGXAGWHJ.txt\n",
      "extracted_content\\Two\\SIKFPPLCJDN.txt\n",
      "extracted_content\\Two\\SJMJLDGPBSJ.txt\n",
      "extracted_content\\Two\\SOFUJYXTIMK.txt\n",
      "extracted_content\\Two\\SPDZYGDHEWO.txt\n",
      "extracted_content\\Two\\SWOFXREEHWA.txt\n"
     ]
    }
   ],
   "source": [
    "for folder, subfolders, files in tree:\n",
    "    for subfolder in subfolders:\n",
    "        pass\n",
    "    for file in files:\n",
    "        print(f\"{folder}\\\\{file}\")"
   ]
  },
  {
   "cell_type": "code",
   "execution_count": null,
   "metadata": {},
   "outputs": [],
   "source": []
  },
  {
   "cell_type": "code",
   "execution_count": null,
   "metadata": {},
   "outputs": [],
   "source": []
  },
  {
   "cell_type": "code",
   "execution_count": null,
   "metadata": {},
   "outputs": [],
   "source": []
  },
  {
   "cell_type": "code",
   "execution_count": null,
   "metadata": {},
   "outputs": [],
   "source": []
  },
  {
   "cell_type": "code",
   "execution_count": null,
   "metadata": {},
   "outputs": [],
   "source": []
  },
  {
   "cell_type": "code",
   "execution_count": null,
   "metadata": {},
   "outputs": [],
   "source": []
  },
  {
   "cell_type": "code",
   "execution_count": null,
   "metadata": {},
   "outputs": [],
   "source": []
  },
  {
   "cell_type": "code",
   "execution_count": null,
   "metadata": {},
   "outputs": [],
   "source": []
  },
  {
   "cell_type": "code",
   "execution_count": null,
   "metadata": {},
   "outputs": [],
   "source": []
  },
  {
   "cell_type": "code",
   "execution_count": null,
   "metadata": {},
   "outputs": [],
   "source": []
  },
  {
   "cell_type": "code",
   "execution_count": null,
   "metadata": {},
   "outputs": [],
   "source": []
  },
  {
   "cell_type": "code",
   "execution_count": null,
   "metadata": {},
   "outputs": [],
   "source": []
  },
  {
   "cell_type": "code",
   "execution_count": null,
   "metadata": {},
   "outputs": [],
   "source": []
  },
  {
   "cell_type": "code",
   "execution_count": null,
   "metadata": {},
   "outputs": [],
   "source": []
  },
  {
   "cell_type": "code",
   "execution_count": null,
   "metadata": {},
   "outputs": [],
   "source": []
  },
  {
   "cell_type": "code",
   "execution_count": null,
   "metadata": {},
   "outputs": [],
   "source": []
  },
  {
   "cell_type": "code",
   "execution_count": null,
   "metadata": {},
   "outputs": [],
   "source": []
  },
  {
   "cell_type": "code",
   "execution_count": null,
   "metadata": {},
   "outputs": [],
   "source": []
  },
  {
   "cell_type": "code",
   "execution_count": null,
   "metadata": {},
   "outputs": [],
   "source": []
  },
  {
   "cell_type": "code",
   "execution_count": null,
   "metadata": {},
   "outputs": [],
   "source": []
  },
  {
   "cell_type": "code",
   "execution_count": null,
   "metadata": {},
   "outputs": [],
   "source": []
  },
  {
   "cell_type": "code",
   "execution_count": null,
   "metadata": {},
   "outputs": [],
   "source": []
  }
 ],
 "metadata": {
  "kernelspec": {
   "display_name": "Python 3",
   "language": "python",
   "name": "python3"
  },
  "language_info": {
   "codemirror_mode": {
    "name": "ipython",
    "version": 3
   },
   "file_extension": ".py",
   "mimetype": "text/x-python",
   "name": "python",
   "nbconvert_exporter": "python",
   "pygments_lexer": "ipython3",
   "version": "3.8.5"
  }
 },
 "nbformat": 4,
 "nbformat_minor": 4
}
