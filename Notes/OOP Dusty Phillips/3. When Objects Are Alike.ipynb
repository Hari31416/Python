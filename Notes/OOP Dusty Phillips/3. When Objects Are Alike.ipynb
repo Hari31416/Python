{
 "cells": [
  {
   "cell_type": "markdown",
   "metadata": {},
   "source": [
    "<h2 id=\"Contents\">Contents<a href=\"#Contents\"></a></h2>\n",
    "        <ol>\n",
    "        <ol><li><a class=\"\" href=\"#Basic-inheritance\">Basic inheritance</a></li>\n",
    "<ol><li><a class=\"\" href=\"#Extending-built-ins\">Extending built-ins</a></li>\n",
    "<li><a class=\"\" href=\"#Overriding-and-super\">Overriding and super</a></li>\n",
    "</ol><li><a class=\"\" href=\"#Multiple-inheritance\">Multiple inheritance</a></li>\n",
    "<ol><li><a class=\"\" href=\"#The-Diamond-Problem\">The Diamond Problem</a></li>\n",
    "<li><a class=\"\" href=\"#Different-sets-of-arguments\">Different sets of arguments</a></li>\n",
    "</ol><li><a class=\"\" href=\"#Polymorphism\">Polymorphism</a></li>\n",
    "<li><a class=\"\" href=\"#Duck-Typing\">Duck Typing</a></li>\n",
    "<li><a class=\"\" href=\"#Abstract-Base-Classes\">Abstract Base Classes</a></li>\n",
    "<ol><li><a class=\"\" href=\"#Creating-an-abstract-base-class\">Creating an abstract base class</a></li>\n",
    "</ol><li><a class=\"\" href=\"#Case-study\">Case study</a></li>\n",
    "</ol>"
   ]
  },
  {
   "cell_type": "markdown",
   "metadata": {},
   "source": [
    ">In the programming world, duplicate code is considered evil."
   ]
  },
  {
   "cell_type": "markdown",
   "metadata": {},
   "source": [
    "There are many ways to merge pieces of code or objects that have a similar\n",
    "functionality. like:\n",
    "* Basic inheritance\n",
    "* Inheriting from built-ins\n",
    "* Multiple inheritance\n",
    "* Polymorphism and duck typing"
   ]
  },
  {
   "cell_type": "markdown",
   "metadata": {},
   "source": [
    "## Basic inheritance\n",
    "Technically, every class we create uses inheritance. All Python classes are subclasses\n",
    "of the special class named `object`."
   ]
  },
  {
   "cell_type": "code",
   "execution_count": 1,
   "metadata": {},
   "outputs": [],
   "source": [
    "class MyClass(object):\n",
    "    pass"
   ]
  },
  {
   "cell_type": "markdown",
   "metadata": {},
   "source": [
    "The class `MyClass` inherits from the `object` class.<br>\n",
    "A *superclass*, or *parent class*, is a class that is being inherited from. A *subclass* is a class that is inheriting from a superclass.\n",
    ">The simplest and most obvious use of\n",
    "inheritance is to add functionality to an existing class."
   ]
  },
  {
   "cell_type": "code",
   "execution_count": 2,
   "metadata": {},
   "outputs": [],
   "source": [
    "class Contact:\n",
    "    all_contacts = []\n",
    "    def __init__(self, name, email):\n",
    "        self.name = name\n",
    "        self.email = email\n",
    "        Contact.all_contacts.append(self)"
   ]
  },
  {
   "cell_type": "markdown",
   "metadata": {},
   "source": [
    "The `all_contacts` list, because it is part of the class definition, is shared by all instances of this class. To show some more benefits of inheritance, let's create a new Supplier class that acts like our Contact class,\n",
    "but has an additional order method:\n"
   ]
  },
  {
   "cell_type": "code",
   "execution_count": 3,
   "metadata": {},
   "outputs": [],
   "source": [
    "class Supplier(Contact):\n",
    "    def order(self, order):\n",
    "        print(\"If this were a real system we would send \"\n",
    "        \"'{}' order to '{}'\".format(order, self.name))"
   ]
  },
  {
   "cell_type": "markdown",
   "metadata": {},
   "source": [
    "Now, if we test this class in our trusty interpreter, we see that all `contacts`, including\n",
    "`suppliers`, accept a name and e-mail address in their `__init__`, but only `suppliers`\n",
    "have a functional `order` method. Thus we can avoid giving some useless methods to other subclasses."
   ]
  },
  {
   "cell_type": "markdown",
   "metadata": {},
   "source": [
    "### Extending built-ins\n",
    "One interesting use of this kind of inheritance is adding functionality to built-in\n",
    "classes. In the Contact class seen earlier, we are adding contacts to a list of all\n",
    "contacts. What if we also wanted to search that list by name? Well, we could add\n",
    "a method on the `Contact` class to search it, but it feels like this method actually\n",
    "belongs to the `list` itself. We can do this using inheritance:"
   ]
  },
  {
   "cell_type": "code",
   "execution_count": 26,
   "metadata": {},
   "outputs": [
    {
     "data": {
      "text/plain": [
       "['John A', 'John B', 'John D']"
      ]
     },
     "execution_count": 26,
     "metadata": {},
     "output_type": "execute_result"
    }
   ],
   "source": [
    "class ContactList(list):\n",
    "\n",
    "    def search(self, name):\n",
    "        '''Return all contacts that contain the search value\n",
    "        in their name.'''\n",
    "        matching_contacts = []\n",
    "        for contact in self:\n",
    "            if name in contact.name:\n",
    "                matching_contacts.append(contact)\n",
    "        return matching_contacts\n",
    "\n",
    "\n",
    "class Contact:\n",
    "    all_contacts = ContactList()\n",
    "    \n",
    "    def __init__(self, name, email):\n",
    "        self.name = name\n",
    "        self.email = email\n",
    "        self.all_contacts.append(self)\n",
    "\n",
    "c1 = Contact(\"John A\", \"johna@example.net\")\n",
    "c2 = Contact(\"John B\", \"johnb@example.net\")\n",
    "c3 = Contact(\"Jenna C\", \"jennac@example.net\")\n",
    "c4 = Contact(\"John D\", \"johnd@example.net\")\n",
    "[c.name for c in Contact.all_contacts.search('John')]"
   ]
  },
  {
   "cell_type": "markdown",
   "metadata": {},
   "source": [
    "Instead of instantiating a normal `list` as our class variable, we create a new\n",
    "`ContactList` class that extends the built-in list. Now `list` has a method `search`."
   ]
  },
  {
   "cell_type": "markdown",
   "metadata": {},
   "source": [
    ">In reality, the `[]` syntax is actually so-called syntax sugar that calls the `list()`\n",
    "constructor under the hood. "
   ]
  },
  {
   "cell_type": "code",
   "execution_count": 27,
   "metadata": {},
   "outputs": [
    {
     "data": {
      "text/plain": [
       "(True, True)"
      ]
     },
     "execution_count": 27,
     "metadata": {},
     "output_type": "execute_result"
    }
   ],
   "source": [
    "isinstance([], object), [] == list()"
   ]
  },
  {
   "cell_type": "markdown",
   "metadata": {},
   "source": [
    "### Overriding and super\n",
    "Any method in a subclass can override the method in the superclass."
   ]
  },
  {
   "cell_type": "code",
   "execution_count": 28,
   "metadata": {},
   "outputs": [],
   "source": [
    "class Friend(Contact):\n",
    "    \n",
    "    def __init__(self, name, email, phone):\n",
    "        self.name = name\n",
    "        self.email = email\n",
    "        self.phone = phone"
   ]
  },
  {
   "cell_type": "markdown",
   "metadata": {},
   "source": [
    "Here the `__init__` method in the `Contact` class is overridden to accept a `phone` attribute. <br>\n",
    "What we really need is a way to execute the original `__init__` method on the\n",
    "`Contact` class. This is what the `super` function does; it returns the object as an\n",
    "instance of the parent class, allowing us to call the parent method directly:\n"
   ]
  },
  {
   "cell_type": "code",
   "execution_count": 29,
   "metadata": {},
   "outputs": [],
   "source": [
    "class Friend(Contact):\n",
    "    def __init__(self, name, email, phone):\n",
    "        super().__init__(name, email)\n",
    "        self.phone = phone"
   ]
  },
  {
   "cell_type": "markdown",
   "metadata": {},
   "source": [
    "A `super()` call can be made inside any method, not just `__init__`. This means all\n",
    "methods can be modified via overriding and calls to super. The call to super can\n",
    "also be made at any point in the method; we don't have to make the call as the first\n",
    "line in the method. For example, we may need to manipulate or validate incoming\n",
    "parameters before forwarding them to the superclass."
   ]
  },
  {
   "cell_type": "markdown",
   "metadata": {},
   "source": [
    "## Multiple inheritance\n",
    "Multiple inheritance is a touchy subject. In principle, it's very simple: a subclass that\n",
    "inherits from more than one parent class is able to access functionality from both of\n",
    "them. In practice, this is less useful than it sounds and many expert programmers\n",
    "recommend against using it.\n",
    ">As a rule of thumb, if you think you need multiple inheritance, you're\n",
    "probably wrong, but if you know you need it, you're probably right.\n"
   ]
  },
  {
   "cell_type": "markdown",
   "metadata": {},
   "source": [
    "The simplest and most useful form of multiple inheritance is called a mixin. A mixin\n",
    "is generally a superclass that is not meant to exist on its own, but is meant to be\n",
    "inherited by some other class to provide extra functionality. <br>\n",
    "For example, let's say\n",
    "we wanted to add functionality to our Contact class that allows sending an e-mail\n",
    "to self.email. Sending e-mail is a common task that we might want to use on many\n",
    "other classes. So, we create a new class called `MailSender` and use it as a parent class."
   ]
  },
  {
   "cell_type": "code",
   "execution_count": null,
   "metadata": {},
   "outputs": [],
   "source": [
    "class MailSender:\n",
    "    def send_mail(self, message):\n",
    "        print(\"Sending mail to \" + self.email)\n",
    "        # Add e-mail logic here\n",
    "\n",
    "        \n",
    "class EmailableContact(Contact, MailSender):\n",
    "    pass"
   ]
  },
  {
   "cell_type": "markdown",
   "metadata": {},
   "source": [
    "However, we can do the same thing without use of double inheritance. For example:\n",
    "* We could have used single inheritance and added the `send_mail` function\n",
    "to the subclass. The disadvantage here is that the e-mail functionality then\n",
    "has to be duplicated for any other classes that need e-mail.\n",
    "* We can create a standalone Python function for sending an e-mail, and just\n",
    "call that function with the correct e-mail address supplied as a parameter\n",
    "when the e-mail needs to be sent.\n",
    "* We could have explored a few ways of using composition instead of\n",
    "inheritance. For example, `EmailableContact` could have a `MailSender`\n",
    "object instead of inheriting from it.\n",
    "* We could *monkey-patch* the `Contact` class to have a `send_mail` method\n",
    "after the class has been created. This is done by defining a function that accepts\n",
    "the self argument, and setting it as an attribute on an existing class.\n"
   ]
  },
  {
   "cell_type": "markdown",
   "metadata": {},
   "source": [
    "### The Diamond Problem\n",
    "We can use multiple inheritance to add this new class as a parent of our existing\n",
    "`Friend` class. The tricky part is that we now have two parent `__init__ `methods\n",
    "both of which need to be initialized. And they need to be initialized with different\n",
    "arguments. We could start with a naive approach:"
   ]
  },
  {
   "cell_type": "code",
   "execution_count": 30,
   "metadata": {},
   "outputs": [],
   "source": [
    "class AddressHolder:\n",
    "    def __init__(self, street, city, state, code):\n",
    "        self.street = street\n",
    "        self.city = city\n",
    "        self.state = state\n",
    "        self.code = code\n",
    "\n",
    "class Friend(Contact, AddressHolder):\n",
    "    def __init__(\n",
    "    self, name, email, phone,street, city, state, code):\n",
    "        Contact.__init__(self, name, email)\n",
    "        AddressHolder.__init__(self, street, city, state, code)\n",
    "        self.phone = phone"
   ]
  },
  {
   "cell_type": "markdown",
   "metadata": {},
   "source": [
    "<img src=\"img/03_01.png\">"
   ]
  },
  {
   "cell_type": "markdown",
   "metadata": {},
   "source": [
    "Using the above approach, we'll see that the parent class has been set up twice. With\n",
    "the `object` class, that's relatively harmless, but in some situations, it could spell\n",
    "disaster. *Imagine trying to connect to a database twice for every request!* <br>\n",
    "**This is the diamond problem.**\n",
    "<br><hr>\n",
    "<img src=\"img/03_02.png\">"
   ]
  },
  {
   "cell_type": "code",
   "execution_count": 31,
   "metadata": {},
   "outputs": [],
   "source": [
    "class BaseClass:\n",
    "    num_base_calls = 0\n",
    "    def call_me(self):\n",
    "        print(\"Calling method on Base Class\")\n",
    "        self.num_base_calls += 1\n",
    "\n",
    "\n",
    "class LeftSubclass(BaseClass):\n",
    "    num_left_calls = 0\n",
    "    def call_me(self):\n",
    "        BaseClass.call_me(self)\n",
    "        print(\"Calling method on Left Subclass\")\n",
    "        self.num_left_calls += 1\n",
    "\n",
    "\n",
    "class RightSubclass(BaseClass):\n",
    "    num_right_calls = 0\n",
    "    def call_me(self):\n",
    "        BaseClass.call_me(self)\n",
    "        print(\"Calling method on Right Subclass\")\n",
    "        self.num_right_calls += 1\n",
    "\n",
    "        \n",
    "class Subclass(LeftSubclass, RightSubclass):\n",
    "    num_sub_calls = 0\n",
    "    def call_me(self):\n",
    "        LeftSubclass.call_me(self)\n",
    "        RightSubclass.call_me(self)\n",
    "        print(\"Calling method on Subclass\")\n",
    "        self.num_sub_calls += 1"
   ]
  },
  {
   "cell_type": "code",
   "execution_count": 32,
   "metadata": {},
   "outputs": [
    {
     "name": "stdout",
     "output_type": "stream",
     "text": [
      "Calling method on Base Class\n",
      "Calling method on Left Subclass\n",
      "Calling method on Base Class\n",
      "Calling method on Right Subclass\n",
      "Calling method on Subclass\n"
     ]
    }
   ],
   "source": [
    "s = Subclass()\n",
    "s.call_me()"
   ]
  },
  {
   "cell_type": "code",
   "execution_count": 33,
   "metadata": {},
   "outputs": [
    {
     "name": "stdout",
     "output_type": "stream",
     "text": [
      "1 1 1 2\n"
     ]
    }
   ],
   "source": [
    "print(s.num_sub_calls,s.num_left_calls,s.num_right_calls,s.num_base_calls)"
   ]
  },
  {
   "cell_type": "markdown",
   "metadata": {},
   "source": [
    "**Thus we can clearly see the base class's call_me method being called twice.**<br>\n",
    "The thing to keep in mind with multiple inheritance is that we only want to call\n",
    "the *\"next\"* method in the class hierarchy, not the *\"parent\"* method. In fact, that next\n",
    "method may not be on a parent or ancestor of the current class. The `super` keyword\n",
    "comes to our rescue once again. Indeed, `super` was originally developed to make\n",
    "complicated forms of multiple inheritance possible. "
   ]
  },
  {
   "cell_type": "code",
   "execution_count": 34,
   "metadata": {},
   "outputs": [
    {
     "name": "stdout",
     "output_type": "stream",
     "text": [
      "Calling method on Base Class\n",
      "Calling method on Right Subclass\n",
      "Calling method on Left Subclass\n",
      "Calling method on Subclass\n"
     ]
    }
   ],
   "source": [
    "class BaseClass:\n",
    "    num_base_calls = 0\n",
    "    def call_me(self):\n",
    "        print(\"Calling method on Base Class\")\n",
    "        self.num_base_calls += 1\n",
    "\n",
    "\n",
    "class LeftSubclass(BaseClass):\n",
    "    num_left_calls = 0\n",
    "    def call_me(self):\n",
    "        super().call_me()\n",
    "        print(\"Calling method on Left Subclass\")\n",
    "        self.num_left_calls += 1\n",
    "\n",
    "\n",
    "class RightSubclass(BaseClass):\n",
    "    num_right_calls = 0\n",
    "    def call_me(self):\n",
    "        super().call_me()\n",
    "        print(\"Calling method on Right Subclass\")\n",
    "        self.num_right_calls += 1\n",
    "\n",
    "\n",
    "class Subclass(LeftSubclass, RightSubclass):\n",
    "    num_sub_calls = 0\n",
    "    def call_me(self):\n",
    "        super().call_me()\n",
    "        print(\"Calling method on Subclass\")\n",
    "        self.num_sub_calls += 1\n",
    "\n",
    "\n",
    "s = Subclass()\n",
    "s.call_me()"
   ]
  },
  {
   "cell_type": "code",
   "execution_count": 35,
   "metadata": {},
   "outputs": [
    {
     "name": "stdout",
     "output_type": "stream",
     "text": [
      "1 1 1 1\n"
     ]
    }
   ],
   "source": [
    "print(s.num_sub_calls,s.num_left_calls,s.num_right_calls,s.num_base_calls)"
   ]
  },
  {
   "cell_type": "markdown",
   "metadata": {},
   "source": [
    "The `supe`r call is not calling the method on the\n",
    "superclass of `LeftSubclass` (which is `BaseClass`). Rather, it is calling `RightSubclass`,\n",
    "even though it is not a direct parent of `LeftSubclass`! This is the *next* method, not\n",
    "the *parent* method. `RightSubclass` then calls `BaseClass` and the `super` calls have\n",
    "ensured each method in the class hierarchy is executed once."
   ]
  },
  {
   "cell_type": "markdown",
   "metadata": {},
   "source": [
    "### Different sets of arguments"
   ]
  },
  {
   "cell_type": "markdown",
   "metadata": {},
   "source": [
    "How can we manage different sets of arguments when using super? We don't\n",
    "necessarily know which class `super` is going to try to initialize first. Even if we\n",
    "did, we need a way to pass the \"extra\" arguments so that subsequent calls to\n",
    "`super`, on other subclasses, receive the right arguments.<br>\n",
    "Specifically, if the first call to super passes the name and email arguments\n",
    "to `Contact.__init__`, and `Contact.__init__` then calls super, it needs to\n",
    "be able to pass the address-related arguments to the \"next\" method, which is\n",
    "`AddressHolder.__init__`."
   ]
  },
  {
   "cell_type": "markdown",
   "metadata": {},
   "source": [
    "The only way to solve this problem is to plan for it from the beginning. We\n",
    "have to design our base class parameter lists to accept **keyword arguments** for any\n",
    "parameters that are not required by every subclass implementation. Finally, we must\n",
    "ensure the method freely accepts unexpected arguments and passes them on to its\n",
    "super call, in case they are necessary to later methods in the inheritance order."
   ]
  },
  {
   "cell_type": "code",
   "execution_count": 36,
   "metadata": {},
   "outputs": [],
   "source": [
    "class Contact:\n",
    "    all_contacts = []\n",
    "    def __init__(self, name='', email='', **kwargs):\n",
    "        super().__init__(**kwargs)\n",
    "        self.name = name\n",
    "        self.email = email\n",
    "        self.all_contacts.append(self)\n",
    "\n",
    "\n",
    "class AddressHolder:\n",
    "    def __init__(self, street='', city='', state='', code='',\n",
    "    **kwargs):\n",
    "        super().__init__(**kwargs)\n",
    "        self.street = street\n",
    "        self.city = city\n",
    "        self.state = state\n",
    "        self.code = code\n",
    "\n",
    "\n",
    "class Friend(Contact, AddressHolder):\n",
    "    def __init__(self, phone='', **kwargs):\n",
    "        super().__init__(**kwargs)\n",
    "        self.phone = phone"
   ]
  },
  {
   "cell_type": "markdown",
   "metadata": {},
   "source": [
    "We've changed all arguments to keyword arguments by giving them an empty\n",
    "string as a default value. We've also ensured that a `**kwargs` parameter is included\n",
    "to capture any additional parameters that our particular method doesn't know what\n",
    "to do with. It passes these parameters up to the next class with the super call."
   ]
  },
  {
   "cell_type": "markdown",
   "metadata": {},
   "source": [
    "The previous example does what it is supposed to do. But it's starting to look messy,\n",
    "and it has become difficult to answer the question, What arguments do we need to pass\n",
    "into `Friend.__init__`? This is the foremost question for anyone planning to use the\n",
    "class, so a docstring should be added to the method to explain what is happening.<br>\n",
    "Further, even this implementation is insufficient if we want to reuse variables in\n",
    "parent classes. When we pass the `**kwargs` variable to super, the dictionary does\n",
    "not include any of the variables that were included as explicit keyword arguments.\n",
    "For example, in `Friend.__init__`, the call to super does not have phone in the\n",
    "kwargs dictionary. If any of the other classes need the phone parameter, we need\n",
    "to ensure it is in the dictionary that is passed. Worse, if we forget to do this, it will\n",
    "be tough to debug because the superclass will not complain, but will simply assign\n",
    "the default value (in this case, an empty string) to the variable."
   ]
  },
  {
   "cell_type": "code",
   "execution_count": null,
   "metadata": {},
   "outputs": [],
   "source": []
  },
  {
   "cell_type": "markdown",
   "metadata": {},
   "source": [
    "## Polymorphism"
   ]
  },
  {
   "cell_type": "markdown",
   "metadata": {},
   "source": [
    "Polymorphism is a fancy name describing a simple concept: different behaviors happen depending on\n",
    "which subclass is being used, without having to explicitly know what the subclass\n",
    "actually is. As an example, imagine a program that plays audio files."
   ]
  },
  {
   "cell_type": "markdown",
   "metadata": {},
   "source": [
    "We can use inheritance with polymorphism to simplify the design. Each type of\n",
    "file can be represented by a different subclass of `AudioFile`, for example, `WavFile`,\n",
    "`MP3File`. Each of these would have a `play()` method, but that method would be\n",
    "implemented differently for each file to ensure the correct extraction procedure is\n",
    "followed. The media player object would never need to know which subclass of\n",
    "`AudioFile` it is referring to; it just calls `play()` and polymorphically lets the object\n",
    "take care of the actual details of playing."
   ]
  },
  {
   "cell_type": "code",
   "execution_count": 37,
   "metadata": {},
   "outputs": [],
   "source": [
    "class AudioFile:\n",
    "    def __init__(self, filename):\n",
    "        if not filename.endswith(self.ext):\n",
    "            raise Exception(\"Invalid file format\")\n",
    "        self.filename = filename\n",
    "\n",
    "\n",
    "class MP3File(AudioFile):\n",
    "    ext = \"mp3\"\n",
    "    def play(self):\n",
    "        print(\"playing {} as mp3\".format(self.filename))\n",
    "\n",
    "\n",
    "class WavFile(AudioFile):\n",
    "    ext = \"wav\"\n",
    "    def play(self):\n",
    "        print(\"playing {} as wav\".format(self.filename))\n",
    "\n",
    "\n",
    "class OggFile(AudioFile):\n",
    "    ext = \"ogg\"\n",
    "    def play(self):\n",
    "        print(\"playing {} as ogg\".format(self.filename))"
   ]
  },
  {
   "cell_type": "markdown",
   "metadata": {},
   "source": [
    "All audio files check to ensure that a valid extension was given upon initialization.\n",
    "We notice that the `__init__` method in the parent class is able to access\n",
    "the ext class variable from different subclasses? That's polymorphism at work."
   ]
  },
  {
   "cell_type": "code",
   "execution_count": 39,
   "metadata": {},
   "outputs": [
    {
     "name": "stdout",
     "output_type": "stream",
     "text": [
      "playing myfile.ogg as ogg\n"
     ]
    }
   ],
   "source": [
    "ogg = OggFile(\"myfile.ogg\")\n",
    "ogg.play()"
   ]
  },
  {
   "cell_type": "code",
   "execution_count": 40,
   "metadata": {},
   "outputs": [
    {
     "name": "stdout",
     "output_type": "stream",
     "text": [
      "playing myfile.mp3 as mp3\n"
     ]
    }
   ],
   "source": [
    "mp3 = MP3File(\"myfile.mp3\")\n",
    "mp3.play()"
   ]
  },
  {
   "cell_type": "code",
   "execution_count": 41,
   "metadata": {},
   "outputs": [
    {
     "ename": "Exception",
     "evalue": "Invalid file format",
     "output_type": "error",
     "traceback": [
      "\u001b[1;31m---------------------------------------------------------------------------\u001b[0m",
      "\u001b[1;31mException\u001b[0m                                 Traceback (most recent call last)",
      "\u001b[1;32m<ipython-input-41-80a298705989>\u001b[0m in \u001b[0;36m<module>\u001b[1;34m\u001b[0m\n\u001b[1;32m----> 1\u001b[1;33m \u001b[0mnot_an_mp3\u001b[0m \u001b[1;33m=\u001b[0m \u001b[0mMP3File\u001b[0m\u001b[1;33m(\u001b[0m\u001b[1;34m\"myfile.ogg\"\u001b[0m\u001b[1;33m)\u001b[0m\u001b[1;33m\u001b[0m\u001b[1;33m\u001b[0m\u001b[0m\n\u001b[0m",
      "\u001b[1;32m<ipython-input-37-74326ed10494>\u001b[0m in \u001b[0;36m__init__\u001b[1;34m(self, filename)\u001b[0m\n\u001b[0;32m      2\u001b[0m     \u001b[1;32mdef\u001b[0m \u001b[0m__init__\u001b[0m\u001b[1;33m(\u001b[0m\u001b[0mself\u001b[0m\u001b[1;33m,\u001b[0m \u001b[0mfilename\u001b[0m\u001b[1;33m)\u001b[0m\u001b[1;33m:\u001b[0m\u001b[1;33m\u001b[0m\u001b[1;33m\u001b[0m\u001b[0m\n\u001b[0;32m      3\u001b[0m         \u001b[1;32mif\u001b[0m \u001b[1;32mnot\u001b[0m \u001b[0mfilename\u001b[0m\u001b[1;33m.\u001b[0m\u001b[0mendswith\u001b[0m\u001b[1;33m(\u001b[0m\u001b[0mself\u001b[0m\u001b[1;33m.\u001b[0m\u001b[0mext\u001b[0m\u001b[1;33m)\u001b[0m\u001b[1;33m:\u001b[0m\u001b[1;33m\u001b[0m\u001b[1;33m\u001b[0m\u001b[0m\n\u001b[1;32m----> 4\u001b[1;33m             \u001b[1;32mraise\u001b[0m \u001b[0mException\u001b[0m\u001b[1;33m(\u001b[0m\u001b[1;34m\"Invalid file format\"\u001b[0m\u001b[1;33m)\u001b[0m\u001b[1;33m\u001b[0m\u001b[1;33m\u001b[0m\u001b[0m\n\u001b[0m\u001b[0;32m      5\u001b[0m         \u001b[0mself\u001b[0m\u001b[1;33m.\u001b[0m\u001b[0mfilename\u001b[0m \u001b[1;33m=\u001b[0m \u001b[0mfilename\u001b[0m\u001b[1;33m\u001b[0m\u001b[1;33m\u001b[0m\u001b[0m\n\u001b[0;32m      6\u001b[0m \u001b[1;33m\u001b[0m\u001b[0m\n",
      "\u001b[1;31mException\u001b[0m: Invalid file format"
     ]
    }
   ],
   "source": [
    "not_an_mp3 = MP3File(\"myfile.ogg\")"
   ]
  },
  {
   "cell_type": "markdown",
   "metadata": {},
   "source": [
    "## Duck Typing"
   ]
  },
  {
   "cell_type": "markdown",
   "metadata": {},
   "source": [
    "Duck typing in Python allows us to use any object that provides the required behavior without forcing it to be a subclass. The dynamic nature of Python makes this trivial. \n",
    ">“If it looks like a duck and quacks like a duck, it’s a duck” <br>"
   ]
  },
  {
   "cell_type": "code",
   "execution_count": 46,
   "metadata": {},
   "outputs": [
    {
     "name": "stdout",
     "output_type": "stream",
     "text": [
      "21\n"
     ]
    }
   ],
   "source": [
    "class Specialstring:\n",
    "    def __len__(self):\n",
    "        return 21\n",
    "  \n",
    "# Driver's code\n",
    "if __name__ == \"__main__\":\n",
    "  \n",
    "    string = Specialstring()\n",
    "    print(len(string))"
   ]
  },
  {
   "cell_type": "markdown",
   "metadata": {},
   "source": [
    "The following example does not extend AudioFile, but it can be interacted with in\n",
    "Python using the exact same interface."
   ]
  },
  {
   "cell_type": "code",
   "execution_count": 44,
   "metadata": {},
   "outputs": [
    {
     "name": "stdout",
     "output_type": "stream",
     "text": [
      "playing myfile.flac as flac\n"
     ]
    }
   ],
   "source": [
    "class FlacFile:\n",
    "    def __init__(self, filename):\n",
    "        if not filename.endswith(\".flac\"):\n",
    "            raise Exception(\"Invalid file format\")\n",
    "        self.filename = filename\n",
    "\n",
    "    def play(self):\n",
    "        print(\"playing {} as flac\".format(self.filename))\n",
    "\n",
    "f = FlacFile(\"myfile.flac\")\n",
    "f.play()"
   ]
  },
  {
   "cell_type": "markdown",
   "metadata": {},
   "source": [
    "Of course, just because an object satisfies a particular interface (by providing required\n",
    "methods or attributes) does not mean it will simply work in all situations. It has to\n",
    "fulfill that interface in a way that makes sense in the overall system. Just because an\n",
    "object provides a `play()` method does not mean it will automatically work with a\n",
    "media player."
   ]
  },
  {
   "cell_type": "markdown",
   "metadata": {},
   "source": [
    "## Abstract Base Classes"
   ]
  },
  {
   "cell_type": "markdown",
   "metadata": {},
   "source": [
    "While duck typing is useful, it is not always easy to tell in advance if a class is going\n",
    "to fulfill the protocol you require. Therefore, Python introduced the idea of abstract\n",
    "base classes. **Abstract base classes**, or **ABCs**, define a set of methods and properties\n",
    "that a class must implement in order to be considered a duck-type instance of that\n",
    "class. The class can extend the abstract base class itself in order to be used as an\n",
    "instance of that class, but it must supply all the appropriate methods."
   ]
  },
  {
   "cell_type": "code",
   "execution_count": 48,
   "metadata": {},
   "outputs": [
    {
     "data": {
      "text/plain": [
       "frozenset({'__contains__'})"
      ]
     },
     "execution_count": 48,
     "metadata": {},
     "output_type": "execute_result"
    }
   ],
   "source": [
    "from collections.abc import Container\n",
    "\n",
    "Container.__abstractmethods__"
   ]
  },
  {
   "cell_type": "markdown",
   "metadata": {},
   "source": [
    "So, the `Container` class has exactly one abstract method that needs to be\n",
    "implemented, `__contains__`. Let's see how this works."
   ]
  },
  {
   "cell_type": "code",
   "execution_count": 50,
   "metadata": {},
   "outputs": [
    {
     "data": {
      "text/plain": [
       "(True, True)"
      ]
     },
     "execution_count": 50,
     "metadata": {},
     "output_type": "execute_result"
    }
   ],
   "source": [
    "class OddContainer:\n",
    "    def __contains__(self, x):\n",
    "        if not isinstance(x, int) or not x % 2:\n",
    "            return False\n",
    "        return True\n",
    "\n",
    "odd_container = OddContainer()\n",
    "isinstance(odd_container, Container), issubclass(OddContainer, Container)"
   ]
  },
  {
   "cell_type": "markdown",
   "metadata": {},
   "source": [
    "We see that `OddContainer` is a subclass and instance of `Container`."
   ]
  },
  {
   "cell_type": "markdown",
   "metadata": {},
   "source": [
    "And that is why duck typing is way more awesome than classical polymorphism.\n",
    "We can create *is a* relationships without the overhead of using inheritance (or\n",
    "worse, multiple inheritance).<br>\n",
    "The interesting thing about the `Container` `ABC` is that any class that implements\n",
    "it gets to use the `in` keyword for free. In fact, in is just syntax sugar that delegates\n",
    "to the `__contains__` method. Any class that has a `__contains__` method is a\n",
    "`Container` and can therefore be queried by the in keyword, for example:"
   ]
  },
  {
   "cell_type": "code",
   "execution_count": 52,
   "metadata": {},
   "outputs": [
    {
     "data": {
      "text/plain": [
       "(True, False, False)"
      ]
     },
     "execution_count": 52,
     "metadata": {},
     "output_type": "execute_result"
    }
   ],
   "source": [
    "1 in odd_container, 2 in odd_container,  \"a string\" in odd_container"
   ]
  },
  {
   "cell_type": "markdown",
   "metadata": {},
   "source": [
    "### Creating an abstract base class"
   ]
  },
  {
   "cell_type": "markdown",
   "metadata": {},
   "source": [
    "The abc module provides the tools you need to create an abstract base class, however, this requires some of Python's most arcane concepts:"
   ]
  },
  {
   "cell_type": "code",
   "execution_count": 54,
   "metadata": {},
   "outputs": [],
   "source": [
    "import abc\n",
    "class MediaLoader(metaclass=abc.ABCMeta):\n",
    "\n",
    "    @abc.abstractmethod\n",
    "    def play(self):\n",
    "        pass\n",
    "\n",
    "    @abc.abstractproperty\n",
    "    def ext(self):\n",
    "        pass\n",
    "    \n",
    "    @classmethod\n",
    "    def __subclasshook__(cls, C):\n",
    "        if cls is MediaLoader:\n",
    "            attrs = set(dir(C))\n",
    "            if set(cls.__abstractmethods__) <= attrs:\n",
    "                return True\n",
    "        return NotImplemented"
   ]
  },
  {
   "cell_type": "markdown",
   "metadata": {},
   "source": [
    "We see the `@abc.abstractmethod` and `@abc.abstractproperty` constructs.\n",
    "These are Python decorators which insures that any subclass of this class must\n",
    "implement that method or supply that property in order to be considered a\n",
    "proper member of the class."
   ]
  },
  {
   "cell_type": "code",
   "execution_count": 56,
   "metadata": {},
   "outputs": [
    {
     "ename": "TypeError",
     "evalue": "Can't instantiate abstract class Wav with abstract methods ext, play",
     "output_type": "error",
     "traceback": [
      "\u001b[1;31m---------------------------------------------------------------------------\u001b[0m",
      "\u001b[1;31mTypeError\u001b[0m                                 Traceback (most recent call last)",
      "\u001b[1;32m<ipython-input-56-0771018e505c>\u001b[0m in \u001b[0;36m<module>\u001b[1;34m\u001b[0m\n\u001b[0;32m      2\u001b[0m     \u001b[1;32mpass\u001b[0m\u001b[1;33m\u001b[0m\u001b[1;33m\u001b[0m\u001b[0m\n\u001b[0;32m      3\u001b[0m \u001b[1;33m\u001b[0m\u001b[0m\n\u001b[1;32m----> 4\u001b[1;33m \u001b[0mx\u001b[0m \u001b[1;33m=\u001b[0m \u001b[0mWav\u001b[0m\u001b[1;33m(\u001b[0m\u001b[1;33m)\u001b[0m\u001b[1;33m\u001b[0m\u001b[1;33m\u001b[0m\u001b[0m\n\u001b[0m",
      "\u001b[1;31mTypeError\u001b[0m: Can't instantiate abstract class Wav with abstract methods ext, play"
     ]
    }
   ],
   "source": [
    "class Wav(MediaLoader):\n",
    "    pass\n",
    "\n",
    "x = Wav()"
   ]
  },
  {
   "cell_type": "code",
   "execution_count": 57,
   "metadata": {},
   "outputs": [],
   "source": [
    "class Ogg(MediaLoader):\n",
    "    ext = '.ogg'\n",
    "    def play(self):\n",
    "        pass\n",
    "\n",
    "o = Ogg()"
   ]
  },
  {
   "cell_type": "code",
   "execution_count": 62,
   "metadata": {},
   "outputs": [
    {
     "data": {
      "text/plain": [
       "(True, True)"
      ]
     },
     "execution_count": 62,
     "metadata": {},
     "output_type": "execute_result"
    }
   ],
   "source": [
    "isinstance(o, MediaLoader), issubclass(Ogg, MediaLoader)"
   ]
  },
  {
   "cell_type": "markdown",
   "metadata": {},
   "source": [
    "Going back to the `MediaLoader` ABC, let's dissect that `__subclasshook__` method.\n",
    "It is basically saying that any class that supplies concrete implementations of all the\n",
    "abstract attributes of this ABC should be considered a subclass of `MediaLoader`,\n",
    "even if it doesn't actually inherit from the `MediaLoader` class."
   ]
  },
  {
   "cell_type": "code",
   "execution_count": 64,
   "metadata": {},
   "outputs": [
    {
     "data": {
      "text/plain": [
       "(True, True)"
      ]
     },
     "execution_count": 64,
     "metadata": {},
     "output_type": "execute_result"
    }
   ],
   "source": [
    "class Ogg():\n",
    "    ext = '.ogg'\n",
    "    def play(self):\n",
    "        print(\"this will play an ogg file\")\n",
    "\n",
    "isinstance(Ogg(), MediaLoader), issubclass(Ogg, MediaLoader)"
   ]
  },
  {
   "cell_type": "code",
   "execution_count": 65,
   "metadata": {},
   "outputs": [
    {
     "data": {
      "text/plain": [
       "(False, False)"
      ]
     },
     "execution_count": 65,
     "metadata": {},
     "output_type": "execute_result"
    }
   ],
   "source": [
    "class Ogg():\n",
    "    ext = '.ogg'\n",
    "    def run(self):\n",
    "        print(\"this will run an ogg file\")\n",
    "\n",
    "isinstance(Ogg(), MediaLoader), issubclass(Ogg, MediaLoader)"
   ]
  },
  {
   "cell_type": "code",
   "execution_count": null,
   "metadata": {},
   "outputs": [],
   "source": []
  },
  {
   "cell_type": "markdown",
   "metadata": {},
   "source": [
    "## Case study"
   ]
  },
  {
   "cell_type": "markdown",
   "metadata": {},
   "source": [
    "We'll be designing a simple real estate application that allows an *agent* to manage *properties*\n",
    "available for *purchase* or *rent*. There will be two types of properties: *apartments* and\n",
    "*houses*. The *agent* needs to be able to enter a few relevant details about new properties,\n",
    "list all currently available properties, and mark a property as *sold* or *rented*."
   ]
  },
  {
   "cell_type": "markdown",
   "metadata": {},
   "source": [
    "<img src = \"img/03_03.png\" align='middle' style=\"width:80%\">"
   ]
  },
  {
   "cell_type": "markdown",
   "metadata": {},
   "source": [
    "**Static methods** are associated only with a class (something like class variables), rather than a specific object\n",
    "instance. Hence, they have no self argument. Because of this, the `super` keyword\n",
    "won't work (there is no parent object, only a parent class), so we simply call the static\n",
    "method on the parent class directly. This method uses the Python dict constructor\n",
    "to create a dictionary of values that can be passed into `__init__`. The value for each\n",
    "key is prompted with a call to input."
   ]
  },
  {
   "cell_type": "markdown",
   "metadata": {},
   "source": []
  }
 ],
 "metadata": {
  "interpreter": {
   "hash": "ce44b17c45080b8f56a19c9450d52461d624c968fcd959bb1916985c5ffa2b94"
  },
  "kernelspec": {
   "display_name": "Python 3.8.5 64-bit ('base': conda)",
   "language": "python",
   "name": "python3"
  },
  "language_info": {
   "codemirror_mode": {
    "name": "ipython",
    "version": 3
   },
   "file_extension": ".py",
   "mimetype": "text/x-python",
   "name": "python",
   "nbconvert_exporter": "python",
   "pygments_lexer": "ipython3",
   "version": "3.8.5"
  },
  "orig_nbformat": 4
 },
 "nbformat": 4,
 "nbformat_minor": 2
}
