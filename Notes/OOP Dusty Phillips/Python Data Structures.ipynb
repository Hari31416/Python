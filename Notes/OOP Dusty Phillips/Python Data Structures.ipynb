{
 "cells": [
  {
   "cell_type": "markdown",
   "metadata": {},
   "source": [
    "## Python Data Structures"
   ]
  },
  {
   "cell_type": "markdown",
   "metadata": {},
   "source": [
    ">Classes and objects should only be used when\n",
    "you want to specify both data and behaviors"
   ]
  },
  {
   "cell_type": "markdown",
   "metadata": {},
   "source": [
    "### Tuples and named tuples"
   ]
  },
  {
   "cell_type": "markdown",
   "metadata": {},
   "source": [
    "Tuples are objects that can store a specific number of other objects in order. They\n",
    "are immutable, so we can't add, remove, or replace objects on the fly. The primary benefit\n",
    "of tuples' immutability is that we can use them as keys in dictionaries, and in other\n",
    "locations where an object requires a hash value.<br>\n",
    "Tuples should generally store values that are somehow different from each other.\n",
    "For example, we would not put three stock symbols in a tuple, but we might create\n",
    "a tuple of stock symbol, current price, high, and low for the day. The primary\n",
    "purpose of a tuple is to aggregate different pieces of data together into one container.\n",
    "Thus, a tuple can be the easiest tool to replace the *\"object with no data\"* idiom."
   ]
  },
  {
   "cell_type": "code",
   "execution_count": 1,
   "metadata": {},
   "outputs": [
    {
     "data": {
      "text/plain": [
       "('FB', 75.0, 75.03, 74.9)"
      ]
     },
     "execution_count": 1,
     "metadata": {},
     "output_type": "execute_result"
    }
   ],
   "source": [
    "stock = \"FB\", 75.00, 75.03, 74.90\n",
    "stock"
   ]
  },
  {
   "cell_type": "markdown",
   "metadata": {},
   "source": [
    "#### Named tuples"
   ]
  },
  {
   "cell_type": "markdown",
   "metadata": {},
   "source": [
    "Named tuples are tuples with attitude. They are a great way to group read-only data together. Constructing a named tuple takes a bit more work than a normal tuple. First, we\n",
    "have to import `namedtuple`, as it is not in the namespace by default. Then, we\n",
    "describe the named tuple by giving it a name and outlining its attributes. "
   ]
  },
  {
   "cell_type": "code",
   "execution_count": 2,
   "metadata": {},
   "outputs": [],
   "source": [
    "from collections import namedtuple\n",
    "Stock = namedtuple(\"Stock\", \"symbol current high low\")\n",
    "stock = Stock(\"FB\", 75.00, high=75.03, low=74.90)"
   ]
  },
  {
   "cell_type": "markdown",
   "metadata": {},
   "source": [
    "The namedtuple constructor accepts two arguments. The first is an identifier for the\n",
    "named tuple. The second is a string of space-separated attributes that the named\n",
    "tuple can have. The first attribute should be listed, followed by a space (or comma\n",
    "if you prefer), then the second attribute, then another space, and so on. The result is\n",
    "an object that can be called just like a normal class to instantiate other objects. "
   ]
  },
  {
   "cell_type": "code",
   "execution_count": 3,
   "metadata": {},
   "outputs": [
    {
     "data": {
      "text/plain": [
       "75.03"
      ]
     },
     "execution_count": 3,
     "metadata": {},
     "output_type": "execute_result"
    }
   ],
   "source": [
    "stock.high"
   ]
  },
  {
   "cell_type": "markdown",
   "metadata": {},
   "source": [
    ">Like tuples and strings, named tuples are immutable, so we cannot\n",
    "modify an attribute once it has been set. "
   ]
  },
  {
   "cell_type": "markdown",
   "metadata": {},
   "source": [
    "### Dictionaries"
   ]
  },
  {
   "cell_type": "markdown",
   "metadata": {},
   "source": [
    "Dictionaries are incredibly useful containers that allow us to map objects directly to\n",
    "other objects. Internally, objects normally represent attributes as a dictionary, where the\n",
    "values are properties or methods on the objects. Even the attributes on a module are stored, internally, in a dictionary."
   ]
  },
  {
   "cell_type": "markdown",
   "metadata": {},
   "source": [
    "Dictionaries are extremely efficient at looking up a value, given a specific key\n",
    "object that maps to that value. They should always be used when you want to find\n",
    "one object based on some other object. The object that is being stored is called the\n",
    "value; the object that is being used as an index is called the key.\n",
    "<br>\n",
    "Dictionaries can be created either using the `dict()` constructor or using the `{}` syntax\n",
    "shortcut."
   ]
  },
  {
   "cell_type": "code",
   "execution_count": 4,
   "metadata": {},
   "outputs": [],
   "source": [
    "stocks = {\"GOOG\": (613.30, 625.86, 610.50),\n",
    "\"MSFT\": (30.25, 30.70, 30.19)}"
   ]
  },
  {
   "cell_type": "code",
   "execution_count": 5,
   "metadata": {},
   "outputs": [
    {
     "data": {
      "text/plain": [
       "(613.3, 625.86, 610.5)"
      ]
     },
     "execution_count": 5,
     "metadata": {},
     "output_type": "execute_result"
    }
   ],
   "source": [
    "stocks[\"GOOG\"]"
   ]
  },
  {
   "cell_type": "markdown",
   "metadata": {},
   "source": [
    "Dictionaries are objects, even if their primary purpose is to hold other\n",
    "objects. As such, they have several behaviors associated with them. One of the most\n",
    "useful of these methods is the `get` method; it accepts a key as the first parameter\n",
    "and an optional default value if the key doesn't exist:"
   ]
  },
  {
   "cell_type": "code",
   "execution_count": 7,
   "metadata": {},
   "outputs": [
    {
     "data": {
      "text/plain": [
       "((613.3, 625.86, 610.5), 'NOT FOUND')"
      ]
     },
     "execution_count": 7,
     "metadata": {},
     "output_type": "execute_result"
    }
   ],
   "source": [
    "stocks.get(\"GOOG\", \"NOT FOUND\"), stocks.get(\"RIM\", \"NOT FOUND\")"
   ]
  },
  {
   "cell_type": "markdown",
   "metadata": {},
   "source": [
    "For even more control, we can use the `setdefault` method. If the key is in the\n",
    "dictionary, this method behaves just like `get`; it returns the value for that key.\n",
    "Otherwise, if the key is not in the dictionary, it will not only return the default value\n",
    "we supply in the method call (just like `get` does), it will also set the key to that same\n",
    "value."
   ]
  },
  {
   "cell_type": "code",
   "execution_count": 8,
   "metadata": {},
   "outputs": [
    {
     "name": "stdout",
     "output_type": "stream",
     "text": [
      "(613.3, 625.86, 610.5)\n",
      "(10.5, 10.62, 10.39)\n"
     ]
    }
   ],
   "source": [
    "print(stocks.setdefault(\"GOOG\", \"INVALID\"))\n",
    "print(stocks.setdefault(\"BBRY\", (10.50, 10.62, 10.39)))"
   ]
  },
  {
   "cell_type": "code",
   "execution_count": 10,
   "metadata": {},
   "outputs": [
    {
     "data": {
      "text/plain": [
       "(10.5, 10.62, 10.39)"
      ]
     },
     "execution_count": 10,
     "metadata": {},
     "output_type": "execute_result"
    }
   ],
   "source": [
    "stocks[\"BBRY\"]"
   ]
  },
  {
   "cell_type": "markdown",
   "metadata": {},
   "source": [
    ">Three other very useful dictionary methods are `keys()`, `values()`, and `items()`."
   ]
  },
  {
   "cell_type": "markdown",
   "metadata": {},
   "source": [
    "We can use tuples, numbers, or even objects we've defined ourselves as\n",
    "dictionary keys. We can even use different types of keys in a single dictionary:"
   ]
  },
  {
   "cell_type": "code",
   "execution_count": 11,
   "metadata": {},
   "outputs": [
    {
     "name": "stdout",
     "output_type": "stream",
     "text": [
      "unable to store list\n",
      "\n",
      "astring has value somestring\n",
      "5 has value aninteger\n",
      "25.2 has value floats work too\n",
      "('abc', 123) has value so do tuples\n",
      "<__main__.AnObject object at 0x000001A507ABC490> has value We can even store objects\n"
     ]
    }
   ],
   "source": [
    "random_keys = {}\n",
    "random_keys[\"astring\"] = \"somestring\"\n",
    "random_keys[5] = \"aninteger\"\n",
    "random_keys[25.2] = \"floats work too\"\n",
    "random_keys[(\"abc\", 123)] = \"so do tuples\"\n",
    "class AnObject:\n",
    "    def __init__(self, avalue):\n",
    "        self.avalue = avalue\n",
    "my_object = AnObject(14)\n",
    "random_keys[my_object] = \"We can even store objects\"\n",
    "my_object.avalue = 12\n",
    "try:\n",
    "    random_keys[[1,2,3]] = \"we can't store lists though\"\n",
    "except:\n",
    "    print(\"unable to store list\\n\")\n",
    "for key, value in random_keys.items():\n",
    "    print(\"{} has value {}\".format(key, value))"
   ]
  },
  {
   "cell_type": "markdown",
   "metadata": {},
   "source": [
    "We cannot use `list` as a key, because lists can\n",
    "change at any time (by adding or removing items, for example), they cannot hash to\n",
    "a specific value."
   ]
  },
  {
   "cell_type": "markdown",
   "metadata": {},
   "source": [
    ">Objects that are hashable basically have a defined algorithm that converts the object\n",
    "into a unique integer value for rapid lookup. This hash is what is actually used to\n",
    "look up values in a dictionary.  Lists, however, can have their\n",
    "contents changed, which would change their hash value (two lists should only be\n",
    "equal if their contents are the same). Because of this, they can't be used as dictionary\n",
    "keys. For the same reason, dictionaries cannot be used as keys into other dictionaries."
   ]
  },
  {
   "cell_type": "markdown",
   "metadata": {},
   "source": [
    "#### Using defaultdict"
   ]
  },
  {
   "cell_type": "markdown",
   "metadata": {},
   "source": [
    "When something needs to be done every time an\n",
    "empty key is requested, we can use a different version of the dictionary, called\n",
    "`defaultdict`:"
   ]
  },
  {
   "cell_type": "code",
   "execution_count": 12,
   "metadata": {},
   "outputs": [],
   "source": [
    "from collections import defaultdict\n",
    "def letter_frequency(sentence):\n",
    "    frequencies = defaultdict(int)\n",
    "    for letter in sentence:\n",
    "        frequencies[letter] += 1\n",
    "    return frequencies"
   ]
  },
  {
   "cell_type": "code",
   "execution_count": 13,
   "metadata": {},
   "outputs": [
    {
     "data": {
      "text/plain": [
       "defaultdict(int, {'h': 1, 'e': 1, 'l': 2, 'o': 1})"
      ]
     },
     "execution_count": 13,
     "metadata": {},
     "output_type": "execute_result"
    }
   ],
   "source": [
    "letter_frequency(\"hello\")"
   ]
  },
  {
   "cell_type": "markdown",
   "metadata": {},
   "source": [
    "The `defaultdict` accepts a function in\n",
    "its constructor. Whenever a key is accessed that is not already in the dictionary,\n",
    "it calls that function, with no parameters, to create a default value.\n",
    "In this case, the function it calls is `int`, which is the constructor for an integer object."
   ]
  },
  {
   "cell_type": "markdown",
   "metadata": {},
   "source": [
    "The `defaultdict` is useful for creating dictionaries of containers. If we want to\n",
    "create a dictionary of stock prices for the past 30 days, we could use a stock symbol\n",
    "as the key and store the prices in list; the first time we access the stock price, we\n",
    "would want it to create an empty list. Simply pass `list` into the `defaultdict`, and\n",
    "it will be called every time an empty key is accessed."
   ]
  },
  {
   "cell_type": "markdown",
   "metadata": {},
   "source": [
    "#### Counter"
   ]
  },
  {
   "cell_type": "markdown",
   "metadata": {},
   "source": [
    "The previous code that counts\n",
    "characters in a string can easily be calculated in a single line:"
   ]
  },
  {
   "cell_type": "code",
   "execution_count": 15,
   "metadata": {},
   "outputs": [
    {
     "data": {
      "text/plain": [
       "Counter({'h': 1, 'e': 1, 'l': 2, 'o': 1})"
      ]
     },
     "execution_count": 15,
     "metadata": {},
     "output_type": "execute_result"
    }
   ],
   "source": [
    "from collections import Counter\n",
    "def letter_frequency(sentence):\n",
    "    return Counter(sentence)\n",
    "letter_frequency(\"hello\")"
   ]
  },
  {
   "cell_type": "markdown",
   "metadata": {},
   "source": [
    "The Counter object behaves like a beefed up dictionary where the keys are the items\n",
    "being counted and the values are the number of such items. One of the most useful\n",
    "functions is the `most_common()` method."
   ]
  },
  {
   "cell_type": "code",
   "execution_count": 16,
   "metadata": {},
   "outputs": [
    {
     "name": "stdout",
     "output_type": "stream",
     "text": [
      "The children voted for vanilla ice cream\n"
     ]
    }
   ],
   "source": [
    "from collections import Counter\n",
    "responses = [\n",
    "\"vanilla\",\n",
    "\"chocolate\",\n",
    "\"vanilla\",\n",
    "\"vanilla\",\n",
    "\"caramel\",\n",
    "\"strawberry\",\n",
    "\"vanilla\"\n",
    "]\n",
    "print(\"The children voted for {} ice cream\".format(\n",
    "Counter(responses).most_common(1)[0][0]\n",
    "))"
   ]
  },
  {
   "cell_type": "markdown",
   "metadata": {},
   "source": [
    "### Lists"
   ]
  },
  {
   "cell_type": "markdown",
   "metadata": {},
   "source": [
    "*Lists are the least object-oriented of Python's data structures.* While lists are,\n",
    "themselves, objects, there is a lot of syntax in Python to make using them as painless\n",
    "as possible. Unlike many other object-oriented languages, lists in Python are\n",
    "simply available. We don't need to import them and rarely need to call methods\n",
    "on them. We can loop over a list without explicitly requesting an iterator object."
   ]
  },
  {
   "cell_type": "markdown",
   "metadata": {},
   "source": [
    "#### Sorting lists"
   ]
  },
  {
   "cell_type": "markdown",
   "metadata": {},
   "source": [
    "Without any parameters, sort will generally do the expected thing. If it's a list of\n",
    "strings, it will place them in alphabetical order. This operation is case sensitive, so\n",
    "all capital letters will be sorted before lowercase letters, that is Z comes before a.<br>\n",
    "If we want to place objects we define ourselves into a list and make those objects\n",
    "sortable, we have to do a bit more work. The special method `__lt__`, which stands for\n",
    "\"less than\", should be defined on the class to make instances of that class comparable."
   ]
  },
  {
   "cell_type": "code",
   "execution_count": 17,
   "metadata": {},
   "outputs": [],
   "source": [
    "class WeirdSortee:\n",
    "    def __init__(self, string, number, sort_num):\n",
    "        self.string = string\n",
    "        self.number = number\n",
    "        self.sort_num = sort_num\n",
    "\n",
    "    def __lt__(self, object):\n",
    "        if self.sort_num:\n",
    "            return self.number < object.number\n",
    "        return self.string < object.string\n",
    "\n",
    "    def __repr__(self):\n",
    "        return\"{}:{}\".format(self.string, self.number)"
   ]
  },
  {
   "cell_type": "code",
   "execution_count": 19,
   "metadata": {},
   "outputs": [],
   "source": [
    "a = WeirdSortee('a', 4, True)\n",
    "b = WeirdSortee('b', 3, True)\n",
    "c = WeirdSortee('c', 2, True)\n",
    "d = WeirdSortee('d', 1, True)\n",
    "l = [a, b, c, d]\n",
    "l.sort()"
   ]
  },
  {
   "cell_type": "code",
   "execution_count": 20,
   "metadata": {},
   "outputs": [
    {
     "data": {
      "text/plain": [
       "[d:1, c:2, b:3, a:4]"
      ]
     },
     "execution_count": 20,
     "metadata": {},
     "output_type": "execute_result"
    }
   ],
   "source": [
    "l"
   ]
  },
  {
   "cell_type": "code",
   "execution_count": 21,
   "metadata": {},
   "outputs": [
    {
     "data": {
      "text/plain": [
       "[a:4, b:3, c:2, d:1]"
      ]
     },
     "execution_count": 21,
     "metadata": {},
     "output_type": "execute_result"
    }
   ],
   "source": [
    "for i in l:\n",
    "    i.sort_num = False\n",
    "l.sort()\n",
    "l"
   ]
  },
  {
   "cell_type": "markdown",
   "metadata": {},
   "source": [
    "The first time we call sort, it sorts by numbers because `sort_num` is True on all the\n",
    "objects being compared. The second time, it sorts by letters."
   ]
  },
  {
   "cell_type": "markdown",
   "metadata": {},
   "source": [
    "The` __lt__` method\n",
    "is the only one we need to implement to enable sorting. Technically, however, if it\n",
    "is implemented, the class should normally also implement the similar `__gt__`, `__eq__`,` __ne__`, `__ge__`, and `__le__` methods so that all of the <, >, ==, !=, >=, and <=\n",
    "operators also work properly. You can get this for free by implementing `__lt__ `and\n",
    "`__eq__`, and then applying the `@total_ordering` class decorator to supply the rest:"
   ]
  },
  {
   "cell_type": "code",
   "execution_count": 22,
   "metadata": {},
   "outputs": [],
   "source": [
    "from functools import total_ordering\n",
    "@total_ordering\n",
    "class WeirdSortee:\n",
    "    def __init__(self, string, number, sort_num):\n",
    "        self.string = string\n",
    "        self.number = number\n",
    "        self.sort_num = sort_num\n",
    "        \n",
    "    def __lt__(self, object):\n",
    "        if self.sort_num:\n",
    "            return self.number < object.number\n",
    "        return self.string < object.string\n",
    "\n",
    "    def __repr__(self):\n",
    "        return\"{}:{}\".format(self.string, self.number)\n",
    "        \n",
    "    def __eq__(self, object):\n",
    "        return all((\n",
    "    self.string == object.string,\n",
    "    self.number == object.number,\n",
    "    self.sort_num == object.number\n",
    "    ))"
   ]
  },
  {
   "cell_type": "markdown",
   "metadata": {},
   "source": [
    "If all we\n",
    "want to do is customize our sort orders, even this is overkill. For such a use case, the\n",
    "sort method can take an optional key argument. This argument is a function that\n",
    "can translate each object in a list into an object that can somehow be compared. For\n",
    "example, we can use `str.lower` as the key argument to perform a case-insensitive\n",
    "sort on a list of strings:"
   ]
  },
  {
   "cell_type": "code",
   "execution_count": 23,
   "metadata": {},
   "outputs": [
    {
     "data": {
      "text/plain": [
       "['HELP', 'Helo', 'hello']"
      ]
     },
     "execution_count": 23,
     "metadata": {},
     "output_type": "execute_result"
    }
   ],
   "source": [
    "l = [\"hello\", \"HELP\", \"Helo\"]\n",
    "l.sort()\n",
    "l"
   ]
  },
  {
   "cell_type": "code",
   "execution_count": 25,
   "metadata": {},
   "outputs": [
    {
     "data": {
      "text/plain": [
       "['hello', 'Helo', 'HELP']"
      ]
     },
     "execution_count": 25,
     "metadata": {},
     "output_type": "execute_result"
    }
   ],
   "source": [
    "l.sort(key = str.lower)\n",
    "l"
   ]
  },
  {
   "cell_type": "markdown",
   "metadata": {},
   "source": [
    "There are a few sort key operations that are so common that the Python team has\n",
    "supplied them so you don't have to write them yourself. For example, it is often\n",
    "common to sort a list of tuples by something other than the first item in the list.\n",
    "The `operator.itemgetter` method can be used as a key to do this:"
   ]
  },
  {
   "cell_type": "code",
   "execution_count": 26,
   "metadata": {},
   "outputs": [
    {
     "data": {
      "text/plain": [
       "[('p', 1), ('y', 2), ('t', 3), ('h', 4), ('o', 5), ('n', 6)]"
      ]
     },
     "execution_count": 26,
     "metadata": {},
     "output_type": "execute_result"
    }
   ],
   "source": [
    "from operator import itemgetter\n",
    "l = [('h', 4), ('n', 6), ('o', 5), ('p', 1), ('t', 3), ('y', 2)]\n",
    "l.sort(key = itemgetter(1))\n",
    "l"
   ]
  },
  {
   "cell_type": "markdown",
   "metadata": {},
   "source": [
    "### Sets"
   ]
  },
  {
   "cell_type": "markdown",
   "metadata": {},
   "source": [
    "In Python, sets can hold any hashable object, not just numbers. Hashable objects\n",
    "are the same objects that can be used as keys in dictionaries; so again, lists and\n",
    "dictionaries are out. Like mathematical sets, they can store only one copy of each\n",
    "object."
   ]
  },
  {
   "cell_type": "code",
   "execution_count": 27,
   "metadata": {},
   "outputs": [],
   "source": [
    "song_library = [(\"Phantom Of The Opera\", \"Sarah Brightman\"),\n",
    "(\"Knocking On Heaven's Door\", \"Guns N' Roses\"),\n",
    "(\"Captain Nemo\", \"Sarah Brightman\"),\n",
    "(\"Patterns In The Ivy\", \"Opeth\"),\n",
    "(\"November Rain\", \"Guns N' Roses\"),\n",
    "(\"Beautiful\", \"Sarah Brightman\"),\n",
    "(\"Mal's Song\", \"Vixy and Tony\")]"
   ]
  },
  {
   "cell_type": "code",
   "execution_count": 28,
   "metadata": {},
   "outputs": [
    {
     "name": "stdout",
     "output_type": "stream",
     "text": [
      "{\"Guns N' Roses\", 'Sarah Brightman', 'Vixy and Tony', 'Opeth'}\n"
     ]
    }
   ],
   "source": [
    "artists = set()\n",
    "for song, artist in song_library:\n",
    "    artists.add(artist)\n",
    "print(artists)"
   ]
  },
  {
   "cell_type": "markdown",
   "metadata": {},
   "source": [
    ">There is no built-in syntax for an empty set as there is for lists and dictionaries;\n",
    "we create a set using the `set()` constructor. However, we can use the curly braces\n",
    "(borrowed from dictionary syntax) to create a set, so long as the set contains\n",
    "values."
   ]
  },
  {
   "cell_type": "markdown",
   "metadata": {},
   "source": [
    "**Sets, like dictionaries, are unordered.** They\n",
    "both use an underlying hash-based data structure for efficiency. Because they are\n",
    "unordered, sets cannot have items looked up by index. The primary purpose of a set\n",
    "is to divide the world into two groups: \"things that are in the set\", and, \"things that\n",
    "are not in the set\". "
   ]
  },
  {
   "cell_type": "markdown",
   "metadata": {},
   "source": [
    "While the primary feature of a set is uniqueness, that is not its primary purpose. Sets\n",
    "are most useful when two or more of them are used in combination. Most of the\n",
    "methods on the set type operate on other sets, allowing us to efficiently combine or\n",
    "compare the items in two or more sets. They use the same terminology used in mathematics."
   ]
  },
  {
   "cell_type": "code",
   "execution_count": 29,
   "metadata": {},
   "outputs": [
    {
     "name": "stdout",
     "output_type": "stream",
     "text": [
      "my_artists is to bands:\n",
      "issuperset: True\n",
      "issubset: False\n",
      "difference: {'Sarah Brightman', 'Vixy and Tony'}\n",
      "********************\n",
      "bands is to my_artists:\n",
      "issuperset: False\n",
      "issubset: True\n",
      "difference: set()\n"
     ]
    }
   ],
   "source": [
    "my_artists = {\"Sarah Brightman\", \"Guns N' Roses\",\n",
    "\"Opeth\", \"Vixy and Tony\"}\n",
    "bands = {\"Guns N' Roses\", \"Opeth\"}\n",
    "print(\"my_artists is to bands:\")\n",
    "print(\"issuperset: {}\".format(my_artists.issuperset(bands)))\n",
    "print(\"issubset: {}\".format(my_artists.issubset(bands)))\n",
    "print(\"difference: {}\".format(my_artists.difference(bands)))\n",
    "print(\"*\"*20)\n",
    "print(\"bands is to my_artists:\")\n",
    "print(\"issuperset: {}\".format(bands.issuperset(my_artists)))\n",
    "print(\"issubset: {}\".format(bands.issubset(my_artists)))\n",
    "print(\"difference: {}\".format(bands.difference(my_artists)))"
   ]
  },
  {
   "cell_type": "markdown",
   "metadata": {},
   "source": [
    "The `union`, `intersection`, and `difference` methods can all take multiple sets as\n",
    "arguments; they will return, as we might expect, the set that is created when the\n",
    "operation is called on all the parameters."
   ]
  },
  {
   "cell_type": "markdown",
   "metadata": {},
   "source": [
    "### Extending built-ins"
   ]
  },
  {
   "cell_type": "markdown",
   "metadata": {},
   "source": [
    "When we have a built-in container object that we want to add functionality to, we\n",
    "have two options. We can either create a new object, which holds that container as\n",
    "an attribute (**composition**), or we can subclass the built-in object and add or adapt\n",
    "methods on it to do what we want (**inheritance**)."
   ]
  },
  {
   "cell_type": "markdown",
   "metadata": {},
   "source": [
    "Composition is usually the best alternative if all we want to do is use the container\n",
    "to store some objects using that container's features. That way, it's easy to pass that\n",
    "data structure into other methods and they will know how to interact with it. But we\n",
    "need to use inheritance if we want to change the way the container actually works.\n",
    "For example, if we want to ensure every item in a list is a string with exactly five\n",
    "characters, we need to extend list and override the `append()` method to raise an\n",
    "exception for invalid input. We'd also minimally have to override `__setitem__(self, index, value)`, a special method on lists that is called whenever we use the\n",
    "`x[index] = \"value\"` syntax, and the `extend()` method."
   ]
  },
  {
   "cell_type": "markdown",
   "metadata": {},
   "source": [
    "Lists are objects. All the special non-object-oriented looking syntax we've\n",
    "been looking at for accessing lists or dictionary keys, looping over containers,\n",
    "and similar tasks is actually *\"syntactic sugar\"* that maps to an object-oriented\n",
    "paradigm underneath. The goal of these syntactic sugar is to make it easy to write and read.<br>\n",
    "hese methods have special names (with\n",
    "double-underscores before and after) to remind us that there is a better syntax out\n",
    "there. However, it gives us the means to override these behaviors. For example, we\n",
    "can make a special integer that always returns 0 when we add two of them together:"
   ]
  },
  {
   "cell_type": "code",
   "execution_count": 30,
   "metadata": {},
   "outputs": [
    {
     "data": {
      "text/plain": [
       "0"
      ]
     },
     "execution_count": 30,
     "metadata": {},
     "output_type": "execute_result"
    }
   ],
   "source": [
    "class SillyInt(int):\n",
    "    def __add__(self, num):\n",
    "        return 0\n",
    "\n",
    "a = SillyInt(1)\n",
    "b = SillyInt(2)\n",
    "a + b"
   ]
  },
  {
   "cell_type": "markdown",
   "metadata": {},
   "source": [
    "The awesome thing about the `__add__` method is that we can add it to any class we\n",
    "write, and if we use the `+` operator on instances of that class, it will be called. "
   ]
  },
  {
   "cell_type": "markdown",
   "metadata": {},
   "source": [
    "This is true of all the special methods. If we want to use `x in myobj` syntax for\n",
    "a custom-defined object, we can implement` __contains__`. If we want to use\n",
    "`myobj[i] = value` syntax, we supply a` __setitem__` method and if we want to\n",
    "use `something = myobj[i]`, we implement `__getitem__`."
   ]
  },
  {
   "cell_type": "markdown",
   "metadata": {},
   "source": [
    "There are 33 of these special methods on the list class. We can use the `dir`\n",
    "function to see all of them:"
   ]
  },
  {
   "cell_type": "code",
   "execution_count": 33,
   "metadata": {},
   "outputs": [
    {
     "data": {
      "text/plain": [
       "['__add__',\n",
       " '__class__',\n",
       " '__contains__',\n",
       " '__delattr__',\n",
       " '__delitem__',\n",
       " '__dir__',\n",
       " '__doc__',\n",
       " '__eq__',\n",
       " '__format__',\n",
       " '__ge__',\n",
       " '__getattribute__',\n",
       " '__getitem__',\n",
       " '__gt__',\n",
       " '__hash__',\n",
       " '__iadd__',\n",
       " '__imul__',\n",
       " '__init__',\n",
       " '__init_subclass__',\n",
       " '__iter__',\n",
       " '__le__',\n",
       " '__len__',\n",
       " '__lt__',\n",
       " '__mul__',\n",
       " '__ne__',\n",
       " '__new__',\n",
       " '__reduce__',\n",
       " '__reduce_ex__',\n",
       " '__repr__',\n",
       " '__reversed__',\n",
       " '__rmul__',\n",
       " '__setattr__',\n",
       " '__setitem__',\n",
       " '__sizeof__',\n",
       " '__str__',\n",
       " '__subclasshook__',\n",
       " 'append',\n",
       " 'clear',\n",
       " 'copy',\n",
       " 'count',\n",
       " 'extend',\n",
       " 'index',\n",
       " 'insert',\n",
       " 'pop',\n",
       " 'remove',\n",
       " 'reverse',\n",
       " 'sort']"
      ]
     },
     "execution_count": 33,
     "metadata": {},
     "output_type": "execute_result"
    }
   ],
   "source": [
    "dir(list)"
   ]
  },
  {
   "cell_type": "markdown",
   "metadata": {},
   "source": [
    "We can use `help` for any of these methods to see what they do."
   ]
  },
  {
   "cell_type": "code",
   "execution_count": 34,
   "metadata": {},
   "outputs": [
    {
     "name": "stdout",
     "output_type": "stream",
     "text": [
      "Help on wrapper_descriptor:\n",
      "\n",
      "__add__(self, value, /)\n",
      "    Return self+value.\n",
      "\n"
     ]
    }
   ],
   "source": [
    "help(list.__add__)"
   ]
  }
 ],
 "metadata": {
  "interpreter": {
   "hash": "ce44b17c45080b8f56a19c9450d52461d624c968fcd959bb1916985c5ffa2b94"
  },
  "kernelspec": {
   "display_name": "Python 3.8.5 64-bit ('base': conda)",
   "language": "python",
   "name": "python3"
  },
  "language_info": {
   "codemirror_mode": {
    "name": "ipython",
    "version": 3
   },
   "file_extension": ".py",
   "mimetype": "text/x-python",
   "name": "python",
   "nbconvert_exporter": "python",
   "pygments_lexer": "ipython3",
   "version": "3.8.5"
  },
  "orig_nbformat": 4
 },
 "nbformat": 4,
 "nbformat_minor": 2
}
