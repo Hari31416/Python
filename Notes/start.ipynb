{
 "cells": [
  {
   "cell_type": "code",
   "execution_count": 8,
   "metadata": {},
   "outputs": [],
   "source": [
    "import os\n",
    "from life_saving_tools.Files import Notebook\n",
    "import nbformat\n",
    "from nbconvert import HTMLExporter\n",
    "import re\n",
    "import tqdm\n",
    "from IPython.display import clear_output"
   ]
  },
  {
   "cell_type": "markdown",
   "metadata": {},
   "source": [
    "## Saving Notebooks to HTML"
   ]
  },
  {
   "cell_type": "markdown",
   "metadata": {},
   "source": [
    "### Steps\n",
    "1. Remove The Logo\n",
    "2. Remove the 'Great Job' text\n",
    "3. Save the notebook as HTML\n",
    "4. Keep track of output file path\n",
    "5. Excluding the Exercises"
   ]
  },
  {
   "cell_type": "code",
   "execution_count": 2,
   "metadata": {},
   "outputs": [],
   "source": [
    "for folder, _, files in os.walk('.'):\n",
    "    if \"oop dusty\" in folder.lower():\n",
    "        continue\n",
    "\n",
    "    for file in files:\n",
    "        if file.endswith('.html'):\n",
    "            os.remove(os.path.join(folder, file))\n"
   ]
  },
  {
   "cell_type": "code",
   "execution_count": 3,
   "metadata": {},
   "outputs": [
    {
     "name": "stdout",
     "output_type": "stream",
     "text": [
      "234\n"
     ]
    }
   ],
   "source": [
    "i=0\n",
    "for folder, _, files in os.walk('.'):\n",
    "    for file in files:\n",
    "        if file.endswith('.ipynb'):\n",
    "            i+=1\n",
    "\n",
    "print(i)"
   ]
  },
  {
   "cell_type": "code",
   "execution_count": 4,
   "metadata": {},
   "outputs": [],
   "source": [
    "file = r\"00-Python Object and Data Structure Basics\\04-Lists.ipynb\"\n",
    "notebook = nbformat.read(file, as_version=4)"
   ]
  },
  {
   "cell_type": "code",
   "execution_count": 5,
   "metadata": {},
   "outputs": [],
   "source": [
    "def convert_new(input, output = None):\n",
    "    #Loading the file\n",
    "    notebook = nbformat.read(input, as_version=4)\n",
    "    #Removing the logo\n",
    "    \n",
    "    notebook.cells[0].source = \"\"\n",
    "    #Removing the final text\n",
    "    text = notebook.cells[-1].source\n",
    "    if \"Great Job\" in text:\n",
    "        notebook.cells[-1].source = \"\"\n",
    "    #Converting to HTML\n",
    "    html_exporter = HTMLExporter(template_name=\"classic\")\n",
    "    (body, _) = html_exporter.from_notebook_node(notebook)\n",
    "    # Fixing the title\n",
    "    title = input.split(os.path.sep)[-1].split(\".\")[0]\n",
    "    title = title.replace(\"_\", \" \").title()\n",
    "    regex =re.compile(r\"\\d\")\n",
    "    title = regex.sub(\"\", title)\n",
    "    title = title.replace(\"-\", \" \").strip()\n",
    "    body = re.sub(\"<title>Notebook</title>\", f\"<title>{title}</title>\", body)\n",
    "\n",
    "    if output is None:\n",
    "        #Fixing the path\n",
    "        output = os.path.splitext(input)[0] + \".html\"\n",
    "\n",
    "    with open(output, \"a\", encoding=\"utf-8\") as f:\n",
    "        f.write(body)\n",
    "    \n",
    "    #Fixing the title\n",
    "    return output, title"
   ]
  },
  {
   "cell_type": "code",
   "execution_count": 6,
   "metadata": {},
   "outputs": [
    {
     "data": {
      "text/plain": [
       "('00-Python Object and Data Structure Basics\\\\04-Lists.html', 'Lists')"
      ]
     },
     "execution_count": 6,
     "metadata": {},
     "output_type": "execute_result"
    }
   ],
   "source": [
    "convert_new(file)"
   ]
  },
  {
   "cell_type": "code",
   "execution_count": 24,
   "metadata": {},
   "outputs": [
    {
     "data": {
      "text/plain": [
       "('19-Bonus Material - Introduction to GUIs\\\\02-Widget Basics.html',\n",
       " ' Widget Basics')"
      ]
     },
     "execution_count": 24,
     "metadata": {},
     "output_type": "execute_result"
    }
   ],
   "source": [
    "convert_new(r\"19-Bonus Material - Introduction to GUIs\\02-Widget Basics.ipynb\")"
   ]
  },
  {
   "cell_type": "code",
   "execution_count": 10,
   "metadata": {},
   "outputs": [
    {
     "name": "stdout",
     "output_type": "stream",
     "text": [
      "0\n",
      "1\n",
      "3\n",
      "4\n",
      "5\n",
      "6\n",
      "7\n",
      "8\n",
      "9\n"
     ]
    }
   ],
   "source": [
    "for i in range(10):\n",
    "    if i==2:\n",
    "        continue\n",
    "    print(i)"
   ]
  },
  {
   "cell_type": "code",
   "execution_count": 11,
   "metadata": {},
   "outputs": [],
   "source": [
    "titles = []\n",
    "paths = []\n",
    "exclude = [\"exercise\", \"oop dusty\", \"checkpoint\", \"temp\", \"start\"]\n",
    "for folder, _, files in os.walk(\".\"):\n",
    "    print(\"Currently on: \", folder)\n",
    "    if \"checkpoint\" in folder:\n",
    "        continue\n",
    "\n",
    "    for file in tqdm.tqdm(files, desc=\"Converting...\"):\n",
    "        for item in exclude:\n",
    "            toexclude = False\n",
    "            if item in file.lower():\n",
    "                print(f\"Found an {item.title()}: \", file)\n",
    "                print(\"Skipped\")\n",
    "                toexclude = True\n",
    "                break\n",
    "\n",
    "        if file.endswith(\".ipynb\") and not toexclude:\n",
    "            print(\"Converting: \", file)\n",
    "            try:\n",
    "                path, title = convert_new(os.path.join(folder, file))\n",
    "                paths.append(path)\n",
    "                titles.append(title)\n",
    "                print(\"Converted\")\n",
    "            except Exception as e:\n",
    "                print(e)\n",
    "                print(\"Failed. Continuing...\")\n",
    "                continue\n",
    "                \n",
    "    clear_output()"
   ]
  },
  {
   "cell_type": "code",
   "execution_count": 21,
   "metadata": {},
   "outputs": [
    {
     "data": {
      "text/plain": [
       "'Files'"
      ]
     },
     "execution_count": 21,
     "metadata": {},
     "output_type": "execute_result"
    }
   ],
   "source": [
    "titles[10]"
   ]
  },
  {
   "cell_type": "code",
   "execution_count": 16,
   "metadata": {},
   "outputs": [
    {
     "data": {
      "text/plain": [
       "'.\\\\00-Python Object and Data Structure Basics\\\\01-Variable Assignment.html'"
      ]
     },
     "execution_count": 16,
     "metadata": {},
     "output_type": "execute_result"
    }
   ],
   "source": [
    "paths[3]"
   ]
  },
  {
   "cell_type": "markdown",
   "metadata": {},
   "source": [
    "text = \"\"\"<li><a href='Notes\\Tensorflow_Deep_Learning\\00_tensorflow_fundamentals.html' target='blank' class='links'> Tensorflow Fundamentals</a></li>\"\"\""
   ]
  },
  {
   "cell_type": "code",
   "execution_count": 12,
   "metadata": {},
   "outputs": [],
   "source": [
    "text = \"\"\n",
    "for title, path in zip(titles, paths):\n",
    "    if 'checkpoint' in path.lower():\n",
    "        continue\n",
    "    path = path.replace(\".\", \"Notes\", 1)\n",
    "    text+= f\"\"\"<li><a href='{path}' target='blank' class='links'>{title}</a></li>\"\"\""
   ]
  },
  {
   "cell_type": "code",
   "execution_count": 13,
   "metadata": {},
   "outputs": [],
   "source": [
    "import pyperclip\n",
    "pyperclip.copy(text)"
   ]
  },
  {
   "cell_type": "code",
   "execution_count": 14,
   "metadata": {},
   "outputs": [
    {
     "name": "stdout",
     "output_type": "stream",
     "text": [
      "<li><a href='Notes\\00-Python Object and Data Structure Basics\\01-Numbers.html' target='blank' class='links'>Numbers</a></li><li><a href='Notes\\00-Python Object and Data Structure Basics\\01-Variable Assignment.html' target='blank' class='links'>Variable Assignment</a></li><li><a href='Notes\\00-Python Object and Data Structure Basics\\02-Strings.html' target='blank' class='links'>Strings</a></li><li><a href='Notes\\00-Python Object and Data Structure Basics\\03-Print Formatting with Strings.html' target='blank' class='links'>Print Formatting With Strings</a></li><li><a href='Notes\\00-Python Object and Data Structure Basics\\04-Lists.html' target='blank' class='links'>Lists</a></li><li><a href='Notes\\00-Python Object and Data Structure Basics\\05-Dictionaries.html' target='blank' class='links'>Dictionaries</a></li><li><a href='Notes\\00-Python Object and Data Structure Basics\\06-Tuples.html' target='blank' class='links'>Tuples</a></li><li><a href='Notes\\00-Python Object and Data Structure Basics\\07-Sets and Booleans.html' target='blank' class='links'>Sets And Booleans</a></li><li><a href='Notes\\00-Python Object and Data Structure Basics\\08-Files.html' target='blank' class='links'>Files</a></li><li><a href='Notes\\00-Python Object and Data Structure Basics\\09-Objects and Data Structures Assessment Test.html' target='blank' class='links'>Objects And Data Structures Assessment Test</a></li><li><a href='Notes\\00-Python Object and Data Structure Basics\\10-Objects and Data Structures Assessment Test-Solution.html' target='blank' class='links'>Objects And Data Structures Assessment Test Solution</a></li><li><a href='Notes\\01-Python Comparison Operators\\01-Comparison Operators.html' target='blank' class='links'>Comparison Operators</a></li><li><a href='Notes\\01-Python Comparison Operators\\02-Chained Comparison Operators.html' target='blank' class='links'>Chained Comparison Operators</a></li><li><a href='Notes\\02-Python Statements\\01-Introduction to Python Statements.html' target='blank' class='links'>Introduction To Python Statements</a></li><li><a href='Notes\\02-Python Statements\\02-if, elif, and else Statements.html' target='blank' class='links'>If, Elif, And Else Statements</a></li><li><a href='Notes\\02-Python Statements\\03-for Loops.html' target='blank' class='links'>For Loops</a></li><li><a href='Notes\\02-Python Statements\\04-while Loops.html' target='blank' class='links'>While Loops</a></li><li><a href='Notes\\02-Python Statements\\05-Useful-Operators.html' target='blank' class='links'>Useful Operators</a></li><li><a href='Notes\\02-Python Statements\\06-List Comprehensions.html' target='blank' class='links'>List Comprehensions</a></li><li><a href='Notes\\02-Python Statements\\07-Statements Assessment Test.html' target='blank' class='links'>Statements Assessment Test</a></li><li><a href='Notes\\02-Python Statements\\08-Statements Assessment Test - Solutions.html' target='blank' class='links'>Statements Assessment Test   Solutions</a></li><li><a href='Notes\\02-Python Statements\\09-Guessing Game Challenge.html' target='blank' class='links'>Guessing Game Challenge</a></li><li><a href='Notes\\02-Python Statements\\10-Guessing Game Challenge - Solution.html' target='blank' class='links'>Guessing Game Challenge   Solution</a></li><li><a href='Notes\\03-Methods and Functions\\01-Methods.html' target='blank' class='links'>Methods</a></li><li><a href='Notes\\03-Methods and Functions\\02-Functions.html' target='blank' class='links'>Functions</a></li><li><a href='Notes\\03-Methods and Functions\\05-Lambda-Expressions-Map-and-Filter.html' target='blank' class='links'>Lambda Expressions Map And Filter</a></li><li><a href='Notes\\03-Methods and Functions\\06-Nested Statements and Scope.html' target='blank' class='links'>Nested Statements And Scope</a></li><li><a href='Notes\\03-Methods and Functions\\07-args and kwargs.html' target='blank' class='links'>Args And Kwargs</a></li><li><a href='Notes\\03-Methods and Functions\\08-Functions and Methods Homework.html' target='blank' class='links'>Functions And Methods Homework</a></li><li><a href='Notes\\03-Methods and Functions\\09-Functions and Methods Homework - Solutions.html' target='blank' class='links'>Functions And Methods Homework   Solutions</a></li><li><a href='Notes\\04-Milestone Project - 1\\02-Milestone Project 1 - Walkthrough Steps Workbook.html' target='blank' class='links'>Milestone Project    Walkthrough Steps Workbook</a></li><li><a href='Notes\\04-Milestone Project - 1\\03-Milestone Project 1 - Complete Walkthrough Solution.html' target='blank' class='links'>Milestone Project    Complete Walkthrough Solution</a></li><li><a href='Notes\\05-Object Oriented Programming\\01-Object Oriented Programming.html' target='blank' class='links'>Object Oriented Programming</a></li><li><a href='Notes\\05-Object Oriented Programming\\03-Object Oriented Programming Homework - Solution.html' target='blank' class='links'>Object Oriented Programming Homework   Solution</a></li><li><a href='Notes\\05-Object Oriented Programming\\04-OOP Challenge.html' target='blank' class='links'>Oop Challenge</a></li><li><a href='Notes\\05-Object Oriented Programming\\05-OOP Challenge - Solution.html' target='blank' class='links'>Oop Challenge   Solution</a></li><li><a href='Notes\\06-Modules and Packages\\Useful_Info_Notebook.html' target='blank' class='links'>Useful Info Notebook</a></li><li><a href='Notes\\07-Errors and Exception Handling\\01-Errors and Exceptions Handling.html' target='blank' class='links'>Errors And Exceptions Handling</a></li><li><a href='Notes\\07-Errors and Exception Handling\\02-Errors and Exceptions Homework.html' target='blank' class='links'>Errors And Exceptions Homework</a></li><li><a href='Notes\\07-Errors and Exception Handling\\03-Errors and Exceptions Homework - Solution.html' target='blank' class='links'>Errors And Exceptions Homework   Solution</a></li><li><a href='Notes\\07-Errors and Exception Handling\\04-Unit Testing.html' target='blank' class='links'>Unit Testing</a></li><li><a href='Notes\\08-Milestone Project - 2\\00-Milestone-2-Warmup-Project.html' target='blank' class='links'>Milestone  Warmup Project</a></li><li><a href='Notes\\08-Milestone Project - 2\\02-Milestone Project 2 - Walkthrough Steps Workbook.html' target='blank' class='links'>Milestone Project    Walkthrough Steps Workbook</a></li><li><a href='Notes\\08-Milestone Project - 2\\03-Milestone Project 2 - Complete Walkthrough Solution.html' target='blank' class='links'>Milestone Project    Complete Walkthrough Solution</a></li><li><a href='Notes\\09-Built-in Functions\\01-Map.html' target='blank' class='links'>Map</a></li><li><a href='Notes\\09-Built-in Functions\\02-Reduce.html' target='blank' class='links'>Reduce</a></li><li><a href='Notes\\09-Built-in Functions\\03-Filter.html' target='blank' class='links'>Filter</a></li><li><a href='Notes\\09-Built-in Functions\\04-Zip.html' target='blank' class='links'>Zip</a></li><li><a href='Notes\\09-Built-in Functions\\05-Enumerate.html' target='blank' class='links'>Enumerate</a></li><li><a href='Notes\\09-Built-in Functions\\06-all() and any().html' target='blank' class='links'>All() And Any()</a></li><li><a href='Notes\\09-Built-in Functions\\07-Complex.html' target='blank' class='links'>Complex</a></li><li><a href='Notes\\09-Built-in Functions\\08-Built-in Functions Assessment Test.html' target='blank' class='links'>Built In Functions Assessment Test</a></li><li><a href='Notes\\09-Built-in Functions\\09-Built-in Functions Assessment Test - Solution.html' target='blank' class='links'>Built In Functions Assessment Test   Solution</a></li><li><a href='Notes\\10-Python Decorators\\01-Decorators.html' target='blank' class='links'>Decorators</a></li><li><a href='Notes\\10-Python Decorators\\02-Decorators Homework.html' target='blank' class='links'>Decorators Homework</a></li><li><a href='Notes\\10-Python Decorators\\practice.html' target='blank' class='links'>Practice</a></li><li><a href='Notes\\11-Python Generators\\01-Iterators and Generators.html' target='blank' class='links'>Iterators And Generators</a></li><li><a href='Notes\\11-Python Generators\\02-Iterators and Generators Homework.html' target='blank' class='links'>Iterators And Generators Homework</a></li><li><a href='Notes\\11-Python Generators\\03-Iterators and Generators Homework - Solution.html' target='blank' class='links'>Iterators And Generators Homework   Solution</a></li><li><a href='Notes\\11-Python Generators\\notes.html' target='blank' class='links'>Notes</a></li><li><a href='Notes\\12-Advanced Python Modules\\00-Collections-Module.html' target='blank' class='links'>Collections Module</a></li><li><a href='Notes\\12-Advanced Python Modules\\01-Opening-and-Reading-Files-Folders.html' target='blank' class='links'>Opening And Reading Files Folders</a></li><li><a href='Notes\\12-Advanced Python Modules\\02-Datetime-Module.html' target='blank' class='links'>Datetime Module</a></li><li><a href='Notes\\12-Advanced Python Modules\\03-Math-and-Random-Module.html' target='blank' class='links'>Math And Random Module</a></li><li><a href='Notes\\12-Advanced Python Modules\\04-Python Debugger (pdb).html' target='blank' class='links'>Python Debugger (Pdb)</a></li><li><a href='Notes\\12-Advanced Python Modules\\05-Overview-of-Regular-Expressions.html' target='blank' class='links'>Overview Of Regular Expressions</a></li><li><a href='Notes\\12-Advanced Python Modules\\06-Timing your code - timeit.html' target='blank' class='links'>Timing Your Code   Timeit</a></li><li><a href='Notes\\12-Advanced Python Modules\\07-Unzipping-and-Zipping-Files.html' target='blank' class='links'>Unzipping And Zipping Files</a></li><li><a href='Notes\\12-Advanced Python Modules\\08-Advanced-Python-Module-Exercise\\puzzle.html' target='blank' class='links'>Puzzle</a></li><li><a href='Notes\\13-Web-Scraping\\00-Guide-to-Web-Scraping.html' target='blank' class='links'>Guide To Web Scraping</a></li><li><a href='Notes\\14-Working-with-Images\\00-Overview-of-Working-with-Images.html' target='blank' class='links'>Overview Of Working With Images</a></li><li><a href='Notes\\14-Working-with-Images\\notebook1.html' target='blank' class='links'>Notebook</a></li><li><a href='Notes\\15-PDFs-and-Spreadsheets\\00-Working-with-CSV-Files.html' target='blank' class='links'>Working With Csv Files</a></li><li><a href='Notes\\15-PDFs-and-Spreadsheets\\01-Working-with-PDFs.html' target='blank' class='links'>Working With Pdfs</a></li><li><a href='Notes\\15-PDFs-and-Spreadsheets\\02-PDFs-Spreadsheets-Puzzle.html' target='blank' class='links'>Pdfs Spreadsheets Puzzle</a></li><li><a href='Notes\\15-PDFs-and-Spreadsheets\\03-PDFs-Spreadsheets-Puzzle-Solution.html' target='blank' class='links'>Pdfs Spreadsheets Puzzle Solution</a></li><li><a href='Notes\\16-Emailing-with-Python\\00-Overview-of-Sending-Emails.html' target='blank' class='links'>Overview Of Sending Emails</a></li><li><a href='Notes\\16-Emailing-with-Python\\01-Overview-of-Received-Emails.html' target='blank' class='links'>Overview Of Received Emails</a></li><li><a href='Notes\\17-Advanced Python Objects and Data Structures\\01-Advanced Numbers.html' target='blank' class='links'>Advanced Numbers</a></li><li><a href='Notes\\17-Advanced Python Objects and Data Structures\\02-Advanced Strings.html' target='blank' class='links'>Advanced Strings</a></li><li><a href='Notes\\17-Advanced Python Objects and Data Structures\\03-Advanced Sets.html' target='blank' class='links'>Advanced Sets</a></li><li><a href='Notes\\17-Advanced Python Objects and Data Structures\\04-Advanced Dictionaries.html' target='blank' class='links'>Advanced Dictionaries</a></li><li><a href='Notes\\17-Advanced Python Objects and Data Structures\\05-Advanced Lists.html' target='blank' class='links'>Advanced Lists</a></li><li><a href='Notes\\17-Advanced Python Objects and Data Structures\\06-Advanced Python Objects Test.html' target='blank' class='links'>Advanced Python Objects Test</a></li><li><a href='Notes\\17-Advanced Python Objects and Data Structures\\07-Advanced Python Objects Test - Solutions.html' target='blank' class='links'>Advanced Python Objects Test   Solutions</a></li><li><a href='Notes\\17-Advanced Python Objects and Data Structures\\08-BONUS - With Statement Context Managers.html' target='blank' class='links'>Bonus   With Statement Context Managers</a></li><li><a href='Notes\\18-Milestone Project - 3\\01-Final Capstone Project.html' target='blank' class='links'>Final Capstone Project</a></li><li><a href='Notes\\18-Milestone Project - 3\\02-Final Capstone Project Ideas.html' target='blank' class='links'>Final Capstone Project Ideas</a></li><li><a href='Notes\\19-Bonus Material - Introduction to GUIs\\01-Interact.html' target='blank' class='links'>Interact</a></li><li><a href='Notes\\19-Bonus Material - Introduction to GUIs\\02-Widget Basics.html' target='blank' class='links'>Widget Basics</a></li><li><a href='Notes\\19-Bonus Material - Introduction to GUIs\\03-Widget List.html' target='blank' class='links'>Widget List</a></li><li><a href='Notes\\19-Bonus Material - Introduction to GUIs\\04-Widget Events.html' target='blank' class='links'>Widget Events</a></li><li><a href='Notes\\19-Bonus Material - Introduction to GUIs\\05-Widget Styling.html' target='blank' class='links'>Widget Styling</a></li><li><a href='Notes\\19-Bonus Material - Introduction to GUIs\\06-Custom Widget.html' target='blank' class='links'>Custom Widget</a></li><li><a href='Notes\\19-Bonus Material - Introduction to GUIs\\07-Advanced Widget List.html' target='blank' class='links'>Advanced Widget List</a></li><li><a href='Notes\\19-Bonus Material - Introduction to GUIs\\08-Advanced Widget Styling with Layout.html' target='blank' class='links'>Advanced Widget Styling With Layout</a></li><li><a href='Notes\\OOP Dusty Phillips\\2. Objects in Python.html' target='blank' class='links'></a></li><li><a href='Notes\\OOP Dusty Phillips\\3. When Objects Are Alike.html' target='blank' class='links'></a></li><li><a href='Notes\\OOP Dusty Phillips\\4. Expecting the Unexpected.html' target='blank' class='links'></a></li><li><a href='Notes\\OOP Dusty Phillips\\5. When to Use Object-oriented Programming.html' target='blank' class='links'></a></li><li><a href='Notes\\OOP Dusty Phillips\\Python Data Structures.html' target='blank' class='links'>Python Data Structures</a></li>\n"
     ]
    }
   ],
   "source": [
    "print(text)"
   ]
  },
  {
   "cell_type": "code",
   "execution_count": null,
   "metadata": {},
   "outputs": [],
   "source": []
  }
 ],
 "metadata": {
  "interpreter": {
   "hash": "ce44b17c45080b8f56a19c9450d52461d624c968fcd959bb1916985c5ffa2b94"
  },
  "kernelspec": {
   "display_name": "Python 3.8.5 64-bit ('base': conda)",
   "language": "python",
   "name": "python3"
  },
  "language_info": {
   "codemirror_mode": {
    "name": "ipython",
    "version": 3
   },
   "file_extension": ".py",
   "mimetype": "text/x-python",
   "name": "python",
   "nbconvert_exporter": "python",
   "pygments_lexer": "ipython3",
   "version": "3.8.5"
  },
  "orig_nbformat": 4
 },
 "nbformat": 4,
 "nbformat_minor": 2
}
