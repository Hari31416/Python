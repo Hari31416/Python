{
 "cells": [
  {
   "cell_type": "code",
   "execution_count": 1,
   "metadata": {},
   "outputs": [],
   "source": [
    "import requests"
   ]
  },
  {
   "cell_type": "code",
   "execution_count": 2,
   "metadata": {},
   "outputs": [],
   "source": [
    "import bs4"
   ]
  },
  {
   "cell_type": "code",
   "execution_count": 10,
   "metadata": {},
   "outputs": [
    {
     "ename": "SyntaxError",
     "evalue": "invalid syntax (<ipython-input-10-8cc41e96652b>, line 18)",
     "output_type": "error",
     "traceback": [
      "\u001b[1;36m  File \u001b[1;32m\"<ipython-input-10-8cc41e96652b>\"\u001b[1;36m, line \u001b[1;32m18\u001b[0m\n\u001b[1;33m    for auth in author\u001b[0m\n\u001b[1;37m                      ^\u001b[0m\n\u001b[1;31mSyntaxError\u001b[0m\u001b[1;31m:\u001b[0m invalid syntax\n"
     ]
    }
   ],
   "source": [
    "url = \"https://quotes.toscrape.com/page/{}/\"\n",
    "\n",
    "n = 1\n",
    "flag = True\n",
    "authors = []\n",
    "while flag:\n",
    "\n",
    "    print(n)\n",
    "    print(url.format(n))\n",
    "   \n",
    "    code = requests.get(url.format(n))\n",
    "    soup = bs4.BeautifulSoup(code.text, 'lxml')\n",
    "\n",
    "\n",
    "    flag = soup.select(\".quote\") != []\n",
    "\n",
    "    author = soup.select(\".author\")\n",
    "    for auth in author\n",
    "        authors.append(author.text)\n",
    "    \n",
    "    n = n + 1\n",
    "\n"
   ]
  },
  {
   "cell_type": "code",
   "execution_count": 6,
   "metadata": {},
   "outputs": [
    {
     "data": {
      "text/plain": [
       "['Albert Einstein',\n",
       " 'J.K. Rowling',\n",
       " 'Albert Einstein',\n",
       " 'Jane Austen',\n",
       " 'Marilyn Monroe',\n",
       " 'Albert Einstein',\n",
       " 'André Gide',\n",
       " 'Thomas A. Edison',\n",
       " 'Eleanor Roosevelt',\n",
       " 'Steve Martin',\n",
       " 'J.K. Rowling',\n",
       " 'Jimi Hendrix',\n",
       " 'J.M. Barrie',\n",
       " 'E.E. Cummings',\n",
       " 'Khaled Hosseini',\n",
       " 'Harper Lee',\n",
       " \"Madeleine L'Engle\",\n",
       " 'Mark Twain',\n",
       " 'Dr. Seuss',\n",
       " 'George R.R. Martin',\n",
       " 'J.K. Rowling',\n",
       " 'Jimi Hendrix',\n",
       " 'J.M. Barrie',\n",
       " 'E.E. Cummings',\n",
       " 'Khaled Hosseini',\n",
       " 'Harper Lee',\n",
       " \"Madeleine L'Engle\",\n",
       " 'Mark Twain',\n",
       " 'Dr. Seuss',\n",
       " 'George R.R. Martin',\n",
       " 'J.K. Rowling',\n",
       " 'Jimi Hendrix',\n",
       " 'J.M. Barrie',\n",
       " 'E.E. Cummings',\n",
       " 'Khaled Hosseini',\n",
       " 'Harper Lee',\n",
       " \"Madeleine L'Engle\",\n",
       " 'Mark Twain',\n",
       " 'Dr. Seuss',\n",
       " 'George R.R. Martin']"
      ]
     },
     "execution_count": 6,
     "metadata": {},
     "output_type": "execute_result"
    }
   ],
   "source": [
    "authors"
   ]
  },
  {
   "cell_type": "code",
   "execution_count": null,
   "metadata": {},
   "outputs": [],
   "source": []
  }
 ],
 "metadata": {
  "kernelspec": {
   "display_name": "Python 3",
   "language": "python",
   "name": "python3"
  },
  "language_info": {
   "codemirror_mode": {
    "name": "ipython",
    "version": 3
   },
   "file_extension": ".py",
   "mimetype": "text/x-python",
   "name": "python",
   "nbconvert_exporter": "python",
   "pygments_lexer": "ipython3",
   "version": "3.8.5"
  }
 },
 "nbformat": 4,
 "nbformat_minor": 4
}
