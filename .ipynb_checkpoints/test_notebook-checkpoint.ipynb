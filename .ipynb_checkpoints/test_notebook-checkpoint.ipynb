{
 "cells": [
  {
   "cell_type": "code",
   "execution_count": 2,
   "metadata": {},
   "outputs": [],
   "source": [
    "from math import factorial"
   ]
  },
  {
   "cell_type": "code",
   "execution_count": 5,
   "metadata": {},
   "outputs": [
    {
     "data": {
      "text/plain": [
       "3265920"
      ]
     },
     "execution_count": 5,
     "metadata": {},
     "output_type": "execute_result"
    }
   ],
   "source": [
    "9*factorial(9)"
   ]
  },
  {
   "cell_type": "code",
   "execution_count": 32,
   "metadata": {},
   "outputs": [
    {
     "name": "stdout",
     "output_type": "stream",
     "text": [
      "40730\n"
     ]
    }
   ],
   "source": [
    "from math import factorial\n",
    "def fact(number):\n",
    "    fact = 0\n",
    "    for digit in list(str(number)):\n",
    "        fact = fact + factorial(int(digit))\n",
    "    return fact\n",
    "\n",
    "summ = 0\n",
    "for n in range(int(3265920/54)):\n",
    "    if fact(n) == n:\n",
    "        summ+=n\n",
    "print(summ-3)"
   ]
  },
  {
   "cell_type": "code",
   "execution_count": 9,
   "metadata": {},
   "outputs": [
    {
     "data": {
      "text/plain": [
       "['1', '2']"
      ]
     },
     "execution_count": 9,
     "metadata": {},
     "output_type": "execute_result"
    }
   ],
   "source": [
    "list(str(12))"
   ]
  },
  {
   "cell_type": "code",
   "execution_count": 14,
   "metadata": {},
   "outputs": [
    {
     "data": {
      "text/plain": [
       "33"
      ]
     },
     "execution_count": 14,
     "metadata": {},
     "output_type": "execute_result"
    }
   ],
   "source": [
    "fact(1234)"
   ]
  },
  {
   "cell_type": "code",
   "execution_count": 19,
   "metadata": {},
   "outputs": [
    {
     "name": "stdout",
     "output_type": "stream",
     "text": [
      "40730\n"
     ]
    }
   ],
   "source": [
    "summ = 0\n",
    "for n in range(3265920):\n",
    "    if fact(n) == n:\n",
    "        summ+=n\n",
    "print(summ-3)"
   ]
  },
  {
   "cell_type": "code",
   "execution_count": 29,
   "metadata": {
    "scrolled": true
   },
   "outputs": [
    {
     "name": "stdout",
     "output_type": "stream",
     "text": [
      "1\n",
      "2\n",
      "145\n",
      "40585\n",
      "40730\n"
     ]
    }
   ],
   "source": [
    "summ = 0\n",
    "for n in range(int(3265920/54)):\n",
    "    if fact(n) == n:\n",
    "        summ+=n\n",
    "        print(n)\n",
    "print(summ-3)"
   ]
  },
  {
   "cell_type": "code",
   "execution_count": 3,
   "metadata": {},
   "outputs": [],
   "source": [
    "from math import sqrt\n",
    "def isprime(num):\n",
    "    \"\"\"\n",
    "    Returns true if num is prime\n",
    "    \"\"\"\n",
    "    if num == 0 or num == 1 or not num % 2:\n",
    "        if num == 2:\n",
    "            return True\n",
    "        return False\n",
    "    for i in range(3, int(sqrt(num)) + 1, 2):\n",
    "        if num % i == 0:\n",
    "            return False\n",
    "    return True"
   ]
  },
  {
   "cell_type": "code",
   "execution_count": 42,
   "metadata": {},
   "outputs": [],
   "source": [
    "import pandas as pd\n",
    "init_num = '3'\n",
    "the_dict = {}\n",
    "dict_2 = {}\n",
    "for m in range(0,10):\n",
    "    nums = []\n",
    "    for n in range(1,10):\n",
    "        new_num = str(n)+str(m)\n",
    "        if isprime(int(new_num)):\n",
    "            nums.append(new_num)\n",
    "\n",
    "    the_dict[m] = len(nums)\n",
    "    if nums:\n",
    "        dict_2[m] = nums\n",
    "df = pd.DataFrame(the_dict, index = [1])    "
   ]
  },
  {
   "cell_type": "code",
   "execution_count": 43,
   "metadata": {},
   "outputs": [
    {
     "data": {
      "text/plain": [
       "{1: ['11', '31', '41', '61', '71'],\n",
       " 3: ['13', '23', '43', '53', '73', '83'],\n",
       " 7: ['17', '37', '47', '67', '97'],\n",
       " 9: ['19', '29', '59', '79', '89']}"
      ]
     },
     "execution_count": 43,
     "metadata": {},
     "output_type": "execute_result"
    }
   ],
   "source": [
    "dict_2"
   ]
  },
  {
   "cell_type": "code",
   "execution_count": 41,
   "metadata": {},
   "outputs": [
    {
     "data": {
      "text/html": [
       "<div>\n",
       "<style scoped>\n",
       "    .dataframe tbody tr th:only-of-type {\n",
       "        vertical-align: middle;\n",
       "    }\n",
       "\n",
       "    .dataframe tbody tr th {\n",
       "        vertical-align: top;\n",
       "    }\n",
       "\n",
       "    .dataframe thead th {\n",
       "        text-align: right;\n",
       "    }\n",
       "</style>\n",
       "<table border=\"1\" class=\"dataframe\">\n",
       "  <thead>\n",
       "    <tr style=\"text-align: right;\">\n",
       "      <th></th>\n",
       "      <th>0</th>\n",
       "      <th>1</th>\n",
       "      <th>2</th>\n",
       "      <th>3</th>\n",
       "      <th>4</th>\n",
       "      <th>5</th>\n",
       "      <th>6</th>\n",
       "      <th>7</th>\n",
       "      <th>8</th>\n",
       "      <th>9</th>\n",
       "    </tr>\n",
       "  </thead>\n",
       "  <tbody>\n",
       "    <tr>\n",
       "      <th>1</th>\n",
       "      <td>0</td>\n",
       "      <td>5</td>\n",
       "      <td>0</td>\n",
       "      <td>6</td>\n",
       "      <td>0</td>\n",
       "      <td>0</td>\n",
       "      <td>0</td>\n",
       "      <td>5</td>\n",
       "      <td>0</td>\n",
       "      <td>5</td>\n",
       "    </tr>\n",
       "  </tbody>\n",
       "</table>\n",
       "</div>"
      ],
      "text/plain": [
       "   0  1  2  3  4  5  6  7  8  9\n",
       "1  0  5  0  6  0  0  0  5  0  5"
      ]
     },
     "execution_count": 41,
     "metadata": {},
     "output_type": "execute_result"
    }
   ],
   "source": [
    "df"
   ]
  },
  {
   "cell_type": "code",
   "execution_count": 32,
   "metadata": {},
   "outputs": [
    {
     "data": {
      "text/plain": [
       "{1: '11,31,41,61,71',\n",
       " 3: '13,23,43,53,73,83',\n",
       " 7: '17,37,47,67,97',\n",
       " 9: '19,29,59,79,89'}"
      ]
     },
     "execution_count": 32,
     "metadata": {},
     "output_type": "execute_result"
    }
   ],
   "source": [
    "the_dict"
   ]
  },
  {
   "cell_type": "code",
   "execution_count": 22,
   "metadata": {},
   "outputs": [
    {
     "data": {
      "text/plain": [
       "['13', '23', '43', '53', '73', '83']"
      ]
     },
     "execution_count": 22,
     "metadata": {},
     "output_type": "execute_result"
    }
   ],
   "source": [
    "the_dict[3]"
   ]
  },
  {
   "cell_type": "code",
   "execution_count": 29,
   "metadata": {},
   "outputs": [
    {
     "data": {
      "text/plain": [
       "'1,2'"
      ]
     },
     "execution_count": 29,
     "metadata": {},
     "output_type": "execute_result"
    }
   ],
   "source": [
    "','.join(['1', '2'])"
   ]
  },
  {
   "cell_type": "code",
   "execution_count": 8,
   "metadata": {},
   "outputs": [
    {
     "name": "stdout",
     "output_type": "stream",
     "text": [
      "6\n"
     ]
    }
   ],
   "source": [
    "class Sample:\n",
    "    def __init__(self):\n",
    "        self.x = 5\n",
    "    def change(self):\n",
    "        self.x = 10\n",
    "        \n",
    "class Derived_sample(Sample):\n",
    "    def change(self):\n",
    "        self.x = self.x +1\n",
    "        return self.x\n",
    "    \n",
    "def main():\n",
    "    obj = Derived_sample()\n",
    "    print(obj.change())\n",
    "main()"
   ]
  },
  {
   "cell_type": "code",
   "execution_count": 33,
   "metadata": {},
   "outputs": [],
   "source": [
    "from math import sqrt\n",
    "def factors(n):\n",
    "    factors = [1]\n",
    "    for m in range(2,int(sqrt(n)+1)):\n",
    "        if n%m==0:\n",
    "            factors.append(m)\n",
    "            if m != int(n/m):\n",
    "                factors.append(int(n/m))\n",
    "    factors.sort()\n",
    "    return factors"
   ]
  },
  {
   "cell_type": "code",
   "execution_count": 37,
   "metadata": {},
   "outputs": [],
   "source": [
    "eight = factors(8)"
   ]
  },
  {
   "cell_type": "code",
   "execution_count": 41,
   "metadata": {},
   "outputs": [],
   "source": [
    "import itertools"
   ]
  },
  {
   "cell_type": "code",
   "execution_count": 51,
   "metadata": {},
   "outputs": [
    {
     "data": {
      "text/plain": [
       "[1, 2, 4]"
      ]
     },
     "execution_count": 51,
     "metadata": {},
     "output_type": "execute_result"
    }
   ],
   "source": [
    "eight"
   ]
  },
  {
   "cell_type": "code",
   "execution_count": 53,
   "metadata": {},
   "outputs": [
    {
     "data": {
      "text/plain": [
       "[(1, 2), (1, 4), (2, 4)]"
      ]
     },
     "execution_count": 53,
     "metadata": {},
     "output_type": "execute_result"
    }
   ],
   "source": [
    "list(itertools.combinations(eight, 2))"
   ]
  },
  {
   "cell_type": "code",
   "execution_count": 47,
   "metadata": {},
   "outputs": [
    {
     "data": {
      "text/plain": [
       "<itertools.combinations at 0x295ed26e7c0>"
      ]
     },
     "execution_count": 47,
     "metadata": {},
     "output_type": "execute_result"
    }
   ],
   "source": [
    "x"
   ]
  },
  {
   "cell_type": "code",
   "execution_count": 35,
   "metadata": {},
   "outputs": [],
   "source": [
    "abundand = []\n",
    "for m in range(2,28123,2):\n",
    "    if sum(factors(m)) > m:\n",
    "        abundand.append(m)\n",
    "        "
   ]
  },
  {
   "cell_type": "code",
   "execution_count": 65,
   "metadata": {},
   "outputs": [
    {
     "data": {
      "text/plain": [
       "6903"
      ]
     },
     "execution_count": 65,
     "metadata": {},
     "output_type": "execute_result"
    }
   ],
   "source": [
    "len(abundand)"
   ]
  },
  {
   "cell_type": "code",
   "execution_count": 55,
   "metadata": {},
   "outputs": [],
   "source": [
    "def isabundant(m):\n",
    "    return sum(factors(m)) > m"
   ]
  },
  {
   "cell_type": "code",
   "execution_count": 54,
   "metadata": {},
   "outputs": [
    {
     "data": {
      "text/plain": [
       "3"
      ]
     },
     "execution_count": 54,
     "metadata": {},
     "output_type": "execute_result"
    }
   ],
   "source": [
    "sum((1,2))"
   ]
  },
  {
   "cell_type": "code",
   "execution_count": 62,
   "metadata": {},
   "outputs": [],
   "source": [
    "double = list(itertools.combinations(abundand, 2))"
   ]
  },
  {
   "cell_type": "code",
   "execution_count": 64,
   "metadata": {},
   "outputs": [
    {
     "data": {
      "text/plain": [
       "23822253"
      ]
     },
     "execution_count": 64,
     "metadata": {},
     "output_type": "execute_result"
    }
   ],
   "source": [
    "len(double)"
   ]
  },
  {
   "cell_type": "code",
   "execution_count": 59,
   "metadata": {},
   "outputs": [
    {
     "data": {
      "text/plain": [
       "True"
      ]
     },
     "execution_count": 59,
     "metadata": {},
     "output_type": "execute_result"
    }
   ],
   "source": [
    "isabundant(24)"
   ]
  },
  {
   "cell_type": "code",
   "execution_count": 60,
   "metadata": {},
   "outputs": [],
   "source": [
    "d_abund = []\n",
    "for tup in list(itertools.combinations(abundand, 2)):\n",
    "    if isabundant(sum(tup)):\n",
    "        d_abund.append(sum(tup))"
   ]
  },
  {
   "cell_type": "code",
   "execution_count": 68,
   "metadata": {},
   "outputs": [
    {
     "data": {
      "text/plain": [
       "56212"
      ]
     },
     "execution_count": 68,
     "metadata": {},
     "output_type": "execute_result"
    }
   ],
   "source": [
    "d_abund"
   ]
  },
  {
   "cell_type": "code",
   "execution_count": 1,
   "metadata": {},
   "outputs": [],
   "source": [
    "import pandas as pd"
   ]
  },
  {
   "cell_type": "code",
   "execution_count": 2,
   "metadata": {},
   "outputs": [],
   "source": [
    "dfs = pd.read_html('https://ticker.finology.in/')"
   ]
  },
  {
   "cell_type": "code",
   "execution_count": 5,
   "metadata": {},
   "outputs": [
    {
     "data": {
      "text/html": [
       "<div>\n",
       "<style scoped>\n",
       "    .dataframe tbody tr th:only-of-type {\n",
       "        vertical-align: middle;\n",
       "    }\n",
       "\n",
       "    .dataframe tbody tr th {\n",
       "        vertical-align: top;\n",
       "    }\n",
       "\n",
       "    .dataframe thead th {\n",
       "        text-align: right;\n",
       "    }\n",
       "</style>\n",
       "<table border=\"1\" class=\"dataframe\">\n",
       "  <thead>\n",
       "    <tr style=\"text-align: right;\">\n",
       "      <th></th>\n",
       "      <th>Company</th>\n",
       "      <th>Last price</th>\n",
       "      <th>Change</th>\n",
       "    </tr>\n",
       "  </thead>\n",
       "  <tbody>\n",
       "    <tr>\n",
       "      <th>0</th>\n",
       "      <td>Datamatic Global Ser</td>\n",
       "      <td>219.75</td>\n",
       "      <td>+19.98%</td>\n",
       "    </tr>\n",
       "    <tr>\n",
       "      <th>1</th>\n",
       "      <td>Sobha</td>\n",
       "      <td>673.50</td>\n",
       "      <td>+19.15%</td>\n",
       "    </tr>\n",
       "    <tr>\n",
       "      <th>2</th>\n",
       "      <td>L&amp;T Technology Serv.</td>\n",
       "      <td>3461.25</td>\n",
       "      <td>+18.9%</td>\n",
       "    </tr>\n",
       "    <tr>\n",
       "      <th>3</th>\n",
       "      <td>Aurionpro Solutions</td>\n",
       "      <td>192.05</td>\n",
       "      <td>+15.03%</td>\n",
       "    </tr>\n",
       "    <tr>\n",
       "      <th>4</th>\n",
       "      <td>EmkayGlobal Finl.Ser</td>\n",
       "      <td>123.25</td>\n",
       "      <td>+13.07%</td>\n",
       "    </tr>\n",
       "    <tr>\n",
       "      <th>5</th>\n",
       "      <td>Happiest Minds Tech.</td>\n",
       "      <td>1476.75</td>\n",
       "      <td>+12.86%</td>\n",
       "    </tr>\n",
       "    <tr>\n",
       "      <th>6</th>\n",
       "      <td>CyberTech Sys. &amp;Soft</td>\n",
       "      <td>188.60</td>\n",
       "      <td>+12.06%</td>\n",
       "    </tr>\n",
       "    <tr>\n",
       "      <th>7</th>\n",
       "      <td>Kellton Tech Solut.</td>\n",
       "      <td>63.35</td>\n",
       "      <td>+11.43%</td>\n",
       "    </tr>\n",
       "    <tr>\n",
       "      <th>8</th>\n",
       "      <td>Inox Wind</td>\n",
       "      <td>108.15</td>\n",
       "      <td>+9.41%</td>\n",
       "    </tr>\n",
       "    <tr>\n",
       "      <th>9</th>\n",
       "      <td>GNA Axles</td>\n",
       "      <td>543.50</td>\n",
       "      <td>+9.13%</td>\n",
       "    </tr>\n",
       "    <tr>\n",
       "      <th>10</th>\n",
       "      <td>JSW Energy</td>\n",
       "      <td>188.90</td>\n",
       "      <td>+9.03%</td>\n",
       "    </tr>\n",
       "    <tr>\n",
       "      <th>11</th>\n",
       "      <td>TARC</td>\n",
       "      <td>49.35</td>\n",
       "      <td>+8.94%</td>\n",
       "    </tr>\n",
       "    <tr>\n",
       "      <th>12</th>\n",
       "      <td>Intellect Design</td>\n",
       "      <td>772.45</td>\n",
       "      <td>+8.7%</td>\n",
       "    </tr>\n",
       "    <tr>\n",
       "      <th>13</th>\n",
       "      <td>Mastek</td>\n",
       "      <td>2435.75</td>\n",
       "      <td>+8.54%</td>\n",
       "    </tr>\n",
       "    <tr>\n",
       "      <th>14</th>\n",
       "      <td>Cyient</td>\n",
       "      <td>946.30</td>\n",
       "      <td>+8.27%</td>\n",
       "    </tr>\n",
       "  </tbody>\n",
       "</table>\n",
       "</div>"
      ],
      "text/plain": [
       "                 Company  Last price   Change\n",
       "0   Datamatic Global Ser      219.75  +19.98%\n",
       "1                  Sobha      673.50  +19.15%\n",
       "2   L&T Technology Serv.     3461.25   +18.9%\n",
       "3    Aurionpro Solutions      192.05  +15.03%\n",
       "4   EmkayGlobal Finl.Ser      123.25  +13.07%\n",
       "5   Happiest Minds Tech.     1476.75  +12.86%\n",
       "6   CyberTech Sys. &Soft      188.60  +12.06%\n",
       "7    Kellton Tech Solut.       63.35  +11.43%\n",
       "8              Inox Wind      108.15   +9.41%\n",
       "9              GNA Axles      543.50   +9.13%\n",
       "10            JSW Energy      188.90   +9.03%\n",
       "11                  TARC       49.35   +8.94%\n",
       "12      Intellect Design      772.45    +8.7%\n",
       "13                Mastek     2435.75   +8.54%\n",
       "14                Cyient      946.30   +8.27%"
      ]
     },
     "execution_count": 5,
     "metadata": {},
     "output_type": "execute_result"
    }
   ],
   "source": [
    "dfs[2]"
   ]
  },
  {
   "cell_type": "code",
   "execution_count": 8,
   "metadata": {},
   "outputs": [
    {
     "name": "stdout",
     "output_type": "stream",
     "text": [
      "Enter the time in seconds: 2\n",
      "00:01\r"
     ]
    },
    {
     "data": {
      "text/html": [
       "<div>\n",
       "<style scoped>\n",
       "    .dataframe tbody tr th:only-of-type {\n",
       "        vertical-align: middle;\n",
       "    }\n",
       "\n",
       "    .dataframe tbody tr th {\n",
       "        vertical-align: top;\n",
       "    }\n",
       "\n",
       "    .dataframe thead th {\n",
       "        text-align: right;\n",
       "    }\n",
       "</style>\n",
       "<table border=\"1\" class=\"dataframe\">\n",
       "  <thead>\n",
       "    <tr style=\"text-align: right;\">\n",
       "      <th></th>\n",
       "      <th>Company</th>\n",
       "      <th>Last price</th>\n",
       "      <th>Change</th>\n",
       "    </tr>\n",
       "  </thead>\n",
       "  <tbody>\n",
       "    <tr>\n",
       "      <th>0</th>\n",
       "      <td>Datamatic Global Ser</td>\n",
       "      <td>219.75</td>\n",
       "      <td>+19.98%</td>\n",
       "    </tr>\n",
       "    <tr>\n",
       "      <th>1</th>\n",
       "      <td>Sobha</td>\n",
       "      <td>673.50</td>\n",
       "      <td>+19.15%</td>\n",
       "    </tr>\n",
       "    <tr>\n",
       "      <th>2</th>\n",
       "      <td>L&amp;T Technology Serv.</td>\n",
       "      <td>3461.25</td>\n",
       "      <td>+18.9%</td>\n",
       "    </tr>\n",
       "    <tr>\n",
       "      <th>3</th>\n",
       "      <td>Aurionpro Solutions</td>\n",
       "      <td>192.05</td>\n",
       "      <td>+15.03%</td>\n",
       "    </tr>\n",
       "    <tr>\n",
       "      <th>4</th>\n",
       "      <td>EmkayGlobal Finl.Ser</td>\n",
       "      <td>123.25</td>\n",
       "      <td>+13.07%</td>\n",
       "    </tr>\n",
       "    <tr>\n",
       "      <th>5</th>\n",
       "      <td>Happiest Minds Tech.</td>\n",
       "      <td>1476.75</td>\n",
       "      <td>+12.86%</td>\n",
       "    </tr>\n",
       "    <tr>\n",
       "      <th>6</th>\n",
       "      <td>CyberTech Sys. &amp;Soft</td>\n",
       "      <td>188.60</td>\n",
       "      <td>+12.06%</td>\n",
       "    </tr>\n",
       "    <tr>\n",
       "      <th>7</th>\n",
       "      <td>Kellton Tech Solut.</td>\n",
       "      <td>63.35</td>\n",
       "      <td>+11.43%</td>\n",
       "    </tr>\n",
       "    <tr>\n",
       "      <th>8</th>\n",
       "      <td>Inox Wind</td>\n",
       "      <td>108.15</td>\n",
       "      <td>+9.41%</td>\n",
       "    </tr>\n",
       "    <tr>\n",
       "      <th>9</th>\n",
       "      <td>GNA Axles</td>\n",
       "      <td>543.50</td>\n",
       "      <td>+9.13%</td>\n",
       "    </tr>\n",
       "    <tr>\n",
       "      <th>10</th>\n",
       "      <td>JSW Energy</td>\n",
       "      <td>188.90</td>\n",
       "      <td>+9.03%</td>\n",
       "    </tr>\n",
       "    <tr>\n",
       "      <th>11</th>\n",
       "      <td>TARC</td>\n",
       "      <td>49.35</td>\n",
       "      <td>+8.94%</td>\n",
       "    </tr>\n",
       "    <tr>\n",
       "      <th>12</th>\n",
       "      <td>Intellect Design</td>\n",
       "      <td>772.45</td>\n",
       "      <td>+8.7%</td>\n",
       "    </tr>\n",
       "    <tr>\n",
       "      <th>13</th>\n",
       "      <td>Mastek</td>\n",
       "      <td>2435.75</td>\n",
       "      <td>+8.54%</td>\n",
       "    </tr>\n",
       "    <tr>\n",
       "      <th>14</th>\n",
       "      <td>Cyient</td>\n",
       "      <td>946.30</td>\n",
       "      <td>+8.27%</td>\n",
       "    </tr>\n",
       "  </tbody>\n",
       "</table>\n",
       "</div>"
      ],
      "text/plain": [
       "                 Company  Last price   Change\n",
       "0   Datamatic Global Ser      219.75  +19.98%\n",
       "1                  Sobha      673.50  +19.15%\n",
       "2   L&T Technology Serv.     3461.25   +18.9%\n",
       "3    Aurionpro Solutions      192.05  +15.03%\n",
       "4   EmkayGlobal Finl.Ser      123.25  +13.07%\n",
       "5   Happiest Minds Tech.     1476.75  +12.86%\n",
       "6   CyberTech Sys. &Soft      188.60  +12.06%\n",
       "7    Kellton Tech Solut.       63.35  +11.43%\n",
       "8              Inox Wind      108.15   +9.41%\n",
       "9              GNA Axles      543.50   +9.13%\n",
       "10            JSW Energy      188.90   +9.03%\n",
       "11                  TARC       49.35   +8.94%\n",
       "12      Intellect Design      772.45    +8.7%\n",
       "13                Mastek     2435.75   +8.54%\n",
       "14                Cyient      946.30   +8.27%"
      ]
     },
     "execution_count": 8,
     "metadata": {},
     "output_type": "execute_result"
    }
   ],
   "source": [
    "# import the time module\n",
    "import time\n",
    "  \n",
    "# define the countdown func.\n",
    "def countdown(t):\n",
    "    \n",
    "    while t:\n",
    "        mins, secs = divmod(t, 60)\n",
    "        timer = '{:02d}:{:02d}'.format(mins, secs)\n",
    "        print(timer, end=\"\\r\")\n",
    "        time.sleep(1)\n",
    "        t -= 1\n",
    "      \n",
    "    return pd.read_html('https://ticker.finology.in/')[2]\n",
    "  \n",
    "  \n",
    "# input time in seconds\n",
    "t = input(\"Enter the time in seconds: \")\n",
    "  \n",
    "# function call\n",
    "countdown(int(t))"
   ]
  },
  {
   "cell_type": "code",
   "execution_count": 20,
   "metadata": {},
   "outputs": [
    {
     "name": "stdout",
     "output_type": "stream",
     "text": [
      "                 Company  Last price   Change\n",
      "0   Datamatic Global Ser      219.75  +19.98%\n",
      "1                  Sobha      673.50  +19.15%\n",
      "2   L&T Technology Serv.     3461.25   +18.9%\n",
      "3    Aurionpro Solutions      192.05  +15.03%\n",
      "4   EmkayGlobal Finl.Ser      123.25  +13.07%\n",
      "5   Happiest Minds Tech.     1476.75  +12.86%\n",
      "6   CyberTech Sys. &Soft      188.60  +12.06%\n",
      "7    Kellton Tech Solut.       63.35  +11.43%\n",
      "8              Inox Wind      108.15   +9.41%\n",
      "9              GNA Axles      543.50   +9.13%\n",
      "10            JSW Energy      188.90   +9.03%\n",
      "11                  TARC       49.35   +8.94%\n",
      "12      Intellect Design      772.45    +8.7%\n",
      "13                Mastek     2435.75   +8.54%\n",
      "14                Cyient      946.30   +8.27%\n"
     ]
    }
   ],
   "source": [
    "if time.localtime().tm_hour >15:\n",
    "    df4 = pd.read_html('https://ticker.finology.in/')[2]\n",
    "    print(df4)"
   ]
  },
  {
   "cell_type": "code",
   "execution_count": null,
   "metadata": {},
   "outputs": [],
   "source": []
  }
 ],
 "metadata": {
  "kernelspec": {
   "display_name": "Python 3",
   "language": "python",
   "name": "python3"
  },
  "language_info": {
   "codemirror_mode": {
    "name": "ipython",
    "version": 3
   },
   "file_extension": ".py",
   "mimetype": "text/x-python",
   "name": "python",
   "nbconvert_exporter": "python",
   "pygments_lexer": "ipython3",
   "version": "3.8.5"
  }
 },
 "nbformat": 4,
 "nbformat_minor": 4
}
