{
 "cells": [
  {
   "cell_type": "code",
   "execution_count": 1,
   "metadata": {},
   "outputs": [],
   "source": [
    "import requests"
   ]
  },
  {
   "cell_type": "code",
   "execution_count": 2,
   "metadata": {},
   "outputs": [],
   "source": [
    "import bs4"
   ]
  },
  {
   "cell_type": "code",
   "execution_count": 10,
   "metadata": {},
   "outputs": [
    {
     "ename": "SyntaxError",
     "evalue": "invalid syntax (<ipython-input-10-8cc41e96652b>, line 18)",
     "output_type": "error",
     "traceback": [
      "\u001b[1;36m  File \u001b[1;32m\"<ipython-input-10-8cc41e96652b>\"\u001b[1;36m, line \u001b[1;32m18\u001b[0m\n\u001b[1;33m    for auth in author\u001b[0m\n\u001b[1;37m                      ^\u001b[0m\n\u001b[1;31mSyntaxError\u001b[0m\u001b[1;31m:\u001b[0m invalid syntax\n"
     ]
    }
   ],
   "source": [
    "url = \"https://quotes.toscrape.com/page/{}/\"\n",
    "\n",
    "n = 1\n",
    "flag = True\n",
    "authors = []\n",
    "while flag:\n",
    "\n",
    "    print(n)\n",
    "    print(url.format(n))\n",
    "   \n",
    "    code = requests.get(url.format(n))\n",
    "    soup = bs4.BeautifulSoup(code.text, 'lxml')\n",
    "\n",
    "\n",
    "    flag = soup.select(\".quote\") != []\n",
    "\n",
    "    author = soup.select(\".author\")\n",
    "    for auth in author\n",
    "        authors.append(author.text)\n",
    "    \n",
    "    n = n + 1\n",
    "\n"
   ]
  },
  {
   "cell_type": "code",
   "execution_count": 104,
   "metadata": {},
   "outputs": [],
   "source": [
    "def validate_pin(pin):\n",
    "    if len(pin) == 4 and pin.isdigit() or len(pin) == 6 and pin.isdigit():\n",
    "        return True\n",
    "    else:\n",
    "        return False"
   ]
  },
  {
   "cell_type": "code",
   "execution_count": 107,
   "metadata": {
    "scrolled": true
   },
   "outputs": [
    {
     "data": {
      "text/plain": [
       "False"
      ]
     },
     "execution_count": 107,
     "metadata": {},
     "output_type": "execute_result"
    }
   ],
   "source": [
    "validate_pin(\"123a\")"
   ]
  },
  {
   "cell_type": "code",
   "execution_count": 97,
   "metadata": {},
   "outputs": [],
   "source": [
    "s = 'a234'"
   ]
  },
  {
   "cell_type": "code",
   "execution_count": 78,
   "metadata": {},
   "outputs": [
    {
     "data": {
      "text/plain": [
       "False"
      ]
     },
     "execution_count": 78,
     "metadata": {},
     "output_type": "execute_result"
    }
   ],
   "source": [
    "s.isdigit()"
   ]
  },
  {
   "cell_type": "code",
   "execution_count": 61,
   "metadata": {},
   "outputs": [
    {
     "data": {
      "text/plain": [
       "str"
      ]
     },
     "execution_count": 61,
     "metadata": {},
     "output_type": "execute_result"
    }
   ],
   "source": [
    "type(s)"
   ]
  },
  {
   "cell_type": "code",
   "execution_count": 1,
   "metadata": {},
   "outputs": [
    {
     "name": "stdout",
     "output_type": "stream",
     "text": [
      "9183\n"
     ]
    }
   ],
   "source": [
    "nums = []\n",
    "for i in range(2,101):\n",
    "    for j in range(2, 101):\n",
    "        nums.append(i**j)\n",
    "print(len(set(nums)))"
   ]
  },
  {
   "cell_type": "code",
   "execution_count": 4,
   "metadata": {},
   "outputs": [],
   "source": [
    "fourth =[]\n",
    "for i in range(0,10):\n",
    "    fourth.append(i**4)\n",
    "    "
   ]
  },
  {
   "cell_type": "code",
   "execution_count": 5,
   "metadata": {},
   "outputs": [
    {
     "data": {
      "text/plain": [
       "[0, 1, 16, 81, 256, 625, 1296, 2401, 4096, 6561]"
      ]
     },
     "execution_count": 5,
     "metadata": {},
     "output_type": "execute_result"
    }
   ],
   "source": [
    "fourth"
   ]
  },
  {
   "cell_type": "code",
   "execution_count": null,
   "metadata": {},
   "outputs": [],
   "source": [
    "for i in range(len(fourth)):\n",
    "    for j in range(len(fourth)):\n",
    "        "
   ]
  },
  {
   "cell_type": "code",
   "execution_count": 32,
   "metadata": {},
   "outputs": [],
   "source": [
    "nums = list(range(10))"
   ]
  },
  {
   "cell_type": "code",
   "execution_count": 35,
   "metadata": {},
   "outputs": [
    {
     "name": "stdout",
     "output_type": "stream",
     "text": [
      "443839\n"
     ]
    }
   ],
   "source": [
    "numbers = []\n",
    "for i in nums:\n",
    "    for j in nums:\n",
    "        for k in nums:\n",
    "            for l in nums:\n",
    "                for m in nums:\n",
    "                    for n in nums:\n",
    "                        if i**5+j**5+k**5 +l**5+m**5+n**5== 100000*i+10000*j+1000*k+100*l+10*m+n:\n",
    "                            numbers.append(100000*i+10000*j+1000*k+100*l+10*m+n)\n",
    "                        \n",
    "print(sum(numbers)-1)"
   ]
  },
  {
   "cell_type": "code",
   "execution_count": 34,
   "metadata": {},
   "outputs": [
    {
     "data": {
      "text/plain": [
       "443839"
      ]
     },
     "execution_count": 34,
     "metadata": {},
     "output_type": "execute_result"
    }
   ],
   "source": [
    "sum(numbers)-1"
   ]
  },
  {
   "cell_type": "code",
   "execution_count": 25,
   "metadata": {},
   "outputs": [
    {
     "name": "stdout",
     "output_type": "stream",
     "text": [
      "[0, 1634, 8208, 9474]\n"
     ]
    }
   ],
   "source": [
    "numbers = []\n",
    "for i in nums:\n",
    "    for j in nums:\n",
    "        for k in nums:\n",
    "            for l in nums:\n",
    "                if i**4+j**4+k**4 +l**4== 1000*i+100*j+10*k+l:\n",
    "                    numbers.append(1000*i+100*j+10*k+l)\n",
    "numbers.remove(1)\n",
    "print(numbers)"
   ]
  },
  {
   "cell_type": "code",
   "execution_count": 26,
   "metadata": {},
   "outputs": [
    {
     "data": {
      "text/plain": [
       "19316"
      ]
     },
     "execution_count": 26,
     "metadata": {},
     "output_type": "execute_result"
    }
   ],
   "source": [
    "sum(numbers)"
   ]
  },
  {
   "cell_type": "code",
   "execution_count": 4,
   "metadata": {},
   "outputs": [
    {
     "ename": "NameError",
     "evalue": "name 'ij' is not defined",
     "output_type": "error",
     "traceback": [
      "\u001b[1;31m---------------------------------------------------------------------------\u001b[0m",
      "\u001b[1;31mNameError\u001b[0m                                 Traceback (most recent call last)",
      "\u001b[1;32m<ipython-input-4-389f1476f76b>\u001b[0m in \u001b[0;36m<module>\u001b[1;34m\u001b[0m\n\u001b[1;32m----> 1\u001b[1;33m \u001b[0mstr\u001b[0m\u001b[1;33m(\u001b[0m\u001b[0mij\u001b[0m\u001b[1;33m)\u001b[0m\u001b[1;33m\u001b[0m\u001b[1;33m\u001b[0m\u001b[0m\n\u001b[0m",
      "\u001b[1;31mNameError\u001b[0m: name 'ij' is not defined"
     ]
    }
   ],
   "source": [
    "str(ij)"
   ]
  },
  {
   "cell_type": "code",
   "execution_count": 36,
   "metadata": {},
   "outputs": [
    {
     "name": "stdout",
     "output_type": "stream",
     "text": [
      "443839\n"
     ]
    }
   ],
   "source": [
    "numbers = []\n",
    "for i in nums:\n",
    "    for j in nums:\n",
    "        for k in nums:\n",
    "            for l in nums:\n",
    "                for m in nums:\n",
    "                    for n in nums:\n",
    "                        if i**5+j**5+k**5 +l**5+m**5+n**5== 100000*i+10000*j+1000*k+100*l+10*m+n:\n",
    "                            numbers.append(100000*i+10000*j+1000*k+100*l+10*m+n)\n",
    "                        \n",
    "print(sum(numbers)-1)"
   ]
  },
  {
   "cell_type": "code",
   "execution_count": 37,
   "metadata": {},
   "outputs": [
    {
     "name": "stdout",
     "output_type": "stream",
     "text": [
      "443839\n"
     ]
    }
   ],
   "source": [
    "\n",
    "def SumFifty(num):\n",
    "\tsnum = str(num)\n",
    "\tarr =[]\n",
    "\tfor s in snum:\n",
    "\t\tarr.append(int(s)**5)\n",
    "\tres = 0\n",
    "\tfor n in arr:\n",
    "\t\tres+= n\n",
    "\treturn res\n",
    "\n",
    "arr = []\n",
    "for i in range(1,300000):\n",
    "\tif SumFifty(i)==i:\n",
    "\t\t\tarr.append(i)\n",
    "\n",
    "valor=0\n",
    "for i in arr:\n",
    "        valor+=i\n",
    "valor -=1\n",
    "print (valor)"
   ]
  },
  {
   "cell_type": "code",
   "execution_count": 38,
   "metadata": {},
   "outputs": [],
   "source": [
    "def SumFifty(num):\n",
    "\tsnum = str(num)\n",
    "\tarr =[]\n",
    "\tfor s in snum:\n",
    "\t\tarr.append(int(s)**5)\n",
    "\tres = 0\n",
    "\tfor n in arr:\n",
    "\t\tres+= n\n",
    "\treturn res"
   ]
  },
  {
   "cell_type": "code",
   "execution_count": 39,
   "metadata": {},
   "outputs": [
    {
     "data": {
      "text/plain": [
       "3125"
      ]
     },
     "execution_count": 39,
     "metadata": {},
     "output_type": "execute_result"
    }
   ],
   "source": [
    "SumFifty(50)"
   ]
  },
  {
   "cell_type": "code",
   "execution_count": null,
   "metadata": {},
   "outputs": [],
   "source": []
  }
 ],
 "metadata": {
  "kernelspec": {
   "display_name": "Python 3",
   "language": "python",
   "name": "python3"
  },
  "language_info": {
   "codemirror_mode": {
    "name": "ipython",
    "version": 3
   },
   "file_extension": ".py",
   "mimetype": "text/x-python",
   "name": "python",
   "nbconvert_exporter": "python",
   "pygments_lexer": "ipython3",
   "version": "3.8.5"
  }
 },
 "nbformat": 4,
 "nbformat_minor": 4
}
