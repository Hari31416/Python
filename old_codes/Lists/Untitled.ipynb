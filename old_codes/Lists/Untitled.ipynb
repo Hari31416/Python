{
 "cells": [
  {
   "cell_type": "code",
   "execution_count": 1,
   "metadata": {},
   "outputs": [
    {
     "name": "stdout",
     "output_type": "stream",
     "text": [
      "['rand', 'perrin', 'mat', 'kal', 'adolin', 'dalinar', 'kvothe']\n",
      "Rand\n",
      "perrin\n",
      "mat\n",
      "kal\n",
      "adolin\n"
     ]
    }
   ],
   "source": [
    "friends = ['rand', 'perrin', 'mat', 'kal', 'adolin', 'dalinar', 'kvothe']\n",
    "print(friends)\n",
    "print(friends[0].title())\n",
    "print(friends[1])\n",
    "print(friends[2])\n",
    "print(friends[3])\n",
    "print(friends[4])"
   ]
  },
  {
   "cell_type": "code",
   "execution_count": 2,
   "metadata": {},
   "outputs": [
    {
     "name": "stdout",
     "output_type": "stream",
     "text": [
      "What type of car would you like to rent? car\n",
      "Let me see if I can find a car\n"
     ]
    }
   ],
   "source": [
    "demand = input(\"What type of car would you like to rent? \")\n",
    "print(f\"Let me see if I can find a {demand}\")\n"
   ]
  },
  {
   "cell_type": "code",
   "execution_count": null,
   "metadata": {},
   "outputs": [],
   "source": []
  }
 ],
 "metadata": {
  "kernelspec": {
   "display_name": "Python 3",
   "language": "python",
   "name": "python3"
  },
  "language_info": {
   "codemirror_mode": {
    "name": "ipython",
    "version": 3
   },
   "file_extension": ".py",
   "mimetype": "text/x-python",
   "name": "python",
   "nbconvert_exporter": "python",
   "pygments_lexer": "ipython3",
   "version": "3.8.5"
  }
 },
 "nbformat": 4,
 "nbformat_minor": 4
}
